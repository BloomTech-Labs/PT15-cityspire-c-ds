{
 "metadata": {
  "language_info": {
   "codemirror_mode": {
    "name": "ipython",
    "version": 3
   },
   "file_extension": ".py",
   "mimetype": "text/x-python",
   "name": "python",
   "nbconvert_exporter": "python",
   "pygments_lexer": "ipython3",
   "version": "3.8.5-final"
  },
  "orig_nbformat": 2,
  "kernelspec": {
   "name": "python3",
   "display_name": "Python 3",
   "language": "python"
  }
 },
 "nbformat": 4,
 "nbformat_minor": 2,
 "cells": [
  {
   "cell_type": "code",
   "execution_count": 581,
   "metadata": {},
   "outputs": [],
   "source": [
    "# Objectives:\n",
    "\n",
    "# FOR RELEASE 1 MVP\n",
    "# - Only 2019 data\n",
    "# - Rename each 2019 data column (population, rent, crime)\n",
    "# - Create column with city, state (abbreviation?)\n",
    "# - Column with state\n",
    "# - Make table for each csv, or just join with pandas\n",
    "# - Join 3 df/tables on city, state (abbreviation?) column\n",
    "# - Check for duplicate cities and drop (already drop with inner join)\n",
    "# - Drop any cities that lack pop, rent, crime data (already drop with inner join, but still drop NaN values and fill later)\n",
    "# - Bin population, rent, and crime data\n",
    "# - Categorize population, rent, and crime data\n",
    "\n",
    "# MACHINE LEARNNG (in upcoming notebook)\n",
    "# - Vectorize data\n",
    "# - Train nearest neighbors model on city/state, pop, rent, and crime data\n",
    "# - Make model into a function\n",
    "# - Use function to make a recommendation of Location based on population, rent, crime rate\n",
    "# - Check to see if recommendation matches well with data. If so:\n",
    "# - Pickle the model and it is ready to be put into API and tested with Web/iOS\n",
    "# - Once these steps are completed and working, we will also incorporate walkability and livability score in Release 2.\n",
    "# - When walkability and livability scores are also included and working well in the model, we welcome and further additions to the model, granted the data is from 2019 (otherwise we can include a disclaimer, or we push all of the data used back to 2018, for example, as long as the data all comes from the same year)\n",
    "\n",
    "# STRETCH GOALS\n",
    "# - add more data that fit team's user stories\n",
    "# - attempt forecasting using data from 2010-2020\n",
    "# - try fb prophet model among other time series models and techniques\n",
    "# - be in conversation with engineers"
   ]
  },
  {
   "cell_type": "code",
   "execution_count": 582,
   "metadata": {},
   "outputs": [],
   "source": [
    "# Imports\n",
    "\n",
    "import pandas as pd\n",
    "import numpy as np"
   ]
  },
  {
   "cell_type": "code",
   "execution_count": 583,
   "metadata": {},
   "outputs": [
    {
     "output_type": "execute_result",
     "data": {
      "text/plain": [
       "                       Location  Census Estimates Base    2010    2011  \\\n",
       "0       Abbeville city, Alabama   2,688          2,705   2,699   2,694   \n",
       "1      Adamsville city, Alabama   4,522          4,506   4,500   4,493   \n",
       "2         Addison town, Alabama     758            754     751     750   \n",
       "3           Akron town, Alabama     356            356     355     347   \n",
       "4       Alabaster city, Alabama  30,352         31,112  31,209  31,375   \n",
       "...                         ...     ...            ...     ...     ...   \n",
       "19497   Wamsutter town, Wyoming     451            451     450     453   \n",
       "19498   Wheatland town, Wyoming   3,627          3,625   3,622   3,620   \n",
       "19499     Worland city, Wyoming   5,487          5,487   5,487   5,436   \n",
       "19500      Wright town, Wyoming   1,807          1,807   1,810   1,812   \n",
       "19501       Yoder town, Wyoming     151            151     152     153   \n",
       "\n",
       "         2012    2013    2014    2015    2016    2017    2018 2019 Population  \n",
       "0       2,643   2,628   2,608   2,600   2,584   2,575   2,571           2,560  \n",
       "1       4,471   4,449   4,420   4,390   4,356   4,327   4,308           4,281  \n",
       "2         743     742     739     734     731     726     723             718  \n",
       "3         347     343     338     339     333     332     331             328  \n",
       "4      31,684  31,980  32,182  32,772  33,017  33,275  33,413          33,487  \n",
       "...       ...     ...     ...     ...     ...     ...     ...             ...  \n",
       "19497     462     487     508     499     493     483     474             467  \n",
       "19498   3,626   3,622   3,642   3,645   3,587   3,549   3,527           3,462  \n",
       "19499   5,419   5,419   5,328   5,332   5,263   5,158   5,071           5,024  \n",
       "19500   1,864   1,860   1,856   1,885   1,857   1,760   1,754           1,753  \n",
       "19501     154     157     159     159     156     156     155             154  \n",
       "\n",
       "[19502 rows x 13 columns]"
      ],
      "text/html": "<div>\n<style scoped>\n    .dataframe tbody tr th:only-of-type {\n        vertical-align: middle;\n    }\n\n    .dataframe tbody tr th {\n        vertical-align: top;\n    }\n\n    .dataframe thead th {\n        text-align: right;\n    }\n</style>\n<table border=\"1\" class=\"dataframe\">\n  <thead>\n    <tr style=\"text-align: right;\">\n      <th></th>\n      <th>Location</th>\n      <th>Census</th>\n      <th>Estimates Base</th>\n      <th>2010</th>\n      <th>2011</th>\n      <th>2012</th>\n      <th>2013</th>\n      <th>2014</th>\n      <th>2015</th>\n      <th>2016</th>\n      <th>2017</th>\n      <th>2018</th>\n      <th>2019 Population</th>\n    </tr>\n  </thead>\n  <tbody>\n    <tr>\n      <th>0</th>\n      <td>Abbeville city, Alabama</td>\n      <td>2,688</td>\n      <td>2,705</td>\n      <td>2,699</td>\n      <td>2,694</td>\n      <td>2,643</td>\n      <td>2,628</td>\n      <td>2,608</td>\n      <td>2,600</td>\n      <td>2,584</td>\n      <td>2,575</td>\n      <td>2,571</td>\n      <td>2,560</td>\n    </tr>\n    <tr>\n      <th>1</th>\n      <td>Adamsville city, Alabama</td>\n      <td>4,522</td>\n      <td>4,506</td>\n      <td>4,500</td>\n      <td>4,493</td>\n      <td>4,471</td>\n      <td>4,449</td>\n      <td>4,420</td>\n      <td>4,390</td>\n      <td>4,356</td>\n      <td>4,327</td>\n      <td>4,308</td>\n      <td>4,281</td>\n    </tr>\n    <tr>\n      <th>2</th>\n      <td>Addison town, Alabama</td>\n      <td>758</td>\n      <td>754</td>\n      <td>751</td>\n      <td>750</td>\n      <td>743</td>\n      <td>742</td>\n      <td>739</td>\n      <td>734</td>\n      <td>731</td>\n      <td>726</td>\n      <td>723</td>\n      <td>718</td>\n    </tr>\n    <tr>\n      <th>3</th>\n      <td>Akron town, Alabama</td>\n      <td>356</td>\n      <td>356</td>\n      <td>355</td>\n      <td>347</td>\n      <td>347</td>\n      <td>343</td>\n      <td>338</td>\n      <td>339</td>\n      <td>333</td>\n      <td>332</td>\n      <td>331</td>\n      <td>328</td>\n    </tr>\n    <tr>\n      <th>4</th>\n      <td>Alabaster city, Alabama</td>\n      <td>30,352</td>\n      <td>31,112</td>\n      <td>31,209</td>\n      <td>31,375</td>\n      <td>31,684</td>\n      <td>31,980</td>\n      <td>32,182</td>\n      <td>32,772</td>\n      <td>33,017</td>\n      <td>33,275</td>\n      <td>33,413</td>\n      <td>33,487</td>\n    </tr>\n    <tr>\n      <th>...</th>\n      <td>...</td>\n      <td>...</td>\n      <td>...</td>\n      <td>...</td>\n      <td>...</td>\n      <td>...</td>\n      <td>...</td>\n      <td>...</td>\n      <td>...</td>\n      <td>...</td>\n      <td>...</td>\n      <td>...</td>\n      <td>...</td>\n    </tr>\n    <tr>\n      <th>19497</th>\n      <td>Wamsutter town, Wyoming</td>\n      <td>451</td>\n      <td>451</td>\n      <td>450</td>\n      <td>453</td>\n      <td>462</td>\n      <td>487</td>\n      <td>508</td>\n      <td>499</td>\n      <td>493</td>\n      <td>483</td>\n      <td>474</td>\n      <td>467</td>\n    </tr>\n    <tr>\n      <th>19498</th>\n      <td>Wheatland town, Wyoming</td>\n      <td>3,627</td>\n      <td>3,625</td>\n      <td>3,622</td>\n      <td>3,620</td>\n      <td>3,626</td>\n      <td>3,622</td>\n      <td>3,642</td>\n      <td>3,645</td>\n      <td>3,587</td>\n      <td>3,549</td>\n      <td>3,527</td>\n      <td>3,462</td>\n    </tr>\n    <tr>\n      <th>19499</th>\n      <td>Worland city, Wyoming</td>\n      <td>5,487</td>\n      <td>5,487</td>\n      <td>5,487</td>\n      <td>5,436</td>\n      <td>5,419</td>\n      <td>5,419</td>\n      <td>5,328</td>\n      <td>5,332</td>\n      <td>5,263</td>\n      <td>5,158</td>\n      <td>5,071</td>\n      <td>5,024</td>\n    </tr>\n    <tr>\n      <th>19500</th>\n      <td>Wright town, Wyoming</td>\n      <td>1,807</td>\n      <td>1,807</td>\n      <td>1,810</td>\n      <td>1,812</td>\n      <td>1,864</td>\n      <td>1,860</td>\n      <td>1,856</td>\n      <td>1,885</td>\n      <td>1,857</td>\n      <td>1,760</td>\n      <td>1,754</td>\n      <td>1,753</td>\n    </tr>\n    <tr>\n      <th>19501</th>\n      <td>Yoder town, Wyoming</td>\n      <td>151</td>\n      <td>151</td>\n      <td>152</td>\n      <td>153</td>\n      <td>154</td>\n      <td>157</td>\n      <td>159</td>\n      <td>159</td>\n      <td>156</td>\n      <td>156</td>\n      <td>155</td>\n      <td>154</td>\n    </tr>\n  </tbody>\n</table>\n<p>19502 rows × 13 columns</p>\n</div>"
     },
     "metadata": {},
     "execution_count": 583
    }
   ],
   "source": [
    "# Load an inspect population data\n",
    "\n",
    "population = pd.read_csv(\"../data/population.csv\")\n",
    "population"
   ]
  },
  {
   "cell_type": "code",
   "execution_count": 584,
   "metadata": {},
   "outputs": [
    {
     "output_type": "execute_result",
     "data": {
      "text/plain": [
       "Location           object\n",
       "Census             object\n",
       "Estimates Base     object\n",
       "2010               object\n",
       "2011               object\n",
       "2012               object\n",
       "2013               object\n",
       "2014               object\n",
       "2015               object\n",
       "2016               object\n",
       "2017               object\n",
       "2018               object\n",
       "2019 Population    object\n",
       "dtype: object"
      ]
     },
     "metadata": {},
     "execution_count": 584
    }
   ],
   "source": [
    "# Check population data types\n",
    "\n",
    "population.dtypes"
   ]
  },
  {
   "cell_type": "code",
   "execution_count": 585,
   "metadata": {},
   "outputs": [
    {
     "output_type": "execute_result",
     "data": {
      "text/plain": [
       "                       Location 2019 Population\n",
       "0       Abbeville city, Alabama           2,560\n",
       "1      Adamsville city, Alabama           4,281\n",
       "2         Addison town, Alabama             718\n",
       "3           Akron town, Alabama             328\n",
       "4       Alabaster city, Alabama          33,487\n",
       "...                         ...             ...\n",
       "19497   Wamsutter town, Wyoming             467\n",
       "19498   Wheatland town, Wyoming           3,462\n",
       "19499     Worland city, Wyoming           5,024\n",
       "19500      Wright town, Wyoming           1,753\n",
       "19501       Yoder town, Wyoming             154\n",
       "\n",
       "[19502 rows x 2 columns]"
      ],
      "text/html": "<div>\n<style scoped>\n    .dataframe tbody tr th:only-of-type {\n        vertical-align: middle;\n    }\n\n    .dataframe tbody tr th {\n        vertical-align: top;\n    }\n\n    .dataframe thead th {\n        text-align: right;\n    }\n</style>\n<table border=\"1\" class=\"dataframe\">\n  <thead>\n    <tr style=\"text-align: right;\">\n      <th></th>\n      <th>Location</th>\n      <th>2019 Population</th>\n    </tr>\n  </thead>\n  <tbody>\n    <tr>\n      <th>0</th>\n      <td>Abbeville city, Alabama</td>\n      <td>2,560</td>\n    </tr>\n    <tr>\n      <th>1</th>\n      <td>Adamsville city, Alabama</td>\n      <td>4,281</td>\n    </tr>\n    <tr>\n      <th>2</th>\n      <td>Addison town, Alabama</td>\n      <td>718</td>\n    </tr>\n    <tr>\n      <th>3</th>\n      <td>Akron town, Alabama</td>\n      <td>328</td>\n    </tr>\n    <tr>\n      <th>4</th>\n      <td>Alabaster city, Alabama</td>\n      <td>33,487</td>\n    </tr>\n    <tr>\n      <th>...</th>\n      <td>...</td>\n      <td>...</td>\n    </tr>\n    <tr>\n      <th>19497</th>\n      <td>Wamsutter town, Wyoming</td>\n      <td>467</td>\n    </tr>\n    <tr>\n      <th>19498</th>\n      <td>Wheatland town, Wyoming</td>\n      <td>3,462</td>\n    </tr>\n    <tr>\n      <th>19499</th>\n      <td>Worland city, Wyoming</td>\n      <td>5,024</td>\n    </tr>\n    <tr>\n      <th>19500</th>\n      <td>Wright town, Wyoming</td>\n      <td>1,753</td>\n    </tr>\n    <tr>\n      <th>19501</th>\n      <td>Yoder town, Wyoming</td>\n      <td>154</td>\n    </tr>\n  </tbody>\n</table>\n<p>19502 rows × 2 columns</p>\n</div>"
     },
     "metadata": {},
     "execution_count": 585
    }
   ],
   "source": [
    "# Drop columns from population data (or can create a copy with just location and 2019 population data)\n",
    "\n",
    "population = population.drop(['Census', 'Estimates Base', '2010', '2011', '2012', '2013', '2014', '2015', '2016', '2017', '2018'], axis=1)\n",
    "population\n",
    "\n",
    "# In Location column, after the name of the town or city it contains \"town\" or \"city\". Wrangle this out."
   ]
  },
  {
   "cell_type": "code",
   "execution_count": 586,
   "metadata": {},
   "outputs": [
    {
     "output_type": "execute_result",
     "data": {
      "text/plain": [
       "                       Location 2019 Population Town or City\n",
       "0       Abbeville city, Alabama           2,560         city\n",
       "1      Adamsville city, Alabama           4,281         city\n",
       "2         Addison town, Alabama             718         town\n",
       "3           Akron town, Alabama             328         town\n",
       "4       Alabaster city, Alabama          33,487         city\n",
       "...                         ...             ...          ...\n",
       "19497   Wamsutter town, Wyoming             467         town\n",
       "19498   Wheatland town, Wyoming           3,462         town\n",
       "19499     Worland city, Wyoming           5,024         city\n",
       "19500      Wright town, Wyoming           1,753         town\n",
       "19501       Yoder town, Wyoming             154         town\n",
       "\n",
       "[19502 rows x 3 columns]"
      ],
      "text/html": "<div>\n<style scoped>\n    .dataframe tbody tr th:only-of-type {\n        vertical-align: middle;\n    }\n\n    .dataframe tbody tr th {\n        vertical-align: top;\n    }\n\n    .dataframe thead th {\n        text-align: right;\n    }\n</style>\n<table border=\"1\" class=\"dataframe\">\n  <thead>\n    <tr style=\"text-align: right;\">\n      <th></th>\n      <th>Location</th>\n      <th>2019 Population</th>\n      <th>Town or City</th>\n    </tr>\n  </thead>\n  <tbody>\n    <tr>\n      <th>0</th>\n      <td>Abbeville city, Alabama</td>\n      <td>2,560</td>\n      <td>city</td>\n    </tr>\n    <tr>\n      <th>1</th>\n      <td>Adamsville city, Alabama</td>\n      <td>4,281</td>\n      <td>city</td>\n    </tr>\n    <tr>\n      <th>2</th>\n      <td>Addison town, Alabama</td>\n      <td>718</td>\n      <td>town</td>\n    </tr>\n    <tr>\n      <th>3</th>\n      <td>Akron town, Alabama</td>\n      <td>328</td>\n      <td>town</td>\n    </tr>\n    <tr>\n      <th>4</th>\n      <td>Alabaster city, Alabama</td>\n      <td>33,487</td>\n      <td>city</td>\n    </tr>\n    <tr>\n      <th>...</th>\n      <td>...</td>\n      <td>...</td>\n      <td>...</td>\n    </tr>\n    <tr>\n      <th>19497</th>\n      <td>Wamsutter town, Wyoming</td>\n      <td>467</td>\n      <td>town</td>\n    </tr>\n    <tr>\n      <th>19498</th>\n      <td>Wheatland town, Wyoming</td>\n      <td>3,462</td>\n      <td>town</td>\n    </tr>\n    <tr>\n      <th>19499</th>\n      <td>Worland city, Wyoming</td>\n      <td>5,024</td>\n      <td>city</td>\n    </tr>\n    <tr>\n      <th>19500</th>\n      <td>Wright town, Wyoming</td>\n      <td>1,753</td>\n      <td>town</td>\n    </tr>\n    <tr>\n      <th>19501</th>\n      <td>Yoder town, Wyoming</td>\n      <td>154</td>\n      <td>town</td>\n    </tr>\n  </tbody>\n</table>\n<p>19502 rows × 3 columns</p>\n</div>"
     },
     "metadata": {},
     "execution_count": 586
    }
   ],
   "source": [
    "# Create new column to specify if Location is city or town\n",
    "\n",
    "population[\"Town or City\"] = population['Location'].str.extract(\"(city|town)\")\n",
    "population"
   ]
  },
  {
   "cell_type": "code",
   "execution_count": 587,
   "metadata": {},
   "outputs": [
    {
     "output_type": "execute_result",
     "data": {
      "text/plain": [
       "                  Location 2019 Population Town or City\n",
       "0       Abbeville, Alabama           2,560         city\n",
       "1      Adamsville, Alabama           4,281         city\n",
       "2         Addison, Alabama             718         town\n",
       "3           Akron, Alabama             328         town\n",
       "4       Alabaster, Alabama          33,487         city\n",
       "...                    ...             ...          ...\n",
       "19497   Wamsutter, Wyoming             467         town\n",
       "19498   Wheatland, Wyoming           3,462         town\n",
       "19499     Worland, Wyoming           5,024         city\n",
       "19500      Wright, Wyoming           1,753         town\n",
       "19501       Yoder, Wyoming             154         town\n",
       "\n",
       "[19502 rows x 3 columns]"
      ],
      "text/html": "<div>\n<style scoped>\n    .dataframe tbody tr th:only-of-type {\n        vertical-align: middle;\n    }\n\n    .dataframe tbody tr th {\n        vertical-align: top;\n    }\n\n    .dataframe thead th {\n        text-align: right;\n    }\n</style>\n<table border=\"1\" class=\"dataframe\">\n  <thead>\n    <tr style=\"text-align: right;\">\n      <th></th>\n      <th>Location</th>\n      <th>2019 Population</th>\n      <th>Town or City</th>\n    </tr>\n  </thead>\n  <tbody>\n    <tr>\n      <th>0</th>\n      <td>Abbeville, Alabama</td>\n      <td>2,560</td>\n      <td>city</td>\n    </tr>\n    <tr>\n      <th>1</th>\n      <td>Adamsville, Alabama</td>\n      <td>4,281</td>\n      <td>city</td>\n    </tr>\n    <tr>\n      <th>2</th>\n      <td>Addison, Alabama</td>\n      <td>718</td>\n      <td>town</td>\n    </tr>\n    <tr>\n      <th>3</th>\n      <td>Akron, Alabama</td>\n      <td>328</td>\n      <td>town</td>\n    </tr>\n    <tr>\n      <th>4</th>\n      <td>Alabaster, Alabama</td>\n      <td>33,487</td>\n      <td>city</td>\n    </tr>\n    <tr>\n      <th>...</th>\n      <td>...</td>\n      <td>...</td>\n      <td>...</td>\n    </tr>\n    <tr>\n      <th>19497</th>\n      <td>Wamsutter, Wyoming</td>\n      <td>467</td>\n      <td>town</td>\n    </tr>\n    <tr>\n      <th>19498</th>\n      <td>Wheatland, Wyoming</td>\n      <td>3,462</td>\n      <td>town</td>\n    </tr>\n    <tr>\n      <th>19499</th>\n      <td>Worland, Wyoming</td>\n      <td>5,024</td>\n      <td>city</td>\n    </tr>\n    <tr>\n      <th>19500</th>\n      <td>Wright, Wyoming</td>\n      <td>1,753</td>\n      <td>town</td>\n    </tr>\n    <tr>\n      <th>19501</th>\n      <td>Yoder, Wyoming</td>\n      <td>154</td>\n      <td>town</td>\n    </tr>\n  </tbody>\n</table>\n<p>19502 rows × 3 columns</p>\n</div>"
     },
     "metadata": {},
     "execution_count": 587
    }
   ],
   "source": [
    "# Remove city and town strings from Location column so that the column can be used to join with other data\n",
    "\n",
    "population[\"Location\"] = population['Location'].str.replace(' city', '', regex=False)\n",
    "population[\"Location\"] = population['Location'].str.replace(' town', '', regex=False)\n",
    "\n",
    "population\n",
    "\n",
    "# Consider adding just a State column, having City and State columns separate"
   ]
  },
  {
   "cell_type": "code",
   "execution_count": 588,
   "metadata": {},
   "outputs": [
    {
     "output_type": "execute_result",
     "data": {
      "text/plain": [
       "19491"
      ]
     },
     "metadata": {},
     "execution_count": 588
    }
   ],
   "source": [
    "# Unique number of population Locations count\n",
    "\n",
    "population['Location'].nunique()"
   ]
  },
  {
   "cell_type": "code",
   "execution_count": 589,
   "metadata": {},
   "outputs": [
    {
     "output_type": "execute_result",
     "data": {
      "text/plain": [
       "      RegionID  RegionName  SizeRank               MsaName  2014-01  2014-02  \\\n",
       "0        61639       10025         1          New York, NY   3012.0   3025.0   \n",
       "1        84654       60657         2           Chicago, IL   1588.0   1594.0   \n",
       "2        61637       10023         3          New York, NY   3114.0   3123.0   \n",
       "3        91982       77494         4           Houston, TX   1759.0   1763.0   \n",
       "4        84616       60614         5           Chicago, IL   1740.0   1745.0   \n",
       "...        ...         ...       ...                   ...      ...      ...   \n",
       "3185     62321       11976      9253          New York, NY  63788.0      NaN   \n",
       "3186     58624        2110      9469            Boston, MA   4113.0   4105.0   \n",
       "3187     66128       20004      9592        Washington, DC      NaN      NaN   \n",
       "3188    399647       80951      9634  Colorado Springs, CO      NaN   1252.0   \n",
       "3189     62311       11964     10014          New York, NY      NaN      NaN   \n",
       "\n",
       "      2014-03  2014-04  2014-05  2014-06  ...  2020-02  2020-03  2020-04  \\\n",
       "0      3037.0   3049.0   3062.0   3074.0  ...   3268.0   3234.0   3199.0   \n",
       "1      1599.0   1605.0   1610.0   1615.0  ...   1834.0   1829.0   1824.0   \n",
       "2      3131.0   3140.0   3148.0   3156.0  ...   3307.0   3275.0   3244.0   \n",
       "3      1766.0   1770.0   1773.0   1776.0  ...   1775.0   1777.0   1780.0   \n",
       "4      1750.0   1755.0   1759.0   1764.0  ...   2023.0   2017.0   2010.0   \n",
       "...       ...      ...      ...      ...  ...      ...      ...      ...   \n",
       "3185      NaN      NaN      NaN      NaN  ...  49083.0  48860.0  48636.0   \n",
       "3186   4097.0   4089.0      NaN   4077.0  ...   4510.0      NaN      NaN   \n",
       "3187   2295.0   2304.0      NaN   2323.0  ...   2496.0   2494.0   2492.0   \n",
       "3188   1256.0   1260.0   1265.0   1269.0  ...      NaN   1656.0   1662.0   \n",
       "3189      NaN      NaN      NaN      NaN  ...      NaN  14504.0      NaN   \n",
       "\n",
       "      2020-05  2020-06  2020-07  2020-08  2020-09  2020-10  2020-11  \n",
       "0      3162.0   3125.0   3088.0   3048.0   3008.0   2968.0   2925.0  \n",
       "1      1818.0   1813.0   1807.0   1801.0   1795.0   1788.0   1781.0  \n",
       "2      3211.0   3178.0   3144.0   3108.0   3072.0   3035.0   2997.0  \n",
       "3      1782.0   1785.0   1788.0   1791.0   1794.0   1796.0   1799.0  \n",
       "4      2003.0   1995.0   1988.0   1979.0   1970.0   1962.0   1952.0  \n",
       "...       ...      ...      ...      ...      ...      ...      ...  \n",
       "3185      NaN      NaN      NaN      NaN      NaN      NaN  47911.0  \n",
       "3186   4350.0   4294.0   4239.0   4180.0   4121.0   4062.0   4002.0  \n",
       "3187   2490.0   2487.0   2484.0   2481.0   2478.0   2475.0   2471.0  \n",
       "3188   1669.0   1676.0   1683.0   1690.0   1697.0   1704.0   1712.0  \n",
       "3189  14463.0  14436.0      NaN      NaN      NaN      NaN      NaN  \n",
       "\n",
       "[3190 rows x 87 columns]"
      ],
      "text/html": "<div>\n<style scoped>\n    .dataframe tbody tr th:only-of-type {\n        vertical-align: middle;\n    }\n\n    .dataframe tbody tr th {\n        vertical-align: top;\n    }\n\n    .dataframe thead th {\n        text-align: right;\n    }\n</style>\n<table border=\"1\" class=\"dataframe\">\n  <thead>\n    <tr style=\"text-align: right;\">\n      <th></th>\n      <th>RegionID</th>\n      <th>RegionName</th>\n      <th>SizeRank</th>\n      <th>MsaName</th>\n      <th>2014-01</th>\n      <th>2014-02</th>\n      <th>2014-03</th>\n      <th>2014-04</th>\n      <th>2014-05</th>\n      <th>2014-06</th>\n      <th>...</th>\n      <th>2020-02</th>\n      <th>2020-03</th>\n      <th>2020-04</th>\n      <th>2020-05</th>\n      <th>2020-06</th>\n      <th>2020-07</th>\n      <th>2020-08</th>\n      <th>2020-09</th>\n      <th>2020-10</th>\n      <th>2020-11</th>\n    </tr>\n  </thead>\n  <tbody>\n    <tr>\n      <th>0</th>\n      <td>61639</td>\n      <td>10025</td>\n      <td>1</td>\n      <td>New York, NY</td>\n      <td>3012.0</td>\n      <td>3025.0</td>\n      <td>3037.0</td>\n      <td>3049.0</td>\n      <td>3062.0</td>\n      <td>3074.0</td>\n      <td>...</td>\n      <td>3268.0</td>\n      <td>3234.0</td>\n      <td>3199.0</td>\n      <td>3162.0</td>\n      <td>3125.0</td>\n      <td>3088.0</td>\n      <td>3048.0</td>\n      <td>3008.0</td>\n      <td>2968.0</td>\n      <td>2925.0</td>\n    </tr>\n    <tr>\n      <th>1</th>\n      <td>84654</td>\n      <td>60657</td>\n      <td>2</td>\n      <td>Chicago, IL</td>\n      <td>1588.0</td>\n      <td>1594.0</td>\n      <td>1599.0</td>\n      <td>1605.0</td>\n      <td>1610.0</td>\n      <td>1615.0</td>\n      <td>...</td>\n      <td>1834.0</td>\n      <td>1829.0</td>\n      <td>1824.0</td>\n      <td>1818.0</td>\n      <td>1813.0</td>\n      <td>1807.0</td>\n      <td>1801.0</td>\n      <td>1795.0</td>\n      <td>1788.0</td>\n      <td>1781.0</td>\n    </tr>\n    <tr>\n      <th>2</th>\n      <td>61637</td>\n      <td>10023</td>\n      <td>3</td>\n      <td>New York, NY</td>\n      <td>3114.0</td>\n      <td>3123.0</td>\n      <td>3131.0</td>\n      <td>3140.0</td>\n      <td>3148.0</td>\n      <td>3156.0</td>\n      <td>...</td>\n      <td>3307.0</td>\n      <td>3275.0</td>\n      <td>3244.0</td>\n      <td>3211.0</td>\n      <td>3178.0</td>\n      <td>3144.0</td>\n      <td>3108.0</td>\n      <td>3072.0</td>\n      <td>3035.0</td>\n      <td>2997.0</td>\n    </tr>\n    <tr>\n      <th>3</th>\n      <td>91982</td>\n      <td>77494</td>\n      <td>4</td>\n      <td>Houston, TX</td>\n      <td>1759.0</td>\n      <td>1763.0</td>\n      <td>1766.0</td>\n      <td>1770.0</td>\n      <td>1773.0</td>\n      <td>1776.0</td>\n      <td>...</td>\n      <td>1775.0</td>\n      <td>1777.0</td>\n      <td>1780.0</td>\n      <td>1782.0</td>\n      <td>1785.0</td>\n      <td>1788.0</td>\n      <td>1791.0</td>\n      <td>1794.0</td>\n      <td>1796.0</td>\n      <td>1799.0</td>\n    </tr>\n    <tr>\n      <th>4</th>\n      <td>84616</td>\n      <td>60614</td>\n      <td>5</td>\n      <td>Chicago, IL</td>\n      <td>1740.0</td>\n      <td>1745.0</td>\n      <td>1750.0</td>\n      <td>1755.0</td>\n      <td>1759.0</td>\n      <td>1764.0</td>\n      <td>...</td>\n      <td>2023.0</td>\n      <td>2017.0</td>\n      <td>2010.0</td>\n      <td>2003.0</td>\n      <td>1995.0</td>\n      <td>1988.0</td>\n      <td>1979.0</td>\n      <td>1970.0</td>\n      <td>1962.0</td>\n      <td>1952.0</td>\n    </tr>\n    <tr>\n      <th>...</th>\n      <td>...</td>\n      <td>...</td>\n      <td>...</td>\n      <td>...</td>\n      <td>...</td>\n      <td>...</td>\n      <td>...</td>\n      <td>...</td>\n      <td>...</td>\n      <td>...</td>\n      <td>...</td>\n      <td>...</td>\n      <td>...</td>\n      <td>...</td>\n      <td>...</td>\n      <td>...</td>\n      <td>...</td>\n      <td>...</td>\n      <td>...</td>\n      <td>...</td>\n      <td>...</td>\n    </tr>\n    <tr>\n      <th>3185</th>\n      <td>62321</td>\n      <td>11976</td>\n      <td>9253</td>\n      <td>New York, NY</td>\n      <td>63788.0</td>\n      <td>NaN</td>\n      <td>NaN</td>\n      <td>NaN</td>\n      <td>NaN</td>\n      <td>NaN</td>\n      <td>...</td>\n      <td>49083.0</td>\n      <td>48860.0</td>\n      <td>48636.0</td>\n      <td>NaN</td>\n      <td>NaN</td>\n      <td>NaN</td>\n      <td>NaN</td>\n      <td>NaN</td>\n      <td>NaN</td>\n      <td>47911.0</td>\n    </tr>\n    <tr>\n      <th>3186</th>\n      <td>58624</td>\n      <td>2110</td>\n      <td>9469</td>\n      <td>Boston, MA</td>\n      <td>4113.0</td>\n      <td>4105.0</td>\n      <td>4097.0</td>\n      <td>4089.0</td>\n      <td>NaN</td>\n      <td>4077.0</td>\n      <td>...</td>\n      <td>4510.0</td>\n      <td>NaN</td>\n      <td>NaN</td>\n      <td>4350.0</td>\n      <td>4294.0</td>\n      <td>4239.0</td>\n      <td>4180.0</td>\n      <td>4121.0</td>\n      <td>4062.0</td>\n      <td>4002.0</td>\n    </tr>\n    <tr>\n      <th>3187</th>\n      <td>66128</td>\n      <td>20004</td>\n      <td>9592</td>\n      <td>Washington, DC</td>\n      <td>NaN</td>\n      <td>NaN</td>\n      <td>2295.0</td>\n      <td>2304.0</td>\n      <td>NaN</td>\n      <td>2323.0</td>\n      <td>...</td>\n      <td>2496.0</td>\n      <td>2494.0</td>\n      <td>2492.0</td>\n      <td>2490.0</td>\n      <td>2487.0</td>\n      <td>2484.0</td>\n      <td>2481.0</td>\n      <td>2478.0</td>\n      <td>2475.0</td>\n      <td>2471.0</td>\n    </tr>\n    <tr>\n      <th>3188</th>\n      <td>399647</td>\n      <td>80951</td>\n      <td>9634</td>\n      <td>Colorado Springs, CO</td>\n      <td>NaN</td>\n      <td>1252.0</td>\n      <td>1256.0</td>\n      <td>1260.0</td>\n      <td>1265.0</td>\n      <td>1269.0</td>\n      <td>...</td>\n      <td>NaN</td>\n      <td>1656.0</td>\n      <td>1662.0</td>\n      <td>1669.0</td>\n      <td>1676.0</td>\n      <td>1683.0</td>\n      <td>1690.0</td>\n      <td>1697.0</td>\n      <td>1704.0</td>\n      <td>1712.0</td>\n    </tr>\n    <tr>\n      <th>3189</th>\n      <td>62311</td>\n      <td>11964</td>\n      <td>10014</td>\n      <td>New York, NY</td>\n      <td>NaN</td>\n      <td>NaN</td>\n      <td>NaN</td>\n      <td>NaN</td>\n      <td>NaN</td>\n      <td>NaN</td>\n      <td>...</td>\n      <td>NaN</td>\n      <td>14504.0</td>\n      <td>NaN</td>\n      <td>14463.0</td>\n      <td>14436.0</td>\n      <td>NaN</td>\n      <td>NaN</td>\n      <td>NaN</td>\n      <td>NaN</td>\n      <td>NaN</td>\n    </tr>\n  </tbody>\n</table>\n<p>3190 rows × 87 columns</p>\n</div>"
     },
     "metadata": {},
     "execution_count": 589
    }
   ],
   "source": [
    "# Load and inspect rental rates data\n",
    "\n",
    "rent = pd.read_csv(\"../data/rental_rates.csv\")\n",
    "rent"
   ]
  },
  {
   "cell_type": "code",
   "execution_count": 590,
   "metadata": {},
   "outputs": [
    {
     "output_type": "execute_result",
     "data": {
      "text/plain": [
       "RegionID        int64\n",
       "RegionName      int64\n",
       "SizeRank        int64\n",
       "MsaName        object\n",
       "2014-01       float64\n",
       "               ...   \n",
       "2020-07       float64\n",
       "2020-08       float64\n",
       "2020-09       float64\n",
       "2020-10       float64\n",
       "2020-11       float64\n",
       "Length: 87, dtype: object"
      ]
     },
     "metadata": {},
     "execution_count": 590
    }
   ],
   "source": [
    "# Check rent data types\n",
    "\n",
    "rent.dtypes"
   ]
  },
  {
   "cell_type": "code",
   "execution_count": 591,
   "metadata": {},
   "outputs": [],
   "source": [
    "# Drop all columns you dont want, or just use code below to make new df\n",
    "\n",
    "#rent = rent.drop(['RegionID', 'RegionName', 'SizeRank', '2014-01', '2014-02', '2014-03', '2014-04', ...], axis=1)"
   ]
  },
  {
   "cell_type": "code",
   "execution_count": 592,
   "metadata": {},
   "outputs": [
    {
     "output_type": "execute_result",
     "data": {
      "text/plain": [
       "                  Location  2019 Rental Rates\n",
       "0             New York, NY             3311.0\n",
       "1              Chicago, IL             1838.0\n",
       "2             New York, NY             3344.0\n",
       "3              Houston, TX             1772.0\n",
       "4              Chicago, IL             2028.0\n",
       "...                    ...                ...\n",
       "3185          New York, NY            50175.0\n",
       "3186            Boston, MA             4585.0\n",
       "3187        Washington, DC             2495.0\n",
       "3188  Colorado Springs, CO             1640.0\n",
       "3189          New York, NY            14553.0\n",
       "\n",
       "[3190 rows x 2 columns]"
      ],
      "text/html": "<div>\n<style scoped>\n    .dataframe tbody tr th:only-of-type {\n        vertical-align: middle;\n    }\n\n    .dataframe tbody tr th {\n        vertical-align: top;\n    }\n\n    .dataframe thead th {\n        text-align: right;\n    }\n</style>\n<table border=\"1\" class=\"dataframe\">\n  <thead>\n    <tr style=\"text-align: right;\">\n      <th></th>\n      <th>Location</th>\n      <th>2019 Rental Rates</th>\n    </tr>\n  </thead>\n  <tbody>\n    <tr>\n      <th>0</th>\n      <td>New York, NY</td>\n      <td>3311.0</td>\n    </tr>\n    <tr>\n      <th>1</th>\n      <td>Chicago, IL</td>\n      <td>1838.0</td>\n    </tr>\n    <tr>\n      <th>2</th>\n      <td>New York, NY</td>\n      <td>3344.0</td>\n    </tr>\n    <tr>\n      <th>3</th>\n      <td>Houston, TX</td>\n      <td>1772.0</td>\n    </tr>\n    <tr>\n      <th>4</th>\n      <td>Chicago, IL</td>\n      <td>2028.0</td>\n    </tr>\n    <tr>\n      <th>...</th>\n      <td>...</td>\n      <td>...</td>\n    </tr>\n    <tr>\n      <th>3185</th>\n      <td>New York, NY</td>\n      <td>50175.0</td>\n    </tr>\n    <tr>\n      <th>3186</th>\n      <td>Boston, MA</td>\n      <td>4585.0</td>\n    </tr>\n    <tr>\n      <th>3187</th>\n      <td>Washington, DC</td>\n      <td>2495.0</td>\n    </tr>\n    <tr>\n      <th>3188</th>\n      <td>Colorado Springs, CO</td>\n      <td>1640.0</td>\n    </tr>\n    <tr>\n      <th>3189</th>\n      <td>New York, NY</td>\n      <td>14553.0</td>\n    </tr>\n  </tbody>\n</table>\n<p>3190 rows × 2 columns</p>\n</div>"
     },
     "metadata": {},
     "execution_count": 592
    }
   ],
   "source": [
    "# Create copy of rental rates dataframe and change column names\n",
    "\n",
    "rent = rent[['MsaName','2019-12']].copy()\n",
    "rent = rent.rename(columns = {\"MsaName\":\"Location\"})\n",
    "rent = rent.rename(columns = {\"2019-12\":\"2019 Rental Rates\"})\n",
    "rent"
   ]
  },
  {
   "cell_type": "code",
   "execution_count": 593,
   "metadata": {},
   "outputs": [
    {
     "output_type": "execute_result",
     "data": {
      "text/plain": [
       "                              Location  2019 Rental Rates\n",
       "0                   New York, New York             3311.0\n",
       "1                    Chicago, Illinois             1838.0\n",
       "2                   New York, New York             3344.0\n",
       "3                       Houston, Texas             1772.0\n",
       "4                    Chicago, Illinois             2028.0\n",
       "...                                ...                ...\n",
       "3185                New York, New York            50175.0\n",
       "3186             Boston, Massachusetts             4585.0\n",
       "3187  Washington, District of Columbia             2495.0\n",
       "3188        Colorado Springs, Colorado             1640.0\n",
       "3189                New York, New York            14553.0\n",
       "\n",
       "[3190 rows x 2 columns]"
      ],
      "text/html": "<div>\n<style scoped>\n    .dataframe tbody tr th:only-of-type {\n        vertical-align: middle;\n    }\n\n    .dataframe tbody tr th {\n        vertical-align: top;\n    }\n\n    .dataframe thead th {\n        text-align: right;\n    }\n</style>\n<table border=\"1\" class=\"dataframe\">\n  <thead>\n    <tr style=\"text-align: right;\">\n      <th></th>\n      <th>Location</th>\n      <th>2019 Rental Rates</th>\n    </tr>\n  </thead>\n  <tbody>\n    <tr>\n      <th>0</th>\n      <td>New York, New York</td>\n      <td>3311.0</td>\n    </tr>\n    <tr>\n      <th>1</th>\n      <td>Chicago, Illinois</td>\n      <td>1838.0</td>\n    </tr>\n    <tr>\n      <th>2</th>\n      <td>New York, New York</td>\n      <td>3344.0</td>\n    </tr>\n    <tr>\n      <th>3</th>\n      <td>Houston, Texas</td>\n      <td>1772.0</td>\n    </tr>\n    <tr>\n      <th>4</th>\n      <td>Chicago, Illinois</td>\n      <td>2028.0</td>\n    </tr>\n    <tr>\n      <th>...</th>\n      <td>...</td>\n      <td>...</td>\n    </tr>\n    <tr>\n      <th>3185</th>\n      <td>New York, New York</td>\n      <td>50175.0</td>\n    </tr>\n    <tr>\n      <th>3186</th>\n      <td>Boston, Massachusetts</td>\n      <td>4585.0</td>\n    </tr>\n    <tr>\n      <th>3187</th>\n      <td>Washington, District of Columbia</td>\n      <td>2495.0</td>\n    </tr>\n    <tr>\n      <th>3188</th>\n      <td>Colorado Springs, Colorado</td>\n      <td>1640.0</td>\n    </tr>\n    <tr>\n      <th>3189</th>\n      <td>New York, New York</td>\n      <td>14553.0</td>\n    </tr>\n  </tbody>\n</table>\n<p>3190 rows × 2 columns</p>\n</div>"
     },
     "metadata": {},
     "execution_count": 593
    }
   ],
   "source": [
    "# Replace state abbreviations with full state names\n",
    "\n",
    "rent[\"Location\"] = rent['Location'].str.replace('AK', 'Alaska', regex=False)\n",
    "rent[\"Location\"] = rent['Location'].str.replace('AL', 'Alabama', regex=False)\n",
    "rent[\"Location\"] = rent['Location'].str.replace('AR', 'Arkansas', regex=False)\n",
    "rent[\"Location\"] = rent['Location'].str.replace('AS', 'American Samoa', regex=False)\n",
    "rent[\"Location\"] = rent['Location'].str.replace('AZ', 'Arizona', regex=False)\n",
    "rent[\"Location\"] = rent['Location'].str.replace('CA', 'California', regex=False)\n",
    "rent[\"Location\"] = rent['Location'].str.replace('CO', 'Colorado', regex=False)\n",
    "rent[\"Location\"] = rent['Location'].str.replace('CT', 'Connecticut', regex=False)\n",
    "rent[\"Location\"] = rent['Location'].str.replace('DC', 'District of Columbia', regex=False)\n",
    "rent[\"Location\"] = rent['Location'].str.replace('DE', 'Delaware', regex=False)\n",
    "rent[\"Location\"] = rent['Location'].str.replace('FL', 'Florida', regex=False)\n",
    "rent[\"Location\"] = rent['Location'].str.replace('GA', 'Georgia', regex=False)\n",
    "rent[\"Location\"] = rent['Location'].str.replace('GU', 'Guam', regex=False)\n",
    "rent[\"Location\"] = rent['Location'].str.replace('HI', 'Hawaii', regex=False)\n",
    "rent[\"Location\"] = rent['Location'].str.replace('IA', 'Iowa', regex=False)\n",
    "rent[\"Location\"] = rent['Location'].str.replace('ID', 'Idaho', regex=False)\n",
    "rent[\"Location\"] = rent['Location'].str.replace('IL', 'Illinois', regex=False)\n",
    "rent[\"Location\"] = rent['Location'].str.replace('IN', 'Indiana', regex=False)\n",
    "rent[\"Location\"] = rent['Location'].str.replace('KS', 'Kansas', regex=False)\n",
    "rent[\"Location\"] = rent['Location'].str.replace('KY', 'Kentucky', regex=False)\n",
    "rent[\"Location\"] = rent['Location'].str.replace('LA', 'Louisiana', regex=False)\n",
    "rent[\"Location\"] = rent['Location'].str.replace('MA', 'Massachusetts', regex=False)\n",
    "rent[\"Location\"] = rent['Location'].str.replace('MD', 'Maryland', regex=False)\n",
    "rent[\"Location\"] = rent['Location'].str.replace('ME', 'Maine', regex=False)\n",
    "rent[\"Location\"] = rent['Location'].str.replace('MI', 'Michigan', regex=False)\n",
    "rent[\"Location\"] = rent['Location'].str.replace('MN', 'Minnesota', regex=False)\n",
    "rent[\"Location\"] = rent['Location'].str.replace('MO', 'Missouri', regex=False)\n",
    "rent[\"Location\"] = rent['Location'].str.replace('MP', 'Northern Mariana Islands', regex=False)\n",
    "rent[\"Location\"] = rent['Location'].str.replace('MS', 'Mississippi', regex=False)\n",
    "rent[\"Location\"] = rent['Location'].str.replace('MT', 'Montana', regex=False)\n",
    "rent[\"Location\"] = rent['Location'].str.replace('NA', 'National', regex=False)\n",
    "rent[\"Location\"] = rent['Location'].str.replace('NC', 'North Carolina', regex=False)\n",
    "rent[\"Location\"] = rent['Location'].str.replace('ND', 'North Dakota', regex=False)\n",
    "rent[\"Location\"] = rent['Location'].str.replace('NE', 'Nebraska', regex=False)\n",
    "rent[\"Location\"] = rent['Location'].str.replace('NH', 'New Hampshire', regex=False)\n",
    "rent[\"Location\"] = rent['Location'].str.replace('NJ', 'New Jersey', regex=False)\n",
    "rent[\"Location\"] = rent['Location'].str.replace('NM', 'New Mexico', regex=False)\n",
    "rent[\"Location\"] = rent['Location'].str.replace('NV', 'Nevada', regex=False)\n",
    "rent[\"Location\"] = rent['Location'].str.replace('NY', 'New York', regex=False)\n",
    "rent[\"Location\"] = rent['Location'].str.replace('OH', 'Ohio', regex=False)\n",
    "rent[\"Location\"] = rent['Location'].str.replace('OK', 'Oklahoma', regex=False)\n",
    "rent[\"Location\"] = rent['Location'].str.replace('OR', 'Oregon', regex=False)\n",
    "rent[\"Location\"] = rent['Location'].str.replace('PA', 'Pennsylvania', regex=False)\n",
    "rent[\"Location\"] = rent['Location'].str.replace('PR', 'Puerto Rico', regex=False)\n",
    "rent[\"Location\"] = rent['Location'].str.replace('RI', 'Rhode Island', regex=False)\n",
    "rent[\"Location\"] = rent['Location'].str.replace('SC', 'South Carolina', regex=False)\n",
    "rent[\"Location\"] = rent['Location'].str.replace('SD', 'South Dakota', regex=False)\n",
    "rent[\"Location\"] = rent['Location'].str.replace('TN', 'Tennessee', regex=False)\n",
    "rent[\"Location\"] = rent['Location'].str.replace('TX', 'Texas', regex=False)\n",
    "rent[\"Location\"] = rent['Location'].str.replace('UT', 'Utah', regex=False)\n",
    "rent[\"Location\"] = rent['Location'].str.replace('VA', 'Virginia', regex=False)\n",
    "rent[\"Location\"] = rent['Location'].str.replace('VI', 'Virgin Islands', regex=False)\n",
    "rent[\"Location\"] = rent['Location'].str.replace('VT', 'Vermont', regex=False)\n",
    "rent[\"Location\"] = rent['Location'].str.replace('WA', 'Washington', regex=False)\n",
    "rent[\"Location\"] = rent['Location'].str.replace('WI', 'Wisconsin', regex=False)\n",
    "rent[\"Location\"] = rent['Location'].str.replace('WV', 'West Virginia', regex=False)\n",
    "rent[\"Location\"] = rent['Location'].str.replace('WY', 'Wyoming', regex=False)\n",
    "rent"
   ]
  },
  {
   "cell_type": "code",
   "execution_count": 594,
   "metadata": {},
   "outputs": [
    {
     "output_type": "execute_result",
     "data": {
      "text/plain": [
       "101"
      ]
     },
     "metadata": {},
     "execution_count": 594
    }
   ],
   "source": [
    "# Unique number of rent Locations count\n",
    "\n",
    "rent['Location'].nunique()"
   ]
  },
  {
   "cell_type": "code",
   "execution_count": 595,
   "metadata": {},
   "outputs": [
    {
     "output_type": "execute_result",
     "data": {
      "text/plain": [
       "                                  2019 Rental Rates\n",
       "Location                                           \n",
       "Akron, Ohio                              678.000000\n",
       "Albany, New York                        1659.000000\n",
       "Albuquerque, New Mexico                 1120.272727\n",
       "Allentown, Pennsylvania                 1373.333333\n",
       "Atlanta, Georgia                        1520.842105\n",
       "...                                             ...\n",
       "Virginia Beach, Virginia                1356.707317\n",
       "Washington, District of Columbia        2103.435115\n",
       "Wichita, Kansas                          857.000000\n",
       "Winston-Salem, North Carolina           1233.285714\n",
       "Worcester, Massachusetts                1448.000000\n",
       "\n",
       "[101 rows x 1 columns]"
      ],
      "text/html": "<div>\n<style scoped>\n    .dataframe tbody tr th:only-of-type {\n        vertical-align: middle;\n    }\n\n    .dataframe tbody tr th {\n        vertical-align: top;\n    }\n\n    .dataframe thead th {\n        text-align: right;\n    }\n</style>\n<table border=\"1\" class=\"dataframe\">\n  <thead>\n    <tr style=\"text-align: right;\">\n      <th></th>\n      <th>2019 Rental Rates</th>\n    </tr>\n    <tr>\n      <th>Location</th>\n      <th></th>\n    </tr>\n  </thead>\n  <tbody>\n    <tr>\n      <th>Akron, Ohio</th>\n      <td>678.000000</td>\n    </tr>\n    <tr>\n      <th>Albany, New York</th>\n      <td>1659.000000</td>\n    </tr>\n    <tr>\n      <th>Albuquerque, New Mexico</th>\n      <td>1120.272727</td>\n    </tr>\n    <tr>\n      <th>Allentown, Pennsylvania</th>\n      <td>1373.333333</td>\n    </tr>\n    <tr>\n      <th>Atlanta, Georgia</th>\n      <td>1520.842105</td>\n    </tr>\n    <tr>\n      <th>...</th>\n      <td>...</td>\n    </tr>\n    <tr>\n      <th>Virginia Beach, Virginia</th>\n      <td>1356.707317</td>\n    </tr>\n    <tr>\n      <th>Washington, District of Columbia</th>\n      <td>2103.435115</td>\n    </tr>\n    <tr>\n      <th>Wichita, Kansas</th>\n      <td>857.000000</td>\n    </tr>\n    <tr>\n      <th>Winston-Salem, North Carolina</th>\n      <td>1233.285714</td>\n    </tr>\n    <tr>\n      <th>Worcester, Massachusetts</th>\n      <td>1448.000000</td>\n    </tr>\n  </tbody>\n</table>\n<p>101 rows × 1 columns</p>\n</div>"
     },
     "metadata": {},
     "execution_count": 595
    }
   ],
   "source": [
    "# Get rid of duplicate locations and group them by their average rental rates\n",
    "\n",
    "rent = rent.groupby(['Location']).mean()\n",
    "\n",
    "rent"
   ]
  },
  {
   "cell_type": "code",
   "execution_count": 596,
   "metadata": {},
   "outputs": [
    {
     "output_type": "execute_result",
     "data": {
      "text/plain": [
       "        State                 City Population Violent crime  \\\n",
       "0     Alabama               Hoover     85,670           114   \n",
       "1      Alaska            Anchorage    287,731         3,581   \n",
       "2      Alaska               Bethel      6,544           130   \n",
       "3      Alaska  Bristol Bay Borough        852             2   \n",
       "4      Alaska              Cordova      2,150             0   \n",
       "...       ...                  ...        ...           ...   \n",
       "8100  Wyoming             Sheridan     17,895             9   \n",
       "8101  Wyoming          Thermopolis      2,830            13   \n",
       "8102  Wyoming           Torrington      6,709            13   \n",
       "8103  Wyoming            Wheatland      3,544             7   \n",
       "8104  Wyoming              Worland      5,026             8   \n",
       "\n",
       "      Murder and nonnegligent manslaughter Rape Robbery Aggravated assault  \\\n",
       "0                                      4.0   15      27                 68   \n",
       "1                                     32.0  540     621              2,388   \n",
       "2                                      1.0   47       3                 79   \n",
       "3                                      0.0    0       0                  2   \n",
       "4                                      0.0    0       0                  0   \n",
       "...                                    ...  ...     ...                ...   \n",
       "8100                                   0.0    4       0                  5   \n",
       "8101                                   0.0    0       0                 13   \n",
       "8102                                   0.0    4       1                  8   \n",
       "8103                                   0.0    1       0                  6   \n",
       "8104                                   0.0    5       0                  3   \n",
       "\n",
       "     Property crime Burglary Larceny-theft Motor vehicle theft Arson  \n",
       "0             1,922      128         1,694                 100     2  \n",
       "1            12,261    1,692         9,038               1,531    93  \n",
       "2               132       20            84                  28    12  \n",
       "3                20        5             8                   7     0  \n",
       "4                 7        1             6                   0     0  \n",
       "...             ...      ...           ...                 ...   ...  \n",
       "8100            369       75           278                  16     3  \n",
       "8101             34        7            22                   5     0  \n",
       "8102             48        8            40                   0     0  \n",
       "8103             72       24            45                   3     0  \n",
       "8104             36        6            30                   0     0  \n",
       "\n",
       "[8105 rows x 13 columns]"
      ],
      "text/html": "<div>\n<style scoped>\n    .dataframe tbody tr th:only-of-type {\n        vertical-align: middle;\n    }\n\n    .dataframe tbody tr th {\n        vertical-align: top;\n    }\n\n    .dataframe thead th {\n        text-align: right;\n    }\n</style>\n<table border=\"1\" class=\"dataframe\">\n  <thead>\n    <tr style=\"text-align: right;\">\n      <th></th>\n      <th>State</th>\n      <th>City</th>\n      <th>Population</th>\n      <th>Violent crime</th>\n      <th>Murder and nonnegligent manslaughter</th>\n      <th>Rape</th>\n      <th>Robbery</th>\n      <th>Aggravated assault</th>\n      <th>Property crime</th>\n      <th>Burglary</th>\n      <th>Larceny-theft</th>\n      <th>Motor vehicle theft</th>\n      <th>Arson</th>\n    </tr>\n  </thead>\n  <tbody>\n    <tr>\n      <th>0</th>\n      <td>Alabama</td>\n      <td>Hoover</td>\n      <td>85,670</td>\n      <td>114</td>\n      <td>4.0</td>\n      <td>15</td>\n      <td>27</td>\n      <td>68</td>\n      <td>1,922</td>\n      <td>128</td>\n      <td>1,694</td>\n      <td>100</td>\n      <td>2</td>\n    </tr>\n    <tr>\n      <th>1</th>\n      <td>Alaska</td>\n      <td>Anchorage</td>\n      <td>287,731</td>\n      <td>3,581</td>\n      <td>32.0</td>\n      <td>540</td>\n      <td>621</td>\n      <td>2,388</td>\n      <td>12,261</td>\n      <td>1,692</td>\n      <td>9,038</td>\n      <td>1,531</td>\n      <td>93</td>\n    </tr>\n    <tr>\n      <th>2</th>\n      <td>Alaska</td>\n      <td>Bethel</td>\n      <td>6,544</td>\n      <td>130</td>\n      <td>1.0</td>\n      <td>47</td>\n      <td>3</td>\n      <td>79</td>\n      <td>132</td>\n      <td>20</td>\n      <td>84</td>\n      <td>28</td>\n      <td>12</td>\n    </tr>\n    <tr>\n      <th>3</th>\n      <td>Alaska</td>\n      <td>Bristol Bay Borough</td>\n      <td>852</td>\n      <td>2</td>\n      <td>0.0</td>\n      <td>0</td>\n      <td>0</td>\n      <td>2</td>\n      <td>20</td>\n      <td>5</td>\n      <td>8</td>\n      <td>7</td>\n      <td>0</td>\n    </tr>\n    <tr>\n      <th>4</th>\n      <td>Alaska</td>\n      <td>Cordova</td>\n      <td>2,150</td>\n      <td>0</td>\n      <td>0.0</td>\n      <td>0</td>\n      <td>0</td>\n      <td>0</td>\n      <td>7</td>\n      <td>1</td>\n      <td>6</td>\n      <td>0</td>\n      <td>0</td>\n    </tr>\n    <tr>\n      <th>...</th>\n      <td>...</td>\n      <td>...</td>\n      <td>...</td>\n      <td>...</td>\n      <td>...</td>\n      <td>...</td>\n      <td>...</td>\n      <td>...</td>\n      <td>...</td>\n      <td>...</td>\n      <td>...</td>\n      <td>...</td>\n      <td>...</td>\n    </tr>\n    <tr>\n      <th>8100</th>\n      <td>Wyoming</td>\n      <td>Sheridan</td>\n      <td>17,895</td>\n      <td>9</td>\n      <td>0.0</td>\n      <td>4</td>\n      <td>0</td>\n      <td>5</td>\n      <td>369</td>\n      <td>75</td>\n      <td>278</td>\n      <td>16</td>\n      <td>3</td>\n    </tr>\n    <tr>\n      <th>8101</th>\n      <td>Wyoming</td>\n      <td>Thermopolis</td>\n      <td>2,830</td>\n      <td>13</td>\n      <td>0.0</td>\n      <td>0</td>\n      <td>0</td>\n      <td>13</td>\n      <td>34</td>\n      <td>7</td>\n      <td>22</td>\n      <td>5</td>\n      <td>0</td>\n    </tr>\n    <tr>\n      <th>8102</th>\n      <td>Wyoming</td>\n      <td>Torrington</td>\n      <td>6,709</td>\n      <td>13</td>\n      <td>0.0</td>\n      <td>4</td>\n      <td>1</td>\n      <td>8</td>\n      <td>48</td>\n      <td>8</td>\n      <td>40</td>\n      <td>0</td>\n      <td>0</td>\n    </tr>\n    <tr>\n      <th>8103</th>\n      <td>Wyoming</td>\n      <td>Wheatland</td>\n      <td>3,544</td>\n      <td>7</td>\n      <td>0.0</td>\n      <td>1</td>\n      <td>0</td>\n      <td>6</td>\n      <td>72</td>\n      <td>24</td>\n      <td>45</td>\n      <td>3</td>\n      <td>0</td>\n    </tr>\n    <tr>\n      <th>8104</th>\n      <td>Wyoming</td>\n      <td>Worland</td>\n      <td>5,026</td>\n      <td>8</td>\n      <td>0.0</td>\n      <td>5</td>\n      <td>0</td>\n      <td>3</td>\n      <td>36</td>\n      <td>6</td>\n      <td>30</td>\n      <td>0</td>\n      <td>0</td>\n    </tr>\n  </tbody>\n</table>\n<p>8105 rows × 13 columns</p>\n</div>"
     },
     "metadata": {},
     "execution_count": 596
    }
   ],
   "source": [
    "# Load and inspect crime rates data (need to replicate state for every city)\n",
    "\n",
    "crime = pd.read_csv(\"../data/crime_rates.csv\")\n",
    "crime"
   ]
  },
  {
   "cell_type": "code",
   "execution_count": 597,
   "metadata": {},
   "outputs": [
    {
     "output_type": "execute_result",
     "data": {
      "text/plain": [
       "State                                    object\n",
       "City                                     object\n",
       "Population                               object\n",
       "Violent crime                            object\n",
       "Murder and nonnegligent manslaughter    float64\n",
       "Rape                                     object\n",
       "Robbery                                  object\n",
       "Aggravated assault                       object\n",
       "Property crime                           object\n",
       "Burglary                                 object\n",
       "Larceny-theft                            object\n",
       "Motor vehicle theft                      object\n",
       "Arson                                    object\n",
       "dtype: object"
      ]
     },
     "metadata": {},
     "execution_count": 597
    }
   ],
   "source": [
    "# Check crime data types\n",
    "\n",
    "crime.dtypes"
   ]
  },
  {
   "cell_type": "code",
   "execution_count": 598,
   "metadata": {},
   "outputs": [
    {
     "output_type": "execute_result",
     "data": {
      "text/plain": [
       "        State                 City Population Violent crime  \\\n",
       "0     Alabama               Hoover     85,670           114   \n",
       "1      Alaska            Anchorage    287,731         3,581   \n",
       "2      Alaska               Bethel      6,544           130   \n",
       "3      Alaska  Bristol Bay Borough        852             2   \n",
       "4      Alaska              Cordova      2,150             0   \n",
       "...       ...                  ...        ...           ...   \n",
       "8100  Wyoming             Sheridan     17,895             9   \n",
       "8101  Wyoming          Thermopolis      2,830            13   \n",
       "8102  Wyoming           Torrington      6,709            13   \n",
       "8103  Wyoming            Wheatland      3,544             7   \n",
       "8104  Wyoming              Worland      5,026             8   \n",
       "\n",
       "      Murder and nonnegligent manslaughter Rape Robbery Aggravated assault  \\\n",
       "0                                      4.0   15      27                 68   \n",
       "1                                     32.0  540     621              2,388   \n",
       "2                                      1.0   47       3                 79   \n",
       "3                                      0.0    0       0                  2   \n",
       "4                                      0.0    0       0                  0   \n",
       "...                                    ...  ...     ...                ...   \n",
       "8100                                   0.0    4       0                  5   \n",
       "8101                                   0.0    0       0                 13   \n",
       "8102                                   0.0    4       1                  8   \n",
       "8103                                   0.0    1       0                  6   \n",
       "8104                                   0.0    5       0                  3   \n",
       "\n",
       "     Property crime Burglary Larceny-theft Motor vehicle theft Arson  \\\n",
       "0             1,922      128         1,694                 100     2   \n",
       "1            12,261    1,692         9,038               1,531    93   \n",
       "2               132       20            84                  28    12   \n",
       "3                20        5             8                   7     0   \n",
       "4                 7        1             6                   0     0   \n",
       "...             ...      ...           ...                 ...   ...   \n",
       "8100            369       75           278                  16     3   \n",
       "8101             34        7            22                   5     0   \n",
       "8102             48        8            40                   0     0   \n",
       "8103             72       24            45                   3     0   \n",
       "8104             36        6            30                   0     0   \n",
       "\n",
       "                         Location  \n",
       "0                 Hoover, Alabama  \n",
       "1               Anchorage, Alaska  \n",
       "2                  Bethel, Alaska  \n",
       "3     Bristol Bay Borough, Alaska  \n",
       "4                 Cordova, Alaska  \n",
       "...                           ...  \n",
       "8100            Sheridan, Wyoming  \n",
       "8101         Thermopolis, Wyoming  \n",
       "8102          Torrington, Wyoming  \n",
       "8103           Wheatland, Wyoming  \n",
       "8104             Worland, Wyoming  \n",
       "\n",
       "[8105 rows x 14 columns]"
      ],
      "text/html": "<div>\n<style scoped>\n    .dataframe tbody tr th:only-of-type {\n        vertical-align: middle;\n    }\n\n    .dataframe tbody tr th {\n        vertical-align: top;\n    }\n\n    .dataframe thead th {\n        text-align: right;\n    }\n</style>\n<table border=\"1\" class=\"dataframe\">\n  <thead>\n    <tr style=\"text-align: right;\">\n      <th></th>\n      <th>State</th>\n      <th>City</th>\n      <th>Population</th>\n      <th>Violent crime</th>\n      <th>Murder and nonnegligent manslaughter</th>\n      <th>Rape</th>\n      <th>Robbery</th>\n      <th>Aggravated assault</th>\n      <th>Property crime</th>\n      <th>Burglary</th>\n      <th>Larceny-theft</th>\n      <th>Motor vehicle theft</th>\n      <th>Arson</th>\n      <th>Location</th>\n    </tr>\n  </thead>\n  <tbody>\n    <tr>\n      <th>0</th>\n      <td>Alabama</td>\n      <td>Hoover</td>\n      <td>85,670</td>\n      <td>114</td>\n      <td>4.0</td>\n      <td>15</td>\n      <td>27</td>\n      <td>68</td>\n      <td>1,922</td>\n      <td>128</td>\n      <td>1,694</td>\n      <td>100</td>\n      <td>2</td>\n      <td>Hoover, Alabama</td>\n    </tr>\n    <tr>\n      <th>1</th>\n      <td>Alaska</td>\n      <td>Anchorage</td>\n      <td>287,731</td>\n      <td>3,581</td>\n      <td>32.0</td>\n      <td>540</td>\n      <td>621</td>\n      <td>2,388</td>\n      <td>12,261</td>\n      <td>1,692</td>\n      <td>9,038</td>\n      <td>1,531</td>\n      <td>93</td>\n      <td>Anchorage, Alaska</td>\n    </tr>\n    <tr>\n      <th>2</th>\n      <td>Alaska</td>\n      <td>Bethel</td>\n      <td>6,544</td>\n      <td>130</td>\n      <td>1.0</td>\n      <td>47</td>\n      <td>3</td>\n      <td>79</td>\n      <td>132</td>\n      <td>20</td>\n      <td>84</td>\n      <td>28</td>\n      <td>12</td>\n      <td>Bethel, Alaska</td>\n    </tr>\n    <tr>\n      <th>3</th>\n      <td>Alaska</td>\n      <td>Bristol Bay Borough</td>\n      <td>852</td>\n      <td>2</td>\n      <td>0.0</td>\n      <td>0</td>\n      <td>0</td>\n      <td>2</td>\n      <td>20</td>\n      <td>5</td>\n      <td>8</td>\n      <td>7</td>\n      <td>0</td>\n      <td>Bristol Bay Borough, Alaska</td>\n    </tr>\n    <tr>\n      <th>4</th>\n      <td>Alaska</td>\n      <td>Cordova</td>\n      <td>2,150</td>\n      <td>0</td>\n      <td>0.0</td>\n      <td>0</td>\n      <td>0</td>\n      <td>0</td>\n      <td>7</td>\n      <td>1</td>\n      <td>6</td>\n      <td>0</td>\n      <td>0</td>\n      <td>Cordova, Alaska</td>\n    </tr>\n    <tr>\n      <th>...</th>\n      <td>...</td>\n      <td>...</td>\n      <td>...</td>\n      <td>...</td>\n      <td>...</td>\n      <td>...</td>\n      <td>...</td>\n      <td>...</td>\n      <td>...</td>\n      <td>...</td>\n      <td>...</td>\n      <td>...</td>\n      <td>...</td>\n      <td>...</td>\n    </tr>\n    <tr>\n      <th>8100</th>\n      <td>Wyoming</td>\n      <td>Sheridan</td>\n      <td>17,895</td>\n      <td>9</td>\n      <td>0.0</td>\n      <td>4</td>\n      <td>0</td>\n      <td>5</td>\n      <td>369</td>\n      <td>75</td>\n      <td>278</td>\n      <td>16</td>\n      <td>3</td>\n      <td>Sheridan, Wyoming</td>\n    </tr>\n    <tr>\n      <th>8101</th>\n      <td>Wyoming</td>\n      <td>Thermopolis</td>\n      <td>2,830</td>\n      <td>13</td>\n      <td>0.0</td>\n      <td>0</td>\n      <td>0</td>\n      <td>13</td>\n      <td>34</td>\n      <td>7</td>\n      <td>22</td>\n      <td>5</td>\n      <td>0</td>\n      <td>Thermopolis, Wyoming</td>\n    </tr>\n    <tr>\n      <th>8102</th>\n      <td>Wyoming</td>\n      <td>Torrington</td>\n      <td>6,709</td>\n      <td>13</td>\n      <td>0.0</td>\n      <td>4</td>\n      <td>1</td>\n      <td>8</td>\n      <td>48</td>\n      <td>8</td>\n      <td>40</td>\n      <td>0</td>\n      <td>0</td>\n      <td>Torrington, Wyoming</td>\n    </tr>\n    <tr>\n      <th>8103</th>\n      <td>Wyoming</td>\n      <td>Wheatland</td>\n      <td>3,544</td>\n      <td>7</td>\n      <td>0.0</td>\n      <td>1</td>\n      <td>0</td>\n      <td>6</td>\n      <td>72</td>\n      <td>24</td>\n      <td>45</td>\n      <td>3</td>\n      <td>0</td>\n      <td>Wheatland, Wyoming</td>\n    </tr>\n    <tr>\n      <th>8104</th>\n      <td>Wyoming</td>\n      <td>Worland</td>\n      <td>5,026</td>\n      <td>8</td>\n      <td>0.0</td>\n      <td>5</td>\n      <td>0</td>\n      <td>3</td>\n      <td>36</td>\n      <td>6</td>\n      <td>30</td>\n      <td>0</td>\n      <td>0</td>\n      <td>Worland, Wyoming</td>\n    </tr>\n  </tbody>\n</table>\n<p>8105 rows × 14 columns</p>\n</div>"
     },
     "metadata": {},
     "execution_count": 598
    }
   ],
   "source": [
    "# Make new Location column with City and State data, so the data can be joineed with the other data on this column\n",
    "\n",
    "crime['Location'] = crime['City'] + ',' + ' ' + crime['State']\n",
    "crime\n",
    "\n",
    "# Consider adding Alabama crime data from 2018"
   ]
  },
  {
   "cell_type": "code",
   "execution_count": 599,
   "metadata": {},
   "outputs": [
    {
     "output_type": "execute_result",
     "data": {
      "text/plain": [
       "8105"
      ]
     },
     "metadata": {},
     "execution_count": 599
    }
   ],
   "source": [
    "# Unique number of crime Locations count\n",
    "\n",
    "crime['Location'].nunique()\n",
    "\n",
    "# 19491 unique Locations in population dataset\n",
    "# 101 unique Locations in rent dataset   -   (Consider looking for a different rent data set with more unique locations)\n",
    "# 8105 unique Locations in crime dataset"
   ]
  },
  {
   "cell_type": "code",
   "execution_count": 600,
   "metadata": {},
   "outputs": [
    {
     "output_type": "execute_result",
     "data": {
      "text/plain": [
       "                    Location 2019 Population Town or City  2019 Rental Rates\n",
       "0        Birmingham, Alabama         209,403         city        1249.111111\n",
       "1           Phoenix, Arizona       1,680,992         city        1447.437500\n",
       "2            Tucson, Arizona         548,073         city        1248.714286\n",
       "3      Little Rock, Arkansas         197,312         city         895.000000\n",
       "4    Bakersfield, California         384,145         city        1340.000000\n",
       "..                       ...             ...          ...                ...\n",
       "85  Virginia Beach, Virginia         449,974         city        1356.707317\n",
       "86       Seattle, Washington         753,675         city        1964.097561\n",
       "87       Spokane, Washington         222,081         city        1111.400000\n",
       "88        Madison, Wisconsin         259,680         city        1415.166667\n",
       "89      Milwaukee, Wisconsin         590,157         city         983.666667\n",
       "\n",
       "[90 rows x 4 columns]"
      ],
      "text/html": "<div>\n<style scoped>\n    .dataframe tbody tr th:only-of-type {\n        vertical-align: middle;\n    }\n\n    .dataframe tbody tr th {\n        vertical-align: top;\n    }\n\n    .dataframe thead th {\n        text-align: right;\n    }\n</style>\n<table border=\"1\" class=\"dataframe\">\n  <thead>\n    <tr style=\"text-align: right;\">\n      <th></th>\n      <th>Location</th>\n      <th>2019 Population</th>\n      <th>Town or City</th>\n      <th>2019 Rental Rates</th>\n    </tr>\n  </thead>\n  <tbody>\n    <tr>\n      <th>0</th>\n      <td>Birmingham, Alabama</td>\n      <td>209,403</td>\n      <td>city</td>\n      <td>1249.111111</td>\n    </tr>\n    <tr>\n      <th>1</th>\n      <td>Phoenix, Arizona</td>\n      <td>1,680,992</td>\n      <td>city</td>\n      <td>1447.437500</td>\n    </tr>\n    <tr>\n      <th>2</th>\n      <td>Tucson, Arizona</td>\n      <td>548,073</td>\n      <td>city</td>\n      <td>1248.714286</td>\n    </tr>\n    <tr>\n      <th>3</th>\n      <td>Little Rock, Arkansas</td>\n      <td>197,312</td>\n      <td>city</td>\n      <td>895.000000</td>\n    </tr>\n    <tr>\n      <th>4</th>\n      <td>Bakersfield, California</td>\n      <td>384,145</td>\n      <td>city</td>\n      <td>1340.000000</td>\n    </tr>\n    <tr>\n      <th>...</th>\n      <td>...</td>\n      <td>...</td>\n      <td>...</td>\n      <td>...</td>\n    </tr>\n    <tr>\n      <th>85</th>\n      <td>Virginia Beach, Virginia</td>\n      <td>449,974</td>\n      <td>city</td>\n      <td>1356.707317</td>\n    </tr>\n    <tr>\n      <th>86</th>\n      <td>Seattle, Washington</td>\n      <td>753,675</td>\n      <td>city</td>\n      <td>1964.097561</td>\n    </tr>\n    <tr>\n      <th>87</th>\n      <td>Spokane, Washington</td>\n      <td>222,081</td>\n      <td>city</td>\n      <td>1111.400000</td>\n    </tr>\n    <tr>\n      <th>88</th>\n      <td>Madison, Wisconsin</td>\n      <td>259,680</td>\n      <td>city</td>\n      <td>1415.166667</td>\n    </tr>\n    <tr>\n      <th>89</th>\n      <td>Milwaukee, Wisconsin</td>\n      <td>590,157</td>\n      <td>city</td>\n      <td>983.666667</td>\n    </tr>\n  </tbody>\n</table>\n<p>90 rows × 4 columns</p>\n</div>"
     },
     "metadata": {},
     "execution_count": 600
    }
   ],
   "source": [
    "# When wrangling is done here, combine tables, bin data in new columns, and push data to PG DB. \n",
    " \n",
    "# Example of Joins\n",
    "\n",
    "merged_population_rent = pd.merge(left=population, right=rent, left_on='Location', right_on='Location')\n",
    "merged_population_rent"
   ]
  },
  {
   "cell_type": "code",
   "execution_count": 601,
   "metadata": {},
   "outputs": [
    {
     "output_type": "execute_result",
     "data": {
      "text/plain": [
       "90"
      ]
     },
     "metadata": {},
     "execution_count": 601
    }
   ],
   "source": [
    "# Unique number of merged_population_rent Locations count\n",
    "\n",
    "merged_population_rent['Location'].nunique()\n",
    "\n",
    "# There are 11 unique Locations being lost from the dataset because the population and rent data sets do not have all of the same Locations"
   ]
  },
  {
   "cell_type": "code",
   "execution_count": 602,
   "metadata": {},
   "outputs": [
    {
     "output_type": "execute_result",
     "data": {
      "text/plain": [
       "                    Location 2019 Population Town or City  2019 Rental Rates  \\\n",
       "0           Phoenix, Arizona       1,680,992         city        1447.437500   \n",
       "1            Tucson, Arizona         548,073         city        1248.714286   \n",
       "2      Little Rock, Arkansas         197,312         city         895.000000   \n",
       "3    Bakersfield, California         384,145         city        1340.000000   \n",
       "4      Riverside, California         331,360         city        1944.444444   \n",
       "..                       ...             ...          ...                ...   \n",
       "71  Virginia Beach, Virginia         449,974         city        1356.707317   \n",
       "72       Seattle, Washington         753,675         city        1964.097561   \n",
       "73       Spokane, Washington         222,081         city        1111.400000   \n",
       "74        Madison, Wisconsin         259,680         city        1415.166667   \n",
       "75      Milwaukee, Wisconsin         590,157         city         983.666667   \n",
       "\n",
       "         State            City Population Violent crime  \\\n",
       "0      Arizona         Phoenix  1,688,722        11,803   \n",
       "1      Arizona          Tucson    548,374         3,775   \n",
       "2     Arkansas     Little Rock    198,382         3,009   \n",
       "3   California     Bakersfield    388,080         1,766   \n",
       "4   California       Riverside    333,260         1,686   \n",
       "..         ...             ...        ...           ...   \n",
       "71    Virginia  Virginia Beach    449,038           581   \n",
       "72  Washington         Seattle    763,706         4,471   \n",
       "73  Washington         Spokane    220,432         1,520   \n",
       "74   Wisconsin         Madison    261,270           940   \n",
       "75   Wisconsin       Milwaukee    590,923         7,874   \n",
       "\n",
       "    Murder and nonnegligent manslaughter   Rape Robbery Aggravated assault  \\\n",
       "0                                  131.0  1,139   3,197              7,336   \n",
       "1                                   40.0    527   1,105              2,103   \n",
       "2                                   38.0    209     391              2,371   \n",
       "3                                   34.0    116     701                915   \n",
       "4                                   17.0    139     476              1,054   \n",
       "..                                   ...    ...     ...                ...   \n",
       "71                                  30.0     79     196                276   \n",
       "72                                  28.0    358   1,339              2,746   \n",
       "73                                   6.0    230     311                973   \n",
       "74                                   4.0    107     217                612   \n",
       "75                                  97.0    427   1,911              5,439   \n",
       "\n",
       "   Property crime Burglary Larceny-theft Motor vehicle theft Arson  \n",
       "0          55,974    9,471        39,427               7,076   201  \n",
       "1          17,943    2,497        13,196               2,250   142  \n",
       "2          12,145    1,760         9,316               1,069    45  \n",
       "3          16,074    3,888         9,277               2,909   470  \n",
       "4           9,790    1,302         6,997               1,491    75  \n",
       "..            ...      ...           ...                 ...   ...  \n",
       "71          7,906      530         6,797                 579    34  \n",
       "72         34,333    7,210        23,478               3,645    98  \n",
       "73         13,048    1,743        10,026               1,279    45  \n",
       "74          6,464    1,046         4,873                 545     9  \n",
       "75         15,097    3,594         8,053               3,450   198  \n",
       "\n",
       "[76 rows x 17 columns]"
      ],
      "text/html": "<div>\n<style scoped>\n    .dataframe tbody tr th:only-of-type {\n        vertical-align: middle;\n    }\n\n    .dataframe tbody tr th {\n        vertical-align: top;\n    }\n\n    .dataframe thead th {\n        text-align: right;\n    }\n</style>\n<table border=\"1\" class=\"dataframe\">\n  <thead>\n    <tr style=\"text-align: right;\">\n      <th></th>\n      <th>Location</th>\n      <th>2019 Population</th>\n      <th>Town or City</th>\n      <th>2019 Rental Rates</th>\n      <th>State</th>\n      <th>City</th>\n      <th>Population</th>\n      <th>Violent crime</th>\n      <th>Murder and nonnegligent manslaughter</th>\n      <th>Rape</th>\n      <th>Robbery</th>\n      <th>Aggravated assault</th>\n      <th>Property crime</th>\n      <th>Burglary</th>\n      <th>Larceny-theft</th>\n      <th>Motor vehicle theft</th>\n      <th>Arson</th>\n    </tr>\n  </thead>\n  <tbody>\n    <tr>\n      <th>0</th>\n      <td>Phoenix, Arizona</td>\n      <td>1,680,992</td>\n      <td>city</td>\n      <td>1447.437500</td>\n      <td>Arizona</td>\n      <td>Phoenix</td>\n      <td>1,688,722</td>\n      <td>11,803</td>\n      <td>131.0</td>\n      <td>1,139</td>\n      <td>3,197</td>\n      <td>7,336</td>\n      <td>55,974</td>\n      <td>9,471</td>\n      <td>39,427</td>\n      <td>7,076</td>\n      <td>201</td>\n    </tr>\n    <tr>\n      <th>1</th>\n      <td>Tucson, Arizona</td>\n      <td>548,073</td>\n      <td>city</td>\n      <td>1248.714286</td>\n      <td>Arizona</td>\n      <td>Tucson</td>\n      <td>548,374</td>\n      <td>3,775</td>\n      <td>40.0</td>\n      <td>527</td>\n      <td>1,105</td>\n      <td>2,103</td>\n      <td>17,943</td>\n      <td>2,497</td>\n      <td>13,196</td>\n      <td>2,250</td>\n      <td>142</td>\n    </tr>\n    <tr>\n      <th>2</th>\n      <td>Little Rock, Arkansas</td>\n      <td>197,312</td>\n      <td>city</td>\n      <td>895.000000</td>\n      <td>Arkansas</td>\n      <td>Little Rock</td>\n      <td>198,382</td>\n      <td>3,009</td>\n      <td>38.0</td>\n      <td>209</td>\n      <td>391</td>\n      <td>2,371</td>\n      <td>12,145</td>\n      <td>1,760</td>\n      <td>9,316</td>\n      <td>1,069</td>\n      <td>45</td>\n    </tr>\n    <tr>\n      <th>3</th>\n      <td>Bakersfield, California</td>\n      <td>384,145</td>\n      <td>city</td>\n      <td>1340.000000</td>\n      <td>California</td>\n      <td>Bakersfield</td>\n      <td>388,080</td>\n      <td>1,766</td>\n      <td>34.0</td>\n      <td>116</td>\n      <td>701</td>\n      <td>915</td>\n      <td>16,074</td>\n      <td>3,888</td>\n      <td>9,277</td>\n      <td>2,909</td>\n      <td>470</td>\n    </tr>\n    <tr>\n      <th>4</th>\n      <td>Riverside, California</td>\n      <td>331,360</td>\n      <td>city</td>\n      <td>1944.444444</td>\n      <td>California</td>\n      <td>Riverside</td>\n      <td>333,260</td>\n      <td>1,686</td>\n      <td>17.0</td>\n      <td>139</td>\n      <td>476</td>\n      <td>1,054</td>\n      <td>9,790</td>\n      <td>1,302</td>\n      <td>6,997</td>\n      <td>1,491</td>\n      <td>75</td>\n    </tr>\n    <tr>\n      <th>...</th>\n      <td>...</td>\n      <td>...</td>\n      <td>...</td>\n      <td>...</td>\n      <td>...</td>\n      <td>...</td>\n      <td>...</td>\n      <td>...</td>\n      <td>...</td>\n      <td>...</td>\n      <td>...</td>\n      <td>...</td>\n      <td>...</td>\n      <td>...</td>\n      <td>...</td>\n      <td>...</td>\n      <td>...</td>\n    </tr>\n    <tr>\n      <th>71</th>\n      <td>Virginia Beach, Virginia</td>\n      <td>449,974</td>\n      <td>city</td>\n      <td>1356.707317</td>\n      <td>Virginia</td>\n      <td>Virginia Beach</td>\n      <td>449,038</td>\n      <td>581</td>\n      <td>30.0</td>\n      <td>79</td>\n      <td>196</td>\n      <td>276</td>\n      <td>7,906</td>\n      <td>530</td>\n      <td>6,797</td>\n      <td>579</td>\n      <td>34</td>\n    </tr>\n    <tr>\n      <th>72</th>\n      <td>Seattle, Washington</td>\n      <td>753,675</td>\n      <td>city</td>\n      <td>1964.097561</td>\n      <td>Washington</td>\n      <td>Seattle</td>\n      <td>763,706</td>\n      <td>4,471</td>\n      <td>28.0</td>\n      <td>358</td>\n      <td>1,339</td>\n      <td>2,746</td>\n      <td>34,333</td>\n      <td>7,210</td>\n      <td>23,478</td>\n      <td>3,645</td>\n      <td>98</td>\n    </tr>\n    <tr>\n      <th>73</th>\n      <td>Spokane, Washington</td>\n      <td>222,081</td>\n      <td>city</td>\n      <td>1111.400000</td>\n      <td>Washington</td>\n      <td>Spokane</td>\n      <td>220,432</td>\n      <td>1,520</td>\n      <td>6.0</td>\n      <td>230</td>\n      <td>311</td>\n      <td>973</td>\n      <td>13,048</td>\n      <td>1,743</td>\n      <td>10,026</td>\n      <td>1,279</td>\n      <td>45</td>\n    </tr>\n    <tr>\n      <th>74</th>\n      <td>Madison, Wisconsin</td>\n      <td>259,680</td>\n      <td>city</td>\n      <td>1415.166667</td>\n      <td>Wisconsin</td>\n      <td>Madison</td>\n      <td>261,270</td>\n      <td>940</td>\n      <td>4.0</td>\n      <td>107</td>\n      <td>217</td>\n      <td>612</td>\n      <td>6,464</td>\n      <td>1,046</td>\n      <td>4,873</td>\n      <td>545</td>\n      <td>9</td>\n    </tr>\n    <tr>\n      <th>75</th>\n      <td>Milwaukee, Wisconsin</td>\n      <td>590,157</td>\n      <td>city</td>\n      <td>983.666667</td>\n      <td>Wisconsin</td>\n      <td>Milwaukee</td>\n      <td>590,923</td>\n      <td>7,874</td>\n      <td>97.0</td>\n      <td>427</td>\n      <td>1,911</td>\n      <td>5,439</td>\n      <td>15,097</td>\n      <td>3,594</td>\n      <td>8,053</td>\n      <td>3,450</td>\n      <td>198</td>\n    </tr>\n  </tbody>\n</table>\n<p>76 rows × 17 columns</p>\n</div>"
     },
     "metadata": {},
     "execution_count": 602
    }
   ],
   "source": [
    "# Merge population, rent, and crime data which can be pushed to DB. Data can also be added to this, more data preserved, and binned.\n",
    "\n",
    "merged_population_rent_crime = pd.merge(left=merged_population_rent, right=crime, left_on='Location', right_on='Location')\n",
    "merged_population_rent_crime"
   ]
  },
  {
   "cell_type": "code",
   "execution_count": 603,
   "metadata": {},
   "outputs": [
    {
     "output_type": "execute_result",
     "data": {
      "text/plain": [
       "76"
      ]
     },
     "metadata": {},
     "execution_count": 603
    }
   ],
   "source": [
    "# Unique number of merged_population_rent_crime Locations count\n",
    "\n",
    "merged_population_rent_crime['Location'].nunique()\n",
    "\n",
    "# There are 14 more unique Locations being lost from the dataset because the population and rent data sets do not have all of the same Locations"
   ]
  },
  {
   "cell_type": "code",
   "execution_count": 604,
   "metadata": {},
   "outputs": [
    {
     "output_type": "execute_result",
     "data": {
      "text/plain": [
       "Location                                 object\n",
       "2019 Population                          object\n",
       "Town or City                             object\n",
       "2019 Rental Rates                       float64\n",
       "State                                    object\n",
       "City                                     object\n",
       "Population                               object\n",
       "Violent crime                            object\n",
       "Murder and nonnegligent manslaughter    float64\n",
       "Rape                                     object\n",
       "Robbery                                  object\n",
       "Aggravated assault                       object\n",
       "Property crime                           object\n",
       "Burglary                                 object\n",
       "Larceny-theft                            object\n",
       "Motor vehicle theft                      object\n",
       "Arson                                    object\n",
       "dtype: object"
      ]
     },
     "metadata": {},
     "execution_count": 604
    }
   ],
   "source": [
    "# Check data types before binning\n",
    "\n",
    "merged_population_rent_crime.dtypes"
   ]
  },
  {
   "cell_type": "code",
   "execution_count": 605,
   "metadata": {},
   "outputs": [
    {
     "output_type": "execute_result",
     "data": {
      "text/plain": [
       "                    Location 2019 Population Town or City  2019 Rental Rates  \\\n",
       "0           Phoenix, Arizona         1680992         city        1447.437500   \n",
       "1            Tucson, Arizona          548073         city        1248.714286   \n",
       "2      Little Rock, Arkansas          197312         city         895.000000   \n",
       "3    Bakersfield, California          384145         city        1340.000000   \n",
       "4      Riverside, California          331360         city        1944.444444   \n",
       "..                       ...             ...          ...                ...   \n",
       "71  Virginia Beach, Virginia          449974         city        1356.707317   \n",
       "72       Seattle, Washington          753675         city        1964.097561   \n",
       "73       Spokane, Washington          222081         city        1111.400000   \n",
       "74        Madison, Wisconsin          259680         city        1415.166667   \n",
       "75      Milwaukee, Wisconsin          590157         city         983.666667   \n",
       "\n",
       "         State            City Violent crime  \\\n",
       "0      Arizona         Phoenix         11803   \n",
       "1      Arizona          Tucson          3775   \n",
       "2     Arkansas     Little Rock          3009   \n",
       "3   California     Bakersfield          1766   \n",
       "4   California       Riverside          1686   \n",
       "..         ...             ...           ...   \n",
       "71    Virginia  Virginia Beach           581   \n",
       "72  Washington         Seattle          4471   \n",
       "73  Washington         Spokane          1520   \n",
       "74   Wisconsin         Madison           940   \n",
       "75   Wisconsin       Milwaukee          7874   \n",
       "\n",
       "    Murder and nonnegligent manslaughter  Rape Robbery Aggravated assault  \\\n",
       "0                                  131.0  1139    3197               7336   \n",
       "1                                   40.0   527    1105               2103   \n",
       "2                                   38.0   209     391               2371   \n",
       "3                                   34.0   116     701                915   \n",
       "4                                   17.0   139     476               1054   \n",
       "..                                   ...   ...     ...                ...   \n",
       "71                                  30.0    79     196                276   \n",
       "72                                  28.0   358    1339               2746   \n",
       "73                                   6.0   230     311                973   \n",
       "74                                   4.0   107     217                612   \n",
       "75                                  97.0   427    1911               5439   \n",
       "\n",
       "   Property crime Burglary Larceny-theft Motor vehicle theft Arson  \\\n",
       "0           55974     9471         39427                7076   201   \n",
       "1           17943     2497         13196                2250   142   \n",
       "2           12145     1760          9316                1069    45   \n",
       "3           16074     3888          9277                2909   470   \n",
       "4            9790     1302          6997                1491    75   \n",
       "..            ...      ...           ...                 ...   ...   \n",
       "71           7906      530          6797                 579    34   \n",
       "72          34333     7210         23478                3645    98   \n",
       "73          13048     1743         10026                1279    45   \n",
       "74           6464     1046          4873                 545     9   \n",
       "75          15097     3594          8053                3450   198   \n",
       "\n",
       "   Crime Population  \n",
       "0           1688722  \n",
       "1            548374  \n",
       "2            198382  \n",
       "3            388080  \n",
       "4            333260  \n",
       "..              ...  \n",
       "71           449038  \n",
       "72           763706  \n",
       "73           220432  \n",
       "74           261270  \n",
       "75           590923  \n",
       "\n",
       "[76 rows x 17 columns]"
      ],
      "text/html": "<div>\n<style scoped>\n    .dataframe tbody tr th:only-of-type {\n        vertical-align: middle;\n    }\n\n    .dataframe tbody tr th {\n        vertical-align: top;\n    }\n\n    .dataframe thead th {\n        text-align: right;\n    }\n</style>\n<table border=\"1\" class=\"dataframe\">\n  <thead>\n    <tr style=\"text-align: right;\">\n      <th></th>\n      <th>Location</th>\n      <th>2019 Population</th>\n      <th>Town or City</th>\n      <th>2019 Rental Rates</th>\n      <th>State</th>\n      <th>City</th>\n      <th>Violent crime</th>\n      <th>Murder and nonnegligent manslaughter</th>\n      <th>Rape</th>\n      <th>Robbery</th>\n      <th>Aggravated assault</th>\n      <th>Property crime</th>\n      <th>Burglary</th>\n      <th>Larceny-theft</th>\n      <th>Motor vehicle theft</th>\n      <th>Arson</th>\n      <th>Crime Population</th>\n    </tr>\n  </thead>\n  <tbody>\n    <tr>\n      <th>0</th>\n      <td>Phoenix, Arizona</td>\n      <td>1680992</td>\n      <td>city</td>\n      <td>1447.437500</td>\n      <td>Arizona</td>\n      <td>Phoenix</td>\n      <td>11803</td>\n      <td>131.0</td>\n      <td>1139</td>\n      <td>3197</td>\n      <td>7336</td>\n      <td>55974</td>\n      <td>9471</td>\n      <td>39427</td>\n      <td>7076</td>\n      <td>201</td>\n      <td>1688722</td>\n    </tr>\n    <tr>\n      <th>1</th>\n      <td>Tucson, Arizona</td>\n      <td>548073</td>\n      <td>city</td>\n      <td>1248.714286</td>\n      <td>Arizona</td>\n      <td>Tucson</td>\n      <td>3775</td>\n      <td>40.0</td>\n      <td>527</td>\n      <td>1105</td>\n      <td>2103</td>\n      <td>17943</td>\n      <td>2497</td>\n      <td>13196</td>\n      <td>2250</td>\n      <td>142</td>\n      <td>548374</td>\n    </tr>\n    <tr>\n      <th>2</th>\n      <td>Little Rock, Arkansas</td>\n      <td>197312</td>\n      <td>city</td>\n      <td>895.000000</td>\n      <td>Arkansas</td>\n      <td>Little Rock</td>\n      <td>3009</td>\n      <td>38.0</td>\n      <td>209</td>\n      <td>391</td>\n      <td>2371</td>\n      <td>12145</td>\n      <td>1760</td>\n      <td>9316</td>\n      <td>1069</td>\n      <td>45</td>\n      <td>198382</td>\n    </tr>\n    <tr>\n      <th>3</th>\n      <td>Bakersfield, California</td>\n      <td>384145</td>\n      <td>city</td>\n      <td>1340.000000</td>\n      <td>California</td>\n      <td>Bakersfield</td>\n      <td>1766</td>\n      <td>34.0</td>\n      <td>116</td>\n      <td>701</td>\n      <td>915</td>\n      <td>16074</td>\n      <td>3888</td>\n      <td>9277</td>\n      <td>2909</td>\n      <td>470</td>\n      <td>388080</td>\n    </tr>\n    <tr>\n      <th>4</th>\n      <td>Riverside, California</td>\n      <td>331360</td>\n      <td>city</td>\n      <td>1944.444444</td>\n      <td>California</td>\n      <td>Riverside</td>\n      <td>1686</td>\n      <td>17.0</td>\n      <td>139</td>\n      <td>476</td>\n      <td>1054</td>\n      <td>9790</td>\n      <td>1302</td>\n      <td>6997</td>\n      <td>1491</td>\n      <td>75</td>\n      <td>333260</td>\n    </tr>\n    <tr>\n      <th>...</th>\n      <td>...</td>\n      <td>...</td>\n      <td>...</td>\n      <td>...</td>\n      <td>...</td>\n      <td>...</td>\n      <td>...</td>\n      <td>...</td>\n      <td>...</td>\n      <td>...</td>\n      <td>...</td>\n      <td>...</td>\n      <td>...</td>\n      <td>...</td>\n      <td>...</td>\n      <td>...</td>\n      <td>...</td>\n    </tr>\n    <tr>\n      <th>71</th>\n      <td>Virginia Beach, Virginia</td>\n      <td>449974</td>\n      <td>city</td>\n      <td>1356.707317</td>\n      <td>Virginia</td>\n      <td>Virginia Beach</td>\n      <td>581</td>\n      <td>30.0</td>\n      <td>79</td>\n      <td>196</td>\n      <td>276</td>\n      <td>7906</td>\n      <td>530</td>\n      <td>6797</td>\n      <td>579</td>\n      <td>34</td>\n      <td>449038</td>\n    </tr>\n    <tr>\n      <th>72</th>\n      <td>Seattle, Washington</td>\n      <td>753675</td>\n      <td>city</td>\n      <td>1964.097561</td>\n      <td>Washington</td>\n      <td>Seattle</td>\n      <td>4471</td>\n      <td>28.0</td>\n      <td>358</td>\n      <td>1339</td>\n      <td>2746</td>\n      <td>34333</td>\n      <td>7210</td>\n      <td>23478</td>\n      <td>3645</td>\n      <td>98</td>\n      <td>763706</td>\n    </tr>\n    <tr>\n      <th>73</th>\n      <td>Spokane, Washington</td>\n      <td>222081</td>\n      <td>city</td>\n      <td>1111.400000</td>\n      <td>Washington</td>\n      <td>Spokane</td>\n      <td>1520</td>\n      <td>6.0</td>\n      <td>230</td>\n      <td>311</td>\n      <td>973</td>\n      <td>13048</td>\n      <td>1743</td>\n      <td>10026</td>\n      <td>1279</td>\n      <td>45</td>\n      <td>220432</td>\n    </tr>\n    <tr>\n      <th>74</th>\n      <td>Madison, Wisconsin</td>\n      <td>259680</td>\n      <td>city</td>\n      <td>1415.166667</td>\n      <td>Wisconsin</td>\n      <td>Madison</td>\n      <td>940</td>\n      <td>4.0</td>\n      <td>107</td>\n      <td>217</td>\n      <td>612</td>\n      <td>6464</td>\n      <td>1046</td>\n      <td>4873</td>\n      <td>545</td>\n      <td>9</td>\n      <td>261270</td>\n    </tr>\n    <tr>\n      <th>75</th>\n      <td>Milwaukee, Wisconsin</td>\n      <td>590157</td>\n      <td>city</td>\n      <td>983.666667</td>\n      <td>Wisconsin</td>\n      <td>Milwaukee</td>\n      <td>7874</td>\n      <td>97.0</td>\n      <td>427</td>\n      <td>1911</td>\n      <td>5439</td>\n      <td>15097</td>\n      <td>3594</td>\n      <td>8053</td>\n      <td>3450</td>\n      <td>198</td>\n      <td>590923</td>\n    </tr>\n  </tbody>\n</table>\n<p>76 rows × 17 columns</p>\n</div>"
     },
     "metadata": {},
     "execution_count": 605
    }
   ],
   "source": [
    "# Remove commas from columns and change data type to floats\n",
    "\n",
    "merged_population_rent_crime['2019 Population'] = merged_population_rent_crime['2019 Population'].replace(',','', regex=True)\n",
    "merged_population_rent_crime['Crime Population'] = merged_population_rent_crime['Population'].replace(',','', regex=True)\n",
    "merged_population_rent_crime = merged_population_rent_crime.drop(['Population'], axis=1)\n",
    "merged_population_rent_crime['Violent crime'] = merged_population_rent_crime['Violent crime'].replace(',','', regex=True)\n",
    "merged_population_rent_crime['Murder and nonnegligent manslaughter'] = merged_population_rent_crime['Murder and nonnegligent manslaughter'].replace(',','', regex=True)\n",
    "merged_population_rent_crime['Rape'] = merged_population_rent_crime['Rape'].replace(',','', regex=True)\n",
    "merged_population_rent_crime['Robbery'] = merged_population_rent_crime['Robbery'].replace(',','', regex=True)\n",
    "merged_population_rent_crime['Aggravated assault'] = merged_population_rent_crime['Aggravated assault'].replace(',','', regex=True)\n",
    "merged_population_rent_crime['Property crime'] = merged_population_rent_crime['Property crime'].replace(',','', regex=True)\n",
    "merged_population_rent_crime['Burglary'] = merged_population_rent_crime['Burglary'].replace(',','', regex=True)\n",
    "merged_population_rent_crime['Larceny-theft'] = merged_population_rent_crime['Larceny-theft'].replace(',','', regex=True)\n",
    "merged_population_rent_crime['Motor vehicle theft'] = merged_population_rent_crime['Motor vehicle theft'].replace(',','', regex=True)\n",
    "merged_population_rent_crime['Arson'] = merged_population_rent_crime['Arson'].replace(',','', regex=True)\n",
    "\n",
    "merged_population_rent_crime"
   ]
  },
  {
   "cell_type": "code",
   "execution_count": 606,
   "metadata": {},
   "outputs": [
    {
     "output_type": "execute_result",
     "data": {
      "text/plain": [
       "9"
      ]
     },
     "metadata": {},
     "execution_count": 606
    }
   ],
   "source": [
    "# Check for null values\n",
    "\n",
    "merged_population_rent_crime.isnull().sum().sum()"
   ]
  },
  {
   "cell_type": "code",
   "execution_count": 607,
   "metadata": {},
   "outputs": [
    {
     "output_type": "execute_result",
     "data": {
      "text/plain": [
       "(68, 17)"
      ]
     },
     "metadata": {},
     "execution_count": 607
    }
   ],
   "source": [
    "# Drop all null values for now, can return to preserve rows by filling (fillna(), replace() and interpolate())\n",
    "\n",
    "merged_population_rent_crime = merged_population_rent_crime.dropna()\n",
    "merged_population_rent_crime.shape"
   ]
  },
  {
   "cell_type": "code",
   "execution_count": 608,
   "metadata": {},
   "outputs": [],
   "source": [
    "# Change datatype to float or int, int looks better with no decimal and trailing 0\n",
    "\n",
    "#merged_population_rent_crime['2019 Population'].astype('float64')\n",
    "#merged_population_rent_crime['2019 Rental Rates'].astype('float64')\n",
    "#merged_population_rent_crime['Population'].astype('float64')\n",
    "#merged_population_rent_crime['Violent crime'].astype('float64')\n",
    "#merged_population_rent_crime['Murder and nonnegligent manslaughter'].astype('float64')\n",
    "#merged_population_rent_crime['Rape'].astype('float64')\n",
    "#merged_population_rent_crime['Robbery'].astype('float64')\n",
    "#merged_population_rent_crime['Aggravated assault'].astype('float64')\n",
    "#merged_population_rent_crime['Property crime'].astype('float64')\n",
    "#merged_population_rent_crime['Burglary'].astype('float64')\n",
    "#merged_population_rent_crime['Larceny-theft'].astype('float64')\n",
    "#merged_population_rent_crime['Motor vehicle theft'].astype('float64')\n",
    "#merged_population_rent_crime['Arson'].astype('float64')\n",
    "\n",
    "merged_population_rent_crime['2019 Population'] = merged_population_rent_crime['2019 Population'].astype('int')\n",
    "merged_population_rent_crime['2019 Rental Rates'] = merged_population_rent_crime['2019 Rental Rates'].astype('int') # ValueError: Cannot convert non-finite values (NA or inf) to integer\n",
    "#merged_population_rent_crime['Population'] = merged_population_rent_crime['Population'].astype('int')\n",
    "merged_population_rent_crime['Violent crime'] = merged_population_rent_crime['Violent crime'].astype('int')\n",
    "merged_population_rent_crime['Murder and nonnegligent manslaughter'] = merged_population_rent_crime['Murder and nonnegligent manslaughter'].astype('int')\n",
    "merged_population_rent_crime['Rape'] = merged_population_rent_crime['Rape'].astype('int')\n",
    "merged_population_rent_crime['Robbery'] = merged_population_rent_crime['Robbery'].astype('int')\n",
    "merged_population_rent_crime['Aggravated assault'] = merged_population_rent_crime['Aggravated assault'].astype('int')\n",
    "merged_population_rent_crime['Property crime'] = merged_population_rent_crime['Property crime'].astype('int') # ValueError: cannot convert float NaN to integer\n",
    "merged_population_rent_crime['Burglary'] = merged_population_rent_crime['Burglary'].astype('int') # ValueError: cannot convert float NaN to integer\n",
    "merged_population_rent_crime['Larceny-theft'] = merged_population_rent_crime['Larceny-theft'].astype('int')\n",
    "merged_population_rent_crime['Motor vehicle theft'] = merged_population_rent_crime['Motor vehicle theft'].astype('int')\n",
    "merged_population_rent_crime['Arson'] = merged_population_rent_crime['Arson'].astype('int') # ValueError: cannot convert float NaN to integer\n",
    "\n",
    "# These columns previously had NA or NaN values which had to be dropped. These columns can be revisited to preserve more data.\n",
    "\n",
    "#merged_population_rent_crime['2019 Rental Rates']\n",
    "#merged_population_rent_crime['Property crime']\n",
    "#merged_population_rent_crime['Burglary']\n",
    "#merged_population_rent_crime['Arson']"
   ]
  },
  {
   "cell_type": "code",
   "execution_count": 609,
   "metadata": {},
   "outputs": [
    {
     "output_type": "execute_result",
     "data": {
      "text/plain": [
       "Location                                object\n",
       "2019 Population                          int32\n",
       "Town or City                            object\n",
       "2019 Rental Rates                        int32\n",
       "State                                   object\n",
       "City                                    object\n",
       "Violent crime                            int32\n",
       "Murder and nonnegligent manslaughter     int32\n",
       "Rape                                     int32\n",
       "Robbery                                  int32\n",
       "Aggravated assault                       int32\n",
       "Property crime                           int32\n",
       "Burglary                                 int32\n",
       "Larceny-theft                            int32\n",
       "Motor vehicle theft                      int32\n",
       "Arson                                    int32\n",
       "Crime Population                        object\n",
       "dtype: object"
      ]
     },
     "metadata": {},
     "execution_count": 609
    }
   ],
   "source": [
    "# Check data types again before binning, since changing\n",
    "\n",
    "merged_population_rent_crime.dtypes"
   ]
  },
  {
   "cell_type": "code",
   "execution_count": 610,
   "metadata": {},
   "outputs": [
    {
     "output_type": "execute_result",
     "data": {
      "text/plain": [
       "                    Location  2019 Population Town or City  2019 Rental Rates  \\\n",
       "0           Phoenix, Arizona          1680992         city               1447   \n",
       "1            Tucson, Arizona           548073         city               1248   \n",
       "2      Little Rock, Arkansas           197312         city                895   \n",
       "3    Bakersfield, California           384145         city               1340   \n",
       "4      Riverside, California           331360         city               1944   \n",
       "..                       ...              ...          ...                ...   \n",
       "71  Virginia Beach, Virginia           449974         city               1356   \n",
       "72       Seattle, Washington           753675         city               1964   \n",
       "73       Spokane, Washington           222081         city               1111   \n",
       "74        Madison, Wisconsin           259680         city               1415   \n",
       "75      Milwaukee, Wisconsin           590157         city                983   \n",
       "\n",
       "         State            City  Violent crime  \\\n",
       "0      Arizona         Phoenix          11803   \n",
       "1      Arizona          Tucson           3775   \n",
       "2     Arkansas     Little Rock           3009   \n",
       "3   California     Bakersfield           1766   \n",
       "4   California       Riverside           1686   \n",
       "..         ...             ...            ...   \n",
       "71    Virginia  Virginia Beach            581   \n",
       "72  Washington         Seattle           4471   \n",
       "73  Washington         Spokane           1520   \n",
       "74   Wisconsin         Madison            940   \n",
       "75   Wisconsin       Milwaukee           7874   \n",
       "\n",
       "    Murder and nonnegligent manslaughter  Rape  Robbery  Aggravated assault  \\\n",
       "0                                    131  1139     3197                7336   \n",
       "1                                     40   527     1105                2103   \n",
       "2                                     38   209      391                2371   \n",
       "3                                     34   116      701                 915   \n",
       "4                                     17   139      476                1054   \n",
       "..                                   ...   ...      ...                 ...   \n",
       "71                                    30    79      196                 276   \n",
       "72                                    28   358     1339                2746   \n",
       "73                                     6   230      311                 973   \n",
       "74                                     4   107      217                 612   \n",
       "75                                    97   427     1911                5439   \n",
       "\n",
       "    Property crime  Burglary  Larceny-theft  Motor vehicle theft  Arson  \\\n",
       "0            55974      9471          39427                 7076    201   \n",
       "1            17943      2497          13196                 2250    142   \n",
       "2            12145      1760           9316                 1069     45   \n",
       "3            16074      3888           9277                 2909    470   \n",
       "4             9790      1302           6997                 1491     75   \n",
       "..             ...       ...            ...                  ...    ...   \n",
       "71            7906       530           6797                  579     34   \n",
       "72           34333      7210          23478                 3645     98   \n",
       "73           13048      1743          10026                 1279     45   \n",
       "74            6464      1046           4873                  545      9   \n",
       "75           15097      3594           8053                 3450    198   \n",
       "\n",
       "   Crime Population    Crime Rate  \n",
       "0           1688722   8075.886143  \n",
       "1            548374   7951.130598  \n",
       "2            198382  15383.250892  \n",
       "3            388080   9410.509053  \n",
       "4            333260   6949.239498  \n",
       "..              ...           ...  \n",
       "71           449038   3779.773942  \n",
       "72           763706  10310.279630  \n",
       "73           220432  13139.800343  \n",
       "74           261270   5705.868762  \n",
       "75           590923   7818.258531  \n",
       "\n",
       "[68 rows x 18 columns]"
      ],
      "text/html": "<div>\n<style scoped>\n    .dataframe tbody tr th:only-of-type {\n        vertical-align: middle;\n    }\n\n    .dataframe tbody tr th {\n        vertical-align: top;\n    }\n\n    .dataframe thead th {\n        text-align: right;\n    }\n</style>\n<table border=\"1\" class=\"dataframe\">\n  <thead>\n    <tr style=\"text-align: right;\">\n      <th></th>\n      <th>Location</th>\n      <th>2019 Population</th>\n      <th>Town or City</th>\n      <th>2019 Rental Rates</th>\n      <th>State</th>\n      <th>City</th>\n      <th>Violent crime</th>\n      <th>Murder and nonnegligent manslaughter</th>\n      <th>Rape</th>\n      <th>Robbery</th>\n      <th>Aggravated assault</th>\n      <th>Property crime</th>\n      <th>Burglary</th>\n      <th>Larceny-theft</th>\n      <th>Motor vehicle theft</th>\n      <th>Arson</th>\n      <th>Crime Population</th>\n      <th>Crime Rate</th>\n    </tr>\n  </thead>\n  <tbody>\n    <tr>\n      <th>0</th>\n      <td>Phoenix, Arizona</td>\n      <td>1680992</td>\n      <td>city</td>\n      <td>1447</td>\n      <td>Arizona</td>\n      <td>Phoenix</td>\n      <td>11803</td>\n      <td>131</td>\n      <td>1139</td>\n      <td>3197</td>\n      <td>7336</td>\n      <td>55974</td>\n      <td>9471</td>\n      <td>39427</td>\n      <td>7076</td>\n      <td>201</td>\n      <td>1688722</td>\n      <td>8075.886143</td>\n    </tr>\n    <tr>\n      <th>1</th>\n      <td>Tucson, Arizona</td>\n      <td>548073</td>\n      <td>city</td>\n      <td>1248</td>\n      <td>Arizona</td>\n      <td>Tucson</td>\n      <td>3775</td>\n      <td>40</td>\n      <td>527</td>\n      <td>1105</td>\n      <td>2103</td>\n      <td>17943</td>\n      <td>2497</td>\n      <td>13196</td>\n      <td>2250</td>\n      <td>142</td>\n      <td>548374</td>\n      <td>7951.130598</td>\n    </tr>\n    <tr>\n      <th>2</th>\n      <td>Little Rock, Arkansas</td>\n      <td>197312</td>\n      <td>city</td>\n      <td>895</td>\n      <td>Arkansas</td>\n      <td>Little Rock</td>\n      <td>3009</td>\n      <td>38</td>\n      <td>209</td>\n      <td>391</td>\n      <td>2371</td>\n      <td>12145</td>\n      <td>1760</td>\n      <td>9316</td>\n      <td>1069</td>\n      <td>45</td>\n      <td>198382</td>\n      <td>15383.250892</td>\n    </tr>\n    <tr>\n      <th>3</th>\n      <td>Bakersfield, California</td>\n      <td>384145</td>\n      <td>city</td>\n      <td>1340</td>\n      <td>California</td>\n      <td>Bakersfield</td>\n      <td>1766</td>\n      <td>34</td>\n      <td>116</td>\n      <td>701</td>\n      <td>915</td>\n      <td>16074</td>\n      <td>3888</td>\n      <td>9277</td>\n      <td>2909</td>\n      <td>470</td>\n      <td>388080</td>\n      <td>9410.509053</td>\n    </tr>\n    <tr>\n      <th>4</th>\n      <td>Riverside, California</td>\n      <td>331360</td>\n      <td>city</td>\n      <td>1944</td>\n      <td>California</td>\n      <td>Riverside</td>\n      <td>1686</td>\n      <td>17</td>\n      <td>139</td>\n      <td>476</td>\n      <td>1054</td>\n      <td>9790</td>\n      <td>1302</td>\n      <td>6997</td>\n      <td>1491</td>\n      <td>75</td>\n      <td>333260</td>\n      <td>6949.239498</td>\n    </tr>\n    <tr>\n      <th>...</th>\n      <td>...</td>\n      <td>...</td>\n      <td>...</td>\n      <td>...</td>\n      <td>...</td>\n      <td>...</td>\n      <td>...</td>\n      <td>...</td>\n      <td>...</td>\n      <td>...</td>\n      <td>...</td>\n      <td>...</td>\n      <td>...</td>\n      <td>...</td>\n      <td>...</td>\n      <td>...</td>\n      <td>...</td>\n      <td>...</td>\n    </tr>\n    <tr>\n      <th>71</th>\n      <td>Virginia Beach, Virginia</td>\n      <td>449974</td>\n      <td>city</td>\n      <td>1356</td>\n      <td>Virginia</td>\n      <td>Virginia Beach</td>\n      <td>581</td>\n      <td>30</td>\n      <td>79</td>\n      <td>196</td>\n      <td>276</td>\n      <td>7906</td>\n      <td>530</td>\n      <td>6797</td>\n      <td>579</td>\n      <td>34</td>\n      <td>449038</td>\n      <td>3779.773942</td>\n    </tr>\n    <tr>\n      <th>72</th>\n      <td>Seattle, Washington</td>\n      <td>753675</td>\n      <td>city</td>\n      <td>1964</td>\n      <td>Washington</td>\n      <td>Seattle</td>\n      <td>4471</td>\n      <td>28</td>\n      <td>358</td>\n      <td>1339</td>\n      <td>2746</td>\n      <td>34333</td>\n      <td>7210</td>\n      <td>23478</td>\n      <td>3645</td>\n      <td>98</td>\n      <td>763706</td>\n      <td>10310.279630</td>\n    </tr>\n    <tr>\n      <th>73</th>\n      <td>Spokane, Washington</td>\n      <td>222081</td>\n      <td>city</td>\n      <td>1111</td>\n      <td>Washington</td>\n      <td>Spokane</td>\n      <td>1520</td>\n      <td>6</td>\n      <td>230</td>\n      <td>311</td>\n      <td>973</td>\n      <td>13048</td>\n      <td>1743</td>\n      <td>10026</td>\n      <td>1279</td>\n      <td>45</td>\n      <td>220432</td>\n      <td>13139.800343</td>\n    </tr>\n    <tr>\n      <th>74</th>\n      <td>Madison, Wisconsin</td>\n      <td>259680</td>\n      <td>city</td>\n      <td>1415</td>\n      <td>Wisconsin</td>\n      <td>Madison</td>\n      <td>940</td>\n      <td>4</td>\n      <td>107</td>\n      <td>217</td>\n      <td>612</td>\n      <td>6464</td>\n      <td>1046</td>\n      <td>4873</td>\n      <td>545</td>\n      <td>9</td>\n      <td>261270</td>\n      <td>5705.868762</td>\n    </tr>\n    <tr>\n      <th>75</th>\n      <td>Milwaukee, Wisconsin</td>\n      <td>590157</td>\n      <td>city</td>\n      <td>983</td>\n      <td>Wisconsin</td>\n      <td>Milwaukee</td>\n      <td>7874</td>\n      <td>97</td>\n      <td>427</td>\n      <td>1911</td>\n      <td>5439</td>\n      <td>15097</td>\n      <td>3594</td>\n      <td>8053</td>\n      <td>3450</td>\n      <td>198</td>\n      <td>590923</td>\n      <td>7818.258531</td>\n    </tr>\n  </tbody>\n</table>\n<p>68 rows × 18 columns</p>\n</div>"
     },
     "metadata": {},
     "execution_count": 610
    }
   ],
   "source": [
    "# Combine crime data into new column and divide by population * 1000 (This is how crime rate is calculated)\n",
    "\n",
    "merged_population_rent_crime['Crime Rate']=merged_population_rent_crime.iloc[:,-11:].sum(axis=1)/merged_population_rent_crime['2019 Population']*100000\n",
    "\n",
    "#merged_population_rent_crime['Crime Rate'] = merged_population_rent_crime['Violent crime'] + merged_population_rent_crime['Murder and nonnegligent manslaughter'] + #merged_population_rent_crime['Rape'] + merged_population_rent_crime + merged_population_rent_crime['Robbery'] + ['Aggravated assault'] + merged_population_rent_crime['Property #crime'] + merged_population_rent_crime['Burglary'] + merged_population_rent_crime['Larceny-theft'] + merged_population_rent_crime['Motor vehicle theft'] + #merged_population_rent_crime['Arson']/merged_population_rent_crime['Population']*100000\n",
    "\n",
    "#merged_population_rent_crime['Crime Rate'] = total_crimes/merged_population_rent_crime['Population']*100000\n",
    "\n",
    "merged_population_rent_crime"
   ]
  },
  {
   "cell_type": "code",
   "execution_count": 611,
   "metadata": {},
   "outputs": [
    {
     "output_type": "execute_result",
     "data": {
      "text/plain": [
       "count    6.800000e+01\n",
       "mean     4.499816e+05\n",
       "std      5.046458e+05\n",
       "min      4.927100e+04\n",
       "25%      1.360930e+05\n",
       "50%      2.428600e+05\n",
       "75%      5.909902e+05\n",
       "max      2.693976e+06\n",
       "Name: 2019 Population, dtype: float64"
      ]
     },
     "metadata": {},
     "execution_count": 611
    }
   ],
   "source": [
    "# Describe the data to begin binning data with pandas cut or qcut\n",
    "\n",
    "merged_population_rent_crime['2019 Population'].describe()"
   ]
  },
  {
   "cell_type": "code",
   "execution_count": 612,
   "metadata": {},
   "outputs": [
    {
     "output_type": "execute_result",
     "data": {
      "text/plain": [
       "0      (679778.5, 2693976.0]\n",
       "1     (433712.667, 679778.5]\n",
       "2       (186153.0, 242860.0]\n",
       "3     (242860.0, 433712.667]\n",
       "4     (242860.0, 433712.667]\n",
       "               ...          \n",
       "71    (433712.667, 679778.5]\n",
       "72     (679778.5, 2693976.0]\n",
       "73      (186153.0, 242860.0]\n",
       "74    (242860.0, 433712.667]\n",
       "75    (433712.667, 679778.5]\n",
       "Name: 2019 Population, Length: 68, dtype: category\n",
       "Categories (6, interval[float64]): [(49270.999, 117422.0] < (117422.0, 186153.0] < (186153.0, 242860.0] < (242860.0, 433712.667] < (433712.667, 679778.5] < (679778.5, 2693976.0]]"
      ]
     },
     "metadata": {},
     "execution_count": 612
    }
   ],
   "source": [
    "# Quartile cut the data, to see how it is evenly distributed\n",
    "\n",
    "pd.qcut(merged_population_rent_crime['2019 Population'], q=6)"
   ]
  },
  {
   "cell_type": "code",
   "execution_count": 613,
   "metadata": {},
   "outputs": [
    {
     "output_type": "execute_result",
     "data": {
      "text/plain": [
       "                    Location  2019 Population Town or City  2019 Rental Rates  \\\n",
       "0           Phoenix, Arizona          1680992         city               1447   \n",
       "1            Tucson, Arizona           548073         city               1248   \n",
       "2      Little Rock, Arkansas           197312         city                895   \n",
       "3    Bakersfield, California           384145         city               1340   \n",
       "4      Riverside, California           331360         city               1944   \n",
       "..                       ...              ...          ...                ...   \n",
       "71  Virginia Beach, Virginia           449974         city               1356   \n",
       "72       Seattle, Washington           753675         city               1964   \n",
       "73       Spokane, Washington           222081         city               1111   \n",
       "74        Madison, Wisconsin           259680         city               1415   \n",
       "75      Milwaukee, Wisconsin           590157         city                983   \n",
       "\n",
       "         State            City  Violent crime  \\\n",
       "0      Arizona         Phoenix          11803   \n",
       "1      Arizona          Tucson           3775   \n",
       "2     Arkansas     Little Rock           3009   \n",
       "3   California     Bakersfield           1766   \n",
       "4   California       Riverside           1686   \n",
       "..         ...             ...            ...   \n",
       "71    Virginia  Virginia Beach            581   \n",
       "72  Washington         Seattle           4471   \n",
       "73  Washington         Spokane           1520   \n",
       "74   Wisconsin         Madison            940   \n",
       "75   Wisconsin       Milwaukee           7874   \n",
       "\n",
       "    Murder and nonnegligent manslaughter  Rape  Robbery  Aggravated assault  \\\n",
       "0                                    131  1139     3197                7336   \n",
       "1                                     40   527     1105                2103   \n",
       "2                                     38   209      391                2371   \n",
       "3                                     34   116      701                 915   \n",
       "4                                     17   139      476                1054   \n",
       "..                                   ...   ...      ...                 ...   \n",
       "71                                    30    79      196                 276   \n",
       "72                                    28   358     1339                2746   \n",
       "73                                     6   230      311                 973   \n",
       "74                                     4   107      217                 612   \n",
       "75                                    97   427     1911                5439   \n",
       "\n",
       "    Property crime  Burglary  Larceny-theft  Motor vehicle theft  Arson  \\\n",
       "0            55974      9471          39427                 7076    201   \n",
       "1            17943      2497          13196                 2250    142   \n",
       "2            12145      1760           9316                 1069     45   \n",
       "3            16074      3888           9277                 2909    470   \n",
       "4             9790      1302           6997                 1491     75   \n",
       "..             ...       ...            ...                  ...    ...   \n",
       "71            7906       530           6797                  579     34   \n",
       "72           34333      7210          23478                 3645     98   \n",
       "73           13048      1743          10026                 1279     45   \n",
       "74            6464      1046           4873                  545      9   \n",
       "75           15097      3594           8053                 3450    198   \n",
       "\n",
       "   Crime Population    Crime Rate Urban Population by City Size Categories  \\\n",
       "0           1688722   8075.886143                  Large Metropolitan Area   \n",
       "1            548374   7951.130598                        Metropolitan Area   \n",
       "2            198382  15383.250892                         Small Urban Area   \n",
       "3            388080   9410.509053                   Medium-size Urban Area   \n",
       "4            333260   6949.239498                   Medium-size Urban Area   \n",
       "..              ...           ...                                      ...   \n",
       "71           449038   3779.773942                   Medium-size Urban Area   \n",
       "72           763706  10310.279630                        Metropolitan Area   \n",
       "73           220432  13139.800343                   Medium-size Urban Area   \n",
       "74           261270   5705.868762                   Medium-size Urban Area   \n",
       "75           590923   7818.258531                        Metropolitan Area   \n",
       "\n",
       "   Urban Population by City Size Ranges  \n",
       "0                           1,500,000 <  \n",
       "1                     500,000-1,500,000  \n",
       "2                        50,000-200,000  \n",
       "3                       200,000-500,000  \n",
       "4                       200,000-500,000  \n",
       "..                                  ...  \n",
       "71                      200,000-500,000  \n",
       "72                    500,000-1,500,000  \n",
       "73                      200,000-500,000  \n",
       "74                      200,000-500,000  \n",
       "75                    500,000-1,500,000  \n",
       "\n",
       "[68 rows x 20 columns]"
      ],
      "text/html": "<div>\n<style scoped>\n    .dataframe tbody tr th:only-of-type {\n        vertical-align: middle;\n    }\n\n    .dataframe tbody tr th {\n        vertical-align: top;\n    }\n\n    .dataframe thead th {\n        text-align: right;\n    }\n</style>\n<table border=\"1\" class=\"dataframe\">\n  <thead>\n    <tr style=\"text-align: right;\">\n      <th></th>\n      <th>Location</th>\n      <th>2019 Population</th>\n      <th>Town or City</th>\n      <th>2019 Rental Rates</th>\n      <th>State</th>\n      <th>City</th>\n      <th>Violent crime</th>\n      <th>Murder and nonnegligent manslaughter</th>\n      <th>Rape</th>\n      <th>Robbery</th>\n      <th>Aggravated assault</th>\n      <th>Property crime</th>\n      <th>Burglary</th>\n      <th>Larceny-theft</th>\n      <th>Motor vehicle theft</th>\n      <th>Arson</th>\n      <th>Crime Population</th>\n      <th>Crime Rate</th>\n      <th>Urban Population by City Size Categories</th>\n      <th>Urban Population by City Size Ranges</th>\n    </tr>\n  </thead>\n  <tbody>\n    <tr>\n      <th>0</th>\n      <td>Phoenix, Arizona</td>\n      <td>1680992</td>\n      <td>city</td>\n      <td>1447</td>\n      <td>Arizona</td>\n      <td>Phoenix</td>\n      <td>11803</td>\n      <td>131</td>\n      <td>1139</td>\n      <td>3197</td>\n      <td>7336</td>\n      <td>55974</td>\n      <td>9471</td>\n      <td>39427</td>\n      <td>7076</td>\n      <td>201</td>\n      <td>1688722</td>\n      <td>8075.886143</td>\n      <td>Large Metropolitan Area</td>\n      <td>1,500,000 &lt;</td>\n    </tr>\n    <tr>\n      <th>1</th>\n      <td>Tucson, Arizona</td>\n      <td>548073</td>\n      <td>city</td>\n      <td>1248</td>\n      <td>Arizona</td>\n      <td>Tucson</td>\n      <td>3775</td>\n      <td>40</td>\n      <td>527</td>\n      <td>1105</td>\n      <td>2103</td>\n      <td>17943</td>\n      <td>2497</td>\n      <td>13196</td>\n      <td>2250</td>\n      <td>142</td>\n      <td>548374</td>\n      <td>7951.130598</td>\n      <td>Metropolitan Area</td>\n      <td>500,000-1,500,000</td>\n    </tr>\n    <tr>\n      <th>2</th>\n      <td>Little Rock, Arkansas</td>\n      <td>197312</td>\n      <td>city</td>\n      <td>895</td>\n      <td>Arkansas</td>\n      <td>Little Rock</td>\n      <td>3009</td>\n      <td>38</td>\n      <td>209</td>\n      <td>391</td>\n      <td>2371</td>\n      <td>12145</td>\n      <td>1760</td>\n      <td>9316</td>\n      <td>1069</td>\n      <td>45</td>\n      <td>198382</td>\n      <td>15383.250892</td>\n      <td>Small Urban Area</td>\n      <td>50,000-200,000</td>\n    </tr>\n    <tr>\n      <th>3</th>\n      <td>Bakersfield, California</td>\n      <td>384145</td>\n      <td>city</td>\n      <td>1340</td>\n      <td>California</td>\n      <td>Bakersfield</td>\n      <td>1766</td>\n      <td>34</td>\n      <td>116</td>\n      <td>701</td>\n      <td>915</td>\n      <td>16074</td>\n      <td>3888</td>\n      <td>9277</td>\n      <td>2909</td>\n      <td>470</td>\n      <td>388080</td>\n      <td>9410.509053</td>\n      <td>Medium-size Urban Area</td>\n      <td>200,000-500,000</td>\n    </tr>\n    <tr>\n      <th>4</th>\n      <td>Riverside, California</td>\n      <td>331360</td>\n      <td>city</td>\n      <td>1944</td>\n      <td>California</td>\n      <td>Riverside</td>\n      <td>1686</td>\n      <td>17</td>\n      <td>139</td>\n      <td>476</td>\n      <td>1054</td>\n      <td>9790</td>\n      <td>1302</td>\n      <td>6997</td>\n      <td>1491</td>\n      <td>75</td>\n      <td>333260</td>\n      <td>6949.239498</td>\n      <td>Medium-size Urban Area</td>\n      <td>200,000-500,000</td>\n    </tr>\n    <tr>\n      <th>...</th>\n      <td>...</td>\n      <td>...</td>\n      <td>...</td>\n      <td>...</td>\n      <td>...</td>\n      <td>...</td>\n      <td>...</td>\n      <td>...</td>\n      <td>...</td>\n      <td>...</td>\n      <td>...</td>\n      <td>...</td>\n      <td>...</td>\n      <td>...</td>\n      <td>...</td>\n      <td>...</td>\n      <td>...</td>\n      <td>...</td>\n      <td>...</td>\n      <td>...</td>\n    </tr>\n    <tr>\n      <th>71</th>\n      <td>Virginia Beach, Virginia</td>\n      <td>449974</td>\n      <td>city</td>\n      <td>1356</td>\n      <td>Virginia</td>\n      <td>Virginia Beach</td>\n      <td>581</td>\n      <td>30</td>\n      <td>79</td>\n      <td>196</td>\n      <td>276</td>\n      <td>7906</td>\n      <td>530</td>\n      <td>6797</td>\n      <td>579</td>\n      <td>34</td>\n      <td>449038</td>\n      <td>3779.773942</td>\n      <td>Medium-size Urban Area</td>\n      <td>200,000-500,000</td>\n    </tr>\n    <tr>\n      <th>72</th>\n      <td>Seattle, Washington</td>\n      <td>753675</td>\n      <td>city</td>\n      <td>1964</td>\n      <td>Washington</td>\n      <td>Seattle</td>\n      <td>4471</td>\n      <td>28</td>\n      <td>358</td>\n      <td>1339</td>\n      <td>2746</td>\n      <td>34333</td>\n      <td>7210</td>\n      <td>23478</td>\n      <td>3645</td>\n      <td>98</td>\n      <td>763706</td>\n      <td>10310.279630</td>\n      <td>Metropolitan Area</td>\n      <td>500,000-1,500,000</td>\n    </tr>\n    <tr>\n      <th>73</th>\n      <td>Spokane, Washington</td>\n      <td>222081</td>\n      <td>city</td>\n      <td>1111</td>\n      <td>Washington</td>\n      <td>Spokane</td>\n      <td>1520</td>\n      <td>6</td>\n      <td>230</td>\n      <td>311</td>\n      <td>973</td>\n      <td>13048</td>\n      <td>1743</td>\n      <td>10026</td>\n      <td>1279</td>\n      <td>45</td>\n      <td>220432</td>\n      <td>13139.800343</td>\n      <td>Medium-size Urban Area</td>\n      <td>200,000-500,000</td>\n    </tr>\n    <tr>\n      <th>74</th>\n      <td>Madison, Wisconsin</td>\n      <td>259680</td>\n      <td>city</td>\n      <td>1415</td>\n      <td>Wisconsin</td>\n      <td>Madison</td>\n      <td>940</td>\n      <td>4</td>\n      <td>107</td>\n      <td>217</td>\n      <td>612</td>\n      <td>6464</td>\n      <td>1046</td>\n      <td>4873</td>\n      <td>545</td>\n      <td>9</td>\n      <td>261270</td>\n      <td>5705.868762</td>\n      <td>Medium-size Urban Area</td>\n      <td>200,000-500,000</td>\n    </tr>\n    <tr>\n      <th>75</th>\n      <td>Milwaukee, Wisconsin</td>\n      <td>590157</td>\n      <td>city</td>\n      <td>983</td>\n      <td>Wisconsin</td>\n      <td>Milwaukee</td>\n      <td>7874</td>\n      <td>97</td>\n      <td>427</td>\n      <td>1911</td>\n      <td>5439</td>\n      <td>15097</td>\n      <td>3594</td>\n      <td>8053</td>\n      <td>3450</td>\n      <td>198</td>\n      <td>590923</td>\n      <td>7818.258531</td>\n      <td>Metropolitan Area</td>\n      <td>500,000-1,500,000</td>\n    </tr>\n  </tbody>\n</table>\n<p>68 rows × 20 columns</p>\n</div>"
     },
     "metadata": {},
     "execution_count": 613
    }
   ],
   "source": [
    "# Bin 2019 population into Urban population by City Size Categories and ranges\n",
    "\n",
    "# (https://data.oecd.org/popregion/urban-population-by-city-size.htm#:~:text=their%20administrative%20boundaries.-,Urban%20areas%20in%20OECD%20countries%20are%20classified%20as%3A%20large%20metropolitan,areas%20if%20their%20population%20is)\n",
    "\n",
    "# Urban areas in OECD countries are classified as: large metropolitan areas if they have a population of 1.5 million or more; metropolitan areas if their population is between 500 000 and 1.5 million; medium-size urban areas if their population is between 200 000 and 500 000; and, small urban areas if their population is between 50 000 and 200 000. This indicator is measured as a percentage of the national population.\n",
    "\n",
    "# Qcut\n",
    "\n",
    "#merged_population_rent_crime['Urban Population by City Size'] = pd.qcut(merged_population_rent_crime['2019 Population'], q=4, labels = [\"Small Urban Area\", \"Medium-size Urban Area\", \"Metropolitan Area\", \"Large Metropolitan Area\"])\n",
    "\n",
    "#merged_population_rent_crime['Population by City Size'] = pd.qcut(merged_population_rent_crime['2019 Population'], q=4)\n",
    "\n",
    "#merged_population_rent_crime\n",
    "\n",
    "# Consider using just cut to fit the labels above. qcut will make the bins equal, but it is difficult to categorize cities based on those numbers.\n",
    "\n",
    "bins = [0, 50000, 200000, 500000, 1500000, 100000000]\n",
    "labels = [\"Town\",\"Small Urban Area\", \"Medium-size Urban Area\", \"Metropolitan Area\", \"Large Metropolitan Area\"]\n",
    "merged_population_rent_crime['Urban Population by City Size Categories'] = pd.cut(merged_population_rent_crime['2019 Population'], bins=bins, labels=labels)\n",
    "\n",
    "bins = [0, 50000, 200000, 500000, 1500000, 100000000]\n",
    "labels = [\"0-50,000\", \"50,000-200,000\", \"200,000-500,000\", \"500,000-1,500,000\", \"1,500,000 <\"]\n",
    "merged_population_rent_crime['Urban Population by City Size Ranges'] = pd.cut(merged_population_rent_crime['2019 Population'], bins=bins, labels=labels)\n",
    "\n",
    "\n",
    "merged_population_rent_crime"
   ]
  },
  {
   "cell_type": "code",
   "execution_count": 614,
   "metadata": {},
   "outputs": [
    {
     "output_type": "execute_result",
     "data": {
      "text/plain": [
       "count      68.000000\n",
       "mean     1448.794118\n",
       "std       458.855701\n",
       "min       678.000000\n",
       "25%      1180.750000\n",
       "50%      1369.000000\n",
       "75%      1604.000000\n",
       "max      3362.000000\n",
       "Name: 2019 Rental Rates, dtype: float64"
      ]
     },
     "metadata": {},
     "execution_count": 614
    }
   ],
   "source": [
    "# Describe the data to begin binning data with pandas cut or qcut\n",
    "\n",
    "merged_population_rent_crime['2019 Rental Rates'].describe()"
   ]
  },
  {
   "cell_type": "code",
   "execution_count": 615,
   "metadata": {},
   "outputs": [
    {
     "output_type": "execute_result",
     "data": {
      "text/plain": [
       "0       (1369.0, 1604.0]\n",
       "1      (1180.75, 1369.0]\n",
       "2     (677.999, 1180.75]\n",
       "3      (1180.75, 1369.0]\n",
       "4       (1604.0, 3362.0]\n",
       "             ...        \n",
       "71     (1180.75, 1369.0]\n",
       "72      (1604.0, 3362.0]\n",
       "73    (677.999, 1180.75]\n",
       "74      (1369.0, 1604.0]\n",
       "75    (677.999, 1180.75]\n",
       "Name: 2019 Rental Rates, Length: 68, dtype: category\n",
       "Categories (4, interval[float64]): [(677.999, 1180.75] < (1180.75, 1369.0] < (1369.0, 1604.0] < (1604.0, 3362.0]]"
      ]
     },
     "metadata": {},
     "execution_count": 615
    }
   ],
   "source": [
    "# Quartile cut the 2019 Rental Rates data, to see how it is evenly distributed\n",
    "\n",
    "pd.qcut(merged_population_rent_crime['2019 Rental Rates'], q=4)"
   ]
  },
  {
   "cell_type": "code",
   "execution_count": 616,
   "metadata": {},
   "outputs": [
    {
     "output_type": "execute_result",
     "data": {
      "text/plain": [
       "                    Location  2019 Population Town or City  2019 Rental Rates  \\\n",
       "0           Phoenix, Arizona          1680992         city               1447   \n",
       "1            Tucson, Arizona           548073         city               1248   \n",
       "2      Little Rock, Arkansas           197312         city                895   \n",
       "3    Bakersfield, California           384145         city               1340   \n",
       "4      Riverside, California           331360         city               1944   \n",
       "..                       ...              ...          ...                ...   \n",
       "71  Virginia Beach, Virginia           449974         city               1356   \n",
       "72       Seattle, Washington           753675         city               1964   \n",
       "73       Spokane, Washington           222081         city               1111   \n",
       "74        Madison, Wisconsin           259680         city               1415   \n",
       "75      Milwaukee, Wisconsin           590157         city                983   \n",
       "\n",
       "         State            City  Violent crime  \\\n",
       "0      Arizona         Phoenix          11803   \n",
       "1      Arizona          Tucson           3775   \n",
       "2     Arkansas     Little Rock           3009   \n",
       "3   California     Bakersfield           1766   \n",
       "4   California       Riverside           1686   \n",
       "..         ...             ...            ...   \n",
       "71    Virginia  Virginia Beach            581   \n",
       "72  Washington         Seattle           4471   \n",
       "73  Washington         Spokane           1520   \n",
       "74   Wisconsin         Madison            940   \n",
       "75   Wisconsin       Milwaukee           7874   \n",
       "\n",
       "    Murder and nonnegligent manslaughter  Rape  Robbery  ...  Burglary  \\\n",
       "0                                    131  1139     3197  ...      9471   \n",
       "1                                     40   527     1105  ...      2497   \n",
       "2                                     38   209      391  ...      1760   \n",
       "3                                     34   116      701  ...      3888   \n",
       "4                                     17   139      476  ...      1302   \n",
       "..                                   ...   ...      ...  ...       ...   \n",
       "71                                    30    79      196  ...       530   \n",
       "72                                    28   358     1339  ...      7210   \n",
       "73                                     6   230      311  ...      1743   \n",
       "74                                     4   107      217  ...      1046   \n",
       "75                                    97   427     1911  ...      3594   \n",
       "\n",
       "    Larceny-theft  Motor vehicle theft  Arson  Crime Population    Crime Rate  \\\n",
       "0           39427                 7076    201           1688722   8075.886143   \n",
       "1           13196                 2250    142            548374   7951.130598   \n",
       "2            9316                 1069     45            198382  15383.250892   \n",
       "3            9277                 2909    470            388080   9410.509053   \n",
       "4            6997                 1491     75            333260   6949.239498   \n",
       "..            ...                  ...    ...               ...           ...   \n",
       "71           6797                  579     34            449038   3779.773942   \n",
       "72          23478                 3645     98            763706  10310.279630   \n",
       "73          10026                 1279     45            220432  13139.800343   \n",
       "74           4873                  545      9            261270   5705.868762   \n",
       "75           8053                 3450    198            590923   7818.258531   \n",
       "\n",
       "   Urban Population by City Size Categories  \\\n",
       "0                   Large Metropolitan Area   \n",
       "1                         Metropolitan Area   \n",
       "2                          Small Urban Area   \n",
       "3                    Medium-size Urban Area   \n",
       "4                    Medium-size Urban Area   \n",
       "..                                      ...   \n",
       "71                   Medium-size Urban Area   \n",
       "72                        Metropolitan Area   \n",
       "73                   Medium-size Urban Area   \n",
       "74                   Medium-size Urban Area   \n",
       "75                        Metropolitan Area   \n",
       "\n",
       "    Urban Population by City Size Ranges Rental Rate Categories  \\\n",
       "0                            1,500,000 <           Average Rent   \n",
       "1                      500,000-1,500,000               Low Rent   \n",
       "2                         50,000-200,000               Low Rent   \n",
       "3                        200,000-500,000           Average Rent   \n",
       "4                        200,000-500,000           Highest Rent   \n",
       "..                                   ...                    ...   \n",
       "71                       200,000-500,000           Average Rent   \n",
       "72                     500,000-1,500,000           Highest Rent   \n",
       "73                       200,000-500,000               Low Rent   \n",
       "74                       200,000-500,000           Average Rent   \n",
       "75                     500,000-1,500,000               Low Rent   \n",
       "\n",
       "   Rental Rate Ranges  \n",
       "0     $1,294.50-1,549  \n",
       "1    $581.99-1,294.50  \n",
       "2    $581.99-1,294.50  \n",
       "3     $1,294.50-1,549  \n",
       "4      $1891.50-6,373  \n",
       "..                ...  \n",
       "71    $1,294.50-1,549  \n",
       "72     $1891.50-6,373  \n",
       "73   $581.99-1,294.50  \n",
       "74    $1,294.50-1,549  \n",
       "75   $581.99-1,294.50  \n",
       "\n",
       "[68 rows x 22 columns]"
      ],
      "text/html": "<div>\n<style scoped>\n    .dataframe tbody tr th:only-of-type {\n        vertical-align: middle;\n    }\n\n    .dataframe tbody tr th {\n        vertical-align: top;\n    }\n\n    .dataframe thead th {\n        text-align: right;\n    }\n</style>\n<table border=\"1\" class=\"dataframe\">\n  <thead>\n    <tr style=\"text-align: right;\">\n      <th></th>\n      <th>Location</th>\n      <th>2019 Population</th>\n      <th>Town or City</th>\n      <th>2019 Rental Rates</th>\n      <th>State</th>\n      <th>City</th>\n      <th>Violent crime</th>\n      <th>Murder and nonnegligent manslaughter</th>\n      <th>Rape</th>\n      <th>Robbery</th>\n      <th>...</th>\n      <th>Burglary</th>\n      <th>Larceny-theft</th>\n      <th>Motor vehicle theft</th>\n      <th>Arson</th>\n      <th>Crime Population</th>\n      <th>Crime Rate</th>\n      <th>Urban Population by City Size Categories</th>\n      <th>Urban Population by City Size Ranges</th>\n      <th>Rental Rate Categories</th>\n      <th>Rental Rate Ranges</th>\n    </tr>\n  </thead>\n  <tbody>\n    <tr>\n      <th>0</th>\n      <td>Phoenix, Arizona</td>\n      <td>1680992</td>\n      <td>city</td>\n      <td>1447</td>\n      <td>Arizona</td>\n      <td>Phoenix</td>\n      <td>11803</td>\n      <td>131</td>\n      <td>1139</td>\n      <td>3197</td>\n      <td>...</td>\n      <td>9471</td>\n      <td>39427</td>\n      <td>7076</td>\n      <td>201</td>\n      <td>1688722</td>\n      <td>8075.886143</td>\n      <td>Large Metropolitan Area</td>\n      <td>1,500,000 &lt;</td>\n      <td>Average Rent</td>\n      <td>$1,294.50-1,549</td>\n    </tr>\n    <tr>\n      <th>1</th>\n      <td>Tucson, Arizona</td>\n      <td>548073</td>\n      <td>city</td>\n      <td>1248</td>\n      <td>Arizona</td>\n      <td>Tucson</td>\n      <td>3775</td>\n      <td>40</td>\n      <td>527</td>\n      <td>1105</td>\n      <td>...</td>\n      <td>2497</td>\n      <td>13196</td>\n      <td>2250</td>\n      <td>142</td>\n      <td>548374</td>\n      <td>7951.130598</td>\n      <td>Metropolitan Area</td>\n      <td>500,000-1,500,000</td>\n      <td>Low Rent</td>\n      <td>$581.99-1,294.50</td>\n    </tr>\n    <tr>\n      <th>2</th>\n      <td>Little Rock, Arkansas</td>\n      <td>197312</td>\n      <td>city</td>\n      <td>895</td>\n      <td>Arkansas</td>\n      <td>Little Rock</td>\n      <td>3009</td>\n      <td>38</td>\n      <td>209</td>\n      <td>391</td>\n      <td>...</td>\n      <td>1760</td>\n      <td>9316</td>\n      <td>1069</td>\n      <td>45</td>\n      <td>198382</td>\n      <td>15383.250892</td>\n      <td>Small Urban Area</td>\n      <td>50,000-200,000</td>\n      <td>Low Rent</td>\n      <td>$581.99-1,294.50</td>\n    </tr>\n    <tr>\n      <th>3</th>\n      <td>Bakersfield, California</td>\n      <td>384145</td>\n      <td>city</td>\n      <td>1340</td>\n      <td>California</td>\n      <td>Bakersfield</td>\n      <td>1766</td>\n      <td>34</td>\n      <td>116</td>\n      <td>701</td>\n      <td>...</td>\n      <td>3888</td>\n      <td>9277</td>\n      <td>2909</td>\n      <td>470</td>\n      <td>388080</td>\n      <td>9410.509053</td>\n      <td>Medium-size Urban Area</td>\n      <td>200,000-500,000</td>\n      <td>Average Rent</td>\n      <td>$1,294.50-1,549</td>\n    </tr>\n    <tr>\n      <th>4</th>\n      <td>Riverside, California</td>\n      <td>331360</td>\n      <td>city</td>\n      <td>1944</td>\n      <td>California</td>\n      <td>Riverside</td>\n      <td>1686</td>\n      <td>17</td>\n      <td>139</td>\n      <td>476</td>\n      <td>...</td>\n      <td>1302</td>\n      <td>6997</td>\n      <td>1491</td>\n      <td>75</td>\n      <td>333260</td>\n      <td>6949.239498</td>\n      <td>Medium-size Urban Area</td>\n      <td>200,000-500,000</td>\n      <td>Highest Rent</td>\n      <td>$1891.50-6,373</td>\n    </tr>\n    <tr>\n      <th>...</th>\n      <td>...</td>\n      <td>...</td>\n      <td>...</td>\n      <td>...</td>\n      <td>...</td>\n      <td>...</td>\n      <td>...</td>\n      <td>...</td>\n      <td>...</td>\n      <td>...</td>\n      <td>...</td>\n      <td>...</td>\n      <td>...</td>\n      <td>...</td>\n      <td>...</td>\n      <td>...</td>\n      <td>...</td>\n      <td>...</td>\n      <td>...</td>\n      <td>...</td>\n      <td>...</td>\n    </tr>\n    <tr>\n      <th>71</th>\n      <td>Virginia Beach, Virginia</td>\n      <td>449974</td>\n      <td>city</td>\n      <td>1356</td>\n      <td>Virginia</td>\n      <td>Virginia Beach</td>\n      <td>581</td>\n      <td>30</td>\n      <td>79</td>\n      <td>196</td>\n      <td>...</td>\n      <td>530</td>\n      <td>6797</td>\n      <td>579</td>\n      <td>34</td>\n      <td>449038</td>\n      <td>3779.773942</td>\n      <td>Medium-size Urban Area</td>\n      <td>200,000-500,000</td>\n      <td>Average Rent</td>\n      <td>$1,294.50-1,549</td>\n    </tr>\n    <tr>\n      <th>72</th>\n      <td>Seattle, Washington</td>\n      <td>753675</td>\n      <td>city</td>\n      <td>1964</td>\n      <td>Washington</td>\n      <td>Seattle</td>\n      <td>4471</td>\n      <td>28</td>\n      <td>358</td>\n      <td>1339</td>\n      <td>...</td>\n      <td>7210</td>\n      <td>23478</td>\n      <td>3645</td>\n      <td>98</td>\n      <td>763706</td>\n      <td>10310.279630</td>\n      <td>Metropolitan Area</td>\n      <td>500,000-1,500,000</td>\n      <td>Highest Rent</td>\n      <td>$1891.50-6,373</td>\n    </tr>\n    <tr>\n      <th>73</th>\n      <td>Spokane, Washington</td>\n      <td>222081</td>\n      <td>city</td>\n      <td>1111</td>\n      <td>Washington</td>\n      <td>Spokane</td>\n      <td>1520</td>\n      <td>6</td>\n      <td>230</td>\n      <td>311</td>\n      <td>...</td>\n      <td>1743</td>\n      <td>10026</td>\n      <td>1279</td>\n      <td>45</td>\n      <td>220432</td>\n      <td>13139.800343</td>\n      <td>Medium-size Urban Area</td>\n      <td>200,000-500,000</td>\n      <td>Low Rent</td>\n      <td>$581.99-1,294.50</td>\n    </tr>\n    <tr>\n      <th>74</th>\n      <td>Madison, Wisconsin</td>\n      <td>259680</td>\n      <td>city</td>\n      <td>1415</td>\n      <td>Wisconsin</td>\n      <td>Madison</td>\n      <td>940</td>\n      <td>4</td>\n      <td>107</td>\n      <td>217</td>\n      <td>...</td>\n      <td>1046</td>\n      <td>4873</td>\n      <td>545</td>\n      <td>9</td>\n      <td>261270</td>\n      <td>5705.868762</td>\n      <td>Medium-size Urban Area</td>\n      <td>200,000-500,000</td>\n      <td>Average Rent</td>\n      <td>$1,294.50-1,549</td>\n    </tr>\n    <tr>\n      <th>75</th>\n      <td>Milwaukee, Wisconsin</td>\n      <td>590157</td>\n      <td>city</td>\n      <td>983</td>\n      <td>Wisconsin</td>\n      <td>Milwaukee</td>\n      <td>7874</td>\n      <td>97</td>\n      <td>427</td>\n      <td>1911</td>\n      <td>...</td>\n      <td>3594</td>\n      <td>8053</td>\n      <td>3450</td>\n      <td>198</td>\n      <td>590923</td>\n      <td>7818.258531</td>\n      <td>Metropolitan Area</td>\n      <td>500,000-1,500,000</td>\n      <td>Low Rent</td>\n      <td>$581.99-1,294.50</td>\n    </tr>\n  </tbody>\n</table>\n<p>68 rows × 22 columns</p>\n</div>"
     },
     "metadata": {},
     "execution_count": 616
    }
   ],
   "source": [
    "# Bin the 2019 Rental Rates data into categories and ranges\n",
    "\n",
    "bins = [0, 581.99, 1294.5, 1549, 1891.5, 6373]\n",
    "labels = [\"Lowest Rent\",\"Low Rent\", \"Average Rent\", \"Higher Rent\", \"Highest Rent\"]\n",
    "merged_population_rent_crime['Rental Rate Categories'] = pd.cut(merged_population_rent_crime['2019 Rental Rates'], bins=bins, labels=labels)\n",
    "\n",
    "bins = [0, 581.99, 1294.5, 1549, 1891.5, 6373]\n",
    "labels = [\"$0-581.99\",\"$581.99-1,294.50\", \"$1,294.50-1,549\", \"$1,549-1,891.50\", \"$1891.50-6,373\"]\n",
    "merged_population_rent_crime['Rental Rate Ranges'] = pd.cut(merged_population_rent_crime['2019 Rental Rates'], bins=bins, labels=labels)\n",
    "\n",
    "merged_population_rent_crime"
   ]
  },
  {
   "cell_type": "code",
   "execution_count": 617,
   "metadata": {},
   "outputs": [
    {
     "output_type": "execute_result",
     "data": {
      "text/plain": [
       "count       68.000000\n",
       "mean      8700.517414\n",
       "std       3229.769757\n",
       "min       1972.791138\n",
       "25%       6334.476970\n",
       "50%       8387.700330\n",
       "75%      10806.325688\n",
       "max      16274.419781\n",
       "Name: Crime Rate, dtype: float64"
      ]
     },
     "metadata": {},
     "execution_count": 617
    }
   ],
   "source": [
    "# Describe the data to begin binning data with pandas cut or qcut\n",
    "\n",
    "merged_population_rent_crime['Crime Rate'].describe()"
   ]
  },
  {
   "cell_type": "code",
   "execution_count": 618,
   "metadata": {},
   "outputs": [
    {
     "output_type": "execute_result",
     "data": {
      "text/plain": [
       "0      (7904.614, 9414.012]\n",
       "1      (7904.614, 9414.012]\n",
       "2     (11886.314, 16274.42]\n",
       "3      (7904.614, 9414.012]\n",
       "4      (5645.263, 7904.614]\n",
       "              ...          \n",
       "71      (1972.79, 5645.263]\n",
       "72    (9414.012, 11886.314]\n",
       "73    (11886.314, 16274.42]\n",
       "74     (5645.263, 7904.614]\n",
       "75     (5645.263, 7904.614]\n",
       "Name: Crime Rate, Length: 68, dtype: category\n",
       "Categories (5, interval[float64]): [(1972.79, 5645.263] < (5645.263, 7904.614] < (7904.614, 9414.012] < (9414.012, 11886.314] < (11886.314, 16274.42]]"
      ]
     },
     "metadata": {},
     "execution_count": 618
    }
   ],
   "source": [
    "# Quartile cut the data, to see how it is evenly distributed\n",
    "\n",
    "pd.qcut(merged_population_rent_crime['Crime Rate'], q=5)"
   ]
  },
  {
   "cell_type": "code",
   "execution_count": 619,
   "metadata": {},
   "outputs": [
    {
     "output_type": "execute_result",
     "data": {
      "text/plain": [
       "                    Location  2019 Population Town or City  2019 Rental Rates  \\\n",
       "0           Phoenix, Arizona          1680992         city               1447   \n",
       "1            Tucson, Arizona           548073         city               1248   \n",
       "2      Little Rock, Arkansas           197312         city                895   \n",
       "3    Bakersfield, California           384145         city               1340   \n",
       "4      Riverside, California           331360         city               1944   \n",
       "..                       ...              ...          ...                ...   \n",
       "71  Virginia Beach, Virginia           449974         city               1356   \n",
       "72       Seattle, Washington           753675         city               1964   \n",
       "73       Spokane, Washington           222081         city               1111   \n",
       "74        Madison, Wisconsin           259680         city               1415   \n",
       "75      Milwaukee, Wisconsin           590157         city                983   \n",
       "\n",
       "         State            City  Violent crime  \\\n",
       "0      Arizona         Phoenix          11803   \n",
       "1      Arizona          Tucson           3775   \n",
       "2     Arkansas     Little Rock           3009   \n",
       "3   California     Bakersfield           1766   \n",
       "4   California       Riverside           1686   \n",
       "..         ...             ...            ...   \n",
       "71    Virginia  Virginia Beach            581   \n",
       "72  Washington         Seattle           4471   \n",
       "73  Washington         Spokane           1520   \n",
       "74   Wisconsin         Madison            940   \n",
       "75   Wisconsin       Milwaukee           7874   \n",
       "\n",
       "    Murder and nonnegligent manslaughter  Rape  Robbery  ...  \\\n",
       "0                                    131  1139     3197  ...   \n",
       "1                                     40   527     1105  ...   \n",
       "2                                     38   209      391  ...   \n",
       "3                                     34   116      701  ...   \n",
       "4                                     17   139      476  ...   \n",
       "..                                   ...   ...      ...  ...   \n",
       "71                                    30    79      196  ...   \n",
       "72                                    28   358     1339  ...   \n",
       "73                                     6   230      311  ...   \n",
       "74                                     4   107      217  ...   \n",
       "75                                    97   427     1911  ...   \n",
       "\n",
       "    Motor vehicle theft  Arson  Crime Population    Crime Rate  \\\n",
       "0                  7076    201           1688722   8075.886143   \n",
       "1                  2250    142            548374   7951.130598   \n",
       "2                  1069     45            198382  15383.250892   \n",
       "3                  2909    470            388080   9410.509053   \n",
       "4                  1491     75            333260   6949.239498   \n",
       "..                  ...    ...               ...           ...   \n",
       "71                  579     34            449038   3779.773942   \n",
       "72                 3645     98            763706  10310.279630   \n",
       "73                 1279     45            220432  13139.800343   \n",
       "74                  545      9            261270   5705.868762   \n",
       "75                 3450    198            590923   7818.258531   \n",
       "\n",
       "    Urban Population by City Size Categories  \\\n",
       "0                    Large Metropolitan Area   \n",
       "1                          Metropolitan Area   \n",
       "2                           Small Urban Area   \n",
       "3                     Medium-size Urban Area   \n",
       "4                     Medium-size Urban Area   \n",
       "..                                       ...   \n",
       "71                    Medium-size Urban Area   \n",
       "72                         Metropolitan Area   \n",
       "73                    Medium-size Urban Area   \n",
       "74                    Medium-size Urban Area   \n",
       "75                         Metropolitan Area   \n",
       "\n",
       "    Urban Population by City Size Ranges Rental Rate Categories  \\\n",
       "0                            1,500,000 <           Average Rent   \n",
       "1                      500,000-1,500,000               Low Rent   \n",
       "2                         50,000-200,000               Low Rent   \n",
       "3                        200,000-500,000           Average Rent   \n",
       "4                        200,000-500,000           Highest Rent   \n",
       "..                                   ...                    ...   \n",
       "71                       200,000-500,000           Average Rent   \n",
       "72                     500,000-1,500,000           Highest Rent   \n",
       "73                       200,000-500,000               Low Rent   \n",
       "74                       200,000-500,000           Average Rent   \n",
       "75                     500,000-1,500,000               Low Rent   \n",
       "\n",
       "    Rental Rate Ranges Crime Rate Categories     Crime Rate Ranges  \n",
       "0      $1,294.50-1,549         Average Crime   7,951.131-9,683.737  \n",
       "1     $581.99-1,294.50           Lower Crime   5,831.013-7,951.131  \n",
       "2     $581.99-1,294.50         Highest Crime  11,316.718-16,274.42  \n",
       "3      $1,294.50-1,549         Average Crime   7,951.131-9,683.737  \n",
       "4       $1891.50-6,373           Lower Crime   5,831.013-7,951.131  \n",
       "..                 ...                   ...                   ...  \n",
       "71     $1,294.50-1,549          Lowest Crime    1,972.79-5,831.013  \n",
       "72      $1891.50-6,373          Higher Crime  9,683.737-11,316.718  \n",
       "73    $581.99-1,294.50         Highest Crime  11,316.718-16,274.42  \n",
       "74     $1,294.50-1,549          Lowest Crime    1,972.79-5,831.013  \n",
       "75    $581.99-1,294.50           Lower Crime   5,831.013-7,951.131  \n",
       "\n",
       "[68 rows x 24 columns]"
      ],
      "text/html": "<div>\n<style scoped>\n    .dataframe tbody tr th:only-of-type {\n        vertical-align: middle;\n    }\n\n    .dataframe tbody tr th {\n        vertical-align: top;\n    }\n\n    .dataframe thead th {\n        text-align: right;\n    }\n</style>\n<table border=\"1\" class=\"dataframe\">\n  <thead>\n    <tr style=\"text-align: right;\">\n      <th></th>\n      <th>Location</th>\n      <th>2019 Population</th>\n      <th>Town or City</th>\n      <th>2019 Rental Rates</th>\n      <th>State</th>\n      <th>City</th>\n      <th>Violent crime</th>\n      <th>Murder and nonnegligent manslaughter</th>\n      <th>Rape</th>\n      <th>Robbery</th>\n      <th>...</th>\n      <th>Motor vehicle theft</th>\n      <th>Arson</th>\n      <th>Crime Population</th>\n      <th>Crime Rate</th>\n      <th>Urban Population by City Size Categories</th>\n      <th>Urban Population by City Size Ranges</th>\n      <th>Rental Rate Categories</th>\n      <th>Rental Rate Ranges</th>\n      <th>Crime Rate Categories</th>\n      <th>Crime Rate Ranges</th>\n    </tr>\n  </thead>\n  <tbody>\n    <tr>\n      <th>0</th>\n      <td>Phoenix, Arizona</td>\n      <td>1680992</td>\n      <td>city</td>\n      <td>1447</td>\n      <td>Arizona</td>\n      <td>Phoenix</td>\n      <td>11803</td>\n      <td>131</td>\n      <td>1139</td>\n      <td>3197</td>\n      <td>...</td>\n      <td>7076</td>\n      <td>201</td>\n      <td>1688722</td>\n      <td>8075.886143</td>\n      <td>Large Metropolitan Area</td>\n      <td>1,500,000 &lt;</td>\n      <td>Average Rent</td>\n      <td>$1,294.50-1,549</td>\n      <td>Average Crime</td>\n      <td>7,951.131-9,683.737</td>\n    </tr>\n    <tr>\n      <th>1</th>\n      <td>Tucson, Arizona</td>\n      <td>548073</td>\n      <td>city</td>\n      <td>1248</td>\n      <td>Arizona</td>\n      <td>Tucson</td>\n      <td>3775</td>\n      <td>40</td>\n      <td>527</td>\n      <td>1105</td>\n      <td>...</td>\n      <td>2250</td>\n      <td>142</td>\n      <td>548374</td>\n      <td>7951.130598</td>\n      <td>Metropolitan Area</td>\n      <td>500,000-1,500,000</td>\n      <td>Low Rent</td>\n      <td>$581.99-1,294.50</td>\n      <td>Lower Crime</td>\n      <td>5,831.013-7,951.131</td>\n    </tr>\n    <tr>\n      <th>2</th>\n      <td>Little Rock, Arkansas</td>\n      <td>197312</td>\n      <td>city</td>\n      <td>895</td>\n      <td>Arkansas</td>\n      <td>Little Rock</td>\n      <td>3009</td>\n      <td>38</td>\n      <td>209</td>\n      <td>391</td>\n      <td>...</td>\n      <td>1069</td>\n      <td>45</td>\n      <td>198382</td>\n      <td>15383.250892</td>\n      <td>Small Urban Area</td>\n      <td>50,000-200,000</td>\n      <td>Low Rent</td>\n      <td>$581.99-1,294.50</td>\n      <td>Highest Crime</td>\n      <td>11,316.718-16,274.42</td>\n    </tr>\n    <tr>\n      <th>3</th>\n      <td>Bakersfield, California</td>\n      <td>384145</td>\n      <td>city</td>\n      <td>1340</td>\n      <td>California</td>\n      <td>Bakersfield</td>\n      <td>1766</td>\n      <td>34</td>\n      <td>116</td>\n      <td>701</td>\n      <td>...</td>\n      <td>2909</td>\n      <td>470</td>\n      <td>388080</td>\n      <td>9410.509053</td>\n      <td>Medium-size Urban Area</td>\n      <td>200,000-500,000</td>\n      <td>Average Rent</td>\n      <td>$1,294.50-1,549</td>\n      <td>Average Crime</td>\n      <td>7,951.131-9,683.737</td>\n    </tr>\n    <tr>\n      <th>4</th>\n      <td>Riverside, California</td>\n      <td>331360</td>\n      <td>city</td>\n      <td>1944</td>\n      <td>California</td>\n      <td>Riverside</td>\n      <td>1686</td>\n      <td>17</td>\n      <td>139</td>\n      <td>476</td>\n      <td>...</td>\n      <td>1491</td>\n      <td>75</td>\n      <td>333260</td>\n      <td>6949.239498</td>\n      <td>Medium-size Urban Area</td>\n      <td>200,000-500,000</td>\n      <td>Highest Rent</td>\n      <td>$1891.50-6,373</td>\n      <td>Lower Crime</td>\n      <td>5,831.013-7,951.131</td>\n    </tr>\n    <tr>\n      <th>...</th>\n      <td>...</td>\n      <td>...</td>\n      <td>...</td>\n      <td>...</td>\n      <td>...</td>\n      <td>...</td>\n      <td>...</td>\n      <td>...</td>\n      <td>...</td>\n      <td>...</td>\n      <td>...</td>\n      <td>...</td>\n      <td>...</td>\n      <td>...</td>\n      <td>...</td>\n      <td>...</td>\n      <td>...</td>\n      <td>...</td>\n      <td>...</td>\n      <td>...</td>\n      <td>...</td>\n    </tr>\n    <tr>\n      <th>71</th>\n      <td>Virginia Beach, Virginia</td>\n      <td>449974</td>\n      <td>city</td>\n      <td>1356</td>\n      <td>Virginia</td>\n      <td>Virginia Beach</td>\n      <td>581</td>\n      <td>30</td>\n      <td>79</td>\n      <td>196</td>\n      <td>...</td>\n      <td>579</td>\n      <td>34</td>\n      <td>449038</td>\n      <td>3779.773942</td>\n      <td>Medium-size Urban Area</td>\n      <td>200,000-500,000</td>\n      <td>Average Rent</td>\n      <td>$1,294.50-1,549</td>\n      <td>Lowest Crime</td>\n      <td>1,972.79-5,831.013</td>\n    </tr>\n    <tr>\n      <th>72</th>\n      <td>Seattle, Washington</td>\n      <td>753675</td>\n      <td>city</td>\n      <td>1964</td>\n      <td>Washington</td>\n      <td>Seattle</td>\n      <td>4471</td>\n      <td>28</td>\n      <td>358</td>\n      <td>1339</td>\n      <td>...</td>\n      <td>3645</td>\n      <td>98</td>\n      <td>763706</td>\n      <td>10310.279630</td>\n      <td>Metropolitan Area</td>\n      <td>500,000-1,500,000</td>\n      <td>Highest Rent</td>\n      <td>$1891.50-6,373</td>\n      <td>Higher Crime</td>\n      <td>9,683.737-11,316.718</td>\n    </tr>\n    <tr>\n      <th>73</th>\n      <td>Spokane, Washington</td>\n      <td>222081</td>\n      <td>city</td>\n      <td>1111</td>\n      <td>Washington</td>\n      <td>Spokane</td>\n      <td>1520</td>\n      <td>6</td>\n      <td>230</td>\n      <td>311</td>\n      <td>...</td>\n      <td>1279</td>\n      <td>45</td>\n      <td>220432</td>\n      <td>13139.800343</td>\n      <td>Medium-size Urban Area</td>\n      <td>200,000-500,000</td>\n      <td>Low Rent</td>\n      <td>$581.99-1,294.50</td>\n      <td>Highest Crime</td>\n      <td>11,316.718-16,274.42</td>\n    </tr>\n    <tr>\n      <th>74</th>\n      <td>Madison, Wisconsin</td>\n      <td>259680</td>\n      <td>city</td>\n      <td>1415</td>\n      <td>Wisconsin</td>\n      <td>Madison</td>\n      <td>940</td>\n      <td>4</td>\n      <td>107</td>\n      <td>217</td>\n      <td>...</td>\n      <td>545</td>\n      <td>9</td>\n      <td>261270</td>\n      <td>5705.868762</td>\n      <td>Medium-size Urban Area</td>\n      <td>200,000-500,000</td>\n      <td>Average Rent</td>\n      <td>$1,294.50-1,549</td>\n      <td>Lowest Crime</td>\n      <td>1,972.79-5,831.013</td>\n    </tr>\n    <tr>\n      <th>75</th>\n      <td>Milwaukee, Wisconsin</td>\n      <td>590157</td>\n      <td>city</td>\n      <td>983</td>\n      <td>Wisconsin</td>\n      <td>Milwaukee</td>\n      <td>7874</td>\n      <td>97</td>\n      <td>427</td>\n      <td>1911</td>\n      <td>...</td>\n      <td>3450</td>\n      <td>198</td>\n      <td>590923</td>\n      <td>7818.258531</td>\n      <td>Metropolitan Area</td>\n      <td>500,000-1,500,000</td>\n      <td>Low Rent</td>\n      <td>$581.99-1,294.50</td>\n      <td>Lower Crime</td>\n      <td>5,831.013-7,951.131</td>\n    </tr>\n  </tbody>\n</table>\n<p>68 rows × 24 columns</p>\n</div>"
     },
     "metadata": {},
     "execution_count": 619
    }
   ],
   "source": [
    "# Bin the 2019 Crimes Rate data into categories and ranges\n",
    "\n",
    "bins = [1972.79, 5831.013, 7951.131, 9683.737, 11316.718, 16274.42]\n",
    "labels = [\"Lowest Crime\", \"Lower Crime\", \"Average Crime\", \"Higher Crime\", \"Highest Crime\"]\n",
    "merged_population_rent_crime['Crime Rate Categories'] = pd.cut(merged_population_rent_crime['Crime Rate'], bins=bins, labels=labels)\n",
    "\n",
    "bins = [1972.79, 5831.013, 7951.131, 9683.737, 11316.718, 16274.42]\n",
    "labels = [\"1,972.79-5,831.013\", \"5,831.013-7,951.131\", \"7,951.131-9,683.737\", \"9,683.737-11,316.718\", \"11,316.718-16,274.42\"]\n",
    "merged_population_rent_crime['Crime Rate Ranges'] = pd.cut(merged_population_rent_crime['Crime Rate'], bins=bins, labels=labels)\n",
    "\n",
    "merged_population_rent_crime"
   ]
  },
  {
   "cell_type": "code",
   "execution_count": 620,
   "metadata": {},
   "outputs": [],
   "source": [
    "# Export merged_population_rent_crime with binned categories for csv and beginning modeling in another notebook\n",
    "\n",
    "merged_population_rent_crime.to_csv('../data/pop_rent_crime_bins.csv')"
   ]
  },
  {
   "cell_type": "code",
   "execution_count": 621,
   "metadata": {},
   "outputs": [],
   "source": [
    "#1/24/2020 Adding walk_score and cost_of_living data for Release 2\n",
    "\n",
    "walk = pd.read_csv(\"../data/walk_score.csv\")\n",
    "cost = pd.read_csv(\"../data/cost_of_living.csv\")"
   ]
  },
  {
   "cell_type": "code",
   "execution_count": 622,
   "metadata": {},
   "outputs": [
    {
     "output_type": "execute_result",
     "data": {
      "text/plain": [
       "      Unnamed: 0          City  Zip Code  Walk Score Transit Score  \\\n",
       "0              0    Birmingham   35211.0          35            25   \n",
       "1              1    Montgomery   36109.0          26            16   \n",
       "2              2        Mobile   36605.0          32            --   \n",
       "3              3    Huntsville   35810.0          24            13   \n",
       "4              4    Tuscaloosa       NaN          33            --   \n",
       "...          ...           ...       ...         ...           ...   \n",
       "2495           1        Casper       NaN          39            --   \n",
       "2496           2       Laramie       NaN          34            --   \n",
       "2497           3      Gillette       NaN          21            --   \n",
       "2498           4  Rock Springs       NaN          29            --   \n",
       "2499           5      Sheridan       NaN          30            --   \n",
       "\n",
       "      Bike Score  Population State  \n",
       "0             31      212237    AL  \n",
       "1             38      205764    AL  \n",
       "2             39      195111    AL  \n",
       "3             40      180105    AL  \n",
       "4             37       90468    AL  \n",
       "...          ...         ...   ...  \n",
       "2495          44       55316    WY  \n",
       "2496          67       30816    WY  \n",
       "2497          34       29087    WY  \n",
       "2498          32       23036    WY  \n",
       "2499          45       17444    WY  \n",
       "\n",
       "[2500 rows x 8 columns]"
      ],
      "text/html": "<div>\n<style scoped>\n    .dataframe tbody tr th:only-of-type {\n        vertical-align: middle;\n    }\n\n    .dataframe tbody tr th {\n        vertical-align: top;\n    }\n\n    .dataframe thead th {\n        text-align: right;\n    }\n</style>\n<table border=\"1\" class=\"dataframe\">\n  <thead>\n    <tr style=\"text-align: right;\">\n      <th></th>\n      <th>Unnamed: 0</th>\n      <th>City</th>\n      <th>Zip Code</th>\n      <th>Walk Score</th>\n      <th>Transit Score</th>\n      <th>Bike Score</th>\n      <th>Population</th>\n      <th>State</th>\n    </tr>\n  </thead>\n  <tbody>\n    <tr>\n      <th>0</th>\n      <td>0</td>\n      <td>Birmingham</td>\n      <td>35211.0</td>\n      <td>35</td>\n      <td>25</td>\n      <td>31</td>\n      <td>212237</td>\n      <td>AL</td>\n    </tr>\n    <tr>\n      <th>1</th>\n      <td>1</td>\n      <td>Montgomery</td>\n      <td>36109.0</td>\n      <td>26</td>\n      <td>16</td>\n      <td>38</td>\n      <td>205764</td>\n      <td>AL</td>\n    </tr>\n    <tr>\n      <th>2</th>\n      <td>2</td>\n      <td>Mobile</td>\n      <td>36605.0</td>\n      <td>32</td>\n      <td>--</td>\n      <td>39</td>\n      <td>195111</td>\n      <td>AL</td>\n    </tr>\n    <tr>\n      <th>3</th>\n      <td>3</td>\n      <td>Huntsville</td>\n      <td>35810.0</td>\n      <td>24</td>\n      <td>13</td>\n      <td>40</td>\n      <td>180105</td>\n      <td>AL</td>\n    </tr>\n    <tr>\n      <th>4</th>\n      <td>4</td>\n      <td>Tuscaloosa</td>\n      <td>NaN</td>\n      <td>33</td>\n      <td>--</td>\n      <td>37</td>\n      <td>90468</td>\n      <td>AL</td>\n    </tr>\n    <tr>\n      <th>...</th>\n      <td>...</td>\n      <td>...</td>\n      <td>...</td>\n      <td>...</td>\n      <td>...</td>\n      <td>...</td>\n      <td>...</td>\n      <td>...</td>\n    </tr>\n    <tr>\n      <th>2495</th>\n      <td>1</td>\n      <td>Casper</td>\n      <td>NaN</td>\n      <td>39</td>\n      <td>--</td>\n      <td>44</td>\n      <td>55316</td>\n      <td>WY</td>\n    </tr>\n    <tr>\n      <th>2496</th>\n      <td>2</td>\n      <td>Laramie</td>\n      <td>NaN</td>\n      <td>34</td>\n      <td>--</td>\n      <td>67</td>\n      <td>30816</td>\n      <td>WY</td>\n    </tr>\n    <tr>\n      <th>2497</th>\n      <td>3</td>\n      <td>Gillette</td>\n      <td>NaN</td>\n      <td>21</td>\n      <td>--</td>\n      <td>34</td>\n      <td>29087</td>\n      <td>WY</td>\n    </tr>\n    <tr>\n      <th>2498</th>\n      <td>4</td>\n      <td>Rock Springs</td>\n      <td>NaN</td>\n      <td>29</td>\n      <td>--</td>\n      <td>32</td>\n      <td>23036</td>\n      <td>WY</td>\n    </tr>\n    <tr>\n      <th>2499</th>\n      <td>5</td>\n      <td>Sheridan</td>\n      <td>NaN</td>\n      <td>30</td>\n      <td>--</td>\n      <td>45</td>\n      <td>17444</td>\n      <td>WY</td>\n    </tr>\n  </tbody>\n</table>\n<p>2500 rows × 8 columns</p>\n</div>"
     },
     "metadata": {},
     "execution_count": 622
    }
   ],
   "source": [
    "# Check out walk data\n",
    "\n",
    "walk"
   ]
  },
  {
   "cell_type": "code",
   "execution_count": 623,
   "metadata": {},
   "outputs": [],
   "source": [
    "# Replace state abbreviations with full state names\n",
    "\n",
    "walk[\"State\"] = walk['State'].str.replace('AK', 'Alaska', regex=False)\n",
    "walk[\"State\"] = walk['State'].str.replace('AL', 'Alabama', regex=False)\n",
    "walk[\"State\"] = walk['State'].str.replace('AR', 'Arkansas', regex=False)\n",
    "walk[\"State\"] = walk['State'].str.replace('AS', 'American Samoa', regex=False)\n",
    "walk[\"State\"] = walk['State'].str.replace('AZ', 'Arizona', regex=False)\n",
    "walk[\"State\"] = walk['State'].str.replace('CA', 'California', regex=False)\n",
    "walk[\"State\"] = walk['State'].str.replace('CO', 'Colorado', regex=False)\n",
    "walk[\"State\"] = walk['State'].str.replace('CT', 'Connecticut', regex=False)\n",
    "walk[\"State\"] = walk['State'].str.replace('DC', 'District of Columbia', regex=False)\n",
    "walk[\"State\"] = walk['State'].str.replace('DE', 'Delaware', regex=False)\n",
    "walk[\"State\"] = walk['State'].str.replace('FL', 'Florida', regex=False)\n",
    "walk[\"State\"] = walk['State'].str.replace('GA', 'Georgia', regex=False)\n",
    "walk[\"State\"] = walk['State'].str.replace('GU', 'Guam', regex=False)\n",
    "walk[\"State\"] = walk['State'].str.replace('HI', 'Hawaii', regex=False)\n",
    "walk[\"State\"] = walk['State'].str.replace('IA', 'Iowa', regex=False)\n",
    "walk[\"State\"] = walk['State'].str.replace('ID', 'Idaho', regex=False)\n",
    "walk[\"State\"] = walk['State'].str.replace('IL', 'Illinois', regex=False)\n",
    "walk[\"State\"] = walk['State'].str.replace('IN', 'Indiana', regex=False)\n",
    "walk[\"State\"] = walk['State'].str.replace('KS', 'Kansas', regex=False)\n",
    "walk[\"State\"] = walk['State'].str.replace('KY', 'Kentucky', regex=False)\n",
    "walk[\"State\"] = walk['State'].str.replace('LA', 'Louisiana', regex=False)\n",
    "walk[\"State\"] = walk['State'].str.replace('MA', 'Massachusetts', regex=False)\n",
    "walk[\"State\"] = walk['State'].str.replace('MD', 'Maryland', regex=False)\n",
    "walk[\"State\"] = walk['State'].str.replace('ME', 'Maine', regex=False)\n",
    "walk[\"State\"] = walk['State'].str.replace('MI', 'Michigan', regex=False)\n",
    "walk[\"State\"] = walk['State'].str.replace('MN', 'Minnesota', regex=False)\n",
    "walk[\"State\"] = walk['State'].str.replace('MO', 'Missouri', regex=False)\n",
    "walk[\"State\"] = walk['State'].str.replace('MP', 'Northern Mariana Islands', regex=False)\n",
    "walk[\"State\"] = walk['State'].str.replace('MS', 'Mississippi', regex=False)\n",
    "walk[\"State\"] = walk['State'].str.replace('MT', 'Montana', regex=False)\n",
    "walk[\"State\"] = walk['State'].str.replace('NA', 'National', regex=False)\n",
    "walk[\"State\"] = walk['State'].str.replace('NC', 'North Carolina', regex=False)\n",
    "walk[\"State\"] = walk['State'].str.replace('ND', 'North Dakota', regex=False)\n",
    "walk[\"State\"] = walk['State'].str.replace('NE', 'Nebraska', regex=False)\n",
    "walk[\"State\"] = walk['State'].str.replace('NH', 'New Hampshire', regex=False)\n",
    "walk[\"State\"] = walk['State'].str.replace('NJ', 'New Jersey', regex=False)\n",
    "walk[\"State\"] = walk['State'].str.replace('NM', 'New Mexico', regex=False)\n",
    "walk[\"State\"] = walk['State'].str.replace('NV', 'Nevada', regex=False)\n",
    "walk[\"State\"] = walk['State'].str.replace('NY', 'New York', regex=False)\n",
    "walk[\"State\"] = walk['State'].str.replace('OH', 'Ohio', regex=False)\n",
    "walk[\"State\"] = walk['State'].str.replace('OK', 'Oklahoma', regex=False)\n",
    "walk[\"State\"] = walk['State'].str.replace('OR', 'Oregon', regex=False)\n",
    "walk[\"State\"] = walk['State'].str.replace('PA', 'Pennsylvania', regex=False)\n",
    "walk[\"State\"] = walk['State'].str.replace('PR', 'Puerto Rico', regex=False)\n",
    "walk[\"State\"] = walk['State'].str.replace('RI', 'Rhode Island', regex=False)\n",
    "walk[\"State\"] = walk['State'].str.replace('SC', 'South Carolina', regex=False)\n",
    "walk[\"State\"] = walk['State'].str.replace('SD', 'South Dakota', regex=False)\n",
    "walk[\"State\"] = walk['State'].str.replace('TN', 'Tennessee', regex=False)\n",
    "walk[\"State\"] = walk['State'].str.replace('TX', 'Texas', regex=False)\n",
    "walk[\"State\"] = walk['State'].str.replace('UT', 'Utah', regex=False)\n",
    "walk[\"State\"] = walk['State'].str.replace('VA', 'Virginia', regex=False)\n",
    "walk[\"State\"] = walk['State'].str.replace('VI', 'Virgin Islands', regex=False)\n",
    "walk[\"State\"] = walk['State'].str.replace('VT', 'Vermont', regex=False)\n",
    "walk[\"State\"] = walk['State'].str.replace('WA', 'Washington', regex=False)\n",
    "walk[\"State\"] = walk['State'].str.replace('WI', 'Wisconsin', regex=False)\n",
    "walk[\"State\"] = walk['State'].str.replace('WV', 'West Virginia', regex=False)\n",
    "walk[\"State\"] = walk['State'].str.replace('WY', 'Wyoming', regex=False)"
   ]
  },
  {
   "cell_type": "code",
   "execution_count": 624,
   "metadata": {},
   "outputs": [
    {
     "output_type": "execute_result",
     "data": {
      "text/plain": [
       "              City  Zip Code  Walk Score Transit Score  Bike Score  \\\n",
       "0       Birmingham   35211.0          35            25          31   \n",
       "1       Montgomery   36109.0          26            16          38   \n",
       "2           Mobile   36605.0          32            --          39   \n",
       "3       Huntsville   35810.0          24            13          40   \n",
       "4       Tuscaloosa       NaN          33            --          37   \n",
       "...            ...       ...         ...           ...         ...   \n",
       "2495        Casper       NaN          39            --          44   \n",
       "2496       Laramie       NaN          34            --          67   \n",
       "2497      Gillette       NaN          21            --          34   \n",
       "2498  Rock Springs       NaN          29            --          32   \n",
       "2499      Sheridan       NaN          30            --          45   \n",
       "\n",
       "      Population    State  \n",
       "0         212237  Alabama  \n",
       "1         205764  Alabama  \n",
       "2         195111  Alabama  \n",
       "3         180105  Alabama  \n",
       "4          90468  Alabama  \n",
       "...          ...      ...  \n",
       "2495       55316  Wyoming  \n",
       "2496       30816  Wyoming  \n",
       "2497       29087  Wyoming  \n",
       "2498       23036  Wyoming  \n",
       "2499       17444  Wyoming  \n",
       "\n",
       "[2500 rows x 7 columns]"
      ],
      "text/html": "<div>\n<style scoped>\n    .dataframe tbody tr th:only-of-type {\n        vertical-align: middle;\n    }\n\n    .dataframe tbody tr th {\n        vertical-align: top;\n    }\n\n    .dataframe thead th {\n        text-align: right;\n    }\n</style>\n<table border=\"1\" class=\"dataframe\">\n  <thead>\n    <tr style=\"text-align: right;\">\n      <th></th>\n      <th>City</th>\n      <th>Zip Code</th>\n      <th>Walk Score</th>\n      <th>Transit Score</th>\n      <th>Bike Score</th>\n      <th>Population</th>\n      <th>State</th>\n    </tr>\n  </thead>\n  <tbody>\n    <tr>\n      <th>0</th>\n      <td>Birmingham</td>\n      <td>35211.0</td>\n      <td>35</td>\n      <td>25</td>\n      <td>31</td>\n      <td>212237</td>\n      <td>Alabama</td>\n    </tr>\n    <tr>\n      <th>1</th>\n      <td>Montgomery</td>\n      <td>36109.0</td>\n      <td>26</td>\n      <td>16</td>\n      <td>38</td>\n      <td>205764</td>\n      <td>Alabama</td>\n    </tr>\n    <tr>\n      <th>2</th>\n      <td>Mobile</td>\n      <td>36605.0</td>\n      <td>32</td>\n      <td>--</td>\n      <td>39</td>\n      <td>195111</td>\n      <td>Alabama</td>\n    </tr>\n    <tr>\n      <th>3</th>\n      <td>Huntsville</td>\n      <td>35810.0</td>\n      <td>24</td>\n      <td>13</td>\n      <td>40</td>\n      <td>180105</td>\n      <td>Alabama</td>\n    </tr>\n    <tr>\n      <th>4</th>\n      <td>Tuscaloosa</td>\n      <td>NaN</td>\n      <td>33</td>\n      <td>--</td>\n      <td>37</td>\n      <td>90468</td>\n      <td>Alabama</td>\n    </tr>\n    <tr>\n      <th>...</th>\n      <td>...</td>\n      <td>...</td>\n      <td>...</td>\n      <td>...</td>\n      <td>...</td>\n      <td>...</td>\n      <td>...</td>\n    </tr>\n    <tr>\n      <th>2495</th>\n      <td>Casper</td>\n      <td>NaN</td>\n      <td>39</td>\n      <td>--</td>\n      <td>44</td>\n      <td>55316</td>\n      <td>Wyoming</td>\n    </tr>\n    <tr>\n      <th>2496</th>\n      <td>Laramie</td>\n      <td>NaN</td>\n      <td>34</td>\n      <td>--</td>\n      <td>67</td>\n      <td>30816</td>\n      <td>Wyoming</td>\n    </tr>\n    <tr>\n      <th>2497</th>\n      <td>Gillette</td>\n      <td>NaN</td>\n      <td>21</td>\n      <td>--</td>\n      <td>34</td>\n      <td>29087</td>\n      <td>Wyoming</td>\n    </tr>\n    <tr>\n      <th>2498</th>\n      <td>Rock Springs</td>\n      <td>NaN</td>\n      <td>29</td>\n      <td>--</td>\n      <td>32</td>\n      <td>23036</td>\n      <td>Wyoming</td>\n    </tr>\n    <tr>\n      <th>2499</th>\n      <td>Sheridan</td>\n      <td>NaN</td>\n      <td>30</td>\n      <td>--</td>\n      <td>45</td>\n      <td>17444</td>\n      <td>Wyoming</td>\n    </tr>\n  </tbody>\n</table>\n<p>2500 rows × 7 columns</p>\n</div>"
     },
     "metadata": {},
     "execution_count": 624
    }
   ],
   "source": [
    "# Drop the Unnamed: 0 columns, which seems like an extra sort of index\n",
    "\n",
    "walk = walk.drop(['Unnamed: 0'], axis=1)\n",
    "walk"
   ]
  },
  {
   "cell_type": "code",
   "execution_count": 625,
   "metadata": {},
   "outputs": [
    {
     "output_type": "execute_result",
     "data": {
      "text/plain": [
       "City              object\n",
       "Zip Code         float64\n",
       "Walk Score         int64\n",
       "Transit Score     object\n",
       "Bike Score         int64\n",
       "Population         int64\n",
       "State             object\n",
       "dtype: object"
      ]
     },
     "metadata": {},
     "execution_count": 625
    }
   ],
   "source": [
    "# Check dtypes and notice Transit Score is an object because values contain \"--\". Should these values be replaced with 0's?\n",
    "\n",
    "walk.dtypes"
   ]
  },
  {
   "cell_type": "code",
   "execution_count": 626,
   "metadata": {},
   "outputs": [
    {
     "output_type": "execute_result",
     "data": {
      "text/plain": [
       "City                0\n",
       "Zip Code         1489\n",
       "Walk Score          0\n",
       "Transit Score       0\n",
       "Bike Score          0\n",
       "Population          0\n",
       "State               0\n",
       "dtype: int64"
      ]
     },
     "metadata": {},
     "execution_count": 626
    }
   ],
   "source": [
    "# Count null values in all of the walk columns\n",
    "\n",
    "walk.isnull().sum(axis = 0)"
   ]
  },
  {
   "cell_type": "code",
   "execution_count": 627,
   "metadata": {},
   "outputs": [],
   "source": [
    " # Fill the null values so that we can change Zip Code column to an integer format and maybe use it join data later\n",
    " \n",
    " walk = walk.fillna(0)"
   ]
  },
  {
   "cell_type": "code",
   "execution_count": 628,
   "metadata": {},
   "outputs": [],
   "source": [
    "# Change the Zip Code column to be integer type data\n",
    "\n",
    "walk['Zip Code'] = walk['Zip Code'].astype(int)"
   ]
  },
  {
   "cell_type": "code",
   "execution_count": 629,
   "metadata": {},
   "outputs": [
    {
     "output_type": "execute_result",
     "data": {
      "text/plain": [
       "              City  Zip Code  Walk Score Transit Score  Bike Score  \\\n",
       "0       Birmingham     35211          35            25          31   \n",
       "1       Montgomery     36109          26            16          38   \n",
       "2           Mobile     36605          32            --          39   \n",
       "3       Huntsville     35810          24            13          40   \n",
       "4       Tuscaloosa         0          33            --          37   \n",
       "...            ...       ...         ...           ...         ...   \n",
       "2495        Casper         0          39            --          44   \n",
       "2496       Laramie         0          34            --          67   \n",
       "2497      Gillette         0          21            --          34   \n",
       "2498  Rock Springs         0          29            --          32   \n",
       "2499      Sheridan         0          30            --          45   \n",
       "\n",
       "      Population    State               Location  \n",
       "0         212237  Alabama    Birmingham, Alabama  \n",
       "1         205764  Alabama    Montgomery, Alabama  \n",
       "2         195111  Alabama        Mobile, Alabama  \n",
       "3         180105  Alabama    Huntsville, Alabama  \n",
       "4          90468  Alabama    Tuscaloosa, Alabama  \n",
       "...          ...      ...                    ...  \n",
       "2495       55316  Wyoming        Casper, Wyoming  \n",
       "2496       30816  Wyoming       Laramie, Wyoming  \n",
       "2497       29087  Wyoming      Gillette, Wyoming  \n",
       "2498       23036  Wyoming  Rock Springs, Wyoming  \n",
       "2499       17444  Wyoming      Sheridan, Wyoming  \n",
       "\n",
       "[2500 rows x 8 columns]"
      ],
      "text/html": "<div>\n<style scoped>\n    .dataframe tbody tr th:only-of-type {\n        vertical-align: middle;\n    }\n\n    .dataframe tbody tr th {\n        vertical-align: top;\n    }\n\n    .dataframe thead th {\n        text-align: right;\n    }\n</style>\n<table border=\"1\" class=\"dataframe\">\n  <thead>\n    <tr style=\"text-align: right;\">\n      <th></th>\n      <th>City</th>\n      <th>Zip Code</th>\n      <th>Walk Score</th>\n      <th>Transit Score</th>\n      <th>Bike Score</th>\n      <th>Population</th>\n      <th>State</th>\n      <th>Location</th>\n    </tr>\n  </thead>\n  <tbody>\n    <tr>\n      <th>0</th>\n      <td>Birmingham</td>\n      <td>35211</td>\n      <td>35</td>\n      <td>25</td>\n      <td>31</td>\n      <td>212237</td>\n      <td>Alabama</td>\n      <td>Birmingham, Alabama</td>\n    </tr>\n    <tr>\n      <th>1</th>\n      <td>Montgomery</td>\n      <td>36109</td>\n      <td>26</td>\n      <td>16</td>\n      <td>38</td>\n      <td>205764</td>\n      <td>Alabama</td>\n      <td>Montgomery, Alabama</td>\n    </tr>\n    <tr>\n      <th>2</th>\n      <td>Mobile</td>\n      <td>36605</td>\n      <td>32</td>\n      <td>--</td>\n      <td>39</td>\n      <td>195111</td>\n      <td>Alabama</td>\n      <td>Mobile, Alabama</td>\n    </tr>\n    <tr>\n      <th>3</th>\n      <td>Huntsville</td>\n      <td>35810</td>\n      <td>24</td>\n      <td>13</td>\n      <td>40</td>\n      <td>180105</td>\n      <td>Alabama</td>\n      <td>Huntsville, Alabama</td>\n    </tr>\n    <tr>\n      <th>4</th>\n      <td>Tuscaloosa</td>\n      <td>0</td>\n      <td>33</td>\n      <td>--</td>\n      <td>37</td>\n      <td>90468</td>\n      <td>Alabama</td>\n      <td>Tuscaloosa, Alabama</td>\n    </tr>\n    <tr>\n      <th>...</th>\n      <td>...</td>\n      <td>...</td>\n      <td>...</td>\n      <td>...</td>\n      <td>...</td>\n      <td>...</td>\n      <td>...</td>\n      <td>...</td>\n    </tr>\n    <tr>\n      <th>2495</th>\n      <td>Casper</td>\n      <td>0</td>\n      <td>39</td>\n      <td>--</td>\n      <td>44</td>\n      <td>55316</td>\n      <td>Wyoming</td>\n      <td>Casper, Wyoming</td>\n    </tr>\n    <tr>\n      <th>2496</th>\n      <td>Laramie</td>\n      <td>0</td>\n      <td>34</td>\n      <td>--</td>\n      <td>67</td>\n      <td>30816</td>\n      <td>Wyoming</td>\n      <td>Laramie, Wyoming</td>\n    </tr>\n    <tr>\n      <th>2497</th>\n      <td>Gillette</td>\n      <td>0</td>\n      <td>21</td>\n      <td>--</td>\n      <td>34</td>\n      <td>29087</td>\n      <td>Wyoming</td>\n      <td>Gillette, Wyoming</td>\n    </tr>\n    <tr>\n      <th>2498</th>\n      <td>Rock Springs</td>\n      <td>0</td>\n      <td>29</td>\n      <td>--</td>\n      <td>32</td>\n      <td>23036</td>\n      <td>Wyoming</td>\n      <td>Rock Springs, Wyoming</td>\n    </tr>\n    <tr>\n      <th>2499</th>\n      <td>Sheridan</td>\n      <td>0</td>\n      <td>30</td>\n      <td>--</td>\n      <td>45</td>\n      <td>17444</td>\n      <td>Wyoming</td>\n      <td>Sheridan, Wyoming</td>\n    </tr>\n  </tbody>\n</table>\n<p>2500 rows × 8 columns</p>\n</div>"
     },
     "metadata": {},
     "execution_count": 629
    }
   ],
   "source": [
    "# Make new Location column with City and State data, so the data can be joined with the other data on this column\n",
    "\n",
    "walk['Location'] = walk['City'] + ',' + ' ' + walk['State']\n",
    "walk"
   ]
  },
  {
   "cell_type": "code",
   "execution_count": 630,
   "metadata": {},
   "outputs": [],
   "source": [
    "# Drop City and State columns since they are redundant with Location and they already exist in first merged data\n",
    "\n",
    "walk = walk.drop(columns=['City', 'State'])"
   ]
  },
  {
   "cell_type": "code",
   "execution_count": 631,
   "metadata": {},
   "outputs": [
    {
     "output_type": "execute_result",
     "data": {
      "text/plain": [
       "           Zip Code   Walk Score  Bike Score    Population\n",
       "count   2500.000000  2500.000000  2500.00000  2.500000e+03\n",
       "mean   20787.882800    36.364800    43.45200  6.687973e+04\n",
       "std    32514.371193    15.711144    11.58688  2.157376e+05\n",
       "min        0.000000     2.000000     7.00000  1.652200e+04\n",
       "25%        0.000000    25.000000    36.00000  2.246775e+04\n",
       "50%        0.000000    35.000000    43.00000  3.262700e+04\n",
       "75%    36675.750000    44.250000    50.00000  5.857000e+04\n",
       "max    99336.000000    96.000000    96.00000  8.175133e+06"
      ],
      "text/html": "<div>\n<style scoped>\n    .dataframe tbody tr th:only-of-type {\n        vertical-align: middle;\n    }\n\n    .dataframe tbody tr th {\n        vertical-align: top;\n    }\n\n    .dataframe thead th {\n        text-align: right;\n    }\n</style>\n<table border=\"1\" class=\"dataframe\">\n  <thead>\n    <tr style=\"text-align: right;\">\n      <th></th>\n      <th>Zip Code</th>\n      <th>Walk Score</th>\n      <th>Bike Score</th>\n      <th>Population</th>\n    </tr>\n  </thead>\n  <tbody>\n    <tr>\n      <th>count</th>\n      <td>2500.000000</td>\n      <td>2500.000000</td>\n      <td>2500.00000</td>\n      <td>2.500000e+03</td>\n    </tr>\n    <tr>\n      <th>mean</th>\n      <td>20787.882800</td>\n      <td>36.364800</td>\n      <td>43.45200</td>\n      <td>6.687973e+04</td>\n    </tr>\n    <tr>\n      <th>std</th>\n      <td>32514.371193</td>\n      <td>15.711144</td>\n      <td>11.58688</td>\n      <td>2.157376e+05</td>\n    </tr>\n    <tr>\n      <th>min</th>\n      <td>0.000000</td>\n      <td>2.000000</td>\n      <td>7.00000</td>\n      <td>1.652200e+04</td>\n    </tr>\n    <tr>\n      <th>25%</th>\n      <td>0.000000</td>\n      <td>25.000000</td>\n      <td>36.00000</td>\n      <td>2.246775e+04</td>\n    </tr>\n    <tr>\n      <th>50%</th>\n      <td>0.000000</td>\n      <td>35.000000</td>\n      <td>43.00000</td>\n      <td>3.262700e+04</td>\n    </tr>\n    <tr>\n      <th>75%</th>\n      <td>36675.750000</td>\n      <td>44.250000</td>\n      <td>50.00000</td>\n      <td>5.857000e+04</td>\n    </tr>\n    <tr>\n      <th>max</th>\n      <td>99336.000000</td>\n      <td>96.000000</td>\n      <td>96.00000</td>\n      <td>8.175133e+06</td>\n    </tr>\n  </tbody>\n</table>\n</div>"
     },
     "metadata": {},
     "execution_count": 631
    }
   ],
   "source": [
    "# Bin the walk score according to quartiles(also Bike Score and Transit score but need to investigate and missing value denoted as  \"--\")\n",
    "\n",
    "# Describe the data to begin binning data with pandas cut or qcut\n",
    "\n",
    "walk.describe()"
   ]
  },
  {
   "cell_type": "code",
   "execution_count": 632,
   "metadata": {},
   "outputs": [
    {
     "output_type": "execute_result",
     "data": {
      "text/plain": [
       "0        (31.0, 38.0]\n",
       "1        (23.0, 31.0]\n",
       "2        (31.0, 38.0]\n",
       "3        (23.0, 31.0]\n",
       "4        (31.0, 38.0]\n",
       "            ...      \n",
       "2495     (38.0, 48.0]\n",
       "2496     (31.0, 38.0]\n",
       "2497    (1.999, 23.0]\n",
       "2498     (23.0, 31.0]\n",
       "2499     (23.0, 31.0]\n",
       "Name: Walk Score, Length: 2500, dtype: category\n",
       "Categories (5, interval[float64]): [(1.999, 23.0] < (23.0, 31.0] < (31.0, 38.0] < (38.0, 48.0] < (48.0, 96.0]]"
      ]
     },
     "metadata": {},
     "execution_count": 632
    }
   ],
   "source": [
    "# Quartile cut the Walk Score data, to see how it is evenly distributed\n",
    "\n",
    "pd.qcut(walk['Walk Score'], q=5)"
   ]
  },
  {
   "cell_type": "code",
   "execution_count": 633,
   "metadata": {},
   "outputs": [
    {
     "output_type": "execute_result",
     "data": {
      "text/plain": [
       "      Zip Code  Walk Score Transit Score  Bike Score  Population  \\\n",
       "0        35211          35            25          31      212237   \n",
       "1        36109          26            16          38      205764   \n",
       "2        36605          32            --          39      195111   \n",
       "3        35810          24            13          40      180105   \n",
       "4            0          33            --          37       90468   \n",
       "...        ...         ...           ...         ...         ...   \n",
       "2495         0          39            --          44       55316   \n",
       "2496         0          34            --          67       30816   \n",
       "2497         0          21            --          34       29087   \n",
       "2498         0          29            --          32       23036   \n",
       "2499         0          30            --          45       17444   \n",
       "\n",
       "                   Location Walk Score Categories Walk Score Ranges  \n",
       "0       Birmingham, Alabama    Average Walk Score         31.0-38.0  \n",
       "1       Montgomery, Alabama      Lower Walk Score         23,0-31.0  \n",
       "2           Mobile, Alabama    Average Walk Score         31.0-38.0  \n",
       "3       Huntsville, Alabama      Lower Walk Score         23,0-31.0  \n",
       "4       Tuscaloosa, Alabama    Average Walk Score         31.0-38.0  \n",
       "...                     ...                   ...               ...  \n",
       "2495        Casper, Wyoming     Higher Walk Score         38.0-48.0  \n",
       "2496       Laramie, Wyoming    Average Walk Score         31.0-38.0  \n",
       "2497      Gillette, Wyoming     Lowest Walk Score        1.999-23.0  \n",
       "2498  Rock Springs, Wyoming      Lower Walk Score         23,0-31.0  \n",
       "2499      Sheridan, Wyoming      Lower Walk Score         23,0-31.0  \n",
       "\n",
       "[2500 rows x 8 columns]"
      ],
      "text/html": "<div>\n<style scoped>\n    .dataframe tbody tr th:only-of-type {\n        vertical-align: middle;\n    }\n\n    .dataframe tbody tr th {\n        vertical-align: top;\n    }\n\n    .dataframe thead th {\n        text-align: right;\n    }\n</style>\n<table border=\"1\" class=\"dataframe\">\n  <thead>\n    <tr style=\"text-align: right;\">\n      <th></th>\n      <th>Zip Code</th>\n      <th>Walk Score</th>\n      <th>Transit Score</th>\n      <th>Bike Score</th>\n      <th>Population</th>\n      <th>Location</th>\n      <th>Walk Score Categories</th>\n      <th>Walk Score Ranges</th>\n    </tr>\n  </thead>\n  <tbody>\n    <tr>\n      <th>0</th>\n      <td>35211</td>\n      <td>35</td>\n      <td>25</td>\n      <td>31</td>\n      <td>212237</td>\n      <td>Birmingham, Alabama</td>\n      <td>Average Walk Score</td>\n      <td>31.0-38.0</td>\n    </tr>\n    <tr>\n      <th>1</th>\n      <td>36109</td>\n      <td>26</td>\n      <td>16</td>\n      <td>38</td>\n      <td>205764</td>\n      <td>Montgomery, Alabama</td>\n      <td>Lower Walk Score</td>\n      <td>23,0-31.0</td>\n    </tr>\n    <tr>\n      <th>2</th>\n      <td>36605</td>\n      <td>32</td>\n      <td>--</td>\n      <td>39</td>\n      <td>195111</td>\n      <td>Mobile, Alabama</td>\n      <td>Average Walk Score</td>\n      <td>31.0-38.0</td>\n    </tr>\n    <tr>\n      <th>3</th>\n      <td>35810</td>\n      <td>24</td>\n      <td>13</td>\n      <td>40</td>\n      <td>180105</td>\n      <td>Huntsville, Alabama</td>\n      <td>Lower Walk Score</td>\n      <td>23,0-31.0</td>\n    </tr>\n    <tr>\n      <th>4</th>\n      <td>0</td>\n      <td>33</td>\n      <td>--</td>\n      <td>37</td>\n      <td>90468</td>\n      <td>Tuscaloosa, Alabama</td>\n      <td>Average Walk Score</td>\n      <td>31.0-38.0</td>\n    </tr>\n    <tr>\n      <th>...</th>\n      <td>...</td>\n      <td>...</td>\n      <td>...</td>\n      <td>...</td>\n      <td>...</td>\n      <td>...</td>\n      <td>...</td>\n      <td>...</td>\n    </tr>\n    <tr>\n      <th>2495</th>\n      <td>0</td>\n      <td>39</td>\n      <td>--</td>\n      <td>44</td>\n      <td>55316</td>\n      <td>Casper, Wyoming</td>\n      <td>Higher Walk Score</td>\n      <td>38.0-48.0</td>\n    </tr>\n    <tr>\n      <th>2496</th>\n      <td>0</td>\n      <td>34</td>\n      <td>--</td>\n      <td>67</td>\n      <td>30816</td>\n      <td>Laramie, Wyoming</td>\n      <td>Average Walk Score</td>\n      <td>31.0-38.0</td>\n    </tr>\n    <tr>\n      <th>2497</th>\n      <td>0</td>\n      <td>21</td>\n      <td>--</td>\n      <td>34</td>\n      <td>29087</td>\n      <td>Gillette, Wyoming</td>\n      <td>Lowest Walk Score</td>\n      <td>1.999-23.0</td>\n    </tr>\n    <tr>\n      <th>2498</th>\n      <td>0</td>\n      <td>29</td>\n      <td>--</td>\n      <td>32</td>\n      <td>23036</td>\n      <td>Rock Springs, Wyoming</td>\n      <td>Lower Walk Score</td>\n      <td>23,0-31.0</td>\n    </tr>\n    <tr>\n      <th>2499</th>\n      <td>0</td>\n      <td>30</td>\n      <td>--</td>\n      <td>45</td>\n      <td>17444</td>\n      <td>Sheridan, Wyoming</td>\n      <td>Lower Walk Score</td>\n      <td>23,0-31.0</td>\n    </tr>\n  </tbody>\n</table>\n<p>2500 rows × 8 columns</p>\n</div>"
     },
     "metadata": {},
     "execution_count": 633
    }
   ],
   "source": [
    "# Bin the Walk Score data into categories and ranges\n",
    "\n",
    "bins = [1.999, 23.0, 31.0, 38.0, 48.0, 96.0]\n",
    "labels = [\"Lowest Walk Score\", \"Lower Walk Score\", \"Average Walk Score\", \"Higher Walk Score\", \"Highest Walk Score\"]\n",
    "walk['Walk Score Categories'] = pd.cut(walk['Walk Score'], bins=bins, labels=labels)\n",
    "\n",
    "bins = [1.999, 23.0, 31.0, 38.0, 48.0, 96.0]\n",
    "labels = [\"1.999-23.0\", \"23,0-31.0\", \"31.0-38.0\", \"38.0-48.0\", \"48.0-96.0\"]\n",
    "walk['Walk Score Ranges'] = pd.cut(walk['Walk Score'], bins=bins, labels=labels)\n",
    "\n",
    "walk"
   ]
  },
  {
   "cell_type": "code",
   "execution_count": 634,
   "metadata": {},
   "outputs": [
    {
     "output_type": "execute_result",
     "data": {
      "text/plain": [
       "0       (6.999, 34.0]\n",
       "1        (34.0, 41.0]\n",
       "2        (34.0, 41.0]\n",
       "3        (34.0, 41.0]\n",
       "4        (34.0, 41.0]\n",
       "            ...      \n",
       "2495     (41.0, 46.0]\n",
       "2496     (52.0, 96.0]\n",
       "2497    (6.999, 34.0]\n",
       "2498    (6.999, 34.0]\n",
       "2499     (41.0, 46.0]\n",
       "Name: Bike Score, Length: 2500, dtype: category\n",
       "Categories (5, interval[float64]): [(6.999, 34.0] < (34.0, 41.0] < (41.0, 46.0] < (46.0, 52.0] < (52.0, 96.0]]"
      ]
     },
     "metadata": {},
     "execution_count": 634
    }
   ],
   "source": [
    "# Quartile cut the Bike Score data, to see how it is evenly distributed\n",
    "\n",
    "pd.qcut(walk['Bike Score'], q=5)"
   ]
  },
  {
   "cell_type": "code",
   "execution_count": 635,
   "metadata": {},
   "outputs": [
    {
     "output_type": "execute_result",
     "data": {
      "text/plain": [
       "      Zip Code  Walk Score Transit Score  Bike Score  Population  \\\n",
       "0        35211          35            25          31      212237   \n",
       "1        36109          26            16          38      205764   \n",
       "2        36605          32            --          39      195111   \n",
       "3        35810          24            13          40      180105   \n",
       "4            0          33            --          37       90468   \n",
       "...        ...         ...           ...         ...         ...   \n",
       "2495         0          39            --          44       55316   \n",
       "2496         0          34            --          67       30816   \n",
       "2497         0          21            --          34       29087   \n",
       "2498         0          29            --          32       23036   \n",
       "2499         0          30            --          45       17444   \n",
       "\n",
       "                   Location Walk Score Categories Walk Score Ranges  \\\n",
       "0       Birmingham, Alabama    Average Walk Score         31.0-38.0   \n",
       "1       Montgomery, Alabama      Lower Walk Score         23,0-31.0   \n",
       "2           Mobile, Alabama    Average Walk Score         31.0-38.0   \n",
       "3       Huntsville, Alabama      Lower Walk Score         23,0-31.0   \n",
       "4       Tuscaloosa, Alabama    Average Walk Score         31.0-38.0   \n",
       "...                     ...                   ...               ...   \n",
       "2495        Casper, Wyoming     Higher Walk Score         38.0-48.0   \n",
       "2496       Laramie, Wyoming    Average Walk Score         31.0-38.0   \n",
       "2497      Gillette, Wyoming     Lowest Walk Score        1.999-23.0   \n",
       "2498  Rock Springs, Wyoming      Lower Walk Score         23,0-31.0   \n",
       "2499      Sheridan, Wyoming      Lower Walk Score         23,0-31.0   \n",
       "\n",
       "     Bike Score Categories Bike Score Ranges  \n",
       "0       Lowest Bike Scores        6.999-34.0  \n",
       "1        Lower Bike Scores         34.0-41.0  \n",
       "2        Lower Bike Scores         34.0-41.0  \n",
       "3        Lower Bike Scores         34.0-41.0  \n",
       "4        Lower Bike Scores         34.0-41.0  \n",
       "...                    ...               ...  \n",
       "2495   Average Bike Scores         41.0-46.0  \n",
       "2496   Highest Bike Scores         52.0-96.0  \n",
       "2497    Lowest Bike Scores        6.999-34.0  \n",
       "2498    Lowest Bike Scores        6.999-34.0  \n",
       "2499   Average Bike Scores         41.0-46.0  \n",
       "\n",
       "[2500 rows x 10 columns]"
      ],
      "text/html": "<div>\n<style scoped>\n    .dataframe tbody tr th:only-of-type {\n        vertical-align: middle;\n    }\n\n    .dataframe tbody tr th {\n        vertical-align: top;\n    }\n\n    .dataframe thead th {\n        text-align: right;\n    }\n</style>\n<table border=\"1\" class=\"dataframe\">\n  <thead>\n    <tr style=\"text-align: right;\">\n      <th></th>\n      <th>Zip Code</th>\n      <th>Walk Score</th>\n      <th>Transit Score</th>\n      <th>Bike Score</th>\n      <th>Population</th>\n      <th>Location</th>\n      <th>Walk Score Categories</th>\n      <th>Walk Score Ranges</th>\n      <th>Bike Score Categories</th>\n      <th>Bike Score Ranges</th>\n    </tr>\n  </thead>\n  <tbody>\n    <tr>\n      <th>0</th>\n      <td>35211</td>\n      <td>35</td>\n      <td>25</td>\n      <td>31</td>\n      <td>212237</td>\n      <td>Birmingham, Alabama</td>\n      <td>Average Walk Score</td>\n      <td>31.0-38.0</td>\n      <td>Lowest Bike Scores</td>\n      <td>6.999-34.0</td>\n    </tr>\n    <tr>\n      <th>1</th>\n      <td>36109</td>\n      <td>26</td>\n      <td>16</td>\n      <td>38</td>\n      <td>205764</td>\n      <td>Montgomery, Alabama</td>\n      <td>Lower Walk Score</td>\n      <td>23,0-31.0</td>\n      <td>Lower Bike Scores</td>\n      <td>34.0-41.0</td>\n    </tr>\n    <tr>\n      <th>2</th>\n      <td>36605</td>\n      <td>32</td>\n      <td>--</td>\n      <td>39</td>\n      <td>195111</td>\n      <td>Mobile, Alabama</td>\n      <td>Average Walk Score</td>\n      <td>31.0-38.0</td>\n      <td>Lower Bike Scores</td>\n      <td>34.0-41.0</td>\n    </tr>\n    <tr>\n      <th>3</th>\n      <td>35810</td>\n      <td>24</td>\n      <td>13</td>\n      <td>40</td>\n      <td>180105</td>\n      <td>Huntsville, Alabama</td>\n      <td>Lower Walk Score</td>\n      <td>23,0-31.0</td>\n      <td>Lower Bike Scores</td>\n      <td>34.0-41.0</td>\n    </tr>\n    <tr>\n      <th>4</th>\n      <td>0</td>\n      <td>33</td>\n      <td>--</td>\n      <td>37</td>\n      <td>90468</td>\n      <td>Tuscaloosa, Alabama</td>\n      <td>Average Walk Score</td>\n      <td>31.0-38.0</td>\n      <td>Lower Bike Scores</td>\n      <td>34.0-41.0</td>\n    </tr>\n    <tr>\n      <th>...</th>\n      <td>...</td>\n      <td>...</td>\n      <td>...</td>\n      <td>...</td>\n      <td>...</td>\n      <td>...</td>\n      <td>...</td>\n      <td>...</td>\n      <td>...</td>\n      <td>...</td>\n    </tr>\n    <tr>\n      <th>2495</th>\n      <td>0</td>\n      <td>39</td>\n      <td>--</td>\n      <td>44</td>\n      <td>55316</td>\n      <td>Casper, Wyoming</td>\n      <td>Higher Walk Score</td>\n      <td>38.0-48.0</td>\n      <td>Average Bike Scores</td>\n      <td>41.0-46.0</td>\n    </tr>\n    <tr>\n      <th>2496</th>\n      <td>0</td>\n      <td>34</td>\n      <td>--</td>\n      <td>67</td>\n      <td>30816</td>\n      <td>Laramie, Wyoming</td>\n      <td>Average Walk Score</td>\n      <td>31.0-38.0</td>\n      <td>Highest Bike Scores</td>\n      <td>52.0-96.0</td>\n    </tr>\n    <tr>\n      <th>2497</th>\n      <td>0</td>\n      <td>21</td>\n      <td>--</td>\n      <td>34</td>\n      <td>29087</td>\n      <td>Gillette, Wyoming</td>\n      <td>Lowest Walk Score</td>\n      <td>1.999-23.0</td>\n      <td>Lowest Bike Scores</td>\n      <td>6.999-34.0</td>\n    </tr>\n    <tr>\n      <th>2498</th>\n      <td>0</td>\n      <td>29</td>\n      <td>--</td>\n      <td>32</td>\n      <td>23036</td>\n      <td>Rock Springs, Wyoming</td>\n      <td>Lower Walk Score</td>\n      <td>23,0-31.0</td>\n      <td>Lowest Bike Scores</td>\n      <td>6.999-34.0</td>\n    </tr>\n    <tr>\n      <th>2499</th>\n      <td>0</td>\n      <td>30</td>\n      <td>--</td>\n      <td>45</td>\n      <td>17444</td>\n      <td>Sheridan, Wyoming</td>\n      <td>Lower Walk Score</td>\n      <td>23,0-31.0</td>\n      <td>Average Bike Scores</td>\n      <td>41.0-46.0</td>\n    </tr>\n  </tbody>\n</table>\n<p>2500 rows × 10 columns</p>\n</div>"
     },
     "metadata": {},
     "execution_count": 635
    }
   ],
   "source": [
    "# Bin the Bike Score data into categories and ranges\n",
    "\n",
    "bins = [6.999, 34.0, 41.0, 46.0, 52.0, 96.0]\n",
    "labels = [\"Lowest Bike Scores\", \"Lower Bike Scores\", \"Average Bike Scores\", \"Higher Bike Scores\", \"Highest Bike Scores\"]\n",
    "walk['Bike Score Categories'] = pd.cut(walk['Bike Score'], bins=bins, labels=labels)\n",
    "\n",
    "bins = [6.999, 34.0, 41.0, 46.0, 52.0, 96.0]\n",
    "labels = [\"6.999-34.0\", \"34.0-41.0\", \"41.0-46.0\", \"46.0-52.0\", \"52.0-96.0\"]\n",
    "walk['Bike Score Ranges'] = pd.cut(walk['Bike Score'], bins=bins, labels=labels)\n",
    "\n",
    "walk"
   ]
  },
  {
   "cell_type": "code",
   "execution_count": 636,
   "metadata": {},
   "outputs": [],
   "source": [
    "# Replace \"--\" in Transit Score data with \"0\"\n",
    "\n",
    "walk[\"Transit Score\"] = walk['Transit Score'].str.replace('--', '0', regex=False)"
   ]
  },
  {
   "cell_type": "code",
   "execution_count": 637,
   "metadata": {},
   "outputs": [],
   "source": [
    "# Make Transit Score data int\n",
    "\n",
    "walk['Transit Score'] = walk['Transit Score'].astype('int')"
   ]
  },
  {
   "cell_type": "code",
   "execution_count": 638,
   "metadata": {},
   "outputs": [
    {
     "output_type": "execute_result",
     "data": {
      "text/plain": [
       "           Zip Code   Walk Score  Transit Score  Bike Score    Population\n",
       "count   2500.000000  2500.000000    2500.000000  2500.00000  2.500000e+03\n",
       "mean   20787.882800    36.364800      13.397600    43.45200  6.687973e+04\n",
       "std    32514.371193    15.711144      17.595595    11.58688  2.157376e+05\n",
       "min        0.000000     2.000000       0.000000     7.00000  1.652200e+04\n",
       "25%        0.000000    25.000000       0.000000    36.00000  2.246775e+04\n",
       "50%        0.000000    35.000000       0.000000    43.00000  3.262700e+04\n",
       "75%    36675.750000    44.250000      29.000000    50.00000  5.857000e+04\n",
       "max    99336.000000    96.000000      84.000000    96.00000  8.175133e+06"
      ],
      "text/html": "<div>\n<style scoped>\n    .dataframe tbody tr th:only-of-type {\n        vertical-align: middle;\n    }\n\n    .dataframe tbody tr th {\n        vertical-align: top;\n    }\n\n    .dataframe thead th {\n        text-align: right;\n    }\n</style>\n<table border=\"1\" class=\"dataframe\">\n  <thead>\n    <tr style=\"text-align: right;\">\n      <th></th>\n      <th>Zip Code</th>\n      <th>Walk Score</th>\n      <th>Transit Score</th>\n      <th>Bike Score</th>\n      <th>Population</th>\n    </tr>\n  </thead>\n  <tbody>\n    <tr>\n      <th>count</th>\n      <td>2500.000000</td>\n      <td>2500.000000</td>\n      <td>2500.000000</td>\n      <td>2500.00000</td>\n      <td>2.500000e+03</td>\n    </tr>\n    <tr>\n      <th>mean</th>\n      <td>20787.882800</td>\n      <td>36.364800</td>\n      <td>13.397600</td>\n      <td>43.45200</td>\n      <td>6.687973e+04</td>\n    </tr>\n    <tr>\n      <th>std</th>\n      <td>32514.371193</td>\n      <td>15.711144</td>\n      <td>17.595595</td>\n      <td>11.58688</td>\n      <td>2.157376e+05</td>\n    </tr>\n    <tr>\n      <th>min</th>\n      <td>0.000000</td>\n      <td>2.000000</td>\n      <td>0.000000</td>\n      <td>7.00000</td>\n      <td>1.652200e+04</td>\n    </tr>\n    <tr>\n      <th>25%</th>\n      <td>0.000000</td>\n      <td>25.000000</td>\n      <td>0.000000</td>\n      <td>36.00000</td>\n      <td>2.246775e+04</td>\n    </tr>\n    <tr>\n      <th>50%</th>\n      <td>0.000000</td>\n      <td>35.000000</td>\n      <td>0.000000</td>\n      <td>43.00000</td>\n      <td>3.262700e+04</td>\n    </tr>\n    <tr>\n      <th>75%</th>\n      <td>36675.750000</td>\n      <td>44.250000</td>\n      <td>29.000000</td>\n      <td>50.00000</td>\n      <td>5.857000e+04</td>\n    </tr>\n    <tr>\n      <th>max</th>\n      <td>99336.000000</td>\n      <td>96.000000</td>\n      <td>84.000000</td>\n      <td>96.00000</td>\n      <td>8.175133e+06</td>\n    </tr>\n  </tbody>\n</table>\n</div>"
     },
     "metadata": {},
     "execution_count": 638
    }
   ],
   "source": [
    "walk.describe()"
   ]
  },
  {
   "cell_type": "code",
   "execution_count": 639,
   "metadata": {},
   "outputs": [
    {
     "output_type": "execute_result",
     "data": {
      "text/plain": [
       "0       (-0.001, 84.0]\n",
       "1       (-0.001, 84.0]\n",
       "2       (-0.001, 84.0]\n",
       "3       (-0.001, 84.0]\n",
       "4       (-0.001, 84.0]\n",
       "             ...      \n",
       "2495    (-0.001, 84.0]\n",
       "2496    (-0.001, 84.0]\n",
       "2497    (-0.001, 84.0]\n",
       "2498    (-0.001, 84.0]\n",
       "2499    (-0.001, 84.0]\n",
       "Name: Transit Score, Length: 2500, dtype: category\n",
       "Categories (1, interval[float64]): [(-0.001, 84.0]]"
      ]
     },
     "metadata": {},
     "execution_count": 639
    }
   ],
   "source": [
    "# Quartile cut the Bike Score data, to see how it is evenly distributed\n",
    "\n",
    "pd.qcut(walk['Transit Score'], q=1)\n",
    "\n",
    "# Leaving out Transit Score data for now, not enough data"
   ]
  },
  {
   "cell_type": "code",
   "execution_count": 640,
   "metadata": {},
   "outputs": [],
   "source": [
    "# Drop Zip Code because too granular, Population because it is from previous years (search for better walk scores), and drop Transit Score because too many missing values\n",
    "\n",
    "walk = walk.drop(columns=['Zip Code', 'Population', 'Transit Score'])"
   ]
  },
  {
   "cell_type": "code",
   "execution_count": 641,
   "metadata": {},
   "outputs": [
    {
     "output_type": "execute_result",
     "data": {
      "text/plain": [
       "           City State  Cost of Living Index\n",
       "0      Aberdeen    WA                  95.5\n",
       "1       Abilene    TX                  89.6\n",
       "2        Adrian    MI                  89.9\n",
       "3         Akron    OH                  90.8\n",
       "4    Alamogordo    NM                  86.5\n",
       "..          ...   ...                   ...\n",
       "504  Vero Beach    FL                 100.0\n",
       "505     Weirton    WV                  82.6\n",
       "506    Wheeling    WV                  84.5\n",
       "507  New London    CT                 107.3\n",
       "508    Victoria    TX                  90.4\n",
       "\n",
       "[509 rows x 3 columns]"
      ],
      "text/html": "<div>\n<style scoped>\n    .dataframe tbody tr th:only-of-type {\n        vertical-align: middle;\n    }\n\n    .dataframe tbody tr th {\n        vertical-align: top;\n    }\n\n    .dataframe thead th {\n        text-align: right;\n    }\n</style>\n<table border=\"1\" class=\"dataframe\">\n  <thead>\n    <tr style=\"text-align: right;\">\n      <th></th>\n      <th>City</th>\n      <th>State</th>\n      <th>Cost of Living Index</th>\n    </tr>\n  </thead>\n  <tbody>\n    <tr>\n      <th>0</th>\n      <td>Aberdeen</td>\n      <td>WA</td>\n      <td>95.5</td>\n    </tr>\n    <tr>\n      <th>1</th>\n      <td>Abilene</td>\n      <td>TX</td>\n      <td>89.6</td>\n    </tr>\n    <tr>\n      <th>2</th>\n      <td>Adrian</td>\n      <td>MI</td>\n      <td>89.9</td>\n    </tr>\n    <tr>\n      <th>3</th>\n      <td>Akron</td>\n      <td>OH</td>\n      <td>90.8</td>\n    </tr>\n    <tr>\n      <th>4</th>\n      <td>Alamogordo</td>\n      <td>NM</td>\n      <td>86.5</td>\n    </tr>\n    <tr>\n      <th>...</th>\n      <td>...</td>\n      <td>...</td>\n      <td>...</td>\n    </tr>\n    <tr>\n      <th>504</th>\n      <td>Vero Beach</td>\n      <td>FL</td>\n      <td>100.0</td>\n    </tr>\n    <tr>\n      <th>505</th>\n      <td>Weirton</td>\n      <td>WV</td>\n      <td>82.6</td>\n    </tr>\n    <tr>\n      <th>506</th>\n      <td>Wheeling</td>\n      <td>WV</td>\n      <td>84.5</td>\n    </tr>\n    <tr>\n      <th>507</th>\n      <td>New London</td>\n      <td>CT</td>\n      <td>107.3</td>\n    </tr>\n    <tr>\n      <th>508</th>\n      <td>Victoria</td>\n      <td>TX</td>\n      <td>90.4</td>\n    </tr>\n  </tbody>\n</table>\n<p>509 rows × 3 columns</p>\n</div>"
     },
     "metadata": {},
     "execution_count": 641
    }
   ],
   "source": [
    "# Check out cost data\n",
    "\n",
    "cost"
   ]
  },
  {
   "cell_type": "code",
   "execution_count": 642,
   "metadata": {},
   "outputs": [],
   "source": [
    "# Replace state abbreviations with full state names\n",
    "\n",
    "cost[\"State\"] = cost['State'].str.replace('AK', 'Alaska', regex=False)\n",
    "cost[\"State\"] = cost['State'].str.replace('AL', 'Alabama', regex=False)\n",
    "cost[\"State\"] = cost['State'].str.replace('AR', 'Arkansas', regex=False)\n",
    "cost[\"State\"] = cost['State'].str.replace('AS', 'American Samoa', regex=False)\n",
    "cost[\"State\"] = cost['State'].str.replace('AZ', 'Arizona', regex=False)\n",
    "cost[\"State\"] = cost['State'].str.replace('CA', 'California', regex=False)\n",
    "cost[\"State\"] = cost['State'].str.replace('CO', 'Colorado', regex=False)\n",
    "cost[\"State\"] = cost['State'].str.replace('CT', 'Connecticut', regex=False)\n",
    "cost[\"State\"] = cost['State'].str.replace('DC', 'District of Columbia', regex=False)\n",
    "cost[\"State\"] = cost['State'].str.replace('DE', 'Delaware', regex=False)\n",
    "cost[\"State\"] = cost['State'].str.replace('FL', 'Florida', regex=False)\n",
    "cost[\"State\"] = cost['State'].str.replace('GA', 'Georgia', regex=False)\n",
    "cost[\"State\"] = cost['State'].str.replace('GU', 'Guam', regex=False)\n",
    "cost[\"State\"] = cost['State'].str.replace('HI', 'Hawaii', regex=False)\n",
    "cost[\"State\"] = cost['State'].str.replace('IA', 'Iowa', regex=False)\n",
    "cost[\"State\"] = cost['State'].str.replace('ID', 'Idaho', regex=False)\n",
    "cost[\"State\"] = cost['State'].str.replace('IL', 'Illinois', regex=False)\n",
    "cost[\"State\"] = cost['State'].str.replace('IN', 'Indiana', regex=False)\n",
    "cost[\"State\"] = cost['State'].str.replace('KS', 'Kansas', regex=False)\n",
    "cost[\"State\"] = cost['State'].str.replace('KY', 'Kentucky', regex=False)\n",
    "cost[\"State\"] = cost['State'].str.replace('LA', 'Louisiana', regex=False)\n",
    "cost[\"State\"] = cost['State'].str.replace('MA', 'Massachusetts', regex=False)\n",
    "cost[\"State\"] = cost['State'].str.replace('MD', 'Maryland', regex=False)\n",
    "cost[\"State\"] = cost['State'].str.replace('ME', 'Maine', regex=False)\n",
    "cost[\"State\"] = cost['State'].str.replace('MI', 'Michigan', regex=False)\n",
    "cost[\"State\"] = cost['State'].str.replace('MN', 'Minnesota', regex=False)\n",
    "cost[\"State\"] = cost['State'].str.replace('MO', 'Missouri', regex=False)\n",
    "cost[\"State\"] = cost['State'].str.replace('MP', 'Northern Mariana Islands', regex=False)\n",
    "cost[\"State\"] = cost['State'].str.replace('MS', 'Mississippi', regex=False)\n",
    "cost[\"State\"] = cost['State'].str.replace('MT', 'Montana', regex=False)\n",
    "cost[\"State\"] = cost['State'].str.replace('NA', 'National', regex=False)\n",
    "cost[\"State\"] = cost['State'].str.replace('NC', 'North Carolina', regex=False)\n",
    "cost[\"State\"] = cost['State'].str.replace('ND', 'North Dakota', regex=False)\n",
    "cost[\"State\"] = cost['State'].str.replace('NE', 'Nebraska', regex=False)\n",
    "cost[\"State\"] = cost['State'].str.replace('NH', 'New Hampshire', regex=False)\n",
    "cost[\"State\"] = cost['State'].str.replace('NJ', 'New Jersey', regex=False)\n",
    "cost[\"State\"] = cost['State'].str.replace('NM', 'New Mexico', regex=False)\n",
    "cost[\"State\"] = cost['State'].str.replace('NV', 'Nevada', regex=False)\n",
    "cost[\"State\"] = cost['State'].str.replace('NY', 'New York', regex=False)\n",
    "cost[\"State\"] = cost['State'].str.replace('OH', 'Ohio', regex=False)\n",
    "cost[\"State\"] = cost['State'].str.replace('OK', 'Oklahoma', regex=False)\n",
    "cost[\"State\"] = cost['State'].str.replace('OR', 'Oregon', regex=False)\n",
    "cost[\"State\"] = cost['State'].str.replace('PA', 'Pennsylvania', regex=False)\n",
    "cost[\"State\"] = cost['State'].str.replace('PR', 'Puerto Rico', regex=False)\n",
    "cost[\"State\"] = cost['State'].str.replace('RI', 'Rhode Island', regex=False)\n",
    "cost[\"State\"] = cost['State'].str.replace('SC', 'South Carolina', regex=False)\n",
    "cost[\"State\"] = cost['State'].str.replace('SD', 'South Dakota', regex=False)\n",
    "cost[\"State\"] = cost['State'].str.replace('TN', 'Tennessee', regex=False)\n",
    "cost[\"State\"] = cost['State'].str.replace('TX', 'Texas', regex=False)\n",
    "cost[\"State\"] = cost['State'].str.replace('UT', 'Utah', regex=False)\n",
    "cost[\"State\"] = cost['State'].str.replace('VA', 'Virginia', regex=False)\n",
    "cost[\"State\"] = cost['State'].str.replace('VI', 'Virgin Islands', regex=False)\n",
    "cost[\"State\"] = cost['State'].str.replace('VT', 'Vermont', regex=False)\n",
    "cost[\"State\"] = cost['State'].str.replace('WA', 'Washington', regex=False)\n",
    "cost[\"State\"] = cost['State'].str.replace('WI', 'Wisconsin', regex=False)\n",
    "cost[\"State\"] = cost['State'].str.replace('WV', 'West Virginia', regex=False)\n",
    "cost[\"State\"] = cost['State'].str.replace('WY', 'Wyoming', regex=False)"
   ]
  },
  {
   "cell_type": "code",
   "execution_count": 643,
   "metadata": {},
   "outputs": [
    {
     "output_type": "execute_result",
     "data": {
      "text/plain": [
       "           City          State  Cost of Living Index                 Location\n",
       "0      Aberdeen     Washington                  95.5     Aberdeen, Washington\n",
       "1       Abilene          Texas                  89.6           Abilene, Texas\n",
       "2        Adrian       Michigan                  89.9         Adrian, Michigan\n",
       "3         Akron           Ohio                  90.8              Akron, Ohio\n",
       "4    Alamogordo     New Mexico                  86.5   Alamogordo, New Mexico\n",
       "..          ...            ...                   ...                      ...\n",
       "504  Vero Beach        Florida                 100.0      Vero Beach, Florida\n",
       "505     Weirton  West Virginia                  82.6   Weirton, West Virginia\n",
       "506    Wheeling  West Virginia                  84.5  Wheeling, West Virginia\n",
       "507  New London    Connecticut                 107.3  New London, Connecticut\n",
       "508    Victoria          Texas                  90.4          Victoria, Texas\n",
       "\n",
       "[509 rows x 4 columns]"
      ],
      "text/html": "<div>\n<style scoped>\n    .dataframe tbody tr th:only-of-type {\n        vertical-align: middle;\n    }\n\n    .dataframe tbody tr th {\n        vertical-align: top;\n    }\n\n    .dataframe thead th {\n        text-align: right;\n    }\n</style>\n<table border=\"1\" class=\"dataframe\">\n  <thead>\n    <tr style=\"text-align: right;\">\n      <th></th>\n      <th>City</th>\n      <th>State</th>\n      <th>Cost of Living Index</th>\n      <th>Location</th>\n    </tr>\n  </thead>\n  <tbody>\n    <tr>\n      <th>0</th>\n      <td>Aberdeen</td>\n      <td>Washington</td>\n      <td>95.5</td>\n      <td>Aberdeen, Washington</td>\n    </tr>\n    <tr>\n      <th>1</th>\n      <td>Abilene</td>\n      <td>Texas</td>\n      <td>89.6</td>\n      <td>Abilene, Texas</td>\n    </tr>\n    <tr>\n      <th>2</th>\n      <td>Adrian</td>\n      <td>Michigan</td>\n      <td>89.9</td>\n      <td>Adrian, Michigan</td>\n    </tr>\n    <tr>\n      <th>3</th>\n      <td>Akron</td>\n      <td>Ohio</td>\n      <td>90.8</td>\n      <td>Akron, Ohio</td>\n    </tr>\n    <tr>\n      <th>4</th>\n      <td>Alamogordo</td>\n      <td>New Mexico</td>\n      <td>86.5</td>\n      <td>Alamogordo, New Mexico</td>\n    </tr>\n    <tr>\n      <th>...</th>\n      <td>...</td>\n      <td>...</td>\n      <td>...</td>\n      <td>...</td>\n    </tr>\n    <tr>\n      <th>504</th>\n      <td>Vero Beach</td>\n      <td>Florida</td>\n      <td>100.0</td>\n      <td>Vero Beach, Florida</td>\n    </tr>\n    <tr>\n      <th>505</th>\n      <td>Weirton</td>\n      <td>West Virginia</td>\n      <td>82.6</td>\n      <td>Weirton, West Virginia</td>\n    </tr>\n    <tr>\n      <th>506</th>\n      <td>Wheeling</td>\n      <td>West Virginia</td>\n      <td>84.5</td>\n      <td>Wheeling, West Virginia</td>\n    </tr>\n    <tr>\n      <th>507</th>\n      <td>New London</td>\n      <td>Connecticut</td>\n      <td>107.3</td>\n      <td>New London, Connecticut</td>\n    </tr>\n    <tr>\n      <th>508</th>\n      <td>Victoria</td>\n      <td>Texas</td>\n      <td>90.4</td>\n      <td>Victoria, Texas</td>\n    </tr>\n  </tbody>\n</table>\n<p>509 rows × 4 columns</p>\n</div>"
     },
     "metadata": {},
     "execution_count": 643
    }
   ],
   "source": [
    "# Make new Location column with City and State data, so the data can be joined with the other data on this column\n",
    "\n",
    "cost['Location'] = cost['City'] + ',' + ' ' + cost['State']\n",
    "cost"
   ]
  },
  {
   "cell_type": "code",
   "execution_count": 644,
   "metadata": {},
   "outputs": [],
   "source": [
    "# Drop City and State columns since they are redundant with Location and they already exist in first merged data\n",
    "\n",
    "cost = cost.drop(columns=['City', 'State'])"
   ]
  },
  {
   "cell_type": "code",
   "execution_count": 645,
   "metadata": {},
   "outputs": [
    {
     "output_type": "execute_result",
     "data": {
      "text/plain": [
       "       Cost of Living Index\n",
       "count            509.000000\n",
       "mean              97.500196\n",
       "std               13.915860\n",
       "min               78.800000\n",
       "25%               89.000000\n",
       "50%               93.100000\n",
       "75%              101.900000\n",
       "max              183.000000"
      ],
      "text/html": "<div>\n<style scoped>\n    .dataframe tbody tr th:only-of-type {\n        vertical-align: middle;\n    }\n\n    .dataframe tbody tr th {\n        vertical-align: top;\n    }\n\n    .dataframe thead th {\n        text-align: right;\n    }\n</style>\n<table border=\"1\" class=\"dataframe\">\n  <thead>\n    <tr style=\"text-align: right;\">\n      <th></th>\n      <th>Cost of Living Index</th>\n    </tr>\n  </thead>\n  <tbody>\n    <tr>\n      <th>count</th>\n      <td>509.000000</td>\n    </tr>\n    <tr>\n      <th>mean</th>\n      <td>97.500196</td>\n    </tr>\n    <tr>\n      <th>std</th>\n      <td>13.915860</td>\n    </tr>\n    <tr>\n      <th>min</th>\n      <td>78.800000</td>\n    </tr>\n    <tr>\n      <th>25%</th>\n      <td>89.000000</td>\n    </tr>\n    <tr>\n      <th>50%</th>\n      <td>93.100000</td>\n    </tr>\n    <tr>\n      <th>75%</th>\n      <td>101.900000</td>\n    </tr>\n    <tr>\n      <th>max</th>\n      <td>183.000000</td>\n    </tr>\n  </tbody>\n</table>\n</div>"
     },
     "metadata": {},
     "execution_count": 645
    }
   ],
   "source": [
    "# Bin the cost data according to quartiles\n",
    "\n",
    "# Describe the data to begin binning data with pandas cut or qcut\n",
    "\n",
    "cost.describe()"
   ]
  },
  {
   "cell_type": "code",
   "execution_count": 646,
   "metadata": {},
   "outputs": [
    {
     "output_type": "execute_result",
     "data": {
      "text/plain": [
       "0                  (91.4, 96.18]\n",
       "1                   (88.5, 91.4]\n",
       "2                   (88.5, 91.4]\n",
       "3                   (88.5, 91.4]\n",
       "4      (78.79899999999999, 88.5]\n",
       "                 ...            \n",
       "504              (96.18, 103.74]\n",
       "505    (78.79899999999999, 88.5]\n",
       "506    (78.79899999999999, 88.5]\n",
       "507              (103.74, 183.0]\n",
       "508                 (88.5, 91.4]\n",
       "Name: Cost of Living Index, Length: 509, dtype: category\n",
       "Categories (5, interval[float64]): [(78.79899999999999, 88.5] < (88.5, 91.4] < (91.4, 96.18] < (96.18, 103.74] < (103.74, 183.0]]"
      ]
     },
     "metadata": {},
     "execution_count": 646
    }
   ],
   "source": [
    "# Quartile cut the Walk Score data, to see how it is evenly distributed\n",
    "\n",
    "pd.qcut(cost['Cost of Living Index'], q=5)"
   ]
  },
  {
   "cell_type": "code",
   "execution_count": 647,
   "metadata": {},
   "outputs": [
    {
     "output_type": "execute_result",
     "data": {
      "text/plain": [
       "     Cost of Living Index                 Location  \\\n",
       "0                    95.5     Aberdeen, Washington   \n",
       "1                    89.6           Abilene, Texas   \n",
       "2                    89.9         Adrian, Michigan   \n",
       "3                    90.8              Akron, Ohio   \n",
       "4                    86.5   Alamogordo, New Mexico   \n",
       "..                    ...                      ...   \n",
       "504                 100.0      Vero Beach, Florida   \n",
       "505                  82.6   Weirton, West Virginia   \n",
       "506                  84.5  Wheeling, West Virginia   \n",
       "507                 107.3  New London, Connecticut   \n",
       "508                  90.4          Victoria, Texas   \n",
       "\n",
       "    Cost of Living Index Categories Cost of Living Index Ranges  \n",
       "0      Average Cost of Living Index                  91.4-96.18  \n",
       "1        Lower Cost of Living Index                   88.5-91.4  \n",
       "2        Lower Cost of Living Index                   88.5-91.4  \n",
       "3        Lower Cost of Living Index                   88.5-91.4  \n",
       "4       Lowest Cost of Living Index                  78.79-88.5  \n",
       "..                              ...                         ...  \n",
       "504     Higher Cost of Living Index                96.18-103.74  \n",
       "505     Lowest Cost of Living Index                  78.79-88.5  \n",
       "506     Lowest Cost of Living Index                  78.79-88.5  \n",
       "507    Highest Cost of Living Index                103.74-183.0  \n",
       "508      Lower Cost of Living Index                   88.5-91.4  \n",
       "\n",
       "[509 rows x 4 columns]"
      ],
      "text/html": "<div>\n<style scoped>\n    .dataframe tbody tr th:only-of-type {\n        vertical-align: middle;\n    }\n\n    .dataframe tbody tr th {\n        vertical-align: top;\n    }\n\n    .dataframe thead th {\n        text-align: right;\n    }\n</style>\n<table border=\"1\" class=\"dataframe\">\n  <thead>\n    <tr style=\"text-align: right;\">\n      <th></th>\n      <th>Cost of Living Index</th>\n      <th>Location</th>\n      <th>Cost of Living Index Categories</th>\n      <th>Cost of Living Index Ranges</th>\n    </tr>\n  </thead>\n  <tbody>\n    <tr>\n      <th>0</th>\n      <td>95.5</td>\n      <td>Aberdeen, Washington</td>\n      <td>Average Cost of Living Index</td>\n      <td>91.4-96.18</td>\n    </tr>\n    <tr>\n      <th>1</th>\n      <td>89.6</td>\n      <td>Abilene, Texas</td>\n      <td>Lower Cost of Living Index</td>\n      <td>88.5-91.4</td>\n    </tr>\n    <tr>\n      <th>2</th>\n      <td>89.9</td>\n      <td>Adrian, Michigan</td>\n      <td>Lower Cost of Living Index</td>\n      <td>88.5-91.4</td>\n    </tr>\n    <tr>\n      <th>3</th>\n      <td>90.8</td>\n      <td>Akron, Ohio</td>\n      <td>Lower Cost of Living Index</td>\n      <td>88.5-91.4</td>\n    </tr>\n    <tr>\n      <th>4</th>\n      <td>86.5</td>\n      <td>Alamogordo, New Mexico</td>\n      <td>Lowest Cost of Living Index</td>\n      <td>78.79-88.5</td>\n    </tr>\n    <tr>\n      <th>...</th>\n      <td>...</td>\n      <td>...</td>\n      <td>...</td>\n      <td>...</td>\n    </tr>\n    <tr>\n      <th>504</th>\n      <td>100.0</td>\n      <td>Vero Beach, Florida</td>\n      <td>Higher Cost of Living Index</td>\n      <td>96.18-103.74</td>\n    </tr>\n    <tr>\n      <th>505</th>\n      <td>82.6</td>\n      <td>Weirton, West Virginia</td>\n      <td>Lowest Cost of Living Index</td>\n      <td>78.79-88.5</td>\n    </tr>\n    <tr>\n      <th>506</th>\n      <td>84.5</td>\n      <td>Wheeling, West Virginia</td>\n      <td>Lowest Cost of Living Index</td>\n      <td>78.79-88.5</td>\n    </tr>\n    <tr>\n      <th>507</th>\n      <td>107.3</td>\n      <td>New London, Connecticut</td>\n      <td>Highest Cost of Living Index</td>\n      <td>103.74-183.0</td>\n    </tr>\n    <tr>\n      <th>508</th>\n      <td>90.4</td>\n      <td>Victoria, Texas</td>\n      <td>Lower Cost of Living Index</td>\n      <td>88.5-91.4</td>\n    </tr>\n  </tbody>\n</table>\n<p>509 rows × 4 columns</p>\n</div>"
     },
     "metadata": {},
     "execution_count": 647
    }
   ],
   "source": [
    "# Bin the Cost of Living Index data into categories and ranges\n",
    "\n",
    "bins = [78.79899999999999, 88.5, 91.4, 96.18, 103.74, 183.0]\n",
    "labels = [\"Lowest Cost of Living Index\", \"Lower Cost of Living Index\", \"Average Cost of Living Index\", \"Higher Cost of Living Index\", \"Highest Cost of Living Index\"]\n",
    "cost['Cost of Living Index Categories'] = pd.cut(cost['Cost of Living Index'], bins=bins, labels=labels)\n",
    "\n",
    "bins = [78.79899999999999, 88.5, 91.4, 96.18, 103.74, 183.0]\n",
    "labels = [\"78.79-88.5\", \"88.5-91.4\", \"91.4-96.18\", \"96.18-103.74\", \"103.74-183.0\"]\n",
    "cost['Cost of Living Index Ranges'] = pd.cut(cost['Cost of Living Index'], bins=bins, labels=labels)\n",
    "\n",
    "cost"
   ]
  },
  {
   "cell_type": "code",
   "execution_count": 648,
   "metadata": {},
   "outputs": [
    {
     "output_type": "execute_result",
     "data": {
      "text/plain": [
       "(68, 24)"
      ]
     },
     "metadata": {},
     "execution_count": 648
    }
   ],
   "source": [
    "# Check shape of merged_population_rent_crime data\n",
    "\n",
    "merged_population_rent_crime.shape"
   ]
  },
  {
   "cell_type": "code",
   "execution_count": 649,
   "metadata": {},
   "outputs": [
    {
     "output_type": "execute_result",
     "data": {
      "text/plain": [
       "                    Location  2019 Population Town or City  2019 Rental Rates  \\\n",
       "0           Phoenix, Arizona          1680992         city               1447   \n",
       "1            Tucson, Arizona           548073         city               1248   \n",
       "2      Little Rock, Arkansas           197312         city                895   \n",
       "3    Bakersfield, California           384145         city               1340   \n",
       "4      Riverside, California           331360         city               1944   \n",
       "..                       ...              ...          ...                ...   \n",
       "63  Virginia Beach, Virginia           449974         city               1356   \n",
       "64       Seattle, Washington           753675         city               1964   \n",
       "65       Spokane, Washington           222081         city               1111   \n",
       "66        Madison, Wisconsin           259680         city               1415   \n",
       "67      Milwaukee, Wisconsin           590157         city                983   \n",
       "\n",
       "         State            City  Violent crime  \\\n",
       "0      Arizona         Phoenix          11803   \n",
       "1      Arizona          Tucson           3775   \n",
       "2     Arkansas     Little Rock           3009   \n",
       "3   California     Bakersfield           1766   \n",
       "4   California       Riverside           1686   \n",
       "..         ...             ...            ...   \n",
       "63    Virginia  Virginia Beach            581   \n",
       "64  Washington         Seattle           4471   \n",
       "65  Washington         Spokane           1520   \n",
       "66   Wisconsin         Madison            940   \n",
       "67   Wisconsin       Milwaukee           7874   \n",
       "\n",
       "    Murder and nonnegligent manslaughter  Rape  Robbery  ...  \\\n",
       "0                                    131  1139     3197  ...   \n",
       "1                                     40   527     1105  ...   \n",
       "2                                     38   209      391  ...   \n",
       "3                                     34   116      701  ...   \n",
       "4                                     17   139      476  ...   \n",
       "..                                   ...   ...      ...  ...   \n",
       "63                                    30    79      196  ...   \n",
       "64                                    28   358     1339  ...   \n",
       "65                                     6   230      311  ...   \n",
       "66                                     4   107      217  ...   \n",
       "67                                    97   427     1911  ...   \n",
       "\n",
       "    Rental Rate Categories  Rental Rate Ranges  Crime Rate Categories  \\\n",
       "0             Average Rent     $1,294.50-1,549          Average Crime   \n",
       "1                 Low Rent    $581.99-1,294.50            Lower Crime   \n",
       "2                 Low Rent    $581.99-1,294.50          Highest Crime   \n",
       "3             Average Rent     $1,294.50-1,549          Average Crime   \n",
       "4             Highest Rent      $1891.50-6,373            Lower Crime   \n",
       "..                     ...                 ...                    ...   \n",
       "63            Average Rent     $1,294.50-1,549           Lowest Crime   \n",
       "64            Highest Rent      $1891.50-6,373           Higher Crime   \n",
       "65                Low Rent    $581.99-1,294.50          Highest Crime   \n",
       "66            Average Rent     $1,294.50-1,549           Lowest Crime   \n",
       "67                Low Rent    $581.99-1,294.50            Lower Crime   \n",
       "\n",
       "       Crime Rate Ranges  Walk Score  Bike Score Walk Score Categories  \\\n",
       "0    7,951.131-9,683.737          41          56     Higher Walk Score   \n",
       "1    5,831.013-7,951.131          42          67     Higher Walk Score   \n",
       "2   11,316.718-16,274.42          32          32    Average Walk Score   \n",
       "3    7,951.131-9,683.737          34          44    Average Walk Score   \n",
       "4    5,831.013-7,951.131          42          49     Higher Walk Score   \n",
       "..                   ...         ...         ...                   ...   \n",
       "63    1,972.79-5,831.013          32          44    Average Walk Score   \n",
       "64  9,683.737-11,316.718          74          70    Highest Walk Score   \n",
       "65  11,316.718-16,274.42          49          52    Highest Walk Score   \n",
       "66    1,972.79-5,831.013          48          65     Higher Walk Score   \n",
       "67   5,831.013-7,951.131          63          59    Highest Walk Score   \n",
       "\n",
       "    Walk Score Ranges Bike Score Categories Bike Score Ranges  \n",
       "0           38.0-48.0   Highest Bike Scores         52.0-96.0  \n",
       "1           38.0-48.0   Highest Bike Scores         52.0-96.0  \n",
       "2           31.0-38.0    Lowest Bike Scores        6.999-34.0  \n",
       "3           31.0-38.0   Average Bike Scores         41.0-46.0  \n",
       "4           38.0-48.0    Higher Bike Scores         46.0-52.0  \n",
       "..                ...                   ...               ...  \n",
       "63          31.0-38.0   Average Bike Scores         41.0-46.0  \n",
       "64          48.0-96.0   Highest Bike Scores         52.0-96.0  \n",
       "65          48.0-96.0    Higher Bike Scores         46.0-52.0  \n",
       "66          38.0-48.0   Highest Bike Scores         52.0-96.0  \n",
       "67          48.0-96.0   Highest Bike Scores         52.0-96.0  \n",
       "\n",
       "[68 rows x 30 columns]"
      ],
      "text/html": "<div>\n<style scoped>\n    .dataframe tbody tr th:only-of-type {\n        vertical-align: middle;\n    }\n\n    .dataframe tbody tr th {\n        vertical-align: top;\n    }\n\n    .dataframe thead th {\n        text-align: right;\n    }\n</style>\n<table border=\"1\" class=\"dataframe\">\n  <thead>\n    <tr style=\"text-align: right;\">\n      <th></th>\n      <th>Location</th>\n      <th>2019 Population</th>\n      <th>Town or City</th>\n      <th>2019 Rental Rates</th>\n      <th>State</th>\n      <th>City</th>\n      <th>Violent crime</th>\n      <th>Murder and nonnegligent manslaughter</th>\n      <th>Rape</th>\n      <th>Robbery</th>\n      <th>...</th>\n      <th>Rental Rate Categories</th>\n      <th>Rental Rate Ranges</th>\n      <th>Crime Rate Categories</th>\n      <th>Crime Rate Ranges</th>\n      <th>Walk Score</th>\n      <th>Bike Score</th>\n      <th>Walk Score Categories</th>\n      <th>Walk Score Ranges</th>\n      <th>Bike Score Categories</th>\n      <th>Bike Score Ranges</th>\n    </tr>\n  </thead>\n  <tbody>\n    <tr>\n      <th>0</th>\n      <td>Phoenix, Arizona</td>\n      <td>1680992</td>\n      <td>city</td>\n      <td>1447</td>\n      <td>Arizona</td>\n      <td>Phoenix</td>\n      <td>11803</td>\n      <td>131</td>\n      <td>1139</td>\n      <td>3197</td>\n      <td>...</td>\n      <td>Average Rent</td>\n      <td>$1,294.50-1,549</td>\n      <td>Average Crime</td>\n      <td>7,951.131-9,683.737</td>\n      <td>41</td>\n      <td>56</td>\n      <td>Higher Walk Score</td>\n      <td>38.0-48.0</td>\n      <td>Highest Bike Scores</td>\n      <td>52.0-96.0</td>\n    </tr>\n    <tr>\n      <th>1</th>\n      <td>Tucson, Arizona</td>\n      <td>548073</td>\n      <td>city</td>\n      <td>1248</td>\n      <td>Arizona</td>\n      <td>Tucson</td>\n      <td>3775</td>\n      <td>40</td>\n      <td>527</td>\n      <td>1105</td>\n      <td>...</td>\n      <td>Low Rent</td>\n      <td>$581.99-1,294.50</td>\n      <td>Lower Crime</td>\n      <td>5,831.013-7,951.131</td>\n      <td>42</td>\n      <td>67</td>\n      <td>Higher Walk Score</td>\n      <td>38.0-48.0</td>\n      <td>Highest Bike Scores</td>\n      <td>52.0-96.0</td>\n    </tr>\n    <tr>\n      <th>2</th>\n      <td>Little Rock, Arkansas</td>\n      <td>197312</td>\n      <td>city</td>\n      <td>895</td>\n      <td>Arkansas</td>\n      <td>Little Rock</td>\n      <td>3009</td>\n      <td>38</td>\n      <td>209</td>\n      <td>391</td>\n      <td>...</td>\n      <td>Low Rent</td>\n      <td>$581.99-1,294.50</td>\n      <td>Highest Crime</td>\n      <td>11,316.718-16,274.42</td>\n      <td>32</td>\n      <td>32</td>\n      <td>Average Walk Score</td>\n      <td>31.0-38.0</td>\n      <td>Lowest Bike Scores</td>\n      <td>6.999-34.0</td>\n    </tr>\n    <tr>\n      <th>3</th>\n      <td>Bakersfield, California</td>\n      <td>384145</td>\n      <td>city</td>\n      <td>1340</td>\n      <td>California</td>\n      <td>Bakersfield</td>\n      <td>1766</td>\n      <td>34</td>\n      <td>116</td>\n      <td>701</td>\n      <td>...</td>\n      <td>Average Rent</td>\n      <td>$1,294.50-1,549</td>\n      <td>Average Crime</td>\n      <td>7,951.131-9,683.737</td>\n      <td>34</td>\n      <td>44</td>\n      <td>Average Walk Score</td>\n      <td>31.0-38.0</td>\n      <td>Average Bike Scores</td>\n      <td>41.0-46.0</td>\n    </tr>\n    <tr>\n      <th>4</th>\n      <td>Riverside, California</td>\n      <td>331360</td>\n      <td>city</td>\n      <td>1944</td>\n      <td>California</td>\n      <td>Riverside</td>\n      <td>1686</td>\n      <td>17</td>\n      <td>139</td>\n      <td>476</td>\n      <td>...</td>\n      <td>Highest Rent</td>\n      <td>$1891.50-6,373</td>\n      <td>Lower Crime</td>\n      <td>5,831.013-7,951.131</td>\n      <td>42</td>\n      <td>49</td>\n      <td>Higher Walk Score</td>\n      <td>38.0-48.0</td>\n      <td>Higher Bike Scores</td>\n      <td>46.0-52.0</td>\n    </tr>\n    <tr>\n      <th>...</th>\n      <td>...</td>\n      <td>...</td>\n      <td>...</td>\n      <td>...</td>\n      <td>...</td>\n      <td>...</td>\n      <td>...</td>\n      <td>...</td>\n      <td>...</td>\n      <td>...</td>\n      <td>...</td>\n      <td>...</td>\n      <td>...</td>\n      <td>...</td>\n      <td>...</td>\n      <td>...</td>\n      <td>...</td>\n      <td>...</td>\n      <td>...</td>\n      <td>...</td>\n      <td>...</td>\n    </tr>\n    <tr>\n      <th>63</th>\n      <td>Virginia Beach, Virginia</td>\n      <td>449974</td>\n      <td>city</td>\n      <td>1356</td>\n      <td>Virginia</td>\n      <td>Virginia Beach</td>\n      <td>581</td>\n      <td>30</td>\n      <td>79</td>\n      <td>196</td>\n      <td>...</td>\n      <td>Average Rent</td>\n      <td>$1,294.50-1,549</td>\n      <td>Lowest Crime</td>\n      <td>1,972.79-5,831.013</td>\n      <td>32</td>\n      <td>44</td>\n      <td>Average Walk Score</td>\n      <td>31.0-38.0</td>\n      <td>Average Bike Scores</td>\n      <td>41.0-46.0</td>\n    </tr>\n    <tr>\n      <th>64</th>\n      <td>Seattle, Washington</td>\n      <td>753675</td>\n      <td>city</td>\n      <td>1964</td>\n      <td>Washington</td>\n      <td>Seattle</td>\n      <td>4471</td>\n      <td>28</td>\n      <td>358</td>\n      <td>1339</td>\n      <td>...</td>\n      <td>Highest Rent</td>\n      <td>$1891.50-6,373</td>\n      <td>Higher Crime</td>\n      <td>9,683.737-11,316.718</td>\n      <td>74</td>\n      <td>70</td>\n      <td>Highest Walk Score</td>\n      <td>48.0-96.0</td>\n      <td>Highest Bike Scores</td>\n      <td>52.0-96.0</td>\n    </tr>\n    <tr>\n      <th>65</th>\n      <td>Spokane, Washington</td>\n      <td>222081</td>\n      <td>city</td>\n      <td>1111</td>\n      <td>Washington</td>\n      <td>Spokane</td>\n      <td>1520</td>\n      <td>6</td>\n      <td>230</td>\n      <td>311</td>\n      <td>...</td>\n      <td>Low Rent</td>\n      <td>$581.99-1,294.50</td>\n      <td>Highest Crime</td>\n      <td>11,316.718-16,274.42</td>\n      <td>49</td>\n      <td>52</td>\n      <td>Highest Walk Score</td>\n      <td>48.0-96.0</td>\n      <td>Higher Bike Scores</td>\n      <td>46.0-52.0</td>\n    </tr>\n    <tr>\n      <th>66</th>\n      <td>Madison, Wisconsin</td>\n      <td>259680</td>\n      <td>city</td>\n      <td>1415</td>\n      <td>Wisconsin</td>\n      <td>Madison</td>\n      <td>940</td>\n      <td>4</td>\n      <td>107</td>\n      <td>217</td>\n      <td>...</td>\n      <td>Average Rent</td>\n      <td>$1,294.50-1,549</td>\n      <td>Lowest Crime</td>\n      <td>1,972.79-5,831.013</td>\n      <td>48</td>\n      <td>65</td>\n      <td>Higher Walk Score</td>\n      <td>38.0-48.0</td>\n      <td>Highest Bike Scores</td>\n      <td>52.0-96.0</td>\n    </tr>\n    <tr>\n      <th>67</th>\n      <td>Milwaukee, Wisconsin</td>\n      <td>590157</td>\n      <td>city</td>\n      <td>983</td>\n      <td>Wisconsin</td>\n      <td>Milwaukee</td>\n      <td>7874</td>\n      <td>97</td>\n      <td>427</td>\n      <td>1911</td>\n      <td>...</td>\n      <td>Low Rent</td>\n      <td>$581.99-1,294.50</td>\n      <td>Lower Crime</td>\n      <td>5,831.013-7,951.131</td>\n      <td>63</td>\n      <td>59</td>\n      <td>Highest Walk Score</td>\n      <td>48.0-96.0</td>\n      <td>Highest Bike Scores</td>\n      <td>52.0-96.0</td>\n    </tr>\n  </tbody>\n</table>\n<p>68 rows × 30 columns</p>\n</div>"
     },
     "metadata": {},
     "execution_count": 649
    }
   ],
   "source": [
    "# Merge the walk data with the merged_population_rent_crime data\n",
    "\n",
    "merged_population_rent_crime_walk = pd.merge(left=merged_population_rent_crime, right=walk, left_on='Location', right_on='Location')\n",
    "merged_population_rent_crime_walk\n",
    "\n",
    "# When is this walk_data from? Consider dropping the populatin data from walk_data since we already have 2019 population data, and 2019 crime population\n",
    "# Also consider dropping Zip Code from the walk data because it is too high granularity and it does not match the true area of different areas with different rental rates"
   ]
  },
  {
   "cell_type": "code",
   "execution_count": 650,
   "metadata": {},
   "outputs": [
    {
     "output_type": "execute_result",
     "data": {
      "text/plain": [
       "                    Location  2019 Population Town or City  2019 Rental Rates  \\\n",
       "0           Phoenix, Arizona          1680992         city               1447   \n",
       "1            Tucson, Arizona           548073         city               1248   \n",
       "2      Little Rock, Arkansas           197312         city                895   \n",
       "3    Bakersfield, California           384145         city               1340   \n",
       "4      Riverside, California           331360         city               1944   \n",
       "..                       ...              ...          ...                ...   \n",
       "63  Virginia Beach, Virginia           449974         city               1356   \n",
       "64       Seattle, Washington           753675         city               1964   \n",
       "65       Spokane, Washington           222081         city               1111   \n",
       "66        Madison, Wisconsin           259680         city               1415   \n",
       "67      Milwaukee, Wisconsin           590157         city                983   \n",
       "\n",
       "         State            City  Violent crime  \\\n",
       "0      Arizona         Phoenix          11803   \n",
       "1      Arizona          Tucson           3775   \n",
       "2     Arkansas     Little Rock           3009   \n",
       "3   California     Bakersfield           1766   \n",
       "4   California       Riverside           1686   \n",
       "..         ...             ...            ...   \n",
       "63    Virginia  Virginia Beach            581   \n",
       "64  Washington         Seattle           4471   \n",
       "65  Washington         Spokane           1520   \n",
       "66   Wisconsin         Madison            940   \n",
       "67   Wisconsin       Milwaukee           7874   \n",
       "\n",
       "    Murder and nonnegligent manslaughter  Rape  Robbery  ...  \\\n",
       "0                                    131  1139     3197  ...   \n",
       "1                                     40   527     1105  ...   \n",
       "2                                     38   209      391  ...   \n",
       "3                                     34   116      701  ...   \n",
       "4                                     17   139      476  ...   \n",
       "..                                   ...   ...      ...  ...   \n",
       "63                                    30    79      196  ...   \n",
       "64                                    28   358     1339  ...   \n",
       "65                                     6   230      311  ...   \n",
       "66                                     4   107      217  ...   \n",
       "67                                    97   427     1911  ...   \n",
       "\n",
       "       Crime Rate Ranges  Walk Score  Bike Score  Walk Score Categories  \\\n",
       "0    7,951.131-9,683.737          41          56      Higher Walk Score   \n",
       "1    5,831.013-7,951.131          42          67      Higher Walk Score   \n",
       "2   11,316.718-16,274.42          32          32     Average Walk Score   \n",
       "3    7,951.131-9,683.737          34          44     Average Walk Score   \n",
       "4    5,831.013-7,951.131          42          49      Higher Walk Score   \n",
       "..                   ...         ...         ...                    ...   \n",
       "63    1,972.79-5,831.013          32          44     Average Walk Score   \n",
       "64  9,683.737-11,316.718          74          70     Highest Walk Score   \n",
       "65  11,316.718-16,274.42          49          52     Highest Walk Score   \n",
       "66    1,972.79-5,831.013          48          65      Higher Walk Score   \n",
       "67   5,831.013-7,951.131          63          59     Highest Walk Score   \n",
       "\n",
       "    Walk Score Ranges  Bike Score Categories Bike Score Ranges  \\\n",
       "0           38.0-48.0    Highest Bike Scores         52.0-96.0   \n",
       "1           38.0-48.0    Highest Bike Scores         52.0-96.0   \n",
       "2           31.0-38.0     Lowest Bike Scores        6.999-34.0   \n",
       "3           31.0-38.0    Average Bike Scores         41.0-46.0   \n",
       "4           38.0-48.0     Higher Bike Scores         46.0-52.0   \n",
       "..                ...                    ...               ...   \n",
       "63          31.0-38.0    Average Bike Scores         41.0-46.0   \n",
       "64          48.0-96.0    Highest Bike Scores         52.0-96.0   \n",
       "65          48.0-96.0     Higher Bike Scores         46.0-52.0   \n",
       "66          38.0-48.0    Highest Bike Scores         52.0-96.0   \n",
       "67          48.0-96.0    Highest Bike Scores         52.0-96.0   \n",
       "\n",
       "    Cost of Living Index Cost of Living Index Categories  \\\n",
       "0                  105.8    Highest Cost of Living Index   \n",
       "1                   99.7     Higher Cost of Living Index   \n",
       "2                   89.4      Lower Cost of Living Index   \n",
       "3                  103.6     Higher Cost of Living Index   \n",
       "4                  116.8    Highest Cost of Living Index   \n",
       "..                   ...                             ...   \n",
       "63                 101.1     Higher Cost of Living Index   \n",
       "64                 129.3    Highest Cost of Living Index   \n",
       "65                  99.9     Higher Cost of Living Index   \n",
       "66                 101.7     Higher Cost of Living Index   \n",
       "67                  94.8    Average Cost of Living Index   \n",
       "\n",
       "   Cost of Living Index Ranges  \n",
       "0                 103.74-183.0  \n",
       "1                 96.18-103.74  \n",
       "2                    88.5-91.4  \n",
       "3                 96.18-103.74  \n",
       "4                 103.74-183.0  \n",
       "..                         ...  \n",
       "63                96.18-103.74  \n",
       "64                103.74-183.0  \n",
       "65                96.18-103.74  \n",
       "66                96.18-103.74  \n",
       "67                  91.4-96.18  \n",
       "\n",
       "[68 rows x 33 columns]"
      ],
      "text/html": "<div>\n<style scoped>\n    .dataframe tbody tr th:only-of-type {\n        vertical-align: middle;\n    }\n\n    .dataframe tbody tr th {\n        vertical-align: top;\n    }\n\n    .dataframe thead th {\n        text-align: right;\n    }\n</style>\n<table border=\"1\" class=\"dataframe\">\n  <thead>\n    <tr style=\"text-align: right;\">\n      <th></th>\n      <th>Location</th>\n      <th>2019 Population</th>\n      <th>Town or City</th>\n      <th>2019 Rental Rates</th>\n      <th>State</th>\n      <th>City</th>\n      <th>Violent crime</th>\n      <th>Murder and nonnegligent manslaughter</th>\n      <th>Rape</th>\n      <th>Robbery</th>\n      <th>...</th>\n      <th>Crime Rate Ranges</th>\n      <th>Walk Score</th>\n      <th>Bike Score</th>\n      <th>Walk Score Categories</th>\n      <th>Walk Score Ranges</th>\n      <th>Bike Score Categories</th>\n      <th>Bike Score Ranges</th>\n      <th>Cost of Living Index</th>\n      <th>Cost of Living Index Categories</th>\n      <th>Cost of Living Index Ranges</th>\n    </tr>\n  </thead>\n  <tbody>\n    <tr>\n      <th>0</th>\n      <td>Phoenix, Arizona</td>\n      <td>1680992</td>\n      <td>city</td>\n      <td>1447</td>\n      <td>Arizona</td>\n      <td>Phoenix</td>\n      <td>11803</td>\n      <td>131</td>\n      <td>1139</td>\n      <td>3197</td>\n      <td>...</td>\n      <td>7,951.131-9,683.737</td>\n      <td>41</td>\n      <td>56</td>\n      <td>Higher Walk Score</td>\n      <td>38.0-48.0</td>\n      <td>Highest Bike Scores</td>\n      <td>52.0-96.0</td>\n      <td>105.8</td>\n      <td>Highest Cost of Living Index</td>\n      <td>103.74-183.0</td>\n    </tr>\n    <tr>\n      <th>1</th>\n      <td>Tucson, Arizona</td>\n      <td>548073</td>\n      <td>city</td>\n      <td>1248</td>\n      <td>Arizona</td>\n      <td>Tucson</td>\n      <td>3775</td>\n      <td>40</td>\n      <td>527</td>\n      <td>1105</td>\n      <td>...</td>\n      <td>5,831.013-7,951.131</td>\n      <td>42</td>\n      <td>67</td>\n      <td>Higher Walk Score</td>\n      <td>38.0-48.0</td>\n      <td>Highest Bike Scores</td>\n      <td>52.0-96.0</td>\n      <td>99.7</td>\n      <td>Higher Cost of Living Index</td>\n      <td>96.18-103.74</td>\n    </tr>\n    <tr>\n      <th>2</th>\n      <td>Little Rock, Arkansas</td>\n      <td>197312</td>\n      <td>city</td>\n      <td>895</td>\n      <td>Arkansas</td>\n      <td>Little Rock</td>\n      <td>3009</td>\n      <td>38</td>\n      <td>209</td>\n      <td>391</td>\n      <td>...</td>\n      <td>11,316.718-16,274.42</td>\n      <td>32</td>\n      <td>32</td>\n      <td>Average Walk Score</td>\n      <td>31.0-38.0</td>\n      <td>Lowest Bike Scores</td>\n      <td>6.999-34.0</td>\n      <td>89.4</td>\n      <td>Lower Cost of Living Index</td>\n      <td>88.5-91.4</td>\n    </tr>\n    <tr>\n      <th>3</th>\n      <td>Bakersfield, California</td>\n      <td>384145</td>\n      <td>city</td>\n      <td>1340</td>\n      <td>California</td>\n      <td>Bakersfield</td>\n      <td>1766</td>\n      <td>34</td>\n      <td>116</td>\n      <td>701</td>\n      <td>...</td>\n      <td>7,951.131-9,683.737</td>\n      <td>34</td>\n      <td>44</td>\n      <td>Average Walk Score</td>\n      <td>31.0-38.0</td>\n      <td>Average Bike Scores</td>\n      <td>41.0-46.0</td>\n      <td>103.6</td>\n      <td>Higher Cost of Living Index</td>\n      <td>96.18-103.74</td>\n    </tr>\n    <tr>\n      <th>4</th>\n      <td>Riverside, California</td>\n      <td>331360</td>\n      <td>city</td>\n      <td>1944</td>\n      <td>California</td>\n      <td>Riverside</td>\n      <td>1686</td>\n      <td>17</td>\n      <td>139</td>\n      <td>476</td>\n      <td>...</td>\n      <td>5,831.013-7,951.131</td>\n      <td>42</td>\n      <td>49</td>\n      <td>Higher Walk Score</td>\n      <td>38.0-48.0</td>\n      <td>Higher Bike Scores</td>\n      <td>46.0-52.0</td>\n      <td>116.8</td>\n      <td>Highest Cost of Living Index</td>\n      <td>103.74-183.0</td>\n    </tr>\n    <tr>\n      <th>...</th>\n      <td>...</td>\n      <td>...</td>\n      <td>...</td>\n      <td>...</td>\n      <td>...</td>\n      <td>...</td>\n      <td>...</td>\n      <td>...</td>\n      <td>...</td>\n      <td>...</td>\n      <td>...</td>\n      <td>...</td>\n      <td>...</td>\n      <td>...</td>\n      <td>...</td>\n      <td>...</td>\n      <td>...</td>\n      <td>...</td>\n      <td>...</td>\n      <td>...</td>\n      <td>...</td>\n    </tr>\n    <tr>\n      <th>63</th>\n      <td>Virginia Beach, Virginia</td>\n      <td>449974</td>\n      <td>city</td>\n      <td>1356</td>\n      <td>Virginia</td>\n      <td>Virginia Beach</td>\n      <td>581</td>\n      <td>30</td>\n      <td>79</td>\n      <td>196</td>\n      <td>...</td>\n      <td>1,972.79-5,831.013</td>\n      <td>32</td>\n      <td>44</td>\n      <td>Average Walk Score</td>\n      <td>31.0-38.0</td>\n      <td>Average Bike Scores</td>\n      <td>41.0-46.0</td>\n      <td>101.1</td>\n      <td>Higher Cost of Living Index</td>\n      <td>96.18-103.74</td>\n    </tr>\n    <tr>\n      <th>64</th>\n      <td>Seattle, Washington</td>\n      <td>753675</td>\n      <td>city</td>\n      <td>1964</td>\n      <td>Washington</td>\n      <td>Seattle</td>\n      <td>4471</td>\n      <td>28</td>\n      <td>358</td>\n      <td>1339</td>\n      <td>...</td>\n      <td>9,683.737-11,316.718</td>\n      <td>74</td>\n      <td>70</td>\n      <td>Highest Walk Score</td>\n      <td>48.0-96.0</td>\n      <td>Highest Bike Scores</td>\n      <td>52.0-96.0</td>\n      <td>129.3</td>\n      <td>Highest Cost of Living Index</td>\n      <td>103.74-183.0</td>\n    </tr>\n    <tr>\n      <th>65</th>\n      <td>Spokane, Washington</td>\n      <td>222081</td>\n      <td>city</td>\n      <td>1111</td>\n      <td>Washington</td>\n      <td>Spokane</td>\n      <td>1520</td>\n      <td>6</td>\n      <td>230</td>\n      <td>311</td>\n      <td>...</td>\n      <td>11,316.718-16,274.42</td>\n      <td>49</td>\n      <td>52</td>\n      <td>Highest Walk Score</td>\n      <td>48.0-96.0</td>\n      <td>Higher Bike Scores</td>\n      <td>46.0-52.0</td>\n      <td>99.9</td>\n      <td>Higher Cost of Living Index</td>\n      <td>96.18-103.74</td>\n    </tr>\n    <tr>\n      <th>66</th>\n      <td>Madison, Wisconsin</td>\n      <td>259680</td>\n      <td>city</td>\n      <td>1415</td>\n      <td>Wisconsin</td>\n      <td>Madison</td>\n      <td>940</td>\n      <td>4</td>\n      <td>107</td>\n      <td>217</td>\n      <td>...</td>\n      <td>1,972.79-5,831.013</td>\n      <td>48</td>\n      <td>65</td>\n      <td>Higher Walk Score</td>\n      <td>38.0-48.0</td>\n      <td>Highest Bike Scores</td>\n      <td>52.0-96.0</td>\n      <td>101.7</td>\n      <td>Higher Cost of Living Index</td>\n      <td>96.18-103.74</td>\n    </tr>\n    <tr>\n      <th>67</th>\n      <td>Milwaukee, Wisconsin</td>\n      <td>590157</td>\n      <td>city</td>\n      <td>983</td>\n      <td>Wisconsin</td>\n      <td>Milwaukee</td>\n      <td>7874</td>\n      <td>97</td>\n      <td>427</td>\n      <td>1911</td>\n      <td>...</td>\n      <td>5,831.013-7,951.131</td>\n      <td>63</td>\n      <td>59</td>\n      <td>Highest Walk Score</td>\n      <td>48.0-96.0</td>\n      <td>Highest Bike Scores</td>\n      <td>52.0-96.0</td>\n      <td>94.8</td>\n      <td>Average Cost of Living Index</td>\n      <td>91.4-96.18</td>\n    </tr>\n  </tbody>\n</table>\n<p>68 rows × 33 columns</p>\n</div>"
     },
     "metadata": {},
     "execution_count": 650
    }
   ],
   "source": [
    "# Merge the cost data with the merged_population_rent_crime_walk data\n",
    "\n",
    "merged_population_rent_crime_walk_cost = pd.merge(left=merged_population_rent_crime_walk, right=cost, left_on='Location', right_on='Location')\n",
    "merged_population_rent_crime_walk_cost"
   ]
  },
  {
   "cell_type": "code",
   "execution_count": 651,
   "metadata": {},
   "outputs": [
    {
     "output_type": "execute_result",
     "data": {
      "text/plain": [
       "68"
      ]
     },
     "metadata": {},
     "execution_count": 651
    }
   ],
   "source": [
    "# Count unique Locations to be sure we are not losing any data with our merges, as we should not\n",
    "\n",
    "merged_population_rent_crime['Location'].nunique()"
   ]
  },
  {
   "cell_type": "code",
   "execution_count": 652,
   "metadata": {},
   "outputs": [
    {
     "output_type": "execute_result",
     "data": {
      "text/plain": [
       "68"
      ]
     },
     "metadata": {},
     "execution_count": 652
    }
   ],
   "source": [
    "merged_population_rent_crime_walk['Location'].nunique()"
   ]
  },
  {
   "cell_type": "code",
   "execution_count": 653,
   "metadata": {},
   "outputs": [
    {
     "output_type": "execute_result",
     "data": {
      "text/plain": [
       "68"
      ]
     },
     "metadata": {},
     "execution_count": 653
    }
   ],
   "source": [
    "merged_population_rent_crime_walk_cost['Location'].nunique()"
   ]
  },
  {
   "cell_type": "code",
   "execution_count": 654,
   "metadata": {},
   "outputs": [],
   "source": [
    "# Calculating Livability Score with Walk Score, Bike Score, Cost of Living Index, and Crime Rate (Subtracted from the max crime rate of 16274.419781 to reverse the scores)\n",
    "\n",
    "merged_population_rent_crime_walk_cost['Livability Score'] = merged_population_rent_crime_walk_cost[\"Walk Score\"] + merged_population_rent_crime_walk_cost[\"Bike Score\"] + merged_population_rent_crime_walk_cost[\"Cost of Living Index\"] + 16274.419781 - merged_population_rent_crime_walk_cost[\"Crime Rate\"]\n",
    "\n",
    "# https://scikit-learn.org/stable/modules/preprocessing.html\n",
    "# https://scikit-learn.org/stable/modules/generated/sklearn.preprocessing.MinMaxScaler.html#sklearn.preprocessing.MinMaxScaler"
   ]
  },
  {
   "cell_type": "code",
   "execution_count": 655,
   "metadata": {},
   "outputs": [],
   "source": [
    "# Scale the Livability score then multiply it by 100 to make the scores between 0 and 100"
   ]
  },
  {
   "cell_type": "code",
   "execution_count": 656,
   "metadata": {},
   "outputs": [
    {
     "output_type": "execute_result",
     "data": {
      "text/plain": [
       "       2019 Population  2019 Rental Rates  Violent crime  \\\n",
       "count     6.800000e+01          68.000000      68.000000   \n",
       "mean      4.499816e+05        1448.794118    3677.397059   \n",
       "std       5.046458e+05         458.855701    4941.783853   \n",
       "min       4.927100e+04         678.000000     135.000000   \n",
       "25%       1.360930e+05        1180.750000     867.500000   \n",
       "50%       2.428600e+05        1369.000000    1726.000000   \n",
       "75%       5.909902e+05        1604.000000    4493.000000   \n",
       "max       2.693976e+06        3362.000000   25532.000000   \n",
       "\n",
       "       Murder and nonnegligent manslaughter         Rape      Robbery  \\\n",
       "count                             68.000000    68.000000    68.000000   \n",
       "mean                              56.250000   291.323529   979.235294   \n",
       "std                               87.296095   357.725587  1602.208384   \n",
       "min                                0.000000    18.000000    13.000000   \n",
       "25%                                8.750000    62.250000   194.250000   \n",
       "50%                               29.500000   145.000000   388.000000   \n",
       "75%                               51.250000   367.250000  1169.750000   \n",
       "max                              492.000000  1761.000000  9147.000000   \n",
       "\n",
       "       Aggravated assault  Property crime      Burglary  Larceny-theft  \\\n",
       "count           68.000000       68.000000     68.000000      68.000000   \n",
       "mean          2350.588235    16483.838235   2615.676471   11702.088235   \n",
       "std           3050.350321    19044.851768   2976.359418   13913.736598   \n",
       "min             77.000000     1069.000000    163.000000     728.000000   \n",
       "25%            570.250000     3640.750000    511.750000    2634.750000   \n",
       "50%           1163.500000     9948.000000   1498.500000    7345.500000   \n",
       "75%           2889.250000    20903.250000   3907.750000   13803.750000   \n",
       "max          15296.000000   101750.000000  17038.000000   71614.000000   \n",
       "\n",
       "       Motor vehicle theft       Arson    Crime Rate  Walk Score  Bike Score  \\\n",
       "count            68.000000   68.000000     68.000000   68.000000   68.000000   \n",
       "mean           2166.073529  103.058824   8700.517414   48.676471   53.250000   \n",
       "std            2541.341127  138.326769   3229.769757   14.729847   12.203957   \n",
       "min              81.000000    1.000000   1972.791138   13.000000   30.000000   \n",
       "25%             447.750000   12.250000   6334.476970   37.000000   44.000000   \n",
       "50%            1026.000000   47.500000   8387.700330   46.000000   52.000000   \n",
       "75%            3047.750000  136.750000  10806.325688   59.250000   61.250000   \n",
       "max           13098.000000  789.000000  16274.419781   87.000000   86.000000   \n",
       "\n",
       "       Cost of Living Index  Livability Score  \n",
       "count             68.000000         68.000000  \n",
       "mean             104.394118       7780.222955  \n",
       "std               17.184312       3233.114074  \n",
       "min               88.000000        218.000000  \n",
       "25%               93.450000       5677.419093  \n",
       "50%              101.000000       8100.019451  \n",
       "75%              107.700000      10136.617811  \n",
       "max              183.000000      14454.628643  "
      ],
      "text/html": "<div>\n<style scoped>\n    .dataframe tbody tr th:only-of-type {\n        vertical-align: middle;\n    }\n\n    .dataframe tbody tr th {\n        vertical-align: top;\n    }\n\n    .dataframe thead th {\n        text-align: right;\n    }\n</style>\n<table border=\"1\" class=\"dataframe\">\n  <thead>\n    <tr style=\"text-align: right;\">\n      <th></th>\n      <th>2019 Population</th>\n      <th>2019 Rental Rates</th>\n      <th>Violent crime</th>\n      <th>Murder and nonnegligent manslaughter</th>\n      <th>Rape</th>\n      <th>Robbery</th>\n      <th>Aggravated assault</th>\n      <th>Property crime</th>\n      <th>Burglary</th>\n      <th>Larceny-theft</th>\n      <th>Motor vehicle theft</th>\n      <th>Arson</th>\n      <th>Crime Rate</th>\n      <th>Walk Score</th>\n      <th>Bike Score</th>\n      <th>Cost of Living Index</th>\n      <th>Livability Score</th>\n    </tr>\n  </thead>\n  <tbody>\n    <tr>\n      <th>count</th>\n      <td>6.800000e+01</td>\n      <td>68.000000</td>\n      <td>68.000000</td>\n      <td>68.000000</td>\n      <td>68.000000</td>\n      <td>68.000000</td>\n      <td>68.000000</td>\n      <td>68.000000</td>\n      <td>68.000000</td>\n      <td>68.000000</td>\n      <td>68.000000</td>\n      <td>68.000000</td>\n      <td>68.000000</td>\n      <td>68.000000</td>\n      <td>68.000000</td>\n      <td>68.000000</td>\n      <td>68.000000</td>\n    </tr>\n    <tr>\n      <th>mean</th>\n      <td>4.499816e+05</td>\n      <td>1448.794118</td>\n      <td>3677.397059</td>\n      <td>56.250000</td>\n      <td>291.323529</td>\n      <td>979.235294</td>\n      <td>2350.588235</td>\n      <td>16483.838235</td>\n      <td>2615.676471</td>\n      <td>11702.088235</td>\n      <td>2166.073529</td>\n      <td>103.058824</td>\n      <td>8700.517414</td>\n      <td>48.676471</td>\n      <td>53.250000</td>\n      <td>104.394118</td>\n      <td>7780.222955</td>\n    </tr>\n    <tr>\n      <th>std</th>\n      <td>5.046458e+05</td>\n      <td>458.855701</td>\n      <td>4941.783853</td>\n      <td>87.296095</td>\n      <td>357.725587</td>\n      <td>1602.208384</td>\n      <td>3050.350321</td>\n      <td>19044.851768</td>\n      <td>2976.359418</td>\n      <td>13913.736598</td>\n      <td>2541.341127</td>\n      <td>138.326769</td>\n      <td>3229.769757</td>\n      <td>14.729847</td>\n      <td>12.203957</td>\n      <td>17.184312</td>\n      <td>3233.114074</td>\n    </tr>\n    <tr>\n      <th>min</th>\n      <td>4.927100e+04</td>\n      <td>678.000000</td>\n      <td>135.000000</td>\n      <td>0.000000</td>\n      <td>18.000000</td>\n      <td>13.000000</td>\n      <td>77.000000</td>\n      <td>1069.000000</td>\n      <td>163.000000</td>\n      <td>728.000000</td>\n      <td>81.000000</td>\n      <td>1.000000</td>\n      <td>1972.791138</td>\n      <td>13.000000</td>\n      <td>30.000000</td>\n      <td>88.000000</td>\n      <td>218.000000</td>\n    </tr>\n    <tr>\n      <th>25%</th>\n      <td>1.360930e+05</td>\n      <td>1180.750000</td>\n      <td>867.500000</td>\n      <td>8.750000</td>\n      <td>62.250000</td>\n      <td>194.250000</td>\n      <td>570.250000</td>\n      <td>3640.750000</td>\n      <td>511.750000</td>\n      <td>2634.750000</td>\n      <td>447.750000</td>\n      <td>12.250000</td>\n      <td>6334.476970</td>\n      <td>37.000000</td>\n      <td>44.000000</td>\n      <td>93.450000</td>\n      <td>5677.419093</td>\n    </tr>\n    <tr>\n      <th>50%</th>\n      <td>2.428600e+05</td>\n      <td>1369.000000</td>\n      <td>1726.000000</td>\n      <td>29.500000</td>\n      <td>145.000000</td>\n      <td>388.000000</td>\n      <td>1163.500000</td>\n      <td>9948.000000</td>\n      <td>1498.500000</td>\n      <td>7345.500000</td>\n      <td>1026.000000</td>\n      <td>47.500000</td>\n      <td>8387.700330</td>\n      <td>46.000000</td>\n      <td>52.000000</td>\n      <td>101.000000</td>\n      <td>8100.019451</td>\n    </tr>\n    <tr>\n      <th>75%</th>\n      <td>5.909902e+05</td>\n      <td>1604.000000</td>\n      <td>4493.000000</td>\n      <td>51.250000</td>\n      <td>367.250000</td>\n      <td>1169.750000</td>\n      <td>2889.250000</td>\n      <td>20903.250000</td>\n      <td>3907.750000</td>\n      <td>13803.750000</td>\n      <td>3047.750000</td>\n      <td>136.750000</td>\n      <td>10806.325688</td>\n      <td>59.250000</td>\n      <td>61.250000</td>\n      <td>107.700000</td>\n      <td>10136.617811</td>\n    </tr>\n    <tr>\n      <th>max</th>\n      <td>2.693976e+06</td>\n      <td>3362.000000</td>\n      <td>25532.000000</td>\n      <td>492.000000</td>\n      <td>1761.000000</td>\n      <td>9147.000000</td>\n      <td>15296.000000</td>\n      <td>101750.000000</td>\n      <td>17038.000000</td>\n      <td>71614.000000</td>\n      <td>13098.000000</td>\n      <td>789.000000</td>\n      <td>16274.419781</td>\n      <td>87.000000</td>\n      <td>86.000000</td>\n      <td>183.000000</td>\n      <td>14454.628643</td>\n    </tr>\n  </tbody>\n</table>\n</div>"
     },
     "metadata": {},
     "execution_count": 656
    }
   ],
   "source": [
    "# Bin the cost data according to quartiles\n",
    "\n",
    "# Describe the data to begin binning data with pandas cut or qcut\n",
    "\n",
    "merged_population_rent_crime_walk_cost.describe()"
   ]
  },
  {
   "cell_type": "code",
   "execution_count": 657,
   "metadata": {},
   "outputs": [
    {
     "output_type": "execute_result",
     "data": {
      "text/plain": [
       "0        (7083.74, 8557.383]\n",
       "1        (7083.74, 8557.383]\n",
       "2        (217.999, 4619.026]\n",
       "3        (4619.026, 7083.74]\n",
       "4      (8557.383, 10829.277]\n",
       "               ...          \n",
       "63    (10829.277, 14454.629]\n",
       "64       (4619.026, 7083.74]\n",
       "65       (217.999, 4619.026]\n",
       "66     (8557.383, 10829.277]\n",
       "67     (8557.383, 10829.277]\n",
       "Name: Livability Score, Length: 68, dtype: category\n",
       "Categories (5, interval[float64]): [(217.999, 4619.026] < (4619.026, 7083.74] < (7083.74, 8557.383] < (8557.383, 10829.277] < (10829.277, 14454.629]]"
      ]
     },
     "metadata": {},
     "execution_count": 657
    }
   ],
   "source": [
    "# Quartile cut the Livability Score data, to see how it is evenly distributed\n",
    "\n",
    "pd.qcut(merged_population_rent_crime_walk_cost['Livability Score'], q=5)"
   ]
  },
  {
   "cell_type": "code",
   "execution_count": 658,
   "metadata": {},
   "outputs": [
    {
     "output_type": "execute_result",
     "data": {
      "text/plain": [
       "                    Location  2019 Population Town or City  2019 Rental Rates  \\\n",
       "0           Phoenix, Arizona          1680992         city               1447   \n",
       "1            Tucson, Arizona           548073         city               1248   \n",
       "2      Little Rock, Arkansas           197312         city                895   \n",
       "3    Bakersfield, California           384145         city               1340   \n",
       "4      Riverside, California           331360         city               1944   \n",
       "..                       ...              ...          ...                ...   \n",
       "63  Virginia Beach, Virginia           449974         city               1356   \n",
       "64       Seattle, Washington           753675         city               1964   \n",
       "65       Spokane, Washington           222081         city               1111   \n",
       "66        Madison, Wisconsin           259680         city               1415   \n",
       "67      Milwaukee, Wisconsin           590157         city                983   \n",
       "\n",
       "         State            City  Violent crime  \\\n",
       "0      Arizona         Phoenix          11803   \n",
       "1      Arizona          Tucson           3775   \n",
       "2     Arkansas     Little Rock           3009   \n",
       "3   California     Bakersfield           1766   \n",
       "4   California       Riverside           1686   \n",
       "..         ...             ...            ...   \n",
       "63    Virginia  Virginia Beach            581   \n",
       "64  Washington         Seattle           4471   \n",
       "65  Washington         Spokane           1520   \n",
       "66   Wisconsin         Madison            940   \n",
       "67   Wisconsin       Milwaukee           7874   \n",
       "\n",
       "    Murder and nonnegligent manslaughter  Rape  Robbery  ...  \\\n",
       "0                                    131  1139     3197  ...   \n",
       "1                                     40   527     1105  ...   \n",
       "2                                     38   209      391  ...   \n",
       "3                                     34   116      701  ...   \n",
       "4                                     17   139      476  ...   \n",
       "..                                   ...   ...      ...  ...   \n",
       "63                                    30    79      196  ...   \n",
       "64                                    28   358     1339  ...   \n",
       "65                                     6   230      311  ...   \n",
       "66                                     4   107      217  ...   \n",
       "67                                    97   427     1911  ...   \n",
       "\n",
       "    Walk Score Categories  Walk Score Ranges  Bike Score Categories  \\\n",
       "0       Higher Walk Score          38.0-48.0    Highest Bike Scores   \n",
       "1       Higher Walk Score          38.0-48.0    Highest Bike Scores   \n",
       "2      Average Walk Score          31.0-38.0     Lowest Bike Scores   \n",
       "3      Average Walk Score          31.0-38.0    Average Bike Scores   \n",
       "4       Higher Walk Score          38.0-48.0     Higher Bike Scores   \n",
       "..                    ...                ...                    ...   \n",
       "63     Average Walk Score          31.0-38.0    Average Bike Scores   \n",
       "64     Highest Walk Score          48.0-96.0    Highest Bike Scores   \n",
       "65     Highest Walk Score          48.0-96.0     Higher Bike Scores   \n",
       "66      Higher Walk Score          38.0-48.0    Highest Bike Scores   \n",
       "67     Highest Walk Score          48.0-96.0    Highest Bike Scores   \n",
       "\n",
       "    Bike Score Ranges  Cost of Living Index  Cost of Living Index Categories  \\\n",
       "0           52.0-96.0                 105.8     Highest Cost of Living Index   \n",
       "1           52.0-96.0                  99.7      Higher Cost of Living Index   \n",
       "2          6.999-34.0                  89.4       Lower Cost of Living Index   \n",
       "3           41.0-46.0                 103.6      Higher Cost of Living Index   \n",
       "4           46.0-52.0                 116.8     Highest Cost of Living Index   \n",
       "..                ...                   ...                              ...   \n",
       "63          41.0-46.0                 101.1      Higher Cost of Living Index   \n",
       "64          52.0-96.0                 129.3     Highest Cost of Living Index   \n",
       "65          46.0-52.0                  99.9      Higher Cost of Living Index   \n",
       "66          52.0-96.0                 101.7      Higher Cost of Living Index   \n",
       "67          52.0-96.0                  94.8     Average Cost of Living Index   \n",
       "\n",
       "   Cost of Living Index Ranges  Livability Score Livability Score Categories  \\\n",
       "0                 103.74-183.0       8401.333638   Average Livability Scores   \n",
       "1                 96.18-103.74       8531.989183    Higher Livability Scores   \n",
       "2                    88.5-91.4       1044.568889    Lowest Livability Scores   \n",
       "3                 96.18-103.74       7045.510728   Average Livability Scores   \n",
       "4                 103.74-183.0       9532.980283    Higher Livability Scores   \n",
       "..                         ...               ...                         ...   \n",
       "63                96.18-103.74      12671.745839   Highest Livability Scores   \n",
       "64                103.74-183.0       6237.440151     Lower Livability Scores   \n",
       "65                96.18-103.74       3335.519438    Lowest Livability Scores   \n",
       "66                96.18-103.74      10783.251019   Highest Livability Scores   \n",
       "67                  91.4-96.18       8672.961250    Higher Livability Scores   \n",
       "\n",
       "   Livability Score Ranges  \n",
       "0        6,756.68-8,531.98  \n",
       "1       8,531.98-10,735.50  \n",
       "2          217.99-5,161.60  \n",
       "3        6,756.68-8,531.98  \n",
       "4       8,531.98-10,735.50  \n",
       "..                     ...  \n",
       "63     10,735.50-14,454.62  \n",
       "64       5,161.60-6,756.68  \n",
       "65         217.99-5,161.60  \n",
       "66     10,735.50-14,454.62  \n",
       "67      8,531.98-10,735.50  \n",
       "\n",
       "[68 rows x 36 columns]"
      ],
      "text/html": "<div>\n<style scoped>\n    .dataframe tbody tr th:only-of-type {\n        vertical-align: middle;\n    }\n\n    .dataframe tbody tr th {\n        vertical-align: top;\n    }\n\n    .dataframe thead th {\n        text-align: right;\n    }\n</style>\n<table border=\"1\" class=\"dataframe\">\n  <thead>\n    <tr style=\"text-align: right;\">\n      <th></th>\n      <th>Location</th>\n      <th>2019 Population</th>\n      <th>Town or City</th>\n      <th>2019 Rental Rates</th>\n      <th>State</th>\n      <th>City</th>\n      <th>Violent crime</th>\n      <th>Murder and nonnegligent manslaughter</th>\n      <th>Rape</th>\n      <th>Robbery</th>\n      <th>...</th>\n      <th>Walk Score Categories</th>\n      <th>Walk Score Ranges</th>\n      <th>Bike Score Categories</th>\n      <th>Bike Score Ranges</th>\n      <th>Cost of Living Index</th>\n      <th>Cost of Living Index Categories</th>\n      <th>Cost of Living Index Ranges</th>\n      <th>Livability Score</th>\n      <th>Livability Score Categories</th>\n      <th>Livability Score Ranges</th>\n    </tr>\n  </thead>\n  <tbody>\n    <tr>\n      <th>0</th>\n      <td>Phoenix, Arizona</td>\n      <td>1680992</td>\n      <td>city</td>\n      <td>1447</td>\n      <td>Arizona</td>\n      <td>Phoenix</td>\n      <td>11803</td>\n      <td>131</td>\n      <td>1139</td>\n      <td>3197</td>\n      <td>...</td>\n      <td>Higher Walk Score</td>\n      <td>38.0-48.0</td>\n      <td>Highest Bike Scores</td>\n      <td>52.0-96.0</td>\n      <td>105.8</td>\n      <td>Highest Cost of Living Index</td>\n      <td>103.74-183.0</td>\n      <td>8401.333638</td>\n      <td>Average Livability Scores</td>\n      <td>6,756.68-8,531.98</td>\n    </tr>\n    <tr>\n      <th>1</th>\n      <td>Tucson, Arizona</td>\n      <td>548073</td>\n      <td>city</td>\n      <td>1248</td>\n      <td>Arizona</td>\n      <td>Tucson</td>\n      <td>3775</td>\n      <td>40</td>\n      <td>527</td>\n      <td>1105</td>\n      <td>...</td>\n      <td>Higher Walk Score</td>\n      <td>38.0-48.0</td>\n      <td>Highest Bike Scores</td>\n      <td>52.0-96.0</td>\n      <td>99.7</td>\n      <td>Higher Cost of Living Index</td>\n      <td>96.18-103.74</td>\n      <td>8531.989183</td>\n      <td>Higher Livability Scores</td>\n      <td>8,531.98-10,735.50</td>\n    </tr>\n    <tr>\n      <th>2</th>\n      <td>Little Rock, Arkansas</td>\n      <td>197312</td>\n      <td>city</td>\n      <td>895</td>\n      <td>Arkansas</td>\n      <td>Little Rock</td>\n      <td>3009</td>\n      <td>38</td>\n      <td>209</td>\n      <td>391</td>\n      <td>...</td>\n      <td>Average Walk Score</td>\n      <td>31.0-38.0</td>\n      <td>Lowest Bike Scores</td>\n      <td>6.999-34.0</td>\n      <td>89.4</td>\n      <td>Lower Cost of Living Index</td>\n      <td>88.5-91.4</td>\n      <td>1044.568889</td>\n      <td>Lowest Livability Scores</td>\n      <td>217.99-5,161.60</td>\n    </tr>\n    <tr>\n      <th>3</th>\n      <td>Bakersfield, California</td>\n      <td>384145</td>\n      <td>city</td>\n      <td>1340</td>\n      <td>California</td>\n      <td>Bakersfield</td>\n      <td>1766</td>\n      <td>34</td>\n      <td>116</td>\n      <td>701</td>\n      <td>...</td>\n      <td>Average Walk Score</td>\n      <td>31.0-38.0</td>\n      <td>Average Bike Scores</td>\n      <td>41.0-46.0</td>\n      <td>103.6</td>\n      <td>Higher Cost of Living Index</td>\n      <td>96.18-103.74</td>\n      <td>7045.510728</td>\n      <td>Average Livability Scores</td>\n      <td>6,756.68-8,531.98</td>\n    </tr>\n    <tr>\n      <th>4</th>\n      <td>Riverside, California</td>\n      <td>331360</td>\n      <td>city</td>\n      <td>1944</td>\n      <td>California</td>\n      <td>Riverside</td>\n      <td>1686</td>\n      <td>17</td>\n      <td>139</td>\n      <td>476</td>\n      <td>...</td>\n      <td>Higher Walk Score</td>\n      <td>38.0-48.0</td>\n      <td>Higher Bike Scores</td>\n      <td>46.0-52.0</td>\n      <td>116.8</td>\n      <td>Highest Cost of Living Index</td>\n      <td>103.74-183.0</td>\n      <td>9532.980283</td>\n      <td>Higher Livability Scores</td>\n      <td>8,531.98-10,735.50</td>\n    </tr>\n    <tr>\n      <th>...</th>\n      <td>...</td>\n      <td>...</td>\n      <td>...</td>\n      <td>...</td>\n      <td>...</td>\n      <td>...</td>\n      <td>...</td>\n      <td>...</td>\n      <td>...</td>\n      <td>...</td>\n      <td>...</td>\n      <td>...</td>\n      <td>...</td>\n      <td>...</td>\n      <td>...</td>\n      <td>...</td>\n      <td>...</td>\n      <td>...</td>\n      <td>...</td>\n      <td>...</td>\n      <td>...</td>\n    </tr>\n    <tr>\n      <th>63</th>\n      <td>Virginia Beach, Virginia</td>\n      <td>449974</td>\n      <td>city</td>\n      <td>1356</td>\n      <td>Virginia</td>\n      <td>Virginia Beach</td>\n      <td>581</td>\n      <td>30</td>\n      <td>79</td>\n      <td>196</td>\n      <td>...</td>\n      <td>Average Walk Score</td>\n      <td>31.0-38.0</td>\n      <td>Average Bike Scores</td>\n      <td>41.0-46.0</td>\n      <td>101.1</td>\n      <td>Higher Cost of Living Index</td>\n      <td>96.18-103.74</td>\n      <td>12671.745839</td>\n      <td>Highest Livability Scores</td>\n      <td>10,735.50-14,454.62</td>\n    </tr>\n    <tr>\n      <th>64</th>\n      <td>Seattle, Washington</td>\n      <td>753675</td>\n      <td>city</td>\n      <td>1964</td>\n      <td>Washington</td>\n      <td>Seattle</td>\n      <td>4471</td>\n      <td>28</td>\n      <td>358</td>\n      <td>1339</td>\n      <td>...</td>\n      <td>Highest Walk Score</td>\n      <td>48.0-96.0</td>\n      <td>Highest Bike Scores</td>\n      <td>52.0-96.0</td>\n      <td>129.3</td>\n      <td>Highest Cost of Living Index</td>\n      <td>103.74-183.0</td>\n      <td>6237.440151</td>\n      <td>Lower Livability Scores</td>\n      <td>5,161.60-6,756.68</td>\n    </tr>\n    <tr>\n      <th>65</th>\n      <td>Spokane, Washington</td>\n      <td>222081</td>\n      <td>city</td>\n      <td>1111</td>\n      <td>Washington</td>\n      <td>Spokane</td>\n      <td>1520</td>\n      <td>6</td>\n      <td>230</td>\n      <td>311</td>\n      <td>...</td>\n      <td>Highest Walk Score</td>\n      <td>48.0-96.0</td>\n      <td>Higher Bike Scores</td>\n      <td>46.0-52.0</td>\n      <td>99.9</td>\n      <td>Higher Cost of Living Index</td>\n      <td>96.18-103.74</td>\n      <td>3335.519438</td>\n      <td>Lowest Livability Scores</td>\n      <td>217.99-5,161.60</td>\n    </tr>\n    <tr>\n      <th>66</th>\n      <td>Madison, Wisconsin</td>\n      <td>259680</td>\n      <td>city</td>\n      <td>1415</td>\n      <td>Wisconsin</td>\n      <td>Madison</td>\n      <td>940</td>\n      <td>4</td>\n      <td>107</td>\n      <td>217</td>\n      <td>...</td>\n      <td>Higher Walk Score</td>\n      <td>38.0-48.0</td>\n      <td>Highest Bike Scores</td>\n      <td>52.0-96.0</td>\n      <td>101.7</td>\n      <td>Higher Cost of Living Index</td>\n      <td>96.18-103.74</td>\n      <td>10783.251019</td>\n      <td>Highest Livability Scores</td>\n      <td>10,735.50-14,454.62</td>\n    </tr>\n    <tr>\n      <th>67</th>\n      <td>Milwaukee, Wisconsin</td>\n      <td>590157</td>\n      <td>city</td>\n      <td>983</td>\n      <td>Wisconsin</td>\n      <td>Milwaukee</td>\n      <td>7874</td>\n      <td>97</td>\n      <td>427</td>\n      <td>1911</td>\n      <td>...</td>\n      <td>Highest Walk Score</td>\n      <td>48.0-96.0</td>\n      <td>Highest Bike Scores</td>\n      <td>52.0-96.0</td>\n      <td>94.8</td>\n      <td>Average Cost of Living Index</td>\n      <td>91.4-96.18</td>\n      <td>8672.961250</td>\n      <td>Higher Livability Scores</td>\n      <td>8,531.98-10,735.50</td>\n    </tr>\n  </tbody>\n</table>\n<p>68 rows × 36 columns</p>\n</div>"
     },
     "metadata": {},
     "execution_count": 658
    }
   ],
   "source": [
    "# Bin the Cost of Living Index data into categories and ranges\n",
    "\n",
    "bins = [217.999, 5161.602, 6756.682, 8531.989, 10735.507, 14454.629]\n",
    "labels = [\"Lowest Livability Scores\", \"Lower Livability Scores\", \"Average Livability Scores\", \"Higher Livability Scores\", \"Highest Livability Scores\"]\n",
    "merged_population_rent_crime_walk_cost['Livability Score Categories'] = pd.cut(merged_population_rent_crime_walk_cost['Livability Score'], bins=bins, labels=labels)\n",
    "\n",
    "bins = [217.999, 5161.602, 6756.682, 8531.989, 10735.507, 14454.629]\n",
    "labels = [\"217.99-5,161.60\", \"5,161.60-6,756.68\", \"6,756.68-8,531.98\", \"8,531.98-10,735.50\", \"10,735.50-14,454.62\"]\n",
    "merged_population_rent_crime_walk_cost['Livability Score Ranges'] = pd.cut(merged_population_rent_crime_walk_cost['Livability Score'], bins=bins, labels=labels)\n",
    "\n",
    "merged_population_rent_crime_walk_cost"
   ]
  },
  {
   "cell_type": "code",
   "execution_count": 659,
   "metadata": {},
   "outputs": [
    {
     "output_type": "execute_result",
     "data": {
      "text/plain": [
       "                    Location  2019 Population Town or City  2019 Rental Rates  \\\n",
       "0           Phoenix, Arizona          1680992         city               1447   \n",
       "1            Tucson, Arizona           548073         city               1248   \n",
       "2      Little Rock, Arkansas           197312         city                895   \n",
       "3    Bakersfield, California           384145         city               1340   \n",
       "4      Riverside, California           331360         city               1944   \n",
       "..                       ...              ...          ...                ...   \n",
       "63  Virginia Beach, Virginia           449974         city               1356   \n",
       "64       Seattle, Washington           753675         city               1964   \n",
       "65       Spokane, Washington           222081         city               1111   \n",
       "66        Madison, Wisconsin           259680         city               1415   \n",
       "67      Milwaukee, Wisconsin           590157         city                983   \n",
       "\n",
       "         State            City  Violent crime  \\\n",
       "0      Arizona         Phoenix          11803   \n",
       "1      Arizona          Tucson           3775   \n",
       "2     Arkansas     Little Rock           3009   \n",
       "3   California     Bakersfield           1766   \n",
       "4   California       Riverside           1686   \n",
       "..         ...             ...            ...   \n",
       "63    Virginia  Virginia Beach            581   \n",
       "64  Washington         Seattle           4471   \n",
       "65  Washington         Spokane           1520   \n",
       "66   Wisconsin         Madison            940   \n",
       "67   Wisconsin       Milwaukee           7874   \n",
       "\n",
       "    Murder and nonnegligent manslaughter  Rape  Robbery  ...  \\\n",
       "0                                    131  1139     3197  ...   \n",
       "1                                     40   527     1105  ...   \n",
       "2                                     38   209      391  ...   \n",
       "3                                     34   116      701  ...   \n",
       "4                                     17   139      476  ...   \n",
       "..                                   ...   ...      ...  ...   \n",
       "63                                    30    79      196  ...   \n",
       "64                                    28   358     1339  ...   \n",
       "65                                     6   230      311  ...   \n",
       "66                                     4   107      217  ...   \n",
       "67                                    97   427     1911  ...   \n",
       "\n",
       "    Walk Score Categories  Walk Score Ranges  Bike Score Categories  \\\n",
       "0       Higher Walk Score          38.0-48.0    Highest Bike Scores   \n",
       "1       Higher Walk Score          38.0-48.0    Highest Bike Scores   \n",
       "2      Average Walk Score          31.0-38.0     Lowest Bike Scores   \n",
       "3      Average Walk Score          31.0-38.0    Average Bike Scores   \n",
       "4       Higher Walk Score          38.0-48.0     Higher Bike Scores   \n",
       "..                    ...                ...                    ...   \n",
       "63     Average Walk Score          31.0-38.0    Average Bike Scores   \n",
       "64     Highest Walk Score          48.0-96.0    Highest Bike Scores   \n",
       "65     Highest Walk Score          48.0-96.0     Higher Bike Scores   \n",
       "66      Higher Walk Score          38.0-48.0    Highest Bike Scores   \n",
       "67     Highest Walk Score          48.0-96.0    Highest Bike Scores   \n",
       "\n",
       "    Bike Score Ranges  Cost of Living Index  Cost of Living Index Categories  \\\n",
       "0           52.0-96.0                 105.8     Highest Cost of Living Index   \n",
       "1           52.0-96.0                  99.7      Higher Cost of Living Index   \n",
       "2          6.999-34.0                  89.4       Lower Cost of Living Index   \n",
       "3           41.0-46.0                 103.6      Higher Cost of Living Index   \n",
       "4           46.0-52.0                 116.8     Highest Cost of Living Index   \n",
       "..                ...                   ...                              ...   \n",
       "63          41.0-46.0                 101.1      Higher Cost of Living Index   \n",
       "64          52.0-96.0                 129.3     Highest Cost of Living Index   \n",
       "65          46.0-52.0                  99.9      Higher Cost of Living Index   \n",
       "66          52.0-96.0                 101.7      Higher Cost of Living Index   \n",
       "67          52.0-96.0                  94.8     Average Cost of Living Index   \n",
       "\n",
       "   Cost of Living Index Ranges  Livability Score Livability Score Categories  \\\n",
       "0                 103.74-183.0           8401.33   Average Livability Scores   \n",
       "1                 96.18-103.74           8531.99    Higher Livability Scores   \n",
       "2                    88.5-91.4           1044.57    Lowest Livability Scores   \n",
       "3                 96.18-103.74           7045.51   Average Livability Scores   \n",
       "4                 103.74-183.0           9532.98    Higher Livability Scores   \n",
       "..                         ...               ...                         ...   \n",
       "63                96.18-103.74          12671.75   Highest Livability Scores   \n",
       "64                103.74-183.0           6237.44     Lower Livability Scores   \n",
       "65                96.18-103.74           3335.52    Lowest Livability Scores   \n",
       "66                96.18-103.74          10783.25   Highest Livability Scores   \n",
       "67                  91.4-96.18           8672.96    Higher Livability Scores   \n",
       "\n",
       "   Livability Score Ranges  \n",
       "0        6,756.68-8,531.98  \n",
       "1       8,531.98-10,735.50  \n",
       "2          217.99-5,161.60  \n",
       "3        6,756.68-8,531.98  \n",
       "4       8,531.98-10,735.50  \n",
       "..                     ...  \n",
       "63     10,735.50-14,454.62  \n",
       "64       5,161.60-6,756.68  \n",
       "65         217.99-5,161.60  \n",
       "66     10,735.50-14,454.62  \n",
       "67      8,531.98-10,735.50  \n",
       "\n",
       "[68 rows x 36 columns]"
      ],
      "text/html": "<div>\n<style scoped>\n    .dataframe tbody tr th:only-of-type {\n        vertical-align: middle;\n    }\n\n    .dataframe tbody tr th {\n        vertical-align: top;\n    }\n\n    .dataframe thead th {\n        text-align: right;\n    }\n</style>\n<table border=\"1\" class=\"dataframe\">\n  <thead>\n    <tr style=\"text-align: right;\">\n      <th></th>\n      <th>Location</th>\n      <th>2019 Population</th>\n      <th>Town or City</th>\n      <th>2019 Rental Rates</th>\n      <th>State</th>\n      <th>City</th>\n      <th>Violent crime</th>\n      <th>Murder and nonnegligent manslaughter</th>\n      <th>Rape</th>\n      <th>Robbery</th>\n      <th>...</th>\n      <th>Walk Score Categories</th>\n      <th>Walk Score Ranges</th>\n      <th>Bike Score Categories</th>\n      <th>Bike Score Ranges</th>\n      <th>Cost of Living Index</th>\n      <th>Cost of Living Index Categories</th>\n      <th>Cost of Living Index Ranges</th>\n      <th>Livability Score</th>\n      <th>Livability Score Categories</th>\n      <th>Livability Score Ranges</th>\n    </tr>\n  </thead>\n  <tbody>\n    <tr>\n      <th>0</th>\n      <td>Phoenix, Arizona</td>\n      <td>1680992</td>\n      <td>city</td>\n      <td>1447</td>\n      <td>Arizona</td>\n      <td>Phoenix</td>\n      <td>11803</td>\n      <td>131</td>\n      <td>1139</td>\n      <td>3197</td>\n      <td>...</td>\n      <td>Higher Walk Score</td>\n      <td>38.0-48.0</td>\n      <td>Highest Bike Scores</td>\n      <td>52.0-96.0</td>\n      <td>105.8</td>\n      <td>Highest Cost of Living Index</td>\n      <td>103.74-183.0</td>\n      <td>8401.33</td>\n      <td>Average Livability Scores</td>\n      <td>6,756.68-8,531.98</td>\n    </tr>\n    <tr>\n      <th>1</th>\n      <td>Tucson, Arizona</td>\n      <td>548073</td>\n      <td>city</td>\n      <td>1248</td>\n      <td>Arizona</td>\n      <td>Tucson</td>\n      <td>3775</td>\n      <td>40</td>\n      <td>527</td>\n      <td>1105</td>\n      <td>...</td>\n      <td>Higher Walk Score</td>\n      <td>38.0-48.0</td>\n      <td>Highest Bike Scores</td>\n      <td>52.0-96.0</td>\n      <td>99.7</td>\n      <td>Higher Cost of Living Index</td>\n      <td>96.18-103.74</td>\n      <td>8531.99</td>\n      <td>Higher Livability Scores</td>\n      <td>8,531.98-10,735.50</td>\n    </tr>\n    <tr>\n      <th>2</th>\n      <td>Little Rock, Arkansas</td>\n      <td>197312</td>\n      <td>city</td>\n      <td>895</td>\n      <td>Arkansas</td>\n      <td>Little Rock</td>\n      <td>3009</td>\n      <td>38</td>\n      <td>209</td>\n      <td>391</td>\n      <td>...</td>\n      <td>Average Walk Score</td>\n      <td>31.0-38.0</td>\n      <td>Lowest Bike Scores</td>\n      <td>6.999-34.0</td>\n      <td>89.4</td>\n      <td>Lower Cost of Living Index</td>\n      <td>88.5-91.4</td>\n      <td>1044.57</td>\n      <td>Lowest Livability Scores</td>\n      <td>217.99-5,161.60</td>\n    </tr>\n    <tr>\n      <th>3</th>\n      <td>Bakersfield, California</td>\n      <td>384145</td>\n      <td>city</td>\n      <td>1340</td>\n      <td>California</td>\n      <td>Bakersfield</td>\n      <td>1766</td>\n      <td>34</td>\n      <td>116</td>\n      <td>701</td>\n      <td>...</td>\n      <td>Average Walk Score</td>\n      <td>31.0-38.0</td>\n      <td>Average Bike Scores</td>\n      <td>41.0-46.0</td>\n      <td>103.6</td>\n      <td>Higher Cost of Living Index</td>\n      <td>96.18-103.74</td>\n      <td>7045.51</td>\n      <td>Average Livability Scores</td>\n      <td>6,756.68-8,531.98</td>\n    </tr>\n    <tr>\n      <th>4</th>\n      <td>Riverside, California</td>\n      <td>331360</td>\n      <td>city</td>\n      <td>1944</td>\n      <td>California</td>\n      <td>Riverside</td>\n      <td>1686</td>\n      <td>17</td>\n      <td>139</td>\n      <td>476</td>\n      <td>...</td>\n      <td>Higher Walk Score</td>\n      <td>38.0-48.0</td>\n      <td>Higher Bike Scores</td>\n      <td>46.0-52.0</td>\n      <td>116.8</td>\n      <td>Highest Cost of Living Index</td>\n      <td>103.74-183.0</td>\n      <td>9532.98</td>\n      <td>Higher Livability Scores</td>\n      <td>8,531.98-10,735.50</td>\n    </tr>\n    <tr>\n      <th>...</th>\n      <td>...</td>\n      <td>...</td>\n      <td>...</td>\n      <td>...</td>\n      <td>...</td>\n      <td>...</td>\n      <td>...</td>\n      <td>...</td>\n      <td>...</td>\n      <td>...</td>\n      <td>...</td>\n      <td>...</td>\n      <td>...</td>\n      <td>...</td>\n      <td>...</td>\n      <td>...</td>\n      <td>...</td>\n      <td>...</td>\n      <td>...</td>\n      <td>...</td>\n      <td>...</td>\n    </tr>\n    <tr>\n      <th>63</th>\n      <td>Virginia Beach, Virginia</td>\n      <td>449974</td>\n      <td>city</td>\n      <td>1356</td>\n      <td>Virginia</td>\n      <td>Virginia Beach</td>\n      <td>581</td>\n      <td>30</td>\n      <td>79</td>\n      <td>196</td>\n      <td>...</td>\n      <td>Average Walk Score</td>\n      <td>31.0-38.0</td>\n      <td>Average Bike Scores</td>\n      <td>41.0-46.0</td>\n      <td>101.1</td>\n      <td>Higher Cost of Living Index</td>\n      <td>96.18-103.74</td>\n      <td>12671.75</td>\n      <td>Highest Livability Scores</td>\n      <td>10,735.50-14,454.62</td>\n    </tr>\n    <tr>\n      <th>64</th>\n      <td>Seattle, Washington</td>\n      <td>753675</td>\n      <td>city</td>\n      <td>1964</td>\n      <td>Washington</td>\n      <td>Seattle</td>\n      <td>4471</td>\n      <td>28</td>\n      <td>358</td>\n      <td>1339</td>\n      <td>...</td>\n      <td>Highest Walk Score</td>\n      <td>48.0-96.0</td>\n      <td>Highest Bike Scores</td>\n      <td>52.0-96.0</td>\n      <td>129.3</td>\n      <td>Highest Cost of Living Index</td>\n      <td>103.74-183.0</td>\n      <td>6237.44</td>\n      <td>Lower Livability Scores</td>\n      <td>5,161.60-6,756.68</td>\n    </tr>\n    <tr>\n      <th>65</th>\n      <td>Spokane, Washington</td>\n      <td>222081</td>\n      <td>city</td>\n      <td>1111</td>\n      <td>Washington</td>\n      <td>Spokane</td>\n      <td>1520</td>\n      <td>6</td>\n      <td>230</td>\n      <td>311</td>\n      <td>...</td>\n      <td>Highest Walk Score</td>\n      <td>48.0-96.0</td>\n      <td>Higher Bike Scores</td>\n      <td>46.0-52.0</td>\n      <td>99.9</td>\n      <td>Higher Cost of Living Index</td>\n      <td>96.18-103.74</td>\n      <td>3335.52</td>\n      <td>Lowest Livability Scores</td>\n      <td>217.99-5,161.60</td>\n    </tr>\n    <tr>\n      <th>66</th>\n      <td>Madison, Wisconsin</td>\n      <td>259680</td>\n      <td>city</td>\n      <td>1415</td>\n      <td>Wisconsin</td>\n      <td>Madison</td>\n      <td>940</td>\n      <td>4</td>\n      <td>107</td>\n      <td>217</td>\n      <td>...</td>\n      <td>Higher Walk Score</td>\n      <td>38.0-48.0</td>\n      <td>Highest Bike Scores</td>\n      <td>52.0-96.0</td>\n      <td>101.7</td>\n      <td>Higher Cost of Living Index</td>\n      <td>96.18-103.74</td>\n      <td>10783.25</td>\n      <td>Highest Livability Scores</td>\n      <td>10,735.50-14,454.62</td>\n    </tr>\n    <tr>\n      <th>67</th>\n      <td>Milwaukee, Wisconsin</td>\n      <td>590157</td>\n      <td>city</td>\n      <td>983</td>\n      <td>Wisconsin</td>\n      <td>Milwaukee</td>\n      <td>7874</td>\n      <td>97</td>\n      <td>427</td>\n      <td>1911</td>\n      <td>...</td>\n      <td>Highest Walk Score</td>\n      <td>48.0-96.0</td>\n      <td>Highest Bike Scores</td>\n      <td>52.0-96.0</td>\n      <td>94.8</td>\n      <td>Average Cost of Living Index</td>\n      <td>91.4-96.18</td>\n      <td>8672.96</td>\n      <td>Higher Livability Scores</td>\n      <td>8,531.98-10,735.50</td>\n    </tr>\n  </tbody>\n</table>\n<p>68 rows × 36 columns</p>\n</div>"
     },
     "metadata": {},
     "execution_count": 659
    }
   ],
   "source": [
    "# Round all columns to 2 decimal places\n",
    "\n",
    "merged_population_rent_crime_walk_cost = merged_population_rent_crime_walk_cost.round(2)\n",
    "\n",
    "merged_population_rent_crime_walk_cost"
   ]
  },
  {
   "cell_type": "code",
   "execution_count": 660,
   "metadata": {},
   "outputs": [
    {
     "output_type": "execute_result",
     "data": {
      "text/plain": [
       "Location                                      object\n",
       "2019 Population                                int32\n",
       "Town or City                                  object\n",
       "2019 Rental Rates                              int32\n",
       "State                                         object\n",
       "City                                          object\n",
       "Violent crime                                  int32\n",
       "Murder and nonnegligent manslaughter           int32\n",
       "Rape                                           int32\n",
       "Robbery                                        int32\n",
       "Aggravated assault                             int32\n",
       "Property crime                                 int32\n",
       "Burglary                                       int32\n",
       "Larceny-theft                                  int32\n",
       "Motor vehicle theft                            int32\n",
       "Arson                                          int32\n",
       "Crime Population                              object\n",
       "Crime Rate                                   float64\n",
       "Urban Population by City Size Categories    category\n",
       "Urban Population by City Size Ranges        category\n",
       "Rental Rate Categories                      category\n",
       "Rental Rate Ranges                          category\n",
       "Crime Rate Categories                       category\n",
       "Crime Rate Ranges                           category\n",
       "Walk Score                                     int64\n",
       "Bike Score                                     int64\n",
       "Walk Score Categories                       category\n",
       "Walk Score Ranges                           category\n",
       "Bike Score Categories                       category\n",
       "Bike Score Ranges                           category\n",
       "Cost of Living Index                         float64\n",
       "Cost of Living Index Categories             category\n",
       "Cost of Living Index Ranges                 category\n",
       "Livability Score                             float64\n",
       "Livability Score Categories                 category\n",
       "Livability Score Ranges                     category\n",
       "dtype: object"
      ]
     },
     "metadata": {},
     "execution_count": 660
    }
   ],
   "source": [
    "# Check the datatypes of each column in the df, category and object dtypes would be dropped if using groupby at this point for numerous locations, so it is done earlier\n",
    "\n",
    "merged_population_rent_crime_walk_cost.dtypes"
   ]
  },
  {
   "cell_type": "code",
   "execution_count": 661,
   "metadata": {},
   "outputs": [],
   "source": [
    "# Export merged_population_rent_crime_walk_cost with binned categories for csv and continue modeling in another notebook\n",
    "\n",
    "merged_population_rent_crime_walk_cost.to_csv('../data/pop_rent_crime_walk_cost_livability_bins.csv')"
   ]
  },
  {
   "cell_type": "code",
   "execution_count": 662,
   "metadata": {},
   "outputs": [],
   "source": [
    "# Consider scaling data between 0-100, like Livability Score since we calculated it, perhaps then it is more interpretable by users."
   ]
  },
  {
   "cell_type": "code",
   "execution_count": 663,
   "metadata": {},
   "outputs": [],
   "source": [
    "# Calculate the mean values of duplication Location entries (this drops all categorical columns so was instead used above on rent df with the most duplicates)\n",
    "\n",
    "#merged_population_rent_crime_walk_cost = merged_population_rent_crime_walk_cost.groupby(['Location'], as_index=False).mean()\n",
    "#merged_population_rent_crime_walk_cost"
   ]
  },
  {
   "cell_type": "code",
   "execution_count": null,
   "metadata": {},
   "outputs": [],
   "source": []
  }
 ]
}