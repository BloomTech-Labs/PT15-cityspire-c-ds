{
 "cells": [
  {
   "cell_type": "markdown",
   "metadata": {},
   "source": [
    "### Walk Score Data\n",
    "\n",
    "Data source:  https://www.walkscore.com/cities-and-neighborhoods/states/\n",
    "\n",
    "This is a simple loop that uses the pd.read_html function and a list of state abbreviations to scrape the summary scores for all major cities in their publicly-available data tables."
   ]
  },
  {
   "cell_type": "code",
   "execution_count": 4,
   "metadata": {},
   "outputs": [],
   "source": [
    "import pandas as pd"
   ]
  },
  {
   "cell_type": "code",
   "execution_count": 33,
   "metadata": {},
   "outputs": [],
   "source": [
    "us_state_abbrev = ['AL','AK','AZ','AR','CA','CO','CT','DE','DC','FL','GA','HI','ID','IL','IN','IA','KS',\n",
    "                   'KY','LA','ME','MD','MA','MI','MN','MS','MO','MT','NE','NV','NH','NJ','NM','NY','NC',\n",
    "                   'ND','OH','OK','OR','PA','RI','SC','SD','TN','TX','UT','VT','VA','WA','WV','WI','WY']"
   ]
  },
  {
   "cell_type": "code",
   "execution_count": 34,
   "metadata": {},
   "outputs": [],
   "source": [
    "# Empty DataFrame to add to in the loop below\n",
    "df = pd.DataFrame()\n",
    "\n",
    "for i in us_state_abbrev:\n",
    "    df_i = pd.read_html('https://www.walkscore.com/' + i)[0]\n",
    "    df_i['State'] = i\n",
    "    df = pd.concat([df, df_i])"
   ]
  },
  {
   "cell_type": "code",
   "execution_count": 31,
   "metadata": {},
   "outputs": [
    {
     "name": "stdout",
     "output_type": "stream",
     "text": [
      "(2500, 7)\n"
     ]
    },
    {
     "data": {
      "text/html": [
       "<div>\n",
       "<style scoped>\n",
       "    .dataframe tbody tr th:only-of-type {\n",
       "        vertical-align: middle;\n",
       "    }\n",
       "\n",
       "    .dataframe tbody tr th {\n",
       "        vertical-align: top;\n",
       "    }\n",
       "\n",
       "    .dataframe thead th {\n",
       "        text-align: right;\n",
       "    }\n",
       "</style>\n",
       "<table border=\"1\" class=\"dataframe\">\n",
       "  <thead>\n",
       "    <tr style=\"text-align: right;\">\n",
       "      <th></th>\n",
       "      <th>City</th>\n",
       "      <th>Zip Code</th>\n",
       "      <th>Walk Score</th>\n",
       "      <th>Transit Score</th>\n",
       "      <th>Bike Score</th>\n",
       "      <th>Population</th>\n",
       "      <th>State</th>\n",
       "    </tr>\n",
       "  </thead>\n",
       "  <tbody>\n",
       "    <tr>\n",
       "      <th>0</th>\n",
       "      <td>Birmingham (the largest city in Alabama)</td>\n",
       "      <td>35211.0</td>\n",
       "      <td>35</td>\n",
       "      <td>25</td>\n",
       "      <td>31</td>\n",
       "      <td>212237</td>\n",
       "      <td>AL</td>\n",
       "    </tr>\n",
       "    <tr>\n",
       "      <th>1</th>\n",
       "      <td>Montgomery</td>\n",
       "      <td>36109.0</td>\n",
       "      <td>26</td>\n",
       "      <td>16</td>\n",
       "      <td>38</td>\n",
       "      <td>205764</td>\n",
       "      <td>AL</td>\n",
       "    </tr>\n",
       "    <tr>\n",
       "      <th>2</th>\n",
       "      <td>Mobile</td>\n",
       "      <td>36605.0</td>\n",
       "      <td>32</td>\n",
       "      <td>--</td>\n",
       "      <td>39</td>\n",
       "      <td>195111</td>\n",
       "      <td>AL</td>\n",
       "    </tr>\n",
       "    <tr>\n",
       "      <th>3</th>\n",
       "      <td>Huntsville</td>\n",
       "      <td>35810.0</td>\n",
       "      <td>24</td>\n",
       "      <td>13</td>\n",
       "      <td>40</td>\n",
       "      <td>180105</td>\n",
       "      <td>AL</td>\n",
       "    </tr>\n",
       "    <tr>\n",
       "      <th>4</th>\n",
       "      <td>Tuscaloosa</td>\n",
       "      <td>NaN</td>\n",
       "      <td>33</td>\n",
       "      <td>--</td>\n",
       "      <td>37</td>\n",
       "      <td>90468</td>\n",
       "      <td>AL</td>\n",
       "    </tr>\n",
       "  </tbody>\n",
       "</table>\n",
       "</div>"
      ],
      "text/plain": [
       "                                       City  Zip Code  Walk Score  \\\n",
       "0  Birmingham (the largest city in Alabama)   35211.0          35   \n",
       "1                                Montgomery   36109.0          26   \n",
       "2                                    Mobile   36605.0          32   \n",
       "3                                Huntsville   35810.0          24   \n",
       "4                                Tuscaloosa       NaN          33   \n",
       "\n",
       "  Transit Score  Bike Score  Population State  \n",
       "0            25          31      212237    AL  \n",
       "1            16          38      205764    AL  \n",
       "2            --          39      195111    AL  \n",
       "3            13          40      180105    AL  \n",
       "4            --          37       90468    AL  "
      ]
     },
     "execution_count": 31,
     "metadata": {},
     "output_type": "execute_result"
    }
   ],
   "source": [
    "import pandas as pd\n",
    "df = pd.read_csv('walk_score.csv', index_col=0)\n",
    "print(df.shape)\n",
    "df.head()"
   ]
  },
  {
   "cell_type": "code",
   "execution_count": 34,
   "metadata": {},
   "outputs": [],
   "source": [
    "df1 =df.copy()\n",
    "df1['City']=df1['City'].str.replace(r\"\\(.*\\)\",\"\")"
   ]
  },
  {
   "cell_type": "code",
   "execution_count": 35,
   "metadata": {},
   "outputs": [
    {
     "data": {
      "text/html": [
       "<div>\n",
       "<style scoped>\n",
       "    .dataframe tbody tr th:only-of-type {\n",
       "        vertical-align: middle;\n",
       "    }\n",
       "\n",
       "    .dataframe tbody tr th {\n",
       "        vertical-align: top;\n",
       "    }\n",
       "\n",
       "    .dataframe thead th {\n",
       "        text-align: right;\n",
       "    }\n",
       "</style>\n",
       "<table border=\"1\" class=\"dataframe\">\n",
       "  <thead>\n",
       "    <tr style=\"text-align: right;\">\n",
       "      <th></th>\n",
       "      <th>City</th>\n",
       "      <th>Zip Code</th>\n",
       "      <th>Walk Score</th>\n",
       "      <th>Transit Score</th>\n",
       "      <th>Bike Score</th>\n",
       "      <th>Population</th>\n",
       "      <th>State</th>\n",
       "    </tr>\n",
       "  </thead>\n",
       "  <tbody>\n",
       "    <tr>\n",
       "      <th>0</th>\n",
       "      <td>Birmingham</td>\n",
       "      <td>35211.0</td>\n",
       "      <td>35</td>\n",
       "      <td>25</td>\n",
       "      <td>31</td>\n",
       "      <td>212237</td>\n",
       "      <td>AL</td>\n",
       "    </tr>\n",
       "    <tr>\n",
       "      <th>1</th>\n",
       "      <td>Montgomery</td>\n",
       "      <td>36109.0</td>\n",
       "      <td>26</td>\n",
       "      <td>16</td>\n",
       "      <td>38</td>\n",
       "      <td>205764</td>\n",
       "      <td>AL</td>\n",
       "    </tr>\n",
       "    <tr>\n",
       "      <th>2</th>\n",
       "      <td>Mobile</td>\n",
       "      <td>36605.0</td>\n",
       "      <td>32</td>\n",
       "      <td>--</td>\n",
       "      <td>39</td>\n",
       "      <td>195111</td>\n",
       "      <td>AL</td>\n",
       "    </tr>\n",
       "    <tr>\n",
       "      <th>3</th>\n",
       "      <td>Huntsville</td>\n",
       "      <td>35810.0</td>\n",
       "      <td>24</td>\n",
       "      <td>13</td>\n",
       "      <td>40</td>\n",
       "      <td>180105</td>\n",
       "      <td>AL</td>\n",
       "    </tr>\n",
       "    <tr>\n",
       "      <th>4</th>\n",
       "      <td>Tuscaloosa</td>\n",
       "      <td>NaN</td>\n",
       "      <td>33</td>\n",
       "      <td>--</td>\n",
       "      <td>37</td>\n",
       "      <td>90468</td>\n",
       "      <td>AL</td>\n",
       "    </tr>\n",
       "  </tbody>\n",
       "</table>\n",
       "</div>"
      ],
      "text/plain": [
       "          City  Zip Code  Walk Score Transit Score  Bike Score  Population  \\\n",
       "0  Birmingham    35211.0          35            25          31      212237   \n",
       "1   Montgomery   36109.0          26            16          38      205764   \n",
       "2       Mobile   36605.0          32            --          39      195111   \n",
       "3   Huntsville   35810.0          24            13          40      180105   \n",
       "4   Tuscaloosa       NaN          33            --          37       90468   \n",
       "\n",
       "  State  \n",
       "0    AL  \n",
       "1    AL  \n",
       "2    AL  \n",
       "3    AL  \n",
       "4    AL  "
      ]
     },
     "execution_count": 35,
     "metadata": {},
     "output_type": "execute_result"
    }
   ],
   "source": [
    "df1.head()"
   ]
  },
  {
   "cell_type": "code",
   "execution_count": 36,
   "metadata": {},
   "outputs": [
    {
     "data": {
      "text/plain": [
       "2209"
      ]
     },
     "execution_count": 36,
     "metadata": {},
     "output_type": "execute_result"
    }
   ],
   "source": [
    "df1['City'].nunique()"
   ]
  },
  {
   "cell_type": "code",
   "execution_count": 37,
   "metadata": {},
   "outputs": [
    {
     "data": {
      "text/html": [
       "<div>\n",
       "<style scoped>\n",
       "    .dataframe tbody tr th:only-of-type {\n",
       "        vertical-align: middle;\n",
       "    }\n",
       "\n",
       "    .dataframe tbody tr th {\n",
       "        vertical-align: top;\n",
       "    }\n",
       "\n",
       "    .dataframe thead th {\n",
       "        text-align: right;\n",
       "    }\n",
       "</style>\n",
       "<table border=\"1\" class=\"dataframe\">\n",
       "  <thead>\n",
       "    <tr style=\"text-align: right;\">\n",
       "      <th></th>\n",
       "      <th>City</th>\n",
       "      <th>Zip Code</th>\n",
       "      <th>Walk Score</th>\n",
       "      <th>Transit Score</th>\n",
       "      <th>Bike Score</th>\n",
       "      <th>Population</th>\n",
       "      <th>State</th>\n",
       "    </tr>\n",
       "  </thead>\n",
       "  <tbody>\n",
       "    <tr>\n",
       "      <th>0</th>\n",
       "      <td>Birmingham</td>\n",
       "      <td>35211.0</td>\n",
       "      <td>35</td>\n",
       "      <td>25</td>\n",
       "      <td>31</td>\n",
       "      <td>212237</td>\n",
       "      <td>AL</td>\n",
       "    </tr>\n",
       "    <tr>\n",
       "      <th>1</th>\n",
       "      <td>Montgomery</td>\n",
       "      <td>36109.0</td>\n",
       "      <td>26</td>\n",
       "      <td>16</td>\n",
       "      <td>38</td>\n",
       "      <td>205764</td>\n",
       "      <td>AL</td>\n",
       "    </tr>\n",
       "    <tr>\n",
       "      <th>2</th>\n",
       "      <td>Mobile</td>\n",
       "      <td>36605.0</td>\n",
       "      <td>32</td>\n",
       "      <td>--</td>\n",
       "      <td>39</td>\n",
       "      <td>195111</td>\n",
       "      <td>AL</td>\n",
       "    </tr>\n",
       "    <tr>\n",
       "      <th>3</th>\n",
       "      <td>Huntsville</td>\n",
       "      <td>35810.0</td>\n",
       "      <td>24</td>\n",
       "      <td>13</td>\n",
       "      <td>40</td>\n",
       "      <td>180105</td>\n",
       "      <td>AL</td>\n",
       "    </tr>\n",
       "    <tr>\n",
       "      <th>4</th>\n",
       "      <td>Tuscaloosa</td>\n",
       "      <td>NaN</td>\n",
       "      <td>33</td>\n",
       "      <td>--</td>\n",
       "      <td>37</td>\n",
       "      <td>90468</td>\n",
       "      <td>AL</td>\n",
       "    </tr>\n",
       "    <tr>\n",
       "      <th>...</th>\n",
       "      <td>...</td>\n",
       "      <td>...</td>\n",
       "      <td>...</td>\n",
       "      <td>...</td>\n",
       "      <td>...</td>\n",
       "      <td>...</td>\n",
       "      <td>...</td>\n",
       "    </tr>\n",
       "    <tr>\n",
       "      <th>1</th>\n",
       "      <td>Casper</td>\n",
       "      <td>NaN</td>\n",
       "      <td>39</td>\n",
       "      <td>--</td>\n",
       "      <td>44</td>\n",
       "      <td>55316</td>\n",
       "      <td>WY</td>\n",
       "    </tr>\n",
       "    <tr>\n",
       "      <th>2</th>\n",
       "      <td>Laramie</td>\n",
       "      <td>NaN</td>\n",
       "      <td>34</td>\n",
       "      <td>--</td>\n",
       "      <td>67</td>\n",
       "      <td>30816</td>\n",
       "      <td>WY</td>\n",
       "    </tr>\n",
       "    <tr>\n",
       "      <th>3</th>\n",
       "      <td>Gillette</td>\n",
       "      <td>NaN</td>\n",
       "      <td>21</td>\n",
       "      <td>--</td>\n",
       "      <td>34</td>\n",
       "      <td>29087</td>\n",
       "      <td>WY</td>\n",
       "    </tr>\n",
       "    <tr>\n",
       "      <th>4</th>\n",
       "      <td>Rock Springs</td>\n",
       "      <td>NaN</td>\n",
       "      <td>29</td>\n",
       "      <td>--</td>\n",
       "      <td>32</td>\n",
       "      <td>23036</td>\n",
       "      <td>WY</td>\n",
       "    </tr>\n",
       "    <tr>\n",
       "      <th>5</th>\n",
       "      <td>Sheridan</td>\n",
       "      <td>NaN</td>\n",
       "      <td>30</td>\n",
       "      <td>--</td>\n",
       "      <td>45</td>\n",
       "      <td>17444</td>\n",
       "      <td>WY</td>\n",
       "    </tr>\n",
       "  </tbody>\n",
       "</table>\n",
       "<p>2500 rows × 7 columns</p>\n",
       "</div>"
      ],
      "text/plain": [
       "            City  Zip Code  Walk Score Transit Score  Bike Score  Population  \\\n",
       "0    Birmingham    35211.0          35            25          31      212237   \n",
       "1     Montgomery   36109.0          26            16          38      205764   \n",
       "2         Mobile   36605.0          32            --          39      195111   \n",
       "3     Huntsville   35810.0          24            13          40      180105   \n",
       "4     Tuscaloosa       NaN          33            --          37       90468   \n",
       "..           ...       ...         ...           ...         ...         ...   \n",
       "1         Casper       NaN          39            --          44       55316   \n",
       "2        Laramie       NaN          34            --          67       30816   \n",
       "3       Gillette       NaN          21            --          34       29087   \n",
       "4   Rock Springs       NaN          29            --          32       23036   \n",
       "5       Sheridan       NaN          30            --          45       17444   \n",
       "\n",
       "   State  \n",
       "0     AL  \n",
       "1     AL  \n",
       "2     AL  \n",
       "3     AL  \n",
       "4     AL  \n",
       "..   ...  \n",
       "1     WY  \n",
       "2     WY  \n",
       "3     WY  \n",
       "4     WY  \n",
       "5     WY  \n",
       "\n",
       "[2500 rows x 7 columns]"
      ]
     },
     "execution_count": 37,
     "metadata": {},
     "output_type": "execute_result"
    }
   ],
   "source": [
    "df1.drop_duplicates()"
   ]
  },
  {
   "cell_type": "code",
   "execution_count": 38,
   "metadata": {},
   "outputs": [
    {
     "data": {
      "text/plain": [
       "City                0\n",
       "Zip Code         1489\n",
       "Walk Score          0\n",
       "Transit Score       0\n",
       "Bike Score          0\n",
       "Population          0\n",
       "State               0\n",
       "dtype: int64"
      ]
     },
     "execution_count": 38,
     "metadata": {},
     "output_type": "execute_result"
    }
   ],
   "source": [
    "df1.isnull().sum()"
   ]
  },
  {
   "cell_type": "code",
   "execution_count": 39,
   "metadata": {},
   "outputs": [
    {
     "name": "stdout",
     "output_type": "stream",
     "text": [
      "<class 'pandas.core.frame.DataFrame'>\n",
      "Int64Index: 2500 entries, 0 to 5\n",
      "Data columns (total 7 columns):\n",
      "City             2500 non-null object\n",
      "Zip Code         1011 non-null float64\n",
      "Walk Score       2500 non-null int64\n",
      "Transit Score    2500 non-null object\n",
      "Bike Score       2500 non-null int64\n",
      "Population       2500 non-null int64\n",
      "State            2500 non-null object\n",
      "dtypes: float64(1), int64(3), object(3)\n",
      "memory usage: 156.2+ KB\n"
     ]
    }
   ],
   "source": [
    "df1.info()"
   ]
  },
  {
   "cell_type": "code",
   "execution_count": 40,
   "metadata": {},
   "outputs": [
    {
     "data": {
      "text/plain": [
       "Index(['City', 'Zip Code', 'Walk Score', 'Transit Score', 'Bike Score',\n",
       "       'Population', 'State'],\n",
       "      dtype='object')"
      ]
     },
     "execution_count": 40,
     "metadata": {},
     "output_type": "execute_result"
    }
   ],
   "source": [
    "df1.columns"
   ]
  },
  {
   "cell_type": "code",
   "execution_count": 41,
   "metadata": {},
   "outputs": [],
   "source": [
    "df1 = df1[['City', 'Walk Score', 'Bike Score',\n",
    "       'Population', 'State']]"
   ]
  },
  {
   "cell_type": "code",
   "execution_count": 42,
   "metadata": {},
   "outputs": [
    {
     "name": "stdout",
     "output_type": "stream",
     "text": [
      "<class 'pandas.core.frame.DataFrame'>\n",
      "Int64Index: 2500 entries, 0 to 5\n",
      "Data columns (total 5 columns):\n",
      "City          2500 non-null object\n",
      "Walk Score    2500 non-null int64\n",
      "Bike Score    2500 non-null int64\n",
      "Population    2500 non-null int64\n",
      "State         2500 non-null object\n",
      "dtypes: int64(3), object(2)\n",
      "memory usage: 117.2+ KB\n"
     ]
    }
   ],
   "source": [
    "df1.info()"
   ]
  },
  {
   "cell_type": "code",
   "execution_count": 43,
   "metadata": {},
   "outputs": [
    {
     "data": {
      "text/plain": [
       "2209"
      ]
     },
     "execution_count": 43,
     "metadata": {},
     "output_type": "execute_result"
    }
   ],
   "source": [
    "df1.City.nunique()"
   ]
  },
  {
   "cell_type": "code",
   "execution_count": 44,
   "metadata": {},
   "outputs": [],
   "source": [
    "df1.to_csv('walkscore_clean.csv')"
   ]
  }
 ],
 "metadata": {
  "kernelspec": {
   "display_name": "lab_cityspire (Python3)",
   "language": "python",
   "name": "lab_cityspire"
  },
  "language_info": {
   "codemirror_mode": {
    "name": "ipython",
    "version": 3
   },
   "file_extension": ".py",
   "mimetype": "text/x-python",
   "name": "python",
   "nbconvert_exporter": "python",
   "pygments_lexer": "ipython3",
   "version": "3.7.0"
  }
 },
 "nbformat": 4,
 "nbformat_minor": 4
}
