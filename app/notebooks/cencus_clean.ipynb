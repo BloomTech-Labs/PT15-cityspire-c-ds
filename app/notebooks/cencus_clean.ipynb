{
 "cells": [
  {
   "cell_type": "markdown",
   "metadata": {},
   "source": [
    "## Data collection Document"
   ]
  },
  {
   "cell_type": "markdown",
   "metadata": {},
   "source": [
    "## Census Data\n",
    "USA census 2019 data of all cities : ACS 5-Year Estimates Data set with\n",
    "Social Characteristics\n",
    "Economic Characteristics\n",
    "Housing Characteristics\n",
    "Demographic Characteristics\n",
    "## Data Source\n",
    "Data can be downloaded on this given link\n",
    "https://www.census.gov/data/tables/time-series/demo/popest/2010s-total-cities-and-towns.html\n",
    "### Feature Selection\n",
    "Features are manually selected that would be important for predictive models like Neighbourhood model, city information matrix, walk score prediction model, living score model,population estimate model housing price model etc.\n",
    "\n",
    "This data will be merged on GEO_ID feature with other datasets"
   ]
  },
  {
   "cell_type": "markdown",
   "metadata": {},
   "source": [
    "### Load libraries"
   ]
  },
  {
   "cell_type": "code",
   "execution_count": 1,
   "metadata": {},
   "outputs": [],
   "source": [
    "import pandas as pd\n",
    "\n",
    "pd.set_option('display.max_rows', 200)\n",
    "pd.set_option('display.max_columns', 700)"
   ]
  },
  {
   "cell_type": "markdown",
   "metadata": {},
   "source": [
    "##### Read and Explore census Data"
   ]
  },
  {
   "cell_type": "code",
   "execution_count": 46,
   "metadata": {},
   "outputs": [
    {
     "name": "stdout",
     "output_type": "stream",
     "text": [
      "(81434, 22)\n"
     ]
    },
    {
     "data": {
      "text/html": [
       "<div>\n",
       "<style scoped>\n",
       "    .dataframe tbody tr th:only-of-type {\n",
       "        vertical-align: middle;\n",
       "    }\n",
       "\n",
       "    .dataframe tbody tr th {\n",
       "        vertical-align: top;\n",
       "    }\n",
       "\n",
       "    .dataframe thead th {\n",
       "        text-align: right;\n",
       "    }\n",
       "</style>\n",
       "<table border=\"1\" class=\"dataframe\">\n",
       "  <thead>\n",
       "    <tr style=\"text-align: right;\">\n",
       "      <th></th>\n",
       "      <th>SUMLEV</th>\n",
       "      <th>STATE</th>\n",
       "      <th>COUNTY</th>\n",
       "      <th>PLACE</th>\n",
       "      <th>COUSUB</th>\n",
       "      <th>CONCIT</th>\n",
       "      <th>PRIMGEO_FLAG</th>\n",
       "      <th>FUNCSTAT</th>\n",
       "      <th>NAME</th>\n",
       "      <th>STNAME</th>\n",
       "      <th>CENSUS2010POP</th>\n",
       "      <th>ESTIMATESBASE2010</th>\n",
       "      <th>POPESTIMATE2010</th>\n",
       "      <th>POPESTIMATE2011</th>\n",
       "      <th>POPESTIMATE2012</th>\n",
       "      <th>POPESTIMATE2013</th>\n",
       "      <th>POPESTIMATE2014</th>\n",
       "      <th>POPESTIMATE2015</th>\n",
       "      <th>POPESTIMATE2016</th>\n",
       "      <th>POPESTIMATE2017</th>\n",
       "      <th>POPESTIMATE2018</th>\n",
       "      <th>POPESTIMATE2019</th>\n",
       "    </tr>\n",
       "  </thead>\n",
       "  <tbody>\n",
       "    <tr>\n",
       "      <th>0</th>\n",
       "      <td>40</td>\n",
       "      <td>1</td>\n",
       "      <td>0</td>\n",
       "      <td>0</td>\n",
       "      <td>0</td>\n",
       "      <td>0</td>\n",
       "      <td>0</td>\n",
       "      <td>A</td>\n",
       "      <td>Alabama</td>\n",
       "      <td>Alabama</td>\n",
       "      <td>4779736</td>\n",
       "      <td>4780125</td>\n",
       "      <td>4785437</td>\n",
       "      <td>4799069</td>\n",
       "      <td>4815588</td>\n",
       "      <td>4830081</td>\n",
       "      <td>4841799</td>\n",
       "      <td>4852347</td>\n",
       "      <td>4863525</td>\n",
       "      <td>4874486</td>\n",
       "      <td>4887681</td>\n",
       "      <td>4903185</td>\n",
       "    </tr>\n",
       "    <tr>\n",
       "      <th>1</th>\n",
       "      <td>162</td>\n",
       "      <td>1</td>\n",
       "      <td>0</td>\n",
       "      <td>124</td>\n",
       "      <td>0</td>\n",
       "      <td>0</td>\n",
       "      <td>0</td>\n",
       "      <td>A</td>\n",
       "      <td>Abbeville city</td>\n",
       "      <td>Alabama</td>\n",
       "      <td>2688</td>\n",
       "      <td>2705</td>\n",
       "      <td>2699</td>\n",
       "      <td>2694</td>\n",
       "      <td>2643</td>\n",
       "      <td>2628</td>\n",
       "      <td>2608</td>\n",
       "      <td>2600</td>\n",
       "      <td>2584</td>\n",
       "      <td>2575</td>\n",
       "      <td>2571</td>\n",
       "      <td>2560</td>\n",
       "    </tr>\n",
       "    <tr>\n",
       "      <th>2</th>\n",
       "      <td>162</td>\n",
       "      <td>1</td>\n",
       "      <td>0</td>\n",
       "      <td>460</td>\n",
       "      <td>0</td>\n",
       "      <td>0</td>\n",
       "      <td>0</td>\n",
       "      <td>A</td>\n",
       "      <td>Adamsville city</td>\n",
       "      <td>Alabama</td>\n",
       "      <td>4522</td>\n",
       "      <td>4506</td>\n",
       "      <td>4500</td>\n",
       "      <td>4493</td>\n",
       "      <td>4471</td>\n",
       "      <td>4449</td>\n",
       "      <td>4420</td>\n",
       "      <td>4390</td>\n",
       "      <td>4356</td>\n",
       "      <td>4327</td>\n",
       "      <td>4308</td>\n",
       "      <td>4281</td>\n",
       "    </tr>\n",
       "    <tr>\n",
       "      <th>3</th>\n",
       "      <td>162</td>\n",
       "      <td>1</td>\n",
       "      <td>0</td>\n",
       "      <td>484</td>\n",
       "      <td>0</td>\n",
       "      <td>0</td>\n",
       "      <td>0</td>\n",
       "      <td>A</td>\n",
       "      <td>Addison town</td>\n",
       "      <td>Alabama</td>\n",
       "      <td>758</td>\n",
       "      <td>754</td>\n",
       "      <td>751</td>\n",
       "      <td>750</td>\n",
       "      <td>743</td>\n",
       "      <td>742</td>\n",
       "      <td>739</td>\n",
       "      <td>734</td>\n",
       "      <td>731</td>\n",
       "      <td>726</td>\n",
       "      <td>723</td>\n",
       "      <td>718</td>\n",
       "    </tr>\n",
       "    <tr>\n",
       "      <th>4</th>\n",
       "      <td>162</td>\n",
       "      <td>1</td>\n",
       "      <td>0</td>\n",
       "      <td>676</td>\n",
       "      <td>0</td>\n",
       "      <td>0</td>\n",
       "      <td>0</td>\n",
       "      <td>A</td>\n",
       "      <td>Akron town</td>\n",
       "      <td>Alabama</td>\n",
       "      <td>356</td>\n",
       "      <td>356</td>\n",
       "      <td>355</td>\n",
       "      <td>347</td>\n",
       "      <td>347</td>\n",
       "      <td>343</td>\n",
       "      <td>338</td>\n",
       "      <td>339</td>\n",
       "      <td>333</td>\n",
       "      <td>332</td>\n",
       "      <td>331</td>\n",
       "      <td>328</td>\n",
       "    </tr>\n",
       "  </tbody>\n",
       "</table>\n",
       "</div>"
      ],
      "text/plain": [
       "   SUMLEV  STATE  COUNTY  PLACE  COUSUB  CONCIT  PRIMGEO_FLAG FUNCSTAT  \\\n",
       "0      40      1       0      0       0       0             0        A   \n",
       "1     162      1       0    124       0       0             0        A   \n",
       "2     162      1       0    460       0       0             0        A   \n",
       "3     162      1       0    484       0       0             0        A   \n",
       "4     162      1       0    676       0       0             0        A   \n",
       "\n",
       "              NAME   STNAME CENSUS2010POP  ESTIMATESBASE2010  POPESTIMATE2010  \\\n",
       "0          Alabama  Alabama       4779736            4780125          4785437   \n",
       "1   Abbeville city  Alabama          2688               2705             2699   \n",
       "2  Adamsville city  Alabama          4522               4506             4500   \n",
       "3     Addison town  Alabama           758                754              751   \n",
       "4       Akron town  Alabama           356                356              355   \n",
       "\n",
       "   POPESTIMATE2011  POPESTIMATE2012  POPESTIMATE2013  POPESTIMATE2014  \\\n",
       "0          4799069          4815588          4830081          4841799   \n",
       "1             2694             2643             2628             2608   \n",
       "2             4493             4471             4449             4420   \n",
       "3              750              743              742              739   \n",
       "4              347              347              343              338   \n",
       "\n",
       "   POPESTIMATE2015  POPESTIMATE2016  POPESTIMATE2017  POPESTIMATE2018  \\\n",
       "0          4852347          4863525          4874486          4887681   \n",
       "1             2600             2584             2575             2571   \n",
       "2             4390             4356             4327             4308   \n",
       "3              734              731              726              723   \n",
       "4              339              333              332              331   \n",
       "\n",
       "   POPESTIMATE2019  \n",
       "0          4903185  \n",
       "1             2560  \n",
       "2             4281  \n",
       "3              718  \n",
       "4              328  "
      ]
     },
     "execution_count": 46,
     "metadata": {},
     "output_type": "execute_result"
    }
   ],
   "source": [
    "census = pd.read_csv('census_raw.csv')\n",
    "print(census.shape)\n",
    "census.head(5)"
   ]
  },
  {
   "cell_type": "code",
   "execution_count": 47,
   "metadata": {},
   "outputs": [
    {
     "data": {
      "text/plain": [
       "Index(['SUMLEV', 'STATE', 'COUNTY', 'PLACE', 'COUSUB', 'CONCIT',\n",
       "       'PRIMGEO_FLAG', 'FUNCSTAT', 'NAME', 'STNAME', 'CENSUS2010POP',\n",
       "       'ESTIMATESBASE2010', 'POPESTIMATE2010', 'POPESTIMATE2011',\n",
       "       'POPESTIMATE2012', 'POPESTIMATE2013', 'POPESTIMATE2014',\n",
       "       'POPESTIMATE2015', 'POPESTIMATE2016', 'POPESTIMATE2017',\n",
       "       'POPESTIMATE2018', 'POPESTIMATE2019'],\n",
       "      dtype='object')"
      ]
     },
     "execution_count": 47,
     "metadata": {},
     "output_type": "execute_result"
    }
   ],
   "source": [
    "census.columns"
   ]
  },
  {
   "cell_type": "code",
   "execution_count": 48,
   "metadata": {},
   "outputs": [
    {
     "name": "stdout",
     "output_type": "stream",
     "text": [
      "(81434, 14)\n",
      "(81434, 14)\n"
     ]
    },
    {
     "data": {
      "text/html": [
       "<div>\n",
       "<style scoped>\n",
       "    .dataframe tbody tr th:only-of-type {\n",
       "        vertical-align: middle;\n",
       "    }\n",
       "\n",
       "    .dataframe tbody tr th {\n",
       "        vertical-align: top;\n",
       "    }\n",
       "\n",
       "    .dataframe thead th {\n",
       "        text-align: right;\n",
       "    }\n",
       "</style>\n",
       "<table border=\"1\" class=\"dataframe\">\n",
       "  <thead>\n",
       "    <tr style=\"text-align: right;\">\n",
       "      <th></th>\n",
       "      <th>city</th>\n",
       "      <th>state</th>\n",
       "      <th>CENSUS2010POP</th>\n",
       "      <th>ESTIMATESBASE2010</th>\n",
       "      <th>POPESTIMATE2010</th>\n",
       "      <th>POPESTIMATE2011</th>\n",
       "      <th>POPESTIMATE2012</th>\n",
       "      <th>POPESTIMATE2013</th>\n",
       "      <th>POPESTIMATE2014</th>\n",
       "      <th>POPESTIMATE2015</th>\n",
       "      <th>POPESTIMATE2016</th>\n",
       "      <th>POPESTIMATE2017</th>\n",
       "      <th>POPESTIMATE2018</th>\n",
       "      <th>POPESTIMATE2019</th>\n",
       "    </tr>\n",
       "  </thead>\n",
       "  <tbody>\n",
       "    <tr>\n",
       "      <th>0</th>\n",
       "      <td>Alabama</td>\n",
       "      <td>Alabama</td>\n",
       "      <td>4779736</td>\n",
       "      <td>4780125</td>\n",
       "      <td>4785437</td>\n",
       "      <td>4799069</td>\n",
       "      <td>4815588</td>\n",
       "      <td>4830081</td>\n",
       "      <td>4841799</td>\n",
       "      <td>4852347</td>\n",
       "      <td>4863525</td>\n",
       "      <td>4874486</td>\n",
       "      <td>4887681</td>\n",
       "      <td>4903185</td>\n",
       "    </tr>\n",
       "    <tr>\n",
       "      <th>1</th>\n",
       "      <td>Abbeville city</td>\n",
       "      <td>Alabama</td>\n",
       "      <td>2688</td>\n",
       "      <td>2705</td>\n",
       "      <td>2699</td>\n",
       "      <td>2694</td>\n",
       "      <td>2643</td>\n",
       "      <td>2628</td>\n",
       "      <td>2608</td>\n",
       "      <td>2600</td>\n",
       "      <td>2584</td>\n",
       "      <td>2575</td>\n",
       "      <td>2571</td>\n",
       "      <td>2560</td>\n",
       "    </tr>\n",
       "    <tr>\n",
       "      <th>2</th>\n",
       "      <td>Adamsville city</td>\n",
       "      <td>Alabama</td>\n",
       "      <td>4522</td>\n",
       "      <td>4506</td>\n",
       "      <td>4500</td>\n",
       "      <td>4493</td>\n",
       "      <td>4471</td>\n",
       "      <td>4449</td>\n",
       "      <td>4420</td>\n",
       "      <td>4390</td>\n",
       "      <td>4356</td>\n",
       "      <td>4327</td>\n",
       "      <td>4308</td>\n",
       "      <td>4281</td>\n",
       "    </tr>\n",
       "    <tr>\n",
       "      <th>3</th>\n",
       "      <td>Addison town</td>\n",
       "      <td>Alabama</td>\n",
       "      <td>758</td>\n",
       "      <td>754</td>\n",
       "      <td>751</td>\n",
       "      <td>750</td>\n",
       "      <td>743</td>\n",
       "      <td>742</td>\n",
       "      <td>739</td>\n",
       "      <td>734</td>\n",
       "      <td>731</td>\n",
       "      <td>726</td>\n",
       "      <td>723</td>\n",
       "      <td>718</td>\n",
       "    </tr>\n",
       "    <tr>\n",
       "      <th>4</th>\n",
       "      <td>Akron town</td>\n",
       "      <td>Alabama</td>\n",
       "      <td>356</td>\n",
       "      <td>356</td>\n",
       "      <td>355</td>\n",
       "      <td>347</td>\n",
       "      <td>347</td>\n",
       "      <td>343</td>\n",
       "      <td>338</td>\n",
       "      <td>339</td>\n",
       "      <td>333</td>\n",
       "      <td>332</td>\n",
       "      <td>331</td>\n",
       "      <td>328</td>\n",
       "    </tr>\n",
       "  </tbody>\n",
       "</table>\n",
       "</div>"
      ],
      "text/plain": [
       "              city    state CENSUS2010POP  ESTIMATESBASE2010  POPESTIMATE2010  \\\n",
       "0          Alabama  Alabama       4779736            4780125          4785437   \n",
       "1   Abbeville city  Alabama          2688               2705             2699   \n",
       "2  Adamsville city  Alabama          4522               4506             4500   \n",
       "3     Addison town  Alabama           758                754              751   \n",
       "4       Akron town  Alabama           356                356              355   \n",
       "\n",
       "   POPESTIMATE2011  POPESTIMATE2012  POPESTIMATE2013  POPESTIMATE2014  \\\n",
       "0          4799069          4815588          4830081          4841799   \n",
       "1             2694             2643             2628             2608   \n",
       "2             4493             4471             4449             4420   \n",
       "3              750              743              742              739   \n",
       "4              347              347              343              338   \n",
       "\n",
       "   POPESTIMATE2015  POPESTIMATE2016  POPESTIMATE2017  POPESTIMATE2018  \\\n",
       "0          4852347          4863525          4874486          4887681   \n",
       "1             2600             2584             2575             2571   \n",
       "2             4390             4356             4327             4308   \n",
       "3              734              731              726              723   \n",
       "4              339              333              332              331   \n",
       "\n",
       "   POPESTIMATE2019  \n",
       "0          4903185  \n",
       "1             2560  \n",
       "2             4281  \n",
       "3              718  \n",
       "4              328  "
      ]
     },
     "execution_count": 48,
     "metadata": {},
     "output_type": "execute_result"
    }
   ],
   "source": [
    "census = census.drop(['SUMLEV', 'STATE', 'COUNTY', 'PLACE', 'COUSUB', 'CONCIT',\n",
    "       'PRIMGEO_FLAG', 'FUNCSTAT'],axis=1)\n",
    "\n",
    "census = census.rename(columns={\n",
    "    \"name\":\"city\",\n",
    "    \"stname\":\"state\"\n",
    "})\n",
    "census = census.rename(columns={\n",
    "    \"NAME\":\"city\",\n",
    "    \"STNAME\":\"state\"\n",
    "})\n",
    "\n",
    "print(census.shape)\n",
    "census.head()\n",
    "\n",
    "print(census.shape)\n",
    "census.head()"
   ]
  },
  {
   "cell_type": "code",
   "execution_count": 49,
   "metadata": {},
   "outputs": [
    {
     "data": {
      "text/plain": [
       "city                 0\n",
       "state                0\n",
       "CENSUS2010POP        0\n",
       "ESTIMATESBASE2010    0\n",
       "POPESTIMATE2010      0\n",
       "POPESTIMATE2011      0\n",
       "POPESTIMATE2012      0\n",
       "POPESTIMATE2013      0\n",
       "POPESTIMATE2014      0\n",
       "POPESTIMATE2015      0\n",
       "POPESTIMATE2016      0\n",
       "POPESTIMATE2017      0\n",
       "POPESTIMATE2018      0\n",
       "POPESTIMATE2019      0\n",
       "dtype: int64"
      ]
     },
     "execution_count": 49,
     "metadata": {},
     "output_type": "execute_result"
    }
   ],
   "source": [
    "census.isnull().sum()"
   ]
  },
  {
   "cell_type": "code",
   "execution_count": 50,
   "metadata": {},
   "outputs": [
    {
     "data": {
      "text/plain": [
       "Index(['city', 'state', 'CENSUS2010POP', 'ESTIMATESBASE2010',\n",
       "       'POPESTIMATE2010', 'POPESTIMATE2011', 'POPESTIMATE2012',\n",
       "       'POPESTIMATE2013', 'POPESTIMATE2014', 'POPESTIMATE2015',\n",
       "       'POPESTIMATE2016', 'POPESTIMATE2017', 'POPESTIMATE2018',\n",
       "       'POPESTIMATE2019'],\n",
       "      dtype='object')"
      ]
     },
     "execution_count": 50,
     "metadata": {},
     "output_type": "execute_result"
    }
   ],
   "source": [
    "#print all column names\n",
    "census.columns"
   ]
  },
  {
   "cell_type": "code",
   "execution_count": 51,
   "metadata": {},
   "outputs": [
    {
     "data": {
      "text/plain": [
       "31802"
      ]
     },
     "execution_count": 51,
     "metadata": {},
     "output_type": "execute_result"
    }
   ],
   "source": [
    "census['city'].nunique()"
   ]
  },
  {
   "cell_type": "code",
   "execution_count": 52,
   "metadata": {},
   "outputs": [
    {
     "data": {
      "text/plain": [
       "51"
      ]
     },
     "execution_count": 52,
     "metadata": {},
     "output_type": "execute_result"
    }
   ],
   "source": [
    "census.state.nunique()"
   ]
  },
  {
   "cell_type": "code",
   "execution_count": 53,
   "metadata": {},
   "outputs": [
    {
     "data": {
      "text/plain": [
       "array(['Alabama', 'Alaska', 'Arizona', 'Arkansas', 'California',\n",
       "       'Colorado', 'Connecticut', 'Delaware', 'District of Columbia',\n",
       "       'Florida', 'Georgia', 'Hawaii', 'Idaho', 'Illinois', 'Indiana',\n",
       "       'Iowa', 'Kansas', 'Kentucky', 'Louisiana', 'Maine', 'Maryland',\n",
       "       'Massachusetts', 'Michigan', 'Minnesota', 'Mississippi',\n",
       "       'Missouri', 'Montana', 'Nebraska', 'Nevada', 'New Hampshire',\n",
       "       'New Jersey', 'New Mexico', 'New York', 'North Carolina',\n",
       "       'North Dakota', 'Ohio', 'Oklahoma', 'Oregon', 'Pennsylvania',\n",
       "       'Rhode Island', 'South Carolina', 'South Dakota', 'Tennessee',\n",
       "       'Texas', 'Utah', 'Vermont', 'Virginia', 'Washington',\n",
       "       'West Virginia', 'Wisconsin', 'Wyoming'], dtype=object)"
      ]
     },
     "execution_count": 53,
     "metadata": {},
     "output_type": "execute_result"
    }
   ],
   "source": [
    "census.state.unique()\n",
    " # Problem here is state names are fully spelled out"
   ]
  },
  {
   "cell_type": "code",
   "execution_count": 54,
   "metadata": {},
   "outputs": [],
   "source": [
    "census = census.replace({\n",
    "    \"Alabama\":\"AL\",\n",
    "    \"Alaska\":\"AK\",\n",
    "    \"Arizona\":\"AZ\",\n",
    "    \"Arkansas\":\"AR\",\n",
    "    \"California\":\"CA\",\n",
    "    \"Colorado\":\"CO\",\n",
    "    \"Connecticut\":\"CT\",\n",
    "    \"Delaware\":\"DE\",\n",
    "    \"District of Columbia\":\"DC\",\n",
    "    \"Florida\":\"FL\",\n",
    "    \"Georgia\":\"GA\",\n",
    "    \"Hawaii\":\"HI\",\n",
    "    \"Idaho\":\"ID\",\n",
    "    \"Illinois\":\"IL\",\n",
    "    \"Indiana\":\"IN\",\n",
    "    \"Iowa\":\"IA\",\n",
    "    \"Kansas\":\"KS\",\n",
    "    \"Kentucky\":\"KY\",\n",
    "    \"Louisiana\":\"LA\",\n",
    "    \"Maine\":\"ME\",\n",
    "    \"Maryland\":\"MD\",\n",
    "    \"Massachusetts\":\"MA\",\n",
    "    \"Michigan\":\"MI\",\n",
    "    \"Minnesota\":\"MN\",\n",
    "    \"Mississippi\":\"MS\",\n",
    "    \"Missouri\":\"MO\",\n",
    "    \"Montana\":\"MT\",\n",
    "    \"Nebraska\":\"NE\",\n",
    "    \"Nevada\":\"NV\",\n",
    "    \"New Hampshire\":\"NH\",\n",
    "    \"New Jersey\":\"NJ\",\n",
    "    \"New Jersey\":\"NJ\",\n",
    "    \"New Mexico\":\"NM\",\n",
    "    \"New York\":\"NY\",\n",
    "    \"North Carolina\":\"NC\",\n",
    "    \"North Dakota\":\"ND\",\n",
    "    \"Ohio\":\"OH\",\n",
    "    \"Oklahoma\":\"OK\",\n",
    "    \"Oregon\":\"OR\",\n",
    "    \"Pennsylvania\":\"PA\",\n",
    "    \"Rhode Island\":\"RI\",\n",
    "    \"South Carolina\":\"SC\",\n",
    "    \"South Dakota\":\"SD\",\n",
    "    \"Tennessee\":\"TN\",\n",
    "    \"Texas\":\"TX\",\n",
    "    \"Utah\":\"UT\",\n",
    "    \"Vermont\":\"VT\",\n",
    "    \"Virginia\":\"VA\",\n",
    "    \"Washington\":\"WA\",\n",
    "    \"West Virginia\":\"WV\",\n",
    "    \"Wisconsin\":\"WI\",\n",
    "    \"Wyoming\":\"WY\"\n",
    "})"
   ]
  },
  {
   "cell_type": "code",
   "execution_count": 61,
   "metadata": {},
   "outputs": [
    {
     "name": "stdout",
     "output_type": "stream",
     "text": [
      "51\n"
     ]
    },
    {
     "data": {
      "text/plain": [
       "array(['AL', 'AK', 'AZ', 'AR', 'CA', 'CO', 'CT', 'DE', 'DC', 'FL', 'GA',\n",
       "       'HI', 'ID', 'IL', 'IN', 'IA', 'KS', 'KY', 'LA', 'ME', 'MD', 'MA',\n",
       "       'MI', 'MN', 'MS', 'MO', 'MT', 'NE', 'NV', 'NH', 'NJ', 'NM', 'NY',\n",
       "       'NC', 'ND', 'OH', 'OK', 'OR', 'PA', 'RI', 'SC', 'SD', 'TN', 'TX',\n",
       "       'UT', 'VT', 'VA', 'WA', 'WV', 'WI', 'WY'], dtype=object)"
      ]
     },
     "execution_count": 61,
     "metadata": {},
     "output_type": "execute_result"
    }
   ],
   "source": [
    "print(census.state.nunique())\n",
    "census.state.unique()"
   ]
  },
  {
   "cell_type": "code",
   "execution_count": 62,
   "metadata": {},
   "outputs": [
    {
     "name": "stdout",
     "output_type": "stream",
     "text": [
      "(81434, 14)\n"
     ]
    },
    {
     "data": {
      "text/html": [
       "<div>\n",
       "<style scoped>\n",
       "    .dataframe tbody tr th:only-of-type {\n",
       "        vertical-align: middle;\n",
       "    }\n",
       "\n",
       "    .dataframe tbody tr th {\n",
       "        vertical-align: top;\n",
       "    }\n",
       "\n",
       "    .dataframe thead th {\n",
       "        text-align: right;\n",
       "    }\n",
       "</style>\n",
       "<table border=\"1\" class=\"dataframe\">\n",
       "  <thead>\n",
       "    <tr style=\"text-align: right;\">\n",
       "      <th></th>\n",
       "      <th>city</th>\n",
       "      <th>state</th>\n",
       "      <th>CENSUS2010POP</th>\n",
       "      <th>ESTIMATESBASE2010</th>\n",
       "      <th>POPESTIMATE2010</th>\n",
       "      <th>POPESTIMATE2011</th>\n",
       "      <th>POPESTIMATE2012</th>\n",
       "      <th>POPESTIMATE2013</th>\n",
       "      <th>POPESTIMATE2014</th>\n",
       "      <th>POPESTIMATE2015</th>\n",
       "      <th>POPESTIMATE2016</th>\n",
       "      <th>POPESTIMATE2017</th>\n",
       "      <th>POPESTIMATE2018</th>\n",
       "      <th>POPESTIMATE2019</th>\n",
       "    </tr>\n",
       "  </thead>\n",
       "  <tbody>\n",
       "    <tr>\n",
       "      <th>0</th>\n",
       "      <td>AL</td>\n",
       "      <td>AL</td>\n",
       "      <td>4779736</td>\n",
       "      <td>4780125</td>\n",
       "      <td>4785437</td>\n",
       "      <td>4799069</td>\n",
       "      <td>4815588</td>\n",
       "      <td>4830081</td>\n",
       "      <td>4841799</td>\n",
       "      <td>4852347</td>\n",
       "      <td>4863525</td>\n",
       "      <td>4874486</td>\n",
       "      <td>4887681</td>\n",
       "      <td>4903185</td>\n",
       "    </tr>\n",
       "    <tr>\n",
       "      <th>1</th>\n",
       "      <td>Abbeville city</td>\n",
       "      <td>AL</td>\n",
       "      <td>2688</td>\n",
       "      <td>2705</td>\n",
       "      <td>2699</td>\n",
       "      <td>2694</td>\n",
       "      <td>2643</td>\n",
       "      <td>2628</td>\n",
       "      <td>2608</td>\n",
       "      <td>2600</td>\n",
       "      <td>2584</td>\n",
       "      <td>2575</td>\n",
       "      <td>2571</td>\n",
       "      <td>2560</td>\n",
       "    </tr>\n",
       "    <tr>\n",
       "      <th>2</th>\n",
       "      <td>Adamsville city</td>\n",
       "      <td>AL</td>\n",
       "      <td>4522</td>\n",
       "      <td>4506</td>\n",
       "      <td>4500</td>\n",
       "      <td>4493</td>\n",
       "      <td>4471</td>\n",
       "      <td>4449</td>\n",
       "      <td>4420</td>\n",
       "      <td>4390</td>\n",
       "      <td>4356</td>\n",
       "      <td>4327</td>\n",
       "      <td>4308</td>\n",
       "      <td>4281</td>\n",
       "    </tr>\n",
       "    <tr>\n",
       "      <th>3</th>\n",
       "      <td>Addison town</td>\n",
       "      <td>AL</td>\n",
       "      <td>758</td>\n",
       "      <td>754</td>\n",
       "      <td>751</td>\n",
       "      <td>750</td>\n",
       "      <td>743</td>\n",
       "      <td>742</td>\n",
       "      <td>739</td>\n",
       "      <td>734</td>\n",
       "      <td>731</td>\n",
       "      <td>726</td>\n",
       "      <td>723</td>\n",
       "      <td>718</td>\n",
       "    </tr>\n",
       "    <tr>\n",
       "      <th>4</th>\n",
       "      <td>Akron town</td>\n",
       "      <td>AL</td>\n",
       "      <td>356</td>\n",
       "      <td>356</td>\n",
       "      <td>355</td>\n",
       "      <td>347</td>\n",
       "      <td>347</td>\n",
       "      <td>343</td>\n",
       "      <td>338</td>\n",
       "      <td>339</td>\n",
       "      <td>333</td>\n",
       "      <td>332</td>\n",
       "      <td>331</td>\n",
       "      <td>328</td>\n",
       "    </tr>\n",
       "  </tbody>\n",
       "</table>\n",
       "</div>"
      ],
      "text/plain": [
       "              city state CENSUS2010POP  ESTIMATESBASE2010  POPESTIMATE2010  \\\n",
       "0               AL    AL       4779736            4780125          4785437   \n",
       "1   Abbeville city    AL          2688               2705             2699   \n",
       "2  Adamsville city    AL          4522               4506             4500   \n",
       "3     Addison town    AL           758                754              751   \n",
       "4       Akron town    AL           356                356              355   \n",
       "\n",
       "   POPESTIMATE2011  POPESTIMATE2012  POPESTIMATE2013  POPESTIMATE2014  \\\n",
       "0          4799069          4815588          4830081          4841799   \n",
       "1             2694             2643             2628             2608   \n",
       "2             4493             4471             4449             4420   \n",
       "3              750              743              742              739   \n",
       "4              347              347              343              338   \n",
       "\n",
       "   POPESTIMATE2015  POPESTIMATE2016  POPESTIMATE2017  POPESTIMATE2018  \\\n",
       "0          4852347          4863525          4874486          4887681   \n",
       "1             2600             2584             2575             2571   \n",
       "2             4390             4356             4327             4308   \n",
       "3              734              731              726              723   \n",
       "4              339              333              332              331   \n",
       "\n",
       "   POPESTIMATE2019  \n",
       "0          4903185  \n",
       "1             2560  \n",
       "2             4281  \n",
       "3              718  \n",
       "4              328  "
      ]
     },
     "execution_count": 62,
     "metadata": {},
     "output_type": "execute_result"
    }
   ],
   "source": [
    "print(census.shape)\n",
    "census.head()"
   ]
  },
  {
   "cell_type": "code",
   "execution_count": 63,
   "metadata": {},
   "outputs": [
    {
     "data": {
      "text/plain": [
       "city                 0\n",
       "state                0\n",
       "CENSUS2010POP        0\n",
       "ESTIMATESBASE2010    0\n",
       "POPESTIMATE2010      0\n",
       "POPESTIMATE2011      0\n",
       "POPESTIMATE2012      0\n",
       "POPESTIMATE2013      0\n",
       "POPESTIMATE2014      0\n",
       "POPESTIMATE2015      0\n",
       "POPESTIMATE2016      0\n",
       "POPESTIMATE2017      0\n",
       "POPESTIMATE2018      0\n",
       "POPESTIMATE2019      0\n",
       "dtype: int64"
      ]
     },
     "execution_count": 63,
     "metadata": {},
     "output_type": "execute_result"
    }
   ],
   "source": [
    "census.isnull().sum()"
   ]
  },
  {
   "cell_type": "code",
   "execution_count": 64,
   "metadata": {},
   "outputs": [
    {
     "data": {
      "text/plain": [
       "city                 object\n",
       "state                object\n",
       "CENSUS2010POP        object\n",
       "ESTIMATESBASE2010     int64\n",
       "POPESTIMATE2010       int64\n",
       "POPESTIMATE2011       int64\n",
       "POPESTIMATE2012       int64\n",
       "POPESTIMATE2013       int64\n",
       "POPESTIMATE2014       int64\n",
       "POPESTIMATE2015       int64\n",
       "POPESTIMATE2016       int64\n",
       "POPESTIMATE2017       int64\n",
       "POPESTIMATE2018       int64\n",
       "POPESTIMATE2019       int64\n",
       "dtype: object"
      ]
     },
     "execution_count": 64,
     "metadata": {},
     "output_type": "execute_result"
    }
   ],
   "source": [
    "census.dtypes"
   ]
  },
  {
   "cell_type": "code",
   "execution_count": 65,
   "metadata": {},
   "outputs": [
    {
     "data": {
      "text/html": [
       "<div>\n",
       "<style scoped>\n",
       "    .dataframe tbody tr th:only-of-type {\n",
       "        vertical-align: middle;\n",
       "    }\n",
       "\n",
       "    .dataframe tbody tr th {\n",
       "        vertical-align: top;\n",
       "    }\n",
       "\n",
       "    .dataframe thead th {\n",
       "        text-align: right;\n",
       "    }\n",
       "</style>\n",
       "<table border=\"1\" class=\"dataframe\">\n",
       "  <thead>\n",
       "    <tr style=\"text-align: right;\">\n",
       "      <th></th>\n",
       "      <th>city</th>\n",
       "      <th>state</th>\n",
       "      <th>POPESTIMATE2019</th>\n",
       "    </tr>\n",
       "  </thead>\n",
       "  <tbody>\n",
       "    <tr>\n",
       "      <th>0</th>\n",
       "      <td>Abbeville city</td>\n",
       "      <td>AL</td>\n",
       "      <td>2560</td>\n",
       "    </tr>\n",
       "    <tr>\n",
       "      <th>1</th>\n",
       "      <td>Adamsville city</td>\n",
       "      <td>AL</td>\n",
       "      <td>4281</td>\n",
       "    </tr>\n",
       "    <tr>\n",
       "      <th>2</th>\n",
       "      <td>Addison town</td>\n",
       "      <td>AL</td>\n",
       "      <td>718</td>\n",
       "    </tr>\n",
       "    <tr>\n",
       "      <th>3</th>\n",
       "      <td>Akron town</td>\n",
       "      <td>AL</td>\n",
       "      <td>328</td>\n",
       "    </tr>\n",
       "    <tr>\n",
       "      <th>4</th>\n",
       "      <td>Alabaster city</td>\n",
       "      <td>AL</td>\n",
       "      <td>33487</td>\n",
       "    </tr>\n",
       "  </tbody>\n",
       "</table>\n",
       "</div>"
      ],
      "text/plain": [
       "              city state  POPESTIMATE2019\n",
       "0   Abbeville city    AL             2560\n",
       "1  Adamsville city    AL             4281\n",
       "2     Addison town    AL              718\n",
       "3       Akron town    AL              328\n",
       "4   Alabaster city    AL            33487"
      ]
     },
     "execution_count": 65,
     "metadata": {},
     "output_type": "execute_result"
    }
   ],
   "source": [
    "census_final= census[['city', 'state','POPESTIMATE2019']]\n",
    "census_final=census_final[1:]\n",
    "census_final.reset_index(inplace=True)\n",
    "census_final= census_final[['city', 'state','POPESTIMATE2019']]\n",
    "census_final.head()"
   ]
  },
  {
   "cell_type": "code",
   "execution_count": 66,
   "metadata": {},
   "outputs": [
    {
     "data": {
      "text/html": [
       "<div>\n",
       "<style scoped>\n",
       "    .dataframe tbody tr th:only-of-type {\n",
       "        vertical-align: middle;\n",
       "    }\n",
       "\n",
       "    .dataframe tbody tr th {\n",
       "        vertical-align: top;\n",
       "    }\n",
       "\n",
       "    .dataframe thead th {\n",
       "        text-align: right;\n",
       "    }\n",
       "</style>\n",
       "<table border=\"1\" class=\"dataframe\">\n",
       "  <thead>\n",
       "    <tr style=\"text-align: right;\">\n",
       "      <th></th>\n",
       "      <th>city</th>\n",
       "      <th>state</th>\n",
       "      <th>POPESTIMATE2019</th>\n",
       "    </tr>\n",
       "  </thead>\n",
       "  <tbody>\n",
       "    <tr>\n",
       "      <th>0</th>\n",
       "      <td>Abbeville</td>\n",
       "      <td>AL</td>\n",
       "      <td>2560</td>\n",
       "    </tr>\n",
       "    <tr>\n",
       "      <th>1</th>\n",
       "      <td>Adamsville</td>\n",
       "      <td>AL</td>\n",
       "      <td>4281</td>\n",
       "    </tr>\n",
       "    <tr>\n",
       "      <th>2</th>\n",
       "      <td>Addison</td>\n",
       "      <td>AL</td>\n",
       "      <td>718</td>\n",
       "    </tr>\n",
       "    <tr>\n",
       "      <th>3</th>\n",
       "      <td>Akron</td>\n",
       "      <td>AL</td>\n",
       "      <td>328</td>\n",
       "    </tr>\n",
       "    <tr>\n",
       "      <th>4</th>\n",
       "      <td>Alabaster</td>\n",
       "      <td>AL</td>\n",
       "      <td>33487</td>\n",
       "    </tr>\n",
       "  </tbody>\n",
       "</table>\n",
       "</div>"
      ],
      "text/plain": [
       "         city state  POPESTIMATE2019\n",
       "0   Abbeville    AL             2560\n",
       "1  Adamsville    AL             4281\n",
       "2     Addison    AL              718\n",
       "3       Akron    AL              328\n",
       "4   Alabaster    AL            33487"
      ]
     },
     "execution_count": 66,
     "metadata": {},
     "output_type": "execute_result"
    }
   ],
   "source": [
    "#remove city and town from city columns\n",
    "census_final['city'] = census_final['city'].str.replace('city', '')\n",
    "census_final['city'] = census_final['city'].str.replace('town', '')\n",
    "census_final['city'] = census_final['city'].str.strip(' ')\n",
    "census_final.head()"
   ]
  },
  {
   "cell_type": "code",
   "execution_count": 67,
   "metadata": {},
   "outputs": [
    {
     "data": {
      "text/plain": [
       "'Abbeville'"
      ]
     },
     "execution_count": 67,
     "metadata": {},
     "output_type": "execute_result"
    }
   ],
   "source": [
    "census_final['city'][0]"
   ]
  },
  {
   "cell_type": "code",
   "execution_count": 75,
   "metadata": {},
   "outputs": [
    {
     "name": "stdout",
     "output_type": "stream",
     "text": [
      "(29991, 3)\n"
     ]
    },
    {
     "data": {
      "text/html": [
       "<div>\n",
       "<style scoped>\n",
       "    .dataframe tbody tr th:only-of-type {\n",
       "        vertical-align: middle;\n",
       "    }\n",
       "\n",
       "    .dataframe tbody tr th {\n",
       "        vertical-align: top;\n",
       "    }\n",
       "\n",
       "    .dataframe thead th {\n",
       "        text-align: right;\n",
       "    }\n",
       "</style>\n",
       "<table border=\"1\" class=\"dataframe\">\n",
       "  <thead>\n",
       "    <tr style=\"text-align: right;\">\n",
       "      <th></th>\n",
       "      <th>city</th>\n",
       "      <th>state</th>\n",
       "      <th>POPESTIMATE2019</th>\n",
       "    </tr>\n",
       "  </thead>\n",
       "  <tbody>\n",
       "    <tr>\n",
       "      <th>0</th>\n",
       "      <td>Abbeville</td>\n",
       "      <td>AL</td>\n",
       "      <td>2560</td>\n",
       "    </tr>\n",
       "    <tr>\n",
       "      <th>1</th>\n",
       "      <td>Adamsville</td>\n",
       "      <td>AL</td>\n",
       "      <td>4281</td>\n",
       "    </tr>\n",
       "    <tr>\n",
       "      <th>2</th>\n",
       "      <td>Addison</td>\n",
       "      <td>AL</td>\n",
       "      <td>718</td>\n",
       "    </tr>\n",
       "    <tr>\n",
       "      <th>3</th>\n",
       "      <td>Akron</td>\n",
       "      <td>AL</td>\n",
       "      <td>328</td>\n",
       "    </tr>\n",
       "    <tr>\n",
       "      <th>4</th>\n",
       "      <td>Alabaster</td>\n",
       "      <td>AL</td>\n",
       "      <td>33487</td>\n",
       "    </tr>\n",
       "  </tbody>\n",
       "</table>\n",
       "</div>"
      ],
      "text/plain": [
       "         city state  POPESTIMATE2019\n",
       "0   Abbeville    AL             2560\n",
       "1  Adamsville    AL             4281\n",
       "2     Addison    AL              718\n",
       "3       Akron    AL              328\n",
       "4   Alabaster    AL            33487"
      ]
     },
     "execution_count": 75,
     "metadata": {},
     "output_type": "execute_result"
    }
   ],
   "source": [
    "census_final= census_final.drop_duplicates(subset=['city'])\n",
    "census_final.reset_index(drop=True)\n",
    "print(census_final.shape)\n",
    "census_final.head()"
   ]
  },
  {
   "cell_type": "code",
   "execution_count": 76,
   "metadata": {},
   "outputs": [],
   "source": [
    "census_final.to_csv(\"census_finaldata.csv\",index=False)  "
   ]
  }
 ],
 "metadata": {
  "kernelspec": {
   "display_name": "lab_cityspire (Python3)",
   "language": "python",
   "name": "lab_cityspire"
  },
  "language_info": {
   "codemirror_mode": {
    "name": "ipython",
    "version": 3
   },
   "file_extension": ".py",
   "mimetype": "text/x-python",
   "name": "python",
   "nbconvert_exporter": "python",
   "pygments_lexer": "ipython3",
   "version": "3.7.0"
  }
 },
 "nbformat": 4,
 "nbformat_minor": 5
}
