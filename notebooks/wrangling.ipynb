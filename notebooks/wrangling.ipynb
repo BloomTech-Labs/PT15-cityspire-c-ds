{
 "metadata": {
  "language_info": {
   "codemirror_mode": {
    "name": "ipython",
    "version": 3
   },
   "file_extension": ".py",
   "mimetype": "text/x-python",
   "name": "python",
   "nbconvert_exporter": "python",
   "pygments_lexer": "ipython3",
   "version": "3.8.5-final"
  },
  "orig_nbformat": 2,
  "kernelspec": {
   "name": "python3",
   "display_name": "Python 3",
   "language": "python"
  }
 },
 "nbformat": 4,
 "nbformat_minor": 2,
 "cells": [
  {
   "cell_type": "code",
   "execution_count": 1,
   "metadata": {},
   "outputs": [],
   "source": [
    "# Objectives:\n",
    "\n",
    "# FOR RELEASE 1 MVP\n",
    "# - Only 2019 data\n",
    "# - Rename each 2019 data column (population, rent, crime)\n",
    "# - Create column with city, state (abbreviation?)\n",
    "# - Column with state\n",
    "# - Make table for each csv, or just join with pandas\n",
    "# - Join 3 df/tables on city, state (abbreviation?) column\n",
    "# - Check for duplicate cities and drop (already drop with inner join)\n",
    "# - Drop any cities that lack pop, rent, crime data (already drop with inner join, but still drop NaN values and fill later)\n",
    "# - Bin population, rent, and crime data\n",
    "# - Categorize population, rent, and crime data\n",
    "\n",
    "# MACHINE LEARNNG (in upcoming notebook)\n",
    "# - Vectorize data\n",
    "# - Train nearest neighbors model on city/state, pop, rent, and crime data\n",
    "# - Make model into a function\n",
    "# - Use function to make a recommendation of Location based on population, rent, crime rate\n",
    "# - Check to see if recommendation matches well with data. If so:\n",
    "# - Pickle the model and it is ready to be put into API and tested with Web/iOS\n",
    "# - Once these steps are completed and working, we will also incorporate walkability and livability score in Release 2.\n",
    "# - When walkability and livability scores are also included and working well in the model, we welcome and further additions to the model, granted the data is from 2019 (otherwise we can include a disclaimer, or we push all of the data used back to 2018, for example, as long as the data all comes from the same year)\n",
    "\n",
    "# STRETCH GOALS\n",
    "# - add more data that fit team's user stories\n",
    "# - attempt forecasting using data from 2010-2020\n",
    "# - try fb prophet model among other time series models and techniques\n",
    "# - be in conversation with engineers"
   ]
  },
  {
   "cell_type": "code",
   "execution_count": 2,
   "metadata": {},
   "outputs": [],
   "source": [
    "# Imports\n",
    "\n",
    "import pandas as pd\n",
    "import numpy as np"
   ]
  },
  {
   "cell_type": "code",
   "execution_count": 3,
   "metadata": {},
   "outputs": [
    {
     "output_type": "execute_result",
     "data": {
      "text/plain": [
       "                       Location  Census Estimates Base    2010    2011  \\\n",
       "0       Abbeville city, Alabama   2,688          2,705   2,699   2,694   \n",
       "1      Adamsville city, Alabama   4,522          4,506   4,500   4,493   \n",
       "2         Addison town, Alabama     758            754     751     750   \n",
       "3           Akron town, Alabama     356            356     355     347   \n",
       "4       Alabaster city, Alabama  30,352         31,112  31,209  31,375   \n",
       "...                         ...     ...            ...     ...     ...   \n",
       "19497   Wamsutter town, Wyoming     451            451     450     453   \n",
       "19498   Wheatland town, Wyoming   3,627          3,625   3,622   3,620   \n",
       "19499     Worland city, Wyoming   5,487          5,487   5,487   5,436   \n",
       "19500      Wright town, Wyoming   1,807          1,807   1,810   1,812   \n",
       "19501       Yoder town, Wyoming     151            151     152     153   \n",
       "\n",
       "         2012    2013    2014    2015    2016    2017    2018 2019 Population  \n",
       "0       2,643   2,628   2,608   2,600   2,584   2,575   2,571           2,560  \n",
       "1       4,471   4,449   4,420   4,390   4,356   4,327   4,308           4,281  \n",
       "2         743     742     739     734     731     726     723             718  \n",
       "3         347     343     338     339     333     332     331             328  \n",
       "4      31,684  31,980  32,182  32,772  33,017  33,275  33,413          33,487  \n",
       "...       ...     ...     ...     ...     ...     ...     ...             ...  \n",
       "19497     462     487     508     499     493     483     474             467  \n",
       "19498   3,626   3,622   3,642   3,645   3,587   3,549   3,527           3,462  \n",
       "19499   5,419   5,419   5,328   5,332   5,263   5,158   5,071           5,024  \n",
       "19500   1,864   1,860   1,856   1,885   1,857   1,760   1,754           1,753  \n",
       "19501     154     157     159     159     156     156     155             154  \n",
       "\n",
       "[19502 rows x 13 columns]"
      ],
      "text/html": "<div>\n<style scoped>\n    .dataframe tbody tr th:only-of-type {\n        vertical-align: middle;\n    }\n\n    .dataframe tbody tr th {\n        vertical-align: top;\n    }\n\n    .dataframe thead th {\n        text-align: right;\n    }\n</style>\n<table border=\"1\" class=\"dataframe\">\n  <thead>\n    <tr style=\"text-align: right;\">\n      <th></th>\n      <th>Location</th>\n      <th>Census</th>\n      <th>Estimates Base</th>\n      <th>2010</th>\n      <th>2011</th>\n      <th>2012</th>\n      <th>2013</th>\n      <th>2014</th>\n      <th>2015</th>\n      <th>2016</th>\n      <th>2017</th>\n      <th>2018</th>\n      <th>2019 Population</th>\n    </tr>\n  </thead>\n  <tbody>\n    <tr>\n      <th>0</th>\n      <td>Abbeville city, Alabama</td>\n      <td>2,688</td>\n      <td>2,705</td>\n      <td>2,699</td>\n      <td>2,694</td>\n      <td>2,643</td>\n      <td>2,628</td>\n      <td>2,608</td>\n      <td>2,600</td>\n      <td>2,584</td>\n      <td>2,575</td>\n      <td>2,571</td>\n      <td>2,560</td>\n    </tr>\n    <tr>\n      <th>1</th>\n      <td>Adamsville city, Alabama</td>\n      <td>4,522</td>\n      <td>4,506</td>\n      <td>4,500</td>\n      <td>4,493</td>\n      <td>4,471</td>\n      <td>4,449</td>\n      <td>4,420</td>\n      <td>4,390</td>\n      <td>4,356</td>\n      <td>4,327</td>\n      <td>4,308</td>\n      <td>4,281</td>\n    </tr>\n    <tr>\n      <th>2</th>\n      <td>Addison town, Alabama</td>\n      <td>758</td>\n      <td>754</td>\n      <td>751</td>\n      <td>750</td>\n      <td>743</td>\n      <td>742</td>\n      <td>739</td>\n      <td>734</td>\n      <td>731</td>\n      <td>726</td>\n      <td>723</td>\n      <td>718</td>\n    </tr>\n    <tr>\n      <th>3</th>\n      <td>Akron town, Alabama</td>\n      <td>356</td>\n      <td>356</td>\n      <td>355</td>\n      <td>347</td>\n      <td>347</td>\n      <td>343</td>\n      <td>338</td>\n      <td>339</td>\n      <td>333</td>\n      <td>332</td>\n      <td>331</td>\n      <td>328</td>\n    </tr>\n    <tr>\n      <th>4</th>\n      <td>Alabaster city, Alabama</td>\n      <td>30,352</td>\n      <td>31,112</td>\n      <td>31,209</td>\n      <td>31,375</td>\n      <td>31,684</td>\n      <td>31,980</td>\n      <td>32,182</td>\n      <td>32,772</td>\n      <td>33,017</td>\n      <td>33,275</td>\n      <td>33,413</td>\n      <td>33,487</td>\n    </tr>\n    <tr>\n      <th>...</th>\n      <td>...</td>\n      <td>...</td>\n      <td>...</td>\n      <td>...</td>\n      <td>...</td>\n      <td>...</td>\n      <td>...</td>\n      <td>...</td>\n      <td>...</td>\n      <td>...</td>\n      <td>...</td>\n      <td>...</td>\n      <td>...</td>\n    </tr>\n    <tr>\n      <th>19497</th>\n      <td>Wamsutter town, Wyoming</td>\n      <td>451</td>\n      <td>451</td>\n      <td>450</td>\n      <td>453</td>\n      <td>462</td>\n      <td>487</td>\n      <td>508</td>\n      <td>499</td>\n      <td>493</td>\n      <td>483</td>\n      <td>474</td>\n      <td>467</td>\n    </tr>\n    <tr>\n      <th>19498</th>\n      <td>Wheatland town, Wyoming</td>\n      <td>3,627</td>\n      <td>3,625</td>\n      <td>3,622</td>\n      <td>3,620</td>\n      <td>3,626</td>\n      <td>3,622</td>\n      <td>3,642</td>\n      <td>3,645</td>\n      <td>3,587</td>\n      <td>3,549</td>\n      <td>3,527</td>\n      <td>3,462</td>\n    </tr>\n    <tr>\n      <th>19499</th>\n      <td>Worland city, Wyoming</td>\n      <td>5,487</td>\n      <td>5,487</td>\n      <td>5,487</td>\n      <td>5,436</td>\n      <td>5,419</td>\n      <td>5,419</td>\n      <td>5,328</td>\n      <td>5,332</td>\n      <td>5,263</td>\n      <td>5,158</td>\n      <td>5,071</td>\n      <td>5,024</td>\n    </tr>\n    <tr>\n      <th>19500</th>\n      <td>Wright town, Wyoming</td>\n      <td>1,807</td>\n      <td>1,807</td>\n      <td>1,810</td>\n      <td>1,812</td>\n      <td>1,864</td>\n      <td>1,860</td>\n      <td>1,856</td>\n      <td>1,885</td>\n      <td>1,857</td>\n      <td>1,760</td>\n      <td>1,754</td>\n      <td>1,753</td>\n    </tr>\n    <tr>\n      <th>19501</th>\n      <td>Yoder town, Wyoming</td>\n      <td>151</td>\n      <td>151</td>\n      <td>152</td>\n      <td>153</td>\n      <td>154</td>\n      <td>157</td>\n      <td>159</td>\n      <td>159</td>\n      <td>156</td>\n      <td>156</td>\n      <td>155</td>\n      <td>154</td>\n    </tr>\n  </tbody>\n</table>\n<p>19502 rows × 13 columns</p>\n</div>"
     },
     "metadata": {},
     "execution_count": 3
    }
   ],
   "source": [
    "# Load an inspect population data\n",
    "\n",
    "population = pd.read_csv(\"../data/population.csv\")\n",
    "population"
   ]
  },
  {
   "cell_type": "code",
   "execution_count": 4,
   "metadata": {},
   "outputs": [
    {
     "output_type": "execute_result",
     "data": {
      "text/plain": [
       "Location           object\n",
       "Census             object\n",
       "Estimates Base     object\n",
       "2010               object\n",
       "2011               object\n",
       "2012               object\n",
       "2013               object\n",
       "2014               object\n",
       "2015               object\n",
       "2016               object\n",
       "2017               object\n",
       "2018               object\n",
       "2019 Population    object\n",
       "dtype: object"
      ]
     },
     "metadata": {},
     "execution_count": 4
    }
   ],
   "source": [
    "# Check population data types\n",
    "\n",
    "population.dtypes"
   ]
  },
  {
   "cell_type": "code",
   "execution_count": 5,
   "metadata": {},
   "outputs": [
    {
     "output_type": "execute_result",
     "data": {
      "text/plain": [
       "                       Location 2019 Population\n",
       "0       Abbeville city, Alabama           2,560\n",
       "1      Adamsville city, Alabama           4,281\n",
       "2         Addison town, Alabama             718\n",
       "3           Akron town, Alabama             328\n",
       "4       Alabaster city, Alabama          33,487\n",
       "...                         ...             ...\n",
       "19497   Wamsutter town, Wyoming             467\n",
       "19498   Wheatland town, Wyoming           3,462\n",
       "19499     Worland city, Wyoming           5,024\n",
       "19500      Wright town, Wyoming           1,753\n",
       "19501       Yoder town, Wyoming             154\n",
       "\n",
       "[19502 rows x 2 columns]"
      ],
      "text/html": "<div>\n<style scoped>\n    .dataframe tbody tr th:only-of-type {\n        vertical-align: middle;\n    }\n\n    .dataframe tbody tr th {\n        vertical-align: top;\n    }\n\n    .dataframe thead th {\n        text-align: right;\n    }\n</style>\n<table border=\"1\" class=\"dataframe\">\n  <thead>\n    <tr style=\"text-align: right;\">\n      <th></th>\n      <th>Location</th>\n      <th>2019 Population</th>\n    </tr>\n  </thead>\n  <tbody>\n    <tr>\n      <th>0</th>\n      <td>Abbeville city, Alabama</td>\n      <td>2,560</td>\n    </tr>\n    <tr>\n      <th>1</th>\n      <td>Adamsville city, Alabama</td>\n      <td>4,281</td>\n    </tr>\n    <tr>\n      <th>2</th>\n      <td>Addison town, Alabama</td>\n      <td>718</td>\n    </tr>\n    <tr>\n      <th>3</th>\n      <td>Akron town, Alabama</td>\n      <td>328</td>\n    </tr>\n    <tr>\n      <th>4</th>\n      <td>Alabaster city, Alabama</td>\n      <td>33,487</td>\n    </tr>\n    <tr>\n      <th>...</th>\n      <td>...</td>\n      <td>...</td>\n    </tr>\n    <tr>\n      <th>19497</th>\n      <td>Wamsutter town, Wyoming</td>\n      <td>467</td>\n    </tr>\n    <tr>\n      <th>19498</th>\n      <td>Wheatland town, Wyoming</td>\n      <td>3,462</td>\n    </tr>\n    <tr>\n      <th>19499</th>\n      <td>Worland city, Wyoming</td>\n      <td>5,024</td>\n    </tr>\n    <tr>\n      <th>19500</th>\n      <td>Wright town, Wyoming</td>\n      <td>1,753</td>\n    </tr>\n    <tr>\n      <th>19501</th>\n      <td>Yoder town, Wyoming</td>\n      <td>154</td>\n    </tr>\n  </tbody>\n</table>\n<p>19502 rows × 2 columns</p>\n</div>"
     },
     "metadata": {},
     "execution_count": 5
    }
   ],
   "source": [
    "# Drop columns from population data (or can create a copy with just location and 2019 population data)\n",
    "\n",
    "population = population.drop(['Census', 'Estimates Base', '2010', '2011', '2012', '2013', '2014', '2015', '2016', '2017', '2018'], axis=1)\n",
    "population\n",
    "\n",
    "# In Location column, after the name of the town or city it contains \"town\" or \"city\". Wrangle this out."
   ]
  },
  {
   "cell_type": "code",
   "execution_count": 6,
   "metadata": {},
   "outputs": [
    {
     "output_type": "execute_result",
     "data": {
      "text/plain": [
       "                       Location 2019 Population Town or City\n",
       "0       Abbeville city, Alabama           2,560         city\n",
       "1      Adamsville city, Alabama           4,281         city\n",
       "2         Addison town, Alabama             718         town\n",
       "3           Akron town, Alabama             328         town\n",
       "4       Alabaster city, Alabama          33,487         city\n",
       "...                         ...             ...          ...\n",
       "19497   Wamsutter town, Wyoming             467         town\n",
       "19498   Wheatland town, Wyoming           3,462         town\n",
       "19499     Worland city, Wyoming           5,024         city\n",
       "19500      Wright town, Wyoming           1,753         town\n",
       "19501       Yoder town, Wyoming             154         town\n",
       "\n",
       "[19502 rows x 3 columns]"
      ],
      "text/html": "<div>\n<style scoped>\n    .dataframe tbody tr th:only-of-type {\n        vertical-align: middle;\n    }\n\n    .dataframe tbody tr th {\n        vertical-align: top;\n    }\n\n    .dataframe thead th {\n        text-align: right;\n    }\n</style>\n<table border=\"1\" class=\"dataframe\">\n  <thead>\n    <tr style=\"text-align: right;\">\n      <th></th>\n      <th>Location</th>\n      <th>2019 Population</th>\n      <th>Town or City</th>\n    </tr>\n  </thead>\n  <tbody>\n    <tr>\n      <th>0</th>\n      <td>Abbeville city, Alabama</td>\n      <td>2,560</td>\n      <td>city</td>\n    </tr>\n    <tr>\n      <th>1</th>\n      <td>Adamsville city, Alabama</td>\n      <td>4,281</td>\n      <td>city</td>\n    </tr>\n    <tr>\n      <th>2</th>\n      <td>Addison town, Alabama</td>\n      <td>718</td>\n      <td>town</td>\n    </tr>\n    <tr>\n      <th>3</th>\n      <td>Akron town, Alabama</td>\n      <td>328</td>\n      <td>town</td>\n    </tr>\n    <tr>\n      <th>4</th>\n      <td>Alabaster city, Alabama</td>\n      <td>33,487</td>\n      <td>city</td>\n    </tr>\n    <tr>\n      <th>...</th>\n      <td>...</td>\n      <td>...</td>\n      <td>...</td>\n    </tr>\n    <tr>\n      <th>19497</th>\n      <td>Wamsutter town, Wyoming</td>\n      <td>467</td>\n      <td>town</td>\n    </tr>\n    <tr>\n      <th>19498</th>\n      <td>Wheatland town, Wyoming</td>\n      <td>3,462</td>\n      <td>town</td>\n    </tr>\n    <tr>\n      <th>19499</th>\n      <td>Worland city, Wyoming</td>\n      <td>5,024</td>\n      <td>city</td>\n    </tr>\n    <tr>\n      <th>19500</th>\n      <td>Wright town, Wyoming</td>\n      <td>1,753</td>\n      <td>town</td>\n    </tr>\n    <tr>\n      <th>19501</th>\n      <td>Yoder town, Wyoming</td>\n      <td>154</td>\n      <td>town</td>\n    </tr>\n  </tbody>\n</table>\n<p>19502 rows × 3 columns</p>\n</div>"
     },
     "metadata": {},
     "execution_count": 6
    }
   ],
   "source": [
    "# Create new column to specify if Location is city or town\n",
    "\n",
    "population[\"Town or City\"] = population['Location'].str.extract(\"(city|town)\")\n",
    "population"
   ]
  },
  {
   "cell_type": "code",
   "execution_count": 7,
   "metadata": {},
   "outputs": [
    {
     "output_type": "execute_result",
     "data": {
      "text/plain": [
       "                  Location 2019 Population Town or City\n",
       "0       Abbeville, Alabama           2,560         city\n",
       "1      Adamsville, Alabama           4,281         city\n",
       "2         Addison, Alabama             718         town\n",
       "3           Akron, Alabama             328         town\n",
       "4       Alabaster, Alabama          33,487         city\n",
       "...                    ...             ...          ...\n",
       "19497   Wamsutter, Wyoming             467         town\n",
       "19498   Wheatland, Wyoming           3,462         town\n",
       "19499     Worland, Wyoming           5,024         city\n",
       "19500      Wright, Wyoming           1,753         town\n",
       "19501       Yoder, Wyoming             154         town\n",
       "\n",
       "[19502 rows x 3 columns]"
      ],
      "text/html": "<div>\n<style scoped>\n    .dataframe tbody tr th:only-of-type {\n        vertical-align: middle;\n    }\n\n    .dataframe tbody tr th {\n        vertical-align: top;\n    }\n\n    .dataframe thead th {\n        text-align: right;\n    }\n</style>\n<table border=\"1\" class=\"dataframe\">\n  <thead>\n    <tr style=\"text-align: right;\">\n      <th></th>\n      <th>Location</th>\n      <th>2019 Population</th>\n      <th>Town or City</th>\n    </tr>\n  </thead>\n  <tbody>\n    <tr>\n      <th>0</th>\n      <td>Abbeville, Alabama</td>\n      <td>2,560</td>\n      <td>city</td>\n    </tr>\n    <tr>\n      <th>1</th>\n      <td>Adamsville, Alabama</td>\n      <td>4,281</td>\n      <td>city</td>\n    </tr>\n    <tr>\n      <th>2</th>\n      <td>Addison, Alabama</td>\n      <td>718</td>\n      <td>town</td>\n    </tr>\n    <tr>\n      <th>3</th>\n      <td>Akron, Alabama</td>\n      <td>328</td>\n      <td>town</td>\n    </tr>\n    <tr>\n      <th>4</th>\n      <td>Alabaster, Alabama</td>\n      <td>33,487</td>\n      <td>city</td>\n    </tr>\n    <tr>\n      <th>...</th>\n      <td>...</td>\n      <td>...</td>\n      <td>...</td>\n    </tr>\n    <tr>\n      <th>19497</th>\n      <td>Wamsutter, Wyoming</td>\n      <td>467</td>\n      <td>town</td>\n    </tr>\n    <tr>\n      <th>19498</th>\n      <td>Wheatland, Wyoming</td>\n      <td>3,462</td>\n      <td>town</td>\n    </tr>\n    <tr>\n      <th>19499</th>\n      <td>Worland, Wyoming</td>\n      <td>5,024</td>\n      <td>city</td>\n    </tr>\n    <tr>\n      <th>19500</th>\n      <td>Wright, Wyoming</td>\n      <td>1,753</td>\n      <td>town</td>\n    </tr>\n    <tr>\n      <th>19501</th>\n      <td>Yoder, Wyoming</td>\n      <td>154</td>\n      <td>town</td>\n    </tr>\n  </tbody>\n</table>\n<p>19502 rows × 3 columns</p>\n</div>"
     },
     "metadata": {},
     "execution_count": 7
    }
   ],
   "source": [
    "# Remove city and town strings from Location column so that the column can be used to join with other data\n",
    "\n",
    "population[\"Location\"] = population['Location'].str.replace(' city', '', regex=False)\n",
    "population[\"Location\"] = population['Location'].str.replace(' town', '', regex=False)\n",
    "\n",
    "population\n",
    "\n",
    "# Consider adding just a State column, having City and State columns separate"
   ]
  },
  {
   "cell_type": "code",
   "execution_count": 8,
   "metadata": {},
   "outputs": [
    {
     "output_type": "execute_result",
     "data": {
      "text/plain": [
       "19491"
      ]
     },
     "metadata": {},
     "execution_count": 8
    }
   ],
   "source": [
    "# Unique number of population Locations count\n",
    "\n",
    "population['Location'].nunique()"
   ]
  },
  {
   "cell_type": "code",
   "execution_count": 9,
   "metadata": {},
   "outputs": [
    {
     "output_type": "execute_result",
     "data": {
      "text/plain": [
       "      RegionID  RegionName  SizeRank               MsaName  2014-01  2014-02  \\\n",
       "0        61639       10025         1          New York, NY   3012.0   3025.0   \n",
       "1        84654       60657         2           Chicago, IL   1588.0   1594.0   \n",
       "2        61637       10023         3          New York, NY   3114.0   3123.0   \n",
       "3        91982       77494         4           Houston, TX   1759.0   1763.0   \n",
       "4        84616       60614         5           Chicago, IL   1740.0   1745.0   \n",
       "...        ...         ...       ...                   ...      ...      ...   \n",
       "3185     62321       11976      9253          New York, NY  63788.0      NaN   \n",
       "3186     58624        2110      9469            Boston, MA   4113.0   4105.0   \n",
       "3187     66128       20004      9592        Washington, DC      NaN      NaN   \n",
       "3188    399647       80951      9634  Colorado Springs, CO      NaN   1252.0   \n",
       "3189     62311       11964     10014          New York, NY      NaN      NaN   \n",
       "\n",
       "      2014-03  2014-04  2014-05  2014-06  ...  2020-02  2020-03  2020-04  \\\n",
       "0      3037.0   3049.0   3062.0   3074.0  ...   3268.0   3234.0   3199.0   \n",
       "1      1599.0   1605.0   1610.0   1615.0  ...   1834.0   1829.0   1824.0   \n",
       "2      3131.0   3140.0   3148.0   3156.0  ...   3307.0   3275.0   3244.0   \n",
       "3      1766.0   1770.0   1773.0   1776.0  ...   1775.0   1777.0   1780.0   \n",
       "4      1750.0   1755.0   1759.0   1764.0  ...   2023.0   2017.0   2010.0   \n",
       "...       ...      ...      ...      ...  ...      ...      ...      ...   \n",
       "3185      NaN      NaN      NaN      NaN  ...  49083.0  48860.0  48636.0   \n",
       "3186   4097.0   4089.0      NaN   4077.0  ...   4510.0      NaN      NaN   \n",
       "3187   2295.0   2304.0      NaN   2323.0  ...   2496.0   2494.0   2492.0   \n",
       "3188   1256.0   1260.0   1265.0   1269.0  ...      NaN   1656.0   1662.0   \n",
       "3189      NaN      NaN      NaN      NaN  ...      NaN  14504.0      NaN   \n",
       "\n",
       "      2020-05  2020-06  2020-07  2020-08  2020-09  2020-10  2020-11  \n",
       "0      3162.0   3125.0   3088.0   3048.0   3008.0   2968.0   2925.0  \n",
       "1      1818.0   1813.0   1807.0   1801.0   1795.0   1788.0   1781.0  \n",
       "2      3211.0   3178.0   3144.0   3108.0   3072.0   3035.0   2997.0  \n",
       "3      1782.0   1785.0   1788.0   1791.0   1794.0   1796.0   1799.0  \n",
       "4      2003.0   1995.0   1988.0   1979.0   1970.0   1962.0   1952.0  \n",
       "...       ...      ...      ...      ...      ...      ...      ...  \n",
       "3185      NaN      NaN      NaN      NaN      NaN      NaN  47911.0  \n",
       "3186   4350.0   4294.0   4239.0   4180.0   4121.0   4062.0   4002.0  \n",
       "3187   2490.0   2487.0   2484.0   2481.0   2478.0   2475.0   2471.0  \n",
       "3188   1669.0   1676.0   1683.0   1690.0   1697.0   1704.0   1712.0  \n",
       "3189  14463.0  14436.0      NaN      NaN      NaN      NaN      NaN  \n",
       "\n",
       "[3190 rows x 87 columns]"
      ],
      "text/html": "<div>\n<style scoped>\n    .dataframe tbody tr th:only-of-type {\n        vertical-align: middle;\n    }\n\n    .dataframe tbody tr th {\n        vertical-align: top;\n    }\n\n    .dataframe thead th {\n        text-align: right;\n    }\n</style>\n<table border=\"1\" class=\"dataframe\">\n  <thead>\n    <tr style=\"text-align: right;\">\n      <th></th>\n      <th>RegionID</th>\n      <th>RegionName</th>\n      <th>SizeRank</th>\n      <th>MsaName</th>\n      <th>2014-01</th>\n      <th>2014-02</th>\n      <th>2014-03</th>\n      <th>2014-04</th>\n      <th>2014-05</th>\n      <th>2014-06</th>\n      <th>...</th>\n      <th>2020-02</th>\n      <th>2020-03</th>\n      <th>2020-04</th>\n      <th>2020-05</th>\n      <th>2020-06</th>\n      <th>2020-07</th>\n      <th>2020-08</th>\n      <th>2020-09</th>\n      <th>2020-10</th>\n      <th>2020-11</th>\n    </tr>\n  </thead>\n  <tbody>\n    <tr>\n      <th>0</th>\n      <td>61639</td>\n      <td>10025</td>\n      <td>1</td>\n      <td>New York, NY</td>\n      <td>3012.0</td>\n      <td>3025.0</td>\n      <td>3037.0</td>\n      <td>3049.0</td>\n      <td>3062.0</td>\n      <td>3074.0</td>\n      <td>...</td>\n      <td>3268.0</td>\n      <td>3234.0</td>\n      <td>3199.0</td>\n      <td>3162.0</td>\n      <td>3125.0</td>\n      <td>3088.0</td>\n      <td>3048.0</td>\n      <td>3008.0</td>\n      <td>2968.0</td>\n      <td>2925.0</td>\n    </tr>\n    <tr>\n      <th>1</th>\n      <td>84654</td>\n      <td>60657</td>\n      <td>2</td>\n      <td>Chicago, IL</td>\n      <td>1588.0</td>\n      <td>1594.0</td>\n      <td>1599.0</td>\n      <td>1605.0</td>\n      <td>1610.0</td>\n      <td>1615.0</td>\n      <td>...</td>\n      <td>1834.0</td>\n      <td>1829.0</td>\n      <td>1824.0</td>\n      <td>1818.0</td>\n      <td>1813.0</td>\n      <td>1807.0</td>\n      <td>1801.0</td>\n      <td>1795.0</td>\n      <td>1788.0</td>\n      <td>1781.0</td>\n    </tr>\n    <tr>\n      <th>2</th>\n      <td>61637</td>\n      <td>10023</td>\n      <td>3</td>\n      <td>New York, NY</td>\n      <td>3114.0</td>\n      <td>3123.0</td>\n      <td>3131.0</td>\n      <td>3140.0</td>\n      <td>3148.0</td>\n      <td>3156.0</td>\n      <td>...</td>\n      <td>3307.0</td>\n      <td>3275.0</td>\n      <td>3244.0</td>\n      <td>3211.0</td>\n      <td>3178.0</td>\n      <td>3144.0</td>\n      <td>3108.0</td>\n      <td>3072.0</td>\n      <td>3035.0</td>\n      <td>2997.0</td>\n    </tr>\n    <tr>\n      <th>3</th>\n      <td>91982</td>\n      <td>77494</td>\n      <td>4</td>\n      <td>Houston, TX</td>\n      <td>1759.0</td>\n      <td>1763.0</td>\n      <td>1766.0</td>\n      <td>1770.0</td>\n      <td>1773.0</td>\n      <td>1776.0</td>\n      <td>...</td>\n      <td>1775.0</td>\n      <td>1777.0</td>\n      <td>1780.0</td>\n      <td>1782.0</td>\n      <td>1785.0</td>\n      <td>1788.0</td>\n      <td>1791.0</td>\n      <td>1794.0</td>\n      <td>1796.0</td>\n      <td>1799.0</td>\n    </tr>\n    <tr>\n      <th>4</th>\n      <td>84616</td>\n      <td>60614</td>\n      <td>5</td>\n      <td>Chicago, IL</td>\n      <td>1740.0</td>\n      <td>1745.0</td>\n      <td>1750.0</td>\n      <td>1755.0</td>\n      <td>1759.0</td>\n      <td>1764.0</td>\n      <td>...</td>\n      <td>2023.0</td>\n      <td>2017.0</td>\n      <td>2010.0</td>\n      <td>2003.0</td>\n      <td>1995.0</td>\n      <td>1988.0</td>\n      <td>1979.0</td>\n      <td>1970.0</td>\n      <td>1962.0</td>\n      <td>1952.0</td>\n    </tr>\n    <tr>\n      <th>...</th>\n      <td>...</td>\n      <td>...</td>\n      <td>...</td>\n      <td>...</td>\n      <td>...</td>\n      <td>...</td>\n      <td>...</td>\n      <td>...</td>\n      <td>...</td>\n      <td>...</td>\n      <td>...</td>\n      <td>...</td>\n      <td>...</td>\n      <td>...</td>\n      <td>...</td>\n      <td>...</td>\n      <td>...</td>\n      <td>...</td>\n      <td>...</td>\n      <td>...</td>\n      <td>...</td>\n    </tr>\n    <tr>\n      <th>3185</th>\n      <td>62321</td>\n      <td>11976</td>\n      <td>9253</td>\n      <td>New York, NY</td>\n      <td>63788.0</td>\n      <td>NaN</td>\n      <td>NaN</td>\n      <td>NaN</td>\n      <td>NaN</td>\n      <td>NaN</td>\n      <td>...</td>\n      <td>49083.0</td>\n      <td>48860.0</td>\n      <td>48636.0</td>\n      <td>NaN</td>\n      <td>NaN</td>\n      <td>NaN</td>\n      <td>NaN</td>\n      <td>NaN</td>\n      <td>NaN</td>\n      <td>47911.0</td>\n    </tr>\n    <tr>\n      <th>3186</th>\n      <td>58624</td>\n      <td>2110</td>\n      <td>9469</td>\n      <td>Boston, MA</td>\n      <td>4113.0</td>\n      <td>4105.0</td>\n      <td>4097.0</td>\n      <td>4089.0</td>\n      <td>NaN</td>\n      <td>4077.0</td>\n      <td>...</td>\n      <td>4510.0</td>\n      <td>NaN</td>\n      <td>NaN</td>\n      <td>4350.0</td>\n      <td>4294.0</td>\n      <td>4239.0</td>\n      <td>4180.0</td>\n      <td>4121.0</td>\n      <td>4062.0</td>\n      <td>4002.0</td>\n    </tr>\n    <tr>\n      <th>3187</th>\n      <td>66128</td>\n      <td>20004</td>\n      <td>9592</td>\n      <td>Washington, DC</td>\n      <td>NaN</td>\n      <td>NaN</td>\n      <td>2295.0</td>\n      <td>2304.0</td>\n      <td>NaN</td>\n      <td>2323.0</td>\n      <td>...</td>\n      <td>2496.0</td>\n      <td>2494.0</td>\n      <td>2492.0</td>\n      <td>2490.0</td>\n      <td>2487.0</td>\n      <td>2484.0</td>\n      <td>2481.0</td>\n      <td>2478.0</td>\n      <td>2475.0</td>\n      <td>2471.0</td>\n    </tr>\n    <tr>\n      <th>3188</th>\n      <td>399647</td>\n      <td>80951</td>\n      <td>9634</td>\n      <td>Colorado Springs, CO</td>\n      <td>NaN</td>\n      <td>1252.0</td>\n      <td>1256.0</td>\n      <td>1260.0</td>\n      <td>1265.0</td>\n      <td>1269.0</td>\n      <td>...</td>\n      <td>NaN</td>\n      <td>1656.0</td>\n      <td>1662.0</td>\n      <td>1669.0</td>\n      <td>1676.0</td>\n      <td>1683.0</td>\n      <td>1690.0</td>\n      <td>1697.0</td>\n      <td>1704.0</td>\n      <td>1712.0</td>\n    </tr>\n    <tr>\n      <th>3189</th>\n      <td>62311</td>\n      <td>11964</td>\n      <td>10014</td>\n      <td>New York, NY</td>\n      <td>NaN</td>\n      <td>NaN</td>\n      <td>NaN</td>\n      <td>NaN</td>\n      <td>NaN</td>\n      <td>NaN</td>\n      <td>...</td>\n      <td>NaN</td>\n      <td>14504.0</td>\n      <td>NaN</td>\n      <td>14463.0</td>\n      <td>14436.0</td>\n      <td>NaN</td>\n      <td>NaN</td>\n      <td>NaN</td>\n      <td>NaN</td>\n      <td>NaN</td>\n    </tr>\n  </tbody>\n</table>\n<p>3190 rows × 87 columns</p>\n</div>"
     },
     "metadata": {},
     "execution_count": 9
    }
   ],
   "source": [
    "# Load and inspect rental rates data\n",
    "\n",
    "rent = pd.read_csv(\"../data/rental_rates.csv\")\n",
    "rent"
   ]
  },
  {
   "cell_type": "code",
   "execution_count": 10,
   "metadata": {},
   "outputs": [
    {
     "output_type": "execute_result",
     "data": {
      "text/plain": [
       "RegionID        int64\n",
       "RegionName      int64\n",
       "SizeRank        int64\n",
       "MsaName        object\n",
       "2014-01       float64\n",
       "               ...   \n",
       "2020-07       float64\n",
       "2020-08       float64\n",
       "2020-09       float64\n",
       "2020-10       float64\n",
       "2020-11       float64\n",
       "Length: 87, dtype: object"
      ]
     },
     "metadata": {},
     "execution_count": 10
    }
   ],
   "source": [
    "# Check rent data types\n",
    "\n",
    "rent.dtypes"
   ]
  },
  {
   "cell_type": "code",
   "execution_count": 11,
   "metadata": {},
   "outputs": [],
   "source": [
    "# Drop all columns you dont want, or just use code below to make new df\n",
    "\n",
    "#rent = rent.drop(['RegionID', 'RegionName', 'SizeRank', '2014-01', '2014-02', '2014-03', '2014-04', ...], axis=1)"
   ]
  },
  {
   "cell_type": "code",
   "execution_count": 12,
   "metadata": {},
   "outputs": [
    {
     "output_type": "execute_result",
     "data": {
      "text/plain": [
       "                  Location  2019 Rental Rates\n",
       "0             New York, NY             3311.0\n",
       "1              Chicago, IL             1838.0\n",
       "2             New York, NY             3344.0\n",
       "3              Houston, TX             1772.0\n",
       "4              Chicago, IL             2028.0\n",
       "...                    ...                ...\n",
       "3185          New York, NY            50175.0\n",
       "3186            Boston, MA             4585.0\n",
       "3187        Washington, DC             2495.0\n",
       "3188  Colorado Springs, CO             1640.0\n",
       "3189          New York, NY            14553.0\n",
       "\n",
       "[3190 rows x 2 columns]"
      ],
      "text/html": "<div>\n<style scoped>\n    .dataframe tbody tr th:only-of-type {\n        vertical-align: middle;\n    }\n\n    .dataframe tbody tr th {\n        vertical-align: top;\n    }\n\n    .dataframe thead th {\n        text-align: right;\n    }\n</style>\n<table border=\"1\" class=\"dataframe\">\n  <thead>\n    <tr style=\"text-align: right;\">\n      <th></th>\n      <th>Location</th>\n      <th>2019 Rental Rates</th>\n    </tr>\n  </thead>\n  <tbody>\n    <tr>\n      <th>0</th>\n      <td>New York, NY</td>\n      <td>3311.0</td>\n    </tr>\n    <tr>\n      <th>1</th>\n      <td>Chicago, IL</td>\n      <td>1838.0</td>\n    </tr>\n    <tr>\n      <th>2</th>\n      <td>New York, NY</td>\n      <td>3344.0</td>\n    </tr>\n    <tr>\n      <th>3</th>\n      <td>Houston, TX</td>\n      <td>1772.0</td>\n    </tr>\n    <tr>\n      <th>4</th>\n      <td>Chicago, IL</td>\n      <td>2028.0</td>\n    </tr>\n    <tr>\n      <th>...</th>\n      <td>...</td>\n      <td>...</td>\n    </tr>\n    <tr>\n      <th>3185</th>\n      <td>New York, NY</td>\n      <td>50175.0</td>\n    </tr>\n    <tr>\n      <th>3186</th>\n      <td>Boston, MA</td>\n      <td>4585.0</td>\n    </tr>\n    <tr>\n      <th>3187</th>\n      <td>Washington, DC</td>\n      <td>2495.0</td>\n    </tr>\n    <tr>\n      <th>3188</th>\n      <td>Colorado Springs, CO</td>\n      <td>1640.0</td>\n    </tr>\n    <tr>\n      <th>3189</th>\n      <td>New York, NY</td>\n      <td>14553.0</td>\n    </tr>\n  </tbody>\n</table>\n<p>3190 rows × 2 columns</p>\n</div>"
     },
     "metadata": {},
     "execution_count": 12
    }
   ],
   "source": [
    "# Create copy of rental rates dataframe and change column names\n",
    "\n",
    "rent = rent[['MsaName','2019-12']].copy()\n",
    "rent = rent.rename(columns = {\"MsaName\":\"Location\"})\n",
    "rent = rent.rename(columns = {\"2019-12\":\"2019 Rental Rates\"})\n",
    "rent"
   ]
  },
  {
   "cell_type": "code",
   "execution_count": 13,
   "metadata": {},
   "outputs": [
    {
     "output_type": "execute_result",
     "data": {
      "text/plain": [
       "                              Location  2019 Rental Rates\n",
       "0                   New York, New York             3311.0\n",
       "1                    Chicago, Illinois             1838.0\n",
       "2                   New York, New York             3344.0\n",
       "3                       Houston, Texas             1772.0\n",
       "4                    Chicago, Illinois             2028.0\n",
       "...                                ...                ...\n",
       "3185                New York, New York            50175.0\n",
       "3186             Boston, Massachusetts             4585.0\n",
       "3187  Washington, District of Columbia             2495.0\n",
       "3188        Colorado Springs, Colorado             1640.0\n",
       "3189                New York, New York            14553.0\n",
       "\n",
       "[3190 rows x 2 columns]"
      ],
      "text/html": "<div>\n<style scoped>\n    .dataframe tbody tr th:only-of-type {\n        vertical-align: middle;\n    }\n\n    .dataframe tbody tr th {\n        vertical-align: top;\n    }\n\n    .dataframe thead th {\n        text-align: right;\n    }\n</style>\n<table border=\"1\" class=\"dataframe\">\n  <thead>\n    <tr style=\"text-align: right;\">\n      <th></th>\n      <th>Location</th>\n      <th>2019 Rental Rates</th>\n    </tr>\n  </thead>\n  <tbody>\n    <tr>\n      <th>0</th>\n      <td>New York, New York</td>\n      <td>3311.0</td>\n    </tr>\n    <tr>\n      <th>1</th>\n      <td>Chicago, Illinois</td>\n      <td>1838.0</td>\n    </tr>\n    <tr>\n      <th>2</th>\n      <td>New York, New York</td>\n      <td>3344.0</td>\n    </tr>\n    <tr>\n      <th>3</th>\n      <td>Houston, Texas</td>\n      <td>1772.0</td>\n    </tr>\n    <tr>\n      <th>4</th>\n      <td>Chicago, Illinois</td>\n      <td>2028.0</td>\n    </tr>\n    <tr>\n      <th>...</th>\n      <td>...</td>\n      <td>...</td>\n    </tr>\n    <tr>\n      <th>3185</th>\n      <td>New York, New York</td>\n      <td>50175.0</td>\n    </tr>\n    <tr>\n      <th>3186</th>\n      <td>Boston, Massachusetts</td>\n      <td>4585.0</td>\n    </tr>\n    <tr>\n      <th>3187</th>\n      <td>Washington, District of Columbia</td>\n      <td>2495.0</td>\n    </tr>\n    <tr>\n      <th>3188</th>\n      <td>Colorado Springs, Colorado</td>\n      <td>1640.0</td>\n    </tr>\n    <tr>\n      <th>3189</th>\n      <td>New York, New York</td>\n      <td>14553.0</td>\n    </tr>\n  </tbody>\n</table>\n<p>3190 rows × 2 columns</p>\n</div>"
     },
     "metadata": {},
     "execution_count": 13
    }
   ],
   "source": [
    "# Replace state abbreviations with full state names\n",
    "\n",
    "rent[\"Location\"] = rent['Location'].str.replace('AK', 'Alaska', regex=False)\n",
    "rent[\"Location\"] = rent['Location'].str.replace('AL', 'Alabama', regex=False)\n",
    "rent[\"Location\"] = rent['Location'].str.replace('AR', 'Arkansas', regex=False)\n",
    "rent[\"Location\"] = rent['Location'].str.replace('AS', 'American Samoa', regex=False)\n",
    "rent[\"Location\"] = rent['Location'].str.replace('AZ', 'Arizona', regex=False)\n",
    "rent[\"Location\"] = rent['Location'].str.replace('CA', 'California', regex=False)\n",
    "rent[\"Location\"] = rent['Location'].str.replace('CO', 'Colorado', regex=False)\n",
    "rent[\"Location\"] = rent['Location'].str.replace('CT', 'Connecticut', regex=False)\n",
    "rent[\"Location\"] = rent['Location'].str.replace('DC', 'District of Columbia', regex=False)\n",
    "rent[\"Location\"] = rent['Location'].str.replace('DE', 'Delaware', regex=False)\n",
    "rent[\"Location\"] = rent['Location'].str.replace('FL', 'Florida', regex=False)\n",
    "rent[\"Location\"] = rent['Location'].str.replace('GA', 'Georgia', regex=False)\n",
    "rent[\"Location\"] = rent['Location'].str.replace('GU', 'Guam', regex=False)\n",
    "rent[\"Location\"] = rent['Location'].str.replace('HI', 'Hawaii', regex=False)\n",
    "rent[\"Location\"] = rent['Location'].str.replace('IA', 'Iowa', regex=False)\n",
    "rent[\"Location\"] = rent['Location'].str.replace('ID', 'Idaho', regex=False)\n",
    "rent[\"Location\"] = rent['Location'].str.replace('IL', 'Illinois', regex=False)\n",
    "rent[\"Location\"] = rent['Location'].str.replace('IN', 'Indiana', regex=False)\n",
    "rent[\"Location\"] = rent['Location'].str.replace('KS', 'Kansas', regex=False)\n",
    "rent[\"Location\"] = rent['Location'].str.replace('KY', 'Kentucky', regex=False)\n",
    "rent[\"Location\"] = rent['Location'].str.replace('LA', 'Louisiana', regex=False)\n",
    "rent[\"Location\"] = rent['Location'].str.replace('MA', 'Massachusetts', regex=False)\n",
    "rent[\"Location\"] = rent['Location'].str.replace('MD', 'Maryland', regex=False)\n",
    "rent[\"Location\"] = rent['Location'].str.replace('ME', 'Maine', regex=False)\n",
    "rent[\"Location\"] = rent['Location'].str.replace('MI', 'Michigan', regex=False)\n",
    "rent[\"Location\"] = rent['Location'].str.replace('MN', 'Minnesota', regex=False)\n",
    "rent[\"Location\"] = rent['Location'].str.replace('MO', 'Missouri', regex=False)\n",
    "rent[\"Location\"] = rent['Location'].str.replace('MP', 'Northern Mariana Islands', regex=False)\n",
    "rent[\"Location\"] = rent['Location'].str.replace('MS', 'Mississippi', regex=False)\n",
    "rent[\"Location\"] = rent['Location'].str.replace('MT', 'Montana', regex=False)\n",
    "rent[\"Location\"] = rent['Location'].str.replace('NA', 'National', regex=False)\n",
    "rent[\"Location\"] = rent['Location'].str.replace('NC', 'North Carolina', regex=False)\n",
    "rent[\"Location\"] = rent['Location'].str.replace('ND', 'North Dakota', regex=False)\n",
    "rent[\"Location\"] = rent['Location'].str.replace('NE', 'Nebraska', regex=False)\n",
    "rent[\"Location\"] = rent['Location'].str.replace('NH', 'New Hampshire', regex=False)\n",
    "rent[\"Location\"] = rent['Location'].str.replace('NJ', 'New Jersey', regex=False)\n",
    "rent[\"Location\"] = rent['Location'].str.replace('NM', 'New Mexico', regex=False)\n",
    "rent[\"Location\"] = rent['Location'].str.replace('NV', 'Nevada', regex=False)\n",
    "rent[\"Location\"] = rent['Location'].str.replace('NY', 'New York', regex=False)\n",
    "rent[\"Location\"] = rent['Location'].str.replace('OH', 'Ohio', regex=False)\n",
    "rent[\"Location\"] = rent['Location'].str.replace('OK', 'Oklahoma', regex=False)\n",
    "rent[\"Location\"] = rent['Location'].str.replace('OR', 'Oregon', regex=False)\n",
    "rent[\"Location\"] = rent['Location'].str.replace('PA', 'Pennsylvania', regex=False)\n",
    "rent[\"Location\"] = rent['Location'].str.replace('PR', 'Puerto Rico', regex=False)\n",
    "rent[\"Location\"] = rent['Location'].str.replace('RI', 'Rhode Island', regex=False)\n",
    "rent[\"Location\"] = rent['Location'].str.replace('SC', 'South Carolina', regex=False)\n",
    "rent[\"Location\"] = rent['Location'].str.replace('SD', 'South Dakota', regex=False)\n",
    "rent[\"Location\"] = rent['Location'].str.replace('TN', 'Tennessee', regex=False)\n",
    "rent[\"Location\"] = rent['Location'].str.replace('TX', 'Texas', regex=False)\n",
    "rent[\"Location\"] = rent['Location'].str.replace('UT', 'Utah', regex=False)\n",
    "rent[\"Location\"] = rent['Location'].str.replace('VA', 'Virginia', regex=False)\n",
    "rent[\"Location\"] = rent['Location'].str.replace('VI', 'Virgin Islands', regex=False)\n",
    "rent[\"Location\"] = rent['Location'].str.replace('VT', 'Vermont', regex=False)\n",
    "rent[\"Location\"] = rent['Location'].str.replace('WA', 'Washington', regex=False)\n",
    "rent[\"Location\"] = rent['Location'].str.replace('WI', 'Wisconsin', regex=False)\n",
    "rent[\"Location\"] = rent['Location'].str.replace('WV', 'West Virginia', regex=False)\n",
    "rent[\"Location\"] = rent['Location'].str.replace('WY', 'Wyoming', regex=False)\n",
    "rent"
   ]
  },
  {
   "cell_type": "code",
   "execution_count": 14,
   "metadata": {},
   "outputs": [
    {
     "output_type": "execute_result",
     "data": {
      "text/plain": [
       "101"
      ]
     },
     "metadata": {},
     "execution_count": 14
    }
   ],
   "source": [
    "# Unique number of rent Locations count\n",
    "\n",
    "rent['Location'].nunique()"
   ]
  },
  {
   "cell_type": "code",
   "execution_count": 15,
   "metadata": {},
   "outputs": [
    {
     "output_type": "execute_result",
     "data": {
      "text/plain": [
       "        State                 City Population Violent crime  \\\n",
       "0     Alabama               Hoover     85,670           114   \n",
       "1      Alaska            Anchorage    287,731         3,581   \n",
       "2      Alaska               Bethel      6,544           130   \n",
       "3      Alaska  Bristol Bay Borough        852             2   \n",
       "4      Alaska              Cordova      2,150             0   \n",
       "...       ...                  ...        ...           ...   \n",
       "8100  Wyoming             Sheridan     17,895             9   \n",
       "8101  Wyoming          Thermopolis      2,830            13   \n",
       "8102  Wyoming           Torrington      6,709            13   \n",
       "8103  Wyoming            Wheatland      3,544             7   \n",
       "8104  Wyoming              Worland      5,026             8   \n",
       "\n",
       "      Murder and nonnegligent manslaughter Rape Robbery Aggravated assault  \\\n",
       "0                                      4.0   15      27                 68   \n",
       "1                                     32.0  540     621              2,388   \n",
       "2                                      1.0   47       3                 79   \n",
       "3                                      0.0    0       0                  2   \n",
       "4                                      0.0    0       0                  0   \n",
       "...                                    ...  ...     ...                ...   \n",
       "8100                                   0.0    4       0                  5   \n",
       "8101                                   0.0    0       0                 13   \n",
       "8102                                   0.0    4       1                  8   \n",
       "8103                                   0.0    1       0                  6   \n",
       "8104                                   0.0    5       0                  3   \n",
       "\n",
       "     Property crime Burglary Larceny-theft Motor vehicle theft Arson  \n",
       "0             1,922      128         1,694                 100     2  \n",
       "1            12,261    1,692         9,038               1,531    93  \n",
       "2               132       20            84                  28    12  \n",
       "3                20        5             8                   7     0  \n",
       "4                 7        1             6                   0     0  \n",
       "...             ...      ...           ...                 ...   ...  \n",
       "8100            369       75           278                  16     3  \n",
       "8101             34        7            22                   5     0  \n",
       "8102             48        8            40                   0     0  \n",
       "8103             72       24            45                   3     0  \n",
       "8104             36        6            30                   0     0  \n",
       "\n",
       "[8105 rows x 13 columns]"
      ],
      "text/html": "<div>\n<style scoped>\n    .dataframe tbody tr th:only-of-type {\n        vertical-align: middle;\n    }\n\n    .dataframe tbody tr th {\n        vertical-align: top;\n    }\n\n    .dataframe thead th {\n        text-align: right;\n    }\n</style>\n<table border=\"1\" class=\"dataframe\">\n  <thead>\n    <tr style=\"text-align: right;\">\n      <th></th>\n      <th>State</th>\n      <th>City</th>\n      <th>Population</th>\n      <th>Violent crime</th>\n      <th>Murder and nonnegligent manslaughter</th>\n      <th>Rape</th>\n      <th>Robbery</th>\n      <th>Aggravated assault</th>\n      <th>Property crime</th>\n      <th>Burglary</th>\n      <th>Larceny-theft</th>\n      <th>Motor vehicle theft</th>\n      <th>Arson</th>\n    </tr>\n  </thead>\n  <tbody>\n    <tr>\n      <th>0</th>\n      <td>Alabama</td>\n      <td>Hoover</td>\n      <td>85,670</td>\n      <td>114</td>\n      <td>4.0</td>\n      <td>15</td>\n      <td>27</td>\n      <td>68</td>\n      <td>1,922</td>\n      <td>128</td>\n      <td>1,694</td>\n      <td>100</td>\n      <td>2</td>\n    </tr>\n    <tr>\n      <th>1</th>\n      <td>Alaska</td>\n      <td>Anchorage</td>\n      <td>287,731</td>\n      <td>3,581</td>\n      <td>32.0</td>\n      <td>540</td>\n      <td>621</td>\n      <td>2,388</td>\n      <td>12,261</td>\n      <td>1,692</td>\n      <td>9,038</td>\n      <td>1,531</td>\n      <td>93</td>\n    </tr>\n    <tr>\n      <th>2</th>\n      <td>Alaska</td>\n      <td>Bethel</td>\n      <td>6,544</td>\n      <td>130</td>\n      <td>1.0</td>\n      <td>47</td>\n      <td>3</td>\n      <td>79</td>\n      <td>132</td>\n      <td>20</td>\n      <td>84</td>\n      <td>28</td>\n      <td>12</td>\n    </tr>\n    <tr>\n      <th>3</th>\n      <td>Alaska</td>\n      <td>Bristol Bay Borough</td>\n      <td>852</td>\n      <td>2</td>\n      <td>0.0</td>\n      <td>0</td>\n      <td>0</td>\n      <td>2</td>\n      <td>20</td>\n      <td>5</td>\n      <td>8</td>\n      <td>7</td>\n      <td>0</td>\n    </tr>\n    <tr>\n      <th>4</th>\n      <td>Alaska</td>\n      <td>Cordova</td>\n      <td>2,150</td>\n      <td>0</td>\n      <td>0.0</td>\n      <td>0</td>\n      <td>0</td>\n      <td>0</td>\n      <td>7</td>\n      <td>1</td>\n      <td>6</td>\n      <td>0</td>\n      <td>0</td>\n    </tr>\n    <tr>\n      <th>...</th>\n      <td>...</td>\n      <td>...</td>\n      <td>...</td>\n      <td>...</td>\n      <td>...</td>\n      <td>...</td>\n      <td>...</td>\n      <td>...</td>\n      <td>...</td>\n      <td>...</td>\n      <td>...</td>\n      <td>...</td>\n      <td>...</td>\n    </tr>\n    <tr>\n      <th>8100</th>\n      <td>Wyoming</td>\n      <td>Sheridan</td>\n      <td>17,895</td>\n      <td>9</td>\n      <td>0.0</td>\n      <td>4</td>\n      <td>0</td>\n      <td>5</td>\n      <td>369</td>\n      <td>75</td>\n      <td>278</td>\n      <td>16</td>\n      <td>3</td>\n    </tr>\n    <tr>\n      <th>8101</th>\n      <td>Wyoming</td>\n      <td>Thermopolis</td>\n      <td>2,830</td>\n      <td>13</td>\n      <td>0.0</td>\n      <td>0</td>\n      <td>0</td>\n      <td>13</td>\n      <td>34</td>\n      <td>7</td>\n      <td>22</td>\n      <td>5</td>\n      <td>0</td>\n    </tr>\n    <tr>\n      <th>8102</th>\n      <td>Wyoming</td>\n      <td>Torrington</td>\n      <td>6,709</td>\n      <td>13</td>\n      <td>0.0</td>\n      <td>4</td>\n      <td>1</td>\n      <td>8</td>\n      <td>48</td>\n      <td>8</td>\n      <td>40</td>\n      <td>0</td>\n      <td>0</td>\n    </tr>\n    <tr>\n      <th>8103</th>\n      <td>Wyoming</td>\n      <td>Wheatland</td>\n      <td>3,544</td>\n      <td>7</td>\n      <td>0.0</td>\n      <td>1</td>\n      <td>0</td>\n      <td>6</td>\n      <td>72</td>\n      <td>24</td>\n      <td>45</td>\n      <td>3</td>\n      <td>0</td>\n    </tr>\n    <tr>\n      <th>8104</th>\n      <td>Wyoming</td>\n      <td>Worland</td>\n      <td>5,026</td>\n      <td>8</td>\n      <td>0.0</td>\n      <td>5</td>\n      <td>0</td>\n      <td>3</td>\n      <td>36</td>\n      <td>6</td>\n      <td>30</td>\n      <td>0</td>\n      <td>0</td>\n    </tr>\n  </tbody>\n</table>\n<p>8105 rows × 13 columns</p>\n</div>"
     },
     "metadata": {},
     "execution_count": 15
    }
   ],
   "source": [
    "# Load and inspect crime rates data (need to replicate state for every city)\n",
    "\n",
    "crime = pd.read_csv(\"../data/crime_rates.csv\")\n",
    "crime"
   ]
  },
  {
   "cell_type": "code",
   "execution_count": 16,
   "metadata": {},
   "outputs": [
    {
     "output_type": "execute_result",
     "data": {
      "text/plain": [
       "State                                    object\n",
       "City                                     object\n",
       "Population                               object\n",
       "Violent crime                            object\n",
       "Murder and nonnegligent manslaughter    float64\n",
       "Rape                                     object\n",
       "Robbery                                  object\n",
       "Aggravated assault                       object\n",
       "Property crime                           object\n",
       "Burglary                                 object\n",
       "Larceny-theft                            object\n",
       "Motor vehicle theft                      object\n",
       "Arson                                    object\n",
       "dtype: object"
      ]
     },
     "metadata": {},
     "execution_count": 16
    }
   ],
   "source": [
    "# Check crime data types\n",
    "\n",
    "crime.dtypes"
   ]
  },
  {
   "cell_type": "code",
   "execution_count": 17,
   "metadata": {},
   "outputs": [
    {
     "output_type": "execute_result",
     "data": {
      "text/plain": [
       "        State                 City Population Violent crime  \\\n",
       "0     Alabama               Hoover     85,670           114   \n",
       "1      Alaska            Anchorage    287,731         3,581   \n",
       "2      Alaska               Bethel      6,544           130   \n",
       "3      Alaska  Bristol Bay Borough        852             2   \n",
       "4      Alaska              Cordova      2,150             0   \n",
       "...       ...                  ...        ...           ...   \n",
       "8100  Wyoming             Sheridan     17,895             9   \n",
       "8101  Wyoming          Thermopolis      2,830            13   \n",
       "8102  Wyoming           Torrington      6,709            13   \n",
       "8103  Wyoming            Wheatland      3,544             7   \n",
       "8104  Wyoming              Worland      5,026             8   \n",
       "\n",
       "      Murder and nonnegligent manslaughter Rape Robbery Aggravated assault  \\\n",
       "0                                      4.0   15      27                 68   \n",
       "1                                     32.0  540     621              2,388   \n",
       "2                                      1.0   47       3                 79   \n",
       "3                                      0.0    0       0                  2   \n",
       "4                                      0.0    0       0                  0   \n",
       "...                                    ...  ...     ...                ...   \n",
       "8100                                   0.0    4       0                  5   \n",
       "8101                                   0.0    0       0                 13   \n",
       "8102                                   0.0    4       1                  8   \n",
       "8103                                   0.0    1       0                  6   \n",
       "8104                                   0.0    5       0                  3   \n",
       "\n",
       "     Property crime Burglary Larceny-theft Motor vehicle theft Arson  \\\n",
       "0             1,922      128         1,694                 100     2   \n",
       "1            12,261    1,692         9,038               1,531    93   \n",
       "2               132       20            84                  28    12   \n",
       "3                20        5             8                   7     0   \n",
       "4                 7        1             6                   0     0   \n",
       "...             ...      ...           ...                 ...   ...   \n",
       "8100            369       75           278                  16     3   \n",
       "8101             34        7            22                   5     0   \n",
       "8102             48        8            40                   0     0   \n",
       "8103             72       24            45                   3     0   \n",
       "8104             36        6            30                   0     0   \n",
       "\n",
       "                         Location  \n",
       "0                 Hoover, Alabama  \n",
       "1               Anchorage, Alaska  \n",
       "2                  Bethel, Alaska  \n",
       "3     Bristol Bay Borough, Alaska  \n",
       "4                 Cordova, Alaska  \n",
       "...                           ...  \n",
       "8100            Sheridan, Wyoming  \n",
       "8101         Thermopolis, Wyoming  \n",
       "8102          Torrington, Wyoming  \n",
       "8103           Wheatland, Wyoming  \n",
       "8104             Worland, Wyoming  \n",
       "\n",
       "[8105 rows x 14 columns]"
      ],
      "text/html": "<div>\n<style scoped>\n    .dataframe tbody tr th:only-of-type {\n        vertical-align: middle;\n    }\n\n    .dataframe tbody tr th {\n        vertical-align: top;\n    }\n\n    .dataframe thead th {\n        text-align: right;\n    }\n</style>\n<table border=\"1\" class=\"dataframe\">\n  <thead>\n    <tr style=\"text-align: right;\">\n      <th></th>\n      <th>State</th>\n      <th>City</th>\n      <th>Population</th>\n      <th>Violent crime</th>\n      <th>Murder and nonnegligent manslaughter</th>\n      <th>Rape</th>\n      <th>Robbery</th>\n      <th>Aggravated assault</th>\n      <th>Property crime</th>\n      <th>Burglary</th>\n      <th>Larceny-theft</th>\n      <th>Motor vehicle theft</th>\n      <th>Arson</th>\n      <th>Location</th>\n    </tr>\n  </thead>\n  <tbody>\n    <tr>\n      <th>0</th>\n      <td>Alabama</td>\n      <td>Hoover</td>\n      <td>85,670</td>\n      <td>114</td>\n      <td>4.0</td>\n      <td>15</td>\n      <td>27</td>\n      <td>68</td>\n      <td>1,922</td>\n      <td>128</td>\n      <td>1,694</td>\n      <td>100</td>\n      <td>2</td>\n      <td>Hoover, Alabama</td>\n    </tr>\n    <tr>\n      <th>1</th>\n      <td>Alaska</td>\n      <td>Anchorage</td>\n      <td>287,731</td>\n      <td>3,581</td>\n      <td>32.0</td>\n      <td>540</td>\n      <td>621</td>\n      <td>2,388</td>\n      <td>12,261</td>\n      <td>1,692</td>\n      <td>9,038</td>\n      <td>1,531</td>\n      <td>93</td>\n      <td>Anchorage, Alaska</td>\n    </tr>\n    <tr>\n      <th>2</th>\n      <td>Alaska</td>\n      <td>Bethel</td>\n      <td>6,544</td>\n      <td>130</td>\n      <td>1.0</td>\n      <td>47</td>\n      <td>3</td>\n      <td>79</td>\n      <td>132</td>\n      <td>20</td>\n      <td>84</td>\n      <td>28</td>\n      <td>12</td>\n      <td>Bethel, Alaska</td>\n    </tr>\n    <tr>\n      <th>3</th>\n      <td>Alaska</td>\n      <td>Bristol Bay Borough</td>\n      <td>852</td>\n      <td>2</td>\n      <td>0.0</td>\n      <td>0</td>\n      <td>0</td>\n      <td>2</td>\n      <td>20</td>\n      <td>5</td>\n      <td>8</td>\n      <td>7</td>\n      <td>0</td>\n      <td>Bristol Bay Borough, Alaska</td>\n    </tr>\n    <tr>\n      <th>4</th>\n      <td>Alaska</td>\n      <td>Cordova</td>\n      <td>2,150</td>\n      <td>0</td>\n      <td>0.0</td>\n      <td>0</td>\n      <td>0</td>\n      <td>0</td>\n      <td>7</td>\n      <td>1</td>\n      <td>6</td>\n      <td>0</td>\n      <td>0</td>\n      <td>Cordova, Alaska</td>\n    </tr>\n    <tr>\n      <th>...</th>\n      <td>...</td>\n      <td>...</td>\n      <td>...</td>\n      <td>...</td>\n      <td>...</td>\n      <td>...</td>\n      <td>...</td>\n      <td>...</td>\n      <td>...</td>\n      <td>...</td>\n      <td>...</td>\n      <td>...</td>\n      <td>...</td>\n      <td>...</td>\n    </tr>\n    <tr>\n      <th>8100</th>\n      <td>Wyoming</td>\n      <td>Sheridan</td>\n      <td>17,895</td>\n      <td>9</td>\n      <td>0.0</td>\n      <td>4</td>\n      <td>0</td>\n      <td>5</td>\n      <td>369</td>\n      <td>75</td>\n      <td>278</td>\n      <td>16</td>\n      <td>3</td>\n      <td>Sheridan, Wyoming</td>\n    </tr>\n    <tr>\n      <th>8101</th>\n      <td>Wyoming</td>\n      <td>Thermopolis</td>\n      <td>2,830</td>\n      <td>13</td>\n      <td>0.0</td>\n      <td>0</td>\n      <td>0</td>\n      <td>13</td>\n      <td>34</td>\n      <td>7</td>\n      <td>22</td>\n      <td>5</td>\n      <td>0</td>\n      <td>Thermopolis, Wyoming</td>\n    </tr>\n    <tr>\n      <th>8102</th>\n      <td>Wyoming</td>\n      <td>Torrington</td>\n      <td>6,709</td>\n      <td>13</td>\n      <td>0.0</td>\n      <td>4</td>\n      <td>1</td>\n      <td>8</td>\n      <td>48</td>\n      <td>8</td>\n      <td>40</td>\n      <td>0</td>\n      <td>0</td>\n      <td>Torrington, Wyoming</td>\n    </tr>\n    <tr>\n      <th>8103</th>\n      <td>Wyoming</td>\n      <td>Wheatland</td>\n      <td>3,544</td>\n      <td>7</td>\n      <td>0.0</td>\n      <td>1</td>\n      <td>0</td>\n      <td>6</td>\n      <td>72</td>\n      <td>24</td>\n      <td>45</td>\n      <td>3</td>\n      <td>0</td>\n      <td>Wheatland, Wyoming</td>\n    </tr>\n    <tr>\n      <th>8104</th>\n      <td>Wyoming</td>\n      <td>Worland</td>\n      <td>5,026</td>\n      <td>8</td>\n      <td>0.0</td>\n      <td>5</td>\n      <td>0</td>\n      <td>3</td>\n      <td>36</td>\n      <td>6</td>\n      <td>30</td>\n      <td>0</td>\n      <td>0</td>\n      <td>Worland, Wyoming</td>\n    </tr>\n  </tbody>\n</table>\n<p>8105 rows × 14 columns</p>\n</div>"
     },
     "metadata": {},
     "execution_count": 17
    }
   ],
   "source": [
    "# Make new Location column with City and State data, so the data can be joineed with the other data on this column\n",
    "\n",
    "crime['Location'] = crime['City'] + ',' + ' ' + crime['State']\n",
    "crime\n",
    "\n",
    "# Consider adding Alabama crime data from 2018"
   ]
  },
  {
   "cell_type": "code",
   "execution_count": 18,
   "metadata": {},
   "outputs": [
    {
     "output_type": "execute_result",
     "data": {
      "text/plain": [
       "8105"
      ]
     },
     "metadata": {},
     "execution_count": 18
    }
   ],
   "source": [
    "# Unique number of crime Locations count\n",
    "\n",
    "crime['Location'].nunique()\n",
    "\n",
    "# 19491 unique Locations in population dataset\n",
    "# 101 unique Locations in rent dataset   -   (Consider looking for a different rent data set with more unique locations)\n",
    "# 8105 unique Locations in crime dataset"
   ]
  },
  {
   "cell_type": "code",
   "execution_count": 19,
   "metadata": {},
   "outputs": [
    {
     "output_type": "execute_result",
     "data": {
      "text/plain": [
       "                  Location 2019 Population Town or City  2019 Rental Rates\n",
       "0      Birmingham, Alabama         209,403         city              935.0\n",
       "1      Birmingham, Alabama         209,403         city             1328.0\n",
       "2      Birmingham, Alabama         209,403         city             1675.0\n",
       "3      Birmingham, Alabama         209,403         city              966.0\n",
       "4      Birmingham, Alabama         209,403         city             1426.0\n",
       "...                    ...             ...          ...                ...\n",
       "2502  Milwaukee, Wisconsin         590,157         city              839.0\n",
       "2503  Milwaukee, Wisconsin         590,157         city              948.0\n",
       "2504  Milwaukee, Wisconsin         590,157         city              973.0\n",
       "2505  Milwaukee, Wisconsin         590,157         city              792.0\n",
       "2506  Milwaukee, Wisconsin         590,157         city             1066.0\n",
       "\n",
       "[2507 rows x 4 columns]"
      ],
      "text/html": "<div>\n<style scoped>\n    .dataframe tbody tr th:only-of-type {\n        vertical-align: middle;\n    }\n\n    .dataframe tbody tr th {\n        vertical-align: top;\n    }\n\n    .dataframe thead th {\n        text-align: right;\n    }\n</style>\n<table border=\"1\" class=\"dataframe\">\n  <thead>\n    <tr style=\"text-align: right;\">\n      <th></th>\n      <th>Location</th>\n      <th>2019 Population</th>\n      <th>Town or City</th>\n      <th>2019 Rental Rates</th>\n    </tr>\n  </thead>\n  <tbody>\n    <tr>\n      <th>0</th>\n      <td>Birmingham, Alabama</td>\n      <td>209,403</td>\n      <td>city</td>\n      <td>935.0</td>\n    </tr>\n    <tr>\n      <th>1</th>\n      <td>Birmingham, Alabama</td>\n      <td>209,403</td>\n      <td>city</td>\n      <td>1328.0</td>\n    </tr>\n    <tr>\n      <th>2</th>\n      <td>Birmingham, Alabama</td>\n      <td>209,403</td>\n      <td>city</td>\n      <td>1675.0</td>\n    </tr>\n    <tr>\n      <th>3</th>\n      <td>Birmingham, Alabama</td>\n      <td>209,403</td>\n      <td>city</td>\n      <td>966.0</td>\n    </tr>\n    <tr>\n      <th>4</th>\n      <td>Birmingham, Alabama</td>\n      <td>209,403</td>\n      <td>city</td>\n      <td>1426.0</td>\n    </tr>\n    <tr>\n      <th>...</th>\n      <td>...</td>\n      <td>...</td>\n      <td>...</td>\n      <td>...</td>\n    </tr>\n    <tr>\n      <th>2502</th>\n      <td>Milwaukee, Wisconsin</td>\n      <td>590,157</td>\n      <td>city</td>\n      <td>839.0</td>\n    </tr>\n    <tr>\n      <th>2503</th>\n      <td>Milwaukee, Wisconsin</td>\n      <td>590,157</td>\n      <td>city</td>\n      <td>948.0</td>\n    </tr>\n    <tr>\n      <th>2504</th>\n      <td>Milwaukee, Wisconsin</td>\n      <td>590,157</td>\n      <td>city</td>\n      <td>973.0</td>\n    </tr>\n    <tr>\n      <th>2505</th>\n      <td>Milwaukee, Wisconsin</td>\n      <td>590,157</td>\n      <td>city</td>\n      <td>792.0</td>\n    </tr>\n    <tr>\n      <th>2506</th>\n      <td>Milwaukee, Wisconsin</td>\n      <td>590,157</td>\n      <td>city</td>\n      <td>1066.0</td>\n    </tr>\n  </tbody>\n</table>\n<p>2507 rows × 4 columns</p>\n</div>"
     },
     "metadata": {},
     "execution_count": 19
    }
   ],
   "source": [
    "# When wrangling is done here, combine tables, bin data in new columns, and push data to PG DB. \n",
    " \n",
    "# Example of Joins\n",
    "\n",
    "merged_population_rent = pd.merge(left=population, right=rent, left_on='Location', right_on='Location')\n",
    "merged_population_rent"
   ]
  },
  {
   "cell_type": "code",
   "execution_count": 20,
   "metadata": {},
   "outputs": [
    {
     "output_type": "execute_result",
     "data": {
      "text/plain": [
       "90"
      ]
     },
     "metadata": {},
     "execution_count": 20
    }
   ],
   "source": [
    "# Unique number of merged_population_rent Locations count\n",
    "\n",
    "merged_population_rent['Location'].nunique()\n",
    "\n",
    "# There are 11 unique Locations being lost from the dataset because the population and rent data sets do not have all of the same Locations"
   ]
  },
  {
   "cell_type": "code",
   "execution_count": 21,
   "metadata": {},
   "outputs": [
    {
     "output_type": "execute_result",
     "data": {
      "text/plain": [
       "                  Location 2019 Population Town or City  2019 Rental Rates  \\\n",
       "0         Phoenix, Arizona       1,680,992         city             1424.0   \n",
       "1         Phoenix, Arizona       1,680,992         city             1522.0   \n",
       "2         Phoenix, Arizona       1,680,992         city             1461.0   \n",
       "3         Phoenix, Arizona       1,680,992         city             1549.0   \n",
       "4         Phoenix, Arizona       1,680,992         city             1611.0   \n",
       "...                    ...             ...          ...                ...   \n",
       "2045  Milwaukee, Wisconsin         590,157         city              839.0   \n",
       "2046  Milwaukee, Wisconsin         590,157         city              948.0   \n",
       "2047  Milwaukee, Wisconsin         590,157         city              973.0   \n",
       "2048  Milwaukee, Wisconsin         590,157         city              792.0   \n",
       "2049  Milwaukee, Wisconsin         590,157         city             1066.0   \n",
       "\n",
       "          State       City Population Violent crime  \\\n",
       "0       Arizona    Phoenix  1,688,722        11,803   \n",
       "1       Arizona    Phoenix  1,688,722        11,803   \n",
       "2       Arizona    Phoenix  1,688,722        11,803   \n",
       "3       Arizona    Phoenix  1,688,722        11,803   \n",
       "4       Arizona    Phoenix  1,688,722        11,803   \n",
       "...         ...        ...        ...           ...   \n",
       "2045  Wisconsin  Milwaukee    590,923         7,874   \n",
       "2046  Wisconsin  Milwaukee    590,923         7,874   \n",
       "2047  Wisconsin  Milwaukee    590,923         7,874   \n",
       "2048  Wisconsin  Milwaukee    590,923         7,874   \n",
       "2049  Wisconsin  Milwaukee    590,923         7,874   \n",
       "\n",
       "      Murder and nonnegligent manslaughter   Rape Robbery Aggravated assault  \\\n",
       "0                                    131.0  1,139   3,197              7,336   \n",
       "1                                    131.0  1,139   3,197              7,336   \n",
       "2                                    131.0  1,139   3,197              7,336   \n",
       "3                                    131.0  1,139   3,197              7,336   \n",
       "4                                    131.0  1,139   3,197              7,336   \n",
       "...                                    ...    ...     ...                ...   \n",
       "2045                                  97.0    427   1,911              5,439   \n",
       "2046                                  97.0    427   1,911              5,439   \n",
       "2047                                  97.0    427   1,911              5,439   \n",
       "2048                                  97.0    427   1,911              5,439   \n",
       "2049                                  97.0    427   1,911              5,439   \n",
       "\n",
       "     Property crime Burglary Larceny-theft Motor vehicle theft Arson  \n",
       "0            55,974    9,471        39,427               7,076   201  \n",
       "1            55,974    9,471        39,427               7,076   201  \n",
       "2            55,974    9,471        39,427               7,076   201  \n",
       "3            55,974    9,471        39,427               7,076   201  \n",
       "4            55,974    9,471        39,427               7,076   201  \n",
       "...             ...      ...           ...                 ...   ...  \n",
       "2045         15,097    3,594         8,053               3,450   198  \n",
       "2046         15,097    3,594         8,053               3,450   198  \n",
       "2047         15,097    3,594         8,053               3,450   198  \n",
       "2048         15,097    3,594         8,053               3,450   198  \n",
       "2049         15,097    3,594         8,053               3,450   198  \n",
       "\n",
       "[2050 rows x 17 columns]"
      ],
      "text/html": "<div>\n<style scoped>\n    .dataframe tbody tr th:only-of-type {\n        vertical-align: middle;\n    }\n\n    .dataframe tbody tr th {\n        vertical-align: top;\n    }\n\n    .dataframe thead th {\n        text-align: right;\n    }\n</style>\n<table border=\"1\" class=\"dataframe\">\n  <thead>\n    <tr style=\"text-align: right;\">\n      <th></th>\n      <th>Location</th>\n      <th>2019 Population</th>\n      <th>Town or City</th>\n      <th>2019 Rental Rates</th>\n      <th>State</th>\n      <th>City</th>\n      <th>Population</th>\n      <th>Violent crime</th>\n      <th>Murder and nonnegligent manslaughter</th>\n      <th>Rape</th>\n      <th>Robbery</th>\n      <th>Aggravated assault</th>\n      <th>Property crime</th>\n      <th>Burglary</th>\n      <th>Larceny-theft</th>\n      <th>Motor vehicle theft</th>\n      <th>Arson</th>\n    </tr>\n  </thead>\n  <tbody>\n    <tr>\n      <th>0</th>\n      <td>Phoenix, Arizona</td>\n      <td>1,680,992</td>\n      <td>city</td>\n      <td>1424.0</td>\n      <td>Arizona</td>\n      <td>Phoenix</td>\n      <td>1,688,722</td>\n      <td>11,803</td>\n      <td>131.0</td>\n      <td>1,139</td>\n      <td>3,197</td>\n      <td>7,336</td>\n      <td>55,974</td>\n      <td>9,471</td>\n      <td>39,427</td>\n      <td>7,076</td>\n      <td>201</td>\n    </tr>\n    <tr>\n      <th>1</th>\n      <td>Phoenix, Arizona</td>\n      <td>1,680,992</td>\n      <td>city</td>\n      <td>1522.0</td>\n      <td>Arizona</td>\n      <td>Phoenix</td>\n      <td>1,688,722</td>\n      <td>11,803</td>\n      <td>131.0</td>\n      <td>1,139</td>\n      <td>3,197</td>\n      <td>7,336</td>\n      <td>55,974</td>\n      <td>9,471</td>\n      <td>39,427</td>\n      <td>7,076</td>\n      <td>201</td>\n    </tr>\n    <tr>\n      <th>2</th>\n      <td>Phoenix, Arizona</td>\n      <td>1,680,992</td>\n      <td>city</td>\n      <td>1461.0</td>\n      <td>Arizona</td>\n      <td>Phoenix</td>\n      <td>1,688,722</td>\n      <td>11,803</td>\n      <td>131.0</td>\n      <td>1,139</td>\n      <td>3,197</td>\n      <td>7,336</td>\n      <td>55,974</td>\n      <td>9,471</td>\n      <td>39,427</td>\n      <td>7,076</td>\n      <td>201</td>\n    </tr>\n    <tr>\n      <th>3</th>\n      <td>Phoenix, Arizona</td>\n      <td>1,680,992</td>\n      <td>city</td>\n      <td>1549.0</td>\n      <td>Arizona</td>\n      <td>Phoenix</td>\n      <td>1,688,722</td>\n      <td>11,803</td>\n      <td>131.0</td>\n      <td>1,139</td>\n      <td>3,197</td>\n      <td>7,336</td>\n      <td>55,974</td>\n      <td>9,471</td>\n      <td>39,427</td>\n      <td>7,076</td>\n      <td>201</td>\n    </tr>\n    <tr>\n      <th>4</th>\n      <td>Phoenix, Arizona</td>\n      <td>1,680,992</td>\n      <td>city</td>\n      <td>1611.0</td>\n      <td>Arizona</td>\n      <td>Phoenix</td>\n      <td>1,688,722</td>\n      <td>11,803</td>\n      <td>131.0</td>\n      <td>1,139</td>\n      <td>3,197</td>\n      <td>7,336</td>\n      <td>55,974</td>\n      <td>9,471</td>\n      <td>39,427</td>\n      <td>7,076</td>\n      <td>201</td>\n    </tr>\n    <tr>\n      <th>...</th>\n      <td>...</td>\n      <td>...</td>\n      <td>...</td>\n      <td>...</td>\n      <td>...</td>\n      <td>...</td>\n      <td>...</td>\n      <td>...</td>\n      <td>...</td>\n      <td>...</td>\n      <td>...</td>\n      <td>...</td>\n      <td>...</td>\n      <td>...</td>\n      <td>...</td>\n      <td>...</td>\n      <td>...</td>\n    </tr>\n    <tr>\n      <th>2045</th>\n      <td>Milwaukee, Wisconsin</td>\n      <td>590,157</td>\n      <td>city</td>\n      <td>839.0</td>\n      <td>Wisconsin</td>\n      <td>Milwaukee</td>\n      <td>590,923</td>\n      <td>7,874</td>\n      <td>97.0</td>\n      <td>427</td>\n      <td>1,911</td>\n      <td>5,439</td>\n      <td>15,097</td>\n      <td>3,594</td>\n      <td>8,053</td>\n      <td>3,450</td>\n      <td>198</td>\n    </tr>\n    <tr>\n      <th>2046</th>\n      <td>Milwaukee, Wisconsin</td>\n      <td>590,157</td>\n      <td>city</td>\n      <td>948.0</td>\n      <td>Wisconsin</td>\n      <td>Milwaukee</td>\n      <td>590,923</td>\n      <td>7,874</td>\n      <td>97.0</td>\n      <td>427</td>\n      <td>1,911</td>\n      <td>5,439</td>\n      <td>15,097</td>\n      <td>3,594</td>\n      <td>8,053</td>\n      <td>3,450</td>\n      <td>198</td>\n    </tr>\n    <tr>\n      <th>2047</th>\n      <td>Milwaukee, Wisconsin</td>\n      <td>590,157</td>\n      <td>city</td>\n      <td>973.0</td>\n      <td>Wisconsin</td>\n      <td>Milwaukee</td>\n      <td>590,923</td>\n      <td>7,874</td>\n      <td>97.0</td>\n      <td>427</td>\n      <td>1,911</td>\n      <td>5,439</td>\n      <td>15,097</td>\n      <td>3,594</td>\n      <td>8,053</td>\n      <td>3,450</td>\n      <td>198</td>\n    </tr>\n    <tr>\n      <th>2048</th>\n      <td>Milwaukee, Wisconsin</td>\n      <td>590,157</td>\n      <td>city</td>\n      <td>792.0</td>\n      <td>Wisconsin</td>\n      <td>Milwaukee</td>\n      <td>590,923</td>\n      <td>7,874</td>\n      <td>97.0</td>\n      <td>427</td>\n      <td>1,911</td>\n      <td>5,439</td>\n      <td>15,097</td>\n      <td>3,594</td>\n      <td>8,053</td>\n      <td>3,450</td>\n      <td>198</td>\n    </tr>\n    <tr>\n      <th>2049</th>\n      <td>Milwaukee, Wisconsin</td>\n      <td>590,157</td>\n      <td>city</td>\n      <td>1066.0</td>\n      <td>Wisconsin</td>\n      <td>Milwaukee</td>\n      <td>590,923</td>\n      <td>7,874</td>\n      <td>97.0</td>\n      <td>427</td>\n      <td>1,911</td>\n      <td>5,439</td>\n      <td>15,097</td>\n      <td>3,594</td>\n      <td>8,053</td>\n      <td>3,450</td>\n      <td>198</td>\n    </tr>\n  </tbody>\n</table>\n<p>2050 rows × 17 columns</p>\n</div>"
     },
     "metadata": {},
     "execution_count": 21
    }
   ],
   "source": [
    "# Merge population, rent, and crime data which can be pushed to DB. Data can also be added to this, more data preserved, and binned.\n",
    "\n",
    "merged_population_rent_crime = pd.merge(left=merged_population_rent, right=crime, left_on='Location', right_on='Location')\n",
    "merged_population_rent_crime"
   ]
  },
  {
   "cell_type": "code",
   "execution_count": 22,
   "metadata": {},
   "outputs": [
    {
     "output_type": "execute_result",
     "data": {
      "text/plain": [
       "76"
      ]
     },
     "metadata": {},
     "execution_count": 22
    }
   ],
   "source": [
    "# Unique number of merged_population_rent_crime Locations count\n",
    "\n",
    "merged_population_rent_crime['Location'].nunique()\n",
    "\n",
    "# There are 14 more unique Locations being lost from the dataset because the population and rent data sets do not have all of the same Locations"
   ]
  },
  {
   "cell_type": "code",
   "execution_count": 23,
   "metadata": {},
   "outputs": [
    {
     "output_type": "execute_result",
     "data": {
      "text/plain": [
       "Location                                 object\n",
       "2019 Population                          object\n",
       "Town or City                             object\n",
       "2019 Rental Rates                       float64\n",
       "State                                    object\n",
       "City                                     object\n",
       "Population                               object\n",
       "Violent crime                            object\n",
       "Murder and nonnegligent manslaughter    float64\n",
       "Rape                                     object\n",
       "Robbery                                  object\n",
       "Aggravated assault                       object\n",
       "Property crime                           object\n",
       "Burglary                                 object\n",
       "Larceny-theft                            object\n",
       "Motor vehicle theft                      object\n",
       "Arson                                    object\n",
       "dtype: object"
      ]
     },
     "metadata": {},
     "execution_count": 23
    }
   ],
   "source": [
    "# Check data types before binning\n",
    "\n",
    "merged_population_rent_crime.dtypes"
   ]
  },
  {
   "cell_type": "code",
   "execution_count": 24,
   "metadata": {},
   "outputs": [
    {
     "output_type": "execute_result",
     "data": {
      "text/plain": [
       "                  Location 2019 Population Town or City  2019 Rental Rates  \\\n",
       "0         Phoenix, Arizona         1680992         city             1424.0   \n",
       "1         Phoenix, Arizona         1680992         city             1522.0   \n",
       "2         Phoenix, Arizona         1680992         city             1461.0   \n",
       "3         Phoenix, Arizona         1680992         city             1549.0   \n",
       "4         Phoenix, Arizona         1680992         city             1611.0   \n",
       "...                    ...             ...          ...                ...   \n",
       "2045  Milwaukee, Wisconsin          590157         city              839.0   \n",
       "2046  Milwaukee, Wisconsin          590157         city              948.0   \n",
       "2047  Milwaukee, Wisconsin          590157         city              973.0   \n",
       "2048  Milwaukee, Wisconsin          590157         city              792.0   \n",
       "2049  Milwaukee, Wisconsin          590157         city             1066.0   \n",
       "\n",
       "          State       City Violent crime  \\\n",
       "0       Arizona    Phoenix         11803   \n",
       "1       Arizona    Phoenix         11803   \n",
       "2       Arizona    Phoenix         11803   \n",
       "3       Arizona    Phoenix         11803   \n",
       "4       Arizona    Phoenix         11803   \n",
       "...         ...        ...           ...   \n",
       "2045  Wisconsin  Milwaukee          7874   \n",
       "2046  Wisconsin  Milwaukee          7874   \n",
       "2047  Wisconsin  Milwaukee          7874   \n",
       "2048  Wisconsin  Milwaukee          7874   \n",
       "2049  Wisconsin  Milwaukee          7874   \n",
       "\n",
       "      Murder and nonnegligent manslaughter  Rape Robbery Aggravated assault  \\\n",
       "0                                    131.0  1139    3197               7336   \n",
       "1                                    131.0  1139    3197               7336   \n",
       "2                                    131.0  1139    3197               7336   \n",
       "3                                    131.0  1139    3197               7336   \n",
       "4                                    131.0  1139    3197               7336   \n",
       "...                                    ...   ...     ...                ...   \n",
       "2045                                  97.0   427    1911               5439   \n",
       "2046                                  97.0   427    1911               5439   \n",
       "2047                                  97.0   427    1911               5439   \n",
       "2048                                  97.0   427    1911               5439   \n",
       "2049                                  97.0   427    1911               5439   \n",
       "\n",
       "     Property crime Burglary Larceny-theft Motor vehicle theft Arson  \\\n",
       "0             55974     9471         39427                7076   201   \n",
       "1             55974     9471         39427                7076   201   \n",
       "2             55974     9471         39427                7076   201   \n",
       "3             55974     9471         39427                7076   201   \n",
       "4             55974     9471         39427                7076   201   \n",
       "...             ...      ...           ...                 ...   ...   \n",
       "2045          15097     3594          8053                3450   198   \n",
       "2046          15097     3594          8053                3450   198   \n",
       "2047          15097     3594          8053                3450   198   \n",
       "2048          15097     3594          8053                3450   198   \n",
       "2049          15097     3594          8053                3450   198   \n",
       "\n",
       "     Crime Population  \n",
       "0             1688722  \n",
       "1             1688722  \n",
       "2             1688722  \n",
       "3             1688722  \n",
       "4             1688722  \n",
       "...               ...  \n",
       "2045           590923  \n",
       "2046           590923  \n",
       "2047           590923  \n",
       "2048           590923  \n",
       "2049           590923  \n",
       "\n",
       "[2050 rows x 17 columns]"
      ],
      "text/html": "<div>\n<style scoped>\n    .dataframe tbody tr th:only-of-type {\n        vertical-align: middle;\n    }\n\n    .dataframe tbody tr th {\n        vertical-align: top;\n    }\n\n    .dataframe thead th {\n        text-align: right;\n    }\n</style>\n<table border=\"1\" class=\"dataframe\">\n  <thead>\n    <tr style=\"text-align: right;\">\n      <th></th>\n      <th>Location</th>\n      <th>2019 Population</th>\n      <th>Town or City</th>\n      <th>2019 Rental Rates</th>\n      <th>State</th>\n      <th>City</th>\n      <th>Violent crime</th>\n      <th>Murder and nonnegligent manslaughter</th>\n      <th>Rape</th>\n      <th>Robbery</th>\n      <th>Aggravated assault</th>\n      <th>Property crime</th>\n      <th>Burglary</th>\n      <th>Larceny-theft</th>\n      <th>Motor vehicle theft</th>\n      <th>Arson</th>\n      <th>Crime Population</th>\n    </tr>\n  </thead>\n  <tbody>\n    <tr>\n      <th>0</th>\n      <td>Phoenix, Arizona</td>\n      <td>1680992</td>\n      <td>city</td>\n      <td>1424.0</td>\n      <td>Arizona</td>\n      <td>Phoenix</td>\n      <td>11803</td>\n      <td>131.0</td>\n      <td>1139</td>\n      <td>3197</td>\n      <td>7336</td>\n      <td>55974</td>\n      <td>9471</td>\n      <td>39427</td>\n      <td>7076</td>\n      <td>201</td>\n      <td>1688722</td>\n    </tr>\n    <tr>\n      <th>1</th>\n      <td>Phoenix, Arizona</td>\n      <td>1680992</td>\n      <td>city</td>\n      <td>1522.0</td>\n      <td>Arizona</td>\n      <td>Phoenix</td>\n      <td>11803</td>\n      <td>131.0</td>\n      <td>1139</td>\n      <td>3197</td>\n      <td>7336</td>\n      <td>55974</td>\n      <td>9471</td>\n      <td>39427</td>\n      <td>7076</td>\n      <td>201</td>\n      <td>1688722</td>\n    </tr>\n    <tr>\n      <th>2</th>\n      <td>Phoenix, Arizona</td>\n      <td>1680992</td>\n      <td>city</td>\n      <td>1461.0</td>\n      <td>Arizona</td>\n      <td>Phoenix</td>\n      <td>11803</td>\n      <td>131.0</td>\n      <td>1139</td>\n      <td>3197</td>\n      <td>7336</td>\n      <td>55974</td>\n      <td>9471</td>\n      <td>39427</td>\n      <td>7076</td>\n      <td>201</td>\n      <td>1688722</td>\n    </tr>\n    <tr>\n      <th>3</th>\n      <td>Phoenix, Arizona</td>\n      <td>1680992</td>\n      <td>city</td>\n      <td>1549.0</td>\n      <td>Arizona</td>\n      <td>Phoenix</td>\n      <td>11803</td>\n      <td>131.0</td>\n      <td>1139</td>\n      <td>3197</td>\n      <td>7336</td>\n      <td>55974</td>\n      <td>9471</td>\n      <td>39427</td>\n      <td>7076</td>\n      <td>201</td>\n      <td>1688722</td>\n    </tr>\n    <tr>\n      <th>4</th>\n      <td>Phoenix, Arizona</td>\n      <td>1680992</td>\n      <td>city</td>\n      <td>1611.0</td>\n      <td>Arizona</td>\n      <td>Phoenix</td>\n      <td>11803</td>\n      <td>131.0</td>\n      <td>1139</td>\n      <td>3197</td>\n      <td>7336</td>\n      <td>55974</td>\n      <td>9471</td>\n      <td>39427</td>\n      <td>7076</td>\n      <td>201</td>\n      <td>1688722</td>\n    </tr>\n    <tr>\n      <th>...</th>\n      <td>...</td>\n      <td>...</td>\n      <td>...</td>\n      <td>...</td>\n      <td>...</td>\n      <td>...</td>\n      <td>...</td>\n      <td>...</td>\n      <td>...</td>\n      <td>...</td>\n      <td>...</td>\n      <td>...</td>\n      <td>...</td>\n      <td>...</td>\n      <td>...</td>\n      <td>...</td>\n      <td>...</td>\n    </tr>\n    <tr>\n      <th>2045</th>\n      <td>Milwaukee, Wisconsin</td>\n      <td>590157</td>\n      <td>city</td>\n      <td>839.0</td>\n      <td>Wisconsin</td>\n      <td>Milwaukee</td>\n      <td>7874</td>\n      <td>97.0</td>\n      <td>427</td>\n      <td>1911</td>\n      <td>5439</td>\n      <td>15097</td>\n      <td>3594</td>\n      <td>8053</td>\n      <td>3450</td>\n      <td>198</td>\n      <td>590923</td>\n    </tr>\n    <tr>\n      <th>2046</th>\n      <td>Milwaukee, Wisconsin</td>\n      <td>590157</td>\n      <td>city</td>\n      <td>948.0</td>\n      <td>Wisconsin</td>\n      <td>Milwaukee</td>\n      <td>7874</td>\n      <td>97.0</td>\n      <td>427</td>\n      <td>1911</td>\n      <td>5439</td>\n      <td>15097</td>\n      <td>3594</td>\n      <td>8053</td>\n      <td>3450</td>\n      <td>198</td>\n      <td>590923</td>\n    </tr>\n    <tr>\n      <th>2047</th>\n      <td>Milwaukee, Wisconsin</td>\n      <td>590157</td>\n      <td>city</td>\n      <td>973.0</td>\n      <td>Wisconsin</td>\n      <td>Milwaukee</td>\n      <td>7874</td>\n      <td>97.0</td>\n      <td>427</td>\n      <td>1911</td>\n      <td>5439</td>\n      <td>15097</td>\n      <td>3594</td>\n      <td>8053</td>\n      <td>3450</td>\n      <td>198</td>\n      <td>590923</td>\n    </tr>\n    <tr>\n      <th>2048</th>\n      <td>Milwaukee, Wisconsin</td>\n      <td>590157</td>\n      <td>city</td>\n      <td>792.0</td>\n      <td>Wisconsin</td>\n      <td>Milwaukee</td>\n      <td>7874</td>\n      <td>97.0</td>\n      <td>427</td>\n      <td>1911</td>\n      <td>5439</td>\n      <td>15097</td>\n      <td>3594</td>\n      <td>8053</td>\n      <td>3450</td>\n      <td>198</td>\n      <td>590923</td>\n    </tr>\n    <tr>\n      <th>2049</th>\n      <td>Milwaukee, Wisconsin</td>\n      <td>590157</td>\n      <td>city</td>\n      <td>1066.0</td>\n      <td>Wisconsin</td>\n      <td>Milwaukee</td>\n      <td>7874</td>\n      <td>97.0</td>\n      <td>427</td>\n      <td>1911</td>\n      <td>5439</td>\n      <td>15097</td>\n      <td>3594</td>\n      <td>8053</td>\n      <td>3450</td>\n      <td>198</td>\n      <td>590923</td>\n    </tr>\n  </tbody>\n</table>\n<p>2050 rows × 17 columns</p>\n</div>"
     },
     "metadata": {},
     "execution_count": 24
    }
   ],
   "source": [
    "# Remove commas from columns and change data type to floats\n",
    "\n",
    "merged_population_rent_crime['2019 Population'] = merged_population_rent_crime['2019 Population'].replace(',','', regex=True)\n",
    "merged_population_rent_crime['Crime Population'] = merged_population_rent_crime['Population'].replace(',','', regex=True)\n",
    "merged_population_rent_crime = merged_population_rent_crime.drop(['Population'], axis=1)\n",
    "merged_population_rent_crime['Violent crime'] = merged_population_rent_crime['Violent crime'].replace(',','', regex=True)\n",
    "merged_population_rent_crime['Murder and nonnegligent manslaughter'] = merged_population_rent_crime['Murder and nonnegligent manslaughter'].replace(',','', regex=True)\n",
    "merged_population_rent_crime['Rape'] = merged_population_rent_crime['Rape'].replace(',','', regex=True)\n",
    "merged_population_rent_crime['Robbery'] = merged_population_rent_crime['Robbery'].replace(',','', regex=True)\n",
    "merged_population_rent_crime['Aggravated assault'] = merged_population_rent_crime['Aggravated assault'].replace(',','', regex=True)\n",
    "merged_population_rent_crime['Property crime'] = merged_population_rent_crime['Property crime'].replace(',','', regex=True)\n",
    "merged_population_rent_crime['Burglary'] = merged_population_rent_crime['Burglary'].replace(',','', regex=True)\n",
    "merged_population_rent_crime['Larceny-theft'] = merged_population_rent_crime['Larceny-theft'].replace(',','', regex=True)\n",
    "merged_population_rent_crime['Motor vehicle theft'] = merged_population_rent_crime['Motor vehicle theft'].replace(',','', regex=True)\n",
    "merged_population_rent_crime['Arson'] = merged_population_rent_crime['Arson'].replace(',','', regex=True)\n",
    "\n",
    "merged_population_rent_crime"
   ]
  },
  {
   "cell_type": "code",
   "execution_count": 25,
   "metadata": {},
   "outputs": [
    {
     "output_type": "execute_result",
     "data": {
      "text/plain": [
       "440"
      ]
     },
     "metadata": {},
     "execution_count": 25
    }
   ],
   "source": [
    "# Check for null values\n",
    "\n",
    "merged_population_rent_crime.isnull().sum().sum()"
   ]
  },
  {
   "cell_type": "code",
   "execution_count": 26,
   "metadata": {},
   "outputs": [
    {
     "output_type": "execute_result",
     "data": {
      "text/plain": [
       "(1626, 17)"
      ]
     },
     "metadata": {},
     "execution_count": 26
    }
   ],
   "source": [
    "# Drop all null values for now, can return to preserve rows by filling (fillna(), replace() and interpolate())\n",
    "\n",
    "merged_population_rent_crime = merged_population_rent_crime.dropna()\n",
    "merged_population_rent_crime.shape"
   ]
  },
  {
   "cell_type": "code",
   "execution_count": 27,
   "metadata": {},
   "outputs": [],
   "source": [
    "# Change datatype to float or int, int looks better with no decimal and trailing 0\n",
    "\n",
    "#merged_population_rent_crime['2019 Population'].astype('float64')\n",
    "#merged_population_rent_crime['2019 Rental Rates'].astype('float64')\n",
    "#merged_population_rent_crime['Population'].astype('float64')\n",
    "#merged_population_rent_crime['Violent crime'].astype('float64')\n",
    "#merged_population_rent_crime['Murder and nonnegligent manslaughter'].astype('float64')\n",
    "#merged_population_rent_crime['Rape'].astype('float64')\n",
    "#merged_population_rent_crime['Robbery'].astype('float64')\n",
    "#merged_population_rent_crime['Aggravated assault'].astype('float64')\n",
    "#merged_population_rent_crime['Property crime'].astype('float64')\n",
    "#merged_population_rent_crime['Burglary'].astype('float64')\n",
    "#merged_population_rent_crime['Larceny-theft'].astype('float64')\n",
    "#merged_population_rent_crime['Motor vehicle theft'].astype('float64')\n",
    "#merged_population_rent_crime['Arson'].astype('float64')\n",
    "\n",
    "merged_population_rent_crime['2019 Population'] = merged_population_rent_crime['2019 Population'].astype('int')\n",
    "merged_population_rent_crime['2019 Rental Rates'] = merged_population_rent_crime['2019 Rental Rates'].astype('int') # ValueError: Cannot convert non-finite values (NA or inf) to integer\n",
    "#merged_population_rent_crime['Population'] = merged_population_rent_crime['Population'].astype('int')\n",
    "merged_population_rent_crime['Violent crime'] = merged_population_rent_crime['Violent crime'].astype('int')\n",
    "merged_population_rent_crime['Murder and nonnegligent manslaughter'] = merged_population_rent_crime['Murder and nonnegligent manslaughter'].astype('int')\n",
    "merged_population_rent_crime['Rape'] = merged_population_rent_crime['Rape'].astype('int')\n",
    "merged_population_rent_crime['Robbery'] = merged_population_rent_crime['Robbery'].astype('int')\n",
    "merged_population_rent_crime['Aggravated assault'] = merged_population_rent_crime['Aggravated assault'].astype('int')\n",
    "merged_population_rent_crime['Property crime'] = merged_population_rent_crime['Property crime'].astype('int') # ValueError: cannot convert float NaN to integer\n",
    "merged_population_rent_crime['Burglary'] = merged_population_rent_crime['Burglary'].astype('int') # ValueError: cannot convert float NaN to integer\n",
    "merged_population_rent_crime['Larceny-theft'] = merged_population_rent_crime['Larceny-theft'].astype('int')\n",
    "merged_population_rent_crime['Motor vehicle theft'] = merged_population_rent_crime['Motor vehicle theft'].astype('int')\n",
    "merged_population_rent_crime['Arson'] = merged_population_rent_crime['Arson'].astype('int') # ValueError: cannot convert float NaN to integer\n",
    "\n",
    "# These columns previously had NA or NaN values which had to be dropped. These columns can be revisited to preserve more data.\n",
    "\n",
    "#merged_population_rent_crime['2019 Rental Rates']\n",
    "#merged_population_rent_crime['Property crime']\n",
    "#merged_population_rent_crime['Burglary']\n",
    "#merged_population_rent_crime['Arson']"
   ]
  },
  {
   "cell_type": "code",
   "execution_count": 28,
   "metadata": {},
   "outputs": [
    {
     "output_type": "execute_result",
     "data": {
      "text/plain": [
       "Location                                object\n",
       "2019 Population                          int32\n",
       "Town or City                            object\n",
       "2019 Rental Rates                        int32\n",
       "State                                   object\n",
       "City                                    object\n",
       "Violent crime                            int32\n",
       "Murder and nonnegligent manslaughter     int32\n",
       "Rape                                     int32\n",
       "Robbery                                  int32\n",
       "Aggravated assault                       int32\n",
       "Property crime                           int32\n",
       "Burglary                                 int32\n",
       "Larceny-theft                            int32\n",
       "Motor vehicle theft                      int32\n",
       "Arson                                    int32\n",
       "Crime Population                        object\n",
       "dtype: object"
      ]
     },
     "metadata": {},
     "execution_count": 28
    }
   ],
   "source": [
    "# Check data types again before binning, since changing\n",
    "\n",
    "merged_population_rent_crime.dtypes"
   ]
  },
  {
   "cell_type": "code",
   "execution_count": 29,
   "metadata": {},
   "outputs": [
    {
     "output_type": "execute_result",
     "data": {
      "text/plain": [
       "                  Location  2019 Population Town or City  2019 Rental Rates  \\\n",
       "0         Phoenix, Arizona          1680992         city               1424   \n",
       "1         Phoenix, Arizona          1680992         city               1522   \n",
       "2         Phoenix, Arizona          1680992         city               1461   \n",
       "3         Phoenix, Arizona          1680992         city               1549   \n",
       "4         Phoenix, Arizona          1680992         city               1611   \n",
       "...                    ...              ...          ...                ...   \n",
       "2045  Milwaukee, Wisconsin           590157         city                839   \n",
       "2046  Milwaukee, Wisconsin           590157         city                948   \n",
       "2047  Milwaukee, Wisconsin           590157         city                973   \n",
       "2048  Milwaukee, Wisconsin           590157         city                792   \n",
       "2049  Milwaukee, Wisconsin           590157         city               1066   \n",
       "\n",
       "          State       City  Violent crime  \\\n",
       "0       Arizona    Phoenix          11803   \n",
       "1       Arizona    Phoenix          11803   \n",
       "2       Arizona    Phoenix          11803   \n",
       "3       Arizona    Phoenix          11803   \n",
       "4       Arizona    Phoenix          11803   \n",
       "...         ...        ...            ...   \n",
       "2045  Wisconsin  Milwaukee           7874   \n",
       "2046  Wisconsin  Milwaukee           7874   \n",
       "2047  Wisconsin  Milwaukee           7874   \n",
       "2048  Wisconsin  Milwaukee           7874   \n",
       "2049  Wisconsin  Milwaukee           7874   \n",
       "\n",
       "      Murder and nonnegligent manslaughter  Rape  Robbery  Aggravated assault  \\\n",
       "0                                      131  1139     3197                7336   \n",
       "1                                      131  1139     3197                7336   \n",
       "2                                      131  1139     3197                7336   \n",
       "3                                      131  1139     3197                7336   \n",
       "4                                      131  1139     3197                7336   \n",
       "...                                    ...   ...      ...                 ...   \n",
       "2045                                    97   427     1911                5439   \n",
       "2046                                    97   427     1911                5439   \n",
       "2047                                    97   427     1911                5439   \n",
       "2048                                    97   427     1911                5439   \n",
       "2049                                    97   427     1911                5439   \n",
       "\n",
       "      Property crime  Burglary  Larceny-theft  Motor vehicle theft  Arson  \\\n",
       "0              55974      9471          39427                 7076    201   \n",
       "1              55974      9471          39427                 7076    201   \n",
       "2              55974      9471          39427                 7076    201   \n",
       "3              55974      9471          39427                 7076    201   \n",
       "4              55974      9471          39427                 7076    201   \n",
       "...              ...       ...            ...                  ...    ...   \n",
       "2045           15097      3594           8053                 3450    198   \n",
       "2046           15097      3594           8053                 3450    198   \n",
       "2047           15097      3594           8053                 3450    198   \n",
       "2048           15097      3594           8053                 3450    198   \n",
       "2049           15097      3594           8053                 3450    198   \n",
       "\n",
       "     Crime Population   Crime Rate  \n",
       "0             1688722  8075.886143  \n",
       "1             1688722  8075.886143  \n",
       "2             1688722  8075.886143  \n",
       "3             1688722  8075.886143  \n",
       "4             1688722  8075.886143  \n",
       "...               ...          ...  \n",
       "2045           590923  7818.258531  \n",
       "2046           590923  7818.258531  \n",
       "2047           590923  7818.258531  \n",
       "2048           590923  7818.258531  \n",
       "2049           590923  7818.258531  \n",
       "\n",
       "[1626 rows x 18 columns]"
      ],
      "text/html": "<div>\n<style scoped>\n    .dataframe tbody tr th:only-of-type {\n        vertical-align: middle;\n    }\n\n    .dataframe tbody tr th {\n        vertical-align: top;\n    }\n\n    .dataframe thead th {\n        text-align: right;\n    }\n</style>\n<table border=\"1\" class=\"dataframe\">\n  <thead>\n    <tr style=\"text-align: right;\">\n      <th></th>\n      <th>Location</th>\n      <th>2019 Population</th>\n      <th>Town or City</th>\n      <th>2019 Rental Rates</th>\n      <th>State</th>\n      <th>City</th>\n      <th>Violent crime</th>\n      <th>Murder and nonnegligent manslaughter</th>\n      <th>Rape</th>\n      <th>Robbery</th>\n      <th>Aggravated assault</th>\n      <th>Property crime</th>\n      <th>Burglary</th>\n      <th>Larceny-theft</th>\n      <th>Motor vehicle theft</th>\n      <th>Arson</th>\n      <th>Crime Population</th>\n      <th>Crime Rate</th>\n    </tr>\n  </thead>\n  <tbody>\n    <tr>\n      <th>0</th>\n      <td>Phoenix, Arizona</td>\n      <td>1680992</td>\n      <td>city</td>\n      <td>1424</td>\n      <td>Arizona</td>\n      <td>Phoenix</td>\n      <td>11803</td>\n      <td>131</td>\n      <td>1139</td>\n      <td>3197</td>\n      <td>7336</td>\n      <td>55974</td>\n      <td>9471</td>\n      <td>39427</td>\n      <td>7076</td>\n      <td>201</td>\n      <td>1688722</td>\n      <td>8075.886143</td>\n    </tr>\n    <tr>\n      <th>1</th>\n      <td>Phoenix, Arizona</td>\n      <td>1680992</td>\n      <td>city</td>\n      <td>1522</td>\n      <td>Arizona</td>\n      <td>Phoenix</td>\n      <td>11803</td>\n      <td>131</td>\n      <td>1139</td>\n      <td>3197</td>\n      <td>7336</td>\n      <td>55974</td>\n      <td>9471</td>\n      <td>39427</td>\n      <td>7076</td>\n      <td>201</td>\n      <td>1688722</td>\n      <td>8075.886143</td>\n    </tr>\n    <tr>\n      <th>2</th>\n      <td>Phoenix, Arizona</td>\n      <td>1680992</td>\n      <td>city</td>\n      <td>1461</td>\n      <td>Arizona</td>\n      <td>Phoenix</td>\n      <td>11803</td>\n      <td>131</td>\n      <td>1139</td>\n      <td>3197</td>\n      <td>7336</td>\n      <td>55974</td>\n      <td>9471</td>\n      <td>39427</td>\n      <td>7076</td>\n      <td>201</td>\n      <td>1688722</td>\n      <td>8075.886143</td>\n    </tr>\n    <tr>\n      <th>3</th>\n      <td>Phoenix, Arizona</td>\n      <td>1680992</td>\n      <td>city</td>\n      <td>1549</td>\n      <td>Arizona</td>\n      <td>Phoenix</td>\n      <td>11803</td>\n      <td>131</td>\n      <td>1139</td>\n      <td>3197</td>\n      <td>7336</td>\n      <td>55974</td>\n      <td>9471</td>\n      <td>39427</td>\n      <td>7076</td>\n      <td>201</td>\n      <td>1688722</td>\n      <td>8075.886143</td>\n    </tr>\n    <tr>\n      <th>4</th>\n      <td>Phoenix, Arizona</td>\n      <td>1680992</td>\n      <td>city</td>\n      <td>1611</td>\n      <td>Arizona</td>\n      <td>Phoenix</td>\n      <td>11803</td>\n      <td>131</td>\n      <td>1139</td>\n      <td>3197</td>\n      <td>7336</td>\n      <td>55974</td>\n      <td>9471</td>\n      <td>39427</td>\n      <td>7076</td>\n      <td>201</td>\n      <td>1688722</td>\n      <td>8075.886143</td>\n    </tr>\n    <tr>\n      <th>...</th>\n      <td>...</td>\n      <td>...</td>\n      <td>...</td>\n      <td>...</td>\n      <td>...</td>\n      <td>...</td>\n      <td>...</td>\n      <td>...</td>\n      <td>...</td>\n      <td>...</td>\n      <td>...</td>\n      <td>...</td>\n      <td>...</td>\n      <td>...</td>\n      <td>...</td>\n      <td>...</td>\n      <td>...</td>\n      <td>...</td>\n    </tr>\n    <tr>\n      <th>2045</th>\n      <td>Milwaukee, Wisconsin</td>\n      <td>590157</td>\n      <td>city</td>\n      <td>839</td>\n      <td>Wisconsin</td>\n      <td>Milwaukee</td>\n      <td>7874</td>\n      <td>97</td>\n      <td>427</td>\n      <td>1911</td>\n      <td>5439</td>\n      <td>15097</td>\n      <td>3594</td>\n      <td>8053</td>\n      <td>3450</td>\n      <td>198</td>\n      <td>590923</td>\n      <td>7818.258531</td>\n    </tr>\n    <tr>\n      <th>2046</th>\n      <td>Milwaukee, Wisconsin</td>\n      <td>590157</td>\n      <td>city</td>\n      <td>948</td>\n      <td>Wisconsin</td>\n      <td>Milwaukee</td>\n      <td>7874</td>\n      <td>97</td>\n      <td>427</td>\n      <td>1911</td>\n      <td>5439</td>\n      <td>15097</td>\n      <td>3594</td>\n      <td>8053</td>\n      <td>3450</td>\n      <td>198</td>\n      <td>590923</td>\n      <td>7818.258531</td>\n    </tr>\n    <tr>\n      <th>2047</th>\n      <td>Milwaukee, Wisconsin</td>\n      <td>590157</td>\n      <td>city</td>\n      <td>973</td>\n      <td>Wisconsin</td>\n      <td>Milwaukee</td>\n      <td>7874</td>\n      <td>97</td>\n      <td>427</td>\n      <td>1911</td>\n      <td>5439</td>\n      <td>15097</td>\n      <td>3594</td>\n      <td>8053</td>\n      <td>3450</td>\n      <td>198</td>\n      <td>590923</td>\n      <td>7818.258531</td>\n    </tr>\n    <tr>\n      <th>2048</th>\n      <td>Milwaukee, Wisconsin</td>\n      <td>590157</td>\n      <td>city</td>\n      <td>792</td>\n      <td>Wisconsin</td>\n      <td>Milwaukee</td>\n      <td>7874</td>\n      <td>97</td>\n      <td>427</td>\n      <td>1911</td>\n      <td>5439</td>\n      <td>15097</td>\n      <td>3594</td>\n      <td>8053</td>\n      <td>3450</td>\n      <td>198</td>\n      <td>590923</td>\n      <td>7818.258531</td>\n    </tr>\n    <tr>\n      <th>2049</th>\n      <td>Milwaukee, Wisconsin</td>\n      <td>590157</td>\n      <td>city</td>\n      <td>1066</td>\n      <td>Wisconsin</td>\n      <td>Milwaukee</td>\n      <td>7874</td>\n      <td>97</td>\n      <td>427</td>\n      <td>1911</td>\n      <td>5439</td>\n      <td>15097</td>\n      <td>3594</td>\n      <td>8053</td>\n      <td>3450</td>\n      <td>198</td>\n      <td>590923</td>\n      <td>7818.258531</td>\n    </tr>\n  </tbody>\n</table>\n<p>1626 rows × 18 columns</p>\n</div>"
     },
     "metadata": {},
     "execution_count": 29
    }
   ],
   "source": [
    "# Combine crime data into new column and divide by population * 1000 (This is how crime rate is calculated)\n",
    "\n",
    "merged_population_rent_crime['Crime Rate']=merged_population_rent_crime.iloc[:,-11:].sum(axis=1)/merged_population_rent_crime['2019 Population']*100000\n",
    "\n",
    "#merged_population_rent_crime['Crime Rate'] = merged_population_rent_crime['Violent crime'] + merged_population_rent_crime['Murder and nonnegligent manslaughter'] + #merged_population_rent_crime['Rape'] + merged_population_rent_crime + merged_population_rent_crime['Robbery'] + ['Aggravated assault'] + merged_population_rent_crime['Property #crime'] + merged_population_rent_crime['Burglary'] + merged_population_rent_crime['Larceny-theft'] + merged_population_rent_crime['Motor vehicle theft'] + #merged_population_rent_crime['Arson']/merged_population_rent_crime['Population']*100000\n",
    "\n",
    "#merged_population_rent_crime['Crime Rate'] = total_crimes/merged_population_rent_crime['Population']*100000\n",
    "\n",
    "merged_population_rent_crime"
   ]
  },
  {
   "cell_type": "code",
   "execution_count": 30,
   "metadata": {},
   "outputs": [
    {
     "output_type": "execute_result",
     "data": {
      "text/plain": [
       "count    1.626000e+03\n",
       "mean     8.890544e+05\n",
       "std      7.568980e+05\n",
       "min      4.927100e+04\n",
       "25%      3.313600e+05\n",
       "50%      6.547410e+05\n",
       "75%      1.021795e+06\n",
       "max      2.693976e+06\n",
       "Name: 2019 Population, dtype: float64"
      ]
     },
     "metadata": {},
     "execution_count": 30
    }
   ],
   "source": [
    "# Describe the data to begin binning data with pandas cut or qcut\n",
    "\n",
    "merged_population_rent_crime['2019 Population'].describe()"
   ]
  },
  {
   "cell_type": "code",
   "execution_count": 31,
   "metadata": {},
   "outputs": [
    {
     "output_type": "execute_result",
     "data": {
      "text/plain": [
       "0       (881549.0, 1680992.0]\n",
       "1       (881549.0, 1680992.0]\n",
       "2       (881549.0, 1680992.0]\n",
       "3       (881549.0, 1680992.0]\n",
       "4       (881549.0, 1680992.0]\n",
       "                ...          \n",
       "2045     (399700.0, 654741.0]\n",
       "2046     (399700.0, 654741.0]\n",
       "2047     (399700.0, 654741.0]\n",
       "2048     (399700.0, 654741.0]\n",
       "2049     (399700.0, 654741.0]\n",
       "Name: 2019 Population, Length: 1626, dtype: category\n",
       "Categories (6, interval[float64]): [(49270.999, 259680.0] < (259680.0, 399700.0] < (399700.0, 654741.0] < (654741.0, 881549.0] < (881549.0, 1680992.0] < (1680992.0, 2693976.0]]"
      ]
     },
     "metadata": {},
     "execution_count": 31
    }
   ],
   "source": [
    "# Quartile cut the data, to see how it is evenly distributed\n",
    "\n",
    "pd.qcut(merged_population_rent_crime['2019 Population'], q=6)"
   ]
  },
  {
   "cell_type": "code",
   "execution_count": 32,
   "metadata": {},
   "outputs": [
    {
     "output_type": "execute_result",
     "data": {
      "text/plain": [
       "                  Location  2019 Population Town or City  2019 Rental Rates  \\\n",
       "0         Phoenix, Arizona          1680992         city               1424   \n",
       "1         Phoenix, Arizona          1680992         city               1522   \n",
       "2         Phoenix, Arizona          1680992         city               1461   \n",
       "3         Phoenix, Arizona          1680992         city               1549   \n",
       "4         Phoenix, Arizona          1680992         city               1611   \n",
       "...                    ...              ...          ...                ...   \n",
       "2045  Milwaukee, Wisconsin           590157         city                839   \n",
       "2046  Milwaukee, Wisconsin           590157         city                948   \n",
       "2047  Milwaukee, Wisconsin           590157         city                973   \n",
       "2048  Milwaukee, Wisconsin           590157         city                792   \n",
       "2049  Milwaukee, Wisconsin           590157         city               1066   \n",
       "\n",
       "          State       City  Violent crime  \\\n",
       "0       Arizona    Phoenix          11803   \n",
       "1       Arizona    Phoenix          11803   \n",
       "2       Arizona    Phoenix          11803   \n",
       "3       Arizona    Phoenix          11803   \n",
       "4       Arizona    Phoenix          11803   \n",
       "...         ...        ...            ...   \n",
       "2045  Wisconsin  Milwaukee           7874   \n",
       "2046  Wisconsin  Milwaukee           7874   \n",
       "2047  Wisconsin  Milwaukee           7874   \n",
       "2048  Wisconsin  Milwaukee           7874   \n",
       "2049  Wisconsin  Milwaukee           7874   \n",
       "\n",
       "      Murder and nonnegligent manslaughter  Rape  Robbery  Aggravated assault  \\\n",
       "0                                      131  1139     3197                7336   \n",
       "1                                      131  1139     3197                7336   \n",
       "2                                      131  1139     3197                7336   \n",
       "3                                      131  1139     3197                7336   \n",
       "4                                      131  1139     3197                7336   \n",
       "...                                    ...   ...      ...                 ...   \n",
       "2045                                    97   427     1911                5439   \n",
       "2046                                    97   427     1911                5439   \n",
       "2047                                    97   427     1911                5439   \n",
       "2048                                    97   427     1911                5439   \n",
       "2049                                    97   427     1911                5439   \n",
       "\n",
       "      Property crime  Burglary  Larceny-theft  Motor vehicle theft  Arson  \\\n",
       "0              55974      9471          39427                 7076    201   \n",
       "1              55974      9471          39427                 7076    201   \n",
       "2              55974      9471          39427                 7076    201   \n",
       "3              55974      9471          39427                 7076    201   \n",
       "4              55974      9471          39427                 7076    201   \n",
       "...              ...       ...            ...                  ...    ...   \n",
       "2045           15097      3594           8053                 3450    198   \n",
       "2046           15097      3594           8053                 3450    198   \n",
       "2047           15097      3594           8053                 3450    198   \n",
       "2048           15097      3594           8053                 3450    198   \n",
       "2049           15097      3594           8053                 3450    198   \n",
       "\n",
       "     Crime Population   Crime Rate Urban Population by City Size Categories  \\\n",
       "0             1688722  8075.886143                  Large Metropolitan Area   \n",
       "1             1688722  8075.886143                  Large Metropolitan Area   \n",
       "2             1688722  8075.886143                  Large Metropolitan Area   \n",
       "3             1688722  8075.886143                  Large Metropolitan Area   \n",
       "4             1688722  8075.886143                  Large Metropolitan Area   \n",
       "...               ...          ...                                      ...   \n",
       "2045           590923  7818.258531                        Metropolitan Area   \n",
       "2046           590923  7818.258531                        Metropolitan Area   \n",
       "2047           590923  7818.258531                        Metropolitan Area   \n",
       "2048           590923  7818.258531                        Metropolitan Area   \n",
       "2049           590923  7818.258531                        Metropolitan Area   \n",
       "\n",
       "     Urban Population by City Size Ranges  \n",
       "0                             1,500,000 <  \n",
       "1                             1,500,000 <  \n",
       "2                             1,500,000 <  \n",
       "3                             1,500,000 <  \n",
       "4                             1,500,000 <  \n",
       "...                                   ...  \n",
       "2045                    500,000-1,500,000  \n",
       "2046                    500,000-1,500,000  \n",
       "2047                    500,000-1,500,000  \n",
       "2048                    500,000-1,500,000  \n",
       "2049                    500,000-1,500,000  \n",
       "\n",
       "[1626 rows x 20 columns]"
      ],
      "text/html": "<div>\n<style scoped>\n    .dataframe tbody tr th:only-of-type {\n        vertical-align: middle;\n    }\n\n    .dataframe tbody tr th {\n        vertical-align: top;\n    }\n\n    .dataframe thead th {\n        text-align: right;\n    }\n</style>\n<table border=\"1\" class=\"dataframe\">\n  <thead>\n    <tr style=\"text-align: right;\">\n      <th></th>\n      <th>Location</th>\n      <th>2019 Population</th>\n      <th>Town or City</th>\n      <th>2019 Rental Rates</th>\n      <th>State</th>\n      <th>City</th>\n      <th>Violent crime</th>\n      <th>Murder and nonnegligent manslaughter</th>\n      <th>Rape</th>\n      <th>Robbery</th>\n      <th>Aggravated assault</th>\n      <th>Property crime</th>\n      <th>Burglary</th>\n      <th>Larceny-theft</th>\n      <th>Motor vehicle theft</th>\n      <th>Arson</th>\n      <th>Crime Population</th>\n      <th>Crime Rate</th>\n      <th>Urban Population by City Size Categories</th>\n      <th>Urban Population by City Size Ranges</th>\n    </tr>\n  </thead>\n  <tbody>\n    <tr>\n      <th>0</th>\n      <td>Phoenix, Arizona</td>\n      <td>1680992</td>\n      <td>city</td>\n      <td>1424</td>\n      <td>Arizona</td>\n      <td>Phoenix</td>\n      <td>11803</td>\n      <td>131</td>\n      <td>1139</td>\n      <td>3197</td>\n      <td>7336</td>\n      <td>55974</td>\n      <td>9471</td>\n      <td>39427</td>\n      <td>7076</td>\n      <td>201</td>\n      <td>1688722</td>\n      <td>8075.886143</td>\n      <td>Large Metropolitan Area</td>\n      <td>1,500,000 &lt;</td>\n    </tr>\n    <tr>\n      <th>1</th>\n      <td>Phoenix, Arizona</td>\n      <td>1680992</td>\n      <td>city</td>\n      <td>1522</td>\n      <td>Arizona</td>\n      <td>Phoenix</td>\n      <td>11803</td>\n      <td>131</td>\n      <td>1139</td>\n      <td>3197</td>\n      <td>7336</td>\n      <td>55974</td>\n      <td>9471</td>\n      <td>39427</td>\n      <td>7076</td>\n      <td>201</td>\n      <td>1688722</td>\n      <td>8075.886143</td>\n      <td>Large Metropolitan Area</td>\n      <td>1,500,000 &lt;</td>\n    </tr>\n    <tr>\n      <th>2</th>\n      <td>Phoenix, Arizona</td>\n      <td>1680992</td>\n      <td>city</td>\n      <td>1461</td>\n      <td>Arizona</td>\n      <td>Phoenix</td>\n      <td>11803</td>\n      <td>131</td>\n      <td>1139</td>\n      <td>3197</td>\n      <td>7336</td>\n      <td>55974</td>\n      <td>9471</td>\n      <td>39427</td>\n      <td>7076</td>\n      <td>201</td>\n      <td>1688722</td>\n      <td>8075.886143</td>\n      <td>Large Metropolitan Area</td>\n      <td>1,500,000 &lt;</td>\n    </tr>\n    <tr>\n      <th>3</th>\n      <td>Phoenix, Arizona</td>\n      <td>1680992</td>\n      <td>city</td>\n      <td>1549</td>\n      <td>Arizona</td>\n      <td>Phoenix</td>\n      <td>11803</td>\n      <td>131</td>\n      <td>1139</td>\n      <td>3197</td>\n      <td>7336</td>\n      <td>55974</td>\n      <td>9471</td>\n      <td>39427</td>\n      <td>7076</td>\n      <td>201</td>\n      <td>1688722</td>\n      <td>8075.886143</td>\n      <td>Large Metropolitan Area</td>\n      <td>1,500,000 &lt;</td>\n    </tr>\n    <tr>\n      <th>4</th>\n      <td>Phoenix, Arizona</td>\n      <td>1680992</td>\n      <td>city</td>\n      <td>1611</td>\n      <td>Arizona</td>\n      <td>Phoenix</td>\n      <td>11803</td>\n      <td>131</td>\n      <td>1139</td>\n      <td>3197</td>\n      <td>7336</td>\n      <td>55974</td>\n      <td>9471</td>\n      <td>39427</td>\n      <td>7076</td>\n      <td>201</td>\n      <td>1688722</td>\n      <td>8075.886143</td>\n      <td>Large Metropolitan Area</td>\n      <td>1,500,000 &lt;</td>\n    </tr>\n    <tr>\n      <th>...</th>\n      <td>...</td>\n      <td>...</td>\n      <td>...</td>\n      <td>...</td>\n      <td>...</td>\n      <td>...</td>\n      <td>...</td>\n      <td>...</td>\n      <td>...</td>\n      <td>...</td>\n      <td>...</td>\n      <td>...</td>\n      <td>...</td>\n      <td>...</td>\n      <td>...</td>\n      <td>...</td>\n      <td>...</td>\n      <td>...</td>\n      <td>...</td>\n      <td>...</td>\n    </tr>\n    <tr>\n      <th>2045</th>\n      <td>Milwaukee, Wisconsin</td>\n      <td>590157</td>\n      <td>city</td>\n      <td>839</td>\n      <td>Wisconsin</td>\n      <td>Milwaukee</td>\n      <td>7874</td>\n      <td>97</td>\n      <td>427</td>\n      <td>1911</td>\n      <td>5439</td>\n      <td>15097</td>\n      <td>3594</td>\n      <td>8053</td>\n      <td>3450</td>\n      <td>198</td>\n      <td>590923</td>\n      <td>7818.258531</td>\n      <td>Metropolitan Area</td>\n      <td>500,000-1,500,000</td>\n    </tr>\n    <tr>\n      <th>2046</th>\n      <td>Milwaukee, Wisconsin</td>\n      <td>590157</td>\n      <td>city</td>\n      <td>948</td>\n      <td>Wisconsin</td>\n      <td>Milwaukee</td>\n      <td>7874</td>\n      <td>97</td>\n      <td>427</td>\n      <td>1911</td>\n      <td>5439</td>\n      <td>15097</td>\n      <td>3594</td>\n      <td>8053</td>\n      <td>3450</td>\n      <td>198</td>\n      <td>590923</td>\n      <td>7818.258531</td>\n      <td>Metropolitan Area</td>\n      <td>500,000-1,500,000</td>\n    </tr>\n    <tr>\n      <th>2047</th>\n      <td>Milwaukee, Wisconsin</td>\n      <td>590157</td>\n      <td>city</td>\n      <td>973</td>\n      <td>Wisconsin</td>\n      <td>Milwaukee</td>\n      <td>7874</td>\n      <td>97</td>\n      <td>427</td>\n      <td>1911</td>\n      <td>5439</td>\n      <td>15097</td>\n      <td>3594</td>\n      <td>8053</td>\n      <td>3450</td>\n      <td>198</td>\n      <td>590923</td>\n      <td>7818.258531</td>\n      <td>Metropolitan Area</td>\n      <td>500,000-1,500,000</td>\n    </tr>\n    <tr>\n      <th>2048</th>\n      <td>Milwaukee, Wisconsin</td>\n      <td>590157</td>\n      <td>city</td>\n      <td>792</td>\n      <td>Wisconsin</td>\n      <td>Milwaukee</td>\n      <td>7874</td>\n      <td>97</td>\n      <td>427</td>\n      <td>1911</td>\n      <td>5439</td>\n      <td>15097</td>\n      <td>3594</td>\n      <td>8053</td>\n      <td>3450</td>\n      <td>198</td>\n      <td>590923</td>\n      <td>7818.258531</td>\n      <td>Metropolitan Area</td>\n      <td>500,000-1,500,000</td>\n    </tr>\n    <tr>\n      <th>2049</th>\n      <td>Milwaukee, Wisconsin</td>\n      <td>590157</td>\n      <td>city</td>\n      <td>1066</td>\n      <td>Wisconsin</td>\n      <td>Milwaukee</td>\n      <td>7874</td>\n      <td>97</td>\n      <td>427</td>\n      <td>1911</td>\n      <td>5439</td>\n      <td>15097</td>\n      <td>3594</td>\n      <td>8053</td>\n      <td>3450</td>\n      <td>198</td>\n      <td>590923</td>\n      <td>7818.258531</td>\n      <td>Metropolitan Area</td>\n      <td>500,000-1,500,000</td>\n    </tr>\n  </tbody>\n</table>\n<p>1626 rows × 20 columns</p>\n</div>"
     },
     "metadata": {},
     "execution_count": 32
    }
   ],
   "source": [
    "# Bin 2019 population into Urban population by City Size Categories and ranges\n",
    "\n",
    "# (https://data.oecd.org/popregion/urban-population-by-city-size.htm#:~:text=their%20administrative%20boundaries.-,Urban%20areas%20in%20OECD%20countries%20are%20classified%20as%3A%20large%20metropolitan,areas%20if%20their%20population%20is)\n",
    "\n",
    "# Urban areas in OECD countries are classified as: large metropolitan areas if they have a population of 1.5 million or more; metropolitan areas if their population is between 500 000 and 1.5 million; medium-size urban areas if their population is between 200 000 and 500 000; and, small urban areas if their population is between 50 000 and 200 000. This indicator is measured as a percentage of the national population.\n",
    "\n",
    "# Qcut\n",
    "\n",
    "#merged_population_rent_crime['Urban Population by City Size'] = pd.qcut(merged_population_rent_crime['2019 Population'], q=4, labels = [\"Small Urban Area\", \"Medium-size Urban Area\", \"Metropolitan Area\", \"Large Metropolitan Area\"])\n",
    "\n",
    "#merged_population_rent_crime['Population by City Size'] = pd.qcut(merged_population_rent_crime['2019 Population'], q=4)\n",
    "\n",
    "#merged_population_rent_crime\n",
    "\n",
    "# Consider using just cut to fit the labels above. qcut will make the bins equal, but it is difficult to categorize cities based on those numbers.\n",
    "\n",
    "bins = [0, 50000, 200000, 500000, 1500000, 100000000]\n",
    "labels = [\"Town\",\"Small Urban Area\", \"Medium-size Urban Area\", \"Metropolitan Area\", \"Large Metropolitan Area\"]\n",
    "merged_population_rent_crime['Urban Population by City Size Categories'] = pd.cut(merged_population_rent_crime['2019 Population'], bins=bins, labels=labels)\n",
    "\n",
    "bins = [0, 50000, 200000, 500000, 1500000, 100000000]\n",
    "labels = [\"0-50,000\", \"50,000-200,000\", \"200,000-500,000\", \"500,000-1,500,000\", \"1,500,000 <\"]\n",
    "merged_population_rent_crime['Urban Population by City Size Ranges'] = pd.cut(merged_population_rent_crime['2019 Population'], bins=bins, labels=labels)\n",
    "\n",
    "\n",
    "merged_population_rent_crime"
   ]
  },
  {
   "cell_type": "code",
   "execution_count": 33,
   "metadata": {},
   "outputs": [
    {
     "output_type": "execute_result",
     "data": {
      "text/plain": [
       "count    1626.000000\n",
       "mean     1674.565806\n",
       "std       607.902951\n",
       "min       582.000000\n",
       "25%      1294.500000\n",
       "50%      1549.000000\n",
       "75%      1891.500000\n",
       "max      6373.000000\n",
       "Name: 2019 Rental Rates, dtype: float64"
      ]
     },
     "metadata": {},
     "execution_count": 33
    }
   ],
   "source": [
    "# Describe the data to begin binning data with pandas cut or qcut\n",
    "\n",
    "merged_population_rent_crime['2019 Rental Rates'].describe()"
   ]
  },
  {
   "cell_type": "code",
   "execution_count": 34,
   "metadata": {},
   "outputs": [
    {
     "output_type": "execute_result",
     "data": {
      "text/plain": [
       "0        (1294.5, 1549.0]\n",
       "1        (1294.5, 1549.0]\n",
       "2        (1294.5, 1549.0]\n",
       "3        (1294.5, 1549.0]\n",
       "4        (1549.0, 1891.5]\n",
       "              ...        \n",
       "2045    (581.999, 1294.5]\n",
       "2046    (581.999, 1294.5]\n",
       "2047    (581.999, 1294.5]\n",
       "2048    (581.999, 1294.5]\n",
       "2049    (581.999, 1294.5]\n",
       "Name: 2019 Rental Rates, Length: 1626, dtype: category\n",
       "Categories (4, interval[float64]): [(581.999, 1294.5] < (1294.5, 1549.0] < (1549.0, 1891.5] < (1891.5, 6373.0]]"
      ]
     },
     "metadata": {},
     "execution_count": 34
    }
   ],
   "source": [
    "# Quartile cut the 2019 Rental Rates data, to see how it is evenly distributed\n",
    "\n",
    "pd.qcut(merged_population_rent_crime['2019 Rental Rates'], q=4)"
   ]
  },
  {
   "cell_type": "code",
   "execution_count": 35,
   "metadata": {},
   "outputs": [
    {
     "output_type": "execute_result",
     "data": {
      "text/plain": [
       "                  Location  2019 Population Town or City  2019 Rental Rates  \\\n",
       "0         Phoenix, Arizona          1680992         city               1424   \n",
       "1         Phoenix, Arizona          1680992         city               1522   \n",
       "2         Phoenix, Arizona          1680992         city               1461   \n",
       "3         Phoenix, Arizona          1680992         city               1549   \n",
       "4         Phoenix, Arizona          1680992         city               1611   \n",
       "...                    ...              ...          ...                ...   \n",
       "2045  Milwaukee, Wisconsin           590157         city                839   \n",
       "2046  Milwaukee, Wisconsin           590157         city                948   \n",
       "2047  Milwaukee, Wisconsin           590157         city                973   \n",
       "2048  Milwaukee, Wisconsin           590157         city                792   \n",
       "2049  Milwaukee, Wisconsin           590157         city               1066   \n",
       "\n",
       "          State       City  Violent crime  \\\n",
       "0       Arizona    Phoenix          11803   \n",
       "1       Arizona    Phoenix          11803   \n",
       "2       Arizona    Phoenix          11803   \n",
       "3       Arizona    Phoenix          11803   \n",
       "4       Arizona    Phoenix          11803   \n",
       "...         ...        ...            ...   \n",
       "2045  Wisconsin  Milwaukee           7874   \n",
       "2046  Wisconsin  Milwaukee           7874   \n",
       "2047  Wisconsin  Milwaukee           7874   \n",
       "2048  Wisconsin  Milwaukee           7874   \n",
       "2049  Wisconsin  Milwaukee           7874   \n",
       "\n",
       "      Murder and nonnegligent manslaughter  Rape  Robbery  ...  Burglary  \\\n",
       "0                                      131  1139     3197  ...      9471   \n",
       "1                                      131  1139     3197  ...      9471   \n",
       "2                                      131  1139     3197  ...      9471   \n",
       "3                                      131  1139     3197  ...      9471   \n",
       "4                                      131  1139     3197  ...      9471   \n",
       "...                                    ...   ...      ...  ...       ...   \n",
       "2045                                    97   427     1911  ...      3594   \n",
       "2046                                    97   427     1911  ...      3594   \n",
       "2047                                    97   427     1911  ...      3594   \n",
       "2048                                    97   427     1911  ...      3594   \n",
       "2049                                    97   427     1911  ...      3594   \n",
       "\n",
       "      Larceny-theft  Motor vehicle theft  Arson  Crime Population  \\\n",
       "0             39427                 7076    201           1688722   \n",
       "1             39427                 7076    201           1688722   \n",
       "2             39427                 7076    201           1688722   \n",
       "3             39427                 7076    201           1688722   \n",
       "4             39427                 7076    201           1688722   \n",
       "...             ...                  ...    ...               ...   \n",
       "2045           8053                 3450    198            590923   \n",
       "2046           8053                 3450    198            590923   \n",
       "2047           8053                 3450    198            590923   \n",
       "2048           8053                 3450    198            590923   \n",
       "2049           8053                 3450    198            590923   \n",
       "\n",
       "       Crime Rate Urban Population by City Size Categories  \\\n",
       "0     8075.886143                  Large Metropolitan Area   \n",
       "1     8075.886143                  Large Metropolitan Area   \n",
       "2     8075.886143                  Large Metropolitan Area   \n",
       "3     8075.886143                  Large Metropolitan Area   \n",
       "4     8075.886143                  Large Metropolitan Area   \n",
       "...           ...                                      ...   \n",
       "2045  7818.258531                        Metropolitan Area   \n",
       "2046  7818.258531                        Metropolitan Area   \n",
       "2047  7818.258531                        Metropolitan Area   \n",
       "2048  7818.258531                        Metropolitan Area   \n",
       "2049  7818.258531                        Metropolitan Area   \n",
       "\n",
       "      Urban Population by City Size Ranges Rental Rate Categories  \\\n",
       "0                              1,500,000 <           Average Rent   \n",
       "1                              1,500,000 <           Average Rent   \n",
       "2                              1,500,000 <           Average Rent   \n",
       "3                              1,500,000 <           Average Rent   \n",
       "4                              1,500,000 <            Higher Rent   \n",
       "...                                    ...                    ...   \n",
       "2045                     500,000-1,500,000               Low Rent   \n",
       "2046                     500,000-1,500,000               Low Rent   \n",
       "2047                     500,000-1,500,000               Low Rent   \n",
       "2048                     500,000-1,500,000               Low Rent   \n",
       "2049                     500,000-1,500,000               Low Rent   \n",
       "\n",
       "     Rental Rate Ranges  \n",
       "0       $1,294.50-1,549  \n",
       "1       $1,294.50-1,549  \n",
       "2       $1,294.50-1,549  \n",
       "3       $1,294.50-1,549  \n",
       "4       $1,549-1,891.50  \n",
       "...                 ...  \n",
       "2045   $581.99-1,294.50  \n",
       "2046   $581.99-1,294.50  \n",
       "2047   $581.99-1,294.50  \n",
       "2048   $581.99-1,294.50  \n",
       "2049   $581.99-1,294.50  \n",
       "\n",
       "[1626 rows x 22 columns]"
      ],
      "text/html": "<div>\n<style scoped>\n    .dataframe tbody tr th:only-of-type {\n        vertical-align: middle;\n    }\n\n    .dataframe tbody tr th {\n        vertical-align: top;\n    }\n\n    .dataframe thead th {\n        text-align: right;\n    }\n</style>\n<table border=\"1\" class=\"dataframe\">\n  <thead>\n    <tr style=\"text-align: right;\">\n      <th></th>\n      <th>Location</th>\n      <th>2019 Population</th>\n      <th>Town or City</th>\n      <th>2019 Rental Rates</th>\n      <th>State</th>\n      <th>City</th>\n      <th>Violent crime</th>\n      <th>Murder and nonnegligent manslaughter</th>\n      <th>Rape</th>\n      <th>Robbery</th>\n      <th>...</th>\n      <th>Burglary</th>\n      <th>Larceny-theft</th>\n      <th>Motor vehicle theft</th>\n      <th>Arson</th>\n      <th>Crime Population</th>\n      <th>Crime Rate</th>\n      <th>Urban Population by City Size Categories</th>\n      <th>Urban Population by City Size Ranges</th>\n      <th>Rental Rate Categories</th>\n      <th>Rental Rate Ranges</th>\n    </tr>\n  </thead>\n  <tbody>\n    <tr>\n      <th>0</th>\n      <td>Phoenix, Arizona</td>\n      <td>1680992</td>\n      <td>city</td>\n      <td>1424</td>\n      <td>Arizona</td>\n      <td>Phoenix</td>\n      <td>11803</td>\n      <td>131</td>\n      <td>1139</td>\n      <td>3197</td>\n      <td>...</td>\n      <td>9471</td>\n      <td>39427</td>\n      <td>7076</td>\n      <td>201</td>\n      <td>1688722</td>\n      <td>8075.886143</td>\n      <td>Large Metropolitan Area</td>\n      <td>1,500,000 &lt;</td>\n      <td>Average Rent</td>\n      <td>$1,294.50-1,549</td>\n    </tr>\n    <tr>\n      <th>1</th>\n      <td>Phoenix, Arizona</td>\n      <td>1680992</td>\n      <td>city</td>\n      <td>1522</td>\n      <td>Arizona</td>\n      <td>Phoenix</td>\n      <td>11803</td>\n      <td>131</td>\n      <td>1139</td>\n      <td>3197</td>\n      <td>...</td>\n      <td>9471</td>\n      <td>39427</td>\n      <td>7076</td>\n      <td>201</td>\n      <td>1688722</td>\n      <td>8075.886143</td>\n      <td>Large Metropolitan Area</td>\n      <td>1,500,000 &lt;</td>\n      <td>Average Rent</td>\n      <td>$1,294.50-1,549</td>\n    </tr>\n    <tr>\n      <th>2</th>\n      <td>Phoenix, Arizona</td>\n      <td>1680992</td>\n      <td>city</td>\n      <td>1461</td>\n      <td>Arizona</td>\n      <td>Phoenix</td>\n      <td>11803</td>\n      <td>131</td>\n      <td>1139</td>\n      <td>3197</td>\n      <td>...</td>\n      <td>9471</td>\n      <td>39427</td>\n      <td>7076</td>\n      <td>201</td>\n      <td>1688722</td>\n      <td>8075.886143</td>\n      <td>Large Metropolitan Area</td>\n      <td>1,500,000 &lt;</td>\n      <td>Average Rent</td>\n      <td>$1,294.50-1,549</td>\n    </tr>\n    <tr>\n      <th>3</th>\n      <td>Phoenix, Arizona</td>\n      <td>1680992</td>\n      <td>city</td>\n      <td>1549</td>\n      <td>Arizona</td>\n      <td>Phoenix</td>\n      <td>11803</td>\n      <td>131</td>\n      <td>1139</td>\n      <td>3197</td>\n      <td>...</td>\n      <td>9471</td>\n      <td>39427</td>\n      <td>7076</td>\n      <td>201</td>\n      <td>1688722</td>\n      <td>8075.886143</td>\n      <td>Large Metropolitan Area</td>\n      <td>1,500,000 &lt;</td>\n      <td>Average Rent</td>\n      <td>$1,294.50-1,549</td>\n    </tr>\n    <tr>\n      <th>4</th>\n      <td>Phoenix, Arizona</td>\n      <td>1680992</td>\n      <td>city</td>\n      <td>1611</td>\n      <td>Arizona</td>\n      <td>Phoenix</td>\n      <td>11803</td>\n      <td>131</td>\n      <td>1139</td>\n      <td>3197</td>\n      <td>...</td>\n      <td>9471</td>\n      <td>39427</td>\n      <td>7076</td>\n      <td>201</td>\n      <td>1688722</td>\n      <td>8075.886143</td>\n      <td>Large Metropolitan Area</td>\n      <td>1,500,000 &lt;</td>\n      <td>Higher Rent</td>\n      <td>$1,549-1,891.50</td>\n    </tr>\n    <tr>\n      <th>...</th>\n      <td>...</td>\n      <td>...</td>\n      <td>...</td>\n      <td>...</td>\n      <td>...</td>\n      <td>...</td>\n      <td>...</td>\n      <td>...</td>\n      <td>...</td>\n      <td>...</td>\n      <td>...</td>\n      <td>...</td>\n      <td>...</td>\n      <td>...</td>\n      <td>...</td>\n      <td>...</td>\n      <td>...</td>\n      <td>...</td>\n      <td>...</td>\n      <td>...</td>\n      <td>...</td>\n    </tr>\n    <tr>\n      <th>2045</th>\n      <td>Milwaukee, Wisconsin</td>\n      <td>590157</td>\n      <td>city</td>\n      <td>839</td>\n      <td>Wisconsin</td>\n      <td>Milwaukee</td>\n      <td>7874</td>\n      <td>97</td>\n      <td>427</td>\n      <td>1911</td>\n      <td>...</td>\n      <td>3594</td>\n      <td>8053</td>\n      <td>3450</td>\n      <td>198</td>\n      <td>590923</td>\n      <td>7818.258531</td>\n      <td>Metropolitan Area</td>\n      <td>500,000-1,500,000</td>\n      <td>Low Rent</td>\n      <td>$581.99-1,294.50</td>\n    </tr>\n    <tr>\n      <th>2046</th>\n      <td>Milwaukee, Wisconsin</td>\n      <td>590157</td>\n      <td>city</td>\n      <td>948</td>\n      <td>Wisconsin</td>\n      <td>Milwaukee</td>\n      <td>7874</td>\n      <td>97</td>\n      <td>427</td>\n      <td>1911</td>\n      <td>...</td>\n      <td>3594</td>\n      <td>8053</td>\n      <td>3450</td>\n      <td>198</td>\n      <td>590923</td>\n      <td>7818.258531</td>\n      <td>Metropolitan Area</td>\n      <td>500,000-1,500,000</td>\n      <td>Low Rent</td>\n      <td>$581.99-1,294.50</td>\n    </tr>\n    <tr>\n      <th>2047</th>\n      <td>Milwaukee, Wisconsin</td>\n      <td>590157</td>\n      <td>city</td>\n      <td>973</td>\n      <td>Wisconsin</td>\n      <td>Milwaukee</td>\n      <td>7874</td>\n      <td>97</td>\n      <td>427</td>\n      <td>1911</td>\n      <td>...</td>\n      <td>3594</td>\n      <td>8053</td>\n      <td>3450</td>\n      <td>198</td>\n      <td>590923</td>\n      <td>7818.258531</td>\n      <td>Metropolitan Area</td>\n      <td>500,000-1,500,000</td>\n      <td>Low Rent</td>\n      <td>$581.99-1,294.50</td>\n    </tr>\n    <tr>\n      <th>2048</th>\n      <td>Milwaukee, Wisconsin</td>\n      <td>590157</td>\n      <td>city</td>\n      <td>792</td>\n      <td>Wisconsin</td>\n      <td>Milwaukee</td>\n      <td>7874</td>\n      <td>97</td>\n      <td>427</td>\n      <td>1911</td>\n      <td>...</td>\n      <td>3594</td>\n      <td>8053</td>\n      <td>3450</td>\n      <td>198</td>\n      <td>590923</td>\n      <td>7818.258531</td>\n      <td>Metropolitan Area</td>\n      <td>500,000-1,500,000</td>\n      <td>Low Rent</td>\n      <td>$581.99-1,294.50</td>\n    </tr>\n    <tr>\n      <th>2049</th>\n      <td>Milwaukee, Wisconsin</td>\n      <td>590157</td>\n      <td>city</td>\n      <td>1066</td>\n      <td>Wisconsin</td>\n      <td>Milwaukee</td>\n      <td>7874</td>\n      <td>97</td>\n      <td>427</td>\n      <td>1911</td>\n      <td>...</td>\n      <td>3594</td>\n      <td>8053</td>\n      <td>3450</td>\n      <td>198</td>\n      <td>590923</td>\n      <td>7818.258531</td>\n      <td>Metropolitan Area</td>\n      <td>500,000-1,500,000</td>\n      <td>Low Rent</td>\n      <td>$581.99-1,294.50</td>\n    </tr>\n  </tbody>\n</table>\n<p>1626 rows × 22 columns</p>\n</div>"
     },
     "metadata": {},
     "execution_count": 35
    }
   ],
   "source": [
    "# Bin the 2019 Rental Rates data into categories and ranges\n",
    "\n",
    "bins = [0, 581.99, 1294.5, 1549, 1891.5, 6373]\n",
    "labels = [\"Lowest Rent\",\"Low Rent\", \"Average Rent\", \"Higher Rent\", \"Highest Rent\"]\n",
    "merged_population_rent_crime['Rental Rate Categories'] = pd.cut(merged_population_rent_crime['2019 Rental Rates'], bins=bins, labels=labels)\n",
    "\n",
    "bins = [0, 581.99, 1294.5, 1549, 1891.5, 6373]\n",
    "labels = [\"$0-581.99\",\"$581.99-1,294.50\", \"$1,294.50-1,549\", \"$1,549-1,891.50\", \"$1891.50-6,373\"]\n",
    "merged_population_rent_crime['Rental Rate Ranges'] = pd.cut(merged_population_rent_crime['2019 Rental Rates'], bins=bins, labels=labels)\n",
    "\n",
    "merged_population_rent_crime"
   ]
  },
  {
   "cell_type": "code",
   "execution_count": 36,
   "metadata": {},
   "outputs": [
    {
     "output_type": "execute_result",
     "data": {
      "text/plain": [
       "count     1626.000000\n",
       "mean      8782.427187\n",
       "std       3034.576864\n",
       "min       1972.791138\n",
       "25%       6949.239498\n",
       "50%       8162.208385\n",
       "75%      10968.517430\n",
       "max      16274.419781\n",
       "Name: Crime Rate, dtype: float64"
      ]
     },
     "metadata": {},
     "execution_count": 36
    }
   ],
   "source": [
    "# Describe the data to begin binning data with pandas cut or qcut\n",
    "\n",
    "merged_population_rent_crime['Crime Rate'].describe()"
   ]
  },
  {
   "cell_type": "code",
   "execution_count": 37,
   "metadata": {},
   "outputs": [
    {
     "output_type": "execute_result",
     "data": {
      "text/plain": [
       "0       (7951.131, 9683.737]\n",
       "1       (7951.131, 9683.737]\n",
       "2       (7951.131, 9683.737]\n",
       "3       (7951.131, 9683.737]\n",
       "4       (7951.131, 9683.737]\n",
       "                ...         \n",
       "2045    (5831.013, 7951.131]\n",
       "2046    (5831.013, 7951.131]\n",
       "2047    (5831.013, 7951.131]\n",
       "2048    (5831.013, 7951.131]\n",
       "2049    (5831.013, 7951.131]\n",
       "Name: Crime Rate, Length: 1626, dtype: category\n",
       "Categories (5, interval[float64]): [(1972.79, 5831.013] < (5831.013, 7951.131] < (7951.131, 9683.737] < (9683.737, 11316.718] < (11316.718, 16274.42]]"
      ]
     },
     "metadata": {},
     "execution_count": 37
    }
   ],
   "source": [
    "# Quartile cut the data, to see how it is evenly distributed\n",
    "\n",
    "pd.qcut(merged_population_rent_crime['Crime Rate'], q=5)"
   ]
  },
  {
   "cell_type": "code",
   "execution_count": 38,
   "metadata": {},
   "outputs": [
    {
     "output_type": "execute_result",
     "data": {
      "text/plain": [
       "                  Location  2019 Population Town or City  2019 Rental Rates  \\\n",
       "0         Phoenix, Arizona          1680992         city               1424   \n",
       "1         Phoenix, Arizona          1680992         city               1522   \n",
       "2         Phoenix, Arizona          1680992         city               1461   \n",
       "3         Phoenix, Arizona          1680992         city               1549   \n",
       "4         Phoenix, Arizona          1680992         city               1611   \n",
       "...                    ...              ...          ...                ...   \n",
       "2045  Milwaukee, Wisconsin           590157         city                839   \n",
       "2046  Milwaukee, Wisconsin           590157         city                948   \n",
       "2047  Milwaukee, Wisconsin           590157         city                973   \n",
       "2048  Milwaukee, Wisconsin           590157         city                792   \n",
       "2049  Milwaukee, Wisconsin           590157         city               1066   \n",
       "\n",
       "          State       City  Violent crime  \\\n",
       "0       Arizona    Phoenix          11803   \n",
       "1       Arizona    Phoenix          11803   \n",
       "2       Arizona    Phoenix          11803   \n",
       "3       Arizona    Phoenix          11803   \n",
       "4       Arizona    Phoenix          11803   \n",
       "...         ...        ...            ...   \n",
       "2045  Wisconsin  Milwaukee           7874   \n",
       "2046  Wisconsin  Milwaukee           7874   \n",
       "2047  Wisconsin  Milwaukee           7874   \n",
       "2048  Wisconsin  Milwaukee           7874   \n",
       "2049  Wisconsin  Milwaukee           7874   \n",
       "\n",
       "      Murder and nonnegligent manslaughter  Rape  Robbery  ...  \\\n",
       "0                                      131  1139     3197  ...   \n",
       "1                                      131  1139     3197  ...   \n",
       "2                                      131  1139     3197  ...   \n",
       "3                                      131  1139     3197  ...   \n",
       "4                                      131  1139     3197  ...   \n",
       "...                                    ...   ...      ...  ...   \n",
       "2045                                    97   427     1911  ...   \n",
       "2046                                    97   427     1911  ...   \n",
       "2047                                    97   427     1911  ...   \n",
       "2048                                    97   427     1911  ...   \n",
       "2049                                    97   427     1911  ...   \n",
       "\n",
       "      Motor vehicle theft  Arson  Crime Population   Crime Rate  \\\n",
       "0                    7076    201           1688722  8075.886143   \n",
       "1                    7076    201           1688722  8075.886143   \n",
       "2                    7076    201           1688722  8075.886143   \n",
       "3                    7076    201           1688722  8075.886143   \n",
       "4                    7076    201           1688722  8075.886143   \n",
       "...                   ...    ...               ...          ...   \n",
       "2045                 3450    198            590923  7818.258531   \n",
       "2046                 3450    198            590923  7818.258531   \n",
       "2047                 3450    198            590923  7818.258531   \n",
       "2048                 3450    198            590923  7818.258531   \n",
       "2049                 3450    198            590923  7818.258531   \n",
       "\n",
       "      Urban Population by City Size Categories  \\\n",
       "0                      Large Metropolitan Area   \n",
       "1                      Large Metropolitan Area   \n",
       "2                      Large Metropolitan Area   \n",
       "3                      Large Metropolitan Area   \n",
       "4                      Large Metropolitan Area   \n",
       "...                                        ...   \n",
       "2045                         Metropolitan Area   \n",
       "2046                         Metropolitan Area   \n",
       "2047                         Metropolitan Area   \n",
       "2048                         Metropolitan Area   \n",
       "2049                         Metropolitan Area   \n",
       "\n",
       "      Urban Population by City Size Ranges Rental Rate Categories  \\\n",
       "0                              1,500,000 <           Average Rent   \n",
       "1                              1,500,000 <           Average Rent   \n",
       "2                              1,500,000 <           Average Rent   \n",
       "3                              1,500,000 <           Average Rent   \n",
       "4                              1,500,000 <            Higher Rent   \n",
       "...                                    ...                    ...   \n",
       "2045                     500,000-1,500,000               Low Rent   \n",
       "2046                     500,000-1,500,000               Low Rent   \n",
       "2047                     500,000-1,500,000               Low Rent   \n",
       "2048                     500,000-1,500,000               Low Rent   \n",
       "2049                     500,000-1,500,000               Low Rent   \n",
       "\n",
       "      Rental Rate Ranges Crime Rate Categories    Crime Rate Ranges  \n",
       "0        $1,294.50-1,549         Average Crime  7,951.131-9,683.737  \n",
       "1        $1,294.50-1,549         Average Crime  7,951.131-9,683.737  \n",
       "2        $1,294.50-1,549         Average Crime  7,951.131-9,683.737  \n",
       "3        $1,294.50-1,549         Average Crime  7,951.131-9,683.737  \n",
       "4        $1,549-1,891.50         Average Crime  7,951.131-9,683.737  \n",
       "...                  ...                   ...                  ...  \n",
       "2045    $581.99-1,294.50           Lower Crime  5,831.013-7,951.131  \n",
       "2046    $581.99-1,294.50           Lower Crime  5,831.013-7,951.131  \n",
       "2047    $581.99-1,294.50           Lower Crime  5,831.013-7,951.131  \n",
       "2048    $581.99-1,294.50           Lower Crime  5,831.013-7,951.131  \n",
       "2049    $581.99-1,294.50           Lower Crime  5,831.013-7,951.131  \n",
       "\n",
       "[1626 rows x 24 columns]"
      ],
      "text/html": "<div>\n<style scoped>\n    .dataframe tbody tr th:only-of-type {\n        vertical-align: middle;\n    }\n\n    .dataframe tbody tr th {\n        vertical-align: top;\n    }\n\n    .dataframe thead th {\n        text-align: right;\n    }\n</style>\n<table border=\"1\" class=\"dataframe\">\n  <thead>\n    <tr style=\"text-align: right;\">\n      <th></th>\n      <th>Location</th>\n      <th>2019 Population</th>\n      <th>Town or City</th>\n      <th>2019 Rental Rates</th>\n      <th>State</th>\n      <th>City</th>\n      <th>Violent crime</th>\n      <th>Murder and nonnegligent manslaughter</th>\n      <th>Rape</th>\n      <th>Robbery</th>\n      <th>...</th>\n      <th>Motor vehicle theft</th>\n      <th>Arson</th>\n      <th>Crime Population</th>\n      <th>Crime Rate</th>\n      <th>Urban Population by City Size Categories</th>\n      <th>Urban Population by City Size Ranges</th>\n      <th>Rental Rate Categories</th>\n      <th>Rental Rate Ranges</th>\n      <th>Crime Rate Categories</th>\n      <th>Crime Rate Ranges</th>\n    </tr>\n  </thead>\n  <tbody>\n    <tr>\n      <th>0</th>\n      <td>Phoenix, Arizona</td>\n      <td>1680992</td>\n      <td>city</td>\n      <td>1424</td>\n      <td>Arizona</td>\n      <td>Phoenix</td>\n      <td>11803</td>\n      <td>131</td>\n      <td>1139</td>\n      <td>3197</td>\n      <td>...</td>\n      <td>7076</td>\n      <td>201</td>\n      <td>1688722</td>\n      <td>8075.886143</td>\n      <td>Large Metropolitan Area</td>\n      <td>1,500,000 &lt;</td>\n      <td>Average Rent</td>\n      <td>$1,294.50-1,549</td>\n      <td>Average Crime</td>\n      <td>7,951.131-9,683.737</td>\n    </tr>\n    <tr>\n      <th>1</th>\n      <td>Phoenix, Arizona</td>\n      <td>1680992</td>\n      <td>city</td>\n      <td>1522</td>\n      <td>Arizona</td>\n      <td>Phoenix</td>\n      <td>11803</td>\n      <td>131</td>\n      <td>1139</td>\n      <td>3197</td>\n      <td>...</td>\n      <td>7076</td>\n      <td>201</td>\n      <td>1688722</td>\n      <td>8075.886143</td>\n      <td>Large Metropolitan Area</td>\n      <td>1,500,000 &lt;</td>\n      <td>Average Rent</td>\n      <td>$1,294.50-1,549</td>\n      <td>Average Crime</td>\n      <td>7,951.131-9,683.737</td>\n    </tr>\n    <tr>\n      <th>2</th>\n      <td>Phoenix, Arizona</td>\n      <td>1680992</td>\n      <td>city</td>\n      <td>1461</td>\n      <td>Arizona</td>\n      <td>Phoenix</td>\n      <td>11803</td>\n      <td>131</td>\n      <td>1139</td>\n      <td>3197</td>\n      <td>...</td>\n      <td>7076</td>\n      <td>201</td>\n      <td>1688722</td>\n      <td>8075.886143</td>\n      <td>Large Metropolitan Area</td>\n      <td>1,500,000 &lt;</td>\n      <td>Average Rent</td>\n      <td>$1,294.50-1,549</td>\n      <td>Average Crime</td>\n      <td>7,951.131-9,683.737</td>\n    </tr>\n    <tr>\n      <th>3</th>\n      <td>Phoenix, Arizona</td>\n      <td>1680992</td>\n      <td>city</td>\n      <td>1549</td>\n      <td>Arizona</td>\n      <td>Phoenix</td>\n      <td>11803</td>\n      <td>131</td>\n      <td>1139</td>\n      <td>3197</td>\n      <td>...</td>\n      <td>7076</td>\n      <td>201</td>\n      <td>1688722</td>\n      <td>8075.886143</td>\n      <td>Large Metropolitan Area</td>\n      <td>1,500,000 &lt;</td>\n      <td>Average Rent</td>\n      <td>$1,294.50-1,549</td>\n      <td>Average Crime</td>\n      <td>7,951.131-9,683.737</td>\n    </tr>\n    <tr>\n      <th>4</th>\n      <td>Phoenix, Arizona</td>\n      <td>1680992</td>\n      <td>city</td>\n      <td>1611</td>\n      <td>Arizona</td>\n      <td>Phoenix</td>\n      <td>11803</td>\n      <td>131</td>\n      <td>1139</td>\n      <td>3197</td>\n      <td>...</td>\n      <td>7076</td>\n      <td>201</td>\n      <td>1688722</td>\n      <td>8075.886143</td>\n      <td>Large Metropolitan Area</td>\n      <td>1,500,000 &lt;</td>\n      <td>Higher Rent</td>\n      <td>$1,549-1,891.50</td>\n      <td>Average Crime</td>\n      <td>7,951.131-9,683.737</td>\n    </tr>\n    <tr>\n      <th>...</th>\n      <td>...</td>\n      <td>...</td>\n      <td>...</td>\n      <td>...</td>\n      <td>...</td>\n      <td>...</td>\n      <td>...</td>\n      <td>...</td>\n      <td>...</td>\n      <td>...</td>\n      <td>...</td>\n      <td>...</td>\n      <td>...</td>\n      <td>...</td>\n      <td>...</td>\n      <td>...</td>\n      <td>...</td>\n      <td>...</td>\n      <td>...</td>\n      <td>...</td>\n      <td>...</td>\n    </tr>\n    <tr>\n      <th>2045</th>\n      <td>Milwaukee, Wisconsin</td>\n      <td>590157</td>\n      <td>city</td>\n      <td>839</td>\n      <td>Wisconsin</td>\n      <td>Milwaukee</td>\n      <td>7874</td>\n      <td>97</td>\n      <td>427</td>\n      <td>1911</td>\n      <td>...</td>\n      <td>3450</td>\n      <td>198</td>\n      <td>590923</td>\n      <td>7818.258531</td>\n      <td>Metropolitan Area</td>\n      <td>500,000-1,500,000</td>\n      <td>Low Rent</td>\n      <td>$581.99-1,294.50</td>\n      <td>Lower Crime</td>\n      <td>5,831.013-7,951.131</td>\n    </tr>\n    <tr>\n      <th>2046</th>\n      <td>Milwaukee, Wisconsin</td>\n      <td>590157</td>\n      <td>city</td>\n      <td>948</td>\n      <td>Wisconsin</td>\n      <td>Milwaukee</td>\n      <td>7874</td>\n      <td>97</td>\n      <td>427</td>\n      <td>1911</td>\n      <td>...</td>\n      <td>3450</td>\n      <td>198</td>\n      <td>590923</td>\n      <td>7818.258531</td>\n      <td>Metropolitan Area</td>\n      <td>500,000-1,500,000</td>\n      <td>Low Rent</td>\n      <td>$581.99-1,294.50</td>\n      <td>Lower Crime</td>\n      <td>5,831.013-7,951.131</td>\n    </tr>\n    <tr>\n      <th>2047</th>\n      <td>Milwaukee, Wisconsin</td>\n      <td>590157</td>\n      <td>city</td>\n      <td>973</td>\n      <td>Wisconsin</td>\n      <td>Milwaukee</td>\n      <td>7874</td>\n      <td>97</td>\n      <td>427</td>\n      <td>1911</td>\n      <td>...</td>\n      <td>3450</td>\n      <td>198</td>\n      <td>590923</td>\n      <td>7818.258531</td>\n      <td>Metropolitan Area</td>\n      <td>500,000-1,500,000</td>\n      <td>Low Rent</td>\n      <td>$581.99-1,294.50</td>\n      <td>Lower Crime</td>\n      <td>5,831.013-7,951.131</td>\n    </tr>\n    <tr>\n      <th>2048</th>\n      <td>Milwaukee, Wisconsin</td>\n      <td>590157</td>\n      <td>city</td>\n      <td>792</td>\n      <td>Wisconsin</td>\n      <td>Milwaukee</td>\n      <td>7874</td>\n      <td>97</td>\n      <td>427</td>\n      <td>1911</td>\n      <td>...</td>\n      <td>3450</td>\n      <td>198</td>\n      <td>590923</td>\n      <td>7818.258531</td>\n      <td>Metropolitan Area</td>\n      <td>500,000-1,500,000</td>\n      <td>Low Rent</td>\n      <td>$581.99-1,294.50</td>\n      <td>Lower Crime</td>\n      <td>5,831.013-7,951.131</td>\n    </tr>\n    <tr>\n      <th>2049</th>\n      <td>Milwaukee, Wisconsin</td>\n      <td>590157</td>\n      <td>city</td>\n      <td>1066</td>\n      <td>Wisconsin</td>\n      <td>Milwaukee</td>\n      <td>7874</td>\n      <td>97</td>\n      <td>427</td>\n      <td>1911</td>\n      <td>...</td>\n      <td>3450</td>\n      <td>198</td>\n      <td>590923</td>\n      <td>7818.258531</td>\n      <td>Metropolitan Area</td>\n      <td>500,000-1,500,000</td>\n      <td>Low Rent</td>\n      <td>$581.99-1,294.50</td>\n      <td>Lower Crime</td>\n      <td>5,831.013-7,951.131</td>\n    </tr>\n  </tbody>\n</table>\n<p>1626 rows × 24 columns</p>\n</div>"
     },
     "metadata": {},
     "execution_count": 38
    }
   ],
   "source": [
    "# Bin the 2019 Crimes Rate data into categories and ranges\n",
    "\n",
    "bins = [1972.79, 5831.013, 7951.131, 9683.737, 11316.718, 16274.42]\n",
    "labels = [\"Lowest Crime\", \"Lower Crime\", \"Average Crime\", \"Higher Crime\", \"Highest Crime\"]\n",
    "merged_population_rent_crime['Crime Rate Categories'] = pd.cut(merged_population_rent_crime['Crime Rate'], bins=bins, labels=labels)\n",
    "\n",
    "bins = [1972.79, 5831.013, 7951.131, 9683.737, 11316.718, 16274.42]\n",
    "labels = [\"1,972.79-5,831.013\", \"5,831.013-7,951.131\", \"7,951.131-9,683.737\", \"9,683.737-11,316.718\", \"11,316.718-16,274.42\"]\n",
    "merged_population_rent_crime['Crime Rate Ranges'] = pd.cut(merged_population_rent_crime['Crime Rate'], bins=bins, labels=labels)\n",
    "\n",
    "merged_population_rent_crime"
   ]
  },
  {
   "cell_type": "code",
   "execution_count": 39,
   "metadata": {},
   "outputs": [],
   "source": [
    "# Export merged_population_rent_crime with binned categories for csv and beginning modeling in another notebook\n",
    "\n",
    "merged_population_rent_crime.to_csv('../data/pop_rent_crime_bins.csv')"
   ]
  },
  {
   "cell_type": "code",
   "execution_count": 40,
   "metadata": {},
   "outputs": [],
   "source": [
    "#1/24/2020 Adding walk_score and cost_of_living data for Release 2\n",
    "\n",
    "walk = pd.read_csv(\"../data/walk_score.csv\")\n",
    "cost = pd.read_csv(\"../data/cost_of_living.csv\")"
   ]
  },
  {
   "cell_type": "code",
   "execution_count": 41,
   "metadata": {},
   "outputs": [
    {
     "output_type": "execute_result",
     "data": {
      "text/plain": [
       "      Unnamed: 0          City  Zip Code  Walk Score Transit Score  \\\n",
       "0              0    Birmingham   35211.0          35            25   \n",
       "1              1    Montgomery   36109.0          26            16   \n",
       "2              2        Mobile   36605.0          32            --   \n",
       "3              3    Huntsville   35810.0          24            13   \n",
       "4              4    Tuscaloosa       NaN          33            --   \n",
       "...          ...           ...       ...         ...           ...   \n",
       "2495           1        Casper       NaN          39            --   \n",
       "2496           2       Laramie       NaN          34            --   \n",
       "2497           3      Gillette       NaN          21            --   \n",
       "2498           4  Rock Springs       NaN          29            --   \n",
       "2499           5      Sheridan       NaN          30            --   \n",
       "\n",
       "      Bike Score  Population State  \n",
       "0             31      212237    AL  \n",
       "1             38      205764    AL  \n",
       "2             39      195111    AL  \n",
       "3             40      180105    AL  \n",
       "4             37       90468    AL  \n",
       "...          ...         ...   ...  \n",
       "2495          44       55316    WY  \n",
       "2496          67       30816    WY  \n",
       "2497          34       29087    WY  \n",
       "2498          32       23036    WY  \n",
       "2499          45       17444    WY  \n",
       "\n",
       "[2500 rows x 8 columns]"
      ],
      "text/html": "<div>\n<style scoped>\n    .dataframe tbody tr th:only-of-type {\n        vertical-align: middle;\n    }\n\n    .dataframe tbody tr th {\n        vertical-align: top;\n    }\n\n    .dataframe thead th {\n        text-align: right;\n    }\n</style>\n<table border=\"1\" class=\"dataframe\">\n  <thead>\n    <tr style=\"text-align: right;\">\n      <th></th>\n      <th>Unnamed: 0</th>\n      <th>City</th>\n      <th>Zip Code</th>\n      <th>Walk Score</th>\n      <th>Transit Score</th>\n      <th>Bike Score</th>\n      <th>Population</th>\n      <th>State</th>\n    </tr>\n  </thead>\n  <tbody>\n    <tr>\n      <th>0</th>\n      <td>0</td>\n      <td>Birmingham</td>\n      <td>35211.0</td>\n      <td>35</td>\n      <td>25</td>\n      <td>31</td>\n      <td>212237</td>\n      <td>AL</td>\n    </tr>\n    <tr>\n      <th>1</th>\n      <td>1</td>\n      <td>Montgomery</td>\n      <td>36109.0</td>\n      <td>26</td>\n      <td>16</td>\n      <td>38</td>\n      <td>205764</td>\n      <td>AL</td>\n    </tr>\n    <tr>\n      <th>2</th>\n      <td>2</td>\n      <td>Mobile</td>\n      <td>36605.0</td>\n      <td>32</td>\n      <td>--</td>\n      <td>39</td>\n      <td>195111</td>\n      <td>AL</td>\n    </tr>\n    <tr>\n      <th>3</th>\n      <td>3</td>\n      <td>Huntsville</td>\n      <td>35810.0</td>\n      <td>24</td>\n      <td>13</td>\n      <td>40</td>\n      <td>180105</td>\n      <td>AL</td>\n    </tr>\n    <tr>\n      <th>4</th>\n      <td>4</td>\n      <td>Tuscaloosa</td>\n      <td>NaN</td>\n      <td>33</td>\n      <td>--</td>\n      <td>37</td>\n      <td>90468</td>\n      <td>AL</td>\n    </tr>\n    <tr>\n      <th>...</th>\n      <td>...</td>\n      <td>...</td>\n      <td>...</td>\n      <td>...</td>\n      <td>...</td>\n      <td>...</td>\n      <td>...</td>\n      <td>...</td>\n    </tr>\n    <tr>\n      <th>2495</th>\n      <td>1</td>\n      <td>Casper</td>\n      <td>NaN</td>\n      <td>39</td>\n      <td>--</td>\n      <td>44</td>\n      <td>55316</td>\n      <td>WY</td>\n    </tr>\n    <tr>\n      <th>2496</th>\n      <td>2</td>\n      <td>Laramie</td>\n      <td>NaN</td>\n      <td>34</td>\n      <td>--</td>\n      <td>67</td>\n      <td>30816</td>\n      <td>WY</td>\n    </tr>\n    <tr>\n      <th>2497</th>\n      <td>3</td>\n      <td>Gillette</td>\n      <td>NaN</td>\n      <td>21</td>\n      <td>--</td>\n      <td>34</td>\n      <td>29087</td>\n      <td>WY</td>\n    </tr>\n    <tr>\n      <th>2498</th>\n      <td>4</td>\n      <td>Rock Springs</td>\n      <td>NaN</td>\n      <td>29</td>\n      <td>--</td>\n      <td>32</td>\n      <td>23036</td>\n      <td>WY</td>\n    </tr>\n    <tr>\n      <th>2499</th>\n      <td>5</td>\n      <td>Sheridan</td>\n      <td>NaN</td>\n      <td>30</td>\n      <td>--</td>\n      <td>45</td>\n      <td>17444</td>\n      <td>WY</td>\n    </tr>\n  </tbody>\n</table>\n<p>2500 rows × 8 columns</p>\n</div>"
     },
     "metadata": {},
     "execution_count": 41
    }
   ],
   "source": [
    "# Check out walk data\n",
    "\n",
    "walk"
   ]
  },
  {
   "cell_type": "code",
   "execution_count": 42,
   "metadata": {},
   "outputs": [],
   "source": [
    "# Replace state abbreviations with full state names\n",
    "\n",
    "walk[\"State\"] = walk['State'].str.replace('AK', 'Alaska', regex=False)\n",
    "walk[\"State\"] = walk['State'].str.replace('AL', 'Alabama', regex=False)\n",
    "walk[\"State\"] = walk['State'].str.replace('AR', 'Arkansas', regex=False)\n",
    "walk[\"State\"] = walk['State'].str.replace('AS', 'American Samoa', regex=False)\n",
    "walk[\"State\"] = walk['State'].str.replace('AZ', 'Arizona', regex=False)\n",
    "walk[\"State\"] = walk['State'].str.replace('CA', 'California', regex=False)\n",
    "walk[\"State\"] = walk['State'].str.replace('CO', 'Colorado', regex=False)\n",
    "walk[\"State\"] = walk['State'].str.replace('CT', 'Connecticut', regex=False)\n",
    "walk[\"State\"] = walk['State'].str.replace('DC', 'District of Columbia', regex=False)\n",
    "walk[\"State\"] = walk['State'].str.replace('DE', 'Delaware', regex=False)\n",
    "walk[\"State\"] = walk['State'].str.replace('FL', 'Florida', regex=False)\n",
    "walk[\"State\"] = walk['State'].str.replace('GA', 'Georgia', regex=False)\n",
    "walk[\"State\"] = walk['State'].str.replace('GU', 'Guam', regex=False)\n",
    "walk[\"State\"] = walk['State'].str.replace('HI', 'Hawaii', regex=False)\n",
    "walk[\"State\"] = walk['State'].str.replace('IA', 'Iowa', regex=False)\n",
    "walk[\"State\"] = walk['State'].str.replace('ID', 'Idaho', regex=False)\n",
    "walk[\"State\"] = walk['State'].str.replace('IL', 'Illinois', regex=False)\n",
    "walk[\"State\"] = walk['State'].str.replace('IN', 'Indiana', regex=False)\n",
    "walk[\"State\"] = walk['State'].str.replace('KS', 'Kansas', regex=False)\n",
    "walk[\"State\"] = walk['State'].str.replace('KY', 'Kentucky', regex=False)\n",
    "walk[\"State\"] = walk['State'].str.replace('LA', 'Louisiana', regex=False)\n",
    "walk[\"State\"] = walk['State'].str.replace('MA', 'Massachusetts', regex=False)\n",
    "walk[\"State\"] = walk['State'].str.replace('MD', 'Maryland', regex=False)\n",
    "walk[\"State\"] = walk['State'].str.replace('ME', 'Maine', regex=False)\n",
    "walk[\"State\"] = walk['State'].str.replace('MI', 'Michigan', regex=False)\n",
    "walk[\"State\"] = walk['State'].str.replace('MN', 'Minnesota', regex=False)\n",
    "walk[\"State\"] = walk['State'].str.replace('MO', 'Missouri', regex=False)\n",
    "walk[\"State\"] = walk['State'].str.replace('MP', 'Northern Mariana Islands', regex=False)\n",
    "walk[\"State\"] = walk['State'].str.replace('MS', 'Mississippi', regex=False)\n",
    "walk[\"State\"] = walk['State'].str.replace('MT', 'Montana', regex=False)\n",
    "walk[\"State\"] = walk['State'].str.replace('NA', 'National', regex=False)\n",
    "walk[\"State\"] = walk['State'].str.replace('NC', 'North Carolina', regex=False)\n",
    "walk[\"State\"] = walk['State'].str.replace('ND', 'North Dakota', regex=False)\n",
    "walk[\"State\"] = walk['State'].str.replace('NE', 'Nebraska', regex=False)\n",
    "walk[\"State\"] = walk['State'].str.replace('NH', 'New Hampshire', regex=False)\n",
    "walk[\"State\"] = walk['State'].str.replace('NJ', 'New Jersey', regex=False)\n",
    "walk[\"State\"] = walk['State'].str.replace('NM', 'New Mexico', regex=False)\n",
    "walk[\"State\"] = walk['State'].str.replace('NV', 'Nevada', regex=False)\n",
    "walk[\"State\"] = walk['State'].str.replace('NY', 'New York', regex=False)\n",
    "walk[\"State\"] = walk['State'].str.replace('OH', 'Ohio', regex=False)\n",
    "walk[\"State\"] = walk['State'].str.replace('OK', 'Oklahoma', regex=False)\n",
    "walk[\"State\"] = walk['State'].str.replace('OR', 'Oregon', regex=False)\n",
    "walk[\"State\"] = walk['State'].str.replace('PA', 'Pennsylvania', regex=False)\n",
    "walk[\"State\"] = walk['State'].str.replace('PR', 'Puerto Rico', regex=False)\n",
    "walk[\"State\"] = walk['State'].str.replace('RI', 'Rhode Island', regex=False)\n",
    "walk[\"State\"] = walk['State'].str.replace('SC', 'South Carolina', regex=False)\n",
    "walk[\"State\"] = walk['State'].str.replace('SD', 'South Dakota', regex=False)\n",
    "walk[\"State\"] = walk['State'].str.replace('TN', 'Tennessee', regex=False)\n",
    "walk[\"State\"] = walk['State'].str.replace('TX', 'Texas', regex=False)\n",
    "walk[\"State\"] = walk['State'].str.replace('UT', 'Utah', regex=False)\n",
    "walk[\"State\"] = walk['State'].str.replace('VA', 'Virginia', regex=False)\n",
    "walk[\"State\"] = walk['State'].str.replace('VI', 'Virgin Islands', regex=False)\n",
    "walk[\"State\"] = walk['State'].str.replace('VT', 'Vermont', regex=False)\n",
    "walk[\"State\"] = walk['State'].str.replace('WA', 'Washington', regex=False)\n",
    "walk[\"State\"] = walk['State'].str.replace('WI', 'Wisconsin', regex=False)\n",
    "walk[\"State\"] = walk['State'].str.replace('WV', 'West Virginia', regex=False)\n",
    "walk[\"State\"] = walk['State'].str.replace('WY', 'Wyoming', regex=False)"
   ]
  },
  {
   "cell_type": "code",
   "execution_count": 43,
   "metadata": {},
   "outputs": [
    {
     "output_type": "execute_result",
     "data": {
      "text/plain": [
       "              City  Zip Code  Walk Score Transit Score  Bike Score  \\\n",
       "0       Birmingham   35211.0          35            25          31   \n",
       "1       Montgomery   36109.0          26            16          38   \n",
       "2           Mobile   36605.0          32            --          39   \n",
       "3       Huntsville   35810.0          24            13          40   \n",
       "4       Tuscaloosa       NaN          33            --          37   \n",
       "...            ...       ...         ...           ...         ...   \n",
       "2495        Casper       NaN          39            --          44   \n",
       "2496       Laramie       NaN          34            --          67   \n",
       "2497      Gillette       NaN          21            --          34   \n",
       "2498  Rock Springs       NaN          29            --          32   \n",
       "2499      Sheridan       NaN          30            --          45   \n",
       "\n",
       "      Population    State  \n",
       "0         212237  Alabama  \n",
       "1         205764  Alabama  \n",
       "2         195111  Alabama  \n",
       "3         180105  Alabama  \n",
       "4          90468  Alabama  \n",
       "...          ...      ...  \n",
       "2495       55316  Wyoming  \n",
       "2496       30816  Wyoming  \n",
       "2497       29087  Wyoming  \n",
       "2498       23036  Wyoming  \n",
       "2499       17444  Wyoming  \n",
       "\n",
       "[2500 rows x 7 columns]"
      ],
      "text/html": "<div>\n<style scoped>\n    .dataframe tbody tr th:only-of-type {\n        vertical-align: middle;\n    }\n\n    .dataframe tbody tr th {\n        vertical-align: top;\n    }\n\n    .dataframe thead th {\n        text-align: right;\n    }\n</style>\n<table border=\"1\" class=\"dataframe\">\n  <thead>\n    <tr style=\"text-align: right;\">\n      <th></th>\n      <th>City</th>\n      <th>Zip Code</th>\n      <th>Walk Score</th>\n      <th>Transit Score</th>\n      <th>Bike Score</th>\n      <th>Population</th>\n      <th>State</th>\n    </tr>\n  </thead>\n  <tbody>\n    <tr>\n      <th>0</th>\n      <td>Birmingham</td>\n      <td>35211.0</td>\n      <td>35</td>\n      <td>25</td>\n      <td>31</td>\n      <td>212237</td>\n      <td>Alabama</td>\n    </tr>\n    <tr>\n      <th>1</th>\n      <td>Montgomery</td>\n      <td>36109.0</td>\n      <td>26</td>\n      <td>16</td>\n      <td>38</td>\n      <td>205764</td>\n      <td>Alabama</td>\n    </tr>\n    <tr>\n      <th>2</th>\n      <td>Mobile</td>\n      <td>36605.0</td>\n      <td>32</td>\n      <td>--</td>\n      <td>39</td>\n      <td>195111</td>\n      <td>Alabama</td>\n    </tr>\n    <tr>\n      <th>3</th>\n      <td>Huntsville</td>\n      <td>35810.0</td>\n      <td>24</td>\n      <td>13</td>\n      <td>40</td>\n      <td>180105</td>\n      <td>Alabama</td>\n    </tr>\n    <tr>\n      <th>4</th>\n      <td>Tuscaloosa</td>\n      <td>NaN</td>\n      <td>33</td>\n      <td>--</td>\n      <td>37</td>\n      <td>90468</td>\n      <td>Alabama</td>\n    </tr>\n    <tr>\n      <th>...</th>\n      <td>...</td>\n      <td>...</td>\n      <td>...</td>\n      <td>...</td>\n      <td>...</td>\n      <td>...</td>\n      <td>...</td>\n    </tr>\n    <tr>\n      <th>2495</th>\n      <td>Casper</td>\n      <td>NaN</td>\n      <td>39</td>\n      <td>--</td>\n      <td>44</td>\n      <td>55316</td>\n      <td>Wyoming</td>\n    </tr>\n    <tr>\n      <th>2496</th>\n      <td>Laramie</td>\n      <td>NaN</td>\n      <td>34</td>\n      <td>--</td>\n      <td>67</td>\n      <td>30816</td>\n      <td>Wyoming</td>\n    </tr>\n    <tr>\n      <th>2497</th>\n      <td>Gillette</td>\n      <td>NaN</td>\n      <td>21</td>\n      <td>--</td>\n      <td>34</td>\n      <td>29087</td>\n      <td>Wyoming</td>\n    </tr>\n    <tr>\n      <th>2498</th>\n      <td>Rock Springs</td>\n      <td>NaN</td>\n      <td>29</td>\n      <td>--</td>\n      <td>32</td>\n      <td>23036</td>\n      <td>Wyoming</td>\n    </tr>\n    <tr>\n      <th>2499</th>\n      <td>Sheridan</td>\n      <td>NaN</td>\n      <td>30</td>\n      <td>--</td>\n      <td>45</td>\n      <td>17444</td>\n      <td>Wyoming</td>\n    </tr>\n  </tbody>\n</table>\n<p>2500 rows × 7 columns</p>\n</div>"
     },
     "metadata": {},
     "execution_count": 43
    }
   ],
   "source": [
    "# Drop the Unnamed: 0 columns, which seems like an extra sort of index\n",
    "\n",
    "walk = walk.drop(['Unnamed: 0'], axis=1)\n",
    "walk"
   ]
  },
  {
   "cell_type": "code",
   "execution_count": 44,
   "metadata": {},
   "outputs": [
    {
     "output_type": "execute_result",
     "data": {
      "text/plain": [
       "City              object\n",
       "Zip Code         float64\n",
       "Walk Score         int64\n",
       "Transit Score     object\n",
       "Bike Score         int64\n",
       "Population         int64\n",
       "State             object\n",
       "dtype: object"
      ]
     },
     "metadata": {},
     "execution_count": 44
    }
   ],
   "source": [
    "# Check dtypes and notice Transit Score is an object because values contain \"--\". Should these values be replaced with 0's?\n",
    "\n",
    "walk.dtypes"
   ]
  },
  {
   "cell_type": "code",
   "execution_count": 45,
   "metadata": {},
   "outputs": [
    {
     "output_type": "execute_result",
     "data": {
      "text/plain": [
       "City                0\n",
       "Zip Code         1489\n",
       "Walk Score          0\n",
       "Transit Score       0\n",
       "Bike Score          0\n",
       "Population          0\n",
       "State               0\n",
       "dtype: int64"
      ]
     },
     "metadata": {},
     "execution_count": 45
    }
   ],
   "source": [
    "# Count null values in all of the walk columns\n",
    "\n",
    "walk.isnull().sum(axis = 0)"
   ]
  },
  {
   "cell_type": "code",
   "execution_count": 46,
   "metadata": {},
   "outputs": [],
   "source": [
    " # Fill the null values so that we can change Zip Code column to an integer format and maybe use it join data later\n",
    " \n",
    " walk = walk.fillna(0)"
   ]
  },
  {
   "cell_type": "code",
   "execution_count": 47,
   "metadata": {},
   "outputs": [],
   "source": [
    "# Change the Zip Code column to be integer type data\n",
    "\n",
    "walk['Zip Code'] = walk['Zip Code'].astype(int)"
   ]
  },
  {
   "cell_type": "code",
   "execution_count": 48,
   "metadata": {},
   "outputs": [
    {
     "output_type": "execute_result",
     "data": {
      "text/plain": [
       "              City  Zip Code  Walk Score Transit Score  Bike Score  \\\n",
       "0       Birmingham     35211          35            25          31   \n",
       "1       Montgomery     36109          26            16          38   \n",
       "2           Mobile     36605          32            --          39   \n",
       "3       Huntsville     35810          24            13          40   \n",
       "4       Tuscaloosa         0          33            --          37   \n",
       "...            ...       ...         ...           ...         ...   \n",
       "2495        Casper         0          39            --          44   \n",
       "2496       Laramie         0          34            --          67   \n",
       "2497      Gillette         0          21            --          34   \n",
       "2498  Rock Springs         0          29            --          32   \n",
       "2499      Sheridan         0          30            --          45   \n",
       "\n",
       "      Population    State               Location  \n",
       "0         212237  Alabama    Birmingham, Alabama  \n",
       "1         205764  Alabama    Montgomery, Alabama  \n",
       "2         195111  Alabama        Mobile, Alabama  \n",
       "3         180105  Alabama    Huntsville, Alabama  \n",
       "4          90468  Alabama    Tuscaloosa, Alabama  \n",
       "...          ...      ...                    ...  \n",
       "2495       55316  Wyoming        Casper, Wyoming  \n",
       "2496       30816  Wyoming       Laramie, Wyoming  \n",
       "2497       29087  Wyoming      Gillette, Wyoming  \n",
       "2498       23036  Wyoming  Rock Springs, Wyoming  \n",
       "2499       17444  Wyoming      Sheridan, Wyoming  \n",
       "\n",
       "[2500 rows x 8 columns]"
      ],
      "text/html": "<div>\n<style scoped>\n    .dataframe tbody tr th:only-of-type {\n        vertical-align: middle;\n    }\n\n    .dataframe tbody tr th {\n        vertical-align: top;\n    }\n\n    .dataframe thead th {\n        text-align: right;\n    }\n</style>\n<table border=\"1\" class=\"dataframe\">\n  <thead>\n    <tr style=\"text-align: right;\">\n      <th></th>\n      <th>City</th>\n      <th>Zip Code</th>\n      <th>Walk Score</th>\n      <th>Transit Score</th>\n      <th>Bike Score</th>\n      <th>Population</th>\n      <th>State</th>\n      <th>Location</th>\n    </tr>\n  </thead>\n  <tbody>\n    <tr>\n      <th>0</th>\n      <td>Birmingham</td>\n      <td>35211</td>\n      <td>35</td>\n      <td>25</td>\n      <td>31</td>\n      <td>212237</td>\n      <td>Alabama</td>\n      <td>Birmingham, Alabama</td>\n    </tr>\n    <tr>\n      <th>1</th>\n      <td>Montgomery</td>\n      <td>36109</td>\n      <td>26</td>\n      <td>16</td>\n      <td>38</td>\n      <td>205764</td>\n      <td>Alabama</td>\n      <td>Montgomery, Alabama</td>\n    </tr>\n    <tr>\n      <th>2</th>\n      <td>Mobile</td>\n      <td>36605</td>\n      <td>32</td>\n      <td>--</td>\n      <td>39</td>\n      <td>195111</td>\n      <td>Alabama</td>\n      <td>Mobile, Alabama</td>\n    </tr>\n    <tr>\n      <th>3</th>\n      <td>Huntsville</td>\n      <td>35810</td>\n      <td>24</td>\n      <td>13</td>\n      <td>40</td>\n      <td>180105</td>\n      <td>Alabama</td>\n      <td>Huntsville, Alabama</td>\n    </tr>\n    <tr>\n      <th>4</th>\n      <td>Tuscaloosa</td>\n      <td>0</td>\n      <td>33</td>\n      <td>--</td>\n      <td>37</td>\n      <td>90468</td>\n      <td>Alabama</td>\n      <td>Tuscaloosa, Alabama</td>\n    </tr>\n    <tr>\n      <th>...</th>\n      <td>...</td>\n      <td>...</td>\n      <td>...</td>\n      <td>...</td>\n      <td>...</td>\n      <td>...</td>\n      <td>...</td>\n      <td>...</td>\n    </tr>\n    <tr>\n      <th>2495</th>\n      <td>Casper</td>\n      <td>0</td>\n      <td>39</td>\n      <td>--</td>\n      <td>44</td>\n      <td>55316</td>\n      <td>Wyoming</td>\n      <td>Casper, Wyoming</td>\n    </tr>\n    <tr>\n      <th>2496</th>\n      <td>Laramie</td>\n      <td>0</td>\n      <td>34</td>\n      <td>--</td>\n      <td>67</td>\n      <td>30816</td>\n      <td>Wyoming</td>\n      <td>Laramie, Wyoming</td>\n    </tr>\n    <tr>\n      <th>2497</th>\n      <td>Gillette</td>\n      <td>0</td>\n      <td>21</td>\n      <td>--</td>\n      <td>34</td>\n      <td>29087</td>\n      <td>Wyoming</td>\n      <td>Gillette, Wyoming</td>\n    </tr>\n    <tr>\n      <th>2498</th>\n      <td>Rock Springs</td>\n      <td>0</td>\n      <td>29</td>\n      <td>--</td>\n      <td>32</td>\n      <td>23036</td>\n      <td>Wyoming</td>\n      <td>Rock Springs, Wyoming</td>\n    </tr>\n    <tr>\n      <th>2499</th>\n      <td>Sheridan</td>\n      <td>0</td>\n      <td>30</td>\n      <td>--</td>\n      <td>45</td>\n      <td>17444</td>\n      <td>Wyoming</td>\n      <td>Sheridan, Wyoming</td>\n    </tr>\n  </tbody>\n</table>\n<p>2500 rows × 8 columns</p>\n</div>"
     },
     "metadata": {},
     "execution_count": 48
    }
   ],
   "source": [
    "# Make new Location column with City and State data, so the data can be joined with the other data on this column\n",
    "\n",
    "walk['Location'] = walk['City'] + ',' + ' ' + walk['State']\n",
    "walk"
   ]
  },
  {
   "cell_type": "code",
   "execution_count": 49,
   "metadata": {},
   "outputs": [],
   "source": [
    "# Drop City and State columns since they are redundant with Location and they already exist in first merged data\n",
    "\n",
    "walk = walk.drop(columns=['City', 'State'])"
   ]
  },
  {
   "cell_type": "code",
   "execution_count": 50,
   "metadata": {},
   "outputs": [
    {
     "output_type": "execute_result",
     "data": {
      "text/plain": [
       "           Zip Code   Walk Score  Bike Score    Population\n",
       "count   2500.000000  2500.000000  2500.00000  2.500000e+03\n",
       "mean   20787.882800    36.364800    43.45200  6.687973e+04\n",
       "std    32514.371193    15.711144    11.58688  2.157376e+05\n",
       "min        0.000000     2.000000     7.00000  1.652200e+04\n",
       "25%        0.000000    25.000000    36.00000  2.246775e+04\n",
       "50%        0.000000    35.000000    43.00000  3.262700e+04\n",
       "75%    36675.750000    44.250000    50.00000  5.857000e+04\n",
       "max    99336.000000    96.000000    96.00000  8.175133e+06"
      ],
      "text/html": "<div>\n<style scoped>\n    .dataframe tbody tr th:only-of-type {\n        vertical-align: middle;\n    }\n\n    .dataframe tbody tr th {\n        vertical-align: top;\n    }\n\n    .dataframe thead th {\n        text-align: right;\n    }\n</style>\n<table border=\"1\" class=\"dataframe\">\n  <thead>\n    <tr style=\"text-align: right;\">\n      <th></th>\n      <th>Zip Code</th>\n      <th>Walk Score</th>\n      <th>Bike Score</th>\n      <th>Population</th>\n    </tr>\n  </thead>\n  <tbody>\n    <tr>\n      <th>count</th>\n      <td>2500.000000</td>\n      <td>2500.000000</td>\n      <td>2500.00000</td>\n      <td>2.500000e+03</td>\n    </tr>\n    <tr>\n      <th>mean</th>\n      <td>20787.882800</td>\n      <td>36.364800</td>\n      <td>43.45200</td>\n      <td>6.687973e+04</td>\n    </tr>\n    <tr>\n      <th>std</th>\n      <td>32514.371193</td>\n      <td>15.711144</td>\n      <td>11.58688</td>\n      <td>2.157376e+05</td>\n    </tr>\n    <tr>\n      <th>min</th>\n      <td>0.000000</td>\n      <td>2.000000</td>\n      <td>7.00000</td>\n      <td>1.652200e+04</td>\n    </tr>\n    <tr>\n      <th>25%</th>\n      <td>0.000000</td>\n      <td>25.000000</td>\n      <td>36.00000</td>\n      <td>2.246775e+04</td>\n    </tr>\n    <tr>\n      <th>50%</th>\n      <td>0.000000</td>\n      <td>35.000000</td>\n      <td>43.00000</td>\n      <td>3.262700e+04</td>\n    </tr>\n    <tr>\n      <th>75%</th>\n      <td>36675.750000</td>\n      <td>44.250000</td>\n      <td>50.00000</td>\n      <td>5.857000e+04</td>\n    </tr>\n    <tr>\n      <th>max</th>\n      <td>99336.000000</td>\n      <td>96.000000</td>\n      <td>96.00000</td>\n      <td>8.175133e+06</td>\n    </tr>\n  </tbody>\n</table>\n</div>"
     },
     "metadata": {},
     "execution_count": 50
    }
   ],
   "source": [
    "# Bin the walk score according to quartiles(also Bike Score and Transit score but need to investigate and missing value denoted as  \"--\")\n",
    "\n",
    "# Describe the data to begin binning data with pandas cut or qcut\n",
    "\n",
    "walk.describe()"
   ]
  },
  {
   "cell_type": "code",
   "execution_count": 51,
   "metadata": {},
   "outputs": [
    {
     "output_type": "execute_result",
     "data": {
      "text/plain": [
       "0        (31.0, 38.0]\n",
       "1        (23.0, 31.0]\n",
       "2        (31.0, 38.0]\n",
       "3        (23.0, 31.0]\n",
       "4        (31.0, 38.0]\n",
       "            ...      \n",
       "2495     (38.0, 48.0]\n",
       "2496     (31.0, 38.0]\n",
       "2497    (1.999, 23.0]\n",
       "2498     (23.0, 31.0]\n",
       "2499     (23.0, 31.0]\n",
       "Name: Walk Score, Length: 2500, dtype: category\n",
       "Categories (5, interval[float64]): [(1.999, 23.0] < (23.0, 31.0] < (31.0, 38.0] < (38.0, 48.0] < (48.0, 96.0]]"
      ]
     },
     "metadata": {},
     "execution_count": 51
    }
   ],
   "source": [
    "# Quartile cut the Walk Score data, to see how it is evenly distributed\n",
    "\n",
    "pd.qcut(walk['Walk Score'], q=5)"
   ]
  },
  {
   "cell_type": "code",
   "execution_count": 52,
   "metadata": {},
   "outputs": [
    {
     "output_type": "execute_result",
     "data": {
      "text/plain": [
       "      Zip Code  Walk Score Transit Score  Bike Score  Population  \\\n",
       "0        35211          35            25          31      212237   \n",
       "1        36109          26            16          38      205764   \n",
       "2        36605          32            --          39      195111   \n",
       "3        35810          24            13          40      180105   \n",
       "4            0          33            --          37       90468   \n",
       "...        ...         ...           ...         ...         ...   \n",
       "2495         0          39            --          44       55316   \n",
       "2496         0          34            --          67       30816   \n",
       "2497         0          21            --          34       29087   \n",
       "2498         0          29            --          32       23036   \n",
       "2499         0          30            --          45       17444   \n",
       "\n",
       "                   Location Walk Score Categories Walk Score Ranges  \n",
       "0       Birmingham, Alabama    Average Walk Score         31.0-38.0  \n",
       "1       Montgomery, Alabama      Lower Walk Score         23,0-31.0  \n",
       "2           Mobile, Alabama    Average Walk Score         31.0-38.0  \n",
       "3       Huntsville, Alabama      Lower Walk Score         23,0-31.0  \n",
       "4       Tuscaloosa, Alabama    Average Walk Score         31.0-38.0  \n",
       "...                     ...                   ...               ...  \n",
       "2495        Casper, Wyoming     Higher Walk Score         38.0-48.0  \n",
       "2496       Laramie, Wyoming    Average Walk Score         31.0-38.0  \n",
       "2497      Gillette, Wyoming     Lowest Walk Score        1.999-23.0  \n",
       "2498  Rock Springs, Wyoming      Lower Walk Score         23,0-31.0  \n",
       "2499      Sheridan, Wyoming      Lower Walk Score         23,0-31.0  \n",
       "\n",
       "[2500 rows x 8 columns]"
      ],
      "text/html": "<div>\n<style scoped>\n    .dataframe tbody tr th:only-of-type {\n        vertical-align: middle;\n    }\n\n    .dataframe tbody tr th {\n        vertical-align: top;\n    }\n\n    .dataframe thead th {\n        text-align: right;\n    }\n</style>\n<table border=\"1\" class=\"dataframe\">\n  <thead>\n    <tr style=\"text-align: right;\">\n      <th></th>\n      <th>Zip Code</th>\n      <th>Walk Score</th>\n      <th>Transit Score</th>\n      <th>Bike Score</th>\n      <th>Population</th>\n      <th>Location</th>\n      <th>Walk Score Categories</th>\n      <th>Walk Score Ranges</th>\n    </tr>\n  </thead>\n  <tbody>\n    <tr>\n      <th>0</th>\n      <td>35211</td>\n      <td>35</td>\n      <td>25</td>\n      <td>31</td>\n      <td>212237</td>\n      <td>Birmingham, Alabama</td>\n      <td>Average Walk Score</td>\n      <td>31.0-38.0</td>\n    </tr>\n    <tr>\n      <th>1</th>\n      <td>36109</td>\n      <td>26</td>\n      <td>16</td>\n      <td>38</td>\n      <td>205764</td>\n      <td>Montgomery, Alabama</td>\n      <td>Lower Walk Score</td>\n      <td>23,0-31.0</td>\n    </tr>\n    <tr>\n      <th>2</th>\n      <td>36605</td>\n      <td>32</td>\n      <td>--</td>\n      <td>39</td>\n      <td>195111</td>\n      <td>Mobile, Alabama</td>\n      <td>Average Walk Score</td>\n      <td>31.0-38.0</td>\n    </tr>\n    <tr>\n      <th>3</th>\n      <td>35810</td>\n      <td>24</td>\n      <td>13</td>\n      <td>40</td>\n      <td>180105</td>\n      <td>Huntsville, Alabama</td>\n      <td>Lower Walk Score</td>\n      <td>23,0-31.0</td>\n    </tr>\n    <tr>\n      <th>4</th>\n      <td>0</td>\n      <td>33</td>\n      <td>--</td>\n      <td>37</td>\n      <td>90468</td>\n      <td>Tuscaloosa, Alabama</td>\n      <td>Average Walk Score</td>\n      <td>31.0-38.0</td>\n    </tr>\n    <tr>\n      <th>...</th>\n      <td>...</td>\n      <td>...</td>\n      <td>...</td>\n      <td>...</td>\n      <td>...</td>\n      <td>...</td>\n      <td>...</td>\n      <td>...</td>\n    </tr>\n    <tr>\n      <th>2495</th>\n      <td>0</td>\n      <td>39</td>\n      <td>--</td>\n      <td>44</td>\n      <td>55316</td>\n      <td>Casper, Wyoming</td>\n      <td>Higher Walk Score</td>\n      <td>38.0-48.0</td>\n    </tr>\n    <tr>\n      <th>2496</th>\n      <td>0</td>\n      <td>34</td>\n      <td>--</td>\n      <td>67</td>\n      <td>30816</td>\n      <td>Laramie, Wyoming</td>\n      <td>Average Walk Score</td>\n      <td>31.0-38.0</td>\n    </tr>\n    <tr>\n      <th>2497</th>\n      <td>0</td>\n      <td>21</td>\n      <td>--</td>\n      <td>34</td>\n      <td>29087</td>\n      <td>Gillette, Wyoming</td>\n      <td>Lowest Walk Score</td>\n      <td>1.999-23.0</td>\n    </tr>\n    <tr>\n      <th>2498</th>\n      <td>0</td>\n      <td>29</td>\n      <td>--</td>\n      <td>32</td>\n      <td>23036</td>\n      <td>Rock Springs, Wyoming</td>\n      <td>Lower Walk Score</td>\n      <td>23,0-31.0</td>\n    </tr>\n    <tr>\n      <th>2499</th>\n      <td>0</td>\n      <td>30</td>\n      <td>--</td>\n      <td>45</td>\n      <td>17444</td>\n      <td>Sheridan, Wyoming</td>\n      <td>Lower Walk Score</td>\n      <td>23,0-31.0</td>\n    </tr>\n  </tbody>\n</table>\n<p>2500 rows × 8 columns</p>\n</div>"
     },
     "metadata": {},
     "execution_count": 52
    }
   ],
   "source": [
    "# Bin the Walk Score data into categories and ranges\n",
    "\n",
    "bins = [1.999, 23.0, 31.0, 38.0, 48.0, 96.0]\n",
    "labels = [\"Lowest Walk Score\", \"Lower Walk Score\", \"Average Walk Score\", \"Higher Walk Score\", \"Highest Walk Score\"]\n",
    "walk['Walk Score Categories'] = pd.cut(walk['Walk Score'], bins=bins, labels=labels)\n",
    "\n",
    "bins = [1.999, 23.0, 31.0, 38.0, 48.0, 96.0]\n",
    "labels = [\"1.999-23.0\", \"23,0-31.0\", \"31.0-38.0\", \"38.0-48.0\", \"48.0-96.0\"]\n",
    "walk['Walk Score Ranges'] = pd.cut(walk['Walk Score'], bins=bins, labels=labels)\n",
    "\n",
    "walk"
   ]
  },
  {
   "cell_type": "code",
   "execution_count": 53,
   "metadata": {},
   "outputs": [
    {
     "output_type": "execute_result",
     "data": {
      "text/plain": [
       "0       (6.999, 34.0]\n",
       "1        (34.0, 41.0]\n",
       "2        (34.0, 41.0]\n",
       "3        (34.0, 41.0]\n",
       "4        (34.0, 41.0]\n",
       "            ...      \n",
       "2495     (41.0, 46.0]\n",
       "2496     (52.0, 96.0]\n",
       "2497    (6.999, 34.0]\n",
       "2498    (6.999, 34.0]\n",
       "2499     (41.0, 46.0]\n",
       "Name: Bike Score, Length: 2500, dtype: category\n",
       "Categories (5, interval[float64]): [(6.999, 34.0] < (34.0, 41.0] < (41.0, 46.0] < (46.0, 52.0] < (52.0, 96.0]]"
      ]
     },
     "metadata": {},
     "execution_count": 53
    }
   ],
   "source": [
    "# Quartile cut the Bike Score data, to see how it is evenly distributed\n",
    "\n",
    "pd.qcut(walk['Bike Score'], q=5)"
   ]
  },
  {
   "cell_type": "code",
   "execution_count": 54,
   "metadata": {},
   "outputs": [
    {
     "output_type": "execute_result",
     "data": {
      "text/plain": [
       "      Zip Code  Walk Score Transit Score  Bike Score  Population  \\\n",
       "0        35211          35            25          31      212237   \n",
       "1        36109          26            16          38      205764   \n",
       "2        36605          32            --          39      195111   \n",
       "3        35810          24            13          40      180105   \n",
       "4            0          33            --          37       90468   \n",
       "...        ...         ...           ...         ...         ...   \n",
       "2495         0          39            --          44       55316   \n",
       "2496         0          34            --          67       30816   \n",
       "2497         0          21            --          34       29087   \n",
       "2498         0          29            --          32       23036   \n",
       "2499         0          30            --          45       17444   \n",
       "\n",
       "                   Location Walk Score Categories Walk Score Ranges  \\\n",
       "0       Birmingham, Alabama    Average Walk Score         31.0-38.0   \n",
       "1       Montgomery, Alabama      Lower Walk Score         23,0-31.0   \n",
       "2           Mobile, Alabama    Average Walk Score         31.0-38.0   \n",
       "3       Huntsville, Alabama      Lower Walk Score         23,0-31.0   \n",
       "4       Tuscaloosa, Alabama    Average Walk Score         31.0-38.0   \n",
       "...                     ...                   ...               ...   \n",
       "2495        Casper, Wyoming     Higher Walk Score         38.0-48.0   \n",
       "2496       Laramie, Wyoming    Average Walk Score         31.0-38.0   \n",
       "2497      Gillette, Wyoming     Lowest Walk Score        1.999-23.0   \n",
       "2498  Rock Springs, Wyoming      Lower Walk Score         23,0-31.0   \n",
       "2499      Sheridan, Wyoming      Lower Walk Score         23,0-31.0   \n",
       "\n",
       "     Bike Score Categories Bike Score Ranges  \n",
       "0       Lowest Bike Scores        6.999-34.0  \n",
       "1        Lower Bike Scores         34.0-41.0  \n",
       "2        Lower Bike Scores         34.0-41.0  \n",
       "3        Lower Bike Scores         34.0-41.0  \n",
       "4        Lower Bike Scores         34.0-41.0  \n",
       "...                    ...               ...  \n",
       "2495   Average Bike Scores         41.0-46.0  \n",
       "2496   Highest Bike Scores         52.0-96.0  \n",
       "2497    Lowest Bike Scores        6.999-34.0  \n",
       "2498    Lowest Bike Scores        6.999-34.0  \n",
       "2499   Average Bike Scores         41.0-46.0  \n",
       "\n",
       "[2500 rows x 10 columns]"
      ],
      "text/html": "<div>\n<style scoped>\n    .dataframe tbody tr th:only-of-type {\n        vertical-align: middle;\n    }\n\n    .dataframe tbody tr th {\n        vertical-align: top;\n    }\n\n    .dataframe thead th {\n        text-align: right;\n    }\n</style>\n<table border=\"1\" class=\"dataframe\">\n  <thead>\n    <tr style=\"text-align: right;\">\n      <th></th>\n      <th>Zip Code</th>\n      <th>Walk Score</th>\n      <th>Transit Score</th>\n      <th>Bike Score</th>\n      <th>Population</th>\n      <th>Location</th>\n      <th>Walk Score Categories</th>\n      <th>Walk Score Ranges</th>\n      <th>Bike Score Categories</th>\n      <th>Bike Score Ranges</th>\n    </tr>\n  </thead>\n  <tbody>\n    <tr>\n      <th>0</th>\n      <td>35211</td>\n      <td>35</td>\n      <td>25</td>\n      <td>31</td>\n      <td>212237</td>\n      <td>Birmingham, Alabama</td>\n      <td>Average Walk Score</td>\n      <td>31.0-38.0</td>\n      <td>Lowest Bike Scores</td>\n      <td>6.999-34.0</td>\n    </tr>\n    <tr>\n      <th>1</th>\n      <td>36109</td>\n      <td>26</td>\n      <td>16</td>\n      <td>38</td>\n      <td>205764</td>\n      <td>Montgomery, Alabama</td>\n      <td>Lower Walk Score</td>\n      <td>23,0-31.0</td>\n      <td>Lower Bike Scores</td>\n      <td>34.0-41.0</td>\n    </tr>\n    <tr>\n      <th>2</th>\n      <td>36605</td>\n      <td>32</td>\n      <td>--</td>\n      <td>39</td>\n      <td>195111</td>\n      <td>Mobile, Alabama</td>\n      <td>Average Walk Score</td>\n      <td>31.0-38.0</td>\n      <td>Lower Bike Scores</td>\n      <td>34.0-41.0</td>\n    </tr>\n    <tr>\n      <th>3</th>\n      <td>35810</td>\n      <td>24</td>\n      <td>13</td>\n      <td>40</td>\n      <td>180105</td>\n      <td>Huntsville, Alabama</td>\n      <td>Lower Walk Score</td>\n      <td>23,0-31.0</td>\n      <td>Lower Bike Scores</td>\n      <td>34.0-41.0</td>\n    </tr>\n    <tr>\n      <th>4</th>\n      <td>0</td>\n      <td>33</td>\n      <td>--</td>\n      <td>37</td>\n      <td>90468</td>\n      <td>Tuscaloosa, Alabama</td>\n      <td>Average Walk Score</td>\n      <td>31.0-38.0</td>\n      <td>Lower Bike Scores</td>\n      <td>34.0-41.0</td>\n    </tr>\n    <tr>\n      <th>...</th>\n      <td>...</td>\n      <td>...</td>\n      <td>...</td>\n      <td>...</td>\n      <td>...</td>\n      <td>...</td>\n      <td>...</td>\n      <td>...</td>\n      <td>...</td>\n      <td>...</td>\n    </tr>\n    <tr>\n      <th>2495</th>\n      <td>0</td>\n      <td>39</td>\n      <td>--</td>\n      <td>44</td>\n      <td>55316</td>\n      <td>Casper, Wyoming</td>\n      <td>Higher Walk Score</td>\n      <td>38.0-48.0</td>\n      <td>Average Bike Scores</td>\n      <td>41.0-46.0</td>\n    </tr>\n    <tr>\n      <th>2496</th>\n      <td>0</td>\n      <td>34</td>\n      <td>--</td>\n      <td>67</td>\n      <td>30816</td>\n      <td>Laramie, Wyoming</td>\n      <td>Average Walk Score</td>\n      <td>31.0-38.0</td>\n      <td>Highest Bike Scores</td>\n      <td>52.0-96.0</td>\n    </tr>\n    <tr>\n      <th>2497</th>\n      <td>0</td>\n      <td>21</td>\n      <td>--</td>\n      <td>34</td>\n      <td>29087</td>\n      <td>Gillette, Wyoming</td>\n      <td>Lowest Walk Score</td>\n      <td>1.999-23.0</td>\n      <td>Lowest Bike Scores</td>\n      <td>6.999-34.0</td>\n    </tr>\n    <tr>\n      <th>2498</th>\n      <td>0</td>\n      <td>29</td>\n      <td>--</td>\n      <td>32</td>\n      <td>23036</td>\n      <td>Rock Springs, Wyoming</td>\n      <td>Lower Walk Score</td>\n      <td>23,0-31.0</td>\n      <td>Lowest Bike Scores</td>\n      <td>6.999-34.0</td>\n    </tr>\n    <tr>\n      <th>2499</th>\n      <td>0</td>\n      <td>30</td>\n      <td>--</td>\n      <td>45</td>\n      <td>17444</td>\n      <td>Sheridan, Wyoming</td>\n      <td>Lower Walk Score</td>\n      <td>23,0-31.0</td>\n      <td>Average Bike Scores</td>\n      <td>41.0-46.0</td>\n    </tr>\n  </tbody>\n</table>\n<p>2500 rows × 10 columns</p>\n</div>"
     },
     "metadata": {},
     "execution_count": 54
    }
   ],
   "source": [
    "# Bin the Bike Score data into categories and ranges\n",
    "\n",
    "bins = [6.999, 34.0, 41.0, 46.0, 52.0, 96.0]\n",
    "labels = [\"Lowest Bike Scores\", \"Lower Bike Scores\", \"Average Bike Scores\", \"Higher Bike Scores\", \"Highest Bike Scores\"]\n",
    "walk['Bike Score Categories'] = pd.cut(walk['Bike Score'], bins=bins, labels=labels)\n",
    "\n",
    "bins = [6.999, 34.0, 41.0, 46.0, 52.0, 96.0]\n",
    "labels = [\"6.999-34.0\", \"34.0-41.0\", \"41.0-46.0\", \"46.0-52.0\", \"52.0-96.0\"]\n",
    "walk['Bike Score Ranges'] = pd.cut(walk['Bike Score'], bins=bins, labels=labels)\n",
    "\n",
    "walk"
   ]
  },
  {
   "cell_type": "code",
   "execution_count": 55,
   "metadata": {},
   "outputs": [],
   "source": [
    "# Replace \"--\" in Transit Score data with \"0\"\n",
    "\n",
    "walk[\"Transit Score\"] = walk['Transit Score'].str.replace('--', '0', regex=False)"
   ]
  },
  {
   "cell_type": "code",
   "execution_count": 56,
   "metadata": {},
   "outputs": [],
   "source": [
    "# Make Transit Score data int\n",
    "\n",
    "walk['Transit Score'] = walk['Transit Score'].astype('int')"
   ]
  },
  {
   "cell_type": "code",
   "execution_count": 57,
   "metadata": {},
   "outputs": [
    {
     "output_type": "execute_result",
     "data": {
      "text/plain": [
       "           Zip Code   Walk Score  Transit Score  Bike Score    Population\n",
       "count   2500.000000  2500.000000    2500.000000  2500.00000  2.500000e+03\n",
       "mean   20787.882800    36.364800      13.397600    43.45200  6.687973e+04\n",
       "std    32514.371193    15.711144      17.595595    11.58688  2.157376e+05\n",
       "min        0.000000     2.000000       0.000000     7.00000  1.652200e+04\n",
       "25%        0.000000    25.000000       0.000000    36.00000  2.246775e+04\n",
       "50%        0.000000    35.000000       0.000000    43.00000  3.262700e+04\n",
       "75%    36675.750000    44.250000      29.000000    50.00000  5.857000e+04\n",
       "max    99336.000000    96.000000      84.000000    96.00000  8.175133e+06"
      ],
      "text/html": "<div>\n<style scoped>\n    .dataframe tbody tr th:only-of-type {\n        vertical-align: middle;\n    }\n\n    .dataframe tbody tr th {\n        vertical-align: top;\n    }\n\n    .dataframe thead th {\n        text-align: right;\n    }\n</style>\n<table border=\"1\" class=\"dataframe\">\n  <thead>\n    <tr style=\"text-align: right;\">\n      <th></th>\n      <th>Zip Code</th>\n      <th>Walk Score</th>\n      <th>Transit Score</th>\n      <th>Bike Score</th>\n      <th>Population</th>\n    </tr>\n  </thead>\n  <tbody>\n    <tr>\n      <th>count</th>\n      <td>2500.000000</td>\n      <td>2500.000000</td>\n      <td>2500.000000</td>\n      <td>2500.00000</td>\n      <td>2.500000e+03</td>\n    </tr>\n    <tr>\n      <th>mean</th>\n      <td>20787.882800</td>\n      <td>36.364800</td>\n      <td>13.397600</td>\n      <td>43.45200</td>\n      <td>6.687973e+04</td>\n    </tr>\n    <tr>\n      <th>std</th>\n      <td>32514.371193</td>\n      <td>15.711144</td>\n      <td>17.595595</td>\n      <td>11.58688</td>\n      <td>2.157376e+05</td>\n    </tr>\n    <tr>\n      <th>min</th>\n      <td>0.000000</td>\n      <td>2.000000</td>\n      <td>0.000000</td>\n      <td>7.00000</td>\n      <td>1.652200e+04</td>\n    </tr>\n    <tr>\n      <th>25%</th>\n      <td>0.000000</td>\n      <td>25.000000</td>\n      <td>0.000000</td>\n      <td>36.00000</td>\n      <td>2.246775e+04</td>\n    </tr>\n    <tr>\n      <th>50%</th>\n      <td>0.000000</td>\n      <td>35.000000</td>\n      <td>0.000000</td>\n      <td>43.00000</td>\n      <td>3.262700e+04</td>\n    </tr>\n    <tr>\n      <th>75%</th>\n      <td>36675.750000</td>\n      <td>44.250000</td>\n      <td>29.000000</td>\n      <td>50.00000</td>\n      <td>5.857000e+04</td>\n    </tr>\n    <tr>\n      <th>max</th>\n      <td>99336.000000</td>\n      <td>96.000000</td>\n      <td>84.000000</td>\n      <td>96.00000</td>\n      <td>8.175133e+06</td>\n    </tr>\n  </tbody>\n</table>\n</div>"
     },
     "metadata": {},
     "execution_count": 57
    }
   ],
   "source": [
    "walk.describe()"
   ]
  },
  {
   "cell_type": "code",
   "execution_count": 58,
   "metadata": {},
   "outputs": [
    {
     "output_type": "execute_result",
     "data": {
      "text/plain": [
       "0       (-0.001, 84.0]\n",
       "1       (-0.001, 84.0]\n",
       "2       (-0.001, 84.0]\n",
       "3       (-0.001, 84.0]\n",
       "4       (-0.001, 84.0]\n",
       "             ...      \n",
       "2495    (-0.001, 84.0]\n",
       "2496    (-0.001, 84.0]\n",
       "2497    (-0.001, 84.0]\n",
       "2498    (-0.001, 84.0]\n",
       "2499    (-0.001, 84.0]\n",
       "Name: Transit Score, Length: 2500, dtype: category\n",
       "Categories (1, interval[float64]): [(-0.001, 84.0]]"
      ]
     },
     "metadata": {},
     "execution_count": 58
    }
   ],
   "source": [
    "# Quartile cut the Bike Score data, to see how it is evenly distributed\n",
    "\n",
    "pd.qcut(walk['Transit Score'], q=1)\n",
    "\n",
    "# Leaving out Transit Score data for now, not enough data"
   ]
  },
  {
   "cell_type": "code",
   "execution_count": 59,
   "metadata": {},
   "outputs": [],
   "source": [
    "# Drop Zip Code because too granular, Population because it is from previous years (search for better walk scores), and drop Transit Score because too many missing values\n",
    "\n",
    "walk = walk.drop(columns=['Zip Code', 'Population', 'Transit Score'])"
   ]
  },
  {
   "cell_type": "code",
   "execution_count": 60,
   "metadata": {},
   "outputs": [
    {
     "output_type": "execute_result",
     "data": {
      "text/plain": [
       "           City State  Cost of Living Index\n",
       "0      Aberdeen    WA                  95.5\n",
       "1       Abilene    TX                  89.6\n",
       "2        Adrian    MI                  89.9\n",
       "3         Akron    OH                  90.8\n",
       "4    Alamogordo    NM                  86.5\n",
       "..          ...   ...                   ...\n",
       "504  Vero Beach    FL                 100.0\n",
       "505     Weirton    WV                  82.6\n",
       "506    Wheeling    WV                  84.5\n",
       "507  New London    CT                 107.3\n",
       "508    Victoria    TX                  90.4\n",
       "\n",
       "[509 rows x 3 columns]"
      ],
      "text/html": "<div>\n<style scoped>\n    .dataframe tbody tr th:only-of-type {\n        vertical-align: middle;\n    }\n\n    .dataframe tbody tr th {\n        vertical-align: top;\n    }\n\n    .dataframe thead th {\n        text-align: right;\n    }\n</style>\n<table border=\"1\" class=\"dataframe\">\n  <thead>\n    <tr style=\"text-align: right;\">\n      <th></th>\n      <th>City</th>\n      <th>State</th>\n      <th>Cost of Living Index</th>\n    </tr>\n  </thead>\n  <tbody>\n    <tr>\n      <th>0</th>\n      <td>Aberdeen</td>\n      <td>WA</td>\n      <td>95.5</td>\n    </tr>\n    <tr>\n      <th>1</th>\n      <td>Abilene</td>\n      <td>TX</td>\n      <td>89.6</td>\n    </tr>\n    <tr>\n      <th>2</th>\n      <td>Adrian</td>\n      <td>MI</td>\n      <td>89.9</td>\n    </tr>\n    <tr>\n      <th>3</th>\n      <td>Akron</td>\n      <td>OH</td>\n      <td>90.8</td>\n    </tr>\n    <tr>\n      <th>4</th>\n      <td>Alamogordo</td>\n      <td>NM</td>\n      <td>86.5</td>\n    </tr>\n    <tr>\n      <th>...</th>\n      <td>...</td>\n      <td>...</td>\n      <td>...</td>\n    </tr>\n    <tr>\n      <th>504</th>\n      <td>Vero Beach</td>\n      <td>FL</td>\n      <td>100.0</td>\n    </tr>\n    <tr>\n      <th>505</th>\n      <td>Weirton</td>\n      <td>WV</td>\n      <td>82.6</td>\n    </tr>\n    <tr>\n      <th>506</th>\n      <td>Wheeling</td>\n      <td>WV</td>\n      <td>84.5</td>\n    </tr>\n    <tr>\n      <th>507</th>\n      <td>New London</td>\n      <td>CT</td>\n      <td>107.3</td>\n    </tr>\n    <tr>\n      <th>508</th>\n      <td>Victoria</td>\n      <td>TX</td>\n      <td>90.4</td>\n    </tr>\n  </tbody>\n</table>\n<p>509 rows × 3 columns</p>\n</div>"
     },
     "metadata": {},
     "execution_count": 60
    }
   ],
   "source": [
    "# Check out cost data\n",
    "\n",
    "cost"
   ]
  },
  {
   "cell_type": "code",
   "execution_count": 61,
   "metadata": {},
   "outputs": [],
   "source": [
    "# Replace state abbreviations with full state names\n",
    "\n",
    "cost[\"State\"] = cost['State'].str.replace('AK', 'Alaska', regex=False)\n",
    "cost[\"State\"] = cost['State'].str.replace('AL', 'Alabama', regex=False)\n",
    "cost[\"State\"] = cost['State'].str.replace('AR', 'Arkansas', regex=False)\n",
    "cost[\"State\"] = cost['State'].str.replace('AS', 'American Samoa', regex=False)\n",
    "cost[\"State\"] = cost['State'].str.replace('AZ', 'Arizona', regex=False)\n",
    "cost[\"State\"] = cost['State'].str.replace('CA', 'California', regex=False)\n",
    "cost[\"State\"] = cost['State'].str.replace('CO', 'Colorado', regex=False)\n",
    "cost[\"State\"] = cost['State'].str.replace('CT', 'Connecticut', regex=False)\n",
    "cost[\"State\"] = cost['State'].str.replace('DC', 'District of Columbia', regex=False)\n",
    "cost[\"State\"] = cost['State'].str.replace('DE', 'Delaware', regex=False)\n",
    "cost[\"State\"] = cost['State'].str.replace('FL', 'Florida', regex=False)\n",
    "cost[\"State\"] = cost['State'].str.replace('GA', 'Georgia', regex=False)\n",
    "cost[\"State\"] = cost['State'].str.replace('GU', 'Guam', regex=False)\n",
    "cost[\"State\"] = cost['State'].str.replace('HI', 'Hawaii', regex=False)\n",
    "cost[\"State\"] = cost['State'].str.replace('IA', 'Iowa', regex=False)\n",
    "cost[\"State\"] = cost['State'].str.replace('ID', 'Idaho', regex=False)\n",
    "cost[\"State\"] = cost['State'].str.replace('IL', 'Illinois', regex=False)\n",
    "cost[\"State\"] = cost['State'].str.replace('IN', 'Indiana', regex=False)\n",
    "cost[\"State\"] = cost['State'].str.replace('KS', 'Kansas', regex=False)\n",
    "cost[\"State\"] = cost['State'].str.replace('KY', 'Kentucky', regex=False)\n",
    "cost[\"State\"] = cost['State'].str.replace('LA', 'Louisiana', regex=False)\n",
    "cost[\"State\"] = cost['State'].str.replace('MA', 'Massachusetts', regex=False)\n",
    "cost[\"State\"] = cost['State'].str.replace('MD', 'Maryland', regex=False)\n",
    "cost[\"State\"] = cost['State'].str.replace('ME', 'Maine', regex=False)\n",
    "cost[\"State\"] = cost['State'].str.replace('MI', 'Michigan', regex=False)\n",
    "cost[\"State\"] = cost['State'].str.replace('MN', 'Minnesota', regex=False)\n",
    "cost[\"State\"] = cost['State'].str.replace('MO', 'Missouri', regex=False)\n",
    "cost[\"State\"] = cost['State'].str.replace('MP', 'Northern Mariana Islands', regex=False)\n",
    "cost[\"State\"] = cost['State'].str.replace('MS', 'Mississippi', regex=False)\n",
    "cost[\"State\"] = cost['State'].str.replace('MT', 'Montana', regex=False)\n",
    "cost[\"State\"] = cost['State'].str.replace('NA', 'National', regex=False)\n",
    "cost[\"State\"] = cost['State'].str.replace('NC', 'North Carolina', regex=False)\n",
    "cost[\"State\"] = cost['State'].str.replace('ND', 'North Dakota', regex=False)\n",
    "cost[\"State\"] = cost['State'].str.replace('NE', 'Nebraska', regex=False)\n",
    "cost[\"State\"] = cost['State'].str.replace('NH', 'New Hampshire', regex=False)\n",
    "cost[\"State\"] = cost['State'].str.replace('NJ', 'New Jersey', regex=False)\n",
    "cost[\"State\"] = cost['State'].str.replace('NM', 'New Mexico', regex=False)\n",
    "cost[\"State\"] = cost['State'].str.replace('NV', 'Nevada', regex=False)\n",
    "cost[\"State\"] = cost['State'].str.replace('NY', 'New York', regex=False)\n",
    "cost[\"State\"] = cost['State'].str.replace('OH', 'Ohio', regex=False)\n",
    "cost[\"State\"] = cost['State'].str.replace('OK', 'Oklahoma', regex=False)\n",
    "cost[\"State\"] = cost['State'].str.replace('OR', 'Oregon', regex=False)\n",
    "cost[\"State\"] = cost['State'].str.replace('PA', 'Pennsylvania', regex=False)\n",
    "cost[\"State\"] = cost['State'].str.replace('PR', 'Puerto Rico', regex=False)\n",
    "cost[\"State\"] = cost['State'].str.replace('RI', 'Rhode Island', regex=False)\n",
    "cost[\"State\"] = cost['State'].str.replace('SC', 'South Carolina', regex=False)\n",
    "cost[\"State\"] = cost['State'].str.replace('SD', 'South Dakota', regex=False)\n",
    "cost[\"State\"] = cost['State'].str.replace('TN', 'Tennessee', regex=False)\n",
    "cost[\"State\"] = cost['State'].str.replace('TX', 'Texas', regex=False)\n",
    "cost[\"State\"] = cost['State'].str.replace('UT', 'Utah', regex=False)\n",
    "cost[\"State\"] = cost['State'].str.replace('VA', 'Virginia', regex=False)\n",
    "cost[\"State\"] = cost['State'].str.replace('VI', 'Virgin Islands', regex=False)\n",
    "cost[\"State\"] = cost['State'].str.replace('VT', 'Vermont', regex=False)\n",
    "cost[\"State\"] = cost['State'].str.replace('WA', 'Washington', regex=False)\n",
    "cost[\"State\"] = cost['State'].str.replace('WI', 'Wisconsin', regex=False)\n",
    "cost[\"State\"] = cost['State'].str.replace('WV', 'West Virginia', regex=False)\n",
    "cost[\"State\"] = cost['State'].str.replace('WY', 'Wyoming', regex=False)"
   ]
  },
  {
   "cell_type": "code",
   "execution_count": 62,
   "metadata": {},
   "outputs": [
    {
     "output_type": "execute_result",
     "data": {
      "text/plain": [
       "           City          State  Cost of Living Index                 Location\n",
       "0      Aberdeen     Washington                  95.5     Aberdeen, Washington\n",
       "1       Abilene          Texas                  89.6           Abilene, Texas\n",
       "2        Adrian       Michigan                  89.9         Adrian, Michigan\n",
       "3         Akron           Ohio                  90.8              Akron, Ohio\n",
       "4    Alamogordo     New Mexico                  86.5   Alamogordo, New Mexico\n",
       "..          ...            ...                   ...                      ...\n",
       "504  Vero Beach        Florida                 100.0      Vero Beach, Florida\n",
       "505     Weirton  West Virginia                  82.6   Weirton, West Virginia\n",
       "506    Wheeling  West Virginia                  84.5  Wheeling, West Virginia\n",
       "507  New London    Connecticut                 107.3  New London, Connecticut\n",
       "508    Victoria          Texas                  90.4          Victoria, Texas\n",
       "\n",
       "[509 rows x 4 columns]"
      ],
      "text/html": "<div>\n<style scoped>\n    .dataframe tbody tr th:only-of-type {\n        vertical-align: middle;\n    }\n\n    .dataframe tbody tr th {\n        vertical-align: top;\n    }\n\n    .dataframe thead th {\n        text-align: right;\n    }\n</style>\n<table border=\"1\" class=\"dataframe\">\n  <thead>\n    <tr style=\"text-align: right;\">\n      <th></th>\n      <th>City</th>\n      <th>State</th>\n      <th>Cost of Living Index</th>\n      <th>Location</th>\n    </tr>\n  </thead>\n  <tbody>\n    <tr>\n      <th>0</th>\n      <td>Aberdeen</td>\n      <td>Washington</td>\n      <td>95.5</td>\n      <td>Aberdeen, Washington</td>\n    </tr>\n    <tr>\n      <th>1</th>\n      <td>Abilene</td>\n      <td>Texas</td>\n      <td>89.6</td>\n      <td>Abilene, Texas</td>\n    </tr>\n    <tr>\n      <th>2</th>\n      <td>Adrian</td>\n      <td>Michigan</td>\n      <td>89.9</td>\n      <td>Adrian, Michigan</td>\n    </tr>\n    <tr>\n      <th>3</th>\n      <td>Akron</td>\n      <td>Ohio</td>\n      <td>90.8</td>\n      <td>Akron, Ohio</td>\n    </tr>\n    <tr>\n      <th>4</th>\n      <td>Alamogordo</td>\n      <td>New Mexico</td>\n      <td>86.5</td>\n      <td>Alamogordo, New Mexico</td>\n    </tr>\n    <tr>\n      <th>...</th>\n      <td>...</td>\n      <td>...</td>\n      <td>...</td>\n      <td>...</td>\n    </tr>\n    <tr>\n      <th>504</th>\n      <td>Vero Beach</td>\n      <td>Florida</td>\n      <td>100.0</td>\n      <td>Vero Beach, Florida</td>\n    </tr>\n    <tr>\n      <th>505</th>\n      <td>Weirton</td>\n      <td>West Virginia</td>\n      <td>82.6</td>\n      <td>Weirton, West Virginia</td>\n    </tr>\n    <tr>\n      <th>506</th>\n      <td>Wheeling</td>\n      <td>West Virginia</td>\n      <td>84.5</td>\n      <td>Wheeling, West Virginia</td>\n    </tr>\n    <tr>\n      <th>507</th>\n      <td>New London</td>\n      <td>Connecticut</td>\n      <td>107.3</td>\n      <td>New London, Connecticut</td>\n    </tr>\n    <tr>\n      <th>508</th>\n      <td>Victoria</td>\n      <td>Texas</td>\n      <td>90.4</td>\n      <td>Victoria, Texas</td>\n    </tr>\n  </tbody>\n</table>\n<p>509 rows × 4 columns</p>\n</div>"
     },
     "metadata": {},
     "execution_count": 62
    }
   ],
   "source": [
    "# Make new Location column with City and State data, so the data can be joined with the other data on this column\n",
    "\n",
    "cost['Location'] = cost['City'] + ',' + ' ' + cost['State']\n",
    "cost"
   ]
  },
  {
   "cell_type": "code",
   "execution_count": 63,
   "metadata": {},
   "outputs": [],
   "source": [
    "# Drop City and State columns since they are redundant with Location and they already exist in first merged data\n",
    "\n",
    "cost = cost.drop(columns=['City', 'State'])"
   ]
  },
  {
   "cell_type": "code",
   "execution_count": 64,
   "metadata": {},
   "outputs": [
    {
     "output_type": "execute_result",
     "data": {
      "text/plain": [
       "       Cost of Living Index\n",
       "count            509.000000\n",
       "mean              97.500196\n",
       "std               13.915860\n",
       "min               78.800000\n",
       "25%               89.000000\n",
       "50%               93.100000\n",
       "75%              101.900000\n",
       "max              183.000000"
      ],
      "text/html": "<div>\n<style scoped>\n    .dataframe tbody tr th:only-of-type {\n        vertical-align: middle;\n    }\n\n    .dataframe tbody tr th {\n        vertical-align: top;\n    }\n\n    .dataframe thead th {\n        text-align: right;\n    }\n</style>\n<table border=\"1\" class=\"dataframe\">\n  <thead>\n    <tr style=\"text-align: right;\">\n      <th></th>\n      <th>Cost of Living Index</th>\n    </tr>\n  </thead>\n  <tbody>\n    <tr>\n      <th>count</th>\n      <td>509.000000</td>\n    </tr>\n    <tr>\n      <th>mean</th>\n      <td>97.500196</td>\n    </tr>\n    <tr>\n      <th>std</th>\n      <td>13.915860</td>\n    </tr>\n    <tr>\n      <th>min</th>\n      <td>78.800000</td>\n    </tr>\n    <tr>\n      <th>25%</th>\n      <td>89.000000</td>\n    </tr>\n    <tr>\n      <th>50%</th>\n      <td>93.100000</td>\n    </tr>\n    <tr>\n      <th>75%</th>\n      <td>101.900000</td>\n    </tr>\n    <tr>\n      <th>max</th>\n      <td>183.000000</td>\n    </tr>\n  </tbody>\n</table>\n</div>"
     },
     "metadata": {},
     "execution_count": 64
    }
   ],
   "source": [
    "# Bin the cost data according to quartiles\n",
    "\n",
    "# Describe the data to begin binning data with pandas cut or qcut\n",
    "\n",
    "cost.describe()"
   ]
  },
  {
   "cell_type": "code",
   "execution_count": 65,
   "metadata": {},
   "outputs": [
    {
     "output_type": "execute_result",
     "data": {
      "text/plain": [
       "0                  (91.4, 96.18]\n",
       "1                   (88.5, 91.4]\n",
       "2                   (88.5, 91.4]\n",
       "3                   (88.5, 91.4]\n",
       "4      (78.79899999999999, 88.5]\n",
       "                 ...            \n",
       "504              (96.18, 103.74]\n",
       "505    (78.79899999999999, 88.5]\n",
       "506    (78.79899999999999, 88.5]\n",
       "507              (103.74, 183.0]\n",
       "508                 (88.5, 91.4]\n",
       "Name: Cost of Living Index, Length: 509, dtype: category\n",
       "Categories (5, interval[float64]): [(78.79899999999999, 88.5] < (88.5, 91.4] < (91.4, 96.18] < (96.18, 103.74] < (103.74, 183.0]]"
      ]
     },
     "metadata": {},
     "execution_count": 65
    }
   ],
   "source": [
    "# Quartile cut the Walk Score data, to see how it is evenly distributed\n",
    "\n",
    "pd.qcut(cost['Cost of Living Index'], q=5)"
   ]
  },
  {
   "cell_type": "code",
   "execution_count": 66,
   "metadata": {},
   "outputs": [
    {
     "output_type": "execute_result",
     "data": {
      "text/plain": [
       "     Cost of Living Index                 Location  \\\n",
       "0                    95.5     Aberdeen, Washington   \n",
       "1                    89.6           Abilene, Texas   \n",
       "2                    89.9         Adrian, Michigan   \n",
       "3                    90.8              Akron, Ohio   \n",
       "4                    86.5   Alamogordo, New Mexico   \n",
       "..                    ...                      ...   \n",
       "504                 100.0      Vero Beach, Florida   \n",
       "505                  82.6   Weirton, West Virginia   \n",
       "506                  84.5  Wheeling, West Virginia   \n",
       "507                 107.3  New London, Connecticut   \n",
       "508                  90.4          Victoria, Texas   \n",
       "\n",
       "    Cost of Living Index Categories Cost of Living Index Ranges  \n",
       "0      Average Cost of Living Index                  91.4-96.18  \n",
       "1        Lower Cost of Living Index                   88.5-91.4  \n",
       "2        Lower Cost of Living Index                   88.5-91.4  \n",
       "3        Lower Cost of Living Index                   88.5-91.4  \n",
       "4       Lowest Cost of Living Index                  78.79-88.5  \n",
       "..                              ...                         ...  \n",
       "504     Higher Cost of Living Index                96.18-103.74  \n",
       "505     Lowest Cost of Living Index                  78.79-88.5  \n",
       "506     Lowest Cost of Living Index                  78.79-88.5  \n",
       "507    Highest Cost of Living Index                103.74-183.0  \n",
       "508      Lower Cost of Living Index                   88.5-91.4  \n",
       "\n",
       "[509 rows x 4 columns]"
      ],
      "text/html": "<div>\n<style scoped>\n    .dataframe tbody tr th:only-of-type {\n        vertical-align: middle;\n    }\n\n    .dataframe tbody tr th {\n        vertical-align: top;\n    }\n\n    .dataframe thead th {\n        text-align: right;\n    }\n</style>\n<table border=\"1\" class=\"dataframe\">\n  <thead>\n    <tr style=\"text-align: right;\">\n      <th></th>\n      <th>Cost of Living Index</th>\n      <th>Location</th>\n      <th>Cost of Living Index Categories</th>\n      <th>Cost of Living Index Ranges</th>\n    </tr>\n  </thead>\n  <tbody>\n    <tr>\n      <th>0</th>\n      <td>95.5</td>\n      <td>Aberdeen, Washington</td>\n      <td>Average Cost of Living Index</td>\n      <td>91.4-96.18</td>\n    </tr>\n    <tr>\n      <th>1</th>\n      <td>89.6</td>\n      <td>Abilene, Texas</td>\n      <td>Lower Cost of Living Index</td>\n      <td>88.5-91.4</td>\n    </tr>\n    <tr>\n      <th>2</th>\n      <td>89.9</td>\n      <td>Adrian, Michigan</td>\n      <td>Lower Cost of Living Index</td>\n      <td>88.5-91.4</td>\n    </tr>\n    <tr>\n      <th>3</th>\n      <td>90.8</td>\n      <td>Akron, Ohio</td>\n      <td>Lower Cost of Living Index</td>\n      <td>88.5-91.4</td>\n    </tr>\n    <tr>\n      <th>4</th>\n      <td>86.5</td>\n      <td>Alamogordo, New Mexico</td>\n      <td>Lowest Cost of Living Index</td>\n      <td>78.79-88.5</td>\n    </tr>\n    <tr>\n      <th>...</th>\n      <td>...</td>\n      <td>...</td>\n      <td>...</td>\n      <td>...</td>\n    </tr>\n    <tr>\n      <th>504</th>\n      <td>100.0</td>\n      <td>Vero Beach, Florida</td>\n      <td>Higher Cost of Living Index</td>\n      <td>96.18-103.74</td>\n    </tr>\n    <tr>\n      <th>505</th>\n      <td>82.6</td>\n      <td>Weirton, West Virginia</td>\n      <td>Lowest Cost of Living Index</td>\n      <td>78.79-88.5</td>\n    </tr>\n    <tr>\n      <th>506</th>\n      <td>84.5</td>\n      <td>Wheeling, West Virginia</td>\n      <td>Lowest Cost of Living Index</td>\n      <td>78.79-88.5</td>\n    </tr>\n    <tr>\n      <th>507</th>\n      <td>107.3</td>\n      <td>New London, Connecticut</td>\n      <td>Highest Cost of Living Index</td>\n      <td>103.74-183.0</td>\n    </tr>\n    <tr>\n      <th>508</th>\n      <td>90.4</td>\n      <td>Victoria, Texas</td>\n      <td>Lower Cost of Living Index</td>\n      <td>88.5-91.4</td>\n    </tr>\n  </tbody>\n</table>\n<p>509 rows × 4 columns</p>\n</div>"
     },
     "metadata": {},
     "execution_count": 66
    }
   ],
   "source": [
    "# Bin the Cost of Living Index data into categories and ranges\n",
    "\n",
    "bins = [78.79899999999999, 88.5, 91.4, 96.18, 103.74, 183.0]\n",
    "labels = [\"Lowest Cost of Living Index\", \"Lower Cost of Living Index\", \"Average Cost of Living Index\", \"Higher Cost of Living Index\", \"Highest Cost of Living Index\"]\n",
    "cost['Cost of Living Index Categories'] = pd.cut(cost['Cost of Living Index'], bins=bins, labels=labels)\n",
    "\n",
    "bins = [78.79899999999999, 88.5, 91.4, 96.18, 103.74, 183.0]\n",
    "labels = [\"78.79-88.5\", \"88.5-91.4\", \"91.4-96.18\", \"96.18-103.74\", \"103.74-183.0\"]\n",
    "cost['Cost of Living Index Ranges'] = pd.cut(cost['Cost of Living Index'], bins=bins, labels=labels)\n",
    "\n",
    "cost"
   ]
  },
  {
   "cell_type": "code",
   "execution_count": 67,
   "metadata": {},
   "outputs": [
    {
     "output_type": "execute_result",
     "data": {
      "text/plain": [
       "(1626, 24)"
      ]
     },
     "metadata": {},
     "execution_count": 67
    }
   ],
   "source": [
    "# Check shape of merged_population_rent_crime data\n",
    "\n",
    "merged_population_rent_crime.shape"
   ]
  },
  {
   "cell_type": "code",
   "execution_count": 68,
   "metadata": {},
   "outputs": [
    {
     "output_type": "execute_result",
     "data": {
      "text/plain": [
       "                  Location  2019 Population Town or City  2019 Rental Rates  \\\n",
       "0         Phoenix, Arizona          1680992         city               1424   \n",
       "1         Phoenix, Arizona          1680992         city               1522   \n",
       "2         Phoenix, Arizona          1680992         city               1461   \n",
       "3         Phoenix, Arizona          1680992         city               1549   \n",
       "4         Phoenix, Arizona          1680992         city               1611   \n",
       "...                    ...              ...          ...                ...   \n",
       "1621  Milwaukee, Wisconsin           590157         city                839   \n",
       "1622  Milwaukee, Wisconsin           590157         city                948   \n",
       "1623  Milwaukee, Wisconsin           590157         city                973   \n",
       "1624  Milwaukee, Wisconsin           590157         city                792   \n",
       "1625  Milwaukee, Wisconsin           590157         city               1066   \n",
       "\n",
       "          State       City  Violent crime  \\\n",
       "0       Arizona    Phoenix          11803   \n",
       "1       Arizona    Phoenix          11803   \n",
       "2       Arizona    Phoenix          11803   \n",
       "3       Arizona    Phoenix          11803   \n",
       "4       Arizona    Phoenix          11803   \n",
       "...         ...        ...            ...   \n",
       "1621  Wisconsin  Milwaukee           7874   \n",
       "1622  Wisconsin  Milwaukee           7874   \n",
       "1623  Wisconsin  Milwaukee           7874   \n",
       "1624  Wisconsin  Milwaukee           7874   \n",
       "1625  Wisconsin  Milwaukee           7874   \n",
       "\n",
       "      Murder and nonnegligent manslaughter  Rape  Robbery  ...  \\\n",
       "0                                      131  1139     3197  ...   \n",
       "1                                      131  1139     3197  ...   \n",
       "2                                      131  1139     3197  ...   \n",
       "3                                      131  1139     3197  ...   \n",
       "4                                      131  1139     3197  ...   \n",
       "...                                    ...   ...      ...  ...   \n",
       "1621                                    97   427     1911  ...   \n",
       "1622                                    97   427     1911  ...   \n",
       "1623                                    97   427     1911  ...   \n",
       "1624                                    97   427     1911  ...   \n",
       "1625                                    97   427     1911  ...   \n",
       "\n",
       "      Rental Rate Categories  Rental Rate Ranges  Crime Rate Categories  \\\n",
       "0               Average Rent     $1,294.50-1,549          Average Crime   \n",
       "1               Average Rent     $1,294.50-1,549          Average Crime   \n",
       "2               Average Rent     $1,294.50-1,549          Average Crime   \n",
       "3               Average Rent     $1,294.50-1,549          Average Crime   \n",
       "4                Higher Rent     $1,549-1,891.50          Average Crime   \n",
       "...                      ...                 ...                    ...   \n",
       "1621                Low Rent    $581.99-1,294.50            Lower Crime   \n",
       "1622                Low Rent    $581.99-1,294.50            Lower Crime   \n",
       "1623                Low Rent    $581.99-1,294.50            Lower Crime   \n",
       "1624                Low Rent    $581.99-1,294.50            Lower Crime   \n",
       "1625                Low Rent    $581.99-1,294.50            Lower Crime   \n",
       "\n",
       "        Crime Rate Ranges  Walk Score  Bike Score Walk Score Categories  \\\n",
       "0     7,951.131-9,683.737          41          56     Higher Walk Score   \n",
       "1     7,951.131-9,683.737          41          56     Higher Walk Score   \n",
       "2     7,951.131-9,683.737          41          56     Higher Walk Score   \n",
       "3     7,951.131-9,683.737          41          56     Higher Walk Score   \n",
       "4     7,951.131-9,683.737          41          56     Higher Walk Score   \n",
       "...                   ...         ...         ...                   ...   \n",
       "1621  5,831.013-7,951.131          63          59    Highest Walk Score   \n",
       "1622  5,831.013-7,951.131          63          59    Highest Walk Score   \n",
       "1623  5,831.013-7,951.131          63          59    Highest Walk Score   \n",
       "1624  5,831.013-7,951.131          63          59    Highest Walk Score   \n",
       "1625  5,831.013-7,951.131          63          59    Highest Walk Score   \n",
       "\n",
       "      Walk Score Ranges Bike Score Categories Bike Score Ranges  \n",
       "0             38.0-48.0   Highest Bike Scores         52.0-96.0  \n",
       "1             38.0-48.0   Highest Bike Scores         52.0-96.0  \n",
       "2             38.0-48.0   Highest Bike Scores         52.0-96.0  \n",
       "3             38.0-48.0   Highest Bike Scores         52.0-96.0  \n",
       "4             38.0-48.0   Highest Bike Scores         52.0-96.0  \n",
       "...                 ...                   ...               ...  \n",
       "1621          48.0-96.0   Highest Bike Scores         52.0-96.0  \n",
       "1622          48.0-96.0   Highest Bike Scores         52.0-96.0  \n",
       "1623          48.0-96.0   Highest Bike Scores         52.0-96.0  \n",
       "1624          48.0-96.0   Highest Bike Scores         52.0-96.0  \n",
       "1625          48.0-96.0   Highest Bike Scores         52.0-96.0  \n",
       "\n",
       "[1626 rows x 30 columns]"
      ],
      "text/html": "<div>\n<style scoped>\n    .dataframe tbody tr th:only-of-type {\n        vertical-align: middle;\n    }\n\n    .dataframe tbody tr th {\n        vertical-align: top;\n    }\n\n    .dataframe thead th {\n        text-align: right;\n    }\n</style>\n<table border=\"1\" class=\"dataframe\">\n  <thead>\n    <tr style=\"text-align: right;\">\n      <th></th>\n      <th>Location</th>\n      <th>2019 Population</th>\n      <th>Town or City</th>\n      <th>2019 Rental Rates</th>\n      <th>State</th>\n      <th>City</th>\n      <th>Violent crime</th>\n      <th>Murder and nonnegligent manslaughter</th>\n      <th>Rape</th>\n      <th>Robbery</th>\n      <th>...</th>\n      <th>Rental Rate Categories</th>\n      <th>Rental Rate Ranges</th>\n      <th>Crime Rate Categories</th>\n      <th>Crime Rate Ranges</th>\n      <th>Walk Score</th>\n      <th>Bike Score</th>\n      <th>Walk Score Categories</th>\n      <th>Walk Score Ranges</th>\n      <th>Bike Score Categories</th>\n      <th>Bike Score Ranges</th>\n    </tr>\n  </thead>\n  <tbody>\n    <tr>\n      <th>0</th>\n      <td>Phoenix, Arizona</td>\n      <td>1680992</td>\n      <td>city</td>\n      <td>1424</td>\n      <td>Arizona</td>\n      <td>Phoenix</td>\n      <td>11803</td>\n      <td>131</td>\n      <td>1139</td>\n      <td>3197</td>\n      <td>...</td>\n      <td>Average Rent</td>\n      <td>$1,294.50-1,549</td>\n      <td>Average Crime</td>\n      <td>7,951.131-9,683.737</td>\n      <td>41</td>\n      <td>56</td>\n      <td>Higher Walk Score</td>\n      <td>38.0-48.0</td>\n      <td>Highest Bike Scores</td>\n      <td>52.0-96.0</td>\n    </tr>\n    <tr>\n      <th>1</th>\n      <td>Phoenix, Arizona</td>\n      <td>1680992</td>\n      <td>city</td>\n      <td>1522</td>\n      <td>Arizona</td>\n      <td>Phoenix</td>\n      <td>11803</td>\n      <td>131</td>\n      <td>1139</td>\n      <td>3197</td>\n      <td>...</td>\n      <td>Average Rent</td>\n      <td>$1,294.50-1,549</td>\n      <td>Average Crime</td>\n      <td>7,951.131-9,683.737</td>\n      <td>41</td>\n      <td>56</td>\n      <td>Higher Walk Score</td>\n      <td>38.0-48.0</td>\n      <td>Highest Bike Scores</td>\n      <td>52.0-96.0</td>\n    </tr>\n    <tr>\n      <th>2</th>\n      <td>Phoenix, Arizona</td>\n      <td>1680992</td>\n      <td>city</td>\n      <td>1461</td>\n      <td>Arizona</td>\n      <td>Phoenix</td>\n      <td>11803</td>\n      <td>131</td>\n      <td>1139</td>\n      <td>3197</td>\n      <td>...</td>\n      <td>Average Rent</td>\n      <td>$1,294.50-1,549</td>\n      <td>Average Crime</td>\n      <td>7,951.131-9,683.737</td>\n      <td>41</td>\n      <td>56</td>\n      <td>Higher Walk Score</td>\n      <td>38.0-48.0</td>\n      <td>Highest Bike Scores</td>\n      <td>52.0-96.0</td>\n    </tr>\n    <tr>\n      <th>3</th>\n      <td>Phoenix, Arizona</td>\n      <td>1680992</td>\n      <td>city</td>\n      <td>1549</td>\n      <td>Arizona</td>\n      <td>Phoenix</td>\n      <td>11803</td>\n      <td>131</td>\n      <td>1139</td>\n      <td>3197</td>\n      <td>...</td>\n      <td>Average Rent</td>\n      <td>$1,294.50-1,549</td>\n      <td>Average Crime</td>\n      <td>7,951.131-9,683.737</td>\n      <td>41</td>\n      <td>56</td>\n      <td>Higher Walk Score</td>\n      <td>38.0-48.0</td>\n      <td>Highest Bike Scores</td>\n      <td>52.0-96.0</td>\n    </tr>\n    <tr>\n      <th>4</th>\n      <td>Phoenix, Arizona</td>\n      <td>1680992</td>\n      <td>city</td>\n      <td>1611</td>\n      <td>Arizona</td>\n      <td>Phoenix</td>\n      <td>11803</td>\n      <td>131</td>\n      <td>1139</td>\n      <td>3197</td>\n      <td>...</td>\n      <td>Higher Rent</td>\n      <td>$1,549-1,891.50</td>\n      <td>Average Crime</td>\n      <td>7,951.131-9,683.737</td>\n      <td>41</td>\n      <td>56</td>\n      <td>Higher Walk Score</td>\n      <td>38.0-48.0</td>\n      <td>Highest Bike Scores</td>\n      <td>52.0-96.0</td>\n    </tr>\n    <tr>\n      <th>...</th>\n      <td>...</td>\n      <td>...</td>\n      <td>...</td>\n      <td>...</td>\n      <td>...</td>\n      <td>...</td>\n      <td>...</td>\n      <td>...</td>\n      <td>...</td>\n      <td>...</td>\n      <td>...</td>\n      <td>...</td>\n      <td>...</td>\n      <td>...</td>\n      <td>...</td>\n      <td>...</td>\n      <td>...</td>\n      <td>...</td>\n      <td>...</td>\n      <td>...</td>\n      <td>...</td>\n    </tr>\n    <tr>\n      <th>1621</th>\n      <td>Milwaukee, Wisconsin</td>\n      <td>590157</td>\n      <td>city</td>\n      <td>839</td>\n      <td>Wisconsin</td>\n      <td>Milwaukee</td>\n      <td>7874</td>\n      <td>97</td>\n      <td>427</td>\n      <td>1911</td>\n      <td>...</td>\n      <td>Low Rent</td>\n      <td>$581.99-1,294.50</td>\n      <td>Lower Crime</td>\n      <td>5,831.013-7,951.131</td>\n      <td>63</td>\n      <td>59</td>\n      <td>Highest Walk Score</td>\n      <td>48.0-96.0</td>\n      <td>Highest Bike Scores</td>\n      <td>52.0-96.0</td>\n    </tr>\n    <tr>\n      <th>1622</th>\n      <td>Milwaukee, Wisconsin</td>\n      <td>590157</td>\n      <td>city</td>\n      <td>948</td>\n      <td>Wisconsin</td>\n      <td>Milwaukee</td>\n      <td>7874</td>\n      <td>97</td>\n      <td>427</td>\n      <td>1911</td>\n      <td>...</td>\n      <td>Low Rent</td>\n      <td>$581.99-1,294.50</td>\n      <td>Lower Crime</td>\n      <td>5,831.013-7,951.131</td>\n      <td>63</td>\n      <td>59</td>\n      <td>Highest Walk Score</td>\n      <td>48.0-96.0</td>\n      <td>Highest Bike Scores</td>\n      <td>52.0-96.0</td>\n    </tr>\n    <tr>\n      <th>1623</th>\n      <td>Milwaukee, Wisconsin</td>\n      <td>590157</td>\n      <td>city</td>\n      <td>973</td>\n      <td>Wisconsin</td>\n      <td>Milwaukee</td>\n      <td>7874</td>\n      <td>97</td>\n      <td>427</td>\n      <td>1911</td>\n      <td>...</td>\n      <td>Low Rent</td>\n      <td>$581.99-1,294.50</td>\n      <td>Lower Crime</td>\n      <td>5,831.013-7,951.131</td>\n      <td>63</td>\n      <td>59</td>\n      <td>Highest Walk Score</td>\n      <td>48.0-96.0</td>\n      <td>Highest Bike Scores</td>\n      <td>52.0-96.0</td>\n    </tr>\n    <tr>\n      <th>1624</th>\n      <td>Milwaukee, Wisconsin</td>\n      <td>590157</td>\n      <td>city</td>\n      <td>792</td>\n      <td>Wisconsin</td>\n      <td>Milwaukee</td>\n      <td>7874</td>\n      <td>97</td>\n      <td>427</td>\n      <td>1911</td>\n      <td>...</td>\n      <td>Low Rent</td>\n      <td>$581.99-1,294.50</td>\n      <td>Lower Crime</td>\n      <td>5,831.013-7,951.131</td>\n      <td>63</td>\n      <td>59</td>\n      <td>Highest Walk Score</td>\n      <td>48.0-96.0</td>\n      <td>Highest Bike Scores</td>\n      <td>52.0-96.0</td>\n    </tr>\n    <tr>\n      <th>1625</th>\n      <td>Milwaukee, Wisconsin</td>\n      <td>590157</td>\n      <td>city</td>\n      <td>1066</td>\n      <td>Wisconsin</td>\n      <td>Milwaukee</td>\n      <td>7874</td>\n      <td>97</td>\n      <td>427</td>\n      <td>1911</td>\n      <td>...</td>\n      <td>Low Rent</td>\n      <td>$581.99-1,294.50</td>\n      <td>Lower Crime</td>\n      <td>5,831.013-7,951.131</td>\n      <td>63</td>\n      <td>59</td>\n      <td>Highest Walk Score</td>\n      <td>48.0-96.0</td>\n      <td>Highest Bike Scores</td>\n      <td>52.0-96.0</td>\n    </tr>\n  </tbody>\n</table>\n<p>1626 rows × 30 columns</p>\n</div>"
     },
     "metadata": {},
     "execution_count": 68
    }
   ],
   "source": [
    "# Merge the walk data with the merged_population_rent_crime data\n",
    "\n",
    "merged_population_rent_crime_walk = pd.merge(left=merged_population_rent_crime, right=walk, left_on='Location', right_on='Location')\n",
    "merged_population_rent_crime_walk\n",
    "\n",
    "# When is this walk_data from? Consider dropping the populatin data from walk_data since we already have 2019 population data, and 2019 crime population\n",
    "# Also consider dropping Zip Code from the walk data because it is too high granularity and it does not match the true area of different areas with different rental rates"
   ]
  },
  {
   "cell_type": "code",
   "execution_count": 69,
   "metadata": {},
   "outputs": [
    {
     "output_type": "execute_result",
     "data": {
      "text/plain": [
       "                  Location  2019 Population Town or City  2019 Rental Rates  \\\n",
       "0         Phoenix, Arizona          1680992         city               1424   \n",
       "1         Phoenix, Arizona          1680992         city               1522   \n",
       "2         Phoenix, Arizona          1680992         city               1461   \n",
       "3         Phoenix, Arizona          1680992         city               1549   \n",
       "4         Phoenix, Arizona          1680992         city               1611   \n",
       "...                    ...              ...          ...                ...   \n",
       "1621  Milwaukee, Wisconsin           590157         city                839   \n",
       "1622  Milwaukee, Wisconsin           590157         city                948   \n",
       "1623  Milwaukee, Wisconsin           590157         city                973   \n",
       "1624  Milwaukee, Wisconsin           590157         city                792   \n",
       "1625  Milwaukee, Wisconsin           590157         city               1066   \n",
       "\n",
       "          State       City  Violent crime  \\\n",
       "0       Arizona    Phoenix          11803   \n",
       "1       Arizona    Phoenix          11803   \n",
       "2       Arizona    Phoenix          11803   \n",
       "3       Arizona    Phoenix          11803   \n",
       "4       Arizona    Phoenix          11803   \n",
       "...         ...        ...            ...   \n",
       "1621  Wisconsin  Milwaukee           7874   \n",
       "1622  Wisconsin  Milwaukee           7874   \n",
       "1623  Wisconsin  Milwaukee           7874   \n",
       "1624  Wisconsin  Milwaukee           7874   \n",
       "1625  Wisconsin  Milwaukee           7874   \n",
       "\n",
       "      Murder and nonnegligent manslaughter  Rape  Robbery  ...  \\\n",
       "0                                      131  1139     3197  ...   \n",
       "1                                      131  1139     3197  ...   \n",
       "2                                      131  1139     3197  ...   \n",
       "3                                      131  1139     3197  ...   \n",
       "4                                      131  1139     3197  ...   \n",
       "...                                    ...   ...      ...  ...   \n",
       "1621                                    97   427     1911  ...   \n",
       "1622                                    97   427     1911  ...   \n",
       "1623                                    97   427     1911  ...   \n",
       "1624                                    97   427     1911  ...   \n",
       "1625                                    97   427     1911  ...   \n",
       "\n",
       "        Crime Rate Ranges  Walk Score  Bike Score  Walk Score Categories  \\\n",
       "0     7,951.131-9,683.737          41          56      Higher Walk Score   \n",
       "1     7,951.131-9,683.737          41          56      Higher Walk Score   \n",
       "2     7,951.131-9,683.737          41          56      Higher Walk Score   \n",
       "3     7,951.131-9,683.737          41          56      Higher Walk Score   \n",
       "4     7,951.131-9,683.737          41          56      Higher Walk Score   \n",
       "...                   ...         ...         ...                    ...   \n",
       "1621  5,831.013-7,951.131          63          59     Highest Walk Score   \n",
       "1622  5,831.013-7,951.131          63          59     Highest Walk Score   \n",
       "1623  5,831.013-7,951.131          63          59     Highest Walk Score   \n",
       "1624  5,831.013-7,951.131          63          59     Highest Walk Score   \n",
       "1625  5,831.013-7,951.131          63          59     Highest Walk Score   \n",
       "\n",
       "      Walk Score Ranges  Bike Score Categories Bike Score Ranges  \\\n",
       "0             38.0-48.0    Highest Bike Scores         52.0-96.0   \n",
       "1             38.0-48.0    Highest Bike Scores         52.0-96.0   \n",
       "2             38.0-48.0    Highest Bike Scores         52.0-96.0   \n",
       "3             38.0-48.0    Highest Bike Scores         52.0-96.0   \n",
       "4             38.0-48.0    Highest Bike Scores         52.0-96.0   \n",
       "...                 ...                    ...               ...   \n",
       "1621          48.0-96.0    Highest Bike Scores         52.0-96.0   \n",
       "1622          48.0-96.0    Highest Bike Scores         52.0-96.0   \n",
       "1623          48.0-96.0    Highest Bike Scores         52.0-96.0   \n",
       "1624          48.0-96.0    Highest Bike Scores         52.0-96.0   \n",
       "1625          48.0-96.0    Highest Bike Scores         52.0-96.0   \n",
       "\n",
       "      Cost of Living Index Cost of Living Index Categories  \\\n",
       "0                    105.8    Highest Cost of Living Index   \n",
       "1                    105.8    Highest Cost of Living Index   \n",
       "2                    105.8    Highest Cost of Living Index   \n",
       "3                    105.8    Highest Cost of Living Index   \n",
       "4                    105.8    Highest Cost of Living Index   \n",
       "...                    ...                             ...   \n",
       "1621                  94.8    Average Cost of Living Index   \n",
       "1622                  94.8    Average Cost of Living Index   \n",
       "1623                  94.8    Average Cost of Living Index   \n",
       "1624                  94.8    Average Cost of Living Index   \n",
       "1625                  94.8    Average Cost of Living Index   \n",
       "\n",
       "     Cost of Living Index Ranges  \n",
       "0                   103.74-183.0  \n",
       "1                   103.74-183.0  \n",
       "2                   103.74-183.0  \n",
       "3                   103.74-183.0  \n",
       "4                   103.74-183.0  \n",
       "...                          ...  \n",
       "1621                  91.4-96.18  \n",
       "1622                  91.4-96.18  \n",
       "1623                  91.4-96.18  \n",
       "1624                  91.4-96.18  \n",
       "1625                  91.4-96.18  \n",
       "\n",
       "[1626 rows x 33 columns]"
      ],
      "text/html": "<div>\n<style scoped>\n    .dataframe tbody tr th:only-of-type {\n        vertical-align: middle;\n    }\n\n    .dataframe tbody tr th {\n        vertical-align: top;\n    }\n\n    .dataframe thead th {\n        text-align: right;\n    }\n</style>\n<table border=\"1\" class=\"dataframe\">\n  <thead>\n    <tr style=\"text-align: right;\">\n      <th></th>\n      <th>Location</th>\n      <th>2019 Population</th>\n      <th>Town or City</th>\n      <th>2019 Rental Rates</th>\n      <th>State</th>\n      <th>City</th>\n      <th>Violent crime</th>\n      <th>Murder and nonnegligent manslaughter</th>\n      <th>Rape</th>\n      <th>Robbery</th>\n      <th>...</th>\n      <th>Crime Rate Ranges</th>\n      <th>Walk Score</th>\n      <th>Bike Score</th>\n      <th>Walk Score Categories</th>\n      <th>Walk Score Ranges</th>\n      <th>Bike Score Categories</th>\n      <th>Bike Score Ranges</th>\n      <th>Cost of Living Index</th>\n      <th>Cost of Living Index Categories</th>\n      <th>Cost of Living Index Ranges</th>\n    </tr>\n  </thead>\n  <tbody>\n    <tr>\n      <th>0</th>\n      <td>Phoenix, Arizona</td>\n      <td>1680992</td>\n      <td>city</td>\n      <td>1424</td>\n      <td>Arizona</td>\n      <td>Phoenix</td>\n      <td>11803</td>\n      <td>131</td>\n      <td>1139</td>\n      <td>3197</td>\n      <td>...</td>\n      <td>7,951.131-9,683.737</td>\n      <td>41</td>\n      <td>56</td>\n      <td>Higher Walk Score</td>\n      <td>38.0-48.0</td>\n      <td>Highest Bike Scores</td>\n      <td>52.0-96.0</td>\n      <td>105.8</td>\n      <td>Highest Cost of Living Index</td>\n      <td>103.74-183.0</td>\n    </tr>\n    <tr>\n      <th>1</th>\n      <td>Phoenix, Arizona</td>\n      <td>1680992</td>\n      <td>city</td>\n      <td>1522</td>\n      <td>Arizona</td>\n      <td>Phoenix</td>\n      <td>11803</td>\n      <td>131</td>\n      <td>1139</td>\n      <td>3197</td>\n      <td>...</td>\n      <td>7,951.131-9,683.737</td>\n      <td>41</td>\n      <td>56</td>\n      <td>Higher Walk Score</td>\n      <td>38.0-48.0</td>\n      <td>Highest Bike Scores</td>\n      <td>52.0-96.0</td>\n      <td>105.8</td>\n      <td>Highest Cost of Living Index</td>\n      <td>103.74-183.0</td>\n    </tr>\n    <tr>\n      <th>2</th>\n      <td>Phoenix, Arizona</td>\n      <td>1680992</td>\n      <td>city</td>\n      <td>1461</td>\n      <td>Arizona</td>\n      <td>Phoenix</td>\n      <td>11803</td>\n      <td>131</td>\n      <td>1139</td>\n      <td>3197</td>\n      <td>...</td>\n      <td>7,951.131-9,683.737</td>\n      <td>41</td>\n      <td>56</td>\n      <td>Higher Walk Score</td>\n      <td>38.0-48.0</td>\n      <td>Highest Bike Scores</td>\n      <td>52.0-96.0</td>\n      <td>105.8</td>\n      <td>Highest Cost of Living Index</td>\n      <td>103.74-183.0</td>\n    </tr>\n    <tr>\n      <th>3</th>\n      <td>Phoenix, Arizona</td>\n      <td>1680992</td>\n      <td>city</td>\n      <td>1549</td>\n      <td>Arizona</td>\n      <td>Phoenix</td>\n      <td>11803</td>\n      <td>131</td>\n      <td>1139</td>\n      <td>3197</td>\n      <td>...</td>\n      <td>7,951.131-9,683.737</td>\n      <td>41</td>\n      <td>56</td>\n      <td>Higher Walk Score</td>\n      <td>38.0-48.0</td>\n      <td>Highest Bike Scores</td>\n      <td>52.0-96.0</td>\n      <td>105.8</td>\n      <td>Highest Cost of Living Index</td>\n      <td>103.74-183.0</td>\n    </tr>\n    <tr>\n      <th>4</th>\n      <td>Phoenix, Arizona</td>\n      <td>1680992</td>\n      <td>city</td>\n      <td>1611</td>\n      <td>Arizona</td>\n      <td>Phoenix</td>\n      <td>11803</td>\n      <td>131</td>\n      <td>1139</td>\n      <td>3197</td>\n      <td>...</td>\n      <td>7,951.131-9,683.737</td>\n      <td>41</td>\n      <td>56</td>\n      <td>Higher Walk Score</td>\n      <td>38.0-48.0</td>\n      <td>Highest Bike Scores</td>\n      <td>52.0-96.0</td>\n      <td>105.8</td>\n      <td>Highest Cost of Living Index</td>\n      <td>103.74-183.0</td>\n    </tr>\n    <tr>\n      <th>...</th>\n      <td>...</td>\n      <td>...</td>\n      <td>...</td>\n      <td>...</td>\n      <td>...</td>\n      <td>...</td>\n      <td>...</td>\n      <td>...</td>\n      <td>...</td>\n      <td>...</td>\n      <td>...</td>\n      <td>...</td>\n      <td>...</td>\n      <td>...</td>\n      <td>...</td>\n      <td>...</td>\n      <td>...</td>\n      <td>...</td>\n      <td>...</td>\n      <td>...</td>\n      <td>...</td>\n    </tr>\n    <tr>\n      <th>1621</th>\n      <td>Milwaukee, Wisconsin</td>\n      <td>590157</td>\n      <td>city</td>\n      <td>839</td>\n      <td>Wisconsin</td>\n      <td>Milwaukee</td>\n      <td>7874</td>\n      <td>97</td>\n      <td>427</td>\n      <td>1911</td>\n      <td>...</td>\n      <td>5,831.013-7,951.131</td>\n      <td>63</td>\n      <td>59</td>\n      <td>Highest Walk Score</td>\n      <td>48.0-96.0</td>\n      <td>Highest Bike Scores</td>\n      <td>52.0-96.0</td>\n      <td>94.8</td>\n      <td>Average Cost of Living Index</td>\n      <td>91.4-96.18</td>\n    </tr>\n    <tr>\n      <th>1622</th>\n      <td>Milwaukee, Wisconsin</td>\n      <td>590157</td>\n      <td>city</td>\n      <td>948</td>\n      <td>Wisconsin</td>\n      <td>Milwaukee</td>\n      <td>7874</td>\n      <td>97</td>\n      <td>427</td>\n      <td>1911</td>\n      <td>...</td>\n      <td>5,831.013-7,951.131</td>\n      <td>63</td>\n      <td>59</td>\n      <td>Highest Walk Score</td>\n      <td>48.0-96.0</td>\n      <td>Highest Bike Scores</td>\n      <td>52.0-96.0</td>\n      <td>94.8</td>\n      <td>Average Cost of Living Index</td>\n      <td>91.4-96.18</td>\n    </tr>\n    <tr>\n      <th>1623</th>\n      <td>Milwaukee, Wisconsin</td>\n      <td>590157</td>\n      <td>city</td>\n      <td>973</td>\n      <td>Wisconsin</td>\n      <td>Milwaukee</td>\n      <td>7874</td>\n      <td>97</td>\n      <td>427</td>\n      <td>1911</td>\n      <td>...</td>\n      <td>5,831.013-7,951.131</td>\n      <td>63</td>\n      <td>59</td>\n      <td>Highest Walk Score</td>\n      <td>48.0-96.0</td>\n      <td>Highest Bike Scores</td>\n      <td>52.0-96.0</td>\n      <td>94.8</td>\n      <td>Average Cost of Living Index</td>\n      <td>91.4-96.18</td>\n    </tr>\n    <tr>\n      <th>1624</th>\n      <td>Milwaukee, Wisconsin</td>\n      <td>590157</td>\n      <td>city</td>\n      <td>792</td>\n      <td>Wisconsin</td>\n      <td>Milwaukee</td>\n      <td>7874</td>\n      <td>97</td>\n      <td>427</td>\n      <td>1911</td>\n      <td>...</td>\n      <td>5,831.013-7,951.131</td>\n      <td>63</td>\n      <td>59</td>\n      <td>Highest Walk Score</td>\n      <td>48.0-96.0</td>\n      <td>Highest Bike Scores</td>\n      <td>52.0-96.0</td>\n      <td>94.8</td>\n      <td>Average Cost of Living Index</td>\n      <td>91.4-96.18</td>\n    </tr>\n    <tr>\n      <th>1625</th>\n      <td>Milwaukee, Wisconsin</td>\n      <td>590157</td>\n      <td>city</td>\n      <td>1066</td>\n      <td>Wisconsin</td>\n      <td>Milwaukee</td>\n      <td>7874</td>\n      <td>97</td>\n      <td>427</td>\n      <td>1911</td>\n      <td>...</td>\n      <td>5,831.013-7,951.131</td>\n      <td>63</td>\n      <td>59</td>\n      <td>Highest Walk Score</td>\n      <td>48.0-96.0</td>\n      <td>Highest Bike Scores</td>\n      <td>52.0-96.0</td>\n      <td>94.8</td>\n      <td>Average Cost of Living Index</td>\n      <td>91.4-96.18</td>\n    </tr>\n  </tbody>\n</table>\n<p>1626 rows × 33 columns</p>\n</div>"
     },
     "metadata": {},
     "execution_count": 69
    }
   ],
   "source": [
    "# Merge the cost data with the merged_population_rent_crime_walk data\n",
    "\n",
    "merged_population_rent_crime_walk_cost = pd.merge(left=merged_population_rent_crime_walk, right=cost, left_on='Location', right_on='Location')\n",
    "merged_population_rent_crime_walk_cost"
   ]
  },
  {
   "cell_type": "code",
   "execution_count": 70,
   "metadata": {},
   "outputs": [
    {
     "output_type": "execute_result",
     "data": {
      "text/plain": [
       "68"
      ]
     },
     "metadata": {},
     "execution_count": 70
    }
   ],
   "source": [
    "# Count unique Locations to be sure we are not losing any data with our merges, as we should not\n",
    "\n",
    "merged_population_rent_crime['Location'].nunique()"
   ]
  },
  {
   "cell_type": "code",
   "execution_count": 71,
   "metadata": {},
   "outputs": [
    {
     "output_type": "execute_result",
     "data": {
      "text/plain": [
       "68"
      ]
     },
     "metadata": {},
     "execution_count": 71
    }
   ],
   "source": [
    "merged_population_rent_crime_walk['Location'].nunique()"
   ]
  },
  {
   "cell_type": "code",
   "execution_count": 72,
   "metadata": {},
   "outputs": [
    {
     "output_type": "execute_result",
     "data": {
      "text/plain": [
       "68"
      ]
     },
     "metadata": {},
     "execution_count": 72
    }
   ],
   "source": [
    "merged_population_rent_crime_walk_cost['Location'].nunique()"
   ]
  },
  {
   "cell_type": "code",
   "execution_count": 73,
   "metadata": {},
   "outputs": [],
   "source": [
    "# Calculating Livability Score with Walk Score, Bike Score, Cost of Living Index, and Crime Rate (Subtracted from the max crime rate of 16274.419781 to reverse the scores)\n",
    "\n",
    "merged_population_rent_crime_walk_cost['Livability Score'] = merged_population_rent_crime_walk_cost[\"Walk Score\"] + merged_population_rent_crime_walk_cost[\"Bike Score\"] + merged_population_rent_crime_walk_cost[\"Cost of Living Index\"] + 16274.419781 - merged_population_rent_crime_walk_cost[\"Crime Rate\"]\n",
    "\n",
    "# https://scikit-learn.org/stable/modules/preprocessing.html\n",
    "# https://scikit-learn.org/stable/modules/generated/sklearn.preprocessing.MinMaxScaler.html#sklearn.preprocessing.MinMaxScaler"
   ]
  },
  {
   "cell_type": "code",
   "execution_count": 74,
   "metadata": {},
   "outputs": [],
   "source": [
    "# Scale the Livability score then multiply it by 100 to make the scores between 0 and 100"
   ]
  },
  {
   "cell_type": "code",
   "execution_count": 75,
   "metadata": {},
   "outputs": [
    {
     "output_type": "execute_result",
     "data": {
      "text/plain": [
       "       2019 Population  2019 Rental Rates  Violent crime  \\\n",
       "count     1.626000e+03        1626.000000    1626.000000   \n",
       "mean      8.890544e+05        1674.565806    7292.163592   \n",
       "std       7.568980e+05         607.902951    7658.789061   \n",
       "min       4.927100e+04         582.000000     135.000000   \n",
       "25%       3.313600e+05        1294.500000    1686.000000   \n",
       "50%       6.547410e+05        1549.000000    4559.000000   \n",
       "75%       1.021795e+06        1891.500000   11101.000000   \n",
       "max       2.693976e+06        6373.000000   25532.000000   \n",
       "\n",
       "       Murder and nonnegligent manslaughter         Rape      Robbery  \\\n",
       "count                           1626.000000  1626.000000  1626.000000   \n",
       "mean                             111.785363   549.460025  2175.714022   \n",
       "std                              139.237847   516.120724  2582.431727   \n",
       "min                                0.000000    18.000000    13.000000   \n",
       "25%                               28.000000   127.000000   409.500000   \n",
       "50%                               40.000000   358.000000  1294.000000   \n",
       "75%                              131.000000   713.000000  3055.000000   \n",
       "max                              492.000000  1761.000000  9147.000000   \n",
       "\n",
       "       Aggravated assault  Property crime      Burglary  Larceny-theft  \\\n",
       "count         1626.000000     1626.000000   1626.000000    1626.000000   \n",
       "mean          4455.204182    31785.571341   4757.443419   22929.142681   \n",
       "std           4592.876884    26879.392882   4074.197256   19999.580116   \n",
       "min             77.000000     1069.000000    163.000000     728.000000   \n",
       "25%           1186.000000     9790.000000   1302.000000    6997.000000   \n",
       "50%           2517.000000    27141.000000   4114.000000   16395.000000   \n",
       "75%           7336.000000    48780.000000   7210.000000   39427.000000   \n",
       "max          15296.000000   101750.000000  17038.000000   71614.000000   \n",
       "\n",
       "       Motor vehicle theft        Arson    Crime Rate   Walk Score  \\\n",
       "count          1626.000000  1626.000000   1626.000000  1626.000000   \n",
       "mean           4098.985240   170.505535   8782.427187    52.062116   \n",
       "std            3342.446938   170.794557   3034.576864    16.213550   \n",
       "min              81.000000     1.000000   1972.791138    13.000000   \n",
       "25%            1274.000000    38.000000   6949.239498    41.000000   \n",
       "50%            3645.000000   108.000000   8162.208385    49.000000   \n",
       "75%            6432.000000   201.000000  10968.517430    65.000000   \n",
       "max           13098.000000   789.000000  16274.419781    87.000000   \n",
       "\n",
       "        Bike Score  Cost of Living Index  Livability Score  \n",
       "count  1626.000000           1626.000000       1626.000000  \n",
       "mean     57.291513            111.340959       7712.687182  \n",
       "std      11.676507             22.004236       3028.159189  \n",
       "min      30.000000             88.000000        218.000000  \n",
       "25%      49.000000            100.300000       5501.802351  \n",
       "50%      56.000000            102.900000       8293.511396  \n",
       "75%      68.000000            116.800000       9532.980283  \n",
       "max      86.000000            183.000000      14454.628643  "
      ],
      "text/html": "<div>\n<style scoped>\n    .dataframe tbody tr th:only-of-type {\n        vertical-align: middle;\n    }\n\n    .dataframe tbody tr th {\n        vertical-align: top;\n    }\n\n    .dataframe thead th {\n        text-align: right;\n    }\n</style>\n<table border=\"1\" class=\"dataframe\">\n  <thead>\n    <tr style=\"text-align: right;\">\n      <th></th>\n      <th>2019 Population</th>\n      <th>2019 Rental Rates</th>\n      <th>Violent crime</th>\n      <th>Murder and nonnegligent manslaughter</th>\n      <th>Rape</th>\n      <th>Robbery</th>\n      <th>Aggravated assault</th>\n      <th>Property crime</th>\n      <th>Burglary</th>\n      <th>Larceny-theft</th>\n      <th>Motor vehicle theft</th>\n      <th>Arson</th>\n      <th>Crime Rate</th>\n      <th>Walk Score</th>\n      <th>Bike Score</th>\n      <th>Cost of Living Index</th>\n      <th>Livability Score</th>\n    </tr>\n  </thead>\n  <tbody>\n    <tr>\n      <th>count</th>\n      <td>1.626000e+03</td>\n      <td>1626.000000</td>\n      <td>1626.000000</td>\n      <td>1626.000000</td>\n      <td>1626.000000</td>\n      <td>1626.000000</td>\n      <td>1626.000000</td>\n      <td>1626.000000</td>\n      <td>1626.000000</td>\n      <td>1626.000000</td>\n      <td>1626.000000</td>\n      <td>1626.000000</td>\n      <td>1626.000000</td>\n      <td>1626.000000</td>\n      <td>1626.000000</td>\n      <td>1626.000000</td>\n      <td>1626.000000</td>\n    </tr>\n    <tr>\n      <th>mean</th>\n      <td>8.890544e+05</td>\n      <td>1674.565806</td>\n      <td>7292.163592</td>\n      <td>111.785363</td>\n      <td>549.460025</td>\n      <td>2175.714022</td>\n      <td>4455.204182</td>\n      <td>31785.571341</td>\n      <td>4757.443419</td>\n      <td>22929.142681</td>\n      <td>4098.985240</td>\n      <td>170.505535</td>\n      <td>8782.427187</td>\n      <td>52.062116</td>\n      <td>57.291513</td>\n      <td>111.340959</td>\n      <td>7712.687182</td>\n    </tr>\n    <tr>\n      <th>std</th>\n      <td>7.568980e+05</td>\n      <td>607.902951</td>\n      <td>7658.789061</td>\n      <td>139.237847</td>\n      <td>516.120724</td>\n      <td>2582.431727</td>\n      <td>4592.876884</td>\n      <td>26879.392882</td>\n      <td>4074.197256</td>\n      <td>19999.580116</td>\n      <td>3342.446938</td>\n      <td>170.794557</td>\n      <td>3034.576864</td>\n      <td>16.213550</td>\n      <td>11.676507</td>\n      <td>22.004236</td>\n      <td>3028.159189</td>\n    </tr>\n    <tr>\n      <th>min</th>\n      <td>4.927100e+04</td>\n      <td>582.000000</td>\n      <td>135.000000</td>\n      <td>0.000000</td>\n      <td>18.000000</td>\n      <td>13.000000</td>\n      <td>77.000000</td>\n      <td>1069.000000</td>\n      <td>163.000000</td>\n      <td>728.000000</td>\n      <td>81.000000</td>\n      <td>1.000000</td>\n      <td>1972.791138</td>\n      <td>13.000000</td>\n      <td>30.000000</td>\n      <td>88.000000</td>\n      <td>218.000000</td>\n    </tr>\n    <tr>\n      <th>25%</th>\n      <td>3.313600e+05</td>\n      <td>1294.500000</td>\n      <td>1686.000000</td>\n      <td>28.000000</td>\n      <td>127.000000</td>\n      <td>409.500000</td>\n      <td>1186.000000</td>\n      <td>9790.000000</td>\n      <td>1302.000000</td>\n      <td>6997.000000</td>\n      <td>1274.000000</td>\n      <td>38.000000</td>\n      <td>6949.239498</td>\n      <td>41.000000</td>\n      <td>49.000000</td>\n      <td>100.300000</td>\n      <td>5501.802351</td>\n    </tr>\n    <tr>\n      <th>50%</th>\n      <td>6.547410e+05</td>\n      <td>1549.000000</td>\n      <td>4559.000000</td>\n      <td>40.000000</td>\n      <td>358.000000</td>\n      <td>1294.000000</td>\n      <td>2517.000000</td>\n      <td>27141.000000</td>\n      <td>4114.000000</td>\n      <td>16395.000000</td>\n      <td>3645.000000</td>\n      <td>108.000000</td>\n      <td>8162.208385</td>\n      <td>49.000000</td>\n      <td>56.000000</td>\n      <td>102.900000</td>\n      <td>8293.511396</td>\n    </tr>\n    <tr>\n      <th>75%</th>\n      <td>1.021795e+06</td>\n      <td>1891.500000</td>\n      <td>11101.000000</td>\n      <td>131.000000</td>\n      <td>713.000000</td>\n      <td>3055.000000</td>\n      <td>7336.000000</td>\n      <td>48780.000000</td>\n      <td>7210.000000</td>\n      <td>39427.000000</td>\n      <td>6432.000000</td>\n      <td>201.000000</td>\n      <td>10968.517430</td>\n      <td>65.000000</td>\n      <td>68.000000</td>\n      <td>116.800000</td>\n      <td>9532.980283</td>\n    </tr>\n    <tr>\n      <th>max</th>\n      <td>2.693976e+06</td>\n      <td>6373.000000</td>\n      <td>25532.000000</td>\n      <td>492.000000</td>\n      <td>1761.000000</td>\n      <td>9147.000000</td>\n      <td>15296.000000</td>\n      <td>101750.000000</td>\n      <td>17038.000000</td>\n      <td>71614.000000</td>\n      <td>13098.000000</td>\n      <td>789.000000</td>\n      <td>16274.419781</td>\n      <td>87.000000</td>\n      <td>86.000000</td>\n      <td>183.000000</td>\n      <td>14454.628643</td>\n    </tr>\n  </tbody>\n</table>\n</div>"
     },
     "metadata": {},
     "execution_count": 75
    }
   ],
   "source": [
    "# Bin the cost data according to quartiles\n",
    "\n",
    "# Describe the data to begin binning data with pandas cut or qcut\n",
    "\n",
    "merged_population_rent_crime_walk_cost.describe()"
   ]
  },
  {
   "cell_type": "code",
   "execution_count": 76,
   "metadata": {},
   "outputs": [
    {
     "output_type": "execute_result",
     "data": {
      "text/plain": [
       "0        (6756.682, 8531.989]\n",
       "1        (6756.682, 8531.989]\n",
       "2        (6756.682, 8531.989]\n",
       "3        (6756.682, 8531.989]\n",
       "4        (6756.682, 8531.989]\n",
       "                ...          \n",
       "1621    (8531.989, 10735.507]\n",
       "1622    (8531.989, 10735.507]\n",
       "1623    (8531.989, 10735.507]\n",
       "1624    (8531.989, 10735.507]\n",
       "1625    (8531.989, 10735.507]\n",
       "Name: Livability Score, Length: 1626, dtype: category\n",
       "Categories (5, interval[float64]): [(217.999, 5161.602] < (5161.602, 6756.682] < (6756.682, 8531.989] < (8531.989, 10735.507] < (10735.507, 14454.629]]"
      ]
     },
     "metadata": {},
     "execution_count": 76
    }
   ],
   "source": [
    "# Quartile cut the Livability Score data, to see how it is evenly distributed\n",
    "\n",
    "pd.qcut(merged_population_rent_crime_walk_cost['Livability Score'], q=5)"
   ]
  },
  {
   "cell_type": "code",
   "execution_count": 77,
   "metadata": {},
   "outputs": [
    {
     "output_type": "execute_result",
     "data": {
      "text/plain": [
       "                  Location  2019 Population Town or City  2019 Rental Rates  \\\n",
       "0         Phoenix, Arizona          1680992         city               1424   \n",
       "1         Phoenix, Arizona          1680992         city               1522   \n",
       "2         Phoenix, Arizona          1680992         city               1461   \n",
       "3         Phoenix, Arizona          1680992         city               1549   \n",
       "4         Phoenix, Arizona          1680992         city               1611   \n",
       "...                    ...              ...          ...                ...   \n",
       "1621  Milwaukee, Wisconsin           590157         city                839   \n",
       "1622  Milwaukee, Wisconsin           590157         city                948   \n",
       "1623  Milwaukee, Wisconsin           590157         city                973   \n",
       "1624  Milwaukee, Wisconsin           590157         city                792   \n",
       "1625  Milwaukee, Wisconsin           590157         city               1066   \n",
       "\n",
       "          State       City  Violent crime  \\\n",
       "0       Arizona    Phoenix          11803   \n",
       "1       Arizona    Phoenix          11803   \n",
       "2       Arizona    Phoenix          11803   \n",
       "3       Arizona    Phoenix          11803   \n",
       "4       Arizona    Phoenix          11803   \n",
       "...         ...        ...            ...   \n",
       "1621  Wisconsin  Milwaukee           7874   \n",
       "1622  Wisconsin  Milwaukee           7874   \n",
       "1623  Wisconsin  Milwaukee           7874   \n",
       "1624  Wisconsin  Milwaukee           7874   \n",
       "1625  Wisconsin  Milwaukee           7874   \n",
       "\n",
       "      Murder and nonnegligent manslaughter  Rape  Robbery  ...  \\\n",
       "0                                      131  1139     3197  ...   \n",
       "1                                      131  1139     3197  ...   \n",
       "2                                      131  1139     3197  ...   \n",
       "3                                      131  1139     3197  ...   \n",
       "4                                      131  1139     3197  ...   \n",
       "...                                    ...   ...      ...  ...   \n",
       "1621                                    97   427     1911  ...   \n",
       "1622                                    97   427     1911  ...   \n",
       "1623                                    97   427     1911  ...   \n",
       "1624                                    97   427     1911  ...   \n",
       "1625                                    97   427     1911  ...   \n",
       "\n",
       "      Walk Score Categories  Walk Score Ranges  Bike Score Categories  \\\n",
       "0         Higher Walk Score          38.0-48.0    Highest Bike Scores   \n",
       "1         Higher Walk Score          38.0-48.0    Highest Bike Scores   \n",
       "2         Higher Walk Score          38.0-48.0    Highest Bike Scores   \n",
       "3         Higher Walk Score          38.0-48.0    Highest Bike Scores   \n",
       "4         Higher Walk Score          38.0-48.0    Highest Bike Scores   \n",
       "...                     ...                ...                    ...   \n",
       "1621     Highest Walk Score          48.0-96.0    Highest Bike Scores   \n",
       "1622     Highest Walk Score          48.0-96.0    Highest Bike Scores   \n",
       "1623     Highest Walk Score          48.0-96.0    Highest Bike Scores   \n",
       "1624     Highest Walk Score          48.0-96.0    Highest Bike Scores   \n",
       "1625     Highest Walk Score          48.0-96.0    Highest Bike Scores   \n",
       "\n",
       "      Bike Score Ranges  Cost of Living Index  \\\n",
       "0             52.0-96.0                 105.8   \n",
       "1             52.0-96.0                 105.8   \n",
       "2             52.0-96.0                 105.8   \n",
       "3             52.0-96.0                 105.8   \n",
       "4             52.0-96.0                 105.8   \n",
       "...                 ...                   ...   \n",
       "1621          52.0-96.0                  94.8   \n",
       "1622          52.0-96.0                  94.8   \n",
       "1623          52.0-96.0                  94.8   \n",
       "1624          52.0-96.0                  94.8   \n",
       "1625          52.0-96.0                  94.8   \n",
       "\n",
       "      Cost of Living Index Categories Cost of Living Index Ranges  \\\n",
       "0        Highest Cost of Living Index                103.74-183.0   \n",
       "1        Highest Cost of Living Index                103.74-183.0   \n",
       "2        Highest Cost of Living Index                103.74-183.0   \n",
       "3        Highest Cost of Living Index                103.74-183.0   \n",
       "4        Highest Cost of Living Index                103.74-183.0   \n",
       "...                               ...                         ...   \n",
       "1621     Average Cost of Living Index                  91.4-96.18   \n",
       "1622     Average Cost of Living Index                  91.4-96.18   \n",
       "1623     Average Cost of Living Index                  91.4-96.18   \n",
       "1624     Average Cost of Living Index                  91.4-96.18   \n",
       "1625     Average Cost of Living Index                  91.4-96.18   \n",
       "\n",
       "      Livability Score Livability Score Categories Livability Score Ranges  \n",
       "0          8401.333638   Average Livability Scores       6,756.68-8,531.98  \n",
       "1          8401.333638   Average Livability Scores       6,756.68-8,531.98  \n",
       "2          8401.333638   Average Livability Scores       6,756.68-8,531.98  \n",
       "3          8401.333638   Average Livability Scores       6,756.68-8,531.98  \n",
       "4          8401.333638   Average Livability Scores       6,756.68-8,531.98  \n",
       "...                ...                         ...                     ...  \n",
       "1621       8672.961250    Higher Livability Scores      8,531.98-10,735.50  \n",
       "1622       8672.961250    Higher Livability Scores      8,531.98-10,735.50  \n",
       "1623       8672.961250    Higher Livability Scores      8,531.98-10,735.50  \n",
       "1624       8672.961250    Higher Livability Scores      8,531.98-10,735.50  \n",
       "1625       8672.961250    Higher Livability Scores      8,531.98-10,735.50  \n",
       "\n",
       "[1626 rows x 36 columns]"
      ],
      "text/html": "<div>\n<style scoped>\n    .dataframe tbody tr th:only-of-type {\n        vertical-align: middle;\n    }\n\n    .dataframe tbody tr th {\n        vertical-align: top;\n    }\n\n    .dataframe thead th {\n        text-align: right;\n    }\n</style>\n<table border=\"1\" class=\"dataframe\">\n  <thead>\n    <tr style=\"text-align: right;\">\n      <th></th>\n      <th>Location</th>\n      <th>2019 Population</th>\n      <th>Town or City</th>\n      <th>2019 Rental Rates</th>\n      <th>State</th>\n      <th>City</th>\n      <th>Violent crime</th>\n      <th>Murder and nonnegligent manslaughter</th>\n      <th>Rape</th>\n      <th>Robbery</th>\n      <th>...</th>\n      <th>Walk Score Categories</th>\n      <th>Walk Score Ranges</th>\n      <th>Bike Score Categories</th>\n      <th>Bike Score Ranges</th>\n      <th>Cost of Living Index</th>\n      <th>Cost of Living Index Categories</th>\n      <th>Cost of Living Index Ranges</th>\n      <th>Livability Score</th>\n      <th>Livability Score Categories</th>\n      <th>Livability Score Ranges</th>\n    </tr>\n  </thead>\n  <tbody>\n    <tr>\n      <th>0</th>\n      <td>Phoenix, Arizona</td>\n      <td>1680992</td>\n      <td>city</td>\n      <td>1424</td>\n      <td>Arizona</td>\n      <td>Phoenix</td>\n      <td>11803</td>\n      <td>131</td>\n      <td>1139</td>\n      <td>3197</td>\n      <td>...</td>\n      <td>Higher Walk Score</td>\n      <td>38.0-48.0</td>\n      <td>Highest Bike Scores</td>\n      <td>52.0-96.0</td>\n      <td>105.8</td>\n      <td>Highest Cost of Living Index</td>\n      <td>103.74-183.0</td>\n      <td>8401.333638</td>\n      <td>Average Livability Scores</td>\n      <td>6,756.68-8,531.98</td>\n    </tr>\n    <tr>\n      <th>1</th>\n      <td>Phoenix, Arizona</td>\n      <td>1680992</td>\n      <td>city</td>\n      <td>1522</td>\n      <td>Arizona</td>\n      <td>Phoenix</td>\n      <td>11803</td>\n      <td>131</td>\n      <td>1139</td>\n      <td>3197</td>\n      <td>...</td>\n      <td>Higher Walk Score</td>\n      <td>38.0-48.0</td>\n      <td>Highest Bike Scores</td>\n      <td>52.0-96.0</td>\n      <td>105.8</td>\n      <td>Highest Cost of Living Index</td>\n      <td>103.74-183.0</td>\n      <td>8401.333638</td>\n      <td>Average Livability Scores</td>\n      <td>6,756.68-8,531.98</td>\n    </tr>\n    <tr>\n      <th>2</th>\n      <td>Phoenix, Arizona</td>\n      <td>1680992</td>\n      <td>city</td>\n      <td>1461</td>\n      <td>Arizona</td>\n      <td>Phoenix</td>\n      <td>11803</td>\n      <td>131</td>\n      <td>1139</td>\n      <td>3197</td>\n      <td>...</td>\n      <td>Higher Walk Score</td>\n      <td>38.0-48.0</td>\n      <td>Highest Bike Scores</td>\n      <td>52.0-96.0</td>\n      <td>105.8</td>\n      <td>Highest Cost of Living Index</td>\n      <td>103.74-183.0</td>\n      <td>8401.333638</td>\n      <td>Average Livability Scores</td>\n      <td>6,756.68-8,531.98</td>\n    </tr>\n    <tr>\n      <th>3</th>\n      <td>Phoenix, Arizona</td>\n      <td>1680992</td>\n      <td>city</td>\n      <td>1549</td>\n      <td>Arizona</td>\n      <td>Phoenix</td>\n      <td>11803</td>\n      <td>131</td>\n      <td>1139</td>\n      <td>3197</td>\n      <td>...</td>\n      <td>Higher Walk Score</td>\n      <td>38.0-48.0</td>\n      <td>Highest Bike Scores</td>\n      <td>52.0-96.0</td>\n      <td>105.8</td>\n      <td>Highest Cost of Living Index</td>\n      <td>103.74-183.0</td>\n      <td>8401.333638</td>\n      <td>Average Livability Scores</td>\n      <td>6,756.68-8,531.98</td>\n    </tr>\n    <tr>\n      <th>4</th>\n      <td>Phoenix, Arizona</td>\n      <td>1680992</td>\n      <td>city</td>\n      <td>1611</td>\n      <td>Arizona</td>\n      <td>Phoenix</td>\n      <td>11803</td>\n      <td>131</td>\n      <td>1139</td>\n      <td>3197</td>\n      <td>...</td>\n      <td>Higher Walk Score</td>\n      <td>38.0-48.0</td>\n      <td>Highest Bike Scores</td>\n      <td>52.0-96.0</td>\n      <td>105.8</td>\n      <td>Highest Cost of Living Index</td>\n      <td>103.74-183.0</td>\n      <td>8401.333638</td>\n      <td>Average Livability Scores</td>\n      <td>6,756.68-8,531.98</td>\n    </tr>\n    <tr>\n      <th>...</th>\n      <td>...</td>\n      <td>...</td>\n      <td>...</td>\n      <td>...</td>\n      <td>...</td>\n      <td>...</td>\n      <td>...</td>\n      <td>...</td>\n      <td>...</td>\n      <td>...</td>\n      <td>...</td>\n      <td>...</td>\n      <td>...</td>\n      <td>...</td>\n      <td>...</td>\n      <td>...</td>\n      <td>...</td>\n      <td>...</td>\n      <td>...</td>\n      <td>...</td>\n      <td>...</td>\n    </tr>\n    <tr>\n      <th>1621</th>\n      <td>Milwaukee, Wisconsin</td>\n      <td>590157</td>\n      <td>city</td>\n      <td>839</td>\n      <td>Wisconsin</td>\n      <td>Milwaukee</td>\n      <td>7874</td>\n      <td>97</td>\n      <td>427</td>\n      <td>1911</td>\n      <td>...</td>\n      <td>Highest Walk Score</td>\n      <td>48.0-96.0</td>\n      <td>Highest Bike Scores</td>\n      <td>52.0-96.0</td>\n      <td>94.8</td>\n      <td>Average Cost of Living Index</td>\n      <td>91.4-96.18</td>\n      <td>8672.961250</td>\n      <td>Higher Livability Scores</td>\n      <td>8,531.98-10,735.50</td>\n    </tr>\n    <tr>\n      <th>1622</th>\n      <td>Milwaukee, Wisconsin</td>\n      <td>590157</td>\n      <td>city</td>\n      <td>948</td>\n      <td>Wisconsin</td>\n      <td>Milwaukee</td>\n      <td>7874</td>\n      <td>97</td>\n      <td>427</td>\n      <td>1911</td>\n      <td>...</td>\n      <td>Highest Walk Score</td>\n      <td>48.0-96.0</td>\n      <td>Highest Bike Scores</td>\n      <td>52.0-96.0</td>\n      <td>94.8</td>\n      <td>Average Cost of Living Index</td>\n      <td>91.4-96.18</td>\n      <td>8672.961250</td>\n      <td>Higher Livability Scores</td>\n      <td>8,531.98-10,735.50</td>\n    </tr>\n    <tr>\n      <th>1623</th>\n      <td>Milwaukee, Wisconsin</td>\n      <td>590157</td>\n      <td>city</td>\n      <td>973</td>\n      <td>Wisconsin</td>\n      <td>Milwaukee</td>\n      <td>7874</td>\n      <td>97</td>\n      <td>427</td>\n      <td>1911</td>\n      <td>...</td>\n      <td>Highest Walk Score</td>\n      <td>48.0-96.0</td>\n      <td>Highest Bike Scores</td>\n      <td>52.0-96.0</td>\n      <td>94.8</td>\n      <td>Average Cost of Living Index</td>\n      <td>91.4-96.18</td>\n      <td>8672.961250</td>\n      <td>Higher Livability Scores</td>\n      <td>8,531.98-10,735.50</td>\n    </tr>\n    <tr>\n      <th>1624</th>\n      <td>Milwaukee, Wisconsin</td>\n      <td>590157</td>\n      <td>city</td>\n      <td>792</td>\n      <td>Wisconsin</td>\n      <td>Milwaukee</td>\n      <td>7874</td>\n      <td>97</td>\n      <td>427</td>\n      <td>1911</td>\n      <td>...</td>\n      <td>Highest Walk Score</td>\n      <td>48.0-96.0</td>\n      <td>Highest Bike Scores</td>\n      <td>52.0-96.0</td>\n      <td>94.8</td>\n      <td>Average Cost of Living Index</td>\n      <td>91.4-96.18</td>\n      <td>8672.961250</td>\n      <td>Higher Livability Scores</td>\n      <td>8,531.98-10,735.50</td>\n    </tr>\n    <tr>\n      <th>1625</th>\n      <td>Milwaukee, Wisconsin</td>\n      <td>590157</td>\n      <td>city</td>\n      <td>1066</td>\n      <td>Wisconsin</td>\n      <td>Milwaukee</td>\n      <td>7874</td>\n      <td>97</td>\n      <td>427</td>\n      <td>1911</td>\n      <td>...</td>\n      <td>Highest Walk Score</td>\n      <td>48.0-96.0</td>\n      <td>Highest Bike Scores</td>\n      <td>52.0-96.0</td>\n      <td>94.8</td>\n      <td>Average Cost of Living Index</td>\n      <td>91.4-96.18</td>\n      <td>8672.961250</td>\n      <td>Higher Livability Scores</td>\n      <td>8,531.98-10,735.50</td>\n    </tr>\n  </tbody>\n</table>\n<p>1626 rows × 36 columns</p>\n</div>"
     },
     "metadata": {},
     "execution_count": 77
    }
   ],
   "source": [
    "# Bin the Cost of Living Index data into categories and ranges\n",
    "\n",
    "bins = [217.999, 5161.602, 6756.682, 8531.989, 10735.507, 14454.629]\n",
    "labels = [\"Lowest Livability Scores\", \"Lower Livability Scores\", \"Average Livability Scores\", \"Higher Livability Scores\", \"Highest Livability Scores\"]\n",
    "merged_population_rent_crime_walk_cost['Livability Score Categories'] = pd.cut(merged_population_rent_crime_walk_cost['Livability Score'], bins=bins, labels=labels)\n",
    "\n",
    "bins = [217.999, 5161.602, 6756.682, 8531.989, 10735.507, 14454.629]\n",
    "labels = [\"217.99-5,161.60\", \"5,161.60-6,756.68\", \"6,756.68-8,531.98\", \"8,531.98-10,735.50\", \"10,735.50-14,454.62\"]\n",
    "merged_population_rent_crime_walk_cost['Livability Score Ranges'] = pd.cut(merged_population_rent_crime_walk_cost['Livability Score'], bins=bins, labels=labels)\n",
    "\n",
    "merged_population_rent_crime_walk_cost"
   ]
  },
  {
   "cell_type": "code",
   "execution_count": 78,
   "metadata": {},
   "outputs": [
    {
     "output_type": "execute_result",
     "data": {
      "text/plain": [
       "                    Location  2019 Population  2019 Rental Rates  \\\n",
       "0                Akron, Ohio         197597.0         678.000000   \n",
       "1           Albany, New York          96460.0        1659.000000   \n",
       "2    Allentown, Pennsylvania         121442.0        1373.333333   \n",
       "3              Austin, Texas         978908.0        1598.500000   \n",
       "4    Bakersfield, California         384145.0        1340.000000   \n",
       "..                       ...              ...                ...   \n",
       "63           Tucson, Arizona         548073.0        1248.714286   \n",
       "64           Tulsa, Oklahoma         401190.0        1206.000000   \n",
       "65  Virginia Beach, Virginia         449974.0        1356.707317   \n",
       "66           Wichita, Kansas         389938.0         857.000000   \n",
       "67  Worcester, Massachusetts         185428.0        1448.000000   \n",
       "\n",
       "    Violent crime  Murder and nonnegligent manslaughter   Rape  Robbery  \\\n",
       "0          1782.0                                  27.0  181.0    328.0   \n",
       "1           736.0                                   4.0   60.0    189.0   \n",
       "2           471.0                                   7.0   64.0    170.0   \n",
       "3          3953.0                                  32.0  534.0    971.0   \n",
       "4          1766.0                                  34.0  116.0    701.0   \n",
       "..            ...                                   ...    ...      ...   \n",
       "63         3775.0                                  40.0  527.0   1105.0   \n",
       "64         3964.0                                  55.0  341.0    718.0   \n",
       "65          581.0                                  30.0   79.0    196.0   \n",
       "66         4451.0                                  35.0  367.0    461.0   \n",
       "67         1165.0                                  13.0   40.0    229.0   \n",
       "\n",
       "    Aggravated assault  Property crime  Burglary  Larceny-theft  \\\n",
       "0               1246.0          6568.0    1686.0         4305.0   \n",
       "1                483.0          2919.0     445.0         2315.0   \n",
       "2                230.0          2782.0     521.0         2018.0   \n",
       "3               2416.0         36588.0    4344.0        29216.0   \n",
       "4                915.0         16074.0    3888.0         9277.0   \n",
       "..                 ...             ...       ...            ...   \n",
       "63              2103.0         17943.0    2497.0        13196.0   \n",
       "64              2850.0         21336.0    4846.0        13457.0   \n",
       "65               276.0          7906.0     530.0         6797.0   \n",
       "66              3588.0         20759.0    2677.0        15777.0   \n",
       "67               883.0          3792.0     786.0         2637.0   \n",
       "\n",
       "    Motor vehicle theft  Arson    Crime Rate  Walk Score  Bike Score  \\\n",
       "0                 577.0   65.0   8484.440553          46          46   \n",
       "1                 159.0   16.0   7594.857972          65          56   \n",
       "2                 243.0    5.0   5361.407091          70          44   \n",
       "3                3028.0  103.0   8293.424918          41          54   \n",
       "4                2909.0  470.0   9410.509053          34          44   \n",
       "..                  ...    ...           ...         ...         ...   \n",
       "63               2250.0  142.0   7951.130598          42          67   \n",
       "64               3033.0  209.0  12664.572896          39          47   \n",
       "65                579.0   34.0   3779.773942          32          44   \n",
       "66               2305.0  125.0  12962.317086          35          48   \n",
       "67                369.0    6.0   5349.785361          56          38   \n",
       "\n",
       "    Cost of Living Index  Livability Score  \n",
       "0                   90.8       7972.779228  \n",
       "1                  101.6       8902.161809  \n",
       "2                  100.2      11127.212690  \n",
       "3                  107.7       8183.694863  \n",
       "4                  103.6       7045.510728  \n",
       "..                   ...               ...  \n",
       "63                  99.7       8531.989183  \n",
       "64                  88.7       3784.546885  \n",
       "65                 101.1      12671.745839  \n",
       "66                  88.0       3483.102695  \n",
       "67                 114.7      11133.334420  \n",
       "\n",
       "[68 rows x 18 columns]"
      ],
      "text/html": "<div>\n<style scoped>\n    .dataframe tbody tr th:only-of-type {\n        vertical-align: middle;\n    }\n\n    .dataframe tbody tr th {\n        vertical-align: top;\n    }\n\n    .dataframe thead th {\n        text-align: right;\n    }\n</style>\n<table border=\"1\" class=\"dataframe\">\n  <thead>\n    <tr style=\"text-align: right;\">\n      <th></th>\n      <th>Location</th>\n      <th>2019 Population</th>\n      <th>2019 Rental Rates</th>\n      <th>Violent crime</th>\n      <th>Murder and nonnegligent manslaughter</th>\n      <th>Rape</th>\n      <th>Robbery</th>\n      <th>Aggravated assault</th>\n      <th>Property crime</th>\n      <th>Burglary</th>\n      <th>Larceny-theft</th>\n      <th>Motor vehicle theft</th>\n      <th>Arson</th>\n      <th>Crime Rate</th>\n      <th>Walk Score</th>\n      <th>Bike Score</th>\n      <th>Cost of Living Index</th>\n      <th>Livability Score</th>\n    </tr>\n  </thead>\n  <tbody>\n    <tr>\n      <th>0</th>\n      <td>Akron, Ohio</td>\n      <td>197597.0</td>\n      <td>678.000000</td>\n      <td>1782.0</td>\n      <td>27.0</td>\n      <td>181.0</td>\n      <td>328.0</td>\n      <td>1246.0</td>\n      <td>6568.0</td>\n      <td>1686.0</td>\n      <td>4305.0</td>\n      <td>577.0</td>\n      <td>65.0</td>\n      <td>8484.440553</td>\n      <td>46</td>\n      <td>46</td>\n      <td>90.8</td>\n      <td>7972.779228</td>\n    </tr>\n    <tr>\n      <th>1</th>\n      <td>Albany, New York</td>\n      <td>96460.0</td>\n      <td>1659.000000</td>\n      <td>736.0</td>\n      <td>4.0</td>\n      <td>60.0</td>\n      <td>189.0</td>\n      <td>483.0</td>\n      <td>2919.0</td>\n      <td>445.0</td>\n      <td>2315.0</td>\n      <td>159.0</td>\n      <td>16.0</td>\n      <td>7594.857972</td>\n      <td>65</td>\n      <td>56</td>\n      <td>101.6</td>\n      <td>8902.161809</td>\n    </tr>\n    <tr>\n      <th>2</th>\n      <td>Allentown, Pennsylvania</td>\n      <td>121442.0</td>\n      <td>1373.333333</td>\n      <td>471.0</td>\n      <td>7.0</td>\n      <td>64.0</td>\n      <td>170.0</td>\n      <td>230.0</td>\n      <td>2782.0</td>\n      <td>521.0</td>\n      <td>2018.0</td>\n      <td>243.0</td>\n      <td>5.0</td>\n      <td>5361.407091</td>\n      <td>70</td>\n      <td>44</td>\n      <td>100.2</td>\n      <td>11127.212690</td>\n    </tr>\n    <tr>\n      <th>3</th>\n      <td>Austin, Texas</td>\n      <td>978908.0</td>\n      <td>1598.500000</td>\n      <td>3953.0</td>\n      <td>32.0</td>\n      <td>534.0</td>\n      <td>971.0</td>\n      <td>2416.0</td>\n      <td>36588.0</td>\n      <td>4344.0</td>\n      <td>29216.0</td>\n      <td>3028.0</td>\n      <td>103.0</td>\n      <td>8293.424918</td>\n      <td>41</td>\n      <td>54</td>\n      <td>107.7</td>\n      <td>8183.694863</td>\n    </tr>\n    <tr>\n      <th>4</th>\n      <td>Bakersfield, California</td>\n      <td>384145.0</td>\n      <td>1340.000000</td>\n      <td>1766.0</td>\n      <td>34.0</td>\n      <td>116.0</td>\n      <td>701.0</td>\n      <td>915.0</td>\n      <td>16074.0</td>\n      <td>3888.0</td>\n      <td>9277.0</td>\n      <td>2909.0</td>\n      <td>470.0</td>\n      <td>9410.509053</td>\n      <td>34</td>\n      <td>44</td>\n      <td>103.6</td>\n      <td>7045.510728</td>\n    </tr>\n    <tr>\n      <th>...</th>\n      <td>...</td>\n      <td>...</td>\n      <td>...</td>\n      <td>...</td>\n      <td>...</td>\n      <td>...</td>\n      <td>...</td>\n      <td>...</td>\n      <td>...</td>\n      <td>...</td>\n      <td>...</td>\n      <td>...</td>\n      <td>...</td>\n      <td>...</td>\n      <td>...</td>\n      <td>...</td>\n      <td>...</td>\n      <td>...</td>\n    </tr>\n    <tr>\n      <th>63</th>\n      <td>Tucson, Arizona</td>\n      <td>548073.0</td>\n      <td>1248.714286</td>\n      <td>3775.0</td>\n      <td>40.0</td>\n      <td>527.0</td>\n      <td>1105.0</td>\n      <td>2103.0</td>\n      <td>17943.0</td>\n      <td>2497.0</td>\n      <td>13196.0</td>\n      <td>2250.0</td>\n      <td>142.0</td>\n      <td>7951.130598</td>\n      <td>42</td>\n      <td>67</td>\n      <td>99.7</td>\n      <td>8531.989183</td>\n    </tr>\n    <tr>\n      <th>64</th>\n      <td>Tulsa, Oklahoma</td>\n      <td>401190.0</td>\n      <td>1206.000000</td>\n      <td>3964.0</td>\n      <td>55.0</td>\n      <td>341.0</td>\n      <td>718.0</td>\n      <td>2850.0</td>\n      <td>21336.0</td>\n      <td>4846.0</td>\n      <td>13457.0</td>\n      <td>3033.0</td>\n      <td>209.0</td>\n      <td>12664.572896</td>\n      <td>39</td>\n      <td>47</td>\n      <td>88.7</td>\n      <td>3784.546885</td>\n    </tr>\n    <tr>\n      <th>65</th>\n      <td>Virginia Beach, Virginia</td>\n      <td>449974.0</td>\n      <td>1356.707317</td>\n      <td>581.0</td>\n      <td>30.0</td>\n      <td>79.0</td>\n      <td>196.0</td>\n      <td>276.0</td>\n      <td>7906.0</td>\n      <td>530.0</td>\n      <td>6797.0</td>\n      <td>579.0</td>\n      <td>34.0</td>\n      <td>3779.773942</td>\n      <td>32</td>\n      <td>44</td>\n      <td>101.1</td>\n      <td>12671.745839</td>\n    </tr>\n    <tr>\n      <th>66</th>\n      <td>Wichita, Kansas</td>\n      <td>389938.0</td>\n      <td>857.000000</td>\n      <td>4451.0</td>\n      <td>35.0</td>\n      <td>367.0</td>\n      <td>461.0</td>\n      <td>3588.0</td>\n      <td>20759.0</td>\n      <td>2677.0</td>\n      <td>15777.0</td>\n      <td>2305.0</td>\n      <td>125.0</td>\n      <td>12962.317086</td>\n      <td>35</td>\n      <td>48</td>\n      <td>88.0</td>\n      <td>3483.102695</td>\n    </tr>\n    <tr>\n      <th>67</th>\n      <td>Worcester, Massachusetts</td>\n      <td>185428.0</td>\n      <td>1448.000000</td>\n      <td>1165.0</td>\n      <td>13.0</td>\n      <td>40.0</td>\n      <td>229.0</td>\n      <td>883.0</td>\n      <td>3792.0</td>\n      <td>786.0</td>\n      <td>2637.0</td>\n      <td>369.0</td>\n      <td>6.0</td>\n      <td>5349.785361</td>\n      <td>56</td>\n      <td>38</td>\n      <td>114.7</td>\n      <td>11133.334420</td>\n    </tr>\n  </tbody>\n</table>\n<p>68 rows × 18 columns</p>\n</div>"
     },
     "metadata": {},
     "execution_count": 78
    }
   ],
   "source": [
    "# Calculate the mean values of duplication Location entries\n",
    "\n",
    "merged_population_rent_crime_walk_cost = merged_population_rent_crime_walk_cost.groupby('Location').mean().reset_index()\n",
    "merged_population_rent_crime_walk_cost"
   ]
  },
  {
   "cell_type": "code",
   "execution_count": 79,
   "metadata": {},
   "outputs": [],
   "source": [
    "# Export merged_population_rent_crime_walk_cost with binned categories for csv and continue modeling in another notebook\n",
    "\n",
    "merged_population_rent_crime_walk_cost.to_csv('../data/pop_rent_crime_walk_cost_livability_bins.csv')"
   ]
  },
  {
   "cell_type": "code",
   "execution_count": 80,
   "metadata": {},
   "outputs": [],
   "source": [
    "# Consider scaling data between 0-100, like Livability Score since we calculated it, perhaps then it is more interpretable by users."
   ]
  }
 ]
}