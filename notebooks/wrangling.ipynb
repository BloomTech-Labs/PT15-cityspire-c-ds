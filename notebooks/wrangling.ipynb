{
 "metadata": {
  "language_info": {
   "codemirror_mode": {
    "name": "ipython",
    "version": 3
   },
   "file_extension": ".py",
   "mimetype": "text/x-python",
   "name": "python",
   "nbconvert_exporter": "python",
   "pygments_lexer": "ipython3",
   "version": "3.8.5-final"
  },
  "orig_nbformat": 2,
  "kernelspec": {
   "name": "python3",
   "display_name": "Python 3",
   "language": "python"
  }
 },
 "nbformat": 4,
 "nbformat_minor": 2,
 "cells": [
  {
   "cell_type": "code",
   "execution_count": 2,
   "metadata": {},
   "outputs": [],
   "source": [
    "# Objectives:\n",
    "\n",
    "# FOR RELEASE 1 MVP\n",
    "# - Only 2019 data\n",
    "# - Rename each 2019 data column (population, rent, crime)\n",
    "# - Create column with city, state (abbreviation?)\n",
    "# - Column with state\n",
    "# - Make table for each csv, or just join with pandas\n",
    "# - Join 3 df/tables on city, state (abbreviation?) column\n",
    "# - Check for duplicate cities and drop (already drop with inner join)\n",
    "# - Drop any cities that lack pop, rent, crime data (already drop with inner join, but still drop NaN values and fill later)\n",
    "# - Bin population, rent, and crime data\n",
    "# - Categorize population, rent, and crime data\n",
    "\n",
    "# MACHINE LEARNNG (in upcoming notebook)\n",
    "# - Vectorize data\n",
    "# - Train nearest neighbors model on city/state, pop, rent, and crime data\n",
    "# - Make model into a function\n",
    "# - Use function to make a recommendation of Location based on population, rent, crime rate\n",
    "# - Check to see if recommendation matches well with data. If so:\n",
    "# - Pickle the model and it is ready to be put into API and tested with Web/iOS\n",
    "# - Once these steps are completed and working, we will also incorporate walkability and livability score in Release 2.\n",
    "# - When walkability and livability scores are also included and working well in the model, we welcome and further additions to the model, granted the data is from 2019 (otherwise we can include a disclaimer, or we push all of the data used back to 2018, for example, as long as the data all comes from the same year)\n",
    "\n",
    "# STRETCH GOALS\n",
    "# - add more data that fit team's user stories\n",
    "# - attempt forecasting using data from 2010-2020\n",
    "# - try fb prophet model among other time series models and techniques\n",
    "# - be in conversation with engineers"
   ]
  },
  {
   "cell_type": "code",
   "execution_count": 3,
   "metadata": {},
   "outputs": [],
   "source": [
    "# Imports\n",
    "\n",
    "import pandas as pd\n",
    "import numpy as np"
   ]
  },
  {
   "cell_type": "code",
   "execution_count": 4,
   "metadata": {},
   "outputs": [
    {
     "output_type": "execute_result",
     "data": {
      "text/plain": [
       "                       Location  Census Estimates Base    2010    2011  \\\n",
       "0       Abbeville city, Alabama   2,688          2,705   2,699   2,694   \n",
       "1      Adamsville city, Alabama   4,522          4,506   4,500   4,493   \n",
       "2         Addison town, Alabama     758            754     751     750   \n",
       "3           Akron town, Alabama     356            356     355     347   \n",
       "4       Alabaster city, Alabama  30,352         31,112  31,209  31,375   \n",
       "...                         ...     ...            ...     ...     ...   \n",
       "19497   Wamsutter town, Wyoming     451            451     450     453   \n",
       "19498   Wheatland town, Wyoming   3,627          3,625   3,622   3,620   \n",
       "19499     Worland city, Wyoming   5,487          5,487   5,487   5,436   \n",
       "19500      Wright town, Wyoming   1,807          1,807   1,810   1,812   \n",
       "19501       Yoder town, Wyoming     151            151     152     153   \n",
       "\n",
       "         2012    2013    2014    2015    2016    2017    2018 2019 Population  \n",
       "0       2,643   2,628   2,608   2,600   2,584   2,575   2,571           2,560  \n",
       "1       4,471   4,449   4,420   4,390   4,356   4,327   4,308           4,281  \n",
       "2         743     742     739     734     731     726     723             718  \n",
       "3         347     343     338     339     333     332     331             328  \n",
       "4      31,684  31,980  32,182  32,772  33,017  33,275  33,413          33,487  \n",
       "...       ...     ...     ...     ...     ...     ...     ...             ...  \n",
       "19497     462     487     508     499     493     483     474             467  \n",
       "19498   3,626   3,622   3,642   3,645   3,587   3,549   3,527           3,462  \n",
       "19499   5,419   5,419   5,328   5,332   5,263   5,158   5,071           5,024  \n",
       "19500   1,864   1,860   1,856   1,885   1,857   1,760   1,754           1,753  \n",
       "19501     154     157     159     159     156     156     155             154  \n",
       "\n",
       "[19502 rows x 13 columns]"
      ],
      "text/html": "<div>\n<style scoped>\n    .dataframe tbody tr th:only-of-type {\n        vertical-align: middle;\n    }\n\n    .dataframe tbody tr th {\n        vertical-align: top;\n    }\n\n    .dataframe thead th {\n        text-align: right;\n    }\n</style>\n<table border=\"1\" class=\"dataframe\">\n  <thead>\n    <tr style=\"text-align: right;\">\n      <th></th>\n      <th>Location</th>\n      <th>Census</th>\n      <th>Estimates Base</th>\n      <th>2010</th>\n      <th>2011</th>\n      <th>2012</th>\n      <th>2013</th>\n      <th>2014</th>\n      <th>2015</th>\n      <th>2016</th>\n      <th>2017</th>\n      <th>2018</th>\n      <th>2019 Population</th>\n    </tr>\n  </thead>\n  <tbody>\n    <tr>\n      <th>0</th>\n      <td>Abbeville city, Alabama</td>\n      <td>2,688</td>\n      <td>2,705</td>\n      <td>2,699</td>\n      <td>2,694</td>\n      <td>2,643</td>\n      <td>2,628</td>\n      <td>2,608</td>\n      <td>2,600</td>\n      <td>2,584</td>\n      <td>2,575</td>\n      <td>2,571</td>\n      <td>2,560</td>\n    </tr>\n    <tr>\n      <th>1</th>\n      <td>Adamsville city, Alabama</td>\n      <td>4,522</td>\n      <td>4,506</td>\n      <td>4,500</td>\n      <td>4,493</td>\n      <td>4,471</td>\n      <td>4,449</td>\n      <td>4,420</td>\n      <td>4,390</td>\n      <td>4,356</td>\n      <td>4,327</td>\n      <td>4,308</td>\n      <td>4,281</td>\n    </tr>\n    <tr>\n      <th>2</th>\n      <td>Addison town, Alabama</td>\n      <td>758</td>\n      <td>754</td>\n      <td>751</td>\n      <td>750</td>\n      <td>743</td>\n      <td>742</td>\n      <td>739</td>\n      <td>734</td>\n      <td>731</td>\n      <td>726</td>\n      <td>723</td>\n      <td>718</td>\n    </tr>\n    <tr>\n      <th>3</th>\n      <td>Akron town, Alabama</td>\n      <td>356</td>\n      <td>356</td>\n      <td>355</td>\n      <td>347</td>\n      <td>347</td>\n      <td>343</td>\n      <td>338</td>\n      <td>339</td>\n      <td>333</td>\n      <td>332</td>\n      <td>331</td>\n      <td>328</td>\n    </tr>\n    <tr>\n      <th>4</th>\n      <td>Alabaster city, Alabama</td>\n      <td>30,352</td>\n      <td>31,112</td>\n      <td>31,209</td>\n      <td>31,375</td>\n      <td>31,684</td>\n      <td>31,980</td>\n      <td>32,182</td>\n      <td>32,772</td>\n      <td>33,017</td>\n      <td>33,275</td>\n      <td>33,413</td>\n      <td>33,487</td>\n    </tr>\n    <tr>\n      <th>...</th>\n      <td>...</td>\n      <td>...</td>\n      <td>...</td>\n      <td>...</td>\n      <td>...</td>\n      <td>...</td>\n      <td>...</td>\n      <td>...</td>\n      <td>...</td>\n      <td>...</td>\n      <td>...</td>\n      <td>...</td>\n      <td>...</td>\n    </tr>\n    <tr>\n      <th>19497</th>\n      <td>Wamsutter town, Wyoming</td>\n      <td>451</td>\n      <td>451</td>\n      <td>450</td>\n      <td>453</td>\n      <td>462</td>\n      <td>487</td>\n      <td>508</td>\n      <td>499</td>\n      <td>493</td>\n      <td>483</td>\n      <td>474</td>\n      <td>467</td>\n    </tr>\n    <tr>\n      <th>19498</th>\n      <td>Wheatland town, Wyoming</td>\n      <td>3,627</td>\n      <td>3,625</td>\n      <td>3,622</td>\n      <td>3,620</td>\n      <td>3,626</td>\n      <td>3,622</td>\n      <td>3,642</td>\n      <td>3,645</td>\n      <td>3,587</td>\n      <td>3,549</td>\n      <td>3,527</td>\n      <td>3,462</td>\n    </tr>\n    <tr>\n      <th>19499</th>\n      <td>Worland city, Wyoming</td>\n      <td>5,487</td>\n      <td>5,487</td>\n      <td>5,487</td>\n      <td>5,436</td>\n      <td>5,419</td>\n      <td>5,419</td>\n      <td>5,328</td>\n      <td>5,332</td>\n      <td>5,263</td>\n      <td>5,158</td>\n      <td>5,071</td>\n      <td>5,024</td>\n    </tr>\n    <tr>\n      <th>19500</th>\n      <td>Wright town, Wyoming</td>\n      <td>1,807</td>\n      <td>1,807</td>\n      <td>1,810</td>\n      <td>1,812</td>\n      <td>1,864</td>\n      <td>1,860</td>\n      <td>1,856</td>\n      <td>1,885</td>\n      <td>1,857</td>\n      <td>1,760</td>\n      <td>1,754</td>\n      <td>1,753</td>\n    </tr>\n    <tr>\n      <th>19501</th>\n      <td>Yoder town, Wyoming</td>\n      <td>151</td>\n      <td>151</td>\n      <td>152</td>\n      <td>153</td>\n      <td>154</td>\n      <td>157</td>\n      <td>159</td>\n      <td>159</td>\n      <td>156</td>\n      <td>156</td>\n      <td>155</td>\n      <td>154</td>\n    </tr>\n  </tbody>\n</table>\n<p>19502 rows × 13 columns</p>\n</div>"
     },
     "metadata": {},
     "execution_count": 4
    }
   ],
   "source": [
    "# Load an inspect population data\n",
    "\n",
    "population = pd.read_csv(\"population.csv\")\n",
    "population"
   ]
  },
  {
   "cell_type": "code",
   "execution_count": 5,
   "metadata": {},
   "outputs": [
    {
     "output_type": "execute_result",
     "data": {
      "text/plain": [
       "Location           object\n",
       "Census             object\n",
       "Estimates Base     object\n",
       "2010               object\n",
       "2011               object\n",
       "2012               object\n",
       "2013               object\n",
       "2014               object\n",
       "2015               object\n",
       "2016               object\n",
       "2017               object\n",
       "2018               object\n",
       "2019 Population    object\n",
       "dtype: object"
      ]
     },
     "metadata": {},
     "execution_count": 5
    }
   ],
   "source": [
    "# Check population data types\n",
    "\n",
    "population.dtypes"
   ]
  },
  {
   "cell_type": "code",
   "execution_count": 6,
   "metadata": {},
   "outputs": [
    {
     "output_type": "execute_result",
     "data": {
      "text/plain": [
       "                       Location 2019 Population\n",
       "0       Abbeville city, Alabama           2,560\n",
       "1      Adamsville city, Alabama           4,281\n",
       "2         Addison town, Alabama             718\n",
       "3           Akron town, Alabama             328\n",
       "4       Alabaster city, Alabama          33,487\n",
       "...                         ...             ...\n",
       "19497   Wamsutter town, Wyoming             467\n",
       "19498   Wheatland town, Wyoming           3,462\n",
       "19499     Worland city, Wyoming           5,024\n",
       "19500      Wright town, Wyoming           1,753\n",
       "19501       Yoder town, Wyoming             154\n",
       "\n",
       "[19502 rows x 2 columns]"
      ],
      "text/html": "<div>\n<style scoped>\n    .dataframe tbody tr th:only-of-type {\n        vertical-align: middle;\n    }\n\n    .dataframe tbody tr th {\n        vertical-align: top;\n    }\n\n    .dataframe thead th {\n        text-align: right;\n    }\n</style>\n<table border=\"1\" class=\"dataframe\">\n  <thead>\n    <tr style=\"text-align: right;\">\n      <th></th>\n      <th>Location</th>\n      <th>2019 Population</th>\n    </tr>\n  </thead>\n  <tbody>\n    <tr>\n      <th>0</th>\n      <td>Abbeville city, Alabama</td>\n      <td>2,560</td>\n    </tr>\n    <tr>\n      <th>1</th>\n      <td>Adamsville city, Alabama</td>\n      <td>4,281</td>\n    </tr>\n    <tr>\n      <th>2</th>\n      <td>Addison town, Alabama</td>\n      <td>718</td>\n    </tr>\n    <tr>\n      <th>3</th>\n      <td>Akron town, Alabama</td>\n      <td>328</td>\n    </tr>\n    <tr>\n      <th>4</th>\n      <td>Alabaster city, Alabama</td>\n      <td>33,487</td>\n    </tr>\n    <tr>\n      <th>...</th>\n      <td>...</td>\n      <td>...</td>\n    </tr>\n    <tr>\n      <th>19497</th>\n      <td>Wamsutter town, Wyoming</td>\n      <td>467</td>\n    </tr>\n    <tr>\n      <th>19498</th>\n      <td>Wheatland town, Wyoming</td>\n      <td>3,462</td>\n    </tr>\n    <tr>\n      <th>19499</th>\n      <td>Worland city, Wyoming</td>\n      <td>5,024</td>\n    </tr>\n    <tr>\n      <th>19500</th>\n      <td>Wright town, Wyoming</td>\n      <td>1,753</td>\n    </tr>\n    <tr>\n      <th>19501</th>\n      <td>Yoder town, Wyoming</td>\n      <td>154</td>\n    </tr>\n  </tbody>\n</table>\n<p>19502 rows × 2 columns</p>\n</div>"
     },
     "metadata": {},
     "execution_count": 6
    }
   ],
   "source": [
    "# Drop columns from population data (or can create a copy with just location and 2019 population data)\n",
    "\n",
    "population = population.drop(['Census', 'Estimates Base', '2010', '2011', '2012', '2013', '2014', '2015', '2016', '2017', '2018'], axis=1)\n",
    "population\n",
    "\n",
    "# In Location column, after the name of the town or city it contains \"town\" or \"city\". Wrangle this out."
   ]
  },
  {
   "cell_type": "code",
   "execution_count": 7,
   "metadata": {},
   "outputs": [
    {
     "output_type": "execute_result",
     "data": {
      "text/plain": [
       "                       Location 2019 Population Town or City\n",
       "0       Abbeville city, Alabama           2,560         city\n",
       "1      Adamsville city, Alabama           4,281         city\n",
       "2         Addison town, Alabama             718         town\n",
       "3           Akron town, Alabama             328         town\n",
       "4       Alabaster city, Alabama          33,487         city\n",
       "...                         ...             ...          ...\n",
       "19497   Wamsutter town, Wyoming             467         town\n",
       "19498   Wheatland town, Wyoming           3,462         town\n",
       "19499     Worland city, Wyoming           5,024         city\n",
       "19500      Wright town, Wyoming           1,753         town\n",
       "19501       Yoder town, Wyoming             154         town\n",
       "\n",
       "[19502 rows x 3 columns]"
      ],
      "text/html": "<div>\n<style scoped>\n    .dataframe tbody tr th:only-of-type {\n        vertical-align: middle;\n    }\n\n    .dataframe tbody tr th {\n        vertical-align: top;\n    }\n\n    .dataframe thead th {\n        text-align: right;\n    }\n</style>\n<table border=\"1\" class=\"dataframe\">\n  <thead>\n    <tr style=\"text-align: right;\">\n      <th></th>\n      <th>Location</th>\n      <th>2019 Population</th>\n      <th>Town or City</th>\n    </tr>\n  </thead>\n  <tbody>\n    <tr>\n      <th>0</th>\n      <td>Abbeville city, Alabama</td>\n      <td>2,560</td>\n      <td>city</td>\n    </tr>\n    <tr>\n      <th>1</th>\n      <td>Adamsville city, Alabama</td>\n      <td>4,281</td>\n      <td>city</td>\n    </tr>\n    <tr>\n      <th>2</th>\n      <td>Addison town, Alabama</td>\n      <td>718</td>\n      <td>town</td>\n    </tr>\n    <tr>\n      <th>3</th>\n      <td>Akron town, Alabama</td>\n      <td>328</td>\n      <td>town</td>\n    </tr>\n    <tr>\n      <th>4</th>\n      <td>Alabaster city, Alabama</td>\n      <td>33,487</td>\n      <td>city</td>\n    </tr>\n    <tr>\n      <th>...</th>\n      <td>...</td>\n      <td>...</td>\n      <td>...</td>\n    </tr>\n    <tr>\n      <th>19497</th>\n      <td>Wamsutter town, Wyoming</td>\n      <td>467</td>\n      <td>town</td>\n    </tr>\n    <tr>\n      <th>19498</th>\n      <td>Wheatland town, Wyoming</td>\n      <td>3,462</td>\n      <td>town</td>\n    </tr>\n    <tr>\n      <th>19499</th>\n      <td>Worland city, Wyoming</td>\n      <td>5,024</td>\n      <td>city</td>\n    </tr>\n    <tr>\n      <th>19500</th>\n      <td>Wright town, Wyoming</td>\n      <td>1,753</td>\n      <td>town</td>\n    </tr>\n    <tr>\n      <th>19501</th>\n      <td>Yoder town, Wyoming</td>\n      <td>154</td>\n      <td>town</td>\n    </tr>\n  </tbody>\n</table>\n<p>19502 rows × 3 columns</p>\n</div>"
     },
     "metadata": {},
     "execution_count": 7
    }
   ],
   "source": [
    "# Create new column to specify if Location is city or town\n",
    "\n",
    "population[\"Town or City\"] = population['Location'].str.extract(\"(city|town)\")\n",
    "population"
   ]
  },
  {
   "cell_type": "code",
   "execution_count": 8,
   "metadata": {},
   "outputs": [
    {
     "output_type": "execute_result",
     "data": {
      "text/plain": [
       "                  Location 2019 Population Town or City\n",
       "0       Abbeville, Alabama           2,560         city\n",
       "1      Adamsville, Alabama           4,281         city\n",
       "2         Addison, Alabama             718         town\n",
       "3           Akron, Alabama             328         town\n",
       "4       Alabaster, Alabama          33,487         city\n",
       "...                    ...             ...          ...\n",
       "19497   Wamsutter, Wyoming             467         town\n",
       "19498   Wheatland, Wyoming           3,462         town\n",
       "19499     Worland, Wyoming           5,024         city\n",
       "19500      Wright, Wyoming           1,753         town\n",
       "19501       Yoder, Wyoming             154         town\n",
       "\n",
       "[19502 rows x 3 columns]"
      ],
      "text/html": "<div>\n<style scoped>\n    .dataframe tbody tr th:only-of-type {\n        vertical-align: middle;\n    }\n\n    .dataframe tbody tr th {\n        vertical-align: top;\n    }\n\n    .dataframe thead th {\n        text-align: right;\n    }\n</style>\n<table border=\"1\" class=\"dataframe\">\n  <thead>\n    <tr style=\"text-align: right;\">\n      <th></th>\n      <th>Location</th>\n      <th>2019 Population</th>\n      <th>Town or City</th>\n    </tr>\n  </thead>\n  <tbody>\n    <tr>\n      <th>0</th>\n      <td>Abbeville, Alabama</td>\n      <td>2,560</td>\n      <td>city</td>\n    </tr>\n    <tr>\n      <th>1</th>\n      <td>Adamsville, Alabama</td>\n      <td>4,281</td>\n      <td>city</td>\n    </tr>\n    <tr>\n      <th>2</th>\n      <td>Addison, Alabama</td>\n      <td>718</td>\n      <td>town</td>\n    </tr>\n    <tr>\n      <th>3</th>\n      <td>Akron, Alabama</td>\n      <td>328</td>\n      <td>town</td>\n    </tr>\n    <tr>\n      <th>4</th>\n      <td>Alabaster, Alabama</td>\n      <td>33,487</td>\n      <td>city</td>\n    </tr>\n    <tr>\n      <th>...</th>\n      <td>...</td>\n      <td>...</td>\n      <td>...</td>\n    </tr>\n    <tr>\n      <th>19497</th>\n      <td>Wamsutter, Wyoming</td>\n      <td>467</td>\n      <td>town</td>\n    </tr>\n    <tr>\n      <th>19498</th>\n      <td>Wheatland, Wyoming</td>\n      <td>3,462</td>\n      <td>town</td>\n    </tr>\n    <tr>\n      <th>19499</th>\n      <td>Worland, Wyoming</td>\n      <td>5,024</td>\n      <td>city</td>\n    </tr>\n    <tr>\n      <th>19500</th>\n      <td>Wright, Wyoming</td>\n      <td>1,753</td>\n      <td>town</td>\n    </tr>\n    <tr>\n      <th>19501</th>\n      <td>Yoder, Wyoming</td>\n      <td>154</td>\n      <td>town</td>\n    </tr>\n  </tbody>\n</table>\n<p>19502 rows × 3 columns</p>\n</div>"
     },
     "metadata": {},
     "execution_count": 8
    }
   ],
   "source": [
    "# Remove city and town strings from Location column so that the column can be used to join with other data\n",
    "\n",
    "population[\"Location\"] = population['Location'].str.replace(' city', '', regex=False)\n",
    "population[\"Location\"] = population['Location'].str.replace(' town', '', regex=False)\n",
    "\n",
    "population\n",
    "\n",
    "# Consider adding just a State column, having City and State columns separate"
   ]
  },
  {
   "cell_type": "code",
   "execution_count": 9,
   "metadata": {},
   "outputs": [
    {
     "output_type": "execute_result",
     "data": {
      "text/plain": [
       "      RegionID  RegionName  SizeRank               MsaName  2014-01  2014-02  \\\n",
       "0        61639       10025         1          New York, NY   3012.0   3025.0   \n",
       "1        84654       60657         2           Chicago, IL   1588.0   1594.0   \n",
       "2        61637       10023         3          New York, NY   3114.0   3123.0   \n",
       "3        91982       77494         4           Houston, TX   1759.0   1763.0   \n",
       "4        84616       60614         5           Chicago, IL   1740.0   1745.0   \n",
       "...        ...         ...       ...                   ...      ...      ...   \n",
       "3185     62321       11976      9253          New York, NY  63788.0      NaN   \n",
       "3186     58624        2110      9469            Boston, MA   4113.0   4105.0   \n",
       "3187     66128       20004      9592        Washington, DC      NaN      NaN   \n",
       "3188    399647       80951      9634  Colorado Springs, CO      NaN   1252.0   \n",
       "3189     62311       11964     10014          New York, NY      NaN      NaN   \n",
       "\n",
       "      2014-03  2014-04  2014-05  2014-06  ...  2020-02  2020-03  2020-04  \\\n",
       "0      3037.0   3049.0   3062.0   3074.0  ...   3268.0   3234.0   3199.0   \n",
       "1      1599.0   1605.0   1610.0   1615.0  ...   1834.0   1829.0   1824.0   \n",
       "2      3131.0   3140.0   3148.0   3156.0  ...   3307.0   3275.0   3244.0   \n",
       "3      1766.0   1770.0   1773.0   1776.0  ...   1775.0   1777.0   1780.0   \n",
       "4      1750.0   1755.0   1759.0   1764.0  ...   2023.0   2017.0   2010.0   \n",
       "...       ...      ...      ...      ...  ...      ...      ...      ...   \n",
       "3185      NaN      NaN      NaN      NaN  ...  49083.0  48860.0  48636.0   \n",
       "3186   4097.0   4089.0      NaN   4077.0  ...   4510.0      NaN      NaN   \n",
       "3187   2295.0   2304.0      NaN   2323.0  ...   2496.0   2494.0   2492.0   \n",
       "3188   1256.0   1260.0   1265.0   1269.0  ...      NaN   1656.0   1662.0   \n",
       "3189      NaN      NaN      NaN      NaN  ...      NaN  14504.0      NaN   \n",
       "\n",
       "      2020-05  2020-06  2020-07  2020-08  2020-09  2020-10  2020-11  \n",
       "0      3162.0   3125.0   3088.0   3048.0   3008.0   2968.0   2925.0  \n",
       "1      1818.0   1813.0   1807.0   1801.0   1795.0   1788.0   1781.0  \n",
       "2      3211.0   3178.0   3144.0   3108.0   3072.0   3035.0   2997.0  \n",
       "3      1782.0   1785.0   1788.0   1791.0   1794.0   1796.0   1799.0  \n",
       "4      2003.0   1995.0   1988.0   1979.0   1970.0   1962.0   1952.0  \n",
       "...       ...      ...      ...      ...      ...      ...      ...  \n",
       "3185      NaN      NaN      NaN      NaN      NaN      NaN  47911.0  \n",
       "3186   4350.0   4294.0   4239.0   4180.0   4121.0   4062.0   4002.0  \n",
       "3187   2490.0   2487.0   2484.0   2481.0   2478.0   2475.0   2471.0  \n",
       "3188   1669.0   1676.0   1683.0   1690.0   1697.0   1704.0   1712.0  \n",
       "3189  14463.0  14436.0      NaN      NaN      NaN      NaN      NaN  \n",
       "\n",
       "[3190 rows x 87 columns]"
      ],
      "text/html": "<div>\n<style scoped>\n    .dataframe tbody tr th:only-of-type {\n        vertical-align: middle;\n    }\n\n    .dataframe tbody tr th {\n        vertical-align: top;\n    }\n\n    .dataframe thead th {\n        text-align: right;\n    }\n</style>\n<table border=\"1\" class=\"dataframe\">\n  <thead>\n    <tr style=\"text-align: right;\">\n      <th></th>\n      <th>RegionID</th>\n      <th>RegionName</th>\n      <th>SizeRank</th>\n      <th>MsaName</th>\n      <th>2014-01</th>\n      <th>2014-02</th>\n      <th>2014-03</th>\n      <th>2014-04</th>\n      <th>2014-05</th>\n      <th>2014-06</th>\n      <th>...</th>\n      <th>2020-02</th>\n      <th>2020-03</th>\n      <th>2020-04</th>\n      <th>2020-05</th>\n      <th>2020-06</th>\n      <th>2020-07</th>\n      <th>2020-08</th>\n      <th>2020-09</th>\n      <th>2020-10</th>\n      <th>2020-11</th>\n    </tr>\n  </thead>\n  <tbody>\n    <tr>\n      <th>0</th>\n      <td>61639</td>\n      <td>10025</td>\n      <td>1</td>\n      <td>New York, NY</td>\n      <td>3012.0</td>\n      <td>3025.0</td>\n      <td>3037.0</td>\n      <td>3049.0</td>\n      <td>3062.0</td>\n      <td>3074.0</td>\n      <td>...</td>\n      <td>3268.0</td>\n      <td>3234.0</td>\n      <td>3199.0</td>\n      <td>3162.0</td>\n      <td>3125.0</td>\n      <td>3088.0</td>\n      <td>3048.0</td>\n      <td>3008.0</td>\n      <td>2968.0</td>\n      <td>2925.0</td>\n    </tr>\n    <tr>\n      <th>1</th>\n      <td>84654</td>\n      <td>60657</td>\n      <td>2</td>\n      <td>Chicago, IL</td>\n      <td>1588.0</td>\n      <td>1594.0</td>\n      <td>1599.0</td>\n      <td>1605.0</td>\n      <td>1610.0</td>\n      <td>1615.0</td>\n      <td>...</td>\n      <td>1834.0</td>\n      <td>1829.0</td>\n      <td>1824.0</td>\n      <td>1818.0</td>\n      <td>1813.0</td>\n      <td>1807.0</td>\n      <td>1801.0</td>\n      <td>1795.0</td>\n      <td>1788.0</td>\n      <td>1781.0</td>\n    </tr>\n    <tr>\n      <th>2</th>\n      <td>61637</td>\n      <td>10023</td>\n      <td>3</td>\n      <td>New York, NY</td>\n      <td>3114.0</td>\n      <td>3123.0</td>\n      <td>3131.0</td>\n      <td>3140.0</td>\n      <td>3148.0</td>\n      <td>3156.0</td>\n      <td>...</td>\n      <td>3307.0</td>\n      <td>3275.0</td>\n      <td>3244.0</td>\n      <td>3211.0</td>\n      <td>3178.0</td>\n      <td>3144.0</td>\n      <td>3108.0</td>\n      <td>3072.0</td>\n      <td>3035.0</td>\n      <td>2997.0</td>\n    </tr>\n    <tr>\n      <th>3</th>\n      <td>91982</td>\n      <td>77494</td>\n      <td>4</td>\n      <td>Houston, TX</td>\n      <td>1759.0</td>\n      <td>1763.0</td>\n      <td>1766.0</td>\n      <td>1770.0</td>\n      <td>1773.0</td>\n      <td>1776.0</td>\n      <td>...</td>\n      <td>1775.0</td>\n      <td>1777.0</td>\n      <td>1780.0</td>\n      <td>1782.0</td>\n      <td>1785.0</td>\n      <td>1788.0</td>\n      <td>1791.0</td>\n      <td>1794.0</td>\n      <td>1796.0</td>\n      <td>1799.0</td>\n    </tr>\n    <tr>\n      <th>4</th>\n      <td>84616</td>\n      <td>60614</td>\n      <td>5</td>\n      <td>Chicago, IL</td>\n      <td>1740.0</td>\n      <td>1745.0</td>\n      <td>1750.0</td>\n      <td>1755.0</td>\n      <td>1759.0</td>\n      <td>1764.0</td>\n      <td>...</td>\n      <td>2023.0</td>\n      <td>2017.0</td>\n      <td>2010.0</td>\n      <td>2003.0</td>\n      <td>1995.0</td>\n      <td>1988.0</td>\n      <td>1979.0</td>\n      <td>1970.0</td>\n      <td>1962.0</td>\n      <td>1952.0</td>\n    </tr>\n    <tr>\n      <th>...</th>\n      <td>...</td>\n      <td>...</td>\n      <td>...</td>\n      <td>...</td>\n      <td>...</td>\n      <td>...</td>\n      <td>...</td>\n      <td>...</td>\n      <td>...</td>\n      <td>...</td>\n      <td>...</td>\n      <td>...</td>\n      <td>...</td>\n      <td>...</td>\n      <td>...</td>\n      <td>...</td>\n      <td>...</td>\n      <td>...</td>\n      <td>...</td>\n      <td>...</td>\n      <td>...</td>\n    </tr>\n    <tr>\n      <th>3185</th>\n      <td>62321</td>\n      <td>11976</td>\n      <td>9253</td>\n      <td>New York, NY</td>\n      <td>63788.0</td>\n      <td>NaN</td>\n      <td>NaN</td>\n      <td>NaN</td>\n      <td>NaN</td>\n      <td>NaN</td>\n      <td>...</td>\n      <td>49083.0</td>\n      <td>48860.0</td>\n      <td>48636.0</td>\n      <td>NaN</td>\n      <td>NaN</td>\n      <td>NaN</td>\n      <td>NaN</td>\n      <td>NaN</td>\n      <td>NaN</td>\n      <td>47911.0</td>\n    </tr>\n    <tr>\n      <th>3186</th>\n      <td>58624</td>\n      <td>2110</td>\n      <td>9469</td>\n      <td>Boston, MA</td>\n      <td>4113.0</td>\n      <td>4105.0</td>\n      <td>4097.0</td>\n      <td>4089.0</td>\n      <td>NaN</td>\n      <td>4077.0</td>\n      <td>...</td>\n      <td>4510.0</td>\n      <td>NaN</td>\n      <td>NaN</td>\n      <td>4350.0</td>\n      <td>4294.0</td>\n      <td>4239.0</td>\n      <td>4180.0</td>\n      <td>4121.0</td>\n      <td>4062.0</td>\n      <td>4002.0</td>\n    </tr>\n    <tr>\n      <th>3187</th>\n      <td>66128</td>\n      <td>20004</td>\n      <td>9592</td>\n      <td>Washington, DC</td>\n      <td>NaN</td>\n      <td>NaN</td>\n      <td>2295.0</td>\n      <td>2304.0</td>\n      <td>NaN</td>\n      <td>2323.0</td>\n      <td>...</td>\n      <td>2496.0</td>\n      <td>2494.0</td>\n      <td>2492.0</td>\n      <td>2490.0</td>\n      <td>2487.0</td>\n      <td>2484.0</td>\n      <td>2481.0</td>\n      <td>2478.0</td>\n      <td>2475.0</td>\n      <td>2471.0</td>\n    </tr>\n    <tr>\n      <th>3188</th>\n      <td>399647</td>\n      <td>80951</td>\n      <td>9634</td>\n      <td>Colorado Springs, CO</td>\n      <td>NaN</td>\n      <td>1252.0</td>\n      <td>1256.0</td>\n      <td>1260.0</td>\n      <td>1265.0</td>\n      <td>1269.0</td>\n      <td>...</td>\n      <td>NaN</td>\n      <td>1656.0</td>\n      <td>1662.0</td>\n      <td>1669.0</td>\n      <td>1676.0</td>\n      <td>1683.0</td>\n      <td>1690.0</td>\n      <td>1697.0</td>\n      <td>1704.0</td>\n      <td>1712.0</td>\n    </tr>\n    <tr>\n      <th>3189</th>\n      <td>62311</td>\n      <td>11964</td>\n      <td>10014</td>\n      <td>New York, NY</td>\n      <td>NaN</td>\n      <td>NaN</td>\n      <td>NaN</td>\n      <td>NaN</td>\n      <td>NaN</td>\n      <td>NaN</td>\n      <td>...</td>\n      <td>NaN</td>\n      <td>14504.0</td>\n      <td>NaN</td>\n      <td>14463.0</td>\n      <td>14436.0</td>\n      <td>NaN</td>\n      <td>NaN</td>\n      <td>NaN</td>\n      <td>NaN</td>\n      <td>NaN</td>\n    </tr>\n  </tbody>\n</table>\n<p>3190 rows × 87 columns</p>\n</div>"
     },
     "metadata": {},
     "execution_count": 9
    }
   ],
   "source": [
    "# Load and inspect rental rates data\n",
    "\n",
    "rent = pd.read_csv(\"rental_rates.csv\")\n",
    "rent"
   ]
  },
  {
   "cell_type": "code",
   "execution_count": 10,
   "metadata": {},
   "outputs": [
    {
     "output_type": "execute_result",
     "data": {
      "text/plain": [
       "RegionID        int64\n",
       "RegionName      int64\n",
       "SizeRank        int64\n",
       "MsaName        object\n",
       "2014-01       float64\n",
       "               ...   \n",
       "2020-07       float64\n",
       "2020-08       float64\n",
       "2020-09       float64\n",
       "2020-10       float64\n",
       "2020-11       float64\n",
       "Length: 87, dtype: object"
      ]
     },
     "metadata": {},
     "execution_count": 10
    }
   ],
   "source": [
    "# Check rent data types\n",
    "\n",
    "rent.dtypes"
   ]
  },
  {
   "cell_type": "code",
   "execution_count": 11,
   "metadata": {},
   "outputs": [],
   "source": [
    "# Drop all columns you dont want, or just use code below to make new df\n",
    "\n",
    "#rent = rent.drop(['RegionID', 'RegionName', 'SizeRank', '2014-01', '2014-02', '2014-03', '2014-04', ...], axis=1)"
   ]
  },
  {
   "cell_type": "code",
   "execution_count": 12,
   "metadata": {},
   "outputs": [
    {
     "output_type": "execute_result",
     "data": {
      "text/plain": [
       "                  Location  2019 Rental Rates\n",
       "0             New York, NY             3311.0\n",
       "1              Chicago, IL             1838.0\n",
       "2             New York, NY             3344.0\n",
       "3              Houston, TX             1772.0\n",
       "4              Chicago, IL             2028.0\n",
       "...                    ...                ...\n",
       "3185          New York, NY            50175.0\n",
       "3186            Boston, MA             4585.0\n",
       "3187        Washington, DC             2495.0\n",
       "3188  Colorado Springs, CO             1640.0\n",
       "3189          New York, NY            14553.0\n",
       "\n",
       "[3190 rows x 2 columns]"
      ],
      "text/html": "<div>\n<style scoped>\n    .dataframe tbody tr th:only-of-type {\n        vertical-align: middle;\n    }\n\n    .dataframe tbody tr th {\n        vertical-align: top;\n    }\n\n    .dataframe thead th {\n        text-align: right;\n    }\n</style>\n<table border=\"1\" class=\"dataframe\">\n  <thead>\n    <tr style=\"text-align: right;\">\n      <th></th>\n      <th>Location</th>\n      <th>2019 Rental Rates</th>\n    </tr>\n  </thead>\n  <tbody>\n    <tr>\n      <th>0</th>\n      <td>New York, NY</td>\n      <td>3311.0</td>\n    </tr>\n    <tr>\n      <th>1</th>\n      <td>Chicago, IL</td>\n      <td>1838.0</td>\n    </tr>\n    <tr>\n      <th>2</th>\n      <td>New York, NY</td>\n      <td>3344.0</td>\n    </tr>\n    <tr>\n      <th>3</th>\n      <td>Houston, TX</td>\n      <td>1772.0</td>\n    </tr>\n    <tr>\n      <th>4</th>\n      <td>Chicago, IL</td>\n      <td>2028.0</td>\n    </tr>\n    <tr>\n      <th>...</th>\n      <td>...</td>\n      <td>...</td>\n    </tr>\n    <tr>\n      <th>3185</th>\n      <td>New York, NY</td>\n      <td>50175.0</td>\n    </tr>\n    <tr>\n      <th>3186</th>\n      <td>Boston, MA</td>\n      <td>4585.0</td>\n    </tr>\n    <tr>\n      <th>3187</th>\n      <td>Washington, DC</td>\n      <td>2495.0</td>\n    </tr>\n    <tr>\n      <th>3188</th>\n      <td>Colorado Springs, CO</td>\n      <td>1640.0</td>\n    </tr>\n    <tr>\n      <th>3189</th>\n      <td>New York, NY</td>\n      <td>14553.0</td>\n    </tr>\n  </tbody>\n</table>\n<p>3190 rows × 2 columns</p>\n</div>"
     },
     "metadata": {},
     "execution_count": 12
    }
   ],
   "source": [
    "# Create copy of rental rates dataframe and change column names\n",
    "\n",
    "rent = rent[['MsaName','2019-12']].copy()\n",
    "rent = rent.rename(columns = {\"MsaName\":\"Location\"})\n",
    "rent = rent.rename(columns = {\"2019-12\":\"2019 Rental Rates\"})\n",
    "rent"
   ]
  },
  {
   "cell_type": "code",
   "execution_count": 13,
   "metadata": {},
   "outputs": [
    {
     "output_type": "execute_result",
     "data": {
      "text/plain": [
       "                              Location  2019 Rental Rates\n",
       "0                   New York, New York             3311.0\n",
       "1                    Chicago, Illinois             1838.0\n",
       "2                   New York, New York             3344.0\n",
       "3                       Houston, Texas             1772.0\n",
       "4                    Chicago, Illinois             2028.0\n",
       "...                                ...                ...\n",
       "3185                New York, New York            50175.0\n",
       "3186             Boston, Massachusetts             4585.0\n",
       "3187  Washington, District of Columbia             2495.0\n",
       "3188        Colorado Springs, Colorado             1640.0\n",
       "3189                New York, New York            14553.0\n",
       "\n",
       "[3190 rows x 2 columns]"
      ],
      "text/html": "<div>\n<style scoped>\n    .dataframe tbody tr th:only-of-type {\n        vertical-align: middle;\n    }\n\n    .dataframe tbody tr th {\n        vertical-align: top;\n    }\n\n    .dataframe thead th {\n        text-align: right;\n    }\n</style>\n<table border=\"1\" class=\"dataframe\">\n  <thead>\n    <tr style=\"text-align: right;\">\n      <th></th>\n      <th>Location</th>\n      <th>2019 Rental Rates</th>\n    </tr>\n  </thead>\n  <tbody>\n    <tr>\n      <th>0</th>\n      <td>New York, New York</td>\n      <td>3311.0</td>\n    </tr>\n    <tr>\n      <th>1</th>\n      <td>Chicago, Illinois</td>\n      <td>1838.0</td>\n    </tr>\n    <tr>\n      <th>2</th>\n      <td>New York, New York</td>\n      <td>3344.0</td>\n    </tr>\n    <tr>\n      <th>3</th>\n      <td>Houston, Texas</td>\n      <td>1772.0</td>\n    </tr>\n    <tr>\n      <th>4</th>\n      <td>Chicago, Illinois</td>\n      <td>2028.0</td>\n    </tr>\n    <tr>\n      <th>...</th>\n      <td>...</td>\n      <td>...</td>\n    </tr>\n    <tr>\n      <th>3185</th>\n      <td>New York, New York</td>\n      <td>50175.0</td>\n    </tr>\n    <tr>\n      <th>3186</th>\n      <td>Boston, Massachusetts</td>\n      <td>4585.0</td>\n    </tr>\n    <tr>\n      <th>3187</th>\n      <td>Washington, District of Columbia</td>\n      <td>2495.0</td>\n    </tr>\n    <tr>\n      <th>3188</th>\n      <td>Colorado Springs, Colorado</td>\n      <td>1640.0</td>\n    </tr>\n    <tr>\n      <th>3189</th>\n      <td>New York, New York</td>\n      <td>14553.0</td>\n    </tr>\n  </tbody>\n</table>\n<p>3190 rows × 2 columns</p>\n</div>"
     },
     "metadata": {},
     "execution_count": 13
    }
   ],
   "source": [
    "# Replace state abbreviations with full state names\n",
    "\n",
    "rent[\"Location\"] = rent['Location'].str.replace('AK', 'Alaska', regex=False)\n",
    "rent[\"Location\"] = rent['Location'].str.replace('AL', 'Alabama', regex=False)\n",
    "rent[\"Location\"] = rent['Location'].str.replace('AR', 'Arkansas', regex=False)\n",
    "rent[\"Location\"] = rent['Location'].str.replace('AS', 'American Samoa', regex=False)\n",
    "rent[\"Location\"] = rent['Location'].str.replace('AZ', 'Arizona', regex=False)\n",
    "rent[\"Location\"] = rent['Location'].str.replace('CA', 'California', regex=False)\n",
    "rent[\"Location\"] = rent['Location'].str.replace('CO', 'Colorado', regex=False)\n",
    "rent[\"Location\"] = rent['Location'].str.replace('CT', 'Connecticut', regex=False)\n",
    "rent[\"Location\"] = rent['Location'].str.replace('DC', 'District of Columbia', regex=False)\n",
    "rent[\"Location\"] = rent['Location'].str.replace('DE', 'Delaware', regex=False)\n",
    "rent[\"Location\"] = rent['Location'].str.replace('FL', 'Florida', regex=False)\n",
    "rent[\"Location\"] = rent['Location'].str.replace('GA', 'Georgia', regex=False)\n",
    "rent[\"Location\"] = rent['Location'].str.replace('GU', 'Guam', regex=False)\n",
    "rent[\"Location\"] = rent['Location'].str.replace('HI', 'Hawaii', regex=False)\n",
    "rent[\"Location\"] = rent['Location'].str.replace('IA', 'Iowa', regex=False)\n",
    "rent[\"Location\"] = rent['Location'].str.replace('ID', 'Idaho', regex=False)\n",
    "rent[\"Location\"] = rent['Location'].str.replace('IL', 'Illinois', regex=False)\n",
    "rent[\"Location\"] = rent['Location'].str.replace('IN', 'Indiana', regex=False)\n",
    "rent[\"Location\"] = rent['Location'].str.replace('KS', 'Kansas', regex=False)\n",
    "rent[\"Location\"] = rent['Location'].str.replace('KY', 'Kentucky', regex=False)\n",
    "rent[\"Location\"] = rent['Location'].str.replace('LA', 'Louisiana', regex=False)\n",
    "rent[\"Location\"] = rent['Location'].str.replace('MA', 'Massachusetts', regex=False)\n",
    "rent[\"Location\"] = rent['Location'].str.replace('MD', 'Maryland', regex=False)\n",
    "rent[\"Location\"] = rent['Location'].str.replace('ME', 'Maine', regex=False)\n",
    "rent[\"Location\"] = rent['Location'].str.replace('MI', 'Michigan', regex=False)\n",
    "rent[\"Location\"] = rent['Location'].str.replace('MN', 'Minnesota', regex=False)\n",
    "rent[\"Location\"] = rent['Location'].str.replace('MO', 'Missouri', regex=False)\n",
    "rent[\"Location\"] = rent['Location'].str.replace('MP', 'Northern Mariana Islands', regex=False)\n",
    "rent[\"Location\"] = rent['Location'].str.replace('MS', 'Mississippi', regex=False)\n",
    "rent[\"Location\"] = rent['Location'].str.replace('MT', 'Montana', regex=False)\n",
    "rent[\"Location\"] = rent['Location'].str.replace('NA', 'National', regex=False)\n",
    "rent[\"Location\"] = rent['Location'].str.replace('NC', 'North Carolina', regex=False)\n",
    "rent[\"Location\"] = rent['Location'].str.replace('ND', 'North Dakota', regex=False)\n",
    "rent[\"Location\"] = rent['Location'].str.replace('NE', 'Nebraska', regex=False)\n",
    "rent[\"Location\"] = rent['Location'].str.replace('NH', 'New Hampshire', regex=False)\n",
    "rent[\"Location\"] = rent['Location'].str.replace('NJ', 'New Jersey', regex=False)\n",
    "rent[\"Location\"] = rent['Location'].str.replace('NM', 'New Mexico', regex=False)\n",
    "rent[\"Location\"] = rent['Location'].str.replace('NV', 'Nevada', regex=False)\n",
    "rent[\"Location\"] = rent['Location'].str.replace('NY', 'New York', regex=False)\n",
    "rent[\"Location\"] = rent['Location'].str.replace('OH', 'Ohio', regex=False)\n",
    "rent[\"Location\"] = rent['Location'].str.replace('OK', 'Oklahoma', regex=False)\n",
    "rent[\"Location\"] = rent['Location'].str.replace('OR', 'Oregon', regex=False)\n",
    "rent[\"Location\"] = rent['Location'].str.replace('PA', 'Pennsylvania', regex=False)\n",
    "rent[\"Location\"] = rent['Location'].str.replace('PR', 'Puerto Rico', regex=False)\n",
    "rent[\"Location\"] = rent['Location'].str.replace('RI', 'Rhode Island', regex=False)\n",
    "rent[\"Location\"] = rent['Location'].str.replace('SC', 'South Carolina', regex=False)\n",
    "rent[\"Location\"] = rent['Location'].str.replace('SD', 'South Dakota', regex=False)\n",
    "rent[\"Location\"] = rent['Location'].str.replace('TN', 'Tennessee', regex=False)\n",
    "rent[\"Location\"] = rent['Location'].str.replace('TX', 'Texas', regex=False)\n",
    "rent[\"Location\"] = rent['Location'].str.replace('UT', 'Utah', regex=False)\n",
    "rent[\"Location\"] = rent['Location'].str.replace('VA', 'Virginia', regex=False)\n",
    "rent[\"Location\"] = rent['Location'].str.replace('VI', 'Virgin Islands', regex=False)\n",
    "rent[\"Location\"] = rent['Location'].str.replace('VT', 'Vermont', regex=False)\n",
    "rent[\"Location\"] = rent['Location'].str.replace('WA', 'Washington', regex=False)\n",
    "rent[\"Location\"] = rent['Location'].str.replace('WI', 'Wisconsin', regex=False)\n",
    "rent[\"Location\"] = rent['Location'].str.replace('WV', 'West Virginia', regex=False)\n",
    "rent[\"Location\"] = rent['Location'].str.replace('WY', 'Wyoming', regex=False)\n",
    "rent"
   ]
  },
  {
   "cell_type": "code",
   "execution_count": 14,
   "metadata": {},
   "outputs": [
    {
     "output_type": "execute_result",
     "data": {
      "text/plain": [
       "        State                 City Population Violent crime  \\\n",
       "0     Alabama               Hoover     85,670           114   \n",
       "1      Alaska            Anchorage    287,731         3,581   \n",
       "2      Alaska               Bethel      6,544           130   \n",
       "3      Alaska  Bristol Bay Borough        852             2   \n",
       "4      Alaska              Cordova      2,150             0   \n",
       "...       ...                  ...        ...           ...   \n",
       "8100  Wyoming             Sheridan     17,895             9   \n",
       "8101  Wyoming          Thermopolis      2,830            13   \n",
       "8102  Wyoming           Torrington      6,709            13   \n",
       "8103  Wyoming            Wheatland      3,544             7   \n",
       "8104  Wyoming              Worland      5,026             8   \n",
       "\n",
       "      Murder and nonnegligent manslaughter Rape Robbery Aggravated assault  \\\n",
       "0                                      4.0   15      27                 68   \n",
       "1                                     32.0  540     621              2,388   \n",
       "2                                      1.0   47       3                 79   \n",
       "3                                      0.0    0       0                  2   \n",
       "4                                      0.0    0       0                  0   \n",
       "...                                    ...  ...     ...                ...   \n",
       "8100                                   0.0    4       0                  5   \n",
       "8101                                   0.0    0       0                 13   \n",
       "8102                                   0.0    4       1                  8   \n",
       "8103                                   0.0    1       0                  6   \n",
       "8104                                   0.0    5       0                  3   \n",
       "\n",
       "     Property crime Burglary Larceny-theft Motor vehicle theft Arson  \n",
       "0             1,922      128         1,694                 100     2  \n",
       "1            12,261    1,692         9,038               1,531    93  \n",
       "2               132       20            84                  28    12  \n",
       "3                20        5             8                   7     0  \n",
       "4                 7        1             6                   0     0  \n",
       "...             ...      ...           ...                 ...   ...  \n",
       "8100            369       75           278                  16     3  \n",
       "8101             34        7            22                   5     0  \n",
       "8102             48        8            40                   0     0  \n",
       "8103             72       24            45                   3     0  \n",
       "8104             36        6            30                   0     0  \n",
       "\n",
       "[8105 rows x 13 columns]"
      ],
      "text/html": "<div>\n<style scoped>\n    .dataframe tbody tr th:only-of-type {\n        vertical-align: middle;\n    }\n\n    .dataframe tbody tr th {\n        vertical-align: top;\n    }\n\n    .dataframe thead th {\n        text-align: right;\n    }\n</style>\n<table border=\"1\" class=\"dataframe\">\n  <thead>\n    <tr style=\"text-align: right;\">\n      <th></th>\n      <th>State</th>\n      <th>City</th>\n      <th>Population</th>\n      <th>Violent crime</th>\n      <th>Murder and nonnegligent manslaughter</th>\n      <th>Rape</th>\n      <th>Robbery</th>\n      <th>Aggravated assault</th>\n      <th>Property crime</th>\n      <th>Burglary</th>\n      <th>Larceny-theft</th>\n      <th>Motor vehicle theft</th>\n      <th>Arson</th>\n    </tr>\n  </thead>\n  <tbody>\n    <tr>\n      <th>0</th>\n      <td>Alabama</td>\n      <td>Hoover</td>\n      <td>85,670</td>\n      <td>114</td>\n      <td>4.0</td>\n      <td>15</td>\n      <td>27</td>\n      <td>68</td>\n      <td>1,922</td>\n      <td>128</td>\n      <td>1,694</td>\n      <td>100</td>\n      <td>2</td>\n    </tr>\n    <tr>\n      <th>1</th>\n      <td>Alaska</td>\n      <td>Anchorage</td>\n      <td>287,731</td>\n      <td>3,581</td>\n      <td>32.0</td>\n      <td>540</td>\n      <td>621</td>\n      <td>2,388</td>\n      <td>12,261</td>\n      <td>1,692</td>\n      <td>9,038</td>\n      <td>1,531</td>\n      <td>93</td>\n    </tr>\n    <tr>\n      <th>2</th>\n      <td>Alaska</td>\n      <td>Bethel</td>\n      <td>6,544</td>\n      <td>130</td>\n      <td>1.0</td>\n      <td>47</td>\n      <td>3</td>\n      <td>79</td>\n      <td>132</td>\n      <td>20</td>\n      <td>84</td>\n      <td>28</td>\n      <td>12</td>\n    </tr>\n    <tr>\n      <th>3</th>\n      <td>Alaska</td>\n      <td>Bristol Bay Borough</td>\n      <td>852</td>\n      <td>2</td>\n      <td>0.0</td>\n      <td>0</td>\n      <td>0</td>\n      <td>2</td>\n      <td>20</td>\n      <td>5</td>\n      <td>8</td>\n      <td>7</td>\n      <td>0</td>\n    </tr>\n    <tr>\n      <th>4</th>\n      <td>Alaska</td>\n      <td>Cordova</td>\n      <td>2,150</td>\n      <td>0</td>\n      <td>0.0</td>\n      <td>0</td>\n      <td>0</td>\n      <td>0</td>\n      <td>7</td>\n      <td>1</td>\n      <td>6</td>\n      <td>0</td>\n      <td>0</td>\n    </tr>\n    <tr>\n      <th>...</th>\n      <td>...</td>\n      <td>...</td>\n      <td>...</td>\n      <td>...</td>\n      <td>...</td>\n      <td>...</td>\n      <td>...</td>\n      <td>...</td>\n      <td>...</td>\n      <td>...</td>\n      <td>...</td>\n      <td>...</td>\n      <td>...</td>\n    </tr>\n    <tr>\n      <th>8100</th>\n      <td>Wyoming</td>\n      <td>Sheridan</td>\n      <td>17,895</td>\n      <td>9</td>\n      <td>0.0</td>\n      <td>4</td>\n      <td>0</td>\n      <td>5</td>\n      <td>369</td>\n      <td>75</td>\n      <td>278</td>\n      <td>16</td>\n      <td>3</td>\n    </tr>\n    <tr>\n      <th>8101</th>\n      <td>Wyoming</td>\n      <td>Thermopolis</td>\n      <td>2,830</td>\n      <td>13</td>\n      <td>0.0</td>\n      <td>0</td>\n      <td>0</td>\n      <td>13</td>\n      <td>34</td>\n      <td>7</td>\n      <td>22</td>\n      <td>5</td>\n      <td>0</td>\n    </tr>\n    <tr>\n      <th>8102</th>\n      <td>Wyoming</td>\n      <td>Torrington</td>\n      <td>6,709</td>\n      <td>13</td>\n      <td>0.0</td>\n      <td>4</td>\n      <td>1</td>\n      <td>8</td>\n      <td>48</td>\n      <td>8</td>\n      <td>40</td>\n      <td>0</td>\n      <td>0</td>\n    </tr>\n    <tr>\n      <th>8103</th>\n      <td>Wyoming</td>\n      <td>Wheatland</td>\n      <td>3,544</td>\n      <td>7</td>\n      <td>0.0</td>\n      <td>1</td>\n      <td>0</td>\n      <td>6</td>\n      <td>72</td>\n      <td>24</td>\n      <td>45</td>\n      <td>3</td>\n      <td>0</td>\n    </tr>\n    <tr>\n      <th>8104</th>\n      <td>Wyoming</td>\n      <td>Worland</td>\n      <td>5,026</td>\n      <td>8</td>\n      <td>0.0</td>\n      <td>5</td>\n      <td>0</td>\n      <td>3</td>\n      <td>36</td>\n      <td>6</td>\n      <td>30</td>\n      <td>0</td>\n      <td>0</td>\n    </tr>\n  </tbody>\n</table>\n<p>8105 rows × 13 columns</p>\n</div>"
     },
     "metadata": {},
     "execution_count": 14
    }
   ],
   "source": [
    "# Load and inspect crime rates data (need to replicate state for every city)\n",
    "\n",
    "crime = pd.read_csv(\"crime_rates.csv\")\n",
    "crime"
   ]
  },
  {
   "cell_type": "code",
   "execution_count": 15,
   "metadata": {},
   "outputs": [
    {
     "output_type": "execute_result",
     "data": {
      "text/plain": [
       "State                                    object\n",
       "City                                     object\n",
       "Population                               object\n",
       "Violent crime                            object\n",
       "Murder and nonnegligent manslaughter    float64\n",
       "Rape                                     object\n",
       "Robbery                                  object\n",
       "Aggravated assault                       object\n",
       "Property crime                           object\n",
       "Burglary                                 object\n",
       "Larceny-theft                            object\n",
       "Motor vehicle theft                      object\n",
       "Arson                                    object\n",
       "dtype: object"
      ]
     },
     "metadata": {},
     "execution_count": 15
    }
   ],
   "source": [
    "# Check crime data types\n",
    "\n",
    "crime.dtypes"
   ]
  },
  {
   "cell_type": "code",
   "execution_count": 16,
   "metadata": {},
   "outputs": [
    {
     "output_type": "execute_result",
     "data": {
      "text/plain": [
       "        State                 City Population Violent crime  \\\n",
       "0     Alabama               Hoover     85,670           114   \n",
       "1      Alaska            Anchorage    287,731         3,581   \n",
       "2      Alaska               Bethel      6,544           130   \n",
       "3      Alaska  Bristol Bay Borough        852             2   \n",
       "4      Alaska              Cordova      2,150             0   \n",
       "...       ...                  ...        ...           ...   \n",
       "8100  Wyoming             Sheridan     17,895             9   \n",
       "8101  Wyoming          Thermopolis      2,830            13   \n",
       "8102  Wyoming           Torrington      6,709            13   \n",
       "8103  Wyoming            Wheatland      3,544             7   \n",
       "8104  Wyoming              Worland      5,026             8   \n",
       "\n",
       "      Murder and nonnegligent manslaughter Rape Robbery Aggravated assault  \\\n",
       "0                                      4.0   15      27                 68   \n",
       "1                                     32.0  540     621              2,388   \n",
       "2                                      1.0   47       3                 79   \n",
       "3                                      0.0    0       0                  2   \n",
       "4                                      0.0    0       0                  0   \n",
       "...                                    ...  ...     ...                ...   \n",
       "8100                                   0.0    4       0                  5   \n",
       "8101                                   0.0    0       0                 13   \n",
       "8102                                   0.0    4       1                  8   \n",
       "8103                                   0.0    1       0                  6   \n",
       "8104                                   0.0    5       0                  3   \n",
       "\n",
       "     Property crime Burglary Larceny-theft Motor vehicle theft Arson  \\\n",
       "0             1,922      128         1,694                 100     2   \n",
       "1            12,261    1,692         9,038               1,531    93   \n",
       "2               132       20            84                  28    12   \n",
       "3                20        5             8                   7     0   \n",
       "4                 7        1             6                   0     0   \n",
       "...             ...      ...           ...                 ...   ...   \n",
       "8100            369       75           278                  16     3   \n",
       "8101             34        7            22                   5     0   \n",
       "8102             48        8            40                   0     0   \n",
       "8103             72       24            45                   3     0   \n",
       "8104             36        6            30                   0     0   \n",
       "\n",
       "                         Location  \n",
       "0                 Hoover, Alabama  \n",
       "1               Anchorage, Alaska  \n",
       "2                  Bethel, Alaska  \n",
       "3     Bristol Bay Borough, Alaska  \n",
       "4                 Cordova, Alaska  \n",
       "...                           ...  \n",
       "8100            Sheridan, Wyoming  \n",
       "8101         Thermopolis, Wyoming  \n",
       "8102          Torrington, Wyoming  \n",
       "8103           Wheatland, Wyoming  \n",
       "8104             Worland, Wyoming  \n",
       "\n",
       "[8105 rows x 14 columns]"
      ],
      "text/html": "<div>\n<style scoped>\n    .dataframe tbody tr th:only-of-type {\n        vertical-align: middle;\n    }\n\n    .dataframe tbody tr th {\n        vertical-align: top;\n    }\n\n    .dataframe thead th {\n        text-align: right;\n    }\n</style>\n<table border=\"1\" class=\"dataframe\">\n  <thead>\n    <tr style=\"text-align: right;\">\n      <th></th>\n      <th>State</th>\n      <th>City</th>\n      <th>Population</th>\n      <th>Violent crime</th>\n      <th>Murder and nonnegligent manslaughter</th>\n      <th>Rape</th>\n      <th>Robbery</th>\n      <th>Aggravated assault</th>\n      <th>Property crime</th>\n      <th>Burglary</th>\n      <th>Larceny-theft</th>\n      <th>Motor vehicle theft</th>\n      <th>Arson</th>\n      <th>Location</th>\n    </tr>\n  </thead>\n  <tbody>\n    <tr>\n      <th>0</th>\n      <td>Alabama</td>\n      <td>Hoover</td>\n      <td>85,670</td>\n      <td>114</td>\n      <td>4.0</td>\n      <td>15</td>\n      <td>27</td>\n      <td>68</td>\n      <td>1,922</td>\n      <td>128</td>\n      <td>1,694</td>\n      <td>100</td>\n      <td>2</td>\n      <td>Hoover, Alabama</td>\n    </tr>\n    <tr>\n      <th>1</th>\n      <td>Alaska</td>\n      <td>Anchorage</td>\n      <td>287,731</td>\n      <td>3,581</td>\n      <td>32.0</td>\n      <td>540</td>\n      <td>621</td>\n      <td>2,388</td>\n      <td>12,261</td>\n      <td>1,692</td>\n      <td>9,038</td>\n      <td>1,531</td>\n      <td>93</td>\n      <td>Anchorage, Alaska</td>\n    </tr>\n    <tr>\n      <th>2</th>\n      <td>Alaska</td>\n      <td>Bethel</td>\n      <td>6,544</td>\n      <td>130</td>\n      <td>1.0</td>\n      <td>47</td>\n      <td>3</td>\n      <td>79</td>\n      <td>132</td>\n      <td>20</td>\n      <td>84</td>\n      <td>28</td>\n      <td>12</td>\n      <td>Bethel, Alaska</td>\n    </tr>\n    <tr>\n      <th>3</th>\n      <td>Alaska</td>\n      <td>Bristol Bay Borough</td>\n      <td>852</td>\n      <td>2</td>\n      <td>0.0</td>\n      <td>0</td>\n      <td>0</td>\n      <td>2</td>\n      <td>20</td>\n      <td>5</td>\n      <td>8</td>\n      <td>7</td>\n      <td>0</td>\n      <td>Bristol Bay Borough, Alaska</td>\n    </tr>\n    <tr>\n      <th>4</th>\n      <td>Alaska</td>\n      <td>Cordova</td>\n      <td>2,150</td>\n      <td>0</td>\n      <td>0.0</td>\n      <td>0</td>\n      <td>0</td>\n      <td>0</td>\n      <td>7</td>\n      <td>1</td>\n      <td>6</td>\n      <td>0</td>\n      <td>0</td>\n      <td>Cordova, Alaska</td>\n    </tr>\n    <tr>\n      <th>...</th>\n      <td>...</td>\n      <td>...</td>\n      <td>...</td>\n      <td>...</td>\n      <td>...</td>\n      <td>...</td>\n      <td>...</td>\n      <td>...</td>\n      <td>...</td>\n      <td>...</td>\n      <td>...</td>\n      <td>...</td>\n      <td>...</td>\n      <td>...</td>\n    </tr>\n    <tr>\n      <th>8100</th>\n      <td>Wyoming</td>\n      <td>Sheridan</td>\n      <td>17,895</td>\n      <td>9</td>\n      <td>0.0</td>\n      <td>4</td>\n      <td>0</td>\n      <td>5</td>\n      <td>369</td>\n      <td>75</td>\n      <td>278</td>\n      <td>16</td>\n      <td>3</td>\n      <td>Sheridan, Wyoming</td>\n    </tr>\n    <tr>\n      <th>8101</th>\n      <td>Wyoming</td>\n      <td>Thermopolis</td>\n      <td>2,830</td>\n      <td>13</td>\n      <td>0.0</td>\n      <td>0</td>\n      <td>0</td>\n      <td>13</td>\n      <td>34</td>\n      <td>7</td>\n      <td>22</td>\n      <td>5</td>\n      <td>0</td>\n      <td>Thermopolis, Wyoming</td>\n    </tr>\n    <tr>\n      <th>8102</th>\n      <td>Wyoming</td>\n      <td>Torrington</td>\n      <td>6,709</td>\n      <td>13</td>\n      <td>0.0</td>\n      <td>4</td>\n      <td>1</td>\n      <td>8</td>\n      <td>48</td>\n      <td>8</td>\n      <td>40</td>\n      <td>0</td>\n      <td>0</td>\n      <td>Torrington, Wyoming</td>\n    </tr>\n    <tr>\n      <th>8103</th>\n      <td>Wyoming</td>\n      <td>Wheatland</td>\n      <td>3,544</td>\n      <td>7</td>\n      <td>0.0</td>\n      <td>1</td>\n      <td>0</td>\n      <td>6</td>\n      <td>72</td>\n      <td>24</td>\n      <td>45</td>\n      <td>3</td>\n      <td>0</td>\n      <td>Wheatland, Wyoming</td>\n    </tr>\n    <tr>\n      <th>8104</th>\n      <td>Wyoming</td>\n      <td>Worland</td>\n      <td>5,026</td>\n      <td>8</td>\n      <td>0.0</td>\n      <td>5</td>\n      <td>0</td>\n      <td>3</td>\n      <td>36</td>\n      <td>6</td>\n      <td>30</td>\n      <td>0</td>\n      <td>0</td>\n      <td>Worland, Wyoming</td>\n    </tr>\n  </tbody>\n</table>\n<p>8105 rows × 14 columns</p>\n</div>"
     },
     "metadata": {},
     "execution_count": 16
    }
   ],
   "source": [
    "# Make new Location column with City and State data, so the data can be joineed with the other data on this column\n",
    "\n",
    "crime['Location'] = crime['City'] + ',' + ' ' + crime['State']\n",
    "crime\n",
    "\n",
    "# Consider adding Alabama crime data from 2018"
   ]
  },
  {
   "cell_type": "code",
   "execution_count": 17,
   "metadata": {},
   "outputs": [
    {
     "output_type": "execute_result",
     "data": {
      "text/plain": [
       "                  Location 2019 Population Town or City  2019 Rental Rates\n",
       "0      Birmingham, Alabama         209,403         city              935.0\n",
       "1      Birmingham, Alabama         209,403         city             1328.0\n",
       "2      Birmingham, Alabama         209,403         city             1675.0\n",
       "3      Birmingham, Alabama         209,403         city              966.0\n",
       "4      Birmingham, Alabama         209,403         city             1426.0\n",
       "...                    ...             ...          ...                ...\n",
       "2502  Milwaukee, Wisconsin         590,157         city              839.0\n",
       "2503  Milwaukee, Wisconsin         590,157         city              948.0\n",
       "2504  Milwaukee, Wisconsin         590,157         city              973.0\n",
       "2505  Milwaukee, Wisconsin         590,157         city              792.0\n",
       "2506  Milwaukee, Wisconsin         590,157         city             1066.0\n",
       "\n",
       "[2507 rows x 4 columns]"
      ],
      "text/html": "<div>\n<style scoped>\n    .dataframe tbody tr th:only-of-type {\n        vertical-align: middle;\n    }\n\n    .dataframe tbody tr th {\n        vertical-align: top;\n    }\n\n    .dataframe thead th {\n        text-align: right;\n    }\n</style>\n<table border=\"1\" class=\"dataframe\">\n  <thead>\n    <tr style=\"text-align: right;\">\n      <th></th>\n      <th>Location</th>\n      <th>2019 Population</th>\n      <th>Town or City</th>\n      <th>2019 Rental Rates</th>\n    </tr>\n  </thead>\n  <tbody>\n    <tr>\n      <th>0</th>\n      <td>Birmingham, Alabama</td>\n      <td>209,403</td>\n      <td>city</td>\n      <td>935.0</td>\n    </tr>\n    <tr>\n      <th>1</th>\n      <td>Birmingham, Alabama</td>\n      <td>209,403</td>\n      <td>city</td>\n      <td>1328.0</td>\n    </tr>\n    <tr>\n      <th>2</th>\n      <td>Birmingham, Alabama</td>\n      <td>209,403</td>\n      <td>city</td>\n      <td>1675.0</td>\n    </tr>\n    <tr>\n      <th>3</th>\n      <td>Birmingham, Alabama</td>\n      <td>209,403</td>\n      <td>city</td>\n      <td>966.0</td>\n    </tr>\n    <tr>\n      <th>4</th>\n      <td>Birmingham, Alabama</td>\n      <td>209,403</td>\n      <td>city</td>\n      <td>1426.0</td>\n    </tr>\n    <tr>\n      <th>...</th>\n      <td>...</td>\n      <td>...</td>\n      <td>...</td>\n      <td>...</td>\n    </tr>\n    <tr>\n      <th>2502</th>\n      <td>Milwaukee, Wisconsin</td>\n      <td>590,157</td>\n      <td>city</td>\n      <td>839.0</td>\n    </tr>\n    <tr>\n      <th>2503</th>\n      <td>Milwaukee, Wisconsin</td>\n      <td>590,157</td>\n      <td>city</td>\n      <td>948.0</td>\n    </tr>\n    <tr>\n      <th>2504</th>\n      <td>Milwaukee, Wisconsin</td>\n      <td>590,157</td>\n      <td>city</td>\n      <td>973.0</td>\n    </tr>\n    <tr>\n      <th>2505</th>\n      <td>Milwaukee, Wisconsin</td>\n      <td>590,157</td>\n      <td>city</td>\n      <td>792.0</td>\n    </tr>\n    <tr>\n      <th>2506</th>\n      <td>Milwaukee, Wisconsin</td>\n      <td>590,157</td>\n      <td>city</td>\n      <td>1066.0</td>\n    </tr>\n  </tbody>\n</table>\n<p>2507 rows × 4 columns</p>\n</div>"
     },
     "metadata": {},
     "execution_count": 17
    }
   ],
   "source": [
    "# When wrangling is done here, combine tables, bin data in new columns, and push data to PG DB. \n",
    " \n",
    "# Example of Joins\n",
    "\n",
    "merged_population_rent = pd.merge(left=population, right=rent, left_on='Location', right_on='Location')\n",
    "merged_population_rent"
   ]
  },
  {
   "cell_type": "code",
   "execution_count": 18,
   "metadata": {},
   "outputs": [
    {
     "output_type": "execute_result",
     "data": {
      "text/plain": [
       "                  Location 2019 Population Town or City  2019 Rental Rates  \\\n",
       "0         Phoenix, Arizona       1,680,992         city             1424.0   \n",
       "1         Phoenix, Arizona       1,680,992         city             1522.0   \n",
       "2         Phoenix, Arizona       1,680,992         city             1461.0   \n",
       "3         Phoenix, Arizona       1,680,992         city             1549.0   \n",
       "4         Phoenix, Arizona       1,680,992         city             1611.0   \n",
       "...                    ...             ...          ...                ...   \n",
       "2045  Milwaukee, Wisconsin         590,157         city              839.0   \n",
       "2046  Milwaukee, Wisconsin         590,157         city              948.0   \n",
       "2047  Milwaukee, Wisconsin         590,157         city              973.0   \n",
       "2048  Milwaukee, Wisconsin         590,157         city              792.0   \n",
       "2049  Milwaukee, Wisconsin         590,157         city             1066.0   \n",
       "\n",
       "          State       City Population Violent crime  \\\n",
       "0       Arizona    Phoenix  1,688,722        11,803   \n",
       "1       Arizona    Phoenix  1,688,722        11,803   \n",
       "2       Arizona    Phoenix  1,688,722        11,803   \n",
       "3       Arizona    Phoenix  1,688,722        11,803   \n",
       "4       Arizona    Phoenix  1,688,722        11,803   \n",
       "...         ...        ...        ...           ...   \n",
       "2045  Wisconsin  Milwaukee    590,923         7,874   \n",
       "2046  Wisconsin  Milwaukee    590,923         7,874   \n",
       "2047  Wisconsin  Milwaukee    590,923         7,874   \n",
       "2048  Wisconsin  Milwaukee    590,923         7,874   \n",
       "2049  Wisconsin  Milwaukee    590,923         7,874   \n",
       "\n",
       "      Murder and nonnegligent manslaughter   Rape Robbery Aggravated assault  \\\n",
       "0                                    131.0  1,139   3,197              7,336   \n",
       "1                                    131.0  1,139   3,197              7,336   \n",
       "2                                    131.0  1,139   3,197              7,336   \n",
       "3                                    131.0  1,139   3,197              7,336   \n",
       "4                                    131.0  1,139   3,197              7,336   \n",
       "...                                    ...    ...     ...                ...   \n",
       "2045                                  97.0    427   1,911              5,439   \n",
       "2046                                  97.0    427   1,911              5,439   \n",
       "2047                                  97.0    427   1,911              5,439   \n",
       "2048                                  97.0    427   1,911              5,439   \n",
       "2049                                  97.0    427   1,911              5,439   \n",
       "\n",
       "     Property crime Burglary Larceny-theft Motor vehicle theft Arson  \n",
       "0            55,974    9,471        39,427               7,076   201  \n",
       "1            55,974    9,471        39,427               7,076   201  \n",
       "2            55,974    9,471        39,427               7,076   201  \n",
       "3            55,974    9,471        39,427               7,076   201  \n",
       "4            55,974    9,471        39,427               7,076   201  \n",
       "...             ...      ...           ...                 ...   ...  \n",
       "2045         15,097    3,594         8,053               3,450   198  \n",
       "2046         15,097    3,594         8,053               3,450   198  \n",
       "2047         15,097    3,594         8,053               3,450   198  \n",
       "2048         15,097    3,594         8,053               3,450   198  \n",
       "2049         15,097    3,594         8,053               3,450   198  \n",
       "\n",
       "[2050 rows x 17 columns]"
      ],
      "text/html": "<div>\n<style scoped>\n    .dataframe tbody tr th:only-of-type {\n        vertical-align: middle;\n    }\n\n    .dataframe tbody tr th {\n        vertical-align: top;\n    }\n\n    .dataframe thead th {\n        text-align: right;\n    }\n</style>\n<table border=\"1\" class=\"dataframe\">\n  <thead>\n    <tr style=\"text-align: right;\">\n      <th></th>\n      <th>Location</th>\n      <th>2019 Population</th>\n      <th>Town or City</th>\n      <th>2019 Rental Rates</th>\n      <th>State</th>\n      <th>City</th>\n      <th>Population</th>\n      <th>Violent crime</th>\n      <th>Murder and nonnegligent manslaughter</th>\n      <th>Rape</th>\n      <th>Robbery</th>\n      <th>Aggravated assault</th>\n      <th>Property crime</th>\n      <th>Burglary</th>\n      <th>Larceny-theft</th>\n      <th>Motor vehicle theft</th>\n      <th>Arson</th>\n    </tr>\n  </thead>\n  <tbody>\n    <tr>\n      <th>0</th>\n      <td>Phoenix, Arizona</td>\n      <td>1,680,992</td>\n      <td>city</td>\n      <td>1424.0</td>\n      <td>Arizona</td>\n      <td>Phoenix</td>\n      <td>1,688,722</td>\n      <td>11,803</td>\n      <td>131.0</td>\n      <td>1,139</td>\n      <td>3,197</td>\n      <td>7,336</td>\n      <td>55,974</td>\n      <td>9,471</td>\n      <td>39,427</td>\n      <td>7,076</td>\n      <td>201</td>\n    </tr>\n    <tr>\n      <th>1</th>\n      <td>Phoenix, Arizona</td>\n      <td>1,680,992</td>\n      <td>city</td>\n      <td>1522.0</td>\n      <td>Arizona</td>\n      <td>Phoenix</td>\n      <td>1,688,722</td>\n      <td>11,803</td>\n      <td>131.0</td>\n      <td>1,139</td>\n      <td>3,197</td>\n      <td>7,336</td>\n      <td>55,974</td>\n      <td>9,471</td>\n      <td>39,427</td>\n      <td>7,076</td>\n      <td>201</td>\n    </tr>\n    <tr>\n      <th>2</th>\n      <td>Phoenix, Arizona</td>\n      <td>1,680,992</td>\n      <td>city</td>\n      <td>1461.0</td>\n      <td>Arizona</td>\n      <td>Phoenix</td>\n      <td>1,688,722</td>\n      <td>11,803</td>\n      <td>131.0</td>\n      <td>1,139</td>\n      <td>3,197</td>\n      <td>7,336</td>\n      <td>55,974</td>\n      <td>9,471</td>\n      <td>39,427</td>\n      <td>7,076</td>\n      <td>201</td>\n    </tr>\n    <tr>\n      <th>3</th>\n      <td>Phoenix, Arizona</td>\n      <td>1,680,992</td>\n      <td>city</td>\n      <td>1549.0</td>\n      <td>Arizona</td>\n      <td>Phoenix</td>\n      <td>1,688,722</td>\n      <td>11,803</td>\n      <td>131.0</td>\n      <td>1,139</td>\n      <td>3,197</td>\n      <td>7,336</td>\n      <td>55,974</td>\n      <td>9,471</td>\n      <td>39,427</td>\n      <td>7,076</td>\n      <td>201</td>\n    </tr>\n    <tr>\n      <th>4</th>\n      <td>Phoenix, Arizona</td>\n      <td>1,680,992</td>\n      <td>city</td>\n      <td>1611.0</td>\n      <td>Arizona</td>\n      <td>Phoenix</td>\n      <td>1,688,722</td>\n      <td>11,803</td>\n      <td>131.0</td>\n      <td>1,139</td>\n      <td>3,197</td>\n      <td>7,336</td>\n      <td>55,974</td>\n      <td>9,471</td>\n      <td>39,427</td>\n      <td>7,076</td>\n      <td>201</td>\n    </tr>\n    <tr>\n      <th>...</th>\n      <td>...</td>\n      <td>...</td>\n      <td>...</td>\n      <td>...</td>\n      <td>...</td>\n      <td>...</td>\n      <td>...</td>\n      <td>...</td>\n      <td>...</td>\n      <td>...</td>\n      <td>...</td>\n      <td>...</td>\n      <td>...</td>\n      <td>...</td>\n      <td>...</td>\n      <td>...</td>\n      <td>...</td>\n    </tr>\n    <tr>\n      <th>2045</th>\n      <td>Milwaukee, Wisconsin</td>\n      <td>590,157</td>\n      <td>city</td>\n      <td>839.0</td>\n      <td>Wisconsin</td>\n      <td>Milwaukee</td>\n      <td>590,923</td>\n      <td>7,874</td>\n      <td>97.0</td>\n      <td>427</td>\n      <td>1,911</td>\n      <td>5,439</td>\n      <td>15,097</td>\n      <td>3,594</td>\n      <td>8,053</td>\n      <td>3,450</td>\n      <td>198</td>\n    </tr>\n    <tr>\n      <th>2046</th>\n      <td>Milwaukee, Wisconsin</td>\n      <td>590,157</td>\n      <td>city</td>\n      <td>948.0</td>\n      <td>Wisconsin</td>\n      <td>Milwaukee</td>\n      <td>590,923</td>\n      <td>7,874</td>\n      <td>97.0</td>\n      <td>427</td>\n      <td>1,911</td>\n      <td>5,439</td>\n      <td>15,097</td>\n      <td>3,594</td>\n      <td>8,053</td>\n      <td>3,450</td>\n      <td>198</td>\n    </tr>\n    <tr>\n      <th>2047</th>\n      <td>Milwaukee, Wisconsin</td>\n      <td>590,157</td>\n      <td>city</td>\n      <td>973.0</td>\n      <td>Wisconsin</td>\n      <td>Milwaukee</td>\n      <td>590,923</td>\n      <td>7,874</td>\n      <td>97.0</td>\n      <td>427</td>\n      <td>1,911</td>\n      <td>5,439</td>\n      <td>15,097</td>\n      <td>3,594</td>\n      <td>8,053</td>\n      <td>3,450</td>\n      <td>198</td>\n    </tr>\n    <tr>\n      <th>2048</th>\n      <td>Milwaukee, Wisconsin</td>\n      <td>590,157</td>\n      <td>city</td>\n      <td>792.0</td>\n      <td>Wisconsin</td>\n      <td>Milwaukee</td>\n      <td>590,923</td>\n      <td>7,874</td>\n      <td>97.0</td>\n      <td>427</td>\n      <td>1,911</td>\n      <td>5,439</td>\n      <td>15,097</td>\n      <td>3,594</td>\n      <td>8,053</td>\n      <td>3,450</td>\n      <td>198</td>\n    </tr>\n    <tr>\n      <th>2049</th>\n      <td>Milwaukee, Wisconsin</td>\n      <td>590,157</td>\n      <td>city</td>\n      <td>1066.0</td>\n      <td>Wisconsin</td>\n      <td>Milwaukee</td>\n      <td>590,923</td>\n      <td>7,874</td>\n      <td>97.0</td>\n      <td>427</td>\n      <td>1,911</td>\n      <td>5,439</td>\n      <td>15,097</td>\n      <td>3,594</td>\n      <td>8,053</td>\n      <td>3,450</td>\n      <td>198</td>\n    </tr>\n  </tbody>\n</table>\n<p>2050 rows × 17 columns</p>\n</div>"
     },
     "metadata": {},
     "execution_count": 18
    }
   ],
   "source": [
    "# Merge population, rent, and crime data which can be pushed to DB. Data can also be added to this, more data preserved, and binned.\n",
    "\n",
    "merged_population_rent_crime = pd.merge(left=merged_population_rent, right=crime, left_on='Location', right_on='Location')\n",
    "merged_population_rent_crime"
   ]
  },
  {
   "cell_type": "code",
   "execution_count": 19,
   "metadata": {},
   "outputs": [
    {
     "output_type": "execute_result",
     "data": {
      "text/plain": [
       "Location                                 object\n",
       "2019 Population                          object\n",
       "Town or City                             object\n",
       "2019 Rental Rates                       float64\n",
       "State                                    object\n",
       "City                                     object\n",
       "Population                               object\n",
       "Violent crime                            object\n",
       "Murder and nonnegligent manslaughter    float64\n",
       "Rape                                     object\n",
       "Robbery                                  object\n",
       "Aggravated assault                       object\n",
       "Property crime                           object\n",
       "Burglary                                 object\n",
       "Larceny-theft                            object\n",
       "Motor vehicle theft                      object\n",
       "Arson                                    object\n",
       "dtype: object"
      ]
     },
     "metadata": {},
     "execution_count": 19
    }
   ],
   "source": [
    "# Check data types before binning\n",
    "\n",
    "merged_population_rent_crime.dtypes"
   ]
  },
  {
   "cell_type": "code",
   "execution_count": 20,
   "metadata": {},
   "outputs": [
    {
     "output_type": "execute_result",
     "data": {
      "text/plain": [
       "                  Location 2019 Population Town or City  2019 Rental Rates  \\\n",
       "0         Phoenix, Arizona         1680992         city             1424.0   \n",
       "1         Phoenix, Arizona         1680992         city             1522.0   \n",
       "2         Phoenix, Arizona         1680992         city             1461.0   \n",
       "3         Phoenix, Arizona         1680992         city             1549.0   \n",
       "4         Phoenix, Arizona         1680992         city             1611.0   \n",
       "...                    ...             ...          ...                ...   \n",
       "2045  Milwaukee, Wisconsin          590157         city              839.0   \n",
       "2046  Milwaukee, Wisconsin          590157         city              948.0   \n",
       "2047  Milwaukee, Wisconsin          590157         city              973.0   \n",
       "2048  Milwaukee, Wisconsin          590157         city              792.0   \n",
       "2049  Milwaukee, Wisconsin          590157         city             1066.0   \n",
       "\n",
       "          State       City Population Violent crime  \\\n",
       "0       Arizona    Phoenix    1688722         11803   \n",
       "1       Arizona    Phoenix    1688722         11803   \n",
       "2       Arizona    Phoenix    1688722         11803   \n",
       "3       Arizona    Phoenix    1688722         11803   \n",
       "4       Arizona    Phoenix    1688722         11803   \n",
       "...         ...        ...        ...           ...   \n",
       "2045  Wisconsin  Milwaukee     590923          7874   \n",
       "2046  Wisconsin  Milwaukee     590923          7874   \n",
       "2047  Wisconsin  Milwaukee     590923          7874   \n",
       "2048  Wisconsin  Milwaukee     590923          7874   \n",
       "2049  Wisconsin  Milwaukee     590923          7874   \n",
       "\n",
       "      Murder and nonnegligent manslaughter  Rape Robbery Aggravated assault  \\\n",
       "0                                    131.0  1139    3197               7336   \n",
       "1                                    131.0  1139    3197               7336   \n",
       "2                                    131.0  1139    3197               7336   \n",
       "3                                    131.0  1139    3197               7336   \n",
       "4                                    131.0  1139    3197               7336   \n",
       "...                                    ...   ...     ...                ...   \n",
       "2045                                  97.0   427    1911               5439   \n",
       "2046                                  97.0   427    1911               5439   \n",
       "2047                                  97.0   427    1911               5439   \n",
       "2048                                  97.0   427    1911               5439   \n",
       "2049                                  97.0   427    1911               5439   \n",
       "\n",
       "     Property crime Burglary Larceny-theft Motor vehicle theft Arson  \n",
       "0             55974     9471         39427                7076   201  \n",
       "1             55974     9471         39427                7076   201  \n",
       "2             55974     9471         39427                7076   201  \n",
       "3             55974     9471         39427                7076   201  \n",
       "4             55974     9471         39427                7076   201  \n",
       "...             ...      ...           ...                 ...   ...  \n",
       "2045          15097     3594          8053                3450   198  \n",
       "2046          15097     3594          8053                3450   198  \n",
       "2047          15097     3594          8053                3450   198  \n",
       "2048          15097     3594          8053                3450   198  \n",
       "2049          15097     3594          8053                3450   198  \n",
       "\n",
       "[2050 rows x 17 columns]"
      ],
      "text/html": "<div>\n<style scoped>\n    .dataframe tbody tr th:only-of-type {\n        vertical-align: middle;\n    }\n\n    .dataframe tbody tr th {\n        vertical-align: top;\n    }\n\n    .dataframe thead th {\n        text-align: right;\n    }\n</style>\n<table border=\"1\" class=\"dataframe\">\n  <thead>\n    <tr style=\"text-align: right;\">\n      <th></th>\n      <th>Location</th>\n      <th>2019 Population</th>\n      <th>Town or City</th>\n      <th>2019 Rental Rates</th>\n      <th>State</th>\n      <th>City</th>\n      <th>Population</th>\n      <th>Violent crime</th>\n      <th>Murder and nonnegligent manslaughter</th>\n      <th>Rape</th>\n      <th>Robbery</th>\n      <th>Aggravated assault</th>\n      <th>Property crime</th>\n      <th>Burglary</th>\n      <th>Larceny-theft</th>\n      <th>Motor vehicle theft</th>\n      <th>Arson</th>\n    </tr>\n  </thead>\n  <tbody>\n    <tr>\n      <th>0</th>\n      <td>Phoenix, Arizona</td>\n      <td>1680992</td>\n      <td>city</td>\n      <td>1424.0</td>\n      <td>Arizona</td>\n      <td>Phoenix</td>\n      <td>1688722</td>\n      <td>11803</td>\n      <td>131.0</td>\n      <td>1139</td>\n      <td>3197</td>\n      <td>7336</td>\n      <td>55974</td>\n      <td>9471</td>\n      <td>39427</td>\n      <td>7076</td>\n      <td>201</td>\n    </tr>\n    <tr>\n      <th>1</th>\n      <td>Phoenix, Arizona</td>\n      <td>1680992</td>\n      <td>city</td>\n      <td>1522.0</td>\n      <td>Arizona</td>\n      <td>Phoenix</td>\n      <td>1688722</td>\n      <td>11803</td>\n      <td>131.0</td>\n      <td>1139</td>\n      <td>3197</td>\n      <td>7336</td>\n      <td>55974</td>\n      <td>9471</td>\n      <td>39427</td>\n      <td>7076</td>\n      <td>201</td>\n    </tr>\n    <tr>\n      <th>2</th>\n      <td>Phoenix, Arizona</td>\n      <td>1680992</td>\n      <td>city</td>\n      <td>1461.0</td>\n      <td>Arizona</td>\n      <td>Phoenix</td>\n      <td>1688722</td>\n      <td>11803</td>\n      <td>131.0</td>\n      <td>1139</td>\n      <td>3197</td>\n      <td>7336</td>\n      <td>55974</td>\n      <td>9471</td>\n      <td>39427</td>\n      <td>7076</td>\n      <td>201</td>\n    </tr>\n    <tr>\n      <th>3</th>\n      <td>Phoenix, Arizona</td>\n      <td>1680992</td>\n      <td>city</td>\n      <td>1549.0</td>\n      <td>Arizona</td>\n      <td>Phoenix</td>\n      <td>1688722</td>\n      <td>11803</td>\n      <td>131.0</td>\n      <td>1139</td>\n      <td>3197</td>\n      <td>7336</td>\n      <td>55974</td>\n      <td>9471</td>\n      <td>39427</td>\n      <td>7076</td>\n      <td>201</td>\n    </tr>\n    <tr>\n      <th>4</th>\n      <td>Phoenix, Arizona</td>\n      <td>1680992</td>\n      <td>city</td>\n      <td>1611.0</td>\n      <td>Arizona</td>\n      <td>Phoenix</td>\n      <td>1688722</td>\n      <td>11803</td>\n      <td>131.0</td>\n      <td>1139</td>\n      <td>3197</td>\n      <td>7336</td>\n      <td>55974</td>\n      <td>9471</td>\n      <td>39427</td>\n      <td>7076</td>\n      <td>201</td>\n    </tr>\n    <tr>\n      <th>...</th>\n      <td>...</td>\n      <td>...</td>\n      <td>...</td>\n      <td>...</td>\n      <td>...</td>\n      <td>...</td>\n      <td>...</td>\n      <td>...</td>\n      <td>...</td>\n      <td>...</td>\n      <td>...</td>\n      <td>...</td>\n      <td>...</td>\n      <td>...</td>\n      <td>...</td>\n      <td>...</td>\n      <td>...</td>\n    </tr>\n    <tr>\n      <th>2045</th>\n      <td>Milwaukee, Wisconsin</td>\n      <td>590157</td>\n      <td>city</td>\n      <td>839.0</td>\n      <td>Wisconsin</td>\n      <td>Milwaukee</td>\n      <td>590923</td>\n      <td>7874</td>\n      <td>97.0</td>\n      <td>427</td>\n      <td>1911</td>\n      <td>5439</td>\n      <td>15097</td>\n      <td>3594</td>\n      <td>8053</td>\n      <td>3450</td>\n      <td>198</td>\n    </tr>\n    <tr>\n      <th>2046</th>\n      <td>Milwaukee, Wisconsin</td>\n      <td>590157</td>\n      <td>city</td>\n      <td>948.0</td>\n      <td>Wisconsin</td>\n      <td>Milwaukee</td>\n      <td>590923</td>\n      <td>7874</td>\n      <td>97.0</td>\n      <td>427</td>\n      <td>1911</td>\n      <td>5439</td>\n      <td>15097</td>\n      <td>3594</td>\n      <td>8053</td>\n      <td>3450</td>\n      <td>198</td>\n    </tr>\n    <tr>\n      <th>2047</th>\n      <td>Milwaukee, Wisconsin</td>\n      <td>590157</td>\n      <td>city</td>\n      <td>973.0</td>\n      <td>Wisconsin</td>\n      <td>Milwaukee</td>\n      <td>590923</td>\n      <td>7874</td>\n      <td>97.0</td>\n      <td>427</td>\n      <td>1911</td>\n      <td>5439</td>\n      <td>15097</td>\n      <td>3594</td>\n      <td>8053</td>\n      <td>3450</td>\n      <td>198</td>\n    </tr>\n    <tr>\n      <th>2048</th>\n      <td>Milwaukee, Wisconsin</td>\n      <td>590157</td>\n      <td>city</td>\n      <td>792.0</td>\n      <td>Wisconsin</td>\n      <td>Milwaukee</td>\n      <td>590923</td>\n      <td>7874</td>\n      <td>97.0</td>\n      <td>427</td>\n      <td>1911</td>\n      <td>5439</td>\n      <td>15097</td>\n      <td>3594</td>\n      <td>8053</td>\n      <td>3450</td>\n      <td>198</td>\n    </tr>\n    <tr>\n      <th>2049</th>\n      <td>Milwaukee, Wisconsin</td>\n      <td>590157</td>\n      <td>city</td>\n      <td>1066.0</td>\n      <td>Wisconsin</td>\n      <td>Milwaukee</td>\n      <td>590923</td>\n      <td>7874</td>\n      <td>97.0</td>\n      <td>427</td>\n      <td>1911</td>\n      <td>5439</td>\n      <td>15097</td>\n      <td>3594</td>\n      <td>8053</td>\n      <td>3450</td>\n      <td>198</td>\n    </tr>\n  </tbody>\n</table>\n<p>2050 rows × 17 columns</p>\n</div>"
     },
     "metadata": {},
     "execution_count": 20
    }
   ],
   "source": [
    "# Remove commas from columns and change data type to floats\n",
    "\n",
    "merged_population_rent_crime['2019 Population'] = merged_population_rent_crime['2019 Population'].replace(',','', regex=True)\n",
    "merged_population_rent_crime['Population'] = merged_population_rent_crime['Population'].replace(',','', regex=True)\n",
    "merged_population_rent_crime['Violent crime'] = merged_population_rent_crime['Violent crime'].replace(',','', regex=True)\n",
    "merged_population_rent_crime['Murder and nonnegligent manslaughter'] = merged_population_rent_crime['Murder and nonnegligent manslaughter'].replace(',','', regex=True)\n",
    "merged_population_rent_crime['Rape'] = merged_population_rent_crime['Rape'].replace(',','', regex=True)\n",
    "merged_population_rent_crime['Robbery'] = merged_population_rent_crime['Robbery'].replace(',','', regex=True)\n",
    "merged_population_rent_crime['Aggravated assault'] = merged_population_rent_crime['Aggravated assault'].replace(',','', regex=True)\n",
    "merged_population_rent_crime['Property crime'] = merged_population_rent_crime['Property crime'].replace(',','', regex=True)\n",
    "merged_population_rent_crime['Burglary'] = merged_population_rent_crime['Burglary'].replace(',','', regex=True)\n",
    "merged_population_rent_crime['Larceny-theft'] = merged_population_rent_crime['Larceny-theft'].replace(',','', regex=True)\n",
    "merged_population_rent_crime['Motor vehicle theft'] = merged_population_rent_crime['Motor vehicle theft'].replace(',','', regex=True)\n",
    "merged_population_rent_crime['Arson'] = merged_population_rent_crime['Arson'].replace(',','', regex=True)\n",
    "\n",
    "merged_population_rent_crime"
   ]
  },
  {
   "cell_type": "code",
   "execution_count": 21,
   "metadata": {},
   "outputs": [
    {
     "output_type": "execute_result",
     "data": {
      "text/plain": [
       "440"
      ]
     },
     "metadata": {},
     "execution_count": 21
    }
   ],
   "source": [
    "# Check for null values\n",
    "\n",
    "merged_population_rent_crime.isnull().sum().sum()"
   ]
  },
  {
   "cell_type": "code",
   "execution_count": 22,
   "metadata": {},
   "outputs": [
    {
     "output_type": "execute_result",
     "data": {
      "text/plain": [
       "(1626, 17)"
      ]
     },
     "metadata": {},
     "execution_count": 22
    }
   ],
   "source": [
    "# Drop all null values for now, can return to preserve rows by filling (fillna(), replace() and interpolate())\n",
    "\n",
    "merged_population_rent_crime = merged_population_rent_crime.dropna()\n",
    "merged_population_rent_crime.shape"
   ]
  },
  {
   "cell_type": "code",
   "execution_count": 23,
   "metadata": {},
   "outputs": [],
   "source": [
    "# Change datatype to float or int, int looks better with no decimal and trailing 0\n",
    "\n",
    "#merged_population_rent_crime['2019 Population'].astype('float64')\n",
    "#merged_population_rent_crime['2019 Rental Rates'].astype('float64')\n",
    "#merged_population_rent_crime['Population'].astype('float64')\n",
    "#merged_population_rent_crime['Violent crime'].astype('float64')\n",
    "#merged_population_rent_crime['Murder and nonnegligent manslaughter'].astype('float64')\n",
    "#merged_population_rent_crime['Rape'].astype('float64')\n",
    "#merged_population_rent_crime['Robbery'].astype('float64')\n",
    "#merged_population_rent_crime['Aggravated assault'].astype('float64')\n",
    "#merged_population_rent_crime['Property crime'].astype('float64')\n",
    "#merged_population_rent_crime['Burglary'].astype('float64')\n",
    "#merged_population_rent_crime['Larceny-theft'].astype('float64')\n",
    "#merged_population_rent_crime['Motor vehicle theft'].astype('float64')\n",
    "#merged_population_rent_crime['Arson'].astype('float64')\n",
    "\n",
    "merged_population_rent_crime['2019 Population'] = merged_population_rent_crime['2019 Population'].astype('int')\n",
    "merged_population_rent_crime['2019 Rental Rates'] = merged_population_rent_crime['2019 Rental Rates'].astype('int') # ValueError: Cannot convert non-finite values (NA or inf) to integer\n",
    "merged_population_rent_crime['Population'] = merged_population_rent_crime['Population'].astype('int')\n",
    "merged_population_rent_crime['Violent crime'] = merged_population_rent_crime['Violent crime'].astype('int')\n",
    "merged_population_rent_crime['Murder and nonnegligent manslaughter'] = merged_population_rent_crime['Murder and nonnegligent manslaughter'].astype('int')\n",
    "merged_population_rent_crime['Rape'] = merged_population_rent_crime['Rape'].astype('int')\n",
    "merged_population_rent_crime['Robbery'] = merged_population_rent_crime['Robbery'].astype('int')\n",
    "merged_population_rent_crime['Aggravated assault'] = merged_population_rent_crime['Aggravated assault'].astype('int')\n",
    "merged_population_rent_crime['Property crime'] = merged_population_rent_crime['Property crime'].astype('int') # ValueError: cannot convert float NaN to integer\n",
    "merged_population_rent_crime['Burglary'] = merged_population_rent_crime['Burglary'].astype('int') # ValueError: cannot convert float NaN to integer\n",
    "merged_population_rent_crime['Larceny-theft'] = merged_population_rent_crime['Larceny-theft'].astype('int')\n",
    "merged_population_rent_crime['Motor vehicle theft'] = merged_population_rent_crime['Motor vehicle theft'].astype('int')\n",
    "merged_population_rent_crime['Arson'] = merged_population_rent_crime['Arson'].astype('int') # ValueError: cannot convert float NaN to integer\n",
    "\n",
    "# These columns previously had NA or NaN values which had to be dropped. These columns can be revisited to preserve more data.\n",
    "\n",
    "#merged_population_rent_crime['2019 Rental Rates']\n",
    "#merged_population_rent_crime['Property crime']\n",
    "#merged_population_rent_crime['Burglary']\n",
    "#merged_population_rent_crime['Arson']"
   ]
  },
  {
   "cell_type": "code",
   "execution_count": 24,
   "metadata": {},
   "outputs": [
    {
     "output_type": "execute_result",
     "data": {
      "text/plain": [
       "Location                                object\n",
       "2019 Population                          int32\n",
       "Town or City                            object\n",
       "2019 Rental Rates                        int32\n",
       "State                                   object\n",
       "City                                    object\n",
       "Population                               int32\n",
       "Violent crime                            int32\n",
       "Murder and nonnegligent manslaughter     int32\n",
       "Rape                                     int32\n",
       "Robbery                                  int32\n",
       "Aggravated assault                       int32\n",
       "Property crime                           int32\n",
       "Burglary                                 int32\n",
       "Larceny-theft                            int32\n",
       "Motor vehicle theft                      int32\n",
       "Arson                                    int32\n",
       "dtype: object"
      ]
     },
     "metadata": {},
     "execution_count": 24
    }
   ],
   "source": [
    "# Check data types again before binning, since changing\n",
    "\n",
    "merged_population_rent_crime.dtypes"
   ]
  },
  {
   "cell_type": "code",
   "execution_count": 43,
   "metadata": {},
   "outputs": [
    {
     "output_type": "execute_result",
     "data": {
      "text/plain": [
       "                  Location  2019 Population Town or City  2019 Rental Rates  \\\n",
       "0         Phoenix, Arizona          1680992         city               1424   \n",
       "1         Phoenix, Arizona          1680992         city               1522   \n",
       "2         Phoenix, Arizona          1680992         city               1461   \n",
       "3         Phoenix, Arizona          1680992         city               1549   \n",
       "4         Phoenix, Arizona          1680992         city               1611   \n",
       "...                    ...              ...          ...                ...   \n",
       "2045  Milwaukee, Wisconsin           590157         city                839   \n",
       "2046  Milwaukee, Wisconsin           590157         city                948   \n",
       "2047  Milwaukee, Wisconsin           590157         city                973   \n",
       "2048  Milwaukee, Wisconsin           590157         city                792   \n",
       "2049  Milwaukee, Wisconsin           590157         city               1066   \n",
       "\n",
       "          State       City  Population  Violent crime  \\\n",
       "0       Arizona    Phoenix     1688722          11803   \n",
       "1       Arizona    Phoenix     1688722          11803   \n",
       "2       Arizona    Phoenix     1688722          11803   \n",
       "3       Arizona    Phoenix     1688722          11803   \n",
       "4       Arizona    Phoenix     1688722          11803   \n",
       "...         ...        ...         ...            ...   \n",
       "2045  Wisconsin  Milwaukee      590923           7874   \n",
       "2046  Wisconsin  Milwaukee      590923           7874   \n",
       "2047  Wisconsin  Milwaukee      590923           7874   \n",
       "2048  Wisconsin  Milwaukee      590923           7874   \n",
       "2049  Wisconsin  Milwaukee      590923           7874   \n",
       "\n",
       "      Murder and nonnegligent manslaughter  Rape  ...  Burglary  \\\n",
       "0                                      131  1139  ...      9471   \n",
       "1                                      131  1139  ...      9471   \n",
       "2                                      131  1139  ...      9471   \n",
       "3                                      131  1139  ...      9471   \n",
       "4                                      131  1139  ...      9471   \n",
       "...                                    ...   ...  ...       ...   \n",
       "2045                                    97   427  ...      3594   \n",
       "2046                                    97   427  ...      3594   \n",
       "2047                                    97   427  ...      3594   \n",
       "2048                                    97   427  ...      3594   \n",
       "2049                                    97   427  ...      3594   \n",
       "\n",
       "      Larceny-theft  Motor vehicle theft  Arson   Crime Rate  \\\n",
       "0             39427                 7076    201  6641.065278   \n",
       "1             39427                 7076    201  6641.065278   \n",
       "2             39427                 7076    201  6641.065278   \n",
       "3             39427                 7076    201  6641.065278   \n",
       "4             39427                 7076    201  6641.065278   \n",
       "...             ...                  ...    ...          ...   \n",
       "2045           8053                 3450    198  5143.180054   \n",
       "2046           8053                 3450    198  5143.180054   \n",
       "2047           8053                 3450    198  5143.180054   \n",
       "2048           8053                 3450    198  5143.180054   \n",
       "2049           8053                 3450    198  5143.180054   \n",
       "\n",
       "      Urban Population by City Size  Rental Rate Categories  \\\n",
       "0           Large Metropolitan Area            Average Rent   \n",
       "1           Large Metropolitan Area            Average Rent   \n",
       "2           Large Metropolitan Area            Average Rent   \n",
       "3           Large Metropolitan Area            Average Rent   \n",
       "4           Large Metropolitan Area             Higher Rent   \n",
       "...                             ...                     ...   \n",
       "2045              Metropolitan Area                Low Rent   \n",
       "2046              Metropolitan Area                Low Rent   \n",
       "2047              Metropolitan Area                Low Rent   \n",
       "2048              Metropolitan Area                Low Rent   \n",
       "2049              Metropolitan Area                Low Rent   \n",
       "\n",
       "      Urban Population by City Size Categories  \\\n",
       "0                      Large Metropolitan Area   \n",
       "1                      Large Metropolitan Area   \n",
       "2                      Large Metropolitan Area   \n",
       "3                      Large Metropolitan Area   \n",
       "4                      Large Metropolitan Area   \n",
       "...                                        ...   \n",
       "2045                         Metropolitan Area   \n",
       "2046                         Metropolitan Area   \n",
       "2047                         Metropolitan Area   \n",
       "2048                         Metropolitan Area   \n",
       "2049                         Metropolitan Area   \n",
       "\n",
       "     Urban Population by City Size Ranges Rental Rate Ranges  \n",
       "0                             1,500,000 <    $1,294.50-1,549  \n",
       "1                             1,500,000 <    $1,294.50-1,549  \n",
       "2                             1,500,000 <    $1,294.50-1,549  \n",
       "3                             1,500,000 <    $1,294.50-1,549  \n",
       "4                             1,500,000 <    $1,549-1,891.50  \n",
       "...                                   ...                ...  \n",
       "2045                    500,000-1,500,000   $581.99-1,294.50  \n",
       "2046                    500,000-1,500,000   $581.99-1,294.50  \n",
       "2047                    500,000-1,500,000   $581.99-1,294.50  \n",
       "2048                    500,000-1,500,000   $581.99-1,294.50  \n",
       "2049                    500,000-1,500,000   $581.99-1,294.50  \n",
       "\n",
       "[1626 rows x 23 columns]"
      ],
      "text/html": "<div>\n<style scoped>\n    .dataframe tbody tr th:only-of-type {\n        vertical-align: middle;\n    }\n\n    .dataframe tbody tr th {\n        vertical-align: top;\n    }\n\n    .dataframe thead th {\n        text-align: right;\n    }\n</style>\n<table border=\"1\" class=\"dataframe\">\n  <thead>\n    <tr style=\"text-align: right;\">\n      <th></th>\n      <th>Location</th>\n      <th>2019 Population</th>\n      <th>Town or City</th>\n      <th>2019 Rental Rates</th>\n      <th>State</th>\n      <th>City</th>\n      <th>Population</th>\n      <th>Violent crime</th>\n      <th>Murder and nonnegligent manslaughter</th>\n      <th>Rape</th>\n      <th>...</th>\n      <th>Burglary</th>\n      <th>Larceny-theft</th>\n      <th>Motor vehicle theft</th>\n      <th>Arson</th>\n      <th>Crime Rate</th>\n      <th>Urban Population by City Size</th>\n      <th>Rental Rate Categories</th>\n      <th>Urban Population by City Size Categories</th>\n      <th>Urban Population by City Size Ranges</th>\n      <th>Rental Rate Ranges</th>\n    </tr>\n  </thead>\n  <tbody>\n    <tr>\n      <th>0</th>\n      <td>Phoenix, Arizona</td>\n      <td>1680992</td>\n      <td>city</td>\n      <td>1424</td>\n      <td>Arizona</td>\n      <td>Phoenix</td>\n      <td>1688722</td>\n      <td>11803</td>\n      <td>131</td>\n      <td>1139</td>\n      <td>...</td>\n      <td>9471</td>\n      <td>39427</td>\n      <td>7076</td>\n      <td>201</td>\n      <td>6641.065278</td>\n      <td>Large Metropolitan Area</td>\n      <td>Average Rent</td>\n      <td>Large Metropolitan Area</td>\n      <td>1,500,000 &lt;</td>\n      <td>$1,294.50-1,549</td>\n    </tr>\n    <tr>\n      <th>1</th>\n      <td>Phoenix, Arizona</td>\n      <td>1680992</td>\n      <td>city</td>\n      <td>1522</td>\n      <td>Arizona</td>\n      <td>Phoenix</td>\n      <td>1688722</td>\n      <td>11803</td>\n      <td>131</td>\n      <td>1139</td>\n      <td>...</td>\n      <td>9471</td>\n      <td>39427</td>\n      <td>7076</td>\n      <td>201</td>\n      <td>6641.065278</td>\n      <td>Large Metropolitan Area</td>\n      <td>Average Rent</td>\n      <td>Large Metropolitan Area</td>\n      <td>1,500,000 &lt;</td>\n      <td>$1,294.50-1,549</td>\n    </tr>\n    <tr>\n      <th>2</th>\n      <td>Phoenix, Arizona</td>\n      <td>1680992</td>\n      <td>city</td>\n      <td>1461</td>\n      <td>Arizona</td>\n      <td>Phoenix</td>\n      <td>1688722</td>\n      <td>11803</td>\n      <td>131</td>\n      <td>1139</td>\n      <td>...</td>\n      <td>9471</td>\n      <td>39427</td>\n      <td>7076</td>\n      <td>201</td>\n      <td>6641.065278</td>\n      <td>Large Metropolitan Area</td>\n      <td>Average Rent</td>\n      <td>Large Metropolitan Area</td>\n      <td>1,500,000 &lt;</td>\n      <td>$1,294.50-1,549</td>\n    </tr>\n    <tr>\n      <th>3</th>\n      <td>Phoenix, Arizona</td>\n      <td>1680992</td>\n      <td>city</td>\n      <td>1549</td>\n      <td>Arizona</td>\n      <td>Phoenix</td>\n      <td>1688722</td>\n      <td>11803</td>\n      <td>131</td>\n      <td>1139</td>\n      <td>...</td>\n      <td>9471</td>\n      <td>39427</td>\n      <td>7076</td>\n      <td>201</td>\n      <td>6641.065278</td>\n      <td>Large Metropolitan Area</td>\n      <td>Average Rent</td>\n      <td>Large Metropolitan Area</td>\n      <td>1,500,000 &lt;</td>\n      <td>$1,294.50-1,549</td>\n    </tr>\n    <tr>\n      <th>4</th>\n      <td>Phoenix, Arizona</td>\n      <td>1680992</td>\n      <td>city</td>\n      <td>1611</td>\n      <td>Arizona</td>\n      <td>Phoenix</td>\n      <td>1688722</td>\n      <td>11803</td>\n      <td>131</td>\n      <td>1139</td>\n      <td>...</td>\n      <td>9471</td>\n      <td>39427</td>\n      <td>7076</td>\n      <td>201</td>\n      <td>6641.065278</td>\n      <td>Large Metropolitan Area</td>\n      <td>Higher Rent</td>\n      <td>Large Metropolitan Area</td>\n      <td>1,500,000 &lt;</td>\n      <td>$1,549-1,891.50</td>\n    </tr>\n    <tr>\n      <th>...</th>\n      <td>...</td>\n      <td>...</td>\n      <td>...</td>\n      <td>...</td>\n      <td>...</td>\n      <td>...</td>\n      <td>...</td>\n      <td>...</td>\n      <td>...</td>\n      <td>...</td>\n      <td>...</td>\n      <td>...</td>\n      <td>...</td>\n      <td>...</td>\n      <td>...</td>\n      <td>...</td>\n      <td>...</td>\n      <td>...</td>\n      <td>...</td>\n      <td>...</td>\n      <td>...</td>\n    </tr>\n    <tr>\n      <th>2045</th>\n      <td>Milwaukee, Wisconsin</td>\n      <td>590157</td>\n      <td>city</td>\n      <td>839</td>\n      <td>Wisconsin</td>\n      <td>Milwaukee</td>\n      <td>590923</td>\n      <td>7874</td>\n      <td>97</td>\n      <td>427</td>\n      <td>...</td>\n      <td>3594</td>\n      <td>8053</td>\n      <td>3450</td>\n      <td>198</td>\n      <td>5143.180054</td>\n      <td>Metropolitan Area</td>\n      <td>Low Rent</td>\n      <td>Metropolitan Area</td>\n      <td>500,000-1,500,000</td>\n      <td>$581.99-1,294.50</td>\n    </tr>\n    <tr>\n      <th>2046</th>\n      <td>Milwaukee, Wisconsin</td>\n      <td>590157</td>\n      <td>city</td>\n      <td>948</td>\n      <td>Wisconsin</td>\n      <td>Milwaukee</td>\n      <td>590923</td>\n      <td>7874</td>\n      <td>97</td>\n      <td>427</td>\n      <td>...</td>\n      <td>3594</td>\n      <td>8053</td>\n      <td>3450</td>\n      <td>198</td>\n      <td>5143.180054</td>\n      <td>Metropolitan Area</td>\n      <td>Low Rent</td>\n      <td>Metropolitan Area</td>\n      <td>500,000-1,500,000</td>\n      <td>$581.99-1,294.50</td>\n    </tr>\n    <tr>\n      <th>2047</th>\n      <td>Milwaukee, Wisconsin</td>\n      <td>590157</td>\n      <td>city</td>\n      <td>973</td>\n      <td>Wisconsin</td>\n      <td>Milwaukee</td>\n      <td>590923</td>\n      <td>7874</td>\n      <td>97</td>\n      <td>427</td>\n      <td>...</td>\n      <td>3594</td>\n      <td>8053</td>\n      <td>3450</td>\n      <td>198</td>\n      <td>5143.180054</td>\n      <td>Metropolitan Area</td>\n      <td>Low Rent</td>\n      <td>Metropolitan Area</td>\n      <td>500,000-1,500,000</td>\n      <td>$581.99-1,294.50</td>\n    </tr>\n    <tr>\n      <th>2048</th>\n      <td>Milwaukee, Wisconsin</td>\n      <td>590157</td>\n      <td>city</td>\n      <td>792</td>\n      <td>Wisconsin</td>\n      <td>Milwaukee</td>\n      <td>590923</td>\n      <td>7874</td>\n      <td>97</td>\n      <td>427</td>\n      <td>...</td>\n      <td>3594</td>\n      <td>8053</td>\n      <td>3450</td>\n      <td>198</td>\n      <td>5143.180054</td>\n      <td>Metropolitan Area</td>\n      <td>Low Rent</td>\n      <td>Metropolitan Area</td>\n      <td>500,000-1,500,000</td>\n      <td>$581.99-1,294.50</td>\n    </tr>\n    <tr>\n      <th>2049</th>\n      <td>Milwaukee, Wisconsin</td>\n      <td>590157</td>\n      <td>city</td>\n      <td>1066</td>\n      <td>Wisconsin</td>\n      <td>Milwaukee</td>\n      <td>590923</td>\n      <td>7874</td>\n      <td>97</td>\n      <td>427</td>\n      <td>...</td>\n      <td>3594</td>\n      <td>8053</td>\n      <td>3450</td>\n      <td>198</td>\n      <td>5143.180054</td>\n      <td>Metropolitan Area</td>\n      <td>Low Rent</td>\n      <td>Metropolitan Area</td>\n      <td>500,000-1,500,000</td>\n      <td>$581.99-1,294.50</td>\n    </tr>\n  </tbody>\n</table>\n<p>1626 rows × 23 columns</p>\n</div>"
     },
     "metadata": {},
     "execution_count": 43
    }
   ],
   "source": [
    "# Combine crime data into new column and divide by population * 1000 (This is how crime rate is calculated)\n",
    "\n",
    "merged_population_rent_crime['Crime Rate']=merged_population_rent_crime.iloc[:,-11:].sum(axis=1)/merged_population_rent_crime['Population']*100000\n",
    "\n",
    "#merged_population_rent_crime['Crime Rate'] = merged_population_rent_crime['Violent crime'] + merged_population_rent_crime['Murder and nonnegligent manslaughter'] + #merged_population_rent_crime['Rape'] + merged_population_rent_crime + merged_population_rent_crime['Robbery'] + ['Aggravated assault'] + merged_population_rent_crime['Property #crime'] + merged_population_rent_crime['Burglary'] + merged_population_rent_crime['Larceny-theft'] + merged_population_rent_crime['Motor vehicle theft'] + #merged_population_rent_crime['Arson']/merged_population_rent_crime['Population']*100000\n",
    "\n",
    "#merged_population_rent_crime['Crime Rate'] = total_crimes/merged_population_rent_crime['Population']*100000\n",
    "\n",
    "merged_population_rent_crime"
   ]
  },
  {
   "cell_type": "code",
   "execution_count": 26,
   "metadata": {},
   "outputs": [
    {
     "output_type": "execute_result",
     "data": {
      "text/plain": [
       "count    1.626000e+03\n",
       "mean     8.890544e+05\n",
       "std      7.568980e+05\n",
       "min      4.927100e+04\n",
       "25%      3.313600e+05\n",
       "50%      6.547410e+05\n",
       "75%      1.021795e+06\n",
       "max      2.693976e+06\n",
       "Name: 2019 Population, dtype: float64"
      ]
     },
     "metadata": {},
     "execution_count": 26
    }
   ],
   "source": [
    "# Describe the data to begin binning data with pandas cut or qcut\n",
    "\n",
    "merged_population_rent_crime['2019 Population'].describe()"
   ]
  },
  {
   "cell_type": "code",
   "execution_count": 27,
   "metadata": {},
   "outputs": [
    {
     "output_type": "execute_result",
     "data": {
      "text/plain": [
       "0       (881549.0, 1680992.0]\n",
       "1       (881549.0, 1680992.0]\n",
       "2       (881549.0, 1680992.0]\n",
       "3       (881549.0, 1680992.0]\n",
       "4       (881549.0, 1680992.0]\n",
       "                ...          \n",
       "2045     (399700.0, 654741.0]\n",
       "2046     (399700.0, 654741.0]\n",
       "2047     (399700.0, 654741.0]\n",
       "2048     (399700.0, 654741.0]\n",
       "2049     (399700.0, 654741.0]\n",
       "Name: 2019 Population, Length: 1626, dtype: category\n",
       "Categories (6, interval[float64]): [(49270.999, 259680.0] < (259680.0, 399700.0] < (399700.0, 654741.0] < (654741.0, 881549.0] < (881549.0, 1680992.0] < (1680992.0, 2693976.0]]"
      ]
     },
     "metadata": {},
     "execution_count": 27
    }
   ],
   "source": [
    "# Quartile cut the data, to see how it is evenly distributed\n",
    "\n",
    "pd.qcut(merged_population_rent_crime['2019 Population'], q=6)"
   ]
  },
  {
   "cell_type": "code",
   "execution_count": 40,
   "metadata": {},
   "outputs": [
    {
     "output_type": "execute_result",
     "data": {
      "text/plain": [
       "                  Location  2019 Population Town or City  2019 Rental Rates  \\\n",
       "0         Phoenix, Arizona          1680992         city               1424   \n",
       "1         Phoenix, Arizona          1680992         city               1522   \n",
       "2         Phoenix, Arizona          1680992         city               1461   \n",
       "3         Phoenix, Arizona          1680992         city               1549   \n",
       "4         Phoenix, Arizona          1680992         city               1611   \n",
       "...                    ...              ...          ...                ...   \n",
       "2045  Milwaukee, Wisconsin           590157         city                839   \n",
       "2046  Milwaukee, Wisconsin           590157         city                948   \n",
       "2047  Milwaukee, Wisconsin           590157         city                973   \n",
       "2048  Milwaukee, Wisconsin           590157         city                792   \n",
       "2049  Milwaukee, Wisconsin           590157         city               1066   \n",
       "\n",
       "          State       City  Population  Violent crime  \\\n",
       "0       Arizona    Phoenix     1688722          11803   \n",
       "1       Arizona    Phoenix     1688722          11803   \n",
       "2       Arizona    Phoenix     1688722          11803   \n",
       "3       Arizona    Phoenix     1688722          11803   \n",
       "4       Arizona    Phoenix     1688722          11803   \n",
       "...         ...        ...         ...            ...   \n",
       "2045  Wisconsin  Milwaukee      590923           7874   \n",
       "2046  Wisconsin  Milwaukee      590923           7874   \n",
       "2047  Wisconsin  Milwaukee      590923           7874   \n",
       "2048  Wisconsin  Milwaukee      590923           7874   \n",
       "2049  Wisconsin  Milwaukee      590923           7874   \n",
       "\n",
       "      Murder and nonnegligent manslaughter  Rape  ...  Property crime  \\\n",
       "0                                      131  1139  ...           55974   \n",
       "1                                      131  1139  ...           55974   \n",
       "2                                      131  1139  ...           55974   \n",
       "3                                      131  1139  ...           55974   \n",
       "4                                      131  1139  ...           55974   \n",
       "...                                    ...   ...  ...             ...   \n",
       "2045                                    97   427  ...           15097   \n",
       "2046                                    97   427  ...           15097   \n",
       "2047                                    97   427  ...           15097   \n",
       "2048                                    97   427  ...           15097   \n",
       "2049                                    97   427  ...           15097   \n",
       "\n",
       "      Burglary  Larceny-theft  Motor vehicle theft  Arson     Crime Rate  \\\n",
       "0         9471          39427                 7076    201  108038.919372   \n",
       "1         9471          39427                 7076    201  108038.919372   \n",
       "2         9471          39427                 7076    201  108038.919372   \n",
       "3         9471          39427                 7076    201  108038.919372   \n",
       "4         9471          39427                 7076    201  108038.919372   \n",
       "...        ...            ...                  ...    ...            ...   \n",
       "2045      3594           8053                 3450    198  107808.123901   \n",
       "2046      3594           8053                 3450    198  107808.123901   \n",
       "2047      3594           8053                 3450    198  107808.123901   \n",
       "2048      3594           8053                 3450    198  107808.123901   \n",
       "2049      3594           8053                 3450    198  107808.123901   \n",
       "\n",
       "      Urban Population by City Size  Rental Rate Categories  \\\n",
       "0           Large Metropolitan Area            Average Rent   \n",
       "1           Large Metropolitan Area            Average Rent   \n",
       "2           Large Metropolitan Area            Average Rent   \n",
       "3           Large Metropolitan Area            Average Rent   \n",
       "4           Large Metropolitan Area             Higher Rent   \n",
       "...                             ...                     ...   \n",
       "2045              Metropolitan Area                Low Rent   \n",
       "2046              Metropolitan Area                Low Rent   \n",
       "2047              Metropolitan Area                Low Rent   \n",
       "2048              Metropolitan Area                Low Rent   \n",
       "2049              Metropolitan Area                Low Rent   \n",
       "\n",
       "     Urban Population by City Size Categories  \\\n",
       "0                     Large Metropolitan Area   \n",
       "1                     Large Metropolitan Area   \n",
       "2                     Large Metropolitan Area   \n",
       "3                     Large Metropolitan Area   \n",
       "4                     Large Metropolitan Area   \n",
       "...                                       ...   \n",
       "2045                        Metropolitan Area   \n",
       "2046                        Metropolitan Area   \n",
       "2047                        Metropolitan Area   \n",
       "2048                        Metropolitan Area   \n",
       "2049                        Metropolitan Area   \n",
       "\n",
       "     Urban Population by City Size Ranges  \n",
       "0                             1,500,000 <  \n",
       "1                             1,500,000 <  \n",
       "2                             1,500,000 <  \n",
       "3                             1,500,000 <  \n",
       "4                             1,500,000 <  \n",
       "...                                   ...  \n",
       "2045                    500,000-1,500,000  \n",
       "2046                    500,000-1,500,000  \n",
       "2047                    500,000-1,500,000  \n",
       "2048                    500,000-1,500,000  \n",
       "2049                    500,000-1,500,000  \n",
       "\n",
       "[1626 rows x 22 columns]"
      ],
      "text/html": "<div>\n<style scoped>\n    .dataframe tbody tr th:only-of-type {\n        vertical-align: middle;\n    }\n\n    .dataframe tbody tr th {\n        vertical-align: top;\n    }\n\n    .dataframe thead th {\n        text-align: right;\n    }\n</style>\n<table border=\"1\" class=\"dataframe\">\n  <thead>\n    <tr style=\"text-align: right;\">\n      <th></th>\n      <th>Location</th>\n      <th>2019 Population</th>\n      <th>Town or City</th>\n      <th>2019 Rental Rates</th>\n      <th>State</th>\n      <th>City</th>\n      <th>Population</th>\n      <th>Violent crime</th>\n      <th>Murder and nonnegligent manslaughter</th>\n      <th>Rape</th>\n      <th>...</th>\n      <th>Property crime</th>\n      <th>Burglary</th>\n      <th>Larceny-theft</th>\n      <th>Motor vehicle theft</th>\n      <th>Arson</th>\n      <th>Crime Rate</th>\n      <th>Urban Population by City Size</th>\n      <th>Rental Rate Categories</th>\n      <th>Urban Population by City Size Categories</th>\n      <th>Urban Population by City Size Ranges</th>\n    </tr>\n  </thead>\n  <tbody>\n    <tr>\n      <th>0</th>\n      <td>Phoenix, Arizona</td>\n      <td>1680992</td>\n      <td>city</td>\n      <td>1424</td>\n      <td>Arizona</td>\n      <td>Phoenix</td>\n      <td>1688722</td>\n      <td>11803</td>\n      <td>131</td>\n      <td>1139</td>\n      <td>...</td>\n      <td>55974</td>\n      <td>9471</td>\n      <td>39427</td>\n      <td>7076</td>\n      <td>201</td>\n      <td>108038.919372</td>\n      <td>Large Metropolitan Area</td>\n      <td>Average Rent</td>\n      <td>Large Metropolitan Area</td>\n      <td>1,500,000 &lt;</td>\n    </tr>\n    <tr>\n      <th>1</th>\n      <td>Phoenix, Arizona</td>\n      <td>1680992</td>\n      <td>city</td>\n      <td>1522</td>\n      <td>Arizona</td>\n      <td>Phoenix</td>\n      <td>1688722</td>\n      <td>11803</td>\n      <td>131</td>\n      <td>1139</td>\n      <td>...</td>\n      <td>55974</td>\n      <td>9471</td>\n      <td>39427</td>\n      <td>7076</td>\n      <td>201</td>\n      <td>108038.919372</td>\n      <td>Large Metropolitan Area</td>\n      <td>Average Rent</td>\n      <td>Large Metropolitan Area</td>\n      <td>1,500,000 &lt;</td>\n    </tr>\n    <tr>\n      <th>2</th>\n      <td>Phoenix, Arizona</td>\n      <td>1680992</td>\n      <td>city</td>\n      <td>1461</td>\n      <td>Arizona</td>\n      <td>Phoenix</td>\n      <td>1688722</td>\n      <td>11803</td>\n      <td>131</td>\n      <td>1139</td>\n      <td>...</td>\n      <td>55974</td>\n      <td>9471</td>\n      <td>39427</td>\n      <td>7076</td>\n      <td>201</td>\n      <td>108038.919372</td>\n      <td>Large Metropolitan Area</td>\n      <td>Average Rent</td>\n      <td>Large Metropolitan Area</td>\n      <td>1,500,000 &lt;</td>\n    </tr>\n    <tr>\n      <th>3</th>\n      <td>Phoenix, Arizona</td>\n      <td>1680992</td>\n      <td>city</td>\n      <td>1549</td>\n      <td>Arizona</td>\n      <td>Phoenix</td>\n      <td>1688722</td>\n      <td>11803</td>\n      <td>131</td>\n      <td>1139</td>\n      <td>...</td>\n      <td>55974</td>\n      <td>9471</td>\n      <td>39427</td>\n      <td>7076</td>\n      <td>201</td>\n      <td>108038.919372</td>\n      <td>Large Metropolitan Area</td>\n      <td>Average Rent</td>\n      <td>Large Metropolitan Area</td>\n      <td>1,500,000 &lt;</td>\n    </tr>\n    <tr>\n      <th>4</th>\n      <td>Phoenix, Arizona</td>\n      <td>1680992</td>\n      <td>city</td>\n      <td>1611</td>\n      <td>Arizona</td>\n      <td>Phoenix</td>\n      <td>1688722</td>\n      <td>11803</td>\n      <td>131</td>\n      <td>1139</td>\n      <td>...</td>\n      <td>55974</td>\n      <td>9471</td>\n      <td>39427</td>\n      <td>7076</td>\n      <td>201</td>\n      <td>108038.919372</td>\n      <td>Large Metropolitan Area</td>\n      <td>Higher Rent</td>\n      <td>Large Metropolitan Area</td>\n      <td>1,500,000 &lt;</td>\n    </tr>\n    <tr>\n      <th>...</th>\n      <td>...</td>\n      <td>...</td>\n      <td>...</td>\n      <td>...</td>\n      <td>...</td>\n      <td>...</td>\n      <td>...</td>\n      <td>...</td>\n      <td>...</td>\n      <td>...</td>\n      <td>...</td>\n      <td>...</td>\n      <td>...</td>\n      <td>...</td>\n      <td>...</td>\n      <td>...</td>\n      <td>...</td>\n      <td>...</td>\n      <td>...</td>\n      <td>...</td>\n      <td>...</td>\n    </tr>\n    <tr>\n      <th>2045</th>\n      <td>Milwaukee, Wisconsin</td>\n      <td>590157</td>\n      <td>city</td>\n      <td>839</td>\n      <td>Wisconsin</td>\n      <td>Milwaukee</td>\n      <td>590923</td>\n      <td>7874</td>\n      <td>97</td>\n      <td>427</td>\n      <td>...</td>\n      <td>15097</td>\n      <td>3594</td>\n      <td>8053</td>\n      <td>3450</td>\n      <td>198</td>\n      <td>107808.123901</td>\n      <td>Metropolitan Area</td>\n      <td>Low Rent</td>\n      <td>Metropolitan Area</td>\n      <td>500,000-1,500,000</td>\n    </tr>\n    <tr>\n      <th>2046</th>\n      <td>Milwaukee, Wisconsin</td>\n      <td>590157</td>\n      <td>city</td>\n      <td>948</td>\n      <td>Wisconsin</td>\n      <td>Milwaukee</td>\n      <td>590923</td>\n      <td>7874</td>\n      <td>97</td>\n      <td>427</td>\n      <td>...</td>\n      <td>15097</td>\n      <td>3594</td>\n      <td>8053</td>\n      <td>3450</td>\n      <td>198</td>\n      <td>107808.123901</td>\n      <td>Metropolitan Area</td>\n      <td>Low Rent</td>\n      <td>Metropolitan Area</td>\n      <td>500,000-1,500,000</td>\n    </tr>\n    <tr>\n      <th>2047</th>\n      <td>Milwaukee, Wisconsin</td>\n      <td>590157</td>\n      <td>city</td>\n      <td>973</td>\n      <td>Wisconsin</td>\n      <td>Milwaukee</td>\n      <td>590923</td>\n      <td>7874</td>\n      <td>97</td>\n      <td>427</td>\n      <td>...</td>\n      <td>15097</td>\n      <td>3594</td>\n      <td>8053</td>\n      <td>3450</td>\n      <td>198</td>\n      <td>107808.123901</td>\n      <td>Metropolitan Area</td>\n      <td>Low Rent</td>\n      <td>Metropolitan Area</td>\n      <td>500,000-1,500,000</td>\n    </tr>\n    <tr>\n      <th>2048</th>\n      <td>Milwaukee, Wisconsin</td>\n      <td>590157</td>\n      <td>city</td>\n      <td>792</td>\n      <td>Wisconsin</td>\n      <td>Milwaukee</td>\n      <td>590923</td>\n      <td>7874</td>\n      <td>97</td>\n      <td>427</td>\n      <td>...</td>\n      <td>15097</td>\n      <td>3594</td>\n      <td>8053</td>\n      <td>3450</td>\n      <td>198</td>\n      <td>107808.123901</td>\n      <td>Metropolitan Area</td>\n      <td>Low Rent</td>\n      <td>Metropolitan Area</td>\n      <td>500,000-1,500,000</td>\n    </tr>\n    <tr>\n      <th>2049</th>\n      <td>Milwaukee, Wisconsin</td>\n      <td>590157</td>\n      <td>city</td>\n      <td>1066</td>\n      <td>Wisconsin</td>\n      <td>Milwaukee</td>\n      <td>590923</td>\n      <td>7874</td>\n      <td>97</td>\n      <td>427</td>\n      <td>...</td>\n      <td>15097</td>\n      <td>3594</td>\n      <td>8053</td>\n      <td>3450</td>\n      <td>198</td>\n      <td>107808.123901</td>\n      <td>Metropolitan Area</td>\n      <td>Low Rent</td>\n      <td>Metropolitan Area</td>\n      <td>500,000-1,500,000</td>\n    </tr>\n  </tbody>\n</table>\n<p>1626 rows × 22 columns</p>\n</div>"
     },
     "metadata": {},
     "execution_count": 40
    }
   ],
   "source": [
    "# Bin 2019 population into Urban population by City Size Categories and ranges\n",
    "\n",
    "# (https://data.oecd.org/popregion/urban-population-by-city-size.htm#:~:text=their%20administrative%20boundaries.-,Urban%20areas%20in%20OECD%20countries%20are%20classified%20as%3A%20large%20metropolitan,areas%20if%20their%20population%20is)\n",
    "\n",
    "# Urban areas in OECD countries are classified as: large metropolitan areas if they have a population of 1.5 million or more; metropolitan areas if their population is between 500 000 and 1.5 million; medium-size urban areas if their population is between 200 000 and 500 000; and, small urban areas if their population is between 50 000 and 200 000. This indicator is measured as a percentage of the national population.\n",
    "\n",
    "# Qcut\n",
    "\n",
    "#merged_population_rent_crime['Urban Population by City Size'] = pd.qcut(merged_population_rent_crime['2019 Population'], q=4, labels = [\"Small Urban Area\", \"Medium-size Urban Area\", \"Metropolitan Area\", \"Large Metropolitan Area\"])\n",
    "\n",
    "#merged_population_rent_crime['Population by City Size'] = pd.qcut(merged_population_rent_crime['2019 Population'], q=4)\n",
    "\n",
    "#merged_population_rent_crime\n",
    "\n",
    "# Consider using just cut to fit the labels above. qcut will make the bins equal, but it is difficult to categorize cities based on those numbers.\n",
    "\n",
    "bins = [0, 50000, 200000, 500000, 1500000, 100000000]\n",
    "labels = [\"Town\",\"Small Urban Area\", \"Medium-size Urban Area\", \"Metropolitan Area\", \"Large Metropolitan Area\"]\n",
    "merged_population_rent_crime['Urban Population by City Size Categories'] = pd.cut(merged_population_rent_crime['2019 Population'], bins=bins, labels=labels)\n",
    "\n",
    "bins = [0, 50000, 200000, 500000, 1500000, 100000000]\n",
    "labels = [\"0-50,000\", \"50,000-200,000\", \"200,000-500,000\", \"500,000-1,500,000\", \"1,500,000 <\"]\n",
    "merged_population_rent_crime['Urban Population by City Size Ranges'] = pd.cut(merged_population_rent_crime['2019 Population'], bins=bins, labels=labels)\n",
    "\n",
    "\n",
    "merged_population_rent_crime"
   ]
  },
  {
   "cell_type": "code",
   "execution_count": 29,
   "metadata": {},
   "outputs": [
    {
     "output_type": "execute_result",
     "data": {
      "text/plain": [
       "count    1626.000000\n",
       "mean     1674.565806\n",
       "std       607.902951\n",
       "min       582.000000\n",
       "25%      1294.500000\n",
       "50%      1549.000000\n",
       "75%      1891.500000\n",
       "max      6373.000000\n",
       "Name: 2019 Rental Rates, dtype: float64"
      ]
     },
     "metadata": {},
     "execution_count": 29
    }
   ],
   "source": [
    "# Describe the data to begin binning data with pandas cut or qcut\n",
    "\n",
    "merged_population_rent_crime['2019 Rental Rates'].describe()"
   ]
  },
  {
   "cell_type": "code",
   "execution_count": 30,
   "metadata": {},
   "outputs": [
    {
     "output_type": "execute_result",
     "data": {
      "text/plain": [
       "0        (1294.5, 1549.0]\n",
       "1        (1294.5, 1549.0]\n",
       "2        (1294.5, 1549.0]\n",
       "3        (1294.5, 1549.0]\n",
       "4        (1549.0, 1891.5]\n",
       "              ...        \n",
       "2045    (581.999, 1294.5]\n",
       "2046    (581.999, 1294.5]\n",
       "2047    (581.999, 1294.5]\n",
       "2048    (581.999, 1294.5]\n",
       "2049    (581.999, 1294.5]\n",
       "Name: 2019 Rental Rates, Length: 1626, dtype: category\n",
       "Categories (4, interval[float64]): [(581.999, 1294.5] < (1294.5, 1549.0] < (1549.0, 1891.5] < (1891.5, 6373.0]]"
      ]
     },
     "metadata": {},
     "execution_count": 30
    }
   ],
   "source": [
    "# Quartile cut the 2019 Rental Rates data, to see how it is evenly distributed\n",
    "\n",
    "pd.qcut(merged_population_rent_crime['2019 Rental Rates'], q=4)"
   ]
  },
  {
   "cell_type": "code",
   "execution_count": 41,
   "metadata": {},
   "outputs": [
    {
     "output_type": "execute_result",
     "data": {
      "text/plain": [
       "                  Location  2019 Population Town or City  2019 Rental Rates  \\\n",
       "0         Phoenix, Arizona          1680992         city               1424   \n",
       "1         Phoenix, Arizona          1680992         city               1522   \n",
       "2         Phoenix, Arizona          1680992         city               1461   \n",
       "3         Phoenix, Arizona          1680992         city               1549   \n",
       "4         Phoenix, Arizona          1680992         city               1611   \n",
       "...                    ...              ...          ...                ...   \n",
       "2045  Milwaukee, Wisconsin           590157         city                839   \n",
       "2046  Milwaukee, Wisconsin           590157         city                948   \n",
       "2047  Milwaukee, Wisconsin           590157         city                973   \n",
       "2048  Milwaukee, Wisconsin           590157         city                792   \n",
       "2049  Milwaukee, Wisconsin           590157         city               1066   \n",
       "\n",
       "          State       City  Population  Violent crime  \\\n",
       "0       Arizona    Phoenix     1688722          11803   \n",
       "1       Arizona    Phoenix     1688722          11803   \n",
       "2       Arizona    Phoenix     1688722          11803   \n",
       "3       Arizona    Phoenix     1688722          11803   \n",
       "4       Arizona    Phoenix     1688722          11803   \n",
       "...         ...        ...         ...            ...   \n",
       "2045  Wisconsin  Milwaukee      590923           7874   \n",
       "2046  Wisconsin  Milwaukee      590923           7874   \n",
       "2047  Wisconsin  Milwaukee      590923           7874   \n",
       "2048  Wisconsin  Milwaukee      590923           7874   \n",
       "2049  Wisconsin  Milwaukee      590923           7874   \n",
       "\n",
       "      Murder and nonnegligent manslaughter  Rape  ...  Burglary  \\\n",
       "0                                      131  1139  ...      9471   \n",
       "1                                      131  1139  ...      9471   \n",
       "2                                      131  1139  ...      9471   \n",
       "3                                      131  1139  ...      9471   \n",
       "4                                      131  1139  ...      9471   \n",
       "...                                    ...   ...  ...       ...   \n",
       "2045                                    97   427  ...      3594   \n",
       "2046                                    97   427  ...      3594   \n",
       "2047                                    97   427  ...      3594   \n",
       "2048                                    97   427  ...      3594   \n",
       "2049                                    97   427  ...      3594   \n",
       "\n",
       "      Larceny-theft  Motor vehicle theft  Arson     Crime Rate  \\\n",
       "0             39427                 7076    201  108038.919372   \n",
       "1             39427                 7076    201  108038.919372   \n",
       "2             39427                 7076    201  108038.919372   \n",
       "3             39427                 7076    201  108038.919372   \n",
       "4             39427                 7076    201  108038.919372   \n",
       "...             ...                  ...    ...            ...   \n",
       "2045           8053                 3450    198  107808.123901   \n",
       "2046           8053                 3450    198  107808.123901   \n",
       "2047           8053                 3450    198  107808.123901   \n",
       "2048           8053                 3450    198  107808.123901   \n",
       "2049           8053                 3450    198  107808.123901   \n",
       "\n",
       "      Urban Population by City Size  Rental Rate Categories  \\\n",
       "0           Large Metropolitan Area            Average Rent   \n",
       "1           Large Metropolitan Area            Average Rent   \n",
       "2           Large Metropolitan Area            Average Rent   \n",
       "3           Large Metropolitan Area            Average Rent   \n",
       "4           Large Metropolitan Area             Higher Rent   \n",
       "...                             ...                     ...   \n",
       "2045              Metropolitan Area                Low Rent   \n",
       "2046              Metropolitan Area                Low Rent   \n",
       "2047              Metropolitan Area                Low Rent   \n",
       "2048              Metropolitan Area                Low Rent   \n",
       "2049              Metropolitan Area                Low Rent   \n",
       "\n",
       "      Urban Population by City Size Categories  \\\n",
       "0                      Large Metropolitan Area   \n",
       "1                      Large Metropolitan Area   \n",
       "2                      Large Metropolitan Area   \n",
       "3                      Large Metropolitan Area   \n",
       "4                      Large Metropolitan Area   \n",
       "...                                        ...   \n",
       "2045                         Metropolitan Area   \n",
       "2046                         Metropolitan Area   \n",
       "2047                         Metropolitan Area   \n",
       "2048                         Metropolitan Area   \n",
       "2049                         Metropolitan Area   \n",
       "\n",
       "     Urban Population by City Size Ranges Rental Rate Ranges  \n",
       "0                             1,500,000 <    $1,294.50-1,549  \n",
       "1                             1,500,000 <    $1,294.50-1,549  \n",
       "2                             1,500,000 <    $1,294.50-1,549  \n",
       "3                             1,500,000 <    $1,294.50-1,549  \n",
       "4                             1,500,000 <    $1,549-1,891.50  \n",
       "...                                   ...                ...  \n",
       "2045                    500,000-1,500,000   $581.99-1,294.50  \n",
       "2046                    500,000-1,500,000   $581.99-1,294.50  \n",
       "2047                    500,000-1,500,000   $581.99-1,294.50  \n",
       "2048                    500,000-1,500,000   $581.99-1,294.50  \n",
       "2049                    500,000-1,500,000   $581.99-1,294.50  \n",
       "\n",
       "[1626 rows x 23 columns]"
      ],
      "text/html": "<div>\n<style scoped>\n    .dataframe tbody tr th:only-of-type {\n        vertical-align: middle;\n    }\n\n    .dataframe tbody tr th {\n        vertical-align: top;\n    }\n\n    .dataframe thead th {\n        text-align: right;\n    }\n</style>\n<table border=\"1\" class=\"dataframe\">\n  <thead>\n    <tr style=\"text-align: right;\">\n      <th></th>\n      <th>Location</th>\n      <th>2019 Population</th>\n      <th>Town or City</th>\n      <th>2019 Rental Rates</th>\n      <th>State</th>\n      <th>City</th>\n      <th>Population</th>\n      <th>Violent crime</th>\n      <th>Murder and nonnegligent manslaughter</th>\n      <th>Rape</th>\n      <th>...</th>\n      <th>Burglary</th>\n      <th>Larceny-theft</th>\n      <th>Motor vehicle theft</th>\n      <th>Arson</th>\n      <th>Crime Rate</th>\n      <th>Urban Population by City Size</th>\n      <th>Rental Rate Categories</th>\n      <th>Urban Population by City Size Categories</th>\n      <th>Urban Population by City Size Ranges</th>\n      <th>Rental Rate Ranges</th>\n    </tr>\n  </thead>\n  <tbody>\n    <tr>\n      <th>0</th>\n      <td>Phoenix, Arizona</td>\n      <td>1680992</td>\n      <td>city</td>\n      <td>1424</td>\n      <td>Arizona</td>\n      <td>Phoenix</td>\n      <td>1688722</td>\n      <td>11803</td>\n      <td>131</td>\n      <td>1139</td>\n      <td>...</td>\n      <td>9471</td>\n      <td>39427</td>\n      <td>7076</td>\n      <td>201</td>\n      <td>108038.919372</td>\n      <td>Large Metropolitan Area</td>\n      <td>Average Rent</td>\n      <td>Large Metropolitan Area</td>\n      <td>1,500,000 &lt;</td>\n      <td>$1,294.50-1,549</td>\n    </tr>\n    <tr>\n      <th>1</th>\n      <td>Phoenix, Arizona</td>\n      <td>1680992</td>\n      <td>city</td>\n      <td>1522</td>\n      <td>Arizona</td>\n      <td>Phoenix</td>\n      <td>1688722</td>\n      <td>11803</td>\n      <td>131</td>\n      <td>1139</td>\n      <td>...</td>\n      <td>9471</td>\n      <td>39427</td>\n      <td>7076</td>\n      <td>201</td>\n      <td>108038.919372</td>\n      <td>Large Metropolitan Area</td>\n      <td>Average Rent</td>\n      <td>Large Metropolitan Area</td>\n      <td>1,500,000 &lt;</td>\n      <td>$1,294.50-1,549</td>\n    </tr>\n    <tr>\n      <th>2</th>\n      <td>Phoenix, Arizona</td>\n      <td>1680992</td>\n      <td>city</td>\n      <td>1461</td>\n      <td>Arizona</td>\n      <td>Phoenix</td>\n      <td>1688722</td>\n      <td>11803</td>\n      <td>131</td>\n      <td>1139</td>\n      <td>...</td>\n      <td>9471</td>\n      <td>39427</td>\n      <td>7076</td>\n      <td>201</td>\n      <td>108038.919372</td>\n      <td>Large Metropolitan Area</td>\n      <td>Average Rent</td>\n      <td>Large Metropolitan Area</td>\n      <td>1,500,000 &lt;</td>\n      <td>$1,294.50-1,549</td>\n    </tr>\n    <tr>\n      <th>3</th>\n      <td>Phoenix, Arizona</td>\n      <td>1680992</td>\n      <td>city</td>\n      <td>1549</td>\n      <td>Arizona</td>\n      <td>Phoenix</td>\n      <td>1688722</td>\n      <td>11803</td>\n      <td>131</td>\n      <td>1139</td>\n      <td>...</td>\n      <td>9471</td>\n      <td>39427</td>\n      <td>7076</td>\n      <td>201</td>\n      <td>108038.919372</td>\n      <td>Large Metropolitan Area</td>\n      <td>Average Rent</td>\n      <td>Large Metropolitan Area</td>\n      <td>1,500,000 &lt;</td>\n      <td>$1,294.50-1,549</td>\n    </tr>\n    <tr>\n      <th>4</th>\n      <td>Phoenix, Arizona</td>\n      <td>1680992</td>\n      <td>city</td>\n      <td>1611</td>\n      <td>Arizona</td>\n      <td>Phoenix</td>\n      <td>1688722</td>\n      <td>11803</td>\n      <td>131</td>\n      <td>1139</td>\n      <td>...</td>\n      <td>9471</td>\n      <td>39427</td>\n      <td>7076</td>\n      <td>201</td>\n      <td>108038.919372</td>\n      <td>Large Metropolitan Area</td>\n      <td>Higher Rent</td>\n      <td>Large Metropolitan Area</td>\n      <td>1,500,000 &lt;</td>\n      <td>$1,549-1,891.50</td>\n    </tr>\n    <tr>\n      <th>...</th>\n      <td>...</td>\n      <td>...</td>\n      <td>...</td>\n      <td>...</td>\n      <td>...</td>\n      <td>...</td>\n      <td>...</td>\n      <td>...</td>\n      <td>...</td>\n      <td>...</td>\n      <td>...</td>\n      <td>...</td>\n      <td>...</td>\n      <td>...</td>\n      <td>...</td>\n      <td>...</td>\n      <td>...</td>\n      <td>...</td>\n      <td>...</td>\n      <td>...</td>\n      <td>...</td>\n    </tr>\n    <tr>\n      <th>2045</th>\n      <td>Milwaukee, Wisconsin</td>\n      <td>590157</td>\n      <td>city</td>\n      <td>839</td>\n      <td>Wisconsin</td>\n      <td>Milwaukee</td>\n      <td>590923</td>\n      <td>7874</td>\n      <td>97</td>\n      <td>427</td>\n      <td>...</td>\n      <td>3594</td>\n      <td>8053</td>\n      <td>3450</td>\n      <td>198</td>\n      <td>107808.123901</td>\n      <td>Metropolitan Area</td>\n      <td>Low Rent</td>\n      <td>Metropolitan Area</td>\n      <td>500,000-1,500,000</td>\n      <td>$581.99-1,294.50</td>\n    </tr>\n    <tr>\n      <th>2046</th>\n      <td>Milwaukee, Wisconsin</td>\n      <td>590157</td>\n      <td>city</td>\n      <td>948</td>\n      <td>Wisconsin</td>\n      <td>Milwaukee</td>\n      <td>590923</td>\n      <td>7874</td>\n      <td>97</td>\n      <td>427</td>\n      <td>...</td>\n      <td>3594</td>\n      <td>8053</td>\n      <td>3450</td>\n      <td>198</td>\n      <td>107808.123901</td>\n      <td>Metropolitan Area</td>\n      <td>Low Rent</td>\n      <td>Metropolitan Area</td>\n      <td>500,000-1,500,000</td>\n      <td>$581.99-1,294.50</td>\n    </tr>\n    <tr>\n      <th>2047</th>\n      <td>Milwaukee, Wisconsin</td>\n      <td>590157</td>\n      <td>city</td>\n      <td>973</td>\n      <td>Wisconsin</td>\n      <td>Milwaukee</td>\n      <td>590923</td>\n      <td>7874</td>\n      <td>97</td>\n      <td>427</td>\n      <td>...</td>\n      <td>3594</td>\n      <td>8053</td>\n      <td>3450</td>\n      <td>198</td>\n      <td>107808.123901</td>\n      <td>Metropolitan Area</td>\n      <td>Low Rent</td>\n      <td>Metropolitan Area</td>\n      <td>500,000-1,500,000</td>\n      <td>$581.99-1,294.50</td>\n    </tr>\n    <tr>\n      <th>2048</th>\n      <td>Milwaukee, Wisconsin</td>\n      <td>590157</td>\n      <td>city</td>\n      <td>792</td>\n      <td>Wisconsin</td>\n      <td>Milwaukee</td>\n      <td>590923</td>\n      <td>7874</td>\n      <td>97</td>\n      <td>427</td>\n      <td>...</td>\n      <td>3594</td>\n      <td>8053</td>\n      <td>3450</td>\n      <td>198</td>\n      <td>107808.123901</td>\n      <td>Metropolitan Area</td>\n      <td>Low Rent</td>\n      <td>Metropolitan Area</td>\n      <td>500,000-1,500,000</td>\n      <td>$581.99-1,294.50</td>\n    </tr>\n    <tr>\n      <th>2049</th>\n      <td>Milwaukee, Wisconsin</td>\n      <td>590157</td>\n      <td>city</td>\n      <td>1066</td>\n      <td>Wisconsin</td>\n      <td>Milwaukee</td>\n      <td>590923</td>\n      <td>7874</td>\n      <td>97</td>\n      <td>427</td>\n      <td>...</td>\n      <td>3594</td>\n      <td>8053</td>\n      <td>3450</td>\n      <td>198</td>\n      <td>107808.123901</td>\n      <td>Metropolitan Area</td>\n      <td>Low Rent</td>\n      <td>Metropolitan Area</td>\n      <td>500,000-1,500,000</td>\n      <td>$581.99-1,294.50</td>\n    </tr>\n  </tbody>\n</table>\n<p>1626 rows × 23 columns</p>\n</div>"
     },
     "metadata": {},
     "execution_count": 41
    }
   ],
   "source": [
    "# Bin the 2019 Rental Rates data into categories and ranges\n",
    "\n",
    "bins = [0, 581.99, 1294.5, 1549, 1891.5, 6373]\n",
    "labels = [\"Lowest Rent\",\"Low Rent\", \"Average Rent\", \"Higher Rent\", \"Highest Rent\"]\n",
    "merged_population_rent_crime['Rental Rate Categories'] = pd.cut(merged_population_rent_crime['2019 Rental Rates'], bins=bins, labels=labels)\n",
    "\n",
    "bins = [0, 581.99, 1294.5, 1549, 1891.5, 6373]\n",
    "labels = [\"$0-581.99\",\"$581.99-1,294.50\", \"$1,294.50-1,549\", \"$1,549-1,891.50\", \"$1891.50-6,373\"]\n",
    "merged_population_rent_crime['Rental Rate Ranges'] = pd.cut(merged_population_rent_crime['2019 Rental Rates'], bins=bins, labels=labels)\n",
    "\n",
    "merged_population_rent_crime"
   ]
  },
  {
   "cell_type": "code",
   "execution_count": 44,
   "metadata": {},
   "outputs": [
    {
     "output_type": "execute_result",
     "data": {
      "text/plain": [
       "count     1626.000000\n",
       "mean      7193.825490\n",
       "std       2428.269709\n",
       "min       1703.092498\n",
       "25%       5897.911474\n",
       "50%       7018.233292\n",
       "75%       8724.805206\n",
       "max      12422.929229\n",
       "Name: Crime Rate, dtype: float64"
      ]
     },
     "metadata": {},
     "execution_count": 44
    }
   ],
   "source": [
    "# Describe the data to begin binning data with pandas cut or qcut\n",
    "\n",
    "merged_population_rent_crime['Crime Rate'].describe()"
   ]
  },
  {
   "cell_type": "code",
   "execution_count": 48,
   "metadata": {},
   "outputs": [
    {
     "output_type": "execute_result",
     "data": {
      "text/plain": [
       "0                 (5897.911, 7018.233]\n",
       "1                 (5897.911, 7018.233]\n",
       "2                 (5897.911, 7018.233]\n",
       "3                 (5897.911, 7018.233]\n",
       "4                 (5897.911, 7018.233]\n",
       "                     ...              \n",
       "2045    (1703.0910000000001, 5897.911]\n",
       "2046    (1703.0910000000001, 5897.911]\n",
       "2047    (1703.0910000000001, 5897.911]\n",
       "2048    (1703.0910000000001, 5897.911]\n",
       "2049    (1703.0910000000001, 5897.911]\n",
       "Name: Crime Rate, Length: 1626, dtype: category\n",
       "Categories (4, interval[float64]): [(1703.0910000000001, 5897.911] < (5897.911, 7018.233] < (7018.233, 8724.805] < (8724.805, 12422.929]]"
      ]
     },
     "metadata": {},
     "execution_count": 48
    }
   ],
   "source": [
    "# Quartile cut the data, to see how it is evenly distributed\n",
    "\n",
    "pd.qcut(merged_population_rent_crime['Crime Rate'], q=4)"
   ]
  },
  {
   "cell_type": "code",
   "execution_count": 49,
   "metadata": {},
   "outputs": [
    {
     "output_type": "execute_result",
     "data": {
      "text/plain": [
       "                  Location  2019 Population Town or City  2019 Rental Rates  \\\n",
       "0         Phoenix, Arizona          1680992         city               1424   \n",
       "1         Phoenix, Arizona          1680992         city               1522   \n",
       "2         Phoenix, Arizona          1680992         city               1461   \n",
       "3         Phoenix, Arizona          1680992         city               1549   \n",
       "4         Phoenix, Arizona          1680992         city               1611   \n",
       "...                    ...              ...          ...                ...   \n",
       "2045  Milwaukee, Wisconsin           590157         city                839   \n",
       "2046  Milwaukee, Wisconsin           590157         city                948   \n",
       "2047  Milwaukee, Wisconsin           590157         city                973   \n",
       "2048  Milwaukee, Wisconsin           590157         city                792   \n",
       "2049  Milwaukee, Wisconsin           590157         city               1066   \n",
       "\n",
       "          State       City  Population  Violent crime  \\\n",
       "0       Arizona    Phoenix     1688722          11803   \n",
       "1       Arizona    Phoenix     1688722          11803   \n",
       "2       Arizona    Phoenix     1688722          11803   \n",
       "3       Arizona    Phoenix     1688722          11803   \n",
       "4       Arizona    Phoenix     1688722          11803   \n",
       "...         ...        ...         ...            ...   \n",
       "2045  Wisconsin  Milwaukee      590923           7874   \n",
       "2046  Wisconsin  Milwaukee      590923           7874   \n",
       "2047  Wisconsin  Milwaukee      590923           7874   \n",
       "2048  Wisconsin  Milwaukee      590923           7874   \n",
       "2049  Wisconsin  Milwaukee      590923           7874   \n",
       "\n",
       "      Murder and nonnegligent manslaughter  Rape  ...  Motor vehicle theft  \\\n",
       "0                                      131  1139  ...                 7076   \n",
       "1                                      131  1139  ...                 7076   \n",
       "2                                      131  1139  ...                 7076   \n",
       "3                                      131  1139  ...                 7076   \n",
       "4                                      131  1139  ...                 7076   \n",
       "...                                    ...   ...  ...                  ...   \n",
       "2045                                    97   427  ...                 3450   \n",
       "2046                                    97   427  ...                 3450   \n",
       "2047                                    97   427  ...                 3450   \n",
       "2048                                    97   427  ...                 3450   \n",
       "2049                                    97   427  ...                 3450   \n",
       "\n",
       "      Arson   Crime Rate  Urban Population by City Size  \\\n",
       "0       201  6641.065278        Large Metropolitan Area   \n",
       "1       201  6641.065278        Large Metropolitan Area   \n",
       "2       201  6641.065278        Large Metropolitan Area   \n",
       "3       201  6641.065278        Large Metropolitan Area   \n",
       "4       201  6641.065278        Large Metropolitan Area   \n",
       "...     ...          ...                            ...   \n",
       "2045    198  5143.180054              Metropolitan Area   \n",
       "2046    198  5143.180054              Metropolitan Area   \n",
       "2047    198  5143.180054              Metropolitan Area   \n",
       "2048    198  5143.180054              Metropolitan Area   \n",
       "2049    198  5143.180054              Metropolitan Area   \n",
       "\n",
       "      Rental Rate Categories  Urban Population by City Size Categories  \\\n",
       "0               Average Rent                   Large Metropolitan Area   \n",
       "1               Average Rent                   Large Metropolitan Area   \n",
       "2               Average Rent                   Large Metropolitan Area   \n",
       "3               Average Rent                   Large Metropolitan Area   \n",
       "4                Higher Rent                   Large Metropolitan Area   \n",
       "...                      ...                                       ...   \n",
       "2045                Low Rent                         Metropolitan Area   \n",
       "2046                Low Rent                         Metropolitan Area   \n",
       "2047                Low Rent                         Metropolitan Area   \n",
       "2048                Low Rent                         Metropolitan Area   \n",
       "2049                Low Rent                         Metropolitan Area   \n",
       "\n",
       "      Urban Population by City Size Ranges  Rental Rate Ranges  \\\n",
       "0                              1,500,000 <     $1,294.50-1,549   \n",
       "1                              1,500,000 <     $1,294.50-1,549   \n",
       "2                              1,500,000 <     $1,294.50-1,549   \n",
       "3                              1,500,000 <     $1,294.50-1,549   \n",
       "4                              1,500,000 <     $1,549-1,891.50   \n",
       "...                                    ...                 ...   \n",
       "2045                     500,000-1,500,000    $581.99-1,294.50   \n",
       "2046                     500,000-1,500,000    $581.99-1,294.50   \n",
       "2047                     500,000-1,500,000    $581.99-1,294.50   \n",
       "2048                     500,000-1,500,000    $581.99-1,294.50   \n",
       "2049                     500,000-1,500,000    $581.99-1,294.50   \n",
       "\n",
       "     Crime Rate Categories  Crime Rate Ranges  \n",
       "0            Average Crime  5,897.91-7,018.23  \n",
       "1            Average Crime  5,897.91-7,018.23  \n",
       "2            Average Crime  5,897.91-7,018.23  \n",
       "3            Average Crime  5,897.91-7,018.23  \n",
       "4            Average Crime  5,897.91-7,018.23  \n",
       "...                    ...                ...  \n",
       "2045           Lower Crime  1,703.09-5,897.91  \n",
       "2046           Lower Crime  1,703.09-5,897.91  \n",
       "2047           Lower Crime  1,703.09-5,897.91  \n",
       "2048           Lower Crime  1,703.09-5,897.91  \n",
       "2049           Lower Crime  1,703.09-5,897.91  \n",
       "\n",
       "[1626 rows x 25 columns]"
      ],
      "text/html": "<div>\n<style scoped>\n    .dataframe tbody tr th:only-of-type {\n        vertical-align: middle;\n    }\n\n    .dataframe tbody tr th {\n        vertical-align: top;\n    }\n\n    .dataframe thead th {\n        text-align: right;\n    }\n</style>\n<table border=\"1\" class=\"dataframe\">\n  <thead>\n    <tr style=\"text-align: right;\">\n      <th></th>\n      <th>Location</th>\n      <th>2019 Population</th>\n      <th>Town or City</th>\n      <th>2019 Rental Rates</th>\n      <th>State</th>\n      <th>City</th>\n      <th>Population</th>\n      <th>Violent crime</th>\n      <th>Murder and nonnegligent manslaughter</th>\n      <th>Rape</th>\n      <th>...</th>\n      <th>Motor vehicle theft</th>\n      <th>Arson</th>\n      <th>Crime Rate</th>\n      <th>Urban Population by City Size</th>\n      <th>Rental Rate Categories</th>\n      <th>Urban Population by City Size Categories</th>\n      <th>Urban Population by City Size Ranges</th>\n      <th>Rental Rate Ranges</th>\n      <th>Crime Rate Categories</th>\n      <th>Crime Rate Ranges</th>\n    </tr>\n  </thead>\n  <tbody>\n    <tr>\n      <th>0</th>\n      <td>Phoenix, Arizona</td>\n      <td>1680992</td>\n      <td>city</td>\n      <td>1424</td>\n      <td>Arizona</td>\n      <td>Phoenix</td>\n      <td>1688722</td>\n      <td>11803</td>\n      <td>131</td>\n      <td>1139</td>\n      <td>...</td>\n      <td>7076</td>\n      <td>201</td>\n      <td>6641.065278</td>\n      <td>Large Metropolitan Area</td>\n      <td>Average Rent</td>\n      <td>Large Metropolitan Area</td>\n      <td>1,500,000 &lt;</td>\n      <td>$1,294.50-1,549</td>\n      <td>Average Crime</td>\n      <td>5,897.91-7,018.23</td>\n    </tr>\n    <tr>\n      <th>1</th>\n      <td>Phoenix, Arizona</td>\n      <td>1680992</td>\n      <td>city</td>\n      <td>1522</td>\n      <td>Arizona</td>\n      <td>Phoenix</td>\n      <td>1688722</td>\n      <td>11803</td>\n      <td>131</td>\n      <td>1139</td>\n      <td>...</td>\n      <td>7076</td>\n      <td>201</td>\n      <td>6641.065278</td>\n      <td>Large Metropolitan Area</td>\n      <td>Average Rent</td>\n      <td>Large Metropolitan Area</td>\n      <td>1,500,000 &lt;</td>\n      <td>$1,294.50-1,549</td>\n      <td>Average Crime</td>\n      <td>5,897.91-7,018.23</td>\n    </tr>\n    <tr>\n      <th>2</th>\n      <td>Phoenix, Arizona</td>\n      <td>1680992</td>\n      <td>city</td>\n      <td>1461</td>\n      <td>Arizona</td>\n      <td>Phoenix</td>\n      <td>1688722</td>\n      <td>11803</td>\n      <td>131</td>\n      <td>1139</td>\n      <td>...</td>\n      <td>7076</td>\n      <td>201</td>\n      <td>6641.065278</td>\n      <td>Large Metropolitan Area</td>\n      <td>Average Rent</td>\n      <td>Large Metropolitan Area</td>\n      <td>1,500,000 &lt;</td>\n      <td>$1,294.50-1,549</td>\n      <td>Average Crime</td>\n      <td>5,897.91-7,018.23</td>\n    </tr>\n    <tr>\n      <th>3</th>\n      <td>Phoenix, Arizona</td>\n      <td>1680992</td>\n      <td>city</td>\n      <td>1549</td>\n      <td>Arizona</td>\n      <td>Phoenix</td>\n      <td>1688722</td>\n      <td>11803</td>\n      <td>131</td>\n      <td>1139</td>\n      <td>...</td>\n      <td>7076</td>\n      <td>201</td>\n      <td>6641.065278</td>\n      <td>Large Metropolitan Area</td>\n      <td>Average Rent</td>\n      <td>Large Metropolitan Area</td>\n      <td>1,500,000 &lt;</td>\n      <td>$1,294.50-1,549</td>\n      <td>Average Crime</td>\n      <td>5,897.91-7,018.23</td>\n    </tr>\n    <tr>\n      <th>4</th>\n      <td>Phoenix, Arizona</td>\n      <td>1680992</td>\n      <td>city</td>\n      <td>1611</td>\n      <td>Arizona</td>\n      <td>Phoenix</td>\n      <td>1688722</td>\n      <td>11803</td>\n      <td>131</td>\n      <td>1139</td>\n      <td>...</td>\n      <td>7076</td>\n      <td>201</td>\n      <td>6641.065278</td>\n      <td>Large Metropolitan Area</td>\n      <td>Higher Rent</td>\n      <td>Large Metropolitan Area</td>\n      <td>1,500,000 &lt;</td>\n      <td>$1,549-1,891.50</td>\n      <td>Average Crime</td>\n      <td>5,897.91-7,018.23</td>\n    </tr>\n    <tr>\n      <th>...</th>\n      <td>...</td>\n      <td>...</td>\n      <td>...</td>\n      <td>...</td>\n      <td>...</td>\n      <td>...</td>\n      <td>...</td>\n      <td>...</td>\n      <td>...</td>\n      <td>...</td>\n      <td>...</td>\n      <td>...</td>\n      <td>...</td>\n      <td>...</td>\n      <td>...</td>\n      <td>...</td>\n      <td>...</td>\n      <td>...</td>\n      <td>...</td>\n      <td>...</td>\n      <td>...</td>\n    </tr>\n    <tr>\n      <th>2045</th>\n      <td>Milwaukee, Wisconsin</td>\n      <td>590157</td>\n      <td>city</td>\n      <td>839</td>\n      <td>Wisconsin</td>\n      <td>Milwaukee</td>\n      <td>590923</td>\n      <td>7874</td>\n      <td>97</td>\n      <td>427</td>\n      <td>...</td>\n      <td>3450</td>\n      <td>198</td>\n      <td>5143.180054</td>\n      <td>Metropolitan Area</td>\n      <td>Low Rent</td>\n      <td>Metropolitan Area</td>\n      <td>500,000-1,500,000</td>\n      <td>$581.99-1,294.50</td>\n      <td>Lower Crime</td>\n      <td>1,703.09-5,897.91</td>\n    </tr>\n    <tr>\n      <th>2046</th>\n      <td>Milwaukee, Wisconsin</td>\n      <td>590157</td>\n      <td>city</td>\n      <td>948</td>\n      <td>Wisconsin</td>\n      <td>Milwaukee</td>\n      <td>590923</td>\n      <td>7874</td>\n      <td>97</td>\n      <td>427</td>\n      <td>...</td>\n      <td>3450</td>\n      <td>198</td>\n      <td>5143.180054</td>\n      <td>Metropolitan Area</td>\n      <td>Low Rent</td>\n      <td>Metropolitan Area</td>\n      <td>500,000-1,500,000</td>\n      <td>$581.99-1,294.50</td>\n      <td>Lower Crime</td>\n      <td>1,703.09-5,897.91</td>\n    </tr>\n    <tr>\n      <th>2047</th>\n      <td>Milwaukee, Wisconsin</td>\n      <td>590157</td>\n      <td>city</td>\n      <td>973</td>\n      <td>Wisconsin</td>\n      <td>Milwaukee</td>\n      <td>590923</td>\n      <td>7874</td>\n      <td>97</td>\n      <td>427</td>\n      <td>...</td>\n      <td>3450</td>\n      <td>198</td>\n      <td>5143.180054</td>\n      <td>Metropolitan Area</td>\n      <td>Low Rent</td>\n      <td>Metropolitan Area</td>\n      <td>500,000-1,500,000</td>\n      <td>$581.99-1,294.50</td>\n      <td>Lower Crime</td>\n      <td>1,703.09-5,897.91</td>\n    </tr>\n    <tr>\n      <th>2048</th>\n      <td>Milwaukee, Wisconsin</td>\n      <td>590157</td>\n      <td>city</td>\n      <td>792</td>\n      <td>Wisconsin</td>\n      <td>Milwaukee</td>\n      <td>590923</td>\n      <td>7874</td>\n      <td>97</td>\n      <td>427</td>\n      <td>...</td>\n      <td>3450</td>\n      <td>198</td>\n      <td>5143.180054</td>\n      <td>Metropolitan Area</td>\n      <td>Low Rent</td>\n      <td>Metropolitan Area</td>\n      <td>500,000-1,500,000</td>\n      <td>$581.99-1,294.50</td>\n      <td>Lower Crime</td>\n      <td>1,703.09-5,897.91</td>\n    </tr>\n    <tr>\n      <th>2049</th>\n      <td>Milwaukee, Wisconsin</td>\n      <td>590157</td>\n      <td>city</td>\n      <td>1066</td>\n      <td>Wisconsin</td>\n      <td>Milwaukee</td>\n      <td>590923</td>\n      <td>7874</td>\n      <td>97</td>\n      <td>427</td>\n      <td>...</td>\n      <td>3450</td>\n      <td>198</td>\n      <td>5143.180054</td>\n      <td>Metropolitan Area</td>\n      <td>Low Rent</td>\n      <td>Metropolitan Area</td>\n      <td>500,000-1,500,000</td>\n      <td>$581.99-1,294.50</td>\n      <td>Lower Crime</td>\n      <td>1,703.09-5,897.91</td>\n    </tr>\n  </tbody>\n</table>\n<p>1626 rows × 25 columns</p>\n</div>"
     },
     "metadata": {},
     "execution_count": 49
    }
   ],
   "source": [
    "# Bin the 2019 Crimes Rate data into categories and ranges\n",
    "\n",
    "bins = [0, 1703.0910000000001, 5897.911, 7018.233, 8724.805, 12422.929]\n",
    "labels = [\"Lowest Crime\",\"Lower Crime\", \"Average Crime\", \"Higher Crime\", \"Highest Crime\"]\n",
    "merged_population_rent_crime['Crime Rate Categories'] = pd.cut(merged_population_rent_crime['Crime Rate'], bins=bins, labels=labels)\n",
    "\n",
    "bins = [0, 1703.0910000000001, 5897.911, 7018.233, 8724.805, 12422.929]\n",
    "labels = [\"0-1,703.09\",\"1,703.09-5,897.91\", \"5,897.91-7,018.23\", \"7018.23-8,724.80\", \"8,724.80-12,422.92\"]\n",
    "merged_population_rent_crime['Crime Rate Ranges'] = pd.cut(merged_population_rent_crime['Crime Rate'], bins=bins, labels=labels)\n",
    "\n",
    "merged_population_rent_crime"
   ]
  },
  {
   "cell_type": "code",
   "execution_count": 50,
   "metadata": {},
   "outputs": [],
   "source": [
    "# Export merged_population_rent_crime with binned categories for csv and beginning modeling in another notebook\n",
    "\n",
    "merged_population_rent_crime.to_csv('pop_rent_crime_bins.csv')"
   ]
  }
 ]
}