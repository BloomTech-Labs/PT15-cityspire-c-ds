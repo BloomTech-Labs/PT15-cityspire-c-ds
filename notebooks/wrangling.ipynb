{
 "metadata": {
  "language_info": {
   "codemirror_mode": {
    "name": "ipython",
    "version": 3
   },
   "file_extension": ".py",
   "mimetype": "text/x-python",
   "name": "python",
   "nbconvert_exporter": "python",
   "pygments_lexer": "ipython3",
   "version": "3.8.5-final"
  },
  "orig_nbformat": 2,
  "kernelspec": {
   "name": "python3",
   "display_name": "Python 3",
   "language": "python"
  }
 },
 "nbformat": 4,
 "nbformat_minor": 2,
 "cells": [
  {
   "cell_type": "code",
   "execution_count": null,
   "metadata": {},
   "outputs": [],
   "source": [
    "# Objectives:\n",
    "# - Only 2019 data\n",
    "# - Rename each 2019 data column (pop, rent, crime)\n",
    "# - Create column with city, state (abbreviation?)\n",
    "# - Column with state\n",
    "# - Make table for each csv\n",
    "# - Join 3 Db on city, state (abbreviation?) column\n",
    "# - Check for duplicate cities and drop\n",
    "# - Drop any cities that lack pop, rent, crime data\n",
    "# - Bin population, rent, and crime data\n",
    "# - Vectorize data\n",
    "# - Train nearest neighbors model on city/state, pop, rent, and crime data\n",
    "# - Make model into a function\n",
    "# - Use function to make a recommendation based on population, rent, crime rate\n",
    "# - Check to see if recommendation matches well with data. If so:\n",
    "# - Pickle the model and it is ready to be put into API and tested with Web/iOS\n",
    "# - Once these steps are completed and working, we will also incorporate walkability and livability score in Release 2.\n",
    "# - When walkability and livability scores are also included and working well in the model, we welcome and further additions to the model, granted the data is from 2019 (otherwise we can include a disclaimer, or we push all of the data used back to 2018, for example, as long as the data all comes from the same year)"
   ]
  },
  {
   "cell_type": "code",
   "execution_count": 13,
   "metadata": {},
   "outputs": [],
   "source": [
    "# Imports\n",
    "\n",
    "import pandas as pd\n",
    "import numpy as np"
   ]
  },
  {
   "cell_type": "code",
   "execution_count": 40,
   "metadata": {},
   "outputs": [
    {
     "output_type": "execute_result",
     "data": {
      "text/plain": [
       "                       Location  Census Estimates Base    2010    2011  \\\n",
       "0       Abbeville city, Alabama   2,688          2,705   2,699   2,694   \n",
       "1      Adamsville city, Alabama   4,522          4,506   4,500   4,493   \n",
       "2         Addison town, Alabama     758            754     751     750   \n",
       "3           Akron town, Alabama     356            356     355     347   \n",
       "4       Alabaster city, Alabama  30,352         31,112  31,209  31,375   \n",
       "...                         ...     ...            ...     ...     ...   \n",
       "19497   Wamsutter town, Wyoming     451            451     450     453   \n",
       "19498   Wheatland town, Wyoming   3,627          3,625   3,622   3,620   \n",
       "19499     Worland city, Wyoming   5,487          5,487   5,487   5,436   \n",
       "19500      Wright town, Wyoming   1,807          1,807   1,810   1,812   \n",
       "19501       Yoder town, Wyoming     151            151     152     153   \n",
       "\n",
       "         2012    2013    2014    2015    2016    2017    2018 2019 Population  \n",
       "0       2,643   2,628   2,608   2,600   2,584   2,575   2,571           2,560  \n",
       "1       4,471   4,449   4,420   4,390   4,356   4,327   4,308           4,281  \n",
       "2         743     742     739     734     731     726     723             718  \n",
       "3         347     343     338     339     333     332     331             328  \n",
       "4      31,684  31,980  32,182  32,772  33,017  33,275  33,413          33,487  \n",
       "...       ...     ...     ...     ...     ...     ...     ...             ...  \n",
       "19497     462     487     508     499     493     483     474             467  \n",
       "19498   3,626   3,622   3,642   3,645   3,587   3,549   3,527           3,462  \n",
       "19499   5,419   5,419   5,328   5,332   5,263   5,158   5,071           5,024  \n",
       "19500   1,864   1,860   1,856   1,885   1,857   1,760   1,754           1,753  \n",
       "19501     154     157     159     159     156     156     155             154  \n",
       "\n",
       "[19502 rows x 13 columns]"
      ],
      "text/html": "<div>\n<style scoped>\n    .dataframe tbody tr th:only-of-type {\n        vertical-align: middle;\n    }\n\n    .dataframe tbody tr th {\n        vertical-align: top;\n    }\n\n    .dataframe thead th {\n        text-align: right;\n    }\n</style>\n<table border=\"1\" class=\"dataframe\">\n  <thead>\n    <tr style=\"text-align: right;\">\n      <th></th>\n      <th>Location</th>\n      <th>Census</th>\n      <th>Estimates Base</th>\n      <th>2010</th>\n      <th>2011</th>\n      <th>2012</th>\n      <th>2013</th>\n      <th>2014</th>\n      <th>2015</th>\n      <th>2016</th>\n      <th>2017</th>\n      <th>2018</th>\n      <th>2019 Population</th>\n    </tr>\n  </thead>\n  <tbody>\n    <tr>\n      <th>0</th>\n      <td>Abbeville city, Alabama</td>\n      <td>2,688</td>\n      <td>2,705</td>\n      <td>2,699</td>\n      <td>2,694</td>\n      <td>2,643</td>\n      <td>2,628</td>\n      <td>2,608</td>\n      <td>2,600</td>\n      <td>2,584</td>\n      <td>2,575</td>\n      <td>2,571</td>\n      <td>2,560</td>\n    </tr>\n    <tr>\n      <th>1</th>\n      <td>Adamsville city, Alabama</td>\n      <td>4,522</td>\n      <td>4,506</td>\n      <td>4,500</td>\n      <td>4,493</td>\n      <td>4,471</td>\n      <td>4,449</td>\n      <td>4,420</td>\n      <td>4,390</td>\n      <td>4,356</td>\n      <td>4,327</td>\n      <td>4,308</td>\n      <td>4,281</td>\n    </tr>\n    <tr>\n      <th>2</th>\n      <td>Addison town, Alabama</td>\n      <td>758</td>\n      <td>754</td>\n      <td>751</td>\n      <td>750</td>\n      <td>743</td>\n      <td>742</td>\n      <td>739</td>\n      <td>734</td>\n      <td>731</td>\n      <td>726</td>\n      <td>723</td>\n      <td>718</td>\n    </tr>\n    <tr>\n      <th>3</th>\n      <td>Akron town, Alabama</td>\n      <td>356</td>\n      <td>356</td>\n      <td>355</td>\n      <td>347</td>\n      <td>347</td>\n      <td>343</td>\n      <td>338</td>\n      <td>339</td>\n      <td>333</td>\n      <td>332</td>\n      <td>331</td>\n      <td>328</td>\n    </tr>\n    <tr>\n      <th>4</th>\n      <td>Alabaster city, Alabama</td>\n      <td>30,352</td>\n      <td>31,112</td>\n      <td>31,209</td>\n      <td>31,375</td>\n      <td>31,684</td>\n      <td>31,980</td>\n      <td>32,182</td>\n      <td>32,772</td>\n      <td>33,017</td>\n      <td>33,275</td>\n      <td>33,413</td>\n      <td>33,487</td>\n    </tr>\n    <tr>\n      <th>...</th>\n      <td>...</td>\n      <td>...</td>\n      <td>...</td>\n      <td>...</td>\n      <td>...</td>\n      <td>...</td>\n      <td>...</td>\n      <td>...</td>\n      <td>...</td>\n      <td>...</td>\n      <td>...</td>\n      <td>...</td>\n      <td>...</td>\n    </tr>\n    <tr>\n      <th>19497</th>\n      <td>Wamsutter town, Wyoming</td>\n      <td>451</td>\n      <td>451</td>\n      <td>450</td>\n      <td>453</td>\n      <td>462</td>\n      <td>487</td>\n      <td>508</td>\n      <td>499</td>\n      <td>493</td>\n      <td>483</td>\n      <td>474</td>\n      <td>467</td>\n    </tr>\n    <tr>\n      <th>19498</th>\n      <td>Wheatland town, Wyoming</td>\n      <td>3,627</td>\n      <td>3,625</td>\n      <td>3,622</td>\n      <td>3,620</td>\n      <td>3,626</td>\n      <td>3,622</td>\n      <td>3,642</td>\n      <td>3,645</td>\n      <td>3,587</td>\n      <td>3,549</td>\n      <td>3,527</td>\n      <td>3,462</td>\n    </tr>\n    <tr>\n      <th>19499</th>\n      <td>Worland city, Wyoming</td>\n      <td>5,487</td>\n      <td>5,487</td>\n      <td>5,487</td>\n      <td>5,436</td>\n      <td>5,419</td>\n      <td>5,419</td>\n      <td>5,328</td>\n      <td>5,332</td>\n      <td>5,263</td>\n      <td>5,158</td>\n      <td>5,071</td>\n      <td>5,024</td>\n    </tr>\n    <tr>\n      <th>19500</th>\n      <td>Wright town, Wyoming</td>\n      <td>1,807</td>\n      <td>1,807</td>\n      <td>1,810</td>\n      <td>1,812</td>\n      <td>1,864</td>\n      <td>1,860</td>\n      <td>1,856</td>\n      <td>1,885</td>\n      <td>1,857</td>\n      <td>1,760</td>\n      <td>1,754</td>\n      <td>1,753</td>\n    </tr>\n    <tr>\n      <th>19501</th>\n      <td>Yoder town, Wyoming</td>\n      <td>151</td>\n      <td>151</td>\n      <td>152</td>\n      <td>153</td>\n      <td>154</td>\n      <td>157</td>\n      <td>159</td>\n      <td>159</td>\n      <td>156</td>\n      <td>156</td>\n      <td>155</td>\n      <td>154</td>\n    </tr>\n  </tbody>\n</table>\n<p>19502 rows × 13 columns</p>\n</div>"
     },
     "metadata": {},
     "execution_count": 40
    }
   ],
   "source": [
    "# Load an inspect population data\n",
    "\n",
    "population = pd.read_csv(\"population.csv\")\n",
    "population"
   ]
  },
  {
   "cell_type": "code",
   "execution_count": 41,
   "metadata": {},
   "outputs": [
    {
     "output_type": "execute_result",
     "data": {
      "text/plain": [
       "                       Location 2019 Population\n",
       "0       Abbeville city, Alabama           2,560\n",
       "1      Adamsville city, Alabama           4,281\n",
       "2         Addison town, Alabama             718\n",
       "3           Akron town, Alabama             328\n",
       "4       Alabaster city, Alabama          33,487\n",
       "...                         ...             ...\n",
       "19497   Wamsutter town, Wyoming             467\n",
       "19498   Wheatland town, Wyoming           3,462\n",
       "19499     Worland city, Wyoming           5,024\n",
       "19500      Wright town, Wyoming           1,753\n",
       "19501       Yoder town, Wyoming             154\n",
       "\n",
       "[19502 rows x 2 columns]"
      ],
      "text/html": "<div>\n<style scoped>\n    .dataframe tbody tr th:only-of-type {\n        vertical-align: middle;\n    }\n\n    .dataframe tbody tr th {\n        vertical-align: top;\n    }\n\n    .dataframe thead th {\n        text-align: right;\n    }\n</style>\n<table border=\"1\" class=\"dataframe\">\n  <thead>\n    <tr style=\"text-align: right;\">\n      <th></th>\n      <th>Location</th>\n      <th>2019 Population</th>\n    </tr>\n  </thead>\n  <tbody>\n    <tr>\n      <th>0</th>\n      <td>Abbeville city, Alabama</td>\n      <td>2,560</td>\n    </tr>\n    <tr>\n      <th>1</th>\n      <td>Adamsville city, Alabama</td>\n      <td>4,281</td>\n    </tr>\n    <tr>\n      <th>2</th>\n      <td>Addison town, Alabama</td>\n      <td>718</td>\n    </tr>\n    <tr>\n      <th>3</th>\n      <td>Akron town, Alabama</td>\n      <td>328</td>\n    </tr>\n    <tr>\n      <th>4</th>\n      <td>Alabaster city, Alabama</td>\n      <td>33,487</td>\n    </tr>\n    <tr>\n      <th>...</th>\n      <td>...</td>\n      <td>...</td>\n    </tr>\n    <tr>\n      <th>19497</th>\n      <td>Wamsutter town, Wyoming</td>\n      <td>467</td>\n    </tr>\n    <tr>\n      <th>19498</th>\n      <td>Wheatland town, Wyoming</td>\n      <td>3,462</td>\n    </tr>\n    <tr>\n      <th>19499</th>\n      <td>Worland city, Wyoming</td>\n      <td>5,024</td>\n    </tr>\n    <tr>\n      <th>19500</th>\n      <td>Wright town, Wyoming</td>\n      <td>1,753</td>\n    </tr>\n    <tr>\n      <th>19501</th>\n      <td>Yoder town, Wyoming</td>\n      <td>154</td>\n    </tr>\n  </tbody>\n</table>\n<p>19502 rows × 2 columns</p>\n</div>"
     },
     "metadata": {},
     "execution_count": 41
    }
   ],
   "source": [
    "# Drop columns from population data (or can create a copy with just location and 2019 population data)\n",
    "\n",
    "population = population.drop(['Census', 'Estimates Base', '2010', '2011', '2012', '2013', '2014', '2015', '2016', '2017', '2018'], axis=1)\n",
    "population\n",
    "\n",
    "# In Location column, after the name of the town or city it contains \"town\" or \"city\". Wrangle this out."
   ]
  },
  {
   "cell_type": "code",
   "execution_count": 42,
   "metadata": {},
   "outputs": [
    {
     "output_type": "execute_result",
     "data": {
      "text/plain": [
       "                       Location 2019 Population Town or City\n",
       "0       Abbeville city, Alabama           2,560         city\n",
       "1      Adamsville city, Alabama           4,281         city\n",
       "2         Addison town, Alabama             718         town\n",
       "3           Akron town, Alabama             328         town\n",
       "4       Alabaster city, Alabama          33,487         city\n",
       "...                         ...             ...          ...\n",
       "19497   Wamsutter town, Wyoming             467         town\n",
       "19498   Wheatland town, Wyoming           3,462         town\n",
       "19499     Worland city, Wyoming           5,024         city\n",
       "19500      Wright town, Wyoming           1,753         town\n",
       "19501       Yoder town, Wyoming             154         town\n",
       "\n",
       "[19502 rows x 3 columns]"
      ],
      "text/html": "<div>\n<style scoped>\n    .dataframe tbody tr th:only-of-type {\n        vertical-align: middle;\n    }\n\n    .dataframe tbody tr th {\n        vertical-align: top;\n    }\n\n    .dataframe thead th {\n        text-align: right;\n    }\n</style>\n<table border=\"1\" class=\"dataframe\">\n  <thead>\n    <tr style=\"text-align: right;\">\n      <th></th>\n      <th>Location</th>\n      <th>2019 Population</th>\n      <th>Town or City</th>\n    </tr>\n  </thead>\n  <tbody>\n    <tr>\n      <th>0</th>\n      <td>Abbeville city, Alabama</td>\n      <td>2,560</td>\n      <td>city</td>\n    </tr>\n    <tr>\n      <th>1</th>\n      <td>Adamsville city, Alabama</td>\n      <td>4,281</td>\n      <td>city</td>\n    </tr>\n    <tr>\n      <th>2</th>\n      <td>Addison town, Alabama</td>\n      <td>718</td>\n      <td>town</td>\n    </tr>\n    <tr>\n      <th>3</th>\n      <td>Akron town, Alabama</td>\n      <td>328</td>\n      <td>town</td>\n    </tr>\n    <tr>\n      <th>4</th>\n      <td>Alabaster city, Alabama</td>\n      <td>33,487</td>\n      <td>city</td>\n    </tr>\n    <tr>\n      <th>...</th>\n      <td>...</td>\n      <td>...</td>\n      <td>...</td>\n    </tr>\n    <tr>\n      <th>19497</th>\n      <td>Wamsutter town, Wyoming</td>\n      <td>467</td>\n      <td>town</td>\n    </tr>\n    <tr>\n      <th>19498</th>\n      <td>Wheatland town, Wyoming</td>\n      <td>3,462</td>\n      <td>town</td>\n    </tr>\n    <tr>\n      <th>19499</th>\n      <td>Worland city, Wyoming</td>\n      <td>5,024</td>\n      <td>city</td>\n    </tr>\n    <tr>\n      <th>19500</th>\n      <td>Wright town, Wyoming</td>\n      <td>1,753</td>\n      <td>town</td>\n    </tr>\n    <tr>\n      <th>19501</th>\n      <td>Yoder town, Wyoming</td>\n      <td>154</td>\n      <td>town</td>\n    </tr>\n  </tbody>\n</table>\n<p>19502 rows × 3 columns</p>\n</div>"
     },
     "metadata": {},
     "execution_count": 42
    }
   ],
   "source": [
    "# Create new column to specify if Location is city or town\n",
    "\n",
    "population[\"Town or City\"] = population['Location'].str.extract(\"(city|town)\")\n",
    "population"
   ]
  },
  {
   "cell_type": "code",
   "execution_count": 44,
   "metadata": {},
   "outputs": [
    {
     "output_type": "execute_result",
     "data": {
      "text/plain": [
       "                  Location 2019 Population Town or City\n",
       "0       Abbeville, Alabama           2,560         city\n",
       "1      Adamsville, Alabama           4,281         city\n",
       "2         Addison, Alabama             718         town\n",
       "3           Akron, Alabama             328         town\n",
       "4       Alabaster, Alabama          33,487         city\n",
       "...                    ...             ...          ...\n",
       "19497   Wamsutter, Wyoming             467         town\n",
       "19498   Wheatland, Wyoming           3,462         town\n",
       "19499     Worland, Wyoming           5,024         city\n",
       "19500      Wright, Wyoming           1,753         town\n",
       "19501       Yoder, Wyoming             154         town\n",
       "\n",
       "[19502 rows x 3 columns]"
      ],
      "text/html": "<div>\n<style scoped>\n    .dataframe tbody tr th:only-of-type {\n        vertical-align: middle;\n    }\n\n    .dataframe tbody tr th {\n        vertical-align: top;\n    }\n\n    .dataframe thead th {\n        text-align: right;\n    }\n</style>\n<table border=\"1\" class=\"dataframe\">\n  <thead>\n    <tr style=\"text-align: right;\">\n      <th></th>\n      <th>Location</th>\n      <th>2019 Population</th>\n      <th>Town or City</th>\n    </tr>\n  </thead>\n  <tbody>\n    <tr>\n      <th>0</th>\n      <td>Abbeville, Alabama</td>\n      <td>2,560</td>\n      <td>city</td>\n    </tr>\n    <tr>\n      <th>1</th>\n      <td>Adamsville, Alabama</td>\n      <td>4,281</td>\n      <td>city</td>\n    </tr>\n    <tr>\n      <th>2</th>\n      <td>Addison, Alabama</td>\n      <td>718</td>\n      <td>town</td>\n    </tr>\n    <tr>\n      <th>3</th>\n      <td>Akron, Alabama</td>\n      <td>328</td>\n      <td>town</td>\n    </tr>\n    <tr>\n      <th>4</th>\n      <td>Alabaster, Alabama</td>\n      <td>33,487</td>\n      <td>city</td>\n    </tr>\n    <tr>\n      <th>...</th>\n      <td>...</td>\n      <td>...</td>\n      <td>...</td>\n    </tr>\n    <tr>\n      <th>19497</th>\n      <td>Wamsutter, Wyoming</td>\n      <td>467</td>\n      <td>town</td>\n    </tr>\n    <tr>\n      <th>19498</th>\n      <td>Wheatland, Wyoming</td>\n      <td>3,462</td>\n      <td>town</td>\n    </tr>\n    <tr>\n      <th>19499</th>\n      <td>Worland, Wyoming</td>\n      <td>5,024</td>\n      <td>city</td>\n    </tr>\n    <tr>\n      <th>19500</th>\n      <td>Wright, Wyoming</td>\n      <td>1,753</td>\n      <td>town</td>\n    </tr>\n    <tr>\n      <th>19501</th>\n      <td>Yoder, Wyoming</td>\n      <td>154</td>\n      <td>town</td>\n    </tr>\n  </tbody>\n</table>\n<p>19502 rows × 3 columns</p>\n</div>"
     },
     "metadata": {},
     "execution_count": 44
    }
   ],
   "source": [
    "# Remove city and town strings from Location column so that the column can be used to join with other data\n",
    "\n",
    "population[\"Location\"] = population['Location'].str.replace(' city', '', regex=False)\n",
    "population[\"Location\"] = population['Location'].str.replace(' town', '', regex=False)\n",
    "\n",
    "population\n",
    "\n",
    "# Consider adding just a State column, having City and State columns separate"
   ]
  },
  {
   "cell_type": "code",
   "execution_count": 49,
   "metadata": {},
   "outputs": [
    {
     "output_type": "execute_result",
     "data": {
      "text/plain": [
       "      RegionID  RegionName  SizeRank               MsaName  2014-01  2014-02  \\\n",
       "0        61639       10025         1          New York, NY   3012.0   3025.0   \n",
       "1        84654       60657         2           Chicago, IL   1588.0   1594.0   \n",
       "2        61637       10023         3          New York, NY   3114.0   3123.0   \n",
       "3        91982       77494         4           Houston, TX   1759.0   1763.0   \n",
       "4        84616       60614         5           Chicago, IL   1740.0   1745.0   \n",
       "...        ...         ...       ...                   ...      ...      ...   \n",
       "3185     62321       11976      9253          New York, NY  63788.0      NaN   \n",
       "3186     58624        2110      9469            Boston, MA   4113.0   4105.0   \n",
       "3187     66128       20004      9592        Washington, DC      NaN      NaN   \n",
       "3188    399647       80951      9634  Colorado Springs, CO      NaN   1252.0   \n",
       "3189     62311       11964     10014          New York, NY      NaN      NaN   \n",
       "\n",
       "      2014-03  2014-04  2014-05  2014-06  ...  2020-02  2020-03  2020-04  \\\n",
       "0      3037.0   3049.0   3062.0   3074.0  ...   3268.0   3234.0   3199.0   \n",
       "1      1599.0   1605.0   1610.0   1615.0  ...   1834.0   1829.0   1824.0   \n",
       "2      3131.0   3140.0   3148.0   3156.0  ...   3307.0   3275.0   3244.0   \n",
       "3      1766.0   1770.0   1773.0   1776.0  ...   1775.0   1777.0   1780.0   \n",
       "4      1750.0   1755.0   1759.0   1764.0  ...   2023.0   2017.0   2010.0   \n",
       "...       ...      ...      ...      ...  ...      ...      ...      ...   \n",
       "3185      NaN      NaN      NaN      NaN  ...  49083.0  48860.0  48636.0   \n",
       "3186   4097.0   4089.0      NaN   4077.0  ...   4510.0      NaN      NaN   \n",
       "3187   2295.0   2304.0      NaN   2323.0  ...   2496.0   2494.0   2492.0   \n",
       "3188   1256.0   1260.0   1265.0   1269.0  ...      NaN   1656.0   1662.0   \n",
       "3189      NaN      NaN      NaN      NaN  ...      NaN  14504.0      NaN   \n",
       "\n",
       "      2020-05  2020-06  2020-07  2020-08  2020-09  2020-10  2020-11  \n",
       "0      3162.0   3125.0   3088.0   3048.0   3008.0   2968.0   2925.0  \n",
       "1      1818.0   1813.0   1807.0   1801.0   1795.0   1788.0   1781.0  \n",
       "2      3211.0   3178.0   3144.0   3108.0   3072.0   3035.0   2997.0  \n",
       "3      1782.0   1785.0   1788.0   1791.0   1794.0   1796.0   1799.0  \n",
       "4      2003.0   1995.0   1988.0   1979.0   1970.0   1962.0   1952.0  \n",
       "...       ...      ...      ...      ...      ...      ...      ...  \n",
       "3185      NaN      NaN      NaN      NaN      NaN      NaN  47911.0  \n",
       "3186   4350.0   4294.0   4239.0   4180.0   4121.0   4062.0   4002.0  \n",
       "3187   2490.0   2487.0   2484.0   2481.0   2478.0   2475.0   2471.0  \n",
       "3188   1669.0   1676.0   1683.0   1690.0   1697.0   1704.0   1712.0  \n",
       "3189  14463.0  14436.0      NaN      NaN      NaN      NaN      NaN  \n",
       "\n",
       "[3190 rows x 87 columns]"
      ],
      "text/html": "<div>\n<style scoped>\n    .dataframe tbody tr th:only-of-type {\n        vertical-align: middle;\n    }\n\n    .dataframe tbody tr th {\n        vertical-align: top;\n    }\n\n    .dataframe thead th {\n        text-align: right;\n    }\n</style>\n<table border=\"1\" class=\"dataframe\">\n  <thead>\n    <tr style=\"text-align: right;\">\n      <th></th>\n      <th>RegionID</th>\n      <th>RegionName</th>\n      <th>SizeRank</th>\n      <th>MsaName</th>\n      <th>2014-01</th>\n      <th>2014-02</th>\n      <th>2014-03</th>\n      <th>2014-04</th>\n      <th>2014-05</th>\n      <th>2014-06</th>\n      <th>...</th>\n      <th>2020-02</th>\n      <th>2020-03</th>\n      <th>2020-04</th>\n      <th>2020-05</th>\n      <th>2020-06</th>\n      <th>2020-07</th>\n      <th>2020-08</th>\n      <th>2020-09</th>\n      <th>2020-10</th>\n      <th>2020-11</th>\n    </tr>\n  </thead>\n  <tbody>\n    <tr>\n      <th>0</th>\n      <td>61639</td>\n      <td>10025</td>\n      <td>1</td>\n      <td>New York, NY</td>\n      <td>3012.0</td>\n      <td>3025.0</td>\n      <td>3037.0</td>\n      <td>3049.0</td>\n      <td>3062.0</td>\n      <td>3074.0</td>\n      <td>...</td>\n      <td>3268.0</td>\n      <td>3234.0</td>\n      <td>3199.0</td>\n      <td>3162.0</td>\n      <td>3125.0</td>\n      <td>3088.0</td>\n      <td>3048.0</td>\n      <td>3008.0</td>\n      <td>2968.0</td>\n      <td>2925.0</td>\n    </tr>\n    <tr>\n      <th>1</th>\n      <td>84654</td>\n      <td>60657</td>\n      <td>2</td>\n      <td>Chicago, IL</td>\n      <td>1588.0</td>\n      <td>1594.0</td>\n      <td>1599.0</td>\n      <td>1605.0</td>\n      <td>1610.0</td>\n      <td>1615.0</td>\n      <td>...</td>\n      <td>1834.0</td>\n      <td>1829.0</td>\n      <td>1824.0</td>\n      <td>1818.0</td>\n      <td>1813.0</td>\n      <td>1807.0</td>\n      <td>1801.0</td>\n      <td>1795.0</td>\n      <td>1788.0</td>\n      <td>1781.0</td>\n    </tr>\n    <tr>\n      <th>2</th>\n      <td>61637</td>\n      <td>10023</td>\n      <td>3</td>\n      <td>New York, NY</td>\n      <td>3114.0</td>\n      <td>3123.0</td>\n      <td>3131.0</td>\n      <td>3140.0</td>\n      <td>3148.0</td>\n      <td>3156.0</td>\n      <td>...</td>\n      <td>3307.0</td>\n      <td>3275.0</td>\n      <td>3244.0</td>\n      <td>3211.0</td>\n      <td>3178.0</td>\n      <td>3144.0</td>\n      <td>3108.0</td>\n      <td>3072.0</td>\n      <td>3035.0</td>\n      <td>2997.0</td>\n    </tr>\n    <tr>\n      <th>3</th>\n      <td>91982</td>\n      <td>77494</td>\n      <td>4</td>\n      <td>Houston, TX</td>\n      <td>1759.0</td>\n      <td>1763.0</td>\n      <td>1766.0</td>\n      <td>1770.0</td>\n      <td>1773.0</td>\n      <td>1776.0</td>\n      <td>...</td>\n      <td>1775.0</td>\n      <td>1777.0</td>\n      <td>1780.0</td>\n      <td>1782.0</td>\n      <td>1785.0</td>\n      <td>1788.0</td>\n      <td>1791.0</td>\n      <td>1794.0</td>\n      <td>1796.0</td>\n      <td>1799.0</td>\n    </tr>\n    <tr>\n      <th>4</th>\n      <td>84616</td>\n      <td>60614</td>\n      <td>5</td>\n      <td>Chicago, IL</td>\n      <td>1740.0</td>\n      <td>1745.0</td>\n      <td>1750.0</td>\n      <td>1755.0</td>\n      <td>1759.0</td>\n      <td>1764.0</td>\n      <td>...</td>\n      <td>2023.0</td>\n      <td>2017.0</td>\n      <td>2010.0</td>\n      <td>2003.0</td>\n      <td>1995.0</td>\n      <td>1988.0</td>\n      <td>1979.0</td>\n      <td>1970.0</td>\n      <td>1962.0</td>\n      <td>1952.0</td>\n    </tr>\n    <tr>\n      <th>...</th>\n      <td>...</td>\n      <td>...</td>\n      <td>...</td>\n      <td>...</td>\n      <td>...</td>\n      <td>...</td>\n      <td>...</td>\n      <td>...</td>\n      <td>...</td>\n      <td>...</td>\n      <td>...</td>\n      <td>...</td>\n      <td>...</td>\n      <td>...</td>\n      <td>...</td>\n      <td>...</td>\n      <td>...</td>\n      <td>...</td>\n      <td>...</td>\n      <td>...</td>\n      <td>...</td>\n    </tr>\n    <tr>\n      <th>3185</th>\n      <td>62321</td>\n      <td>11976</td>\n      <td>9253</td>\n      <td>New York, NY</td>\n      <td>63788.0</td>\n      <td>NaN</td>\n      <td>NaN</td>\n      <td>NaN</td>\n      <td>NaN</td>\n      <td>NaN</td>\n      <td>...</td>\n      <td>49083.0</td>\n      <td>48860.0</td>\n      <td>48636.0</td>\n      <td>NaN</td>\n      <td>NaN</td>\n      <td>NaN</td>\n      <td>NaN</td>\n      <td>NaN</td>\n      <td>NaN</td>\n      <td>47911.0</td>\n    </tr>\n    <tr>\n      <th>3186</th>\n      <td>58624</td>\n      <td>2110</td>\n      <td>9469</td>\n      <td>Boston, MA</td>\n      <td>4113.0</td>\n      <td>4105.0</td>\n      <td>4097.0</td>\n      <td>4089.0</td>\n      <td>NaN</td>\n      <td>4077.0</td>\n      <td>...</td>\n      <td>4510.0</td>\n      <td>NaN</td>\n      <td>NaN</td>\n      <td>4350.0</td>\n      <td>4294.0</td>\n      <td>4239.0</td>\n      <td>4180.0</td>\n      <td>4121.0</td>\n      <td>4062.0</td>\n      <td>4002.0</td>\n    </tr>\n    <tr>\n      <th>3187</th>\n      <td>66128</td>\n      <td>20004</td>\n      <td>9592</td>\n      <td>Washington, DC</td>\n      <td>NaN</td>\n      <td>NaN</td>\n      <td>2295.0</td>\n      <td>2304.0</td>\n      <td>NaN</td>\n      <td>2323.0</td>\n      <td>...</td>\n      <td>2496.0</td>\n      <td>2494.0</td>\n      <td>2492.0</td>\n      <td>2490.0</td>\n      <td>2487.0</td>\n      <td>2484.0</td>\n      <td>2481.0</td>\n      <td>2478.0</td>\n      <td>2475.0</td>\n      <td>2471.0</td>\n    </tr>\n    <tr>\n      <th>3188</th>\n      <td>399647</td>\n      <td>80951</td>\n      <td>9634</td>\n      <td>Colorado Springs, CO</td>\n      <td>NaN</td>\n      <td>1252.0</td>\n      <td>1256.0</td>\n      <td>1260.0</td>\n      <td>1265.0</td>\n      <td>1269.0</td>\n      <td>...</td>\n      <td>NaN</td>\n      <td>1656.0</td>\n      <td>1662.0</td>\n      <td>1669.0</td>\n      <td>1676.0</td>\n      <td>1683.0</td>\n      <td>1690.0</td>\n      <td>1697.0</td>\n      <td>1704.0</td>\n      <td>1712.0</td>\n    </tr>\n    <tr>\n      <th>3189</th>\n      <td>62311</td>\n      <td>11964</td>\n      <td>10014</td>\n      <td>New York, NY</td>\n      <td>NaN</td>\n      <td>NaN</td>\n      <td>NaN</td>\n      <td>NaN</td>\n      <td>NaN</td>\n      <td>NaN</td>\n      <td>...</td>\n      <td>NaN</td>\n      <td>14504.0</td>\n      <td>NaN</td>\n      <td>14463.0</td>\n      <td>14436.0</td>\n      <td>NaN</td>\n      <td>NaN</td>\n      <td>NaN</td>\n      <td>NaN</td>\n      <td>NaN</td>\n    </tr>\n  </tbody>\n</table>\n<p>3190 rows × 87 columns</p>\n</div>"
     },
     "metadata": {},
     "execution_count": 49
    }
   ],
   "source": [
    "# Load and inspect rental rates data\n",
    "\n",
    "rent = pd.read_csv(\"rental_rates.csv\")\n",
    "rent"
   ]
  },
  {
   "cell_type": "code",
   "execution_count": 38,
   "metadata": {},
   "outputs": [],
   "source": [
    "#rent = rent.drop(['RegionID', 'RegionName', 'SizeRank', '2014-01', '2014-02', '2014-03', '2014-04', ...], axis=1)"
   ]
  },
  {
   "cell_type": "code",
   "execution_count": 50,
   "metadata": {},
   "outputs": [
    {
     "output_type": "execute_result",
     "data": {
      "text/plain": [
       "                  Location  2019 Rental Rates\n",
       "0             New York, NY             3311.0\n",
       "1              Chicago, IL             1838.0\n",
       "2             New York, NY             3344.0\n",
       "3              Houston, TX             1772.0\n",
       "4              Chicago, IL             2028.0\n",
       "...                    ...                ...\n",
       "3185          New York, NY            50175.0\n",
       "3186            Boston, MA             4585.0\n",
       "3187        Washington, DC             2495.0\n",
       "3188  Colorado Springs, CO             1640.0\n",
       "3189          New York, NY            14553.0\n",
       "\n",
       "[3190 rows x 2 columns]"
      ],
      "text/html": "<div>\n<style scoped>\n    .dataframe tbody tr th:only-of-type {\n        vertical-align: middle;\n    }\n\n    .dataframe tbody tr th {\n        vertical-align: top;\n    }\n\n    .dataframe thead th {\n        text-align: right;\n    }\n</style>\n<table border=\"1\" class=\"dataframe\">\n  <thead>\n    <tr style=\"text-align: right;\">\n      <th></th>\n      <th>Location</th>\n      <th>2019 Rental Rates</th>\n    </tr>\n  </thead>\n  <tbody>\n    <tr>\n      <th>0</th>\n      <td>New York, NY</td>\n      <td>3311.0</td>\n    </tr>\n    <tr>\n      <th>1</th>\n      <td>Chicago, IL</td>\n      <td>1838.0</td>\n    </tr>\n    <tr>\n      <th>2</th>\n      <td>New York, NY</td>\n      <td>3344.0</td>\n    </tr>\n    <tr>\n      <th>3</th>\n      <td>Houston, TX</td>\n      <td>1772.0</td>\n    </tr>\n    <tr>\n      <th>4</th>\n      <td>Chicago, IL</td>\n      <td>2028.0</td>\n    </tr>\n    <tr>\n      <th>...</th>\n      <td>...</td>\n      <td>...</td>\n    </tr>\n    <tr>\n      <th>3185</th>\n      <td>New York, NY</td>\n      <td>50175.0</td>\n    </tr>\n    <tr>\n      <th>3186</th>\n      <td>Boston, MA</td>\n      <td>4585.0</td>\n    </tr>\n    <tr>\n      <th>3187</th>\n      <td>Washington, DC</td>\n      <td>2495.0</td>\n    </tr>\n    <tr>\n      <th>3188</th>\n      <td>Colorado Springs, CO</td>\n      <td>1640.0</td>\n    </tr>\n    <tr>\n      <th>3189</th>\n      <td>New York, NY</td>\n      <td>14553.0</td>\n    </tr>\n  </tbody>\n</table>\n<p>3190 rows × 2 columns</p>\n</div>"
     },
     "metadata": {},
     "execution_count": 50
    }
   ],
   "source": [
    "# Create copy of rental rates dataframe and change column names\n",
    "\n",
    "rent = rent[['MsaName','2019-12']].copy()\n",
    "rent = rent.rename(columns = {\"MsaName\":\"Location\"})\n",
    "rent = rent.rename(columns = {\"2019-12\":\"2019 Rental Rates\"})\n",
    "rent"
   ]
  },
  {
   "cell_type": "code",
   "execution_count": 51,
   "metadata": {},
   "outputs": [
    {
     "output_type": "execute_result",
     "data": {
      "text/plain": [
       "                              Location  2019 Rental Rates\n",
       "0                   New York, New York             3311.0\n",
       "1                    Chicago, Illinois             1838.0\n",
       "2                   New York, New York             3344.0\n",
       "3                       Houston, Texas             1772.0\n",
       "4                    Chicago, Illinois             2028.0\n",
       "...                                ...                ...\n",
       "3185                New York, New York            50175.0\n",
       "3186             Boston, Massachusetts             4585.0\n",
       "3187  Washington, District of Columbia             2495.0\n",
       "3188        Colorado Springs, Colorado             1640.0\n",
       "3189                New York, New York            14553.0\n",
       "\n",
       "[3190 rows x 2 columns]"
      ],
      "text/html": "<div>\n<style scoped>\n    .dataframe tbody tr th:only-of-type {\n        vertical-align: middle;\n    }\n\n    .dataframe tbody tr th {\n        vertical-align: top;\n    }\n\n    .dataframe thead th {\n        text-align: right;\n    }\n</style>\n<table border=\"1\" class=\"dataframe\">\n  <thead>\n    <tr style=\"text-align: right;\">\n      <th></th>\n      <th>Location</th>\n      <th>2019 Rental Rates</th>\n    </tr>\n  </thead>\n  <tbody>\n    <tr>\n      <th>0</th>\n      <td>New York, New York</td>\n      <td>3311.0</td>\n    </tr>\n    <tr>\n      <th>1</th>\n      <td>Chicago, Illinois</td>\n      <td>1838.0</td>\n    </tr>\n    <tr>\n      <th>2</th>\n      <td>New York, New York</td>\n      <td>3344.0</td>\n    </tr>\n    <tr>\n      <th>3</th>\n      <td>Houston, Texas</td>\n      <td>1772.0</td>\n    </tr>\n    <tr>\n      <th>4</th>\n      <td>Chicago, Illinois</td>\n      <td>2028.0</td>\n    </tr>\n    <tr>\n      <th>...</th>\n      <td>...</td>\n      <td>...</td>\n    </tr>\n    <tr>\n      <th>3185</th>\n      <td>New York, New York</td>\n      <td>50175.0</td>\n    </tr>\n    <tr>\n      <th>3186</th>\n      <td>Boston, Massachusetts</td>\n      <td>4585.0</td>\n    </tr>\n    <tr>\n      <th>3187</th>\n      <td>Washington, District of Columbia</td>\n      <td>2495.0</td>\n    </tr>\n    <tr>\n      <th>3188</th>\n      <td>Colorado Springs, Colorado</td>\n      <td>1640.0</td>\n    </tr>\n    <tr>\n      <th>3189</th>\n      <td>New York, New York</td>\n      <td>14553.0</td>\n    </tr>\n  </tbody>\n</table>\n<p>3190 rows × 2 columns</p>\n</div>"
     },
     "metadata": {},
     "execution_count": 51
    }
   ],
   "source": [
    "# Replace abbreviations with full state names\n",
    "\n",
    "rent[\"Location\"] = rent['Location'].str.replace('AK', 'Alaska', regex=False)\n",
    "rent[\"Location\"] = rent['Location'].str.replace('AL', 'Alabama', regex=False)\n",
    "rent[\"Location\"] = rent['Location'].str.replace('AR', 'Arkansas', regex=False)\n",
    "rent[\"Location\"] = rent['Location'].str.replace('AS', 'American Samoa', regex=False)\n",
    "rent[\"Location\"] = rent['Location'].str.replace('AZ', 'Arizona', regex=False)\n",
    "rent[\"Location\"] = rent['Location'].str.replace('CA', 'California', regex=False)\n",
    "rent[\"Location\"] = rent['Location'].str.replace('CO', 'Colorado', regex=False)\n",
    "rent[\"Location\"] = rent['Location'].str.replace('CT', 'Connecticut', regex=False)\n",
    "rent[\"Location\"] = rent['Location'].str.replace('DC', 'District of Columbia', regex=False)\n",
    "rent[\"Location\"] = rent['Location'].str.replace('DE', 'Delaware', regex=False)\n",
    "rent[\"Location\"] = rent['Location'].str.replace('FL', 'Florida', regex=False)\n",
    "rent[\"Location\"] = rent['Location'].str.replace('GA', 'Georgia', regex=False)\n",
    "rent[\"Location\"] = rent['Location'].str.replace('GU', 'Guam', regex=False)\n",
    "rent[\"Location\"] = rent['Location'].str.replace('HI', 'Hawaii', regex=False)\n",
    "rent[\"Location\"] = rent['Location'].str.replace('IA', 'Iowa', regex=False)\n",
    "rent[\"Location\"] = rent['Location'].str.replace('ID', 'Idaho', regex=False)\n",
    "rent[\"Location\"] = rent['Location'].str.replace('IL', 'Illinois', regex=False)\n",
    "rent[\"Location\"] = rent['Location'].str.replace('IN', 'Indiana', regex=False)\n",
    "rent[\"Location\"] = rent['Location'].str.replace('KS', 'Kansas', regex=False)\n",
    "rent[\"Location\"] = rent['Location'].str.replace('KY', 'Kentucky', regex=False)\n",
    "rent[\"Location\"] = rent['Location'].str.replace('LA', 'Louisiana', regex=False)\n",
    "rent[\"Location\"] = rent['Location'].str.replace('MA', 'Massachusetts', regex=False)\n",
    "rent[\"Location\"] = rent['Location'].str.replace('MD', 'Maryland', regex=False)\n",
    "rent[\"Location\"] = rent['Location'].str.replace('ME', 'Maine', regex=False)\n",
    "rent[\"Location\"] = rent['Location'].str.replace('MI', 'Michigan', regex=False)\n",
    "rent[\"Location\"] = rent['Location'].str.replace('MN', 'Minnesota', regex=False)\n",
    "rent[\"Location\"] = rent['Location'].str.replace('MO', 'Missouri', regex=False)\n",
    "rent[\"Location\"] = rent['Location'].str.replace('MP', 'Northern Mariana Islands', regex=False)\n",
    "rent[\"Location\"] = rent['Location'].str.replace('MS', 'Mississippi', regex=False)\n",
    "rent[\"Location\"] = rent['Location'].str.replace('MT', 'Montana', regex=False)\n",
    "rent[\"Location\"] = rent['Location'].str.replace('NA', 'National', regex=False)\n",
    "rent[\"Location\"] = rent['Location'].str.replace('NC', 'North Carolina', regex=False)\n",
    "rent[\"Location\"] = rent['Location'].str.replace('ND', 'North Dakota', regex=False)\n",
    "rent[\"Location\"] = rent['Location'].str.replace('NE', 'Nebraska', regex=False)\n",
    "rent[\"Location\"] = rent['Location'].str.replace('NH', 'New Hampshire', regex=False)\n",
    "rent[\"Location\"] = rent['Location'].str.replace('NJ', 'New Jersey', regex=False)\n",
    "rent[\"Location\"] = rent['Location'].str.replace('NM', 'New Mexico', regex=False)\n",
    "rent[\"Location\"] = rent['Location'].str.replace('NV', 'Nevada', regex=False)\n",
    "rent[\"Location\"] = rent['Location'].str.replace('NY', 'New York', regex=False)\n",
    "rent[\"Location\"] = rent['Location'].str.replace('OH', 'Ohio', regex=False)\n",
    "rent[\"Location\"] = rent['Location'].str.replace('OK', 'Oklahoma', regex=False)\n",
    "rent[\"Location\"] = rent['Location'].str.replace('OR', 'Oregon', regex=False)\n",
    "rent[\"Location\"] = rent['Location'].str.replace('PA', 'Pennsylvania', regex=False)\n",
    "rent[\"Location\"] = rent['Location'].str.replace('PR', 'Puerto Rico', regex=False)\n",
    "rent[\"Location\"] = rent['Location'].str.replace('RI', 'Rhode Island', regex=False)\n",
    "rent[\"Location\"] = rent['Location'].str.replace('SC', 'South Carolina', regex=False)\n",
    "rent[\"Location\"] = rent['Location'].str.replace('SD', 'South Dakota', regex=False)\n",
    "rent[\"Location\"] = rent['Location'].str.replace('TN', 'Tennessee', regex=False)\n",
    "rent[\"Location\"] = rent['Location'].str.replace('TX', 'Texas', regex=False)\n",
    "rent[\"Location\"] = rent['Location'].str.replace('UT', 'Utah', regex=False)\n",
    "rent[\"Location\"] = rent['Location'].str.replace('VA', 'Virginia', regex=False)\n",
    "rent[\"Location\"] = rent['Location'].str.replace('VI', 'Virgin Islands', regex=False)\n",
    "rent[\"Location\"] = rent['Location'].str.replace('VT', 'Vermont', regex=False)\n",
    "rent[\"Location\"] = rent['Location'].str.replace('WA', 'Washington', regex=False)\n",
    "rent[\"Location\"] = rent['Location'].str.replace('WI', 'Wisconsin', regex=False)\n",
    "rent[\"Location\"] = rent['Location'].str.replace('WV', 'West Virginia', regex=False)\n",
    "rent[\"Location\"] = rent['Location'].str.replace('WY', 'Wyoming', regex=False)\n",
    "rent"
   ]
  },
  {
   "cell_type": "code",
   "execution_count": 52,
   "metadata": {},
   "outputs": [
    {
     "output_type": "execute_result",
     "data": {
      "text/plain": [
       "        State                 City Population Violent crime  \\\n",
       "0     Alabama               Hoover     85,670           114   \n",
       "1      Alaska            Anchorage    287,731         3,581   \n",
       "2      Alaska               Bethel      6,544           130   \n",
       "3      Alaska  Bristol Bay Borough        852             2   \n",
       "4      Alaska              Cordova      2,150             0   \n",
       "...       ...                  ...        ...           ...   \n",
       "8100  Wyoming             Sheridan     17,895             9   \n",
       "8101  Wyoming          Thermopolis      2,830            13   \n",
       "8102  Wyoming           Torrington      6,709            13   \n",
       "8103  Wyoming            Wheatland      3,544             7   \n",
       "8104  Wyoming              Worland      5,026             8   \n",
       "\n",
       "      Murder and nonnegligent manslaughter Rape Robbery Aggravated assault  \\\n",
       "0                                      4.0   15      27                 68   \n",
       "1                                     32.0  540     621              2,388   \n",
       "2                                      1.0   47       3                 79   \n",
       "3                                      0.0    0       0                  2   \n",
       "4                                      0.0    0       0                  0   \n",
       "...                                    ...  ...     ...                ...   \n",
       "8100                                   0.0    4       0                  5   \n",
       "8101                                   0.0    0       0                 13   \n",
       "8102                                   0.0    4       1                  8   \n",
       "8103                                   0.0    1       0                  6   \n",
       "8104                                   0.0    5       0                  3   \n",
       "\n",
       "     Property crime Burglary Larceny-theft Motor vehicle theft Arson  \n",
       "0             1,922      128         1,694                 100     2  \n",
       "1            12,261    1,692         9,038               1,531    93  \n",
       "2               132       20            84                  28    12  \n",
       "3                20        5             8                   7     0  \n",
       "4                 7        1             6                   0     0  \n",
       "...             ...      ...           ...                 ...   ...  \n",
       "8100            369       75           278                  16     3  \n",
       "8101             34        7            22                   5     0  \n",
       "8102             48        8            40                   0     0  \n",
       "8103             72       24            45                   3     0  \n",
       "8104             36        6            30                   0     0  \n",
       "\n",
       "[8105 rows x 13 columns]"
      ],
      "text/html": "<div>\n<style scoped>\n    .dataframe tbody tr th:only-of-type {\n        vertical-align: middle;\n    }\n\n    .dataframe tbody tr th {\n        vertical-align: top;\n    }\n\n    .dataframe thead th {\n        text-align: right;\n    }\n</style>\n<table border=\"1\" class=\"dataframe\">\n  <thead>\n    <tr style=\"text-align: right;\">\n      <th></th>\n      <th>State</th>\n      <th>City</th>\n      <th>Population</th>\n      <th>Violent crime</th>\n      <th>Murder and nonnegligent manslaughter</th>\n      <th>Rape</th>\n      <th>Robbery</th>\n      <th>Aggravated assault</th>\n      <th>Property crime</th>\n      <th>Burglary</th>\n      <th>Larceny-theft</th>\n      <th>Motor vehicle theft</th>\n      <th>Arson</th>\n    </tr>\n  </thead>\n  <tbody>\n    <tr>\n      <th>0</th>\n      <td>Alabama</td>\n      <td>Hoover</td>\n      <td>85,670</td>\n      <td>114</td>\n      <td>4.0</td>\n      <td>15</td>\n      <td>27</td>\n      <td>68</td>\n      <td>1,922</td>\n      <td>128</td>\n      <td>1,694</td>\n      <td>100</td>\n      <td>2</td>\n    </tr>\n    <tr>\n      <th>1</th>\n      <td>Alaska</td>\n      <td>Anchorage</td>\n      <td>287,731</td>\n      <td>3,581</td>\n      <td>32.0</td>\n      <td>540</td>\n      <td>621</td>\n      <td>2,388</td>\n      <td>12,261</td>\n      <td>1,692</td>\n      <td>9,038</td>\n      <td>1,531</td>\n      <td>93</td>\n    </tr>\n    <tr>\n      <th>2</th>\n      <td>Alaska</td>\n      <td>Bethel</td>\n      <td>6,544</td>\n      <td>130</td>\n      <td>1.0</td>\n      <td>47</td>\n      <td>3</td>\n      <td>79</td>\n      <td>132</td>\n      <td>20</td>\n      <td>84</td>\n      <td>28</td>\n      <td>12</td>\n    </tr>\n    <tr>\n      <th>3</th>\n      <td>Alaska</td>\n      <td>Bristol Bay Borough</td>\n      <td>852</td>\n      <td>2</td>\n      <td>0.0</td>\n      <td>0</td>\n      <td>0</td>\n      <td>2</td>\n      <td>20</td>\n      <td>5</td>\n      <td>8</td>\n      <td>7</td>\n      <td>0</td>\n    </tr>\n    <tr>\n      <th>4</th>\n      <td>Alaska</td>\n      <td>Cordova</td>\n      <td>2,150</td>\n      <td>0</td>\n      <td>0.0</td>\n      <td>0</td>\n      <td>0</td>\n      <td>0</td>\n      <td>7</td>\n      <td>1</td>\n      <td>6</td>\n      <td>0</td>\n      <td>0</td>\n    </tr>\n    <tr>\n      <th>...</th>\n      <td>...</td>\n      <td>...</td>\n      <td>...</td>\n      <td>...</td>\n      <td>...</td>\n      <td>...</td>\n      <td>...</td>\n      <td>...</td>\n      <td>...</td>\n      <td>...</td>\n      <td>...</td>\n      <td>...</td>\n      <td>...</td>\n    </tr>\n    <tr>\n      <th>8100</th>\n      <td>Wyoming</td>\n      <td>Sheridan</td>\n      <td>17,895</td>\n      <td>9</td>\n      <td>0.0</td>\n      <td>4</td>\n      <td>0</td>\n      <td>5</td>\n      <td>369</td>\n      <td>75</td>\n      <td>278</td>\n      <td>16</td>\n      <td>3</td>\n    </tr>\n    <tr>\n      <th>8101</th>\n      <td>Wyoming</td>\n      <td>Thermopolis</td>\n      <td>2,830</td>\n      <td>13</td>\n      <td>0.0</td>\n      <td>0</td>\n      <td>0</td>\n      <td>13</td>\n      <td>34</td>\n      <td>7</td>\n      <td>22</td>\n      <td>5</td>\n      <td>0</td>\n    </tr>\n    <tr>\n      <th>8102</th>\n      <td>Wyoming</td>\n      <td>Torrington</td>\n      <td>6,709</td>\n      <td>13</td>\n      <td>0.0</td>\n      <td>4</td>\n      <td>1</td>\n      <td>8</td>\n      <td>48</td>\n      <td>8</td>\n      <td>40</td>\n      <td>0</td>\n      <td>0</td>\n    </tr>\n    <tr>\n      <th>8103</th>\n      <td>Wyoming</td>\n      <td>Wheatland</td>\n      <td>3,544</td>\n      <td>7</td>\n      <td>0.0</td>\n      <td>1</td>\n      <td>0</td>\n      <td>6</td>\n      <td>72</td>\n      <td>24</td>\n      <td>45</td>\n      <td>3</td>\n      <td>0</td>\n    </tr>\n    <tr>\n      <th>8104</th>\n      <td>Wyoming</td>\n      <td>Worland</td>\n      <td>5,026</td>\n      <td>8</td>\n      <td>0.0</td>\n      <td>5</td>\n      <td>0</td>\n      <td>3</td>\n      <td>36</td>\n      <td>6</td>\n      <td>30</td>\n      <td>0</td>\n      <td>0</td>\n    </tr>\n  </tbody>\n</table>\n<p>8105 rows × 13 columns</p>\n</div>"
     },
     "metadata": {},
     "execution_count": 52
    }
   ],
   "source": [
    "# Load and inspect crime rates data (need to replicate state for every city)\n",
    "\n",
    "crime = pd.read_csv(\"crime_rates.csv\")\n",
    "crime"
   ]
  },
  {
   "cell_type": "code",
   "execution_count": 53,
   "metadata": {},
   "outputs": [
    {
     "output_type": "execute_result",
     "data": {
      "text/plain": [
       "        State                 City Population Violent crime  \\\n",
       "0     Alabama               Hoover     85,670           114   \n",
       "1      Alaska            Anchorage    287,731         3,581   \n",
       "2      Alaska               Bethel      6,544           130   \n",
       "3      Alaska  Bristol Bay Borough        852             2   \n",
       "4      Alaska              Cordova      2,150             0   \n",
       "...       ...                  ...        ...           ...   \n",
       "8100  Wyoming             Sheridan     17,895             9   \n",
       "8101  Wyoming          Thermopolis      2,830            13   \n",
       "8102  Wyoming           Torrington      6,709            13   \n",
       "8103  Wyoming            Wheatland      3,544             7   \n",
       "8104  Wyoming              Worland      5,026             8   \n",
       "\n",
       "      Murder and nonnegligent manslaughter Rape Robbery Aggravated assault  \\\n",
       "0                                      4.0   15      27                 68   \n",
       "1                                     32.0  540     621              2,388   \n",
       "2                                      1.0   47       3                 79   \n",
       "3                                      0.0    0       0                  2   \n",
       "4                                      0.0    0       0                  0   \n",
       "...                                    ...  ...     ...                ...   \n",
       "8100                                   0.0    4       0                  5   \n",
       "8101                                   0.0    0       0                 13   \n",
       "8102                                   0.0    4       1                  8   \n",
       "8103                                   0.0    1       0                  6   \n",
       "8104                                   0.0    5       0                  3   \n",
       "\n",
       "     Property crime Burglary Larceny-theft Motor vehicle theft Arson  \\\n",
       "0             1,922      128         1,694                 100     2   \n",
       "1            12,261    1,692         9,038               1,531    93   \n",
       "2               132       20            84                  28    12   \n",
       "3                20        5             8                   7     0   \n",
       "4                 7        1             6                   0     0   \n",
       "...             ...      ...           ...                 ...   ...   \n",
       "8100            369       75           278                  16     3   \n",
       "8101             34        7            22                   5     0   \n",
       "8102             48        8            40                   0     0   \n",
       "8103             72       24            45                   3     0   \n",
       "8104             36        6            30                   0     0   \n",
       "\n",
       "                         Location  \n",
       "0                 Hoover, Alabama  \n",
       "1               Anchorage, Alaska  \n",
       "2                  Bethel, Alaska  \n",
       "3     Bristol Bay Borough, Alaska  \n",
       "4                 Cordova, Alaska  \n",
       "...                           ...  \n",
       "8100            Sheridan, Wyoming  \n",
       "8101         Thermopolis, Wyoming  \n",
       "8102          Torrington, Wyoming  \n",
       "8103           Wheatland, Wyoming  \n",
       "8104             Worland, Wyoming  \n",
       "\n",
       "[8105 rows x 14 columns]"
      ],
      "text/html": "<div>\n<style scoped>\n    .dataframe tbody tr th:only-of-type {\n        vertical-align: middle;\n    }\n\n    .dataframe tbody tr th {\n        vertical-align: top;\n    }\n\n    .dataframe thead th {\n        text-align: right;\n    }\n</style>\n<table border=\"1\" class=\"dataframe\">\n  <thead>\n    <tr style=\"text-align: right;\">\n      <th></th>\n      <th>State</th>\n      <th>City</th>\n      <th>Population</th>\n      <th>Violent crime</th>\n      <th>Murder and nonnegligent manslaughter</th>\n      <th>Rape</th>\n      <th>Robbery</th>\n      <th>Aggravated assault</th>\n      <th>Property crime</th>\n      <th>Burglary</th>\n      <th>Larceny-theft</th>\n      <th>Motor vehicle theft</th>\n      <th>Arson</th>\n      <th>Location</th>\n    </tr>\n  </thead>\n  <tbody>\n    <tr>\n      <th>0</th>\n      <td>Alabama</td>\n      <td>Hoover</td>\n      <td>85,670</td>\n      <td>114</td>\n      <td>4.0</td>\n      <td>15</td>\n      <td>27</td>\n      <td>68</td>\n      <td>1,922</td>\n      <td>128</td>\n      <td>1,694</td>\n      <td>100</td>\n      <td>2</td>\n      <td>Hoover, Alabama</td>\n    </tr>\n    <tr>\n      <th>1</th>\n      <td>Alaska</td>\n      <td>Anchorage</td>\n      <td>287,731</td>\n      <td>3,581</td>\n      <td>32.0</td>\n      <td>540</td>\n      <td>621</td>\n      <td>2,388</td>\n      <td>12,261</td>\n      <td>1,692</td>\n      <td>9,038</td>\n      <td>1,531</td>\n      <td>93</td>\n      <td>Anchorage, Alaska</td>\n    </tr>\n    <tr>\n      <th>2</th>\n      <td>Alaska</td>\n      <td>Bethel</td>\n      <td>6,544</td>\n      <td>130</td>\n      <td>1.0</td>\n      <td>47</td>\n      <td>3</td>\n      <td>79</td>\n      <td>132</td>\n      <td>20</td>\n      <td>84</td>\n      <td>28</td>\n      <td>12</td>\n      <td>Bethel, Alaska</td>\n    </tr>\n    <tr>\n      <th>3</th>\n      <td>Alaska</td>\n      <td>Bristol Bay Borough</td>\n      <td>852</td>\n      <td>2</td>\n      <td>0.0</td>\n      <td>0</td>\n      <td>0</td>\n      <td>2</td>\n      <td>20</td>\n      <td>5</td>\n      <td>8</td>\n      <td>7</td>\n      <td>0</td>\n      <td>Bristol Bay Borough, Alaska</td>\n    </tr>\n    <tr>\n      <th>4</th>\n      <td>Alaska</td>\n      <td>Cordova</td>\n      <td>2,150</td>\n      <td>0</td>\n      <td>0.0</td>\n      <td>0</td>\n      <td>0</td>\n      <td>0</td>\n      <td>7</td>\n      <td>1</td>\n      <td>6</td>\n      <td>0</td>\n      <td>0</td>\n      <td>Cordova, Alaska</td>\n    </tr>\n    <tr>\n      <th>...</th>\n      <td>...</td>\n      <td>...</td>\n      <td>...</td>\n      <td>...</td>\n      <td>...</td>\n      <td>...</td>\n      <td>...</td>\n      <td>...</td>\n      <td>...</td>\n      <td>...</td>\n      <td>...</td>\n      <td>...</td>\n      <td>...</td>\n      <td>...</td>\n    </tr>\n    <tr>\n      <th>8100</th>\n      <td>Wyoming</td>\n      <td>Sheridan</td>\n      <td>17,895</td>\n      <td>9</td>\n      <td>0.0</td>\n      <td>4</td>\n      <td>0</td>\n      <td>5</td>\n      <td>369</td>\n      <td>75</td>\n      <td>278</td>\n      <td>16</td>\n      <td>3</td>\n      <td>Sheridan, Wyoming</td>\n    </tr>\n    <tr>\n      <th>8101</th>\n      <td>Wyoming</td>\n      <td>Thermopolis</td>\n      <td>2,830</td>\n      <td>13</td>\n      <td>0.0</td>\n      <td>0</td>\n      <td>0</td>\n      <td>13</td>\n      <td>34</td>\n      <td>7</td>\n      <td>22</td>\n      <td>5</td>\n      <td>0</td>\n      <td>Thermopolis, Wyoming</td>\n    </tr>\n    <tr>\n      <th>8102</th>\n      <td>Wyoming</td>\n      <td>Torrington</td>\n      <td>6,709</td>\n      <td>13</td>\n      <td>0.0</td>\n      <td>4</td>\n      <td>1</td>\n      <td>8</td>\n      <td>48</td>\n      <td>8</td>\n      <td>40</td>\n      <td>0</td>\n      <td>0</td>\n      <td>Torrington, Wyoming</td>\n    </tr>\n    <tr>\n      <th>8103</th>\n      <td>Wyoming</td>\n      <td>Wheatland</td>\n      <td>3,544</td>\n      <td>7</td>\n      <td>0.0</td>\n      <td>1</td>\n      <td>0</td>\n      <td>6</td>\n      <td>72</td>\n      <td>24</td>\n      <td>45</td>\n      <td>3</td>\n      <td>0</td>\n      <td>Wheatland, Wyoming</td>\n    </tr>\n    <tr>\n      <th>8104</th>\n      <td>Wyoming</td>\n      <td>Worland</td>\n      <td>5,026</td>\n      <td>8</td>\n      <td>0.0</td>\n      <td>5</td>\n      <td>0</td>\n      <td>3</td>\n      <td>36</td>\n      <td>6</td>\n      <td>30</td>\n      <td>0</td>\n      <td>0</td>\n      <td>Worland, Wyoming</td>\n    </tr>\n  </tbody>\n</table>\n<p>8105 rows × 14 columns</p>\n</div>"
     },
     "metadata": {},
     "execution_count": 53
    }
   ],
   "source": [
    "# Make new Location column with City and State data, so the data can be joineed with the other data on this column\n",
    "\n",
    "crime['Location'] = crime['City'] + ',' + ' ' + crime['State']\n",
    "crime\n",
    "\n",
    "# Consider adding Alabama crime data from 2018"
   ]
  },
  {
   "cell_type": "code",
   "execution_count": null,
   "metadata": {},
   "outputs": [],
   "source": [
    "# When wrangling is done here, combine tables and push data to PG DB"
   ]
  }
 ]
}