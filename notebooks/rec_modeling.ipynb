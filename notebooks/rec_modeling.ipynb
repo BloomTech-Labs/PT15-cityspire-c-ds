{
 "metadata": {
  "language_info": {
   "codemirror_mode": {
    "name": "ipython",
    "version": 3
   },
   "file_extension": ".py",
   "mimetype": "text/x-python",
   "name": "python",
   "nbconvert_exporter": "python",
   "pygments_lexer": "ipython3",
   "version": "3.8.5-final"
  },
  "orig_nbformat": 2,
  "kernelspec": {
   "name": "python3",
   "display_name": "Python 3",
   "language": "python"
  }
 },
 "nbformat": 4,
 "nbformat_minor": 2,
 "cells": [
  {
   "cell_type": "code",
   "execution_count": 1,
   "metadata": {},
   "outputs": [],
   "source": [
    "# MACHINE LEARNNG (in upcoming notebook)\n",
    "# - Vectorize data\n",
    "# - Train nearest neighbors model on city/state, pop, rent, and crime data\n",
    "# - Make model into a function\n",
    "# - Use function to make a recommendation of Location based on population, rent, crime rate\n",
    "# - Check to see if recommendation matches well with data. If so:\n",
    "# - Pickle the model and it is ready to be put into API and tested with Web/iOS\n",
    "# - Once these steps are completed and working, we will also incorporate walkability and livability score in Release 2.\n",
    "# - When walkability and livability scores are also included and working well in the model, we welcome and further additions to the model, granted the data is from 2019 (otherwise we can include a disclaimer, or we push all of the data used back to 2018, for example, as long as the data all comes from the same year)\n",
    "\n",
    "# STRETCH GOALS\n",
    "# - add more data that fit team's user stories\n",
    "# - attempt forecasting using data from 2010-2020\n",
    "# - try fb prophet model among other time series models and techniques\n",
    "# - be in conversation with engineers"
   ]
  },
  {
   "cell_type": "code",
   "execution_count": 2,
   "metadata": {},
   "outputs": [
    {
     "output_type": "execute_result",
     "data": {
      "text/plain": [
       "(1626, 25)"
      ]
     },
     "metadata": {},
     "execution_count": 2
    }
   ],
   "source": [
    "import pandas as pd\n",
    "\n",
    "# (prcb is an abbreviation for population_rent_crime_bins)\n",
    "\n",
    "prcb = pd.read_csv(\"pop_rent_crime_bins.csv\")\n",
    "prcb.shape"
   ]
  },
  {
   "cell_type": "code",
   "execution_count": 3,
   "metadata": {},
   "outputs": [
    {
     "output_type": "execute_result",
     "data": {
      "text/plain": [
       "   Unnamed: 0          Location  2019 Population Town or City  \\\n",
       "0           0  Phoenix, Arizona          1680992         city   \n",
       "1           1  Phoenix, Arizona          1680992         city   \n",
       "2           2  Phoenix, Arizona          1680992         city   \n",
       "3           3  Phoenix, Arizona          1680992         city   \n",
       "4           4  Phoenix, Arizona          1680992         city   \n",
       "\n",
       "   2019 Rental Rates    State     City  Population  Violent crime  \\\n",
       "0               1424  Arizona  Phoenix     1688722          11803   \n",
       "1               1522  Arizona  Phoenix     1688722          11803   \n",
       "2               1461  Arizona  Phoenix     1688722          11803   \n",
       "3               1549  Arizona  Phoenix     1688722          11803   \n",
       "4               1611  Arizona  Phoenix     1688722          11803   \n",
       "\n",
       "   Murder and nonnegligent manslaughter  ...  Larceny-theft  \\\n",
       "0                                   131  ...          39427   \n",
       "1                                   131  ...          39427   \n",
       "2                                   131  ...          39427   \n",
       "3                                   131  ...          39427   \n",
       "4                                   131  ...          39427   \n",
       "\n",
       "   Motor vehicle theft  Arson     Crime Rate  \\\n",
       "0                 7076    201  108038.919372   \n",
       "1                 7076    201  108038.919372   \n",
       "2                 7076    201  108038.919372   \n",
       "3                 7076    201  108038.919372   \n",
       "4                 7076    201  108038.919372   \n",
       "\n",
       "   Urban Population by City Size Categories  \\\n",
       "0                   Large Metropolitan Area   \n",
       "1                   Large Metropolitan Area   \n",
       "2                   Large Metropolitan Area   \n",
       "3                   Large Metropolitan Area   \n",
       "4                   Large Metropolitan Area   \n",
       "\n",
       "   Urban Population by City Size Ranges  Rental Rate Categories  \\\n",
       "0                           1,500,000 <            Average Rent   \n",
       "1                           1,500,000 <            Average Rent   \n",
       "2                           1,500,000 <            Average Rent   \n",
       "3                           1,500,000 <            Average Rent   \n",
       "4                           1,500,000 <             Higher Rent   \n",
       "\n",
       "   Rental Rate Ranges  Crime Rate Categories Crime Rate Ranges  \n",
       "0     $1,294.50-1,549           Higher Crime   107,943-111,135  \n",
       "1     $1,294.50-1,549           Higher Crime   107,943-111,135  \n",
       "2     $1,294.50-1,549           Higher Crime   107,943-111,135  \n",
       "3     $1,294.50-1,549           Higher Crime   107,943-111,135  \n",
       "4     $1,549-1,891.50           Higher Crime   107,943-111,135  \n",
       "\n",
       "[5 rows x 25 columns]"
      ],
      "text/html": "<div>\n<style scoped>\n    .dataframe tbody tr th:only-of-type {\n        vertical-align: middle;\n    }\n\n    .dataframe tbody tr th {\n        vertical-align: top;\n    }\n\n    .dataframe thead th {\n        text-align: right;\n    }\n</style>\n<table border=\"1\" class=\"dataframe\">\n  <thead>\n    <tr style=\"text-align: right;\">\n      <th></th>\n      <th>Unnamed: 0</th>\n      <th>Location</th>\n      <th>2019 Population</th>\n      <th>Town or City</th>\n      <th>2019 Rental Rates</th>\n      <th>State</th>\n      <th>City</th>\n      <th>Population</th>\n      <th>Violent crime</th>\n      <th>Murder and nonnegligent manslaughter</th>\n      <th>...</th>\n      <th>Larceny-theft</th>\n      <th>Motor vehicle theft</th>\n      <th>Arson</th>\n      <th>Crime Rate</th>\n      <th>Urban Population by City Size Categories</th>\n      <th>Urban Population by City Size Ranges</th>\n      <th>Rental Rate Categories</th>\n      <th>Rental Rate Ranges</th>\n      <th>Crime Rate Categories</th>\n      <th>Crime Rate Ranges</th>\n    </tr>\n  </thead>\n  <tbody>\n    <tr>\n      <th>0</th>\n      <td>0</td>\n      <td>Phoenix, Arizona</td>\n      <td>1680992</td>\n      <td>city</td>\n      <td>1424</td>\n      <td>Arizona</td>\n      <td>Phoenix</td>\n      <td>1688722</td>\n      <td>11803</td>\n      <td>131</td>\n      <td>...</td>\n      <td>39427</td>\n      <td>7076</td>\n      <td>201</td>\n      <td>108038.919372</td>\n      <td>Large Metropolitan Area</td>\n      <td>1,500,000 &lt;</td>\n      <td>Average Rent</td>\n      <td>$1,294.50-1,549</td>\n      <td>Higher Crime</td>\n      <td>107,943-111,135</td>\n    </tr>\n    <tr>\n      <th>1</th>\n      <td>1</td>\n      <td>Phoenix, Arizona</td>\n      <td>1680992</td>\n      <td>city</td>\n      <td>1522</td>\n      <td>Arizona</td>\n      <td>Phoenix</td>\n      <td>1688722</td>\n      <td>11803</td>\n      <td>131</td>\n      <td>...</td>\n      <td>39427</td>\n      <td>7076</td>\n      <td>201</td>\n      <td>108038.919372</td>\n      <td>Large Metropolitan Area</td>\n      <td>1,500,000 &lt;</td>\n      <td>Average Rent</td>\n      <td>$1,294.50-1,549</td>\n      <td>Higher Crime</td>\n      <td>107,943-111,135</td>\n    </tr>\n    <tr>\n      <th>2</th>\n      <td>2</td>\n      <td>Phoenix, Arizona</td>\n      <td>1680992</td>\n      <td>city</td>\n      <td>1461</td>\n      <td>Arizona</td>\n      <td>Phoenix</td>\n      <td>1688722</td>\n      <td>11803</td>\n      <td>131</td>\n      <td>...</td>\n      <td>39427</td>\n      <td>7076</td>\n      <td>201</td>\n      <td>108038.919372</td>\n      <td>Large Metropolitan Area</td>\n      <td>1,500,000 &lt;</td>\n      <td>Average Rent</td>\n      <td>$1,294.50-1,549</td>\n      <td>Higher Crime</td>\n      <td>107,943-111,135</td>\n    </tr>\n    <tr>\n      <th>3</th>\n      <td>3</td>\n      <td>Phoenix, Arizona</td>\n      <td>1680992</td>\n      <td>city</td>\n      <td>1549</td>\n      <td>Arizona</td>\n      <td>Phoenix</td>\n      <td>1688722</td>\n      <td>11803</td>\n      <td>131</td>\n      <td>...</td>\n      <td>39427</td>\n      <td>7076</td>\n      <td>201</td>\n      <td>108038.919372</td>\n      <td>Large Metropolitan Area</td>\n      <td>1,500,000 &lt;</td>\n      <td>Average Rent</td>\n      <td>$1,294.50-1,549</td>\n      <td>Higher Crime</td>\n      <td>107,943-111,135</td>\n    </tr>\n    <tr>\n      <th>4</th>\n      <td>4</td>\n      <td>Phoenix, Arizona</td>\n      <td>1680992</td>\n      <td>city</td>\n      <td>1611</td>\n      <td>Arizona</td>\n      <td>Phoenix</td>\n      <td>1688722</td>\n      <td>11803</td>\n      <td>131</td>\n      <td>...</td>\n      <td>39427</td>\n      <td>7076</td>\n      <td>201</td>\n      <td>108038.919372</td>\n      <td>Large Metropolitan Area</td>\n      <td>1,500,000 &lt;</td>\n      <td>Higher Rent</td>\n      <td>$1,549-1,891.50</td>\n      <td>Higher Crime</td>\n      <td>107,943-111,135</td>\n    </tr>\n  </tbody>\n</table>\n<p>5 rows × 25 columns</p>\n</div>"
     },
     "metadata": {},
     "execution_count": 3
    }
   ],
   "source": [
    "prcb.head()\n",
    "\n",
    "# We have multiple rows from the same city because there were multiple rental rates based on numerous locations within each city. We need to decide how to handle this. Averaging the rent values in a new column and getting rid of duplicates is one proposed solution."
   ]
  },
  {
   "cell_type": "code",
   "execution_count": 4,
   "metadata": {},
   "outputs": [
    {
     "output_type": "execute_result",
     "data": {
      "text/plain": [
       "Unnamed: 0                                   0\n",
       "Location                                     0\n",
       "2019 Population                              0\n",
       "Town or City                                 0\n",
       "2019 Rental Rates                            0\n",
       "State                                        0\n",
       "City                                         0\n",
       "Population                                   0\n",
       "Violent crime                                0\n",
       "Murder and nonnegligent manslaughter         0\n",
       "Rape                                         0\n",
       "Robbery                                      0\n",
       "Aggravated assault                           0\n",
       "Property crime                               0\n",
       "Burglary                                     0\n",
       "Larceny-theft                                0\n",
       "Motor vehicle theft                          0\n",
       "Arson                                        0\n",
       "Crime Rate                                   0\n",
       "Urban Population by City Size Categories     0\n",
       "Urban Population by City Size Ranges         0\n",
       "Rental Rate Categories                       0\n",
       "Rental Rate Ranges                           0\n",
       "Crime Rate Categories                       30\n",
       "Crime Rate Ranges                           30\n",
       "dtype: int64"
      ]
     },
     "metadata": {},
     "execution_count": 4
    }
   ],
   "source": [
    "prcb.isna().sum()\n",
    "\n",
    "# Crime Rate Categories and Crime Rate Ranges have 30 null values, they must not have fit into a bin. These will be dropped for now but can be investigated further."
   ]
  },
  {
   "cell_type": "code",
   "execution_count": 5,
   "metadata": {},
   "outputs": [
    {
     "output_type": "execute_result",
     "data": {
      "text/plain": [
       "68"
      ]
     },
     "metadata": {},
     "execution_count": 5
    }
   ],
   "source": [
    "# Unique number of Locations count\n",
    "\n",
    "prcb['Location'].nunique()"
   ]
  },
  {
   "cell_type": "code",
   "execution_count": 6,
   "metadata": {},
   "outputs": [],
   "source": [
    "# Drop the null values found in Crime Rate to see how it affects shape, currently at (1626, 25)\n",
    "\n",
    "prcb = prcb.dropna()"
   ]
  },
  {
   "cell_type": "code",
   "execution_count": 7,
   "metadata": {},
   "outputs": [
    {
     "output_type": "execute_result",
     "data": {
      "text/plain": [
       "67"
      ]
     },
     "metadata": {},
     "execution_count": 7
    }
   ],
   "source": [
    "# Unique number of Locations count\n",
    "\n",
    "prcb['Location'].nunique()\n",
    "\n",
    "# We only lose one Location"
   ]
  },
  {
   "cell_type": "code",
   "execution_count": 10,
   "metadata": {},
   "outputs": [],
   "source": [
    "# Imports for ML\n",
    "\n",
    "import re\n",
    "import string\n",
    "import matplotlib.pyplot as plt\n",
    "import numpy as np\n",
    "from sklearn.feature_extraction.text import CountVectorizer, TfidfVectorizer\n",
    "from sklearn.neighbors import NearestNeighbors"
   ]
  },
  {
   "cell_type": "code",
   "execution_count": 14,
   "metadata": {},
   "outputs": [],
   "source": [
    "# Combine all text columns into one:\n",
    "\n",
    "# Urban Population by City Size Categories,\tRental Rate Categories, Crime Rate Categories\n",
    "\n",
    "prcb['population_rent_crime'] = prcb[\"Urban Population by City Size Categories\"] + ' ' + prcb[\"Rental Rate Categories\"] + ' ' + prcb['Crime Rate Categories']"
   ]
  },
  {
   "cell_type": "code",
   "execution_count": 15,
   "metadata": {},
   "outputs": [
    {
     "output_type": "execute_result",
     "data": {
      "text/plain": [
       "   Unnamed: 0          Location  2019 Population Town or City  \\\n",
       "0           0  Phoenix, Arizona          1680992         city   \n",
       "1           1  Phoenix, Arizona          1680992         city   \n",
       "2           2  Phoenix, Arizona          1680992         city   \n",
       "3           3  Phoenix, Arizona          1680992         city   \n",
       "4           4  Phoenix, Arizona          1680992         city   \n",
       "\n",
       "   2019 Rental Rates    State     City  Population  Violent crime  \\\n",
       "0               1424  Arizona  Phoenix     1688722          11803   \n",
       "1               1522  Arizona  Phoenix     1688722          11803   \n",
       "2               1461  Arizona  Phoenix     1688722          11803   \n",
       "3               1549  Arizona  Phoenix     1688722          11803   \n",
       "4               1611  Arizona  Phoenix     1688722          11803   \n",
       "\n",
       "   Murder and nonnegligent manslaughter  ...  Motor vehicle theft  Arson  \\\n",
       "0                                   131  ...                 7076    201   \n",
       "1                                   131  ...                 7076    201   \n",
       "2                                   131  ...                 7076    201   \n",
       "3                                   131  ...                 7076    201   \n",
       "4                                   131  ...                 7076    201   \n",
       "\n",
       "      Crime Rate  Urban Population by City Size Categories  \\\n",
       "0  108038.919372                   Large Metropolitan Area   \n",
       "1  108038.919372                   Large Metropolitan Area   \n",
       "2  108038.919372                   Large Metropolitan Area   \n",
       "3  108038.919372                   Large Metropolitan Area   \n",
       "4  108038.919372                   Large Metropolitan Area   \n",
       "\n",
       "   Urban Population by City Size Ranges  Rental Rate Categories  \\\n",
       "0                           1,500,000 <            Average Rent   \n",
       "1                           1,500,000 <            Average Rent   \n",
       "2                           1,500,000 <            Average Rent   \n",
       "3                           1,500,000 <            Average Rent   \n",
       "4                           1,500,000 <             Higher Rent   \n",
       "\n",
       "   Rental Rate Ranges  Crime Rate Categories  Crime Rate Ranges  \\\n",
       "0     $1,294.50-1,549           Higher Crime    107,943-111,135   \n",
       "1     $1,294.50-1,549           Higher Crime    107,943-111,135   \n",
       "2     $1,294.50-1,549           Higher Crime    107,943-111,135   \n",
       "3     $1,294.50-1,549           Higher Crime    107,943-111,135   \n",
       "4     $1,549-1,891.50           Higher Crime    107,943-111,135   \n",
       "\n",
       "                               population_rent_crime  \n",
       "0  Large Metropolitan Area Average Rent Higher Crime  \n",
       "1  Large Metropolitan Area Average Rent Higher Crime  \n",
       "2  Large Metropolitan Area Average Rent Higher Crime  \n",
       "3  Large Metropolitan Area Average Rent Higher Crime  \n",
       "4   Large Metropolitan Area Higher Rent Higher Crime  \n",
       "\n",
       "[5 rows x 26 columns]"
      ],
      "text/html": "<div>\n<style scoped>\n    .dataframe tbody tr th:only-of-type {\n        vertical-align: middle;\n    }\n\n    .dataframe tbody tr th {\n        vertical-align: top;\n    }\n\n    .dataframe thead th {\n        text-align: right;\n    }\n</style>\n<table border=\"1\" class=\"dataframe\">\n  <thead>\n    <tr style=\"text-align: right;\">\n      <th></th>\n      <th>Unnamed: 0</th>\n      <th>Location</th>\n      <th>2019 Population</th>\n      <th>Town or City</th>\n      <th>2019 Rental Rates</th>\n      <th>State</th>\n      <th>City</th>\n      <th>Population</th>\n      <th>Violent crime</th>\n      <th>Murder and nonnegligent manslaughter</th>\n      <th>...</th>\n      <th>Motor vehicle theft</th>\n      <th>Arson</th>\n      <th>Crime Rate</th>\n      <th>Urban Population by City Size Categories</th>\n      <th>Urban Population by City Size Ranges</th>\n      <th>Rental Rate Categories</th>\n      <th>Rental Rate Ranges</th>\n      <th>Crime Rate Categories</th>\n      <th>Crime Rate Ranges</th>\n      <th>population_rent_crime</th>\n    </tr>\n  </thead>\n  <tbody>\n    <tr>\n      <th>0</th>\n      <td>0</td>\n      <td>Phoenix, Arizona</td>\n      <td>1680992</td>\n      <td>city</td>\n      <td>1424</td>\n      <td>Arizona</td>\n      <td>Phoenix</td>\n      <td>1688722</td>\n      <td>11803</td>\n      <td>131</td>\n      <td>...</td>\n      <td>7076</td>\n      <td>201</td>\n      <td>108038.919372</td>\n      <td>Large Metropolitan Area</td>\n      <td>1,500,000 &lt;</td>\n      <td>Average Rent</td>\n      <td>$1,294.50-1,549</td>\n      <td>Higher Crime</td>\n      <td>107,943-111,135</td>\n      <td>Large Metropolitan Area Average Rent Higher Crime</td>\n    </tr>\n    <tr>\n      <th>1</th>\n      <td>1</td>\n      <td>Phoenix, Arizona</td>\n      <td>1680992</td>\n      <td>city</td>\n      <td>1522</td>\n      <td>Arizona</td>\n      <td>Phoenix</td>\n      <td>1688722</td>\n      <td>11803</td>\n      <td>131</td>\n      <td>...</td>\n      <td>7076</td>\n      <td>201</td>\n      <td>108038.919372</td>\n      <td>Large Metropolitan Area</td>\n      <td>1,500,000 &lt;</td>\n      <td>Average Rent</td>\n      <td>$1,294.50-1,549</td>\n      <td>Higher Crime</td>\n      <td>107,943-111,135</td>\n      <td>Large Metropolitan Area Average Rent Higher Crime</td>\n    </tr>\n    <tr>\n      <th>2</th>\n      <td>2</td>\n      <td>Phoenix, Arizona</td>\n      <td>1680992</td>\n      <td>city</td>\n      <td>1461</td>\n      <td>Arizona</td>\n      <td>Phoenix</td>\n      <td>1688722</td>\n      <td>11803</td>\n      <td>131</td>\n      <td>...</td>\n      <td>7076</td>\n      <td>201</td>\n      <td>108038.919372</td>\n      <td>Large Metropolitan Area</td>\n      <td>1,500,000 &lt;</td>\n      <td>Average Rent</td>\n      <td>$1,294.50-1,549</td>\n      <td>Higher Crime</td>\n      <td>107,943-111,135</td>\n      <td>Large Metropolitan Area Average Rent Higher Crime</td>\n    </tr>\n    <tr>\n      <th>3</th>\n      <td>3</td>\n      <td>Phoenix, Arizona</td>\n      <td>1680992</td>\n      <td>city</td>\n      <td>1549</td>\n      <td>Arizona</td>\n      <td>Phoenix</td>\n      <td>1688722</td>\n      <td>11803</td>\n      <td>131</td>\n      <td>...</td>\n      <td>7076</td>\n      <td>201</td>\n      <td>108038.919372</td>\n      <td>Large Metropolitan Area</td>\n      <td>1,500,000 &lt;</td>\n      <td>Average Rent</td>\n      <td>$1,294.50-1,549</td>\n      <td>Higher Crime</td>\n      <td>107,943-111,135</td>\n      <td>Large Metropolitan Area Average Rent Higher Crime</td>\n    </tr>\n    <tr>\n      <th>4</th>\n      <td>4</td>\n      <td>Phoenix, Arizona</td>\n      <td>1680992</td>\n      <td>city</td>\n      <td>1611</td>\n      <td>Arizona</td>\n      <td>Phoenix</td>\n      <td>1688722</td>\n      <td>11803</td>\n      <td>131</td>\n      <td>...</td>\n      <td>7076</td>\n      <td>201</td>\n      <td>108038.919372</td>\n      <td>Large Metropolitan Area</td>\n      <td>1,500,000 &lt;</td>\n      <td>Higher Rent</td>\n      <td>$1,549-1,891.50</td>\n      <td>Higher Crime</td>\n      <td>107,943-111,135</td>\n      <td>Large Metropolitan Area Higher Rent Higher Crime</td>\n    </tr>\n  </tbody>\n</table>\n<p>5 rows × 26 columns</p>\n</div>"
     },
     "metadata": {},
     "execution_count": 15
    }
   ],
   "source": [
    "# Verify changes\n",
    "\n",
    "prcb.head()"
   ]
  },
  {
   "cell_type": "code",
   "execution_count": 16,
   "metadata": {},
   "outputs": [],
   "source": [
    "# Instantiate Vectorizer \n",
    "\n",
    "tfidf = TfidfVectorizer(stop_words = 'english',ngram_range = (1,2),max_features = 2000)"
   ]
  },
  {
   "cell_type": "code",
   "execution_count": 17,
   "metadata": {},
   "outputs": [],
   "source": [
    "# Instantiate Document-Term Matrix\n",
    "\n",
    "dtm = tfidf.fit_transform(prcb['population_rent_crime'])\n",
    "dtm = pd.DataFrame(dtm.todense(), columns=tfidf.get_feature_names())"
   ]
  },
  {
   "cell_type": "code",
   "execution_count": 18,
   "metadata": {},
   "outputs": [],
   "source": [
    "# Instantiate Nearest Neighbors Model\n",
    "\n",
    "nn = NearestNeighbors(n_neighbors=4, algorithm='kd_tree')"
   ]
  },
  {
   "cell_type": "code",
   "execution_count": 19,
   "metadata": {},
   "outputs": [
    {
     "output_type": "execute_result",
     "data": {
      "text/plain": [
       "NearestNeighbors(algorithm='kd_tree', n_neighbors=4)"
      ]
     },
     "metadata": {},
     "execution_count": 19
    }
   ],
   "source": [
    "# Fit Nearest Neighbors Model\n",
    "\n",
    "nn.fit(dtm)"
   ]
  },
  {
   "cell_type": "code",
   "execution_count": 22,
   "metadata": {},
   "outputs": [
    {
     "output_type": "stream",
     "name": "stdout",
     "text": [
      "(1596, 38)\n"
     ]
    },
    {
     "output_type": "execute_result",
     "data": {
      "text/plain": [
       "       area  area average  area higher  area highest  area low   average  \\\n",
       "0  0.147387      0.350478     0.000000           0.0       0.0  0.278346   \n",
       "1  0.147387      0.350478     0.000000           0.0       0.0  0.278346   \n",
       "2  0.147387      0.350478     0.000000           0.0       0.0  0.278346   \n",
       "3  0.147387      0.350478     0.000000           0.0       0.0  0.278346   \n",
       "4  0.140418      0.000000     0.333906           0.0       0.0  0.000000   \n",
       "\n",
       "   average crime  average rent     crime    higher  ...  rent highest  \\\n",
       "0            0.0      0.350478  0.147295  0.244404  ...           0.0   \n",
       "1            0.0      0.350478  0.147295  0.244404  ...           0.0   \n",
       "2            0.0      0.350478  0.147295  0.244404  ...           0.0   \n",
       "3            0.0      0.350478  0.147295  0.244404  ...           0.0   \n",
       "4            0.0      0.000000  0.140330  0.465696  ...           0.0   \n",
       "\n",
       "   rent lowest  size  size urban  small  small urban  town  town low  urban  \\\n",
       "0          0.0   0.0         0.0    0.0          0.0   0.0       0.0    0.0   \n",
       "1          0.0   0.0         0.0    0.0          0.0   0.0       0.0    0.0   \n",
       "2          0.0   0.0         0.0    0.0          0.0   0.0       0.0    0.0   \n",
       "3          0.0   0.0         0.0    0.0          0.0   0.0       0.0    0.0   \n",
       "4          0.0   0.0         0.0    0.0          0.0   0.0       0.0    0.0   \n",
       "\n",
       "   urban area  \n",
       "0         0.0  \n",
       "1         0.0  \n",
       "2         0.0  \n",
       "3         0.0  \n",
       "4         0.0  \n",
       "\n",
       "[5 rows x 38 columns]"
      ],
      "text/html": "<div>\n<style scoped>\n    .dataframe tbody tr th:only-of-type {\n        vertical-align: middle;\n    }\n\n    .dataframe tbody tr th {\n        vertical-align: top;\n    }\n\n    .dataframe thead th {\n        text-align: right;\n    }\n</style>\n<table border=\"1\" class=\"dataframe\">\n  <thead>\n    <tr style=\"text-align: right;\">\n      <th></th>\n      <th>area</th>\n      <th>area average</th>\n      <th>area higher</th>\n      <th>area highest</th>\n      <th>area low</th>\n      <th>average</th>\n      <th>average crime</th>\n      <th>average rent</th>\n      <th>crime</th>\n      <th>higher</th>\n      <th>...</th>\n      <th>rent highest</th>\n      <th>rent lowest</th>\n      <th>size</th>\n      <th>size urban</th>\n      <th>small</th>\n      <th>small urban</th>\n      <th>town</th>\n      <th>town low</th>\n      <th>urban</th>\n      <th>urban area</th>\n    </tr>\n  </thead>\n  <tbody>\n    <tr>\n      <th>0</th>\n      <td>0.147387</td>\n      <td>0.350478</td>\n      <td>0.000000</td>\n      <td>0.0</td>\n      <td>0.0</td>\n      <td>0.278346</td>\n      <td>0.0</td>\n      <td>0.350478</td>\n      <td>0.147295</td>\n      <td>0.244404</td>\n      <td>...</td>\n      <td>0.0</td>\n      <td>0.0</td>\n      <td>0.0</td>\n      <td>0.0</td>\n      <td>0.0</td>\n      <td>0.0</td>\n      <td>0.0</td>\n      <td>0.0</td>\n      <td>0.0</td>\n      <td>0.0</td>\n    </tr>\n    <tr>\n      <th>1</th>\n      <td>0.147387</td>\n      <td>0.350478</td>\n      <td>0.000000</td>\n      <td>0.0</td>\n      <td>0.0</td>\n      <td>0.278346</td>\n      <td>0.0</td>\n      <td>0.350478</td>\n      <td>0.147295</td>\n      <td>0.244404</td>\n      <td>...</td>\n      <td>0.0</td>\n      <td>0.0</td>\n      <td>0.0</td>\n      <td>0.0</td>\n      <td>0.0</td>\n      <td>0.0</td>\n      <td>0.0</td>\n      <td>0.0</td>\n      <td>0.0</td>\n      <td>0.0</td>\n    </tr>\n    <tr>\n      <th>2</th>\n      <td>0.147387</td>\n      <td>0.350478</td>\n      <td>0.000000</td>\n      <td>0.0</td>\n      <td>0.0</td>\n      <td>0.278346</td>\n      <td>0.0</td>\n      <td>0.350478</td>\n      <td>0.147295</td>\n      <td>0.244404</td>\n      <td>...</td>\n      <td>0.0</td>\n      <td>0.0</td>\n      <td>0.0</td>\n      <td>0.0</td>\n      <td>0.0</td>\n      <td>0.0</td>\n      <td>0.0</td>\n      <td>0.0</td>\n      <td>0.0</td>\n      <td>0.0</td>\n    </tr>\n    <tr>\n      <th>3</th>\n      <td>0.147387</td>\n      <td>0.350478</td>\n      <td>0.000000</td>\n      <td>0.0</td>\n      <td>0.0</td>\n      <td>0.278346</td>\n      <td>0.0</td>\n      <td>0.350478</td>\n      <td>0.147295</td>\n      <td>0.244404</td>\n      <td>...</td>\n      <td>0.0</td>\n      <td>0.0</td>\n      <td>0.0</td>\n      <td>0.0</td>\n      <td>0.0</td>\n      <td>0.0</td>\n      <td>0.0</td>\n      <td>0.0</td>\n      <td>0.0</td>\n      <td>0.0</td>\n    </tr>\n    <tr>\n      <th>4</th>\n      <td>0.140418</td>\n      <td>0.000000</td>\n      <td>0.333906</td>\n      <td>0.0</td>\n      <td>0.0</td>\n      <td>0.000000</td>\n      <td>0.0</td>\n      <td>0.000000</td>\n      <td>0.140330</td>\n      <td>0.465696</td>\n      <td>...</td>\n      <td>0.0</td>\n      <td>0.0</td>\n      <td>0.0</td>\n      <td>0.0</td>\n      <td>0.0</td>\n      <td>0.0</td>\n      <td>0.0</td>\n      <td>0.0</td>\n      <td>0.0</td>\n      <td>0.0</td>\n    </tr>\n  </tbody>\n</table>\n<p>5 rows × 38 columns</p>\n</div>"
     },
     "metadata": {},
     "execution_count": 22
    }
   ],
   "source": [
    "# View Feature Matrix as DataFrame\n",
    "\n",
    "print(dtm.shape)\n",
    "dtm.head()"
   ]
  },
  {
   "cell_type": "code",
   "execution_count": 23,
   "metadata": {},
   "outputs": [],
   "source": [
    "import pickle\n",
    "\n",
    "# Dump the trained classifier (nn) with Pickle\n",
    "\n",
    "nn_pickle_filename = 'nn_model.pkl'\n",
    "pickled_model = open(nn_pickle_filename, 'wb')  # Open the file to save as pkl file\n",
    "pickle.dump(nn, pickled_model)\n",
    "pickled_model.close() # Close the pickle instances"
   ]
  },
  {
   "cell_type": "code",
   "execution_count": 24,
   "metadata": {},
   "outputs": [
    {
     "output_type": "stream",
     "name": "stdout",
     "text": [
      "Loaded model ::  NearestNeighbors(algorithm='kd_tree', n_neighbors=4)\n"
     ]
    }
   ],
   "source": [
    "# Load the saved model\n",
    "\n",
    "model_pkl = open(nn_pickle_filename, 'rb')\n",
    "NN_model = pickle.load(model_pkl)\n",
    "print (\"Loaded model :: \", NN_model)  # print to verify"
   ]
  },
  {
   "cell_type": "code",
   "execution_count": 25,
   "metadata": {},
   "outputs": [],
   "source": [
    "# Dump the trained classifier (tfidf) with Pickle\n",
    "\n",
    "tfidf_pickle_filename = 'tfidf.pkl'\n",
    "pickled_tfidf = open(tfidf_pickle_filename, 'wb')  # Open the file to save as pkl file\n",
    "pickle.dump(tfidf, pickled_tfidf)\n",
    "pickled_tfidf.close() # Close the pickle instances"
   ]
  },
  {
   "cell_type": "code",
   "execution_count": 26,
   "metadata": {},
   "outputs": [
    {
     "output_type": "stream",
     "name": "stdout",
     "text": [
      "Loaded model ::  TfidfVectorizer(max_features=2000, ngram_range=(1, 2), stop_words='english')\n"
     ]
    }
   ],
   "source": [
    "# Loading the saved model\n",
    "\n",
    "tfidf_pkl = open(tfidf_pickle_filename , 'rb')\n",
    "tfidf_model = pickle.load(tfidf_pkl)\n",
    "print (\"Loaded model :: \", tfidf_model)  # print to verify"
   ]
  },
  {
   "cell_type": "code",
   "execution_count": 46,
   "metadata": {},
   "outputs": [
    {
     "output_type": "execute_result",
     "data": {
      "text/plain": [
       "Unnamed: 0                                    int64\n",
       "Location                                     object\n",
       "2019 Population                               int64\n",
       "Town or City                                 object\n",
       "2019 Rental Rates                             int64\n",
       "State                                        object\n",
       "City                                         object\n",
       "Population                                    int64\n",
       "Violent crime                                 int64\n",
       "Murder and nonnegligent manslaughter          int64\n",
       "Rape                                          int64\n",
       "Robbery                                       int64\n",
       "Aggravated assault                            int64\n",
       "Property crime                                int64\n",
       "Burglary                                      int64\n",
       "Larceny-theft                                 int64\n",
       "Motor vehicle theft                           int64\n",
       "Arson                                         int64\n",
       "Crime Rate                                  float64\n",
       "Urban Population by City Size Categories     object\n",
       "Urban Population by City Size Ranges         object\n",
       "Rental Rate Categories                       object\n",
       "Rental Rate Ranges                           object\n",
       "Crime Rate Categories                        object\n",
       "Crime Rate Ranges                            object\n",
       "population_rent_crime                        object\n",
       "dtype: object"
      ]
     },
     "metadata": {},
     "execution_count": 46
    }
   ],
   "source": [
    "#TypeError: Object of type int64 is not JSON serializable, so convert to ints below in the function\n",
    "\n",
    "prcb.dtypes"
   ]
  },
  {
   "cell_type": "code",
   "execution_count": 47,
   "metadata": {},
   "outputs": [],
   "source": [
    "# Recommend Function\n",
    "\n",
    "import json\n",
    "\n",
    "\n",
    "try:\n",
    "\n",
    "    def recommend(user_input):\n",
    "        temp_df = NN_model.kneighbors(tfidf_model.transform([user_input]).todense())[1]\n",
    "    \n",
    "\n",
    "    #print(temp_df)\n",
    "\n",
    "    #TypeError: Object of type int64 is not JSON serializable\n",
    "\n",
    "        for i in range(4):\n",
    "            info = prcb.iloc[temp_df[0][i]]['Location']\n",
    "            info_pop = prcb.iloc[temp_df[0][i]]['2019 Population']\n",
    "            info_town_or_city = prcb.iloc[temp_df[0][i]]['Town or City']\n",
    "            info_rent = prcb.iloc[temp_df[0][i]]['2019 Rental Rates']\n",
    "            info_state = prcb.iloc[temp_df[0][i]]['State']\n",
    "            info_city = prcb.iloc[temp_df[0][i]]['City']\n",
    "            info_population = prcb.iloc[temp_df[0][i]]['Population']\n",
    "            info_violent_crime = prcb.iloc[temp_df[0][i]]['Violent crime']\n",
    "            info_murder = prcb.iloc[temp_df[0][i]]['Murder and nonnegligent manslaughter']\n",
    "            info_vehicle_theft = prcb.iloc[temp_df[0][i]]['Motor vehicle theft']\n",
    "            info_arson = prcb.iloc[temp_df[0][i]]['Arson']\n",
    "            info_crime_rate = prcb.iloc[temp_df[0][i]]['Crime Rate']\n",
    "            info_urb_pop_cat = prcb.iloc[temp_df[0][i]]['Urban Population by City Size Categories']\n",
    "            info_urb_pop_rang = prcb.iloc[temp_df[0][i]]['Urban Population by City Size Ranges']\n",
    "            info_rent_cat = prcb.iloc[temp_df[0][i]]['Rental Rate Categories']\n",
    "            info_rent_rang = prcb.iloc[temp_df[0][i]]['Rental Rate Ranges']\n",
    "            info_crime_cat = prcb.iloc[temp_df[0][i]]['Crime Rate Categories']\n",
    "            info_crime_rang = prcb.iloc[temp_df[0][i]]['Crime Rate Categories']\n",
    "            \n",
    "            print(json.dumps(info))\n",
    "            print(json.dumps(int(info_pop)))\n",
    "            print(json.dumps(info_town_or_city))\n",
    "            print(json.dumps(int(info_rent)))\n",
    "            print(json.dumps(info_state))\n",
    "            print(json.dumps(info_city))\n",
    "            print(json.dumps(int(info_population))) \n",
    "            print(json.dumps(int(info_violent_crime)))\n",
    "            print(json.dumps(int(info_murder)))\n",
    "            print(json.dumps(int(info_vehicle_theft)))\n",
    "            print(json.dumps(int(info_arson)))\n",
    "            print(json.dumps(int(info_crime_rate)))\n",
    "            print(json.dumps(info_urb_pop_cat)) \n",
    "            print(json.dumps(info_urb_pop_rang))\n",
    "            print(json.dumps(info_rent_cat)) \n",
    "            print(json.dumps(info_rent_rang))\n",
    "            print(json.dumps(info_crime_cat)) \n",
    "            print(json.dumps(info_crime_rang))\n",
    "            \n",
    "            # This is for the data engineers, the return does not work in jupyter lab.  \n",
    "            # Should work in VScode, or elsewhere for production.\n",
    "    \n",
    "            #return json.dumps(info))\n",
    "            #return json.dumps(int(info_pop)))\n",
    "            #return json.dumps(info_town_or_city))\n",
    "            #return json.dumps(int(info_rent)))\n",
    "            #return json.dumps(info_state))\n",
    "            #return json.dumps(info_city))\n",
    "            #return json.dumps(int(info_population))) \n",
    "            #return json.dumps(int(info_violent_crime)))\n",
    "            #return json.dumps(int(info_murder)))\n",
    "            #return json.dumps(int(info_vehicle_theft)))\n",
    "            #return json.dumps(int(info_arson)))\n",
    "            #return json.dumps(int(info_crime_rate)))\n",
    "            #return json.dumps(info_urb_pop_cat)) \n",
    "            #return json.dumps(info_urb_pop_rang))\n",
    "            #return json.dumps(info_rent_cat)) \n",
    "            #return json.dumps(info_rent_rang))\n",
    "            #return json.dumps(info_crime_cat)) \n",
    "            #return json.dumps(info_crime_rang))\n",
    "\n",
    "\n",
    "        # Add all future column names\n",
    "\n",
    "except Exception:\n",
    "    pass"
   ]
  },
  {
   "cell_type": "code",
   "execution_count": 49,
   "metadata": {},
   "outputs": [
    {
     "output_type": "stream",
     "name": "stdout",
     "text": [
      "\"Seattle, Washington\"\n753675\n\"city\"\n1239\n\"Washington\"\n\"Seattle\"\n763706\n4471\n28\n3645\n98\n110174\n\"Metropolitan Area\"\n\"500,000-1,500,000\"\n\"Low Rent\"\n\"$581.99-1,294.50\"\n\"Higher Crime\"\n\"Higher Crime\"\n\"Austin, Texas\"\n978908\n\"city\"\n1240\n\"Texas\"\n\"Austin\"\n986062\n3953\n32\n3028\n103\n108233\n\"Metropolitan Area\"\n\"500,000-1,500,000\"\n\"Low Rent\"\n\"$581.99-1,294.50\"\n\"Higher Crime\"\n\"Higher Crime\"\n\"Austin, Texas\"\n978908\n\"city\"\n1264\n\"Texas\"\n\"Austin\"\n986062\n3953\n32\n3028\n103\n108233\n\"Metropolitan Area\"\n\"500,000-1,500,000\"\n\"Low Rent\"\n\"$581.99-1,294.50\"\n\"Higher Crime\"\n\"Higher Crime\"\n\"Oklahoma City, Oklahoma\"\n655057\n\"city\"\n1246\n\"Oklahoma\"\n\"Oklahoma City\"\n657890\n4751\n75\n3790\n96\n109642\n\"Metropolitan Area\"\n\"500,000-1,500,000\"\n\"Low Rent\"\n\"$581.99-1,294.50\"\n\"Higher Crime\"\n\"Higher Crime\"\n"
     ]
    }
   ],
   "source": [
    "recommend('low crime low rent low population')"
   ]
  }
 ]
}